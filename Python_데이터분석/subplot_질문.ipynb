{
 "cells": [
  {
   "cell_type": "code",
   "execution_count": 1,
   "id": "4146aa00-5e4c-4f41-abe3-0baea42e043b",
   "metadata": {},
   "outputs": [
    {
     "data": {
      "text/html": [
       "<div>\n",
       "<style scoped>\n",
       "    .dataframe tbody tr th:only-of-type {\n",
       "        vertical-align: middle;\n",
       "    }\n",
       "\n",
       "    .dataframe tbody tr th {\n",
       "        vertical-align: top;\n",
       "    }\n",
       "\n",
       "    .dataframe thead th {\n",
       "        text-align: right;\n",
       "    }\n",
       "</style>\n",
       "<table border=\"1\" class=\"dataframe\">\n",
       "  <thead>\n",
       "    <tr style=\"text-align: right;\">\n",
       "      <th></th>\n",
       "      <th>school</th>\n",
       "      <th>sex</th>\n",
       "      <th>age</th>\n",
       "      <th>address</th>\n",
       "      <th>famsize</th>\n",
       "      <th>Pstatus</th>\n",
       "      <th>Medu</th>\n",
       "      <th>Fedu</th>\n",
       "      <th>Mjob</th>\n",
       "      <th>Fjob</th>\n",
       "      <th>...</th>\n",
       "      <th>activities</th>\n",
       "      <th>internet</th>\n",
       "      <th>famrel</th>\n",
       "      <th>freetime</th>\n",
       "      <th>goout</th>\n",
       "      <th>Dalc</th>\n",
       "      <th>Walc</th>\n",
       "      <th>health</th>\n",
       "      <th>absences</th>\n",
       "      <th>G31</th>\n",
       "    </tr>\n",
       "  </thead>\n",
       "  <tbody>\n",
       "    <tr>\n",
       "      <th>0</th>\n",
       "      <td>GP</td>\n",
       "      <td>F</td>\n",
       "      <td>18</td>\n",
       "      <td>U</td>\n",
       "      <td>GT3</td>\n",
       "      <td>A</td>\n",
       "      <td>4</td>\n",
       "      <td>4</td>\n",
       "      <td>at_home</td>\n",
       "      <td>teacher</td>\n",
       "      <td>...</td>\n",
       "      <td>no</td>\n",
       "      <td>no</td>\n",
       "      <td>4</td>\n",
       "      <td>3</td>\n",
       "      <td>4</td>\n",
       "      <td>1</td>\n",
       "      <td>1</td>\n",
       "      <td>3</td>\n",
       "      <td>4</td>\n",
       "      <td>0</td>\n",
       "    </tr>\n",
       "  </tbody>\n",
       "</table>\n",
       "<p>1 rows × 26 columns</p>\n",
       "</div>"
      ],
      "text/plain": [
       "  school sex  age address famsize Pstatus  Medu  Fedu     Mjob     Fjob  ...  \\\n",
       "0     GP   F   18       U     GT3       A     4     4  at_home  teacher  ...   \n",
       "\n",
       "  activities  internet  famrel  freetime goout Dalc Walc health  absences  G31  \n",
       "0         no        no       4         3     4    1    1      3         4    0  \n",
       "\n",
       "[1 rows x 26 columns]"
      ]
     },
     "execution_count": 1,
     "metadata": {},
     "output_type": "execute_result"
    }
   ],
   "source": [
    "import pandas as pd\n",
    "import numpy as np\n",
    "import random as rd\n",
    "\n",
    "import matplotlib.pyplot as plt\n",
    "import seaborn as sns\n",
    "\n",
    "import scipy.stats as spst\n",
    "from statsmodels.graphics.mosaicplot import mosaic \n",
    "\n",
    "# student # 학업 성취도\n",
    "path = 'https://raw.githubusercontent.com/DA4BAM/dataset/master/student-por2.csv'\n",
    "student = pd.read_csv(path)\n",
    "student.head(1)"
   ]
  },
  {
   "cell_type": "code",
   "execution_count": 2,
   "id": "a0d90a9a-3033-452e-843c-f68889a688ca",
   "metadata": {},
   "outputs": [
    {
     "data": {
      "image/png": "[encoded data removed]",
      "text/plain": [
       "<Figure size 432x288 with 3 Axes>"
      ]
     },
     "metadata": {
      "needs_background": "light"
     },
     "output_type": "display_data"
    }
   ],
   "source": [
    "# 성별과 학업성취도\n",
    "mosaic(student, [ 'sex','G31'])\n",
    "plt.axhline(1- student['G31'].mean(), color = 'r')\n",
    "plt.show()"
   ]
  },
  {
   "cell_type": "code",
   "execution_count": 3,
   "id": "caa51b16-7a2c-4866-b721-826b1087c8ce",
   "metadata": {},
   "outputs": [
    {
     "data": {
      "image/png": "[encoded data removed]",
      "text/plain": [
       "<Figure size 432x288 with 3 Axes>"
      ]
     },
     "metadata": {
      "needs_background": "light"
     },
     "output_type": "display_data"
    }
   ],
   "source": [
    "# 아빠와 동거 여부와 학업성취도\n",
    "mosaic(student, [ 'Pstatus','G31'])\n",
    "plt.axhline(1- student['G31'].mean(), color = 'r')\n",
    "plt.show()"
   ]
  },
  {
   "cell_type": "code",
   "execution_count": 4,
   "id": "412c68e5-3b6d-48bc-9f54-e0c2f74291b4",
   "metadata": {},
   "outputs": [
    {
     "name": "stdout",
     "output_type": "stream",
     "text": [
      "S_P  p-value:  7.013634795295468e-05\n"
     ]
    }
   ],
   "source": [
    "# s + p 변수 합성\n",
    "student['S_P'] = student['sex'] + '_' + student['Pstatus']\n",
    "v = 'S_P'\n",
    "table = pd.crosstab(student['G31'], student[v])   \n",
    "result = spst.chi2_contingency(table)\n",
    "print(v, ' p-value: ', result[1])"
   ]
  },
  {
   "cell_type": "code",
   "execution_count": 5,
   "id": "88e4d28a-5a84-4ae3-b6be-d924d260da91",
   "metadata": {},
   "outputs": [
    {
     "data": {
      "image/png": "[encoded data removed]",
      "text/plain": [
       "<Figure size 432x288 with 3 Axes>"
      ]
     },
     "metadata": {
      "needs_background": "light"
     },
     "output_type": "display_data"
    }
   ],
   "source": [
    "# S_P와 학업성취도\n",
    "mosaic(student, [ 'S_P','G31'])\n",
    "plt.axhline(1- student['G31'].mean(), color = 'r')\n",
    "plt.show()"
   ]
  },
  {
   "cell_type": "code",
   "execution_count": 6,
   "id": "691b5745-bd9a-4000-9d92-f52962cbd256",
   "metadata": {},
   "outputs": [
    {
     "name": "stdout",
     "output_type": "stream",
     "text": [
      "sex         F         M\n",
      "G31                    \n",
      "0    0.522193  0.650376\n",
      "1    0.477807  0.349624\n",
      "------------------------------\n",
      "Pstatus     A         T\n",
      "G31                    \n",
      "0        0.55  0.578207\n",
      "1        0.45  0.421793\n",
      "------------------------------\n",
      "S_P      F_A       F_T       M_A       M_T\n",
      "G31                                       \n",
      "0    0.62963  0.504559  0.384615  0.679167\n",
      "1    0.37037  0.495441  0.615385  0.320833\n"
     ]
    }
   ],
   "source": [
    "# crosstab\n",
    "print(pd.crosstab(student['G31'], student['sex'], normalize='columns')) \n",
    "print('-'* 30)\n",
    "print(pd.crosstab(student['G31'], student['Pstatus'], normalize='columns'))\n",
    "print('-'* 30)\n",
    "print(pd.crosstab(student['G31'], student['S_P'], normalize='columns'))"
   ]
  },
  {
   "cell_type": "code",
   "execution_count": null,
   "id": "dad8433e-49c5-4d55-89d4-2db6770705e8",
   "metadata": {},
   "outputs": [],
   "source": [
    "# # 최종 시각화\n",
    "\n",
    "# plt.figure(figsize = (15,5))\n",
    "\n",
    "# plt.subplot(1,3,1)\n",
    "# mosaic(student, ['sex','G31'])\n",
    "# plt.axhline(1- student['G31'].mean(), color = 'r')\n",
    "\n",
    "# plt.subplot(1,3,2)\n",
    "# mosaic(student, ['Pstatus','G31'])\n",
    "# plt.axhline(1- student['G31'].mean(), color = 'r')\n",
    "\n",
    "# plt.subplot(1,3,3)\n",
    "# mosaic(student, ['S_P','G31'])\n",
    "# plt.axhline(1- student['G31'].mean(), color = 'r')\n",
    "\n",
    "# plt.show()\n"
   ]
  },
  {
   "cell_type": "code",
   "execution_count": 7,
   "id": "c04a8b72-6dc9-4215-a2f6-1851f58513bc",
   "metadata": {},
   "outputs": [
    {
     "data": {
      "image/png": "[encoded data removed]",
      "text/plain": [
       "<Figure size 432x288 with 3 Axes>"
      ]
     },
     "metadata": {
      "needs_background": "light"
     },
     "output_type": "display_data"
    },
    {
     "data": {
      "image/png": "[encoded data removed]",
      "text/plain": [
       "<Figure size 432x288 with 3 Axes>"
      ]
     },
     "metadata": {
      "needs_background": "light"
     },
     "output_type": "display_data"
    },
    {
     "data": {
      "image/png": "[encoded data removed]",
      "text/plain": [
       "<Figure size 432x288 with 3 Axes>"
      ]
     },
     "metadata": {
      "needs_background": "light"
     },
     "output_type": "display_data"
    }
   ],
   "source": [
    "mosaic(student, ['sex','G31'])\n",
    "plt.axhline(1- student['G31'].mean(), color = 'r')\n",
    "\n",
    "mosaic(student, ['Pstatus','G31'])\n",
    "plt.axhline(1- student['G31'].mean(), color = 'r')\n",
    "\n",
    "mosaic(student, [ 'S_P','G31'])\n",
    "plt.axhline(1- student['G31'].mean(), color = 'r')\n",
    "\n",
    "plt.show()"
   ]
  },
  {
   "cell_type": "code",
   "execution_count": null,
   "id": "21fc7be4-564a-4138-adb3-127cfc997b8b",
   "metadata": {},
   "outputs": [],
   "source": []
  }
 ],
 "metadata": {
  "kernelspec": {
   "display_name": "Python 3",
   "language": "python",
   "name": "python3"
  },
  "language_info": {
   "codemirror_mode": {
    "name": "ipython",
    "version": 3
   },
   "file_extension": ".py",
   "mimetype": "text/x-python",
   "name": "python",
   "nbconvert_exporter": "python",
   "pygments_lexer": "ipython3",
   "version": "3.8.8"
  }
 },
 "nbformat": 4,
 "nbformat_minor": 5
}
