{
 "cells": [
  {
   "cell_type": "markdown",
   "metadata": {
    "id": "EnlYouStN0Le"
   },
   "source": [
    "# 표본평균과 표본오차"
   ]
  },
  {
   "cell_type": "markdown",
   "metadata": {
    "id": "0SJP-uYxN0Lk"
   },
   "source": [
    "## 1.환경준비"
   ]
  },
  {
   "cell_type": "markdown",
   "metadata": {
    "id": "6dMK5CsEN0Lk"
   },
   "source": [
    "* 라이브러리 불러오기"
   ]
  },
  {
   "cell_type": "code",
   "execution_count": 27,
   "metadata": {
    "id": "Sma8Fku5N0Ll"
   },
   "outputs": [],
   "source": [
    "import pandas as pd\n",
    "import numpy as np\n",
    "import random as rd\n",
    "\n",
    "import matplotlib.pyplot as plt\n",
    "import seaborn as sns\n",
    "\n",
    "import scipy.stats as spst"
   ]
  },
  {
   "cell_type": "markdown",
   "metadata": {
    "id": "NCpMWLagN0Ln"
   },
   "source": [
    "* 데이터 불러오기 : 다음의 예제 데이터를 사용합니다.\n",
    "> 타이타닉 생존자"
   ]
  },
  {
   "cell_type": "markdown",
   "metadata": {
    "id": "LyXit-TSn-7m"
   },
   "source": [
    "|\t변수\t|\t설명\t|\t값 설명\t|\n",
    "|\t----\t|\t----\t|\t----\t|\n",
    "|\tsurvived\t|\t생존여부\t|\t0 - 사망, 1- 생존\t|\n",
    "|\tPclass\t|\tTicket class\t|\t1 = 1st, 2 = 2nd, 3 = 3rd\t|\n",
    "|\tSex\t|\t성별\t|\t\t|\n",
    "|\tAge\t|\tAge in years\t|\t\t|\n",
    "|\tSibsp\t|\t# of siblings / spouses aboard the Titanic\t|\t\t|\n",
    "|\tParch\t|\t# of parents / children aboard the Titanic\t|\t\t|\n",
    "|\tTicket\t|\tTicket number\t|\t\t|\n",
    "|\tFare\t|\tPassenger fare\t|\t\t|\n",
    "|\tCabin\t|\tCabin number\t|\t\t|\n",
    "|\tEmbarked\t|\tPort of Embarkation\t|\tC = Cherbourg, Q = Queenstown, S = Southampton\t|\n"
   ]
  },
  {
   "cell_type": "code",
   "execution_count": 29,
   "metadata": {
    "id": "si-trqDhN0Lo"
   },
   "outputs": [
    {
     "data": {
      "text/html": [
       "<div>\n",
       "<style scoped>\n",
       "    .dataframe tbody tr th:only-of-type {\n",
       "        vertical-align: middle;\n",
       "    }\n",
       "\n",
       "    .dataframe tbody tr th {\n",
       "        vertical-align: top;\n",
       "    }\n",
       "\n",
       "    .dataframe thead th {\n",
       "        text-align: right;\n",
       "    }\n",
       "</style>\n",
       "<table border=\"1\" class=\"dataframe\">\n",
       "  <thead>\n",
       "    <tr style=\"text-align: right;\">\n",
       "      <th></th>\n",
       "      <th>PassengerId</th>\n",
       "      <th>Survived</th>\n",
       "      <th>Pclass</th>\n",
       "      <th>Name</th>\n",
       "      <th>Sex</th>\n",
       "      <th>Age</th>\n",
       "      <th>SibSp</th>\n",
       "      <th>Parch</th>\n",
       "      <th>Ticket</th>\n",
       "      <th>Fare</th>\n",
       "      <th>Cabin</th>\n",
       "      <th>Embarked</th>\n",
       "    </tr>\n",
       "  </thead>\n",
       "  <tbody>\n",
       "    <tr>\n",
       "      <th>0</th>\n",
       "      <td>1</td>\n",
       "      <td>0</td>\n",
       "      <td>3</td>\n",
       "      <td>Braund, Mr. Owen Harris</td>\n",
       "      <td>male</td>\n",
       "      <td>22.0</td>\n",
       "      <td>1</td>\n",
       "      <td>0</td>\n",
       "      <td>A/5 21171</td>\n",
       "      <td>7.2500</td>\n",
       "      <td>NaN</td>\n",
       "      <td>S</td>\n",
       "    </tr>\n",
       "    <tr>\n",
       "      <th>1</th>\n",
       "      <td>2</td>\n",
       "      <td>1</td>\n",
       "      <td>1</td>\n",
       "      <td>Cumings, Mrs. John Bradley (Florence Briggs Th...</td>\n",
       "      <td>female</td>\n",
       "      <td>38.0</td>\n",
       "      <td>1</td>\n",
       "      <td>0</td>\n",
       "      <td>PC 17599</td>\n",
       "      <td>71.2833</td>\n",
       "      <td>C85</td>\n",
       "      <td>C</td>\n",
       "    </tr>\n",
       "  </tbody>\n",
       "</table>\n",
       "</div>"
      ],
      "text/plain": [
       "   PassengerId  Survived  Pclass  \\\n",
       "0            1         0       3   \n",
       "1            2         1       1   \n",
       "\n",
       "                                                Name     Sex   Age  SibSp  \\\n",
       "0                            Braund, Mr. Owen Harris    male  22.0      1   \n",
       "1  Cumings, Mrs. John Bradley (Florence Briggs Th...  female  38.0      1   \n",
       "\n",
       "   Parch     Ticket     Fare Cabin Embarked  \n",
       "0      0  A/5 21171   7.2500   NaN        S  \n",
       "1      0   PC 17599  71.2833   C85        C  "
      ]
     },
     "execution_count": 29,
     "metadata": {},
     "output_type": "execute_result"
    }
   ],
   "source": [
    "# 타이타닉 데이터\n",
    "titanic = pd.read_csv('https://raw.githubusercontent.com/DA4BAM/dataset/master/titanic.0.csv')\n",
    "titanic.head(2)"
   ]
  },
  {
   "cell_type": "markdown",
   "metadata": {
    "id": "KPClTP--BP0w"
   },
   "source": [
    "범주별 숫자를 비교할 때 사용되는 방식은 **범주별 평균 비교** 입니다.  \n"
   ]
  },
  {
   "cell_type": "markdown",
   "metadata": {
    "id": "FX6TpZ97_j8j"
   },
   "source": [
    "## 2.평균비교"
   ]
  },
  {
   "cell_type": "markdown",
   "metadata": {
    "id": "O1qt6ZKIiTZ-"
   },
   "source": [
    "### 평균\n",
    "\n",
    "* 범주 ==> 숫자 의 관계를 살펴볼 때 중요한 관점은 ‘평균비교’ 입니다. \n",
    "\n",
    "* 평균을 비교할 때는 두 가지를 고려해야 합니다.\n",
    "    * ① 평균값이 그 집단을 대표할 수 있는가?\n",
    "    * ② 평균값이 믿을 만 한가?"
   ]
  },
  {
   "cell_type": "markdown",
   "metadata": {
    "id": "POB4HoaH_qXf"
   },
   "source": [
    "### 1) 평균값이 그 집단을 대표할 수 있는가?"
   ]
  },
  {
   "cell_type": "code",
   "execution_count": 30,
   "metadata": {
    "id": "wKImk6yxAOFw"
   },
   "outputs": [],
   "source": [
    "s0 = titanic.loc[titanic['Survived']==0, 'Age']\n",
    "s1 = titanic.loc[titanic['Survived']==1, 'Age']"
   ]
  },
  {
   "cell_type": "code",
   "execution_count": 36,
   "metadata": {
    "id": "Dan17OZB_o6q"
   },
   "outputs": [
    {
     "data": {
      "image/png": "[encoded data removed]",
      "text/plain": [
       "<Figure size 720x360 with 2 Axes>"
      ]
     },
     "metadata": {
      "needs_background": "light"
     },
     "output_type": "display_data"
    }
   ],
   "source": [
    "# 사망자의 나이 분포\n",
    "\n",
    "plt.figure(figsize =(10,5))\n",
    "plt.subplot(1,2,1)\n",
    "sns.histplot(s0, bins = 16)\n",
    "plt.axvline(s0.mean(), color='r')\n",
    "\n",
    "# 생존자의 나이 분포\n",
    "plt.subplot(1,2,2)\n",
    "sns.histplot(s1, bins = 16)\n",
    "plt.axvline(s1.mean(), color='b')\n",
    "plt.show()"
   ]
  },
  {
   "cell_type": "code",
   "execution_count": 5,
   "metadata": {
    "id": "IoLMFDQK_o34",
    "tags": []
   },
   "outputs": [
    {
     "data": {
      "image/png": "[encoded data removed]",
      "text/plain": [
       "<Figure size 432x288 with 1 Axes>"
      ]
     },
     "metadata": {
      "needs_background": "light"
     },
     "output_type": "display_data"
    }
   ],
   "source": [
    "# 생존자의 나이 분포\n",
    "sns.histplot(s1, bins = 16)\n",
    "plt.axvline(s1.mean(), color='r')\n",
    "plt.show()"
   ]
  },
  {
   "cell_type": "markdown",
   "metadata": {
    "id": "zeG6cjEPBi4P"
   },
   "source": [
    "* 평균이 집단을 대표하지 못할때..\n",
    "    * 아래 동영상은 오늘 저녁때 각자 한번 꼭 보세요. \n",
    "> 평균의 함정 : https://www.youtube.com/watch?v=Pp_Pd6GZLOE"
   ]
  },
  {
   "cell_type": "markdown",
   "metadata": {},
   "source": [
    "--> mode(최빈값:정보가 가장많이 밀집), median(평균이라고 착각할 수 있는 중앙값)을 배제한 평균은 \n",
    "그 집단의 대푯값이 될 수 없다."
   ]
  },
  {
   "cell_type": "code",
   "execution_count": 6,
   "metadata": {
    "id": "9dR7vb4gBjjj"
   },
   "outputs": [],
   "source": [
    "# 임의의 한 집단을 만들어 봅시다.\n",
    "pop = [round(rd.normalvariate(10, 5),1) for i in range(1000)] + [round(rd.normalvariate(38, 8),1) for i in range(750)]"
   ]
  },
  {
   "cell_type": "code",
   "execution_count": 7,
   "metadata": {
    "id": "SexL3_LOr2w_"
   },
   "outputs": [
    {
     "name": "stdout",
     "output_type": "stream",
     "text": [
      "22.085942857142854\n"
     ]
    }
   ],
   "source": [
    "mn = np.mean(pop)\n",
    "print(mn)"
   ]
  },
  {
   "cell_type": "code",
   "execution_count": 8,
   "metadata": {
    "id": "ctwEPa9QByXG"
   },
   "outputs": [
    {
     "data": {
      "image/png": "[encoded data removed]",
      "text/plain": [
       "<Figure size 720x432 with 1 Axes>"
      ]
     },
     "metadata": {
      "needs_background": "light"
     },
     "output_type": "display_data"
    }
   ],
   "source": [
    "# 히스토그램으로 집단의 대표값이 될 수 있는지 살펴봅시다.\n",
    "plt.figure(figsize=(10,6))\n",
    "sns.histplot(pop, bins = 50)\n",
    "plt.axvline(mn, color='r')\n",
    "plt.text(mn+1, 110, \"mean : {}\".format(round(mn,2)), color = 'r')\n",
    "plt.show()"
   ]
  },
  {
   "cell_type": "markdown",
   "metadata": {
    "id": "C3nObwl_Cwzq"
   },
   "source": [
    "### 2) 평균값을 믿을 만 한가?"
   ]
  },
  {
   "cell_type": "markdown",
   "metadata": {
    "id": "KUPsoxPCiTaA"
   },
   "source": [
    "* 표본 조사를 수행하기로 결정하였을 때,다음 두가지 조사의 오차에 대해서 생각해 봅시다.\n",
    "    * 조사1 : 전국 성인 10명을 무작위로 뽑아서, 키를 재고 그 평균을 계산했더니 174 cm\n",
    "    * 조사2 : 전국 성인 1000명을 무작위로 뽑아서, 키를 재고 그 평균을 계산했더니 166 cm\n",
    "\n",
    "* 어떤 조사 결과가 전국 성인의 평균키와 더 가까울 까요? 어떤 조사 결과가 **오차**가 더 적을 까요?"
   ]
  },
  {
   "cell_type": "markdown",
   "metadata": {
    "id": "DedsPRe5DFEg"
   },
   "source": [
    "* 평균이 믿을만 한지는 오차로 평가해야 합니다.\n",
    "    * 표준편차\n",
    "    * 표준오차"
   ]
  },
  {
   "cell_type": "markdown",
   "metadata": {
    "id": "mOBKjuZliTaB"
   },
   "source": [
    "### 3) 표준편차(SD, Standard Deviation)\n",
    "* 한 집단을 설명하기 위해서\n",
    "* 그 집단 안에서 대푯값으로 평균을 구할 때\n",
    "* 값들이 평균으로부터 얼마나 벗어나 있는지(이탈도, deviation)를 나타내는 값.\n",
    "    * 예 : 우리 반 수학 성적의 평균이 91, 표준편차는 10"
   ]
  },
  {
   "cell_type": "code",
   "execution_count": 9,
   "metadata": {
    "id": "byhafXmuiTaB"
   },
   "outputs": [
    {
     "name": "stdout",
     "output_type": "stream",
     "text": [
      "평균 : 38.666666666666664\n",
      "표준편차 : 17.53726191728787\n"
     ]
    }
   ],
   "source": [
    "a = np.array([23,54,47,64,29,15])\n",
    "\n",
    "print(f'평균 : {a.mean()}')\n",
    "print(f'표준편차 : {a.std()}')"
   ]
  },
  {
   "cell_type": "markdown",
   "metadata": {
    "id": "L7lpOyfliTaC"
   },
   "source": [
    "평균 38.6, 표준편차 17.5는 집단 a를 설명(대표)하는 숫자 입니다."
   ]
  },
  {
   "cell_type": "code",
   "execution_count": 10,
   "metadata": {
    "id": "aytDdclXCwzs"
   },
   "outputs": [
    {
     "data": {
      "text/html": [
       "<div>\n",
       "<style scoped>\n",
       "    .dataframe tbody tr th:only-of-type {\n",
       "        vertical-align: middle;\n",
       "    }\n",
       "\n",
       "    .dataframe tbody tr th {\n",
       "        vertical-align: top;\n",
       "    }\n",
       "\n",
       "    .dataframe thead th {\n",
       "        text-align: right;\n",
       "    }\n",
       "</style>\n",
       "<table border=\"1\" class=\"dataframe\">\n",
       "  <thead>\n",
       "    <tr style=\"text-align: right;\">\n",
       "      <th></th>\n",
       "      <th>mean</th>\n",
       "      <th>std</th>\n",
       "    </tr>\n",
       "    <tr>\n",
       "      <th>Survived</th>\n",
       "      <th></th>\n",
       "      <th></th>\n",
       "    </tr>\n",
       "  </thead>\n",
       "  <tbody>\n",
       "    <tr>\n",
       "      <th>0</th>\n",
       "      <td>30.626179</td>\n",
       "      <td>14.172110</td>\n",
       "    </tr>\n",
       "    <tr>\n",
       "      <th>1</th>\n",
       "      <td>28.343690</td>\n",
       "      <td>14.950952</td>\n",
       "    </tr>\n",
       "  </tbody>\n",
       "</table>\n",
       "</div>"
      ],
      "text/plain": [
       "               mean        std\n",
       "Survived                      \n",
       "0         30.626179  14.172110\n",
       "1         28.343690  14.950952"
      ]
     },
     "execution_count": 10,
     "metadata": {},
     "output_type": "execute_result"
    }
   ],
   "source": [
    "# 표준편차\n",
    "titanic.groupby('Survived')['Age'].agg(['mean','std'])"
   ]
  },
  {
   "cell_type": "markdown",
   "metadata": {
    "id": "Gvb0boE8iTaC"
   },
   "source": [
    "### 4) 표준오차(SE, standard error)\n",
    "* 표준오차는 표준편차와 다른 개념입니다. (표준 편차와 비교하는 개념이 아닙니다!)\n",
    "* 우선 **표본(의) 평균**을 이해해야 합니다.\n",
    "* 표본을 뽑아내는(표집, sampling) 목적은, 모집단을 추정하기 위함 입니다.\n",
    "    * 표본평균을 계산한다는 의미는, 표본의 평균으로 모집단의 평균을 **추정**하기 위함 입니다.(**추정치**)\n",
    "    * 표본의 평균을 계산하면, 표본 자체의 평균이라는 의미가 아니라, 모평균을 표본으로 추정한 평균치 입니다.\n",
    "    * 그래서 표본평균 하면 항상 모평균을 의식해야 합니다.\n",
    "* 그런데 표본평균은 모평균과 완전히 일치할 수는 없습니다. \n",
    "* 이 오차를 **표준오차** 라고 합니다.\n",
    "\n",
    "* 표준오차 공식 : 𝑠/√𝑛\n",
    "    * 샘플의 표준 편차 : s\n",
    "    * 데이터 건수 : n\n",
    "* 표준 오차로 부터 신뢰구간을 계산하게 됩니다."
   ]
  },
  {
   "cell_type": "markdown",
   "metadata": {
    "id": "zYTck08viTaC"
   },
   "source": [
    "* 몇가지 기호에 대해서  \n",
    "\n",
    "<img src='https://github.com/DA4BAM/image/blob/main/%EA%B8%B0%ED%98%B8.png?raw=true' width=500/>"
   ]
  },
  {
   "cell_type": "code",
   "execution_count": 11,
   "metadata": {
    "id": "d3xdIwERE9EL"
   },
   "outputs": [
    {
     "data": {
      "text/html": [
       "<div>\n",
       "<style scoped>\n",
       "    .dataframe tbody tr th:only-of-type {\n",
       "        vertical-align: middle;\n",
       "    }\n",
       "\n",
       "    .dataframe tbody tr th {\n",
       "        vertical-align: top;\n",
       "    }\n",
       "\n",
       "    .dataframe thead th {\n",
       "        text-align: right;\n",
       "    }\n",
       "</style>\n",
       "<table border=\"1\" class=\"dataframe\">\n",
       "  <thead>\n",
       "    <tr style=\"text-align: right;\">\n",
       "      <th></th>\n",
       "      <th>mean</th>\n",
       "      <th>std</th>\n",
       "      <th>sem</th>\n",
       "    </tr>\n",
       "    <tr>\n",
       "      <th>Survived</th>\n",
       "      <th></th>\n",
       "      <th></th>\n",
       "      <th></th>\n",
       "    </tr>\n",
       "  </thead>\n",
       "  <tbody>\n",
       "    <tr>\n",
       "      <th>0</th>\n",
       "      <td>30.626179</td>\n",
       "      <td>14.172110</td>\n",
       "      <td>0.688258</td>\n",
       "    </tr>\n",
       "    <tr>\n",
       "      <th>1</th>\n",
       "      <td>28.343690</td>\n",
       "      <td>14.950952</td>\n",
       "      <td>0.877950</td>\n",
       "    </tr>\n",
       "  </tbody>\n",
       "</table>\n",
       "</div>"
      ],
      "text/plain": [
       "               mean        std       sem\n",
       "Survived                                \n",
       "0         30.626179  14.172110  0.688258\n",
       "1         28.343690  14.950952  0.877950"
      ]
     },
     "execution_count": 11,
     "metadata": {},
     "output_type": "execute_result"
    }
   ],
   "source": [
    "# 표준오차\n",
    "titanic.groupby('Survived')['Age'].agg(['mean','std','sem']) # agg : 여러 함수에 적용"
   ]
  },
  {
   "cell_type": "markdown",
   "metadata": {
    "id": "_jgJRx1pHQjK"
   },
   "source": [
    "### 5) 95% 신뢰구간"
   ]
  },
  {
   "cell_type": "markdown",
   "metadata": {
    "id": "Ux2Y0KTSiTaD"
   },
   "source": [
    "* 모집단을 하나 준비합니다."
   ]
  },
  {
   "cell_type": "code",
   "execution_count": 12,
   "metadata": {
    "id": "hcbP-v-xG__p"
   },
   "outputs": [],
   "source": [
    "# 임의의 모집단을 하나 만듭시다.\n",
    "pop2 = [round(rd.normalvariate(160, 10),1) for i in range(100000)]"
   ]
  },
  {
   "cell_type": "code",
   "execution_count": 13,
   "metadata": {
    "id": "ScPKLQ1bHo0O"
   },
   "outputs": [
    {
     "data": {
      "image/png": "[encoded data removed]",
      "text/plain": [
       "<Figure size 720x432 with 1 Axes>"
      ]
     },
     "metadata": {
      "needs_background": "light"
     },
     "output_type": "display_data"
    }
   ],
   "source": [
    "# 우리는 모집단을 알 수 없지만. \n",
    "# 전지적 분석가 시점에서 살짝 살펴봅시다. (보고 나서 못 본 것으로 합시다.ㅎㅎ)\n",
    "\n",
    "plt.figure(figsize=(10,6))\n",
    "sns.histplot(pop2, bins = 100)\n",
    "plt.axvline(np.mean(pop2), color = 'r')\n",
    "plt.text(np.mean(pop2)+1, 3600, f'pop mean : {np.mean(pop2).round(2)}', color = 'r')\n",
    "plt.show()"
   ]
  },
  {
   "cell_type": "markdown",
   "metadata": {
    "id": "qqBXqQEdiTaD"
   },
   "source": [
    "* 표본 조사를 합니다. \n",
    "    * 100명을 임의로 샘플링 해서 \n",
    "    * 표본의 평균과, 표준 오차, 신뢰구간을 계산해 봅시다."
   ]
  },
  {
   "cell_type": "code",
   "execution_count": 14,
   "metadata": {
    "id": "-IRbgb0oH8VB"
   },
   "outputs": [
    {
     "data": {
      "text/plain": [
       "(160.74500000000006, 10.005800085627104, 1.0005800085627103)"
      ]
     },
     "execution_count": 14,
     "metadata": {},
     "output_type": "execute_result"
    }
   ],
   "source": [
    "# 표본조사를 합니다. 100건\n",
    "s1 = rd.sample(pop2,100)\n",
    "s1 = pd.Series(s1)\n",
    "s1.mean(), s1.std(), s1.sem()"
   ]
  },
  {
   "cell_type": "code",
   "execution_count": 15,
   "metadata": {
    "id": "bS_ypv2_LWDu"
   },
   "outputs": [
    {
     "data": {
      "text/plain": [
       "1.9611368167829122"
      ]
     },
     "execution_count": 15,
     "metadata": {},
     "output_type": "execute_result"
    }
   ],
   "source": [
    "1.96 * s1.sem()"
   ]
  },
  {
   "cell_type": "code",
   "execution_count": 16,
   "metadata": {
    "id": "PGiOlSY9H8RT"
   },
   "outputs": [
    {
     "data": {
      "text/plain": [
       "(158.78386318321714, 162.706136816783)"
      ]
     },
     "execution_count": 16,
     "metadata": {},
     "output_type": "execute_result"
    }
   ],
   "source": [
    "# 95% 신뢰구간\n",
    "s1.mean() - (1.96 * s1.sem()), s1.mean() + (1.96 * s1.sem())"
   ]
  },
  {
   "cell_type": "markdown",
   "metadata": {
    "id": "au9KiXMLiTaE"
   },
   "source": [
    "* 표본평균의 신뢰구간과 모평균을 비교해 봅시다."
   ]
  },
  {
   "cell_type": "code",
   "execution_count": 17,
   "metadata": {
    "id": "ms3jT0QvH8Lw"
   },
   "outputs": [
    {
     "data": {
      "text/plain": [
       "160.015479"
      ]
     },
     "execution_count": 17,
     "metadata": {},
     "output_type": "execute_result"
    }
   ],
   "source": [
    "# 모평균은?\n",
    "np.mean(pop2)"
   ]
  },
  {
   "cell_type": "markdown",
   "metadata": {
    "id": "u12z1O0TiTaF"
   },
   "source": [
    "* 95% 신뢰구간에 대한 실험을 해 봅시다.\n",
    "    * 샘플조사를 100번 수행합니다.\n",
    "    * 그때마다 신뢰구간을 계산한 후\n",
    "    * 그 중 몇번이 모평균을 포함하는지 확인해 봅시다.\n",
    "    * 95% 신뢰구간이라면, 100번 중 95번은 모평균을 포함해야 합니다."
   ]
  },
  {
   "cell_type": "code",
   "execution_count": 18,
   "metadata": {
    "id": "AGKYKsi3How9"
   },
   "outputs": [
    {
     "data": {
      "text/plain": [
       "(10000, 2)"
      ]
     },
     "execution_count": 18,
     "metadata": {},
     "output_type": "execute_result"
    }
   ],
   "source": [
    "# 100번 샘플링\n",
    "samples = { 'id' : [], 'value' : []}\n",
    "for i in range(100) :\n",
    "    samples['id'] += [i]* 100\n",
    "    samples['value'] += rd.sample(pop2,100)\n",
    "\n",
    "samples = pd.DataFrame(samples)\n",
    "samples.shape"
   ]
  },
  {
   "cell_type": "code",
   "execution_count": 19,
   "metadata": {
    "id": "cM5FRndlL9Wn"
   },
   "outputs": [
    {
     "data": {
      "image/png": "[encoded data removed]",
      "text/plain": [
       "<Figure size 1296x576 with 1 Axes>"
      ]
     },
     "metadata": {
      "needs_background": "light"
     },
     "output_type": "display_data"
    }
   ],
   "source": [
    "# errorbar 라는 차트 입니다. \n",
    "# 신뢰구간, 표준오차 구간을 시각화 하는 방법입니다.\n",
    "\n",
    "plt.figure(figsize = (18, 8))\n",
    "sns.pointplot(x = 'id', y = 'value', data = samples, join = False)\n",
    "plt.axhline(np.mean(pop2), color = 'r')\n",
    "plt.show()"
   ]
  },
  {
   "cell_type": "markdown",
   "metadata": {
    "id": "EihRSZT8iTaG"
   },
   "source": [
    "위 그래프에 대한 해석\n",
    "* x축은 100번 시도에 대한 순번(인덱스)\n",
    "* y축은 모평균(빨간 선)을 추정하기 위한 샘플의 평균과, 신뢰구간 표시"
   ]
  },
  {
   "cell_type": "markdown",
   "metadata": {
    "id": "pJwlvt2jUVUN"
   },
   "source": [
    "## 3.중심극한 정리"
   ]
  },
  {
   "cell_type": "markdown",
   "metadata": {
    "id": "Uk2Hl-NfyWab"
   },
   "source": [
    "* 표본이 클수록 표집분포는 정규분포에 가까워 진다.\n"
   ]
  },
  {
   "cell_type": "markdown",
   "metadata": {
    "id": "GttXZ2-hBmHS"
   },
   "source": [
    "* 임의의 모집단을 하나 만듭니다."
   ]
  },
  {
   "cell_type": "code",
   "execution_count": 20,
   "metadata": {
    "id": "fflUZF3iBj57"
   },
   "outputs": [],
   "source": [
    "pop = [round(rd.expovariate(.3)+165,2) for i in range(10001)]"
   ]
  },
  {
   "cell_type": "markdown",
   "metadata": {
    "id": "P2lta4kJB5PG"
   },
   "source": [
    "* ① 모집단으로 부터 데이터 n개 짜리 표본을 뽑아 표본평균을 계산합니다.\n",
    "* ② ①번 작업을 m번 반복하여 얻은 표본평균 m개로 분포를 그려봅니다."
   ]
  },
  {
   "cell_type": "code",
   "execution_count": 60,
   "metadata": {
    "id": "1UoezuANwxif"
   },
   "outputs": [
    {
     "data": {
      "image/png": "[encoded data removed]",
      "text/plain": [
       "<Figure size 720x432 with 1 Axes>"
      ]
     },
     "metadata": {
      "needs_background": "light"
     },
     "output_type": "display_data"
    }
   ],
   "source": [
    "# 표본의 크기  ( 표본 데이터의 건수 )\n",
    "n = 10\n",
    "\n",
    "# 표본의 갯수 ( 표본의 갯수 X1, X2 ,... X100)\n",
    "m = 100\n",
    "\n",
    "sample_mean = [np.mean(rd.sample(pop,n)) for i in range(m)]\n",
    "\n",
    "plt.figure(figsize=(10,6))\n",
    "sns.kdeplot(sample_mean)\n",
    "plt.xlim(160,180)\n",
    "\n",
    "plt.axvline(x=np.mean(sample_mean), color = 'red') #표본평균들의 평균\n",
    "plt.axvline(x=np.mean(pop), color = 'grey') # 모평균\n",
    "\n",
    "plt.text(np.mean(sample_mean)-1.5, 0.02, round(np.mean(sample_mean),2), color = 'red') #표본평균들의 평균\n",
    "plt.text(np.mean(pop)+.5,0.02, round(np.mean(pop),2), color = 'grey') #모평균\n",
    "\n",
    "plt.show() # show"
   ]
  },
  {
   "cell_type": "markdown",
   "metadata": {
    "id": "Dm1Bx1Rowxij"
   },
   "source": [
    "* 그렇다면, 모집단은 어떤 분포일까?\n"
   ]
  },
  {
   "cell_type": "code",
   "execution_count": 56,
   "metadata": {
    "id": "9ysjlBktlNuo"
   },
   "outputs": [
    {
     "data": {
      "image/png": "[encoded data removed]",
      "text/plain": [
       "<Figure size 720x432 with 1 Axes>"
      ]
     },
     "metadata": {
      "needs_background": "light"
     },
     "output_type": "display_data"
    }
   ],
   "source": [
    "plt.figure(figsize=(10,6)) #설정\n",
    "sns.histplot(pop, bins = 100)\n",
    "plt.axvline(x=np.mean(pop), color = 'grey') # 모평균\n",
    "plt.text(np.mean(pop)+.5, 800, round(np.mean(pop),2), color = 'grey')\n",
    "plt.show() "
   ]
  },
  {
   "cell_type": "code",
   "execution_count": null,
   "metadata": {},
   "outputs": [],
   "source": []
  }
 ],
 "metadata": {
  "colab": {
   "collapsed_sections": [],
   "name": "09과 표본평균과 표본오차.ipynb",
   "provenance": [],
   "toc_visible": true
  },
  "kernelspec": {
   "display_name": "Python 3",
   "language": "python",
   "name": "python3"
  },
  "language_info": {
   "codemirror_mode": {
    "name": "ipython",
    "version": 3
   },
   "file_extension": ".py",
   "mimetype": "text/x-python",
   "name": "python",
   "nbconvert_exporter": "python",
   "pygments_lexer": "ipython3",
   "version": "3.8.8"
  }
 },
 "nbformat": 4,
 "nbformat_minor": 4
}
