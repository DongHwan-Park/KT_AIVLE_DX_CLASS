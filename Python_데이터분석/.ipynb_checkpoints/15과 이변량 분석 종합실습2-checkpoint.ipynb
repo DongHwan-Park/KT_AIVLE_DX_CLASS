{
 "cells": [
  {
   "cell_type": "markdown",
   "metadata": {
    "id": "mTt7qGUTCcFs"
   },
   "source": [
    "# 이변량 분석 종합실습2 : Mobile 고객 이탈 분석"
   ]
  },
  {
   "cell_type": "markdown",
   "metadata": {
    "id": "wxRsRRwbEQ2K"
   },
   "source": [
    "* 여러분은 OO 통신화사 데이터분석가 입니다.\n",
    "* 회사는 약정기간이 끝난 고객이 번호이동(이탈)해 가는 문제를 해결하고자 합니다.\n",
    "* 그래서 여러분에게, 어떤 고객이 번호이동(이탈)해 가는지 데이터분석을 의뢰하였습니다.\n",
    "* 고객 이탈여부(CHURN)에 영향을 주는 요인을 찾아 봅시다."
   ]
  },
  {
   "cell_type": "markdown",
   "metadata": {
    "id": "0wuYJKZHjA3d"
   },
   "source": [
    "![](https://d18lkz4dllo6v2.cloudfront.net/cumulus_uploads/entry/23964/mobile%20phones.png)"
   ]
  },
  {
   "cell_type": "markdown",
   "metadata": {
    "id": "AHmt88Q5EVsj"
   },
   "source": [
    "## 0.환경설정"
   ]
  },
  {
   "cell_type": "markdown",
   "metadata": {
    "id": "KnzVh2LmkLDU"
   },
   "source": [
    "### 1) 라이브러리 로딩"
   ]
  },
  {
   "cell_type": "code",
   "execution_count": 5,
   "metadata": {
    "id": "3rsQerEaELwI"
   },
   "outputs": [],
   "source": [
    "import pandas as pd\n",
    "import numpy as np\n",
    "import matplotlib.pyplot as plt\n",
    "import seaborn as sns\n",
    "\n",
    "from statsmodels.graphics.mosaicplot import mosaic\n",
    "from scipy import stats as spst\n",
    "import statsmodels.api as sm"
   ]
  },
  {
   "cell_type": "markdown",
   "metadata": {
    "id": "5Qh5KYWokO_N"
   },
   "source": [
    "### 2) 데이터 로딩"
   ]
  },
  {
   "cell_type": "code",
   "execution_count": 6,
   "metadata": {
    "id": "lM3HN6OwEL3d"
   },
   "outputs": [
    {
     "data": {
      "text/html": [
       "<div>\n",
       "<style scoped>\n",
       "    .dataframe tbody tr th:only-of-type {\n",
       "        vertical-align: middle;\n",
       "    }\n",
       "\n",
       "    .dataframe tbody tr th {\n",
       "        vertical-align: top;\n",
       "    }\n",
       "\n",
       "    .dataframe thead th {\n",
       "        text-align: right;\n",
       "    }\n",
       "</style>\n",
       "<table border=\"1\" class=\"dataframe\">\n",
       "  <thead>\n",
       "    <tr style=\"text-align: right;\">\n",
       "      <th></th>\n",
       "      <th>COLLEGE</th>\n",
       "      <th>INCOME</th>\n",
       "      <th>OVERAGE</th>\n",
       "      <th>LEFTOVER</th>\n",
       "      <th>HOUSE</th>\n",
       "      <th>HANDSET_PRICE</th>\n",
       "      <th>AVERAGE_CALL_DURATION</th>\n",
       "      <th>REPORTED_SATISFACTION</th>\n",
       "      <th>CONSIDERING_CHANGE_OF_PLAN</th>\n",
       "      <th>CHURN</th>\n",
       "    </tr>\n",
       "  </thead>\n",
       "  <tbody>\n",
       "    <tr>\n",
       "      <th>0</th>\n",
       "      <td>1</td>\n",
       "      <td>47711</td>\n",
       "      <td>183</td>\n",
       "      <td>17</td>\n",
       "      <td>730589.0</td>\n",
       "      <td>192</td>\n",
       "      <td>5</td>\n",
       "      <td>unsat</td>\n",
       "      <td>considering</td>\n",
       "      <td>0</td>\n",
       "    </tr>\n",
       "    <tr>\n",
       "      <th>1</th>\n",
       "      <td>0</td>\n",
       "      <td>74132</td>\n",
       "      <td>191</td>\n",
       "      <td>43</td>\n",
       "      <td>535092.0</td>\n",
       "      <td>349</td>\n",
       "      <td>2</td>\n",
       "      <td>unsat</td>\n",
       "      <td>no</td>\n",
       "      <td>1</td>\n",
       "    </tr>\n",
       "    <tr>\n",
       "      <th>2</th>\n",
       "      <td>1</td>\n",
       "      <td>150419</td>\n",
       "      <td>0</td>\n",
       "      <td>14</td>\n",
       "      <td>204004.0</td>\n",
       "      <td>682</td>\n",
       "      <td>6</td>\n",
       "      <td>unsat</td>\n",
       "      <td>considering</td>\n",
       "      <td>0</td>\n",
       "    </tr>\n",
       "    <tr>\n",
       "      <th>3</th>\n",
       "      <td>0</td>\n",
       "      <td>159567</td>\n",
       "      <td>0</td>\n",
       "      <td>58</td>\n",
       "      <td>281969.0</td>\n",
       "      <td>634</td>\n",
       "      <td>1</td>\n",
       "      <td>very_unsat</td>\n",
       "      <td>never_thought</td>\n",
       "      <td>0</td>\n",
       "    </tr>\n",
       "    <tr>\n",
       "      <th>4</th>\n",
       "      <td>1</td>\n",
       "      <td>23392</td>\n",
       "      <td>0</td>\n",
       "      <td>0</td>\n",
       "      <td>216707.0</td>\n",
       "      <td>233</td>\n",
       "      <td>15</td>\n",
       "      <td>unsat</td>\n",
       "      <td>no</td>\n",
       "      <td>1</td>\n",
       "    </tr>\n",
       "  </tbody>\n",
       "</table>\n",
       "</div>"
      ],
      "text/plain": [
       "   COLLEGE  INCOME  OVERAGE  LEFTOVER     HOUSE  HANDSET_PRICE  \\\n",
       "0        1   47711      183        17  730589.0            192   \n",
       "1        0   74132      191        43  535092.0            349   \n",
       "2        1  150419        0        14  204004.0            682   \n",
       "3        0  159567        0        58  281969.0            634   \n",
       "4        1   23392        0         0  216707.0            233   \n",
       "\n",
       "   AVERAGE_CALL_DURATION REPORTED_SATISFACTION CONSIDERING_CHANGE_OF_PLAN  \\\n",
       "0                      5                 unsat                considering   \n",
       "1                      2                 unsat                         no   \n",
       "2                      6                 unsat                considering   \n",
       "3                      1            very_unsat              never_thought   \n",
       "4                     15                 unsat                         no   \n",
       "\n",
       "   CHURN  \n",
       "0      0  \n",
       "1      1  \n",
       "2      0  \n",
       "3      0  \n",
       "4      1  "
      ]
     },
     "execution_count": 6,
     "metadata": {},
     "output_type": "execute_result"
    }
   ],
   "source": [
    "# mobile data\n",
    "data_path = \"https://raw.githubusercontent.com/DA4BAM/dataset/master/mobile_NA2.csv\"\n",
    "mobile = pd.read_csv(data_path)\n",
    "mobile.drop(['id', 'REPORTED_USAGE_LEVEL','OVER_15MINS_CALLS_PER_MONTH'], axis = 1, inplace = True)\n",
    "mobile.head()"
   ]
  },
  {
   "cell_type": "markdown",
   "metadata": {
    "id": "2VGIfdrXAvw_"
   },
   "source": [
    "|변수 명|내용|구분|\n",
    "|\t----\t|\t----\t|\t----\t|\n",
    "|\tCOLLEGE\t|\t대학졸업 여부(1,0) - 범주\t|\t\t|\n",
    "|\tINCOME\t|\t연 수입액(달러)\t|\t\t|\n",
    "|\tOVERAGE\t|\t월 초과사용 시간(분)\t|\t\t|\n",
    "|\tLEFTOVER\t|\t월 사용 잔여시간비율(%)\t|\t\t|\n",
    "|\tHOUSE\t|\t집 가격(달러)\t|\t\t|\n",
    "|\tHANDSET_PRICE\t|\t핸드폰 가격(달러)\t|\t\t|\n",
    "|\tAVERAGE_CALL_DURATION\t|\t평균 통화시간(분)\t|\t\t|\n",
    "|\tREPORTED_SATISFACTION\t|\t만족도 설문('very_unsat', 'unsat', 'avg', 'sat', 'very_sat' ) - 범주\t|\t\t|\n",
    "|\tCONSIDERING_CHANGE_OF_PLAN\t|\t변경 계획 설문('never_thought', 'no', 'perhaps', 'considering',   'actively_looking_into_it') - 범주\t|\t\t|\n",
    "|\t**CHURN**\t|\t이탈여부(1 : 이탈, 0 : 잔류)\t|\t**Target**\t|\n"
   ]
  },
  {
   "cell_type": "code",
   "execution_count": 7,
   "metadata": {
    "id": "rVOMlUaL-gpZ"
   },
   "outputs": [
    {
     "data": {
      "text/plain": [
       "COLLEGE                         0\n",
       "INCOME                          0\n",
       "OVERAGE                         0\n",
       "LEFTOVER                        0\n",
       "HOUSE                         215\n",
       "HANDSET_PRICE                   0\n",
       "AVERAGE_CALL_DURATION           0\n",
       "REPORTED_SATISFACTION          38\n",
       "CONSIDERING_CHANGE_OF_PLAN      0\n",
       "CHURN                           0\n",
       "dtype: int64"
      ]
     },
     "execution_count": 7,
     "metadata": {},
     "output_type": "execute_result"
    }
   ],
   "source": [
    "mobile.isna().sum()"
   ]
  },
  {
   "cell_type": "code",
   "execution_count": 8,
   "metadata": {},
   "outputs": [
    {
     "data": {
      "text/plain": [
       "(18000, 10)"
      ]
     },
     "execution_count": 8,
     "metadata": {},
     "output_type": "execute_result"
    }
   ],
   "source": [
    "# 18000개 이므로 215 , 38 버리자\n",
    "mobile.shape"
   ]
  },
  {
   "cell_type": "markdown",
   "metadata": {
    "id": "bKimk8qVm8oC"
   },
   "source": [
    "----"
   ]
  },
  {
   "cell_type": "markdown",
   "metadata": {
    "id": "ZghJJ7yLEpDA"
   },
   "source": [
    "## 1.이변량 분석 \n",
    "* 자료의 종류에 맞게 X --> Y 에 대해서 그래프(시각화)와 가설검정(수치화)를 수행하고 결과를 평가합니다.\n",
    "* 가설검정시 다음의 항목을 참조하여 수행합니다.\n",
    "    * 유의수준 : 5%\n",
    "    * 숫자 --> 숫자 : 상관분석\n",
    "    * 범주 --> 범주 : 카이제곱검정\n",
    "    * 범주 --> 숫자 : t검정, 분산분석\n",
    "    * 숫자 --> 범주 : 로지스틱 회귀모형을 통해, 회귀계수의 P.value로 검정을 수행합니다."
   ]
  },
  {
   "cell_type": "code",
   "execution_count": 18,
   "metadata": {
    "id": "qiWKeotjGkLp"
   },
   "outputs": [],
   "source": [
    "target = 'CHURN'"
   ]
  },
  {
   "cell_type": "code",
   "execution_count": 19,
   "metadata": {
    "id": "r4wGQJtSYRWD"
   },
   "outputs": [
    {
     "name": "stdout",
     "output_type": "stream",
     "text": [
      "0.49272222222222223\n",
      "0.49309742491688735\n"
     ]
    }
   ],
   "source": [
    "# 전체 이탈율\n",
    "total_mean = mobile[target].mean()\n",
    "print(total_mean)\n",
    "\n",
    "tmp_mean = tmp[target].mean()\n",
    "print(tmp_mean)"
   ]
  },
  {
   "cell_type": "code",
   "execution_count": 20,
   "metadata": {},
   "outputs": [
    {
     "data": {
      "text/plain": [
       "COLLEGE                         0\n",
       "INCOME                          0\n",
       "OVERAGE                         0\n",
       "LEFTOVER                        0\n",
       "HOUSE                         215\n",
       "HANDSET_PRICE                   0\n",
       "AVERAGE_CALL_DURATION           0\n",
       "REPORTED_SATISFACTION          38\n",
       "CONSIDERING_CHANGE_OF_PLAN      0\n",
       "CHURN                           0\n",
       "dtype: int64"
      ]
     },
     "execution_count": 20,
     "metadata": {},
     "output_type": "execute_result"
    }
   ],
   "source": [
    "mobile.isna().sum()"
   ]
  },
  {
   "cell_type": "markdown",
   "metadata": {
    "id": "fap08wfEMqtY"
   },
   "source": [
    "### (1) 범주형 Feature --> CHURN\n",
    "* 모든 범주형 Feature에 대해서 Y와 비교하여 차트를 그리고 수치화 하시오.  \n",
    "    ① 교차표(pd.crosstab())  \n",
    "    ② 시각화( Stacked Bar, Mosaic)  \n",
    "    ③ 가설검정(카이제곱검정)\n",
    "* 각 feature 별로 관계의 정도를 3가지로 정리해봅시다. "
   ]
  },
  {
   "cell_type": "markdown",
   "metadata": {
    "id": "Dh2UW7_S-yoq"
   },
   "source": [
    "#### 1) COLLEGE --> CHURN"
   ]
  },
  {
   "cell_type": "code",
   "execution_count": 136,
   "metadata": {
    "id": "EWXtZEr_X0ok"
   },
   "outputs": [],
   "source": [
    "var = 'COLLEGE'"
   ]
  },
  {
   "cell_type": "markdown",
   "metadata": {
    "id": "sq4qjPyrXkS3"
   },
   "source": [
    "① 교차표(pd.crosstab())"
   ]
  },
  {
   "cell_type": "code",
   "execution_count": 137,
   "metadata": {
    "id": "qkS8v_BxX3Gk"
   },
   "outputs": [
    {
     "data": {
      "text/html": [
       "<div>\n",
       "<style scoped>\n",
       "    .dataframe tbody tr th:only-of-type {\n",
       "        vertical-align: middle;\n",
       "    }\n",
       "\n",
       "    .dataframe tbody tr th {\n",
       "        vertical-align: top;\n",
       "    }\n",
       "\n",
       "    .dataframe thead th {\n",
       "        text-align: right;\n",
       "    }\n",
       "</style>\n",
       "<table border=\"1\" class=\"dataframe\">\n",
       "  <thead>\n",
       "    <tr style=\"text-align: right;\">\n",
       "      <th>CHURN</th>\n",
       "      <th>0</th>\n",
       "      <th>1</th>\n",
       "    </tr>\n",
       "    <tr>\n",
       "      <th>COLLEGE</th>\n",
       "      <th></th>\n",
       "      <th></th>\n",
       "    </tr>\n",
       "  </thead>\n",
       "  <tbody>\n",
       "    <tr>\n",
       "      <th>0</th>\n",
       "      <td>0.515697</td>\n",
       "      <td>0.484303</td>\n",
       "    </tr>\n",
       "    <tr>\n",
       "      <th>1</th>\n",
       "      <td>0.498950</td>\n",
       "      <td>0.501050</td>\n",
       "    </tr>\n",
       "  </tbody>\n",
       "</table>\n",
       "</div>"
      ],
      "text/plain": [
       "CHURN           0         1\n",
       "COLLEGE                    \n",
       "0        0.515697  0.484303\n",
       "1        0.498950  0.501050"
      ]
     },
     "execution_count": 137,
     "metadata": {},
     "output_type": "execute_result"
    }
   ],
   "source": [
    "temp = pd.crosstab(mobile[var], mobile[target] , normalize = 'index')\n",
    "temp"
   ]
  },
  {
   "cell_type": "markdown",
   "metadata": {
    "id": "s2QiOyPmZ1Sy"
   },
   "source": [
    "② 시각화( Stacked Bar, Mosaic)"
   ]
  },
  {
   "cell_type": "code",
   "execution_count": 138,
   "metadata": {
    "id": "eLZgTrQqYciB"
   },
   "outputs": [
    {
     "data": {
      "image/png": "[encoded data removed]",
      "text/plain": [
       "<Figure size 432x288 with 1 Axes>"
      ]
     },
     "metadata": {
      "needs_background": "light"
     },
     "output_type": "display_data"
    }
   ],
   "source": [
    "# 100% Stacked Bar\n",
    "temp.plot.bar(stacked=True)\n",
    "plt.axhline(1-total_mean, color = 'r')\n",
    "plt.show()"
   ]
  },
  {
   "cell_type": "code",
   "execution_count": 139,
   "metadata": {
    "id": "RVjIC6RsaQfv"
   },
   "outputs": [
    {
     "data": {
      "image/png": "[encoded data removed]",
      "text/plain": [
       "<Figure size 432x288 with 3 Axes>"
      ]
     },
     "metadata": {
      "needs_background": "light"
     },
     "output_type": "display_data"
    }
   ],
   "source": [
    "# Mosaic\n",
    "mosaic(mobile, [ var, target]) # [x축, y축]\n",
    "plt.axhline(1- total_mean, color = 'r')\n",
    "plt.xlabel(var)\n",
    "plt.show()"
   ]
  },
  {
   "cell_type": "markdown",
   "metadata": {
    "id": "V1pyYZ3ibCyO"
   },
   "source": [
    "시각화를 통해 파악한 내용을 적어 봅시다."
   ]
  },
  {
   "cell_type": "markdown",
   "metadata": {
    "id": "v3oxJlPJc0T-"
   },
   "source": [
    "> COLLEGE와 CHURN 간에는 관련이 없어 보임"
   ]
  },
  {
   "cell_type": "markdown",
   "metadata": {
    "id": "8MX4b9jZbGal"
   },
   "source": [
    "③ 가설검정(카이제곱검정)"
   ]
  },
  {
   "cell_type": "code",
   "execution_count": 140,
   "metadata": {
    "id": "ZIhdTgsSnE_P"
   },
   "outputs": [
    {
     "name": "stdout",
     "output_type": "stream",
     "text": [
      "카이제곱통계량 : 4.982102934693503\n",
      "p-value : 0.02561083347822053560\n"
     ]
    }
   ],
   "source": [
    "table = pd.crosstab(mobile[target], mobile[var])  #카이제곱때 normalize 하지않기\n",
    "chiresult = spst.chi2_contingency(table) \n",
    "print(\"카이제곱통계량 : {}\".format(chiresult[0]))\n",
    "print(\"p-value : {:.20f}\".format(chiresult[1]))"
   ]
  },
  {
   "cell_type": "markdown",
   "metadata": {
    "id": "wuH_fPA6bTE1"
   },
   "source": [
    "④ 시각화와 가설검정을 통해서 파악한 내용을 적어 봅시다."
   ]
  },
  {
   "cell_type": "markdown",
   "metadata": {
    "id": "Eg_fzBzqbj0U"
   },
   "source": [
    "> * 차트를 통해서는 대학졸업여부와 이탈여부는 관련이 없어 보임. \n",
    "* 그러나 카이제곱검정으로는 pvalue가 0.02로 유의수준 0.05보다 작게 나옴\n",
    "* 결론 : 아주약한 관계"
   ]
  },
  {
   "cell_type": "markdown",
   "metadata": {
    "id": "O4dmYbckeq8v"
   },
   "source": [
    "#### 2) REPORTED_SATISFACTION  --> CHURN"
   ]
  },
  {
   "cell_type": "code",
   "execution_count": 141,
   "metadata": {
    "id": "M8nbUEPleq82"
   },
   "outputs": [],
   "source": [
    "var = 'REPORTED_SATISFACTION'"
   ]
  },
  {
   "cell_type": "markdown",
   "metadata": {
    "id": "wmOlvgzqeq83"
   },
   "source": [
    "① 교차표(pd.crosstab())"
   ]
  },
  {
   "cell_type": "code",
   "execution_count": 142,
   "metadata": {
    "id": "Gisf6Bqweq84"
   },
   "outputs": [
    {
     "data": {
      "text/html": [
       "<div>\n",
       "<style scoped>\n",
       "    .dataframe tbody tr th:only-of-type {\n",
       "        vertical-align: middle;\n",
       "    }\n",
       "\n",
       "    .dataframe tbody tr th {\n",
       "        vertical-align: top;\n",
       "    }\n",
       "\n",
       "    .dataframe thead th {\n",
       "        text-align: right;\n",
       "    }\n",
       "</style>\n",
       "<table border=\"1\" class=\"dataframe\">\n",
       "  <thead>\n",
       "    <tr style=\"text-align: right;\">\n",
       "      <th>CHURN</th>\n",
       "      <th>0</th>\n",
       "      <th>1</th>\n",
       "    </tr>\n",
       "    <tr>\n",
       "      <th>REPORTED_SATISFACTION</th>\n",
       "      <th></th>\n",
       "      <th></th>\n",
       "    </tr>\n",
       "  </thead>\n",
       "  <tbody>\n",
       "    <tr>\n",
       "      <th>avg</th>\n",
       "      <td>0.527132</td>\n",
       "      <td>0.472868</td>\n",
       "    </tr>\n",
       "    <tr>\n",
       "      <th>sat</th>\n",
       "      <td>0.527897</td>\n",
       "      <td>0.472103</td>\n",
       "    </tr>\n",
       "    <tr>\n",
       "      <th>unsat</th>\n",
       "      <td>0.499164</td>\n",
       "      <td>0.500836</td>\n",
       "    </tr>\n",
       "    <tr>\n",
       "      <th>very_sat</th>\n",
       "      <td>0.511618</td>\n",
       "      <td>0.488382</td>\n",
       "    </tr>\n",
       "    <tr>\n",
       "      <th>very_unsat</th>\n",
       "      <td>0.500990</td>\n",
       "      <td>0.499010</td>\n",
       "    </tr>\n",
       "  </tbody>\n",
       "</table>\n",
       "</div>"
      ],
      "text/plain": [
       "CHURN                         0         1\n",
       "REPORTED_SATISFACTION                    \n",
       "avg                    0.527132  0.472868\n",
       "sat                    0.527897  0.472103\n",
       "unsat                  0.499164  0.500836\n",
       "very_sat               0.511618  0.488382\n",
       "very_unsat             0.500990  0.499010"
      ]
     },
     "execution_count": 142,
     "metadata": {},
     "output_type": "execute_result"
    }
   ],
   "source": [
    "temp = pd.crosstab(mobile[var], mobile[target] , normalize = 'index')\n",
    "temp"
   ]
  },
  {
   "cell_type": "markdown",
   "metadata": {
    "id": "D3rddv9Req85"
   },
   "source": [
    "② 시각화( Stacked Bar, Mosaic)"
   ]
  },
  {
   "cell_type": "code",
   "execution_count": 143,
   "metadata": {
    "id": "GglNpUb1eq85"
   },
   "outputs": [
    {
     "data": {
      "image/png": "[encoded data removed]",
      "text/plain": [
       "<Figure size 432x288 with 1 Axes>"
      ]
     },
     "metadata": {
      "needs_background": "light"
     },
     "output_type": "display_data"
    }
   ],
   "source": [
    "# 100% Stacked Bar\n",
    "temp.plot.bar(stacked=True)\n",
    "plt.axhline(1-total_mean, color = 'r')\n",
    "plt.show()"
   ]
  },
  {
   "cell_type": "code",
   "execution_count": 144,
   "metadata": {
    "id": "nz_Hrvzqeq85"
   },
   "outputs": [
    {
     "data": {
      "image/png": "[encoded data removed]",
      "text/plain": [
       "<Figure size 432x288 with 3 Axes>"
      ]
     },
     "metadata": {
      "needs_background": "light"
     },
     "output_type": "display_data"
    }
   ],
   "source": [
    "# Mosaic\n",
    "mosaic(mobile, [ var, target]) # [x축, y축]\n",
    "plt.axhline(1- total_mean, color = 'r')\n",
    "plt.xlabel(var)\n",
    "plt.show()"
   ]
  },
  {
   "cell_type": "markdown",
   "metadata": {
    "id": "-VwzaapQeq86"
   },
   "source": [
    "시각화를 통해 파악한 내용을 적어 봅시다."
   ]
  },
  {
   "cell_type": "code",
   "execution_count": null,
   "metadata": {
    "id": "y7L4_TN01JOY",
    "tags": []
   },
   "outputs": [],
   "source": []
  },
  {
   "cell_type": "markdown",
   "metadata": {
    "id": "kW8k2RMneq86"
   },
   "source": [
    "③ 가설검정(카이제곱검정)"
   ]
  },
  {
   "cell_type": "code",
   "execution_count": 145,
   "metadata": {
    "id": "UGCwqQU01Lho"
   },
   "outputs": [
    {
     "name": "stdout",
     "output_type": "stream",
     "text": [
      "카이제곱통계량 : 6.8411009572056445\n",
      "p-value : 0.14452738878905066477\n"
     ]
    }
   ],
   "source": [
    "table = pd.crosstab(mobile[target], mobile[var])  #카이제곱때 normalize 하지않기\n",
    "chiresult = spst.chi2_contingency(table) \n",
    "print(\"카이제곱통계량 : {}\".format(chiresult[0]))\n",
    "print(\"p-value : {:.20f}\".format(chiresult[1]))"
   ]
  },
  {
   "cell_type": "markdown",
   "metadata": {
    "id": "mNFJHh97eq87"
   },
   "source": [
    "④ 시각화와 가설검정을 통해서 파악한 내용을 적어 봅시다."
   ]
  },
  {
   "cell_type": "code",
   "execution_count": null,
   "metadata": {
    "id": "wM6N5DBN1MgA"
   },
   "outputs": [],
   "source": []
  },
  {
   "cell_type": "markdown",
   "metadata": {
    "id": "9fDWDAcpeq87"
   },
   "source": [
    "#### 3) CONSIDERING_CHANGE_OF_PLAN --> CHURN"
   ]
  },
  {
   "cell_type": "code",
   "execution_count": 146,
   "metadata": {
    "id": "gltIVanS1OYi"
   },
   "outputs": [],
   "source": [
    "var = 'CONSIDERING_CHANGE_OF_PLAN'"
   ]
  },
  {
   "cell_type": "markdown",
   "metadata": {
    "id": "0nZxqYw11OYj"
   },
   "source": [
    "① 교차표(pd.crosstab())"
   ]
  },
  {
   "cell_type": "code",
   "execution_count": 147,
   "metadata": {
    "id": "qKYbBrjZ1OYj"
   },
   "outputs": [
    {
     "data": {
      "text/html": [
       "<div>\n",
       "<style scoped>\n",
       "    .dataframe tbody tr th:only-of-type {\n",
       "        vertical-align: middle;\n",
       "    }\n",
       "\n",
       "    .dataframe tbody tr th {\n",
       "        vertical-align: top;\n",
       "    }\n",
       "\n",
       "    .dataframe thead th {\n",
       "        text-align: right;\n",
       "    }\n",
       "</style>\n",
       "<table border=\"1\" class=\"dataframe\">\n",
       "  <thead>\n",
       "    <tr style=\"text-align: right;\">\n",
       "      <th>CHURN</th>\n",
       "      <th>0</th>\n",
       "      <th>1</th>\n",
       "    </tr>\n",
       "    <tr>\n",
       "      <th>CONSIDERING_CHANGE_OF_PLAN</th>\n",
       "      <th></th>\n",
       "      <th></th>\n",
       "    </tr>\n",
       "  </thead>\n",
       "  <tbody>\n",
       "    <tr>\n",
       "      <th>actively_looking_into_it</th>\n",
       "      <td>0.511565</td>\n",
       "      <td>0.488435</td>\n",
       "    </tr>\n",
       "    <tr>\n",
       "      <th>considering</th>\n",
       "      <td>0.510853</td>\n",
       "      <td>0.489147</td>\n",
       "    </tr>\n",
       "    <tr>\n",
       "      <th>never_thought</th>\n",
       "      <td>0.513304</td>\n",
       "      <td>0.486696</td>\n",
       "    </tr>\n",
       "    <tr>\n",
       "      <th>no</th>\n",
       "      <td>0.500274</td>\n",
       "      <td>0.499726</td>\n",
       "    </tr>\n",
       "    <tr>\n",
       "      <th>perhaps</th>\n",
       "      <td>0.475992</td>\n",
       "      <td>0.524008</td>\n",
       "    </tr>\n",
       "  </tbody>\n",
       "</table>\n",
       "</div>"
      ],
      "text/plain": [
       "CHURN                              0         1\n",
       "CONSIDERING_CHANGE_OF_PLAN                    \n",
       "actively_looking_into_it    0.511565  0.488435\n",
       "considering                 0.510853  0.489147\n",
       "never_thought               0.513304  0.486696\n",
       "no                          0.500274  0.499726\n",
       "perhaps                     0.475992  0.524008"
      ]
     },
     "execution_count": 147,
     "metadata": {},
     "output_type": "execute_result"
    }
   ],
   "source": [
    "temp = pd.crosstab(mobile[var], mobile[target] , normalize = 'index')\n",
    "temp"
   ]
  },
  {
   "cell_type": "markdown",
   "metadata": {
    "id": "Sm0XRlSg1OYk"
   },
   "source": [
    "② 시각화( Stacked Bar, Mosaic)"
   ]
  },
  {
   "cell_type": "code",
   "execution_count": 148,
   "metadata": {
    "id": "b6CSmnxs1OYk"
   },
   "outputs": [
    {
     "data": {
      "image/png": "[encoded data removed]",
      "text/plain": [
       "<Figure size 432x288 with 1 Axes>"
      ]
     },
     "metadata": {
      "needs_background": "light"
     },
     "output_type": "display_data"
    }
   ],
   "source": [
    "# 100% Stacked Bar\n",
    "temp.plot.bar(stacked=True)\n",
    "plt.axhline(1-total_mean, color = 'r')\n",
    "plt.show()"
   ]
  },
  {
   "cell_type": "code",
   "execution_count": 149,
   "metadata": {
    "id": "8UUB38681OYk"
   },
   "outputs": [
    {
     "data": {
      "image/png": "[encoded data removed]",
      "text/plain": [
       "<Figure size 432x288 with 3 Axes>"
      ]
     },
     "metadata": {
      "needs_background": "light"
     },
     "output_type": "display_data"
    }
   ],
   "source": [
    "# Mosaic\n",
    "mosaic(mobile, [ var, target]) # [x축, y축]\n",
    "plt.axhline(1- total_mean, color = 'r')\n",
    "plt.xlabel(var)\n",
    "plt.show()"
   ]
  },
  {
   "cell_type": "markdown",
   "metadata": {
    "id": "vFuokpl31OYk"
   },
   "source": [
    "시각화를 통해 파악한 내용을 적어 봅시다."
   ]
  },
  {
   "cell_type": "markdown",
   "metadata": {
    "id": "0xz087Wv1OYl"
   },
   "source": [
    "- perhaps 범주만 약간 차이있음"
   ]
  },
  {
   "cell_type": "markdown",
   "metadata": {
    "id": "GDX9Q7A_1OYl"
   },
   "source": [
    "③ 가설검정(카이제곱검정)"
   ]
  },
  {
   "cell_type": "code",
   "execution_count": 150,
   "metadata": {
    "id": "39v_9U6m1OYl"
   },
   "outputs": [
    {
     "name": "stdout",
     "output_type": "stream",
     "text": [
      "카이제곱통계량 : 5.421434419620689\n",
      "p-value : 0.24672225866799690763\n"
     ]
    }
   ],
   "source": [
    "table = pd.crosstab(mobile[target], mobile[var])  #카이제곱때 normalize 하지않기\n",
    "chiresult = spst.chi2_contingency(table) \n",
    "print(\"카이제곱통계량 : {}\".format(chiresult[0]))\n",
    "print(\"p-value : {:.20f}\".format(chiresult[1]))"
   ]
  },
  {
   "cell_type": "markdown",
   "metadata": {
    "id": "5Ues4wMH1OYl"
   },
   "source": [
    "④ 시각화와 가설검정을 통해서 파악한 내용을 적어 봅시다."
   ]
  },
  {
   "cell_type": "markdown",
   "metadata": {
    "id": "OW9suLYN1OYl"
   },
   "source": [
    "- CONSIDERING_CHANGE_OF_PLAN 는 자유도4로 카이제곱통계량 5.4는 차이가 크지않다고볼수잇따. pvalue 도\n",
    "의미없어보임"
   ]
  },
  {
   "cell_type": "markdown",
   "metadata": {
    "id": "RkYuwe1TexHg"
   },
   "source": [
    "### (2) 숫자형 Feature --> CHURN\n",
    "\n",
    "* 숫자형 Feature에 대해서 Y와 비교하여 차트를 그리고 수치화 하시오.  \n",
    "    ① 그래프 : histogram, densityplot   \n",
    "    ② 수치화 : 로지스틱회귀"
   ]
  },
  {
   "cell_type": "markdown",
   "metadata": {
    "id": "gBoMEYWSexHh"
   },
   "source": [
    "#### 1) INCOME --> CHURN\n"
   ]
  },
  {
   "cell_type": "code",
   "execution_count": 151,
   "metadata": {
    "id": "XVgBaKtlexHh"
   },
   "outputs": [],
   "source": [
    "var = 'INCOME'"
   ]
  },
  {
   "cell_type": "markdown",
   "metadata": {
    "id": "rzrdkQ6fexHi"
   },
   "source": [
    "① 그래프 : histogram, densityplot"
   ]
  },
  {
   "cell_type": "code",
   "execution_count": 152,
   "metadata": {
    "id": "jXadfHgZe089"
   },
   "outputs": [
    {
     "data": {
      "image/png": "[encoded data removed]",
      "text/plain": [
       "<Figure size 1080x360 with 3 Axes>"
      ]
     },
     "metadata": {
      "needs_background": "light"
     },
     "output_type": "display_data"
    }
   ],
   "source": [
    "plt.figure(figsize = (15,5))\n",
    "plt.subplot(1,3,1)\n",
    "sns.kdeplot(x=var, data = mobile, hue =target, common_norm = False)\n",
    "\n",
    "plt.subplot(1,3,2)\n",
    "sns.kdeplot(x=var, data = mobile, hue =target, multiple = 'fill')\n",
    "plt.axhline(mobile[target].mean(), color = 'r')\n",
    "\n",
    "plt.subplot(1,3,3)\n",
    "sns.histplot(x=var, data = mobile, bins = 30\n",
    "             , hue =target, multiple = 'fill')\n",
    "plt.axhline(mobile[target].mean(), color = 'r')\n",
    "plt.show()"
   ]
  },
  {
   "cell_type": "markdown",
   "metadata": {
    "id": "7qpRHuhhexHk"
   },
   "source": [
    "시각화를 통해 파악한 내용을 적어 봅시다."
   ]
  },
  {
   "cell_type": "markdown",
   "metadata": {
    "id": "Sg_L3A0fexHl"
   },
   "source": [
    "> * 100000 달러를 기준으로 나뉨.\n",
    "    * 100000 이내 : 잔류가 더 높음\n",
    "    * 100000 이상 : 이탈이 더 높음.\n",
    "* 왜???"
   ]
  },
  {
   "cell_type": "markdown",
   "metadata": {
    "id": "3QkQezBxexHl"
   },
   "source": [
    "② 수치화 : 로지스틱회귀"
   ]
  },
  {
   "cell_type": "code",
   "execution_count": 153,
   "metadata": {
    "id": "6ZpfNEhpexHl"
   },
   "outputs": [
    {
     "name": "stdout",
     "output_type": "stream",
     "text": [
      "Optimization terminated successfully.\n",
      "         Current function value: 0.692683\n",
      "         Iterations 2\n",
      "INCOME    0.000044\n",
      "dtype: float64\n"
     ]
    }
   ],
   "source": [
    "model=sm.Logit(mobile[target], mobile[var])\n",
    "result=model.fit()\n",
    "print(result.pvalues)"
   ]
  },
  {
   "cell_type": "markdown",
   "metadata": {
    "id": "FXxI5N5JexHl"
   },
   "source": [
    "③ 시각화와 수치화를 통해 파악한 내용을 적어 봅시다."
   ]
  },
  {
   "cell_type": "markdown",
   "metadata": {
    "id": "GlC1B6I6exHm"
   },
   "source": [
    "> * 그래프상으로 10만달러 기준으로 이탈율에 차이가 있다.\n",
    "* 로지스틱회귀로 부터 얻은 P-value가 0.000044로 0.05보다 작으므로 관련이 있다.\n",
    "* 결론: **강한 관계**가 있다."
   ]
  },
  {
   "cell_type": "markdown",
   "metadata": {
    "id": "2Bh6bk7_exHm"
   },
   "source": [
    "#### 2) OVERAGE --> CHURN\n"
   ]
  },
  {
   "cell_type": "code",
   "execution_count": 154,
   "metadata": {
    "id": "W_ewIv1pexHm"
   },
   "outputs": [],
   "source": [
    "var = 'OVERAGE'"
   ]
  },
  {
   "cell_type": "markdown",
   "metadata": {
    "id": "GBbws5EZexHn"
   },
   "source": [
    "① 그래프 : histogram, densityplot"
   ]
  },
  {
   "cell_type": "markdown",
   "metadata": {
    "id": "DH-XNQZ_exHn"
   },
   "source": [
    "시각화를 통해 파악한 내용을 적어 봅시다."
   ]
  },
  {
   "cell_type": "code",
   "execution_count": 155,
   "metadata": {
    "id": "Jn3vGb_9e5x1"
   },
   "outputs": [
    {
     "data": {
      "image/png": "[encoded data removed]",
      "text/plain": [
       "<Figure size 1080x360 with 3 Axes>"
      ]
     },
     "metadata": {
      "needs_background": "light"
     },
     "output_type": "display_data"
    }
   ],
   "source": [
    "plt.figure(figsize = (15,5))\n",
    "plt.subplot(1,3,1)\n",
    "sns.kdeplot(x=var, data = mobile, hue =target, common_norm = False)\n",
    "\n",
    "plt.subplot(1,3,2)\n",
    "sns.kdeplot(x=var, data = mobile, hue =target, multiple = 'fill')\n",
    "plt.axhline(mobile[target].mean(), color = 'r')\n",
    "\n",
    "plt.subplot(1,3,3)\n",
    "sns.histplot(x=var, data = mobile, bins = 30\n",
    "             , hue =target, multiple = 'fill')\n",
    "plt.axhline(mobile[target].mean(), color = 'r')\n",
    "plt.show()"
   ]
  },
  {
   "cell_type": "markdown",
   "metadata": {
    "id": "oVaTVYTkexHo"
   },
   "source": [
    "② 수치화 : 로지스틱회귀"
   ]
  },
  {
   "cell_type": "code",
   "execution_count": 156,
   "metadata": {
    "id": "GTARN26NexHo"
   },
   "outputs": [
    {
     "name": "stdout",
     "output_type": "stream",
     "text": [
      "Optimization terminated successfully.\n",
      "         Current function value: 0.680553\n",
      "         Iterations 4\n",
      "OVERAGE    3.521095e-97\n",
      "dtype: float64\n"
     ]
    }
   ],
   "source": [
    "model=sm.Logit(mobile[target], mobile[var])\n",
    "result=model.fit()\n",
    "print(result.pvalues)"
   ]
  },
  {
   "cell_type": "markdown",
   "metadata": {
    "id": "ptHOdUccexHp"
   },
   "source": [
    "③ 시각화와 수치화를 통해 파악한 내용을 적어 봅시다."
   ]
  },
  {
   "cell_type": "markdown",
   "metadata": {
    "id": "MEu4lK_Y1alr"
   },
   "source": [
    "- 월 사용량이 미달인분들은 본인이 사용하는 요금제에있어 딱히 불만이없어서라고 생각이된다. 따라서 만족도와 상관관계도 알아보면좋을거같다.\n",
    "- 반면에 90분이상 오버해서 사용하는사람들은 불만을느끼고 있어서 이탈율이 높은것으로 생각이된다.\n",
    "- p-value 가 매우낮아 강한 상관성을 보여준다."
   ]
  },
  {
   "cell_type": "markdown",
   "metadata": {
    "id": "w2db8OxvexHp"
   },
   "source": [
    "#### 3) LEFTOVER --> CHURN\n"
   ]
  },
  {
   "cell_type": "code",
   "execution_count": 157,
   "metadata": {
    "id": "w2Ah0X-Y1b-N"
   },
   "outputs": [],
   "source": [
    "var = 'LEFTOVER'"
   ]
  },
  {
   "cell_type": "markdown",
   "metadata": {
    "id": "xUVaVf_i1b-N"
   },
   "source": [
    "① 그래프 : histogram, densityplot"
   ]
  },
  {
   "cell_type": "markdown",
   "metadata": {
    "id": "0d1ZHstk1b-O"
   },
   "source": [
    "시각화를 통해 파악한 내용을 적어 봅시다."
   ]
  },
  {
   "cell_type": "code",
   "execution_count": 158,
   "metadata": {
    "id": "lhukAtUl1b-O"
   },
   "outputs": [
    {
     "data": {
      "image/png": "[encoded data removed]",
      "text/plain": [
       "<Figure size 1080x360 with 3 Axes>"
      ]
     },
     "metadata": {
      "needs_background": "light"
     },
     "output_type": "display_data"
    }
   ],
   "source": [
    "plt.figure(figsize = (15,5))\n",
    "plt.subplot(1,3,1)\n",
    "sns.kdeplot(x=var, data = mobile, hue =target, common_norm = False)\n",
    "\n",
    "plt.subplot(1,3,2)\n",
    "sns.kdeplot(x=var, data = mobile, hue =target, multiple = 'fill')\n",
    "plt.axhline(mobile[target].mean(), color = 'r')\n",
    "\n",
    "plt.subplot(1,3,3)\n",
    "sns.histplot(x=var, data = mobile, bins = 30\n",
    "             , hue =target, multiple = 'fill')\n",
    "plt.axhline(mobile[target].mean(), color = 'r')\n",
    "plt.show()"
   ]
  },
  {
   "cell_type": "markdown",
   "metadata": {
    "id": "olElGSsl1b-O"
   },
   "source": [
    "② 수치화 : 로지스틱회귀"
   ]
  },
  {
   "cell_type": "code",
   "execution_count": 159,
   "metadata": {
    "id": "pliM6Uoo1b-O"
   },
   "outputs": [
    {
     "name": "stdout",
     "output_type": "stream",
     "text": [
      "Optimization terminated successfully.\n",
      "         Current function value: 0.692532\n",
      "         Iterations 3\n",
      "LEFTOVER    0.000003\n",
      "dtype: float64\n"
     ]
    }
   ],
   "source": [
    "model=sm.Logit(mobile[target], mobile[var])\n",
    "result=model.fit()\n",
    "print(result.pvalues)"
   ]
  },
  {
   "cell_type": "markdown",
   "metadata": {
    "id": "qpSY-7X01b-P"
   },
   "source": [
    "③ 시각화와 수치화를 통해 파악한 내용을 적어 봅시다."
   ]
  },
  {
   "cell_type": "markdown",
   "metadata": {
    "id": "C1vT6xz61b-P"
   },
   "source": [
    "- 매달 잔여시간을 30분보다 넘게 남기는사람들의 이탈율이 비교적 높게 나왔다. p-value도 타당한 수치이다 \n",
    "- 잔여 시간이 30분정도 모자라는것은 간편한 쿠폰등을 발급 받을수 있게 해보자"
   ]
  },
  {
   "cell_type": "markdown",
   "metadata": {
    "id": "iIAxmpvtexHt"
   },
   "source": [
    "#### 4) HOUSE --> CHURN\n"
   ]
  },
  {
   "cell_type": "markdown",
   "metadata": {
    "id": "eks_HdkfexHt"
   },
   "source": [
    "* **[주의]** HOUSE에 NaN이 존재합니다. ==> 로지스틱회귀를 수행하기 위해서는 NaN을 제외한 데이터로 수행해야 합니다."
   ]
  },
  {
   "cell_type": "code",
   "execution_count": 3,
   "metadata": {
    "id": "6Ka-Ujih1fC-"
   },
   "outputs": [],
   "source": [
    "var = 'HOUSE'"
   ]
  },
  {
   "cell_type": "markdown",
   "metadata": {
    "id": "VHPdeie41fC-"
   },
   "source": [
    "① 그래프 : histogram, densityplot"
   ]
  },
  {
   "cell_type": "markdown",
   "metadata": {
    "id": "i0SHjh_D1fC_"
   },
   "source": [
    "시각화를 통해 파악한 내용을 적어 봅시다."
   ]
  },
  {
   "cell_type": "code",
   "execution_count": 10,
   "metadata": {
    "id": "zFSf_IOJ1fC_"
   },
   "outputs": [
    {
     "data": {
      "image/png": "[encoded data removed]",
      "text/plain": [
       "<Figure size 1080x360 with 3 Axes>"
      ]
     },
     "metadata": {
      "needs_background": "light"
     },
     "output_type": "display_data"
    }
   ],
   "source": [
    "plt.figure(figsize = (15,5))\n",
    "plt.subplot(1,3,1)\n",
    "sns.kdeplot(x=var, data = mobile, hue =target, common_norm = False)\n",
    "\n",
    "plt.subplot(1,3,2)\n",
    "sns.kdeplot(x=var, data = mobile, hue =target, multiple = 'fill')\n",
    "plt.axhline(mobile[target].mean(), color = 'r')\n",
    "\n",
    "plt.subplot(1,3,3)\n",
    "sns.histplot(x=var, data = mobile, bins = 30\n",
    "             , hue =target, multiple = 'fill')\n",
    "plt.axhline(mobile[target].mean(), color = 'r')\n",
    "plt.show()"
   ]
  },
  {
   "cell_type": "code",
   "execution_count": 11,
   "metadata": {},
   "outputs": [
    {
     "name": "stdout",
     "output_type": "stream",
     "text": [
      "<class 'pandas.core.frame.DataFrame'>\n",
      "Int64Index: 17747 entries, 0 to 17784\n",
      "Data columns (total 10 columns):\n",
      " #   Column                      Non-Null Count  Dtype  \n",
      "---  ------                      --------------  -----  \n",
      " 0   COLLEGE                     17747 non-null  int64  \n",
      " 1   INCOME                      17747 non-null  int64  \n",
      " 2   OVERAGE                     17747 non-null  int64  \n",
      " 3   LEFTOVER                    17747 non-null  int64  \n",
      " 4   HOUSE                       17747 non-null  float64\n",
      " 5   HANDSET_PRICE               17747 non-null  int64  \n",
      " 6   AVERAGE_CALL_DURATION       17747 non-null  int64  \n",
      " 7   REPORTED_SATISFACTION       17747 non-null  object \n",
      " 8   CONSIDERING_CHANGE_OF_PLAN  17747 non-null  object \n",
      " 9   CHURN                       17747 non-null  int64  \n",
      "dtypes: float64(1), int64(7), object(2)\n",
      "memory usage: 1.5+ MB\n"
     ]
    }
   ],
   "source": [
    "tmp = mobile.dropna(axis=0)\n",
    "tmp.info()"
   ]
  },
  {
   "cell_type": "markdown",
   "metadata": {
    "id": "w165z5Rh1fC_"
   },
   "source": [
    "② 수치화 : 로지스틱회귀"
   ]
  },
  {
   "cell_type": "code",
   "execution_count": 12,
   "metadata": {
    "id": "JGRj_TMi1fC_"
   },
   "outputs": [
    {
     "name": "stdout",
     "output_type": "stream",
     "text": [
      "Optimization terminated successfully.\n",
      "         Current function value: 0.687256\n",
      "         Iterations 2\n",
      "HOUSE    6.686896e-47\n",
      "dtype: float64\n"
     ]
    }
   ],
   "source": [
    "model=sm.Logit(tmp[target], tmp[var])\n",
    "result=model.fit()\n",
    "print(result.pvalues)"
   ]
  },
  {
   "cell_type": "markdown",
   "metadata": {
    "id": "CSSmtXg11fDA"
   },
   "source": [
    "③ 시각화와 수치화를 통해 파악한 내용을 적어 봅시다."
   ]
  },
  {
   "cell_type": "code",
   "execution_count": null,
   "metadata": {
    "id": "SPsNQR6Z1fDA"
   },
   "outputs": [],
   "source": []
  },
  {
   "cell_type": "markdown",
   "metadata": {
    "id": "RjpegatVexHw"
   },
   "source": [
    "#### 5) HANDSET_PRICE --> CHURN\n"
   ]
  },
  {
   "cell_type": "code",
   "execution_count": 13,
   "metadata": {
    "id": "WEMN93u61hwQ"
   },
   "outputs": [],
   "source": [
    "var = 'HANDSET_PRICE'"
   ]
  },
  {
   "cell_type": "markdown",
   "metadata": {
    "id": "cijyKxcy1hwQ"
   },
   "source": [
    "① 그래프 : histogram, densityplot"
   ]
  },
  {
   "cell_type": "markdown",
   "metadata": {
    "id": "szwLjD5A1hwR"
   },
   "source": [
    "시각화를 통해 파악한 내용을 적어 봅시다."
   ]
  },
  {
   "cell_type": "code",
   "execution_count": 14,
   "metadata": {
    "id": "rc8JY4Tw1hwR"
   },
   "outputs": [
    {
     "data": {
      "image/png": "[encoded data removed]",
      "text/plain": [
       "<Figure size 1080x360 with 3 Axes>"
      ]
     },
     "metadata": {
      "needs_background": "light"
     },
     "output_type": "display_data"
    }
   ],
   "source": [
    "plt.figure(figsize = (15,5))\n",
    "plt.subplot(1,3,1)\n",
    "sns.kdeplot(x=var, data = mobile, hue =target, common_norm = False)\n",
    "\n",
    "plt.subplot(1,3,2)\n",
    "sns.kdeplot(x=var, data = mobile, hue =target, multiple = 'fill')\n",
    "plt.axhline(mobile[target].mean(), color = 'r')\n",
    "\n",
    "plt.subplot(1,3,3)\n",
    "sns.histplot(x=var, data = mobile, bins = 30\n",
    "             , hue =target, multiple = 'fill')\n",
    "plt.axhline(mobile[target].mean(), color = 'r')\n",
    "plt.show()"
   ]
  },
  {
   "cell_type": "markdown",
   "metadata": {},
   "source": [
    "- 가격이 400 달러 기준으로 나뉨 * 이내: 이탈율 낮음 * 이상:이탈율 높음"
   ]
  },
  {
   "cell_type": "markdown",
   "metadata": {
    "id": "m-sXfRr21hwR"
   },
   "source": [
    "② 수치화 : 로지스틱회귀"
   ]
  },
  {
   "cell_type": "code",
   "execution_count": 16,
   "metadata": {
    "id": "f-OZjmZD1hwR"
   },
   "outputs": [
    {
     "name": "stdout",
     "output_type": "stream",
     "text": [
      "Optimization terminated successfully.\n",
      "         Current function value: 0.692730\n",
      "         Iterations 3\n",
      "HANDSET_PRICE    0.000107\n",
      "dtype: float64\n"
     ]
    }
   ],
   "source": [
    "model=sm.Logit(mobile[target], mobile[var])\n",
    "result=model.fit()\n",
    "print(result.pvalues)"
   ]
  },
  {
   "cell_type": "markdown",
   "metadata": {
    "id": "ttg6KrG91hwR"
   },
   "source": [
    "③ 시각화와 수치화를 통해 파악한 내용을 적어 봅시다."
   ]
  },
  {
   "cell_type": "code",
   "execution_count": null,
   "metadata": {
    "id": "7FRa9F_W1hwS"
   },
   "outputs": [],
   "source": []
  },
  {
   "cell_type": "markdown",
   "metadata": {
    "id": "U8f7BOE3exHy"
   },
   "source": [
    "#### 6) AVERAGE_CALL_DURATION --> CHURN\n"
   ]
  },
  {
   "cell_type": "code",
   "execution_count": 167,
   "metadata": {
    "id": "OMbq3ag81kOl"
   },
   "outputs": [],
   "source": [
    "var = 'AVERAGE_CALL_DURATION'"
   ]
  },
  {
   "cell_type": "markdown",
   "metadata": {
    "id": "t-Z6FYv01kOm"
   },
   "source": [
    "① 그래프 : histogram, densityplot"
   ]
  },
  {
   "cell_type": "markdown",
   "metadata": {
    "id": "OWi5QjBF1kOm"
   },
   "source": [
    "시각화를 통해 파악한 내용을 적어 봅시다."
   ]
  },
  {
   "cell_type": "code",
   "execution_count": 169,
   "metadata": {
    "id": "QMNYzWc31kOn"
   },
   "outputs": [
    {
     "data": {
      "image/png": "[encoded data removed]",
      "text/plain": [
       "<Figure size 1080x360 with 3 Axes>"
      ]
     },
     "metadata": {
      "needs_background": "light"
     },
     "output_type": "display_data"
    }
   ],
   "source": [
    "plt.figure(figsize = (15,5))\n",
    "plt.subplot(1,3,1)\n",
    "sns.kdeplot(x=var, data = mobile, hue =target, common_norm = False)\n",
    "\n",
    "plt.subplot(1,3,2)\n",
    "sns.kdeplot(x=var, data = mobile, hue =target, multiple = 'fill')\n",
    "plt.axhline(mobile[target].mean(), color = 'r')\n",
    "\n",
    "plt.subplot(1,3,3)\n",
    "sns.histplot(x=var, data = mobile, bins = 30\n",
    "             , hue =target, multiple = 'fill')\n",
    "plt.axhline(mobile[target].mean(), color = 'r')\n",
    "plt.show()"
   ]
  },
  {
   "cell_type": "markdown",
   "metadata": {
    "id": "lE-el3t11kOn"
   },
   "source": [
    "② 수치화 : 로지스틱회귀"
   ]
  },
  {
   "cell_type": "code",
   "execution_count": 15,
   "metadata": {
    "id": "Qg4XObTK1kOn"
   },
   "outputs": [
    {
     "name": "stdout",
     "output_type": "stream",
     "text": [
      "Optimization terminated successfully.\n",
      "         Current function value: 0.692695\n",
      "         Iterations 3\n",
      "HANDSET_PRICE    0.000063\n",
      "dtype: float64\n"
     ]
    }
   ],
   "source": [
    "model=sm.Logit(tmp[target], tmp[var])\n",
    "result=model.fit()\n",
    "print(result.pvalues)"
   ]
  },
  {
   "cell_type": "markdown",
   "metadata": {
    "id": "3_pDs3gS1kOn"
   },
   "source": [
    "③ 시각화와 수치화를 통해 파악한 내용을 적어 봅시다."
   ]
  },
  {
   "cell_type": "markdown",
   "metadata": {
    "id": "pMC3jI4b1kOo"
   },
   "source": [
    "- 평균시간 3분이내 이탈율 높음 3~7낮음 7분이상 약간높음"
   ]
  },
  {
   "cell_type": "markdown",
   "metadata": {
    "id": "GBEVRZTKexH0"
   },
   "source": [
    "## 2.관계 정리"
   ]
  },
  {
   "cell_type": "markdown",
   "metadata": {
    "id": "CBgniYSAexH1"
   },
   "source": [
    "### 1) 강한관계의 변수"
   ]
  },
  {
   "cell_type": "code",
   "execution_count": null,
   "metadata": {
    "id": "OSaqmaQ91m7a"
   },
   "outputs": [],
   "source": [
    "income\n",
    "overge\n",
    "leftover\n",
    "house"
   ]
  },
  {
   "cell_type": "markdown",
   "metadata": {
    "id": "DMTd_6g9exH1"
   },
   "source": [
    "### 2) 약한관계의 변수"
   ]
  },
  {
   "cell_type": "code",
   "execution_count": null,
   "metadata": {
    "id": "lYKwcg3m1ojk"
   },
   "outputs": [],
   "source": [
    "college\n",
    "handset_price\n",
    "average_call_duration"
   ]
  },
  {
   "cell_type": "markdown",
   "metadata": {
    "id": "LU1KiuiBexH1"
   },
   "source": [
    "### 3) 관계 없음"
   ]
  },
  {
   "cell_type": "code",
   "execution_count": null,
   "metadata": {
    "id": "uVE7rZZ61pk2"
   },
   "outputs": [],
   "source": [
    "reported_satisfaction\n",
    "considering_change_of_plan"
   ]
  },
  {
   "cell_type": "markdown",
   "metadata": {
    "id": "XQyIfXpHexH1"
   },
   "source": [
    "### 4) 추가 분석"
   ]
  },
  {
   "cell_type": "code",
   "execution_count": null,
   "metadata": {
    "id": "ETrJJ_CwexH1"
   },
   "outputs": [],
   "source": []
  },
  {
   "cell_type": "code",
   "execution_count": null,
   "metadata": {},
   "outputs": [],
   "source": []
  }
 ],
 "metadata": {
  "colab": {
   "collapsed_sections": [],
   "name": "15과 이변량 분석 종합실습2.ipynb",
   "provenance": [],
   "toc_visible": true
  },
  "kernelspec": {
   "display_name": "Python 3 (ipykernel)",
   "language": "python",
   "name": "python3"
  },
  "language_info": {
   "codemirror_mode": {
    "name": "ipython",
    "version": 3
   },
   "file_extension": ".py",
   "mimetype": "text/x-python",
   "name": "python",
   "nbconvert_exporter": "python",
   "pygments_lexer": "ipython3",
   "version": "3.9.12"
  }
 },
 "nbformat": 4,
 "nbformat_minor": 4
}
