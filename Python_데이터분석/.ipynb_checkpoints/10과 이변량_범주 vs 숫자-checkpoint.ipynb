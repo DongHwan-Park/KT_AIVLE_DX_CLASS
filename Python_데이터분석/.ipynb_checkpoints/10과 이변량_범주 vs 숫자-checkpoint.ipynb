{
 "cells": [
  {
   "cell_type": "markdown",
   "metadata": {
    "id": "EnlYouStN0Le"
   },
   "source": [
    "# 이변량_범주 vs 숫자"
   ]
  },
  {
   "cell_type": "markdown",
   "metadata": {
    "id": "0SJP-uYxN0Lk"
   },
   "source": [
    "## 1.환경준비"
   ]
  },
  {
   "cell_type": "markdown",
   "metadata": {
    "id": "6dMK5CsEN0Lk"
   },
   "source": [
    "* 라이브러리 불러오기"
   ]
  },
  {
   "cell_type": "code",
   "execution_count": 41,
   "metadata": {
    "id": "Sma8Fku5N0Ll"
   },
   "outputs": [],
   "source": [
    "import pandas as pd\n",
    "import numpy as np\n",
    "import random as rd\n",
    "\n",
    "import matplotlib.pyplot as plt\n",
    "import seaborn as sns\n",
    "\n",
    "import scipy.stats as spst"
   ]
  },
  {
   "cell_type": "markdown",
   "metadata": {
    "id": "NCpMWLagN0Ln"
   },
   "source": [
    "* 데이터 불러오기 : 다음의 예제 데이터를 사용합니다.\n",
    "> 타이타닉 생존자"
   ]
  },
  {
   "cell_type": "markdown",
   "metadata": {
    "id": "LyXit-TSn-7m"
   },
   "source": [
    "|\t변수\t|\t설명\t|\t값 설명\t|\n",
    "|\t----\t|\t----\t|\t----\t|\n",
    "|\tsurvived\t|\t생존여부\t|\t0 - 사망, 1- 생존\t|\n",
    "|\tPclass\t|\tTicket class\t|\t1 = 1st, 2 = 2nd, 3 = 3rd\t|\n",
    "|\tSex\t|\t성별\t|\t\t|\n",
    "|\tAge\t|\tAge in years\t|\t\t|\n",
    "|\tSibsp\t|\t# of siblings / spouses aboard the Titanic\t|\t\t|\n",
    "|\tParch\t|\t# of parents / children aboard the Titanic\t|\t\t|\n",
    "|\tTicket\t|\tTicket number\t|\t\t|\n",
    "|\tFare\t|\tPassenger fare\t|\t\t|\n",
    "|\tCabin\t|\tCabin number\t|\t\t|\n",
    "|\tEmbarked\t|\tPort of Embarkation\t|\tC = Cherbourg, Q = Queenstown, S = Southampton\t|\n"
   ]
  },
  {
   "cell_type": "code",
   "execution_count": 2,
   "metadata": {
    "id": "si-trqDhN0Lo"
   },
   "outputs": [
    {
     "data": {
      "text/html": [
       "<div>\n",
       "<style scoped>\n",
       "    .dataframe tbody tr th:only-of-type {\n",
       "        vertical-align: middle;\n",
       "    }\n",
       "\n",
       "    .dataframe tbody tr th {\n",
       "        vertical-align: top;\n",
       "    }\n",
       "\n",
       "    .dataframe thead th {\n",
       "        text-align: right;\n",
       "    }\n",
       "</style>\n",
       "<table border=\"1\" class=\"dataframe\">\n",
       "  <thead>\n",
       "    <tr style=\"text-align: right;\">\n",
       "      <th></th>\n",
       "      <th>PassengerId</th>\n",
       "      <th>Survived</th>\n",
       "      <th>Pclass</th>\n",
       "      <th>Name</th>\n",
       "      <th>Sex</th>\n",
       "      <th>Age</th>\n",
       "      <th>SibSp</th>\n",
       "      <th>Parch</th>\n",
       "      <th>Ticket</th>\n",
       "      <th>Fare</th>\n",
       "      <th>Cabin</th>\n",
       "      <th>Embarked</th>\n",
       "    </tr>\n",
       "  </thead>\n",
       "  <tbody>\n",
       "    <tr>\n",
       "      <th>0</th>\n",
       "      <td>1</td>\n",
       "      <td>0</td>\n",
       "      <td>3</td>\n",
       "      <td>Braund, Mr. Owen Harris</td>\n",
       "      <td>male</td>\n",
       "      <td>22.0</td>\n",
       "      <td>1</td>\n",
       "      <td>0</td>\n",
       "      <td>A/5 21171</td>\n",
       "      <td>7.2500</td>\n",
       "      <td>NaN</td>\n",
       "      <td>S</td>\n",
       "    </tr>\n",
       "    <tr>\n",
       "      <th>1</th>\n",
       "      <td>2</td>\n",
       "      <td>1</td>\n",
       "      <td>1</td>\n",
       "      <td>Cumings, Mrs. John Bradley (Florence Briggs Th...</td>\n",
       "      <td>female</td>\n",
       "      <td>38.0</td>\n",
       "      <td>1</td>\n",
       "      <td>0</td>\n",
       "      <td>PC 17599</td>\n",
       "      <td>71.2833</td>\n",
       "      <td>C85</td>\n",
       "      <td>C</td>\n",
       "    </tr>\n",
       "    <tr>\n",
       "      <th>2</th>\n",
       "      <td>3</td>\n",
       "      <td>1</td>\n",
       "      <td>3</td>\n",
       "      <td>Heikkinen, Miss. Laina</td>\n",
       "      <td>female</td>\n",
       "      <td>26.0</td>\n",
       "      <td>0</td>\n",
       "      <td>0</td>\n",
       "      <td>STON/O2. 3101282</td>\n",
       "      <td>7.9250</td>\n",
       "      <td>NaN</td>\n",
       "      <td>S</td>\n",
       "    </tr>\n",
       "    <tr>\n",
       "      <th>3</th>\n",
       "      <td>4</td>\n",
       "      <td>1</td>\n",
       "      <td>1</td>\n",
       "      <td>Futrelle, Mrs. Jacques Heath (Lily May Peel)</td>\n",
       "      <td>female</td>\n",
       "      <td>35.0</td>\n",
       "      <td>1</td>\n",
       "      <td>0</td>\n",
       "      <td>113803</td>\n",
       "      <td>53.1000</td>\n",
       "      <td>C123</td>\n",
       "      <td>S</td>\n",
       "    </tr>\n",
       "    <tr>\n",
       "      <th>4</th>\n",
       "      <td>5</td>\n",
       "      <td>0</td>\n",
       "      <td>3</td>\n",
       "      <td>Allen, Mr. William Henry</td>\n",
       "      <td>male</td>\n",
       "      <td>35.0</td>\n",
       "      <td>0</td>\n",
       "      <td>0</td>\n",
       "      <td>373450</td>\n",
       "      <td>8.0500</td>\n",
       "      <td>NaN</td>\n",
       "      <td>S</td>\n",
       "    </tr>\n",
       "  </tbody>\n",
       "</table>\n",
       "</div>"
      ],
      "text/plain": [
       "   PassengerId  Survived  Pclass  \\\n",
       "0            1         0       3   \n",
       "1            2         1       1   \n",
       "2            3         1       3   \n",
       "3            4         1       1   \n",
       "4            5         0       3   \n",
       "\n",
       "                                                Name     Sex   Age  SibSp  \\\n",
       "0                            Braund, Mr. Owen Harris    male  22.0      1   \n",
       "1  Cumings, Mrs. John Bradley (Florence Briggs Th...  female  38.0      1   \n",
       "2                             Heikkinen, Miss. Laina  female  26.0      0   \n",
       "3       Futrelle, Mrs. Jacques Heath (Lily May Peel)  female  35.0      1   \n",
       "4                           Allen, Mr. William Henry    male  35.0      0   \n",
       "\n",
       "   Parch            Ticket     Fare Cabin Embarked  \n",
       "0      0         A/5 21171   7.2500   NaN        S  \n",
       "1      0          PC 17599  71.2833   C85        C  \n",
       "2      0  STON/O2. 3101282   7.9250   NaN        S  \n",
       "3      0            113803  53.1000  C123        S  \n",
       "4      0            373450   8.0500   NaN        S  "
      ]
     },
     "execution_count": 2,
     "metadata": {},
     "output_type": "execute_result"
    }
   ],
   "source": [
    "# 타이타닉 데이터\n",
    "titanic = pd.read_csv('https://raw.githubusercontent.com/DA4BAM/dataset/master/titanic.0.csv')\n",
    "titanic.head()"
   ]
  },
  {
   "cell_type": "markdown",
   "metadata": {
    "id": "KPClTP--BP0w"
   },
   "source": [
    "범주별 숫자를 비교할 때 사용되는 방식은 **범주별 평균 비교** 입니다.  \n"
   ]
  },
  {
   "cell_type": "markdown",
   "metadata": {
    "id": "Xv7rJwJhnE_I"
   },
   "source": [
    "## 2.범주 --> 숫자\n",
    "\n",
    "titanic data에서 Age를 Y로 두고 비교해 봅시다."
   ]
  },
  {
   "cell_type": "markdown",
   "metadata": {
    "id": "n0eqOJBAgv_i"
   },
   "source": [
    "### 1) 시각화 : 평균 비교 barplot, boxplot "
   ]
  },
  {
   "cell_type": "code",
   "execution_count": 42,
   "metadata": {
    "id": "NJQhnVuSBq4c"
   },
   "outputs": [
    {
     "data": {
      "image/png": "[encoded data removed]",
      "text/plain": [
       "<Figure size 432x288 with 1 Axes>"
      ]
     },
     "metadata": {
      "needs_background": "light"
     },
     "output_type": "display_data"
    }
   ],
   "source": [
    "# sns.barplot는 두 범주의 평균 비교 sns.barplot\n",
    "sns.barplot(x=\"Survived\", y=\"Age\", data=titanic)\n",
    "plt.grid()\n",
    "plt.show()"
   ]
  },
  {
   "cell_type": "markdown",
   "metadata": {
    "id": "n8sQTkSnh-mG"
   },
   "source": [
    "위 두 범주간에 평균에 차이가 있나요?"
   ]
  },
  {
   "cell_type": "code",
   "execution_count": null,
   "metadata": {
    "id": "dr5lNzwlD7dQ"
   },
   "outputs": [],
   "source": []
  },
  {
   "cell_type": "code",
   "execution_count": 5,
   "metadata": {
    "id": "UukJEX7KAmT8"
   },
   "outputs": [
    {
     "data": {
      "image/png": "[encoded data removed]",
      "text/plain": [
       "<Figure size 432x288 with 1 Axes>"
      ]
     },
     "metadata": {
      "needs_background": "light"
     },
     "output_type": "display_data"
    }
   ],
   "source": [
    "# 박스플롯으로 비교해 봅시다.\n",
    "titanic.boxplot('Age', 'Survived')\n",
    "plt.show()"
   ]
  },
  {
   "cell_type": "markdown",
   "metadata": {
    "id": "4UHk56yBiSL1"
   },
   "source": [
    "### 2)수치화 : t-test(두 범주), anova(세 범주 이상)"
   ]
  },
  {
   "cell_type": "markdown",
   "metadata": {
    "id": "GZK2CM-Wim3v"
   },
   "source": [
    "#### ①t-test\n",
    "두 집단의 평균을 비교합니다.\n",
    "* 예제는 Two sample T-test와 양측검정만 다룹니다. \n",
    "* 우리는 X --> Y의 관계에서 ,두 변수간에 관련이(차이가) 있는지, 없는지를 확인하는 것이 제일 중요하기 때문입니다.\n",
    "\n",
    "* 주의사항 : 데이터에 NaN이 있으면 계산이 안됩니다. .notnull() 등으로 NaN을 제외한 데이터를 사용해야 합니다.\n",
    "\n",
    "* t 통계량\n",
    "    * 두 평균의 차이를 표준오차로 나눈 값.\n",
    "    * 기본적으로는 두 평균의 차이로 이해해도 좋습니다.\n",
    "    * 우리의 가설(대립가설)은 차이가 있다는 것이므로, t 값이 크던지 작던지 하기를 바랍니다. \n",
    "    * 보통, t 값이 -2보다 작거나, 2보다 크면 차이가 있다고 봅니다. "
   ]
  },
  {
   "cell_type": "code",
   "execution_count": 6,
   "metadata": {
    "id": "W588QVPjnE_L"
   },
   "outputs": [],
   "source": [
    "import scipy.stats as spst\n",
    "import numpy as np\n",
    "import random as rd\n"
   ]
  },
  {
   "cell_type": "code",
   "execution_count": 7,
   "metadata": {
    "id": "4OodmXKXpoQ3"
   },
   "outputs": [],
   "source": [
    "# 모집단 만들기\n",
    "pop1 = [round(rd.normalvariate(160, 10),1) for i in range(100000)]\n",
    "pop2 = [round(rd.normalvariate(170, 10),1) for i in range(100000)]"
   ]
  },
  {
   "cell_type": "code",
   "execution_count": null,
   "metadata": {
    "id": "cPF5nXvMp1Q-"
   },
   "outputs": [],
   "source": [
    "# 우리는 모집단을 알 수 없지만. 그래도 살짝 살펴봅시다.\n",
    "plt.figure(figsize=(10,6))\n",
    "sns.distplot(pop1, hist=False, kde=True)\n",
    "sns.distplot(pop2, hist=False, kde=True)\n",
    "plt.show()"
   ]
  },
  {
   "cell_type": "code",
   "execution_count": null,
   "metadata": {
    "id": "uYDGmkhXne5j"
   },
   "outputs": [],
   "source": [
    "# 표본을 추출합니다. 먼저 pop1으로 부터 두 샘플을 추출합시다.\n",
    "s1 = rd.sample(pop1,100)\n",
    "s2 = rd.sample(pop1,100)\n"
   ]
  },
  {
   "cell_type": "code",
   "execution_count": null,
   "metadata": {
    "id": "BP1OT6K4qzN9"
   },
   "outputs": [],
   "source": [
    "# t-test\n",
    "spst.ttest_ind(s1, s2)"
   ]
  },
  {
   "cell_type": "markdown",
   "metadata": {
    "id": "rnixsBiMq8wI"
   },
   "source": [
    "p.value의 의미는?"
   ]
  },
  {
   "cell_type": "code",
   "execution_count": null,
   "metadata": {
    "id": "HvP4JK6kq73R"
   },
   "outputs": [],
   "source": []
  },
  {
   "cell_type": "code",
   "execution_count": null,
   "metadata": {
    "id": "ePBOfjTvq7sp"
   },
   "outputs": [],
   "source": [
    "# 이번에는 두 모집단으로 부터 각각 샘플링\n",
    "s1 = rd.sample(pop1,100)\n",
    "s2 = rd.sample(pop2,100)"
   ]
  },
  {
   "cell_type": "code",
   "execution_count": null,
   "metadata": {
    "id": "bCeQ4AsFrIYp"
   },
   "outputs": [],
   "source": [
    "# t-test\n",
    "spst.ttest_ind(s1, s2)"
   ]
  },
  {
   "cell_type": "markdown",
   "metadata": {
    "id": "bLaA72udrL4C"
   },
   "source": [
    "p.value의 의미는?"
   ]
  },
  {
   "cell_type": "code",
   "execution_count": null,
   "metadata": {
    "id": "1ypT6OtHrL4C"
   },
   "outputs": [],
   "source": []
  },
  {
   "cell_type": "markdown",
   "metadata": {
    "id": "KJ3I2aNrrLib"
   },
   "source": [
    "* 이번엔 타이타닉 데이터로 시도해 봅시다.\n",
    "    * 생존여부 --> Age : 생존여부 별로 나이에 차이가 있을것이다.\n"
   ]
  },
  {
   "cell_type": "code",
   "execution_count": 8,
   "metadata": {
    "id": "n4kXmaaqSR_4"
   },
   "outputs": [
    {
     "data": {
      "text/plain": [
       "PassengerId      0\n",
       "Survived         0\n",
       "Pclass           0\n",
       "Name             0\n",
       "Sex              0\n",
       "Age            177\n",
       "SibSp            0\n",
       "Parch            0\n",
       "Ticket           0\n",
       "Fare             0\n",
       "Cabin          687\n",
       "Embarked         2\n",
       "dtype: int64"
      ]
     },
     "execution_count": 8,
     "metadata": {},
     "output_type": "execute_result"
    }
   ],
   "source": [
    "# 먼저 NaN이 있는지 확인해 봅시다.\n",
    "titanic.isna().sum()"
   ]
  },
  {
   "cell_type": "code",
   "execution_count": 11,
   "metadata": {},
   "outputs": [
    {
     "data": {
      "text/html": [
       "<div>\n",
       "<style scoped>\n",
       "    .dataframe tbody tr th:only-of-type {\n",
       "        vertical-align: middle;\n",
       "    }\n",
       "\n",
       "    .dataframe tbody tr th {\n",
       "        vertical-align: top;\n",
       "    }\n",
       "\n",
       "    .dataframe thead th {\n",
       "        text-align: right;\n",
       "    }\n",
       "</style>\n",
       "<table border=\"1\" class=\"dataframe\">\n",
       "  <thead>\n",
       "    <tr style=\"text-align: right;\">\n",
       "      <th></th>\n",
       "      <th>PassengerId</th>\n",
       "      <th>Survived</th>\n",
       "      <th>Pclass</th>\n",
       "      <th>Name</th>\n",
       "      <th>Sex</th>\n",
       "      <th>Age</th>\n",
       "      <th>SibSp</th>\n",
       "      <th>Parch</th>\n",
       "      <th>Ticket</th>\n",
       "      <th>Fare</th>\n",
       "      <th>Cabin</th>\n",
       "      <th>Embarked</th>\n",
       "    </tr>\n",
       "  </thead>\n",
       "  <tbody>\n",
       "    <tr>\n",
       "      <th>0</th>\n",
       "      <td>1</td>\n",
       "      <td>0</td>\n",
       "      <td>3</td>\n",
       "      <td>Braund, Mr. Owen Harris</td>\n",
       "      <td>male</td>\n",
       "      <td>22.0</td>\n",
       "      <td>1</td>\n",
       "      <td>0</td>\n",
       "      <td>A/5 21171</td>\n",
       "      <td>7.2500</td>\n",
       "      <td>NaN</td>\n",
       "      <td>S</td>\n",
       "    </tr>\n",
       "    <tr>\n",
       "      <th>1</th>\n",
       "      <td>2</td>\n",
       "      <td>1</td>\n",
       "      <td>1</td>\n",
       "      <td>Cumings, Mrs. John Bradley (Florence Briggs Th...</td>\n",
       "      <td>female</td>\n",
       "      <td>38.0</td>\n",
       "      <td>1</td>\n",
       "      <td>0</td>\n",
       "      <td>PC 17599</td>\n",
       "      <td>71.2833</td>\n",
       "      <td>C85</td>\n",
       "      <td>C</td>\n",
       "    </tr>\n",
       "    <tr>\n",
       "      <th>2</th>\n",
       "      <td>3</td>\n",
       "      <td>1</td>\n",
       "      <td>3</td>\n",
       "      <td>Heikkinen, Miss. Laina</td>\n",
       "      <td>female</td>\n",
       "      <td>26.0</td>\n",
       "      <td>0</td>\n",
       "      <td>0</td>\n",
       "      <td>STON/O2. 3101282</td>\n",
       "      <td>7.9250</td>\n",
       "      <td>NaN</td>\n",
       "      <td>S</td>\n",
       "    </tr>\n",
       "    <tr>\n",
       "      <th>3</th>\n",
       "      <td>4</td>\n",
       "      <td>1</td>\n",
       "      <td>1</td>\n",
       "      <td>Futrelle, Mrs. Jacques Heath (Lily May Peel)</td>\n",
       "      <td>female</td>\n",
       "      <td>35.0</td>\n",
       "      <td>1</td>\n",
       "      <td>0</td>\n",
       "      <td>113803</td>\n",
       "      <td>53.1000</td>\n",
       "      <td>C123</td>\n",
       "      <td>S</td>\n",
       "    </tr>\n",
       "    <tr>\n",
       "      <th>4</th>\n",
       "      <td>5</td>\n",
       "      <td>0</td>\n",
       "      <td>3</td>\n",
       "      <td>Allen, Mr. William Henry</td>\n",
       "      <td>male</td>\n",
       "      <td>35.0</td>\n",
       "      <td>0</td>\n",
       "      <td>0</td>\n",
       "      <td>373450</td>\n",
       "      <td>8.0500</td>\n",
       "      <td>NaN</td>\n",
       "      <td>S</td>\n",
       "    </tr>\n",
       "  </tbody>\n",
       "</table>\n",
       "</div>"
      ],
      "text/plain": [
       "   PassengerId  Survived  Pclass  \\\n",
       "0            1         0       3   \n",
       "1            2         1       1   \n",
       "2            3         1       3   \n",
       "3            4         1       1   \n",
       "4            5         0       3   \n",
       "\n",
       "                                                Name     Sex   Age  SibSp  \\\n",
       "0                            Braund, Mr. Owen Harris    male  22.0      1   \n",
       "1  Cumings, Mrs. John Bradley (Florence Briggs Th...  female  38.0      1   \n",
       "2                             Heikkinen, Miss. Laina  female  26.0      0   \n",
       "3       Futrelle, Mrs. Jacques Heath (Lily May Peel)  female  35.0      1   \n",
       "4                           Allen, Mr. William Henry    male  35.0      0   \n",
       "\n",
       "   Parch            Ticket     Fare Cabin Embarked  \n",
       "0      0         A/5 21171   7.2500   NaN        S  \n",
       "1      0          PC 17599  71.2833   C85        C  \n",
       "2      0  STON/O2. 3101282   7.9250   NaN        S  \n",
       "3      0            113803  53.1000  C123        S  \n",
       "4      0            373450   8.0500   NaN        S  "
      ]
     },
     "execution_count": 11,
     "metadata": {},
     "output_type": "execute_result"
    }
   ],
   "source": [
    "titanic.head()"
   ]
  },
  {
   "cell_type": "code",
   "execution_count": 9,
   "metadata": {
    "id": "zHCz_442ifcG"
   },
   "outputs": [],
   "source": [
    "temp = titanic.loc[titanic['Age'].notnull()] # NaN 는 빼고 나머지 넣어라.\n",
    "died = temp.loc[temp['Survived']==0, 'Age'] # 그중 죽은사람들 나이\n",
    "survived = temp.loc[temp['Survived']==1, 'Age'] # 산사람들나이"
   ]
  },
  {
   "cell_type": "code",
   "execution_count": 10,
   "metadata": {
    "id": "uSVTNWQdilY_"
   },
   "outputs": [
    {
     "data": {
      "text/plain": [
       "Ttest_indResult(statistic=2.06668694625381, pvalue=0.03912465401348249)"
      ]
     },
     "execution_count": 10,
     "metadata": {},
     "output_type": "execute_result"
    }
   ],
   "source": [
    "spst.ttest_ind(died, survived)  # 결과 (T통계량 , p-value)\n",
    "                                # t통계량이 2이상 or -2이하이면 연관이있다고 본다.\n",
    "                                # pvalue 가 0.05 보다 작은가."
   ]
  },
  {
   "cell_type": "markdown",
   "metadata": {
    "id": "-cfh0-Vtrh-P"
   },
   "source": [
    "#### 실습 : t-test\n",
    "\n",
    "성별에 따라 운임에 차이가 있을 것이다."
   ]
  },
  {
   "cell_type": "code",
   "execution_count": 13,
   "metadata": {
    "id": "uUZ4j47prpHQ"
   },
   "outputs": [
    {
     "data": {
      "image/png": "[encoded data removed]",
      "text/plain": [
       "<Figure size 432x288 with 1 Axes>"
      ]
     },
     "metadata": {
      "needs_background": "light"
     },
     "output_type": "display_data"
    }
   ],
   "source": [
    "# 시각화\n",
    "sns.barplot(x= 'Sex', y='Fare', data = titanic)\n",
    "plt.grid()\n",
    "plt.show()"
   ]
  },
  {
   "cell_type": "code",
   "execution_count": 14,
   "metadata": {
    "id": "V5Txlw0KrsOM"
   },
   "outputs": [
    {
     "data": {
      "text/plain": [
       "Ttest_indResult(statistic=-5.529140269385719, pvalue=4.2308678700429995e-08)"
      ]
     },
     "execution_count": 14,
     "metadata": {},
     "output_type": "execute_result"
    }
   ],
   "source": [
    "# 수치화  t-test\n",
    "# tmp = titanic.loc[titanic['Sex'].notnull()]\n",
    "male = tmp.loc[titanic['Sex'] == 'male', 'Fare' ]\n",
    "female = tmp.loc[titanic['Sex'] == 'female', 'Fare']\n",
    "spst.ttest_ind(male, female)"
   ]
  },
  {
   "cell_type": "code",
   "execution_count": 15,
   "metadata": {},
   "outputs": [
    {
     "data": {
      "text/plain": [
       "Ttest_indResult(statistic=5.529140269385719, pvalue=4.2308678700429995e-08)"
      ]
     },
     "execution_count": 15,
     "metadata": {},
     "output_type": "execute_result"
    }
   ],
   "source": [
    "spst.ttest_ind(female, male)"
   ]
  },
  {
   "cell_type": "markdown",
   "metadata": {
    "id": "gEwfyAAIiuMb"
   },
   "source": [
    "#### ②anova\n",
    "\n",
    "* 분산 분석 **AN**alysis **O**f **VA**riance\n",
    "* 여러 집단 간에 차이는 어떻게 비교할 수 있을까요?\n",
    "* 여기서 기준은 전체 평균 입니다.\n",
    "* 𝐹 통계량 = \n",
    "    * (집단 간 분산)/(집단 내 분산) = (전체 평균 − 각 집단 평균)/(각 집단의 평균 − 개별 값)\n",
    "    * 값이 대략 2~3 이상이면 차이가 있다고 판단합니다."
   ]
  },
  {
   "cell_type": "code",
   "execution_count": 16,
   "metadata": {
    "id": "YYiFvvh8G1t9"
   },
   "outputs": [
    {
     "data": {
      "image/png": "[encoded data removed]",
      "text/plain": [
       "<Figure size 432x288 with 1 Axes>"
      ]
     },
     "metadata": {
      "needs_background": "light"
     },
     "output_type": "display_data"
    }
   ],
   "source": [
    "# Pclass(3 범주) --> Age\n",
    "sns.barplot(x=\"Pclass\", y=\"Age\", data=titanic)\n",
    "plt.grid()\n",
    "plt.show()\n",
    "\n",
    "# 평균들 차이가 많이 나므로 검정해도 뻔할것이다 대부분"
   ]
  },
  {
   "cell_type": "code",
   "execution_count": 17,
   "metadata": {
    "id": "gazFwx9ijUaX"
   },
   "outputs": [
    {
     "data": {
      "image/png": "[encoded data removed]",
      "text/plain": [
       "<Figure size 432x288 with 1 Axes>"
      ]
     },
     "metadata": {
      "needs_background": "light"
     },
     "output_type": "display_data"
    }
   ],
   "source": [
    "titanic.boxplot('Age', 'Pclass')\n",
    "plt.show()"
   ]
  },
  {
   "cell_type": "code",
   "execution_count": 20,
   "metadata": {
    "id": "DiZy6QH4ivkR"
   },
   "outputs": [],
   "source": [
    "tmp = titanic.loc[titanic['Age'].notnull()]\n",
    "\n",
    "P_1 = tmp.loc[titanic.Pclass == 1, 'Age']\n",
    "P_2 = tmp.loc[titanic.Pclass == 2, 'Age']\n",
    "P_3 = tmp.loc[titanic.Pclass == 3, 'Age']"
   ]
  },
  {
   "cell_type": "code",
   "execution_count": 21,
   "metadata": {
    "id": "9X3posCUjAxQ"
   },
   "outputs": [
    {
     "data": {
      "text/plain": [
       "F_onewayResult(statistic=57.443484340676214, pvalue=7.487984171959904e-24)"
      ]
     },
     "execution_count": 21,
     "metadata": {},
     "output_type": "execute_result"
    }
   ],
   "source": [
    "spst.f_oneway(P_1, P_2, P_3) # statistic 분산비 ( 2, 3 보다크다면?)"
   ]
  },
  {
   "cell_type": "markdown",
   "metadata": {
    "id": "g7bv5AsgN0sz"
   },
   "source": [
    "\n",
    "#### 실습 ANOVA\n",
    "\n",
    "승선지역(Embarked)별로 운임에 차이가 있을 것이다.\n",
    "* 시각화와 수치화로 확인해 봅시다."
   ]
  },
  {
   "cell_type": "code",
   "execution_count": 22,
   "metadata": {
    "id": "UDn3f5fvsDU0"
   },
   "outputs": [
    {
     "data": {
      "image/png": "[encoded data removed]",
      "text/plain": [
       "<Figure size 432x288 with 1 Axes>"
      ]
     },
     "metadata": {
      "needs_background": "light"
     },
     "output_type": "display_data"
    }
   ],
   "source": [
    "# 시각화\n",
    "sns.barplot(x=\"Embarked\", y=\"Fare\", data=titanic)\n",
    "plt.grid()\n",
    "plt.show()\n",
    "\n",
    "# p밸류는 작을것이고 F 통계량은 클것이다 예상할수있음\n"
   ]
  },
  {
   "cell_type": "code",
   "execution_count": 24,
   "metadata": {
    "id": "lpP_NDaNsDRj",
    "tags": []
   },
   "outputs": [
    {
     "data": {
      "text/plain": [
       "F_onewayResult(statistic=38.14030520011266, pvalue=1.2896450252631794e-16)"
      ]
     },
     "execution_count": 24,
     "metadata": {},
     "output_type": "execute_result"
    }
   ],
   "source": [
    "# 수치화\n",
    "tmp = titanic.loc[titanic['Fare'].notnull()]\n",
    "\n",
    "S = tmp.loc[titanic['Embarked'] == 'S', 'Fare']\n",
    "C = tmp.loc[titanic['Embarked'] == 'C', 'Fare']\n",
    "Q = tmp.loc[titanic['Embarked'] == 'Q', 'Fare']\n",
    "\n",
    "spst.f_oneway(S, C, Q) # statistic 분산비 ( 2, 3 보다크다면?)"
   ]
  },
  {
   "cell_type": "markdown",
   "metadata": {
    "id": "_l7yAOgFi2Nf"
   },
   "source": [
    "## 3.종합실습"
   ]
  },
  {
   "cell_type": "markdown",
   "metadata": {
    "id": "4xHeN0hii2Ng"
   },
   "source": [
    "### 1) 환경준비"
   ]
  },
  {
   "cell_type": "markdown",
   "metadata": {
    "id": "cpYg7nb6i2Ng"
   },
   "source": [
    "* 라이브러리 불러오기"
   ]
  },
  {
   "cell_type": "code",
   "execution_count": 25,
   "metadata": {
    "id": "BKzRei8Fi2Ng"
   },
   "outputs": [],
   "source": [
    "import pandas as pd\n",
    "import numpy as np\n",
    "import random as rd\n",
    "\n",
    "import matplotlib.pyplot as plt\n",
    "import seaborn as sns\n",
    "\n",
    "import scipy.stats as spst"
   ]
  },
  {
   "cell_type": "markdown",
   "metadata": {
    "id": "ITf6P0GXi2Nh"
   },
   "source": [
    "* 데이터 불러오기 : 다음의 예제 데이터를 사용합니다.\n",
    "> ① 타이타닉 생존자  \n",
    "② 카시트 매출액\n"
   ]
  },
  {
   "cell_type": "markdown",
   "metadata": {
    "id": "aBF5RNXkoGTH"
   },
   "source": [
    "① 타이타닉 생존자"
   ]
  },
  {
   "cell_type": "markdown",
   "metadata": {
    "id": "TfbvPh-zgmT6"
   },
   "source": [
    "|\t변수\t|\t설명\t|\t값 설명\t|\n",
    "|\t----\t|\t----\t|\t----\t|\n",
    "|\tsurvived\t|\t생존여부\t|\t0 - 사망, 1- 생존\t|\n",
    "|\tPclass\t|\tTicket class\t|\t1 = 1st, 2 = 2nd, 3 = 3rd\t|\n",
    "|\tSex\t|\t성별\t|\t\t|\n",
    "|\tAge\t|\tAge in years\t|\t\t|\n",
    "|\tFare\t|\tPassenger fare\t|\t\t|\n",
    "|\tEmbarked\t|\tPort of Embarkation\t|\tC = Cherbourg, Q = Queenstown, S = Southampton\t|\n"
   ]
  },
  {
   "cell_type": "code",
   "execution_count": 26,
   "metadata": {
    "id": "t4AZgZRei2Nh"
   },
   "outputs": [
    {
     "data": {
      "text/html": [
       "<div>\n",
       "<style scoped>\n",
       "    .dataframe tbody tr th:only-of-type {\n",
       "        vertical-align: middle;\n",
       "    }\n",
       "\n",
       "    .dataframe tbody tr th {\n",
       "        vertical-align: top;\n",
       "    }\n",
       "\n",
       "    .dataframe thead th {\n",
       "        text-align: right;\n",
       "    }\n",
       "</style>\n",
       "<table border=\"1\" class=\"dataframe\">\n",
       "  <thead>\n",
       "    <tr style=\"text-align: right;\">\n",
       "      <th></th>\n",
       "      <th>Survived</th>\n",
       "      <th>Pclass</th>\n",
       "      <th>Sex</th>\n",
       "      <th>Age</th>\n",
       "      <th>Fare</th>\n",
       "      <th>Embarked</th>\n",
       "    </tr>\n",
       "  </thead>\n",
       "  <tbody>\n",
       "    <tr>\n",
       "      <th>0</th>\n",
       "      <td>0</td>\n",
       "      <td>3</td>\n",
       "      <td>male</td>\n",
       "      <td>22.0</td>\n",
       "      <td>7.2500</td>\n",
       "      <td>S</td>\n",
       "    </tr>\n",
       "    <tr>\n",
       "      <th>1</th>\n",
       "      <td>1</td>\n",
       "      <td>1</td>\n",
       "      <td>female</td>\n",
       "      <td>38.0</td>\n",
       "      <td>71.2833</td>\n",
       "      <td>C</td>\n",
       "    </tr>\n",
       "    <tr>\n",
       "      <th>2</th>\n",
       "      <td>1</td>\n",
       "      <td>3</td>\n",
       "      <td>female</td>\n",
       "      <td>26.0</td>\n",
       "      <td>7.9250</td>\n",
       "      <td>S</td>\n",
       "    </tr>\n",
       "    <tr>\n",
       "      <th>3</th>\n",
       "      <td>1</td>\n",
       "      <td>1</td>\n",
       "      <td>female</td>\n",
       "      <td>35.0</td>\n",
       "      <td>53.1000</td>\n",
       "      <td>S</td>\n",
       "    </tr>\n",
       "    <tr>\n",
       "      <th>4</th>\n",
       "      <td>0</td>\n",
       "      <td>3</td>\n",
       "      <td>male</td>\n",
       "      <td>35.0</td>\n",
       "      <td>8.0500</td>\n",
       "      <td>S</td>\n",
       "    </tr>\n",
       "  </tbody>\n",
       "</table>\n",
       "</div>"
      ],
      "text/plain": [
       "   Survived  Pclass     Sex   Age     Fare Embarked\n",
       "0         0       3    male  22.0   7.2500        S\n",
       "1         1       1  female  38.0  71.2833        C\n",
       "2         1       3  female  26.0   7.9250        S\n",
       "3         1       1  female  35.0  53.1000        S\n",
       "4         0       3    male  35.0   8.0500        S"
      ]
     },
     "execution_count": 26,
     "metadata": {},
     "output_type": "execute_result"
    }
   ],
   "source": [
    "# 타이타닉 데이터\n",
    "titanic = pd.read_csv('https://raw.githubusercontent.com/DA4BAM/dataset/master/titanic.1.csv', \n",
    "                      usecols = ['Survived','Pclass','Sex','Age','Fare','Embarked'])\n",
    "titanic.head()"
   ]
  },
  {
   "cell_type": "markdown",
   "metadata": {
    "id": "heT5BzYAoKw7"
   },
   "source": [
    "② 카시트 매출액"
   ]
  },
  {
   "cell_type": "markdown",
   "metadata": {
    "id": "zYKHwYHatC4k"
   },
   "source": [
    "|\t변수명\t|\t설명\t|\t구분\t|\n",
    "|\t----\t|\t----\t|\t----\t|\n",
    "|\tSales \t|\t 각 지역 판매액(단위 : 1000달러)\t|\tTarget\t|\n",
    "|\tCompPrice \t|\t 경쟁사 가격(단위 : 달러)\t|\tfeature\t|\n",
    "|\tIncome \t|\t 지역 평균 소득(단위 : 1000달러)\t|\tfeature\t|\n",
    "|\tAdvertising \t|\t 각 지역, 회사의 광고 예산(단위 : 1000달러)\t|\tfeature\t|\n",
    "|\tPopulation \t|\t 지역 인구수(단위 : 1000명)\t|\tfeature\t|\n",
    "|\tPrice \t|\t 자사 지역별 판매가격\t|\tfeature\t|\n",
    "|\tShelveLoc \t|\t 진열상태\t|\tfeature\t|\n",
    "|\tAge \t|\t 지역 인구의 평균 연령\t|\tfeature\t|\n",
    "|\tUrban \t|\t 도심 지역 여부(0,1)\t|\tfeature\t|\n",
    "|\tUS \t|\t 매장이 미국에 있는지 여부(0,1)\t|\tfeature\t|\n"
   ]
  },
  {
   "cell_type": "code",
   "execution_count": 27,
   "metadata": {
    "id": "MOrS9BKOi2Ni"
   },
   "outputs": [
    {
     "data": {
      "text/html": [
       "<div>\n",
       "<style scoped>\n",
       "    .dataframe tbody tr th:only-of-type {\n",
       "        vertical-align: middle;\n",
       "    }\n",
       "\n",
       "    .dataframe tbody tr th {\n",
       "        vertical-align: top;\n",
       "    }\n",
       "\n",
       "    .dataframe thead th {\n",
       "        text-align: right;\n",
       "    }\n",
       "</style>\n",
       "<table border=\"1\" class=\"dataframe\">\n",
       "  <thead>\n",
       "    <tr style=\"text-align: right;\">\n",
       "      <th></th>\n",
       "      <th>Sales</th>\n",
       "      <th>CompPrice</th>\n",
       "      <th>Income</th>\n",
       "      <th>Advertising</th>\n",
       "      <th>Population</th>\n",
       "      <th>Price</th>\n",
       "      <th>ShelveLoc</th>\n",
       "      <th>Age</th>\n",
       "      <th>Urban</th>\n",
       "      <th>US</th>\n",
       "    </tr>\n",
       "  </thead>\n",
       "  <tbody>\n",
       "    <tr>\n",
       "      <th>0</th>\n",
       "      <td>9.50</td>\n",
       "      <td>138</td>\n",
       "      <td>73</td>\n",
       "      <td>11</td>\n",
       "      <td>276</td>\n",
       "      <td>120</td>\n",
       "      <td>Bad</td>\n",
       "      <td>42</td>\n",
       "      <td>Yes</td>\n",
       "      <td>Yes</td>\n",
       "    </tr>\n",
       "    <tr>\n",
       "      <th>1</th>\n",
       "      <td>11.22</td>\n",
       "      <td>111</td>\n",
       "      <td>48</td>\n",
       "      <td>16</td>\n",
       "      <td>260</td>\n",
       "      <td>83</td>\n",
       "      <td>Good</td>\n",
       "      <td>65</td>\n",
       "      <td>Yes</td>\n",
       "      <td>Yes</td>\n",
       "    </tr>\n",
       "    <tr>\n",
       "      <th>2</th>\n",
       "      <td>10.06</td>\n",
       "      <td>113</td>\n",
       "      <td>35</td>\n",
       "      <td>10</td>\n",
       "      <td>269</td>\n",
       "      <td>80</td>\n",
       "      <td>Medium</td>\n",
       "      <td>59</td>\n",
       "      <td>Yes</td>\n",
       "      <td>Yes</td>\n",
       "    </tr>\n",
       "    <tr>\n",
       "      <th>3</th>\n",
       "      <td>7.40</td>\n",
       "      <td>117</td>\n",
       "      <td>100</td>\n",
       "      <td>4</td>\n",
       "      <td>466</td>\n",
       "      <td>97</td>\n",
       "      <td>Medium</td>\n",
       "      <td>55</td>\n",
       "      <td>Yes</td>\n",
       "      <td>Yes</td>\n",
       "    </tr>\n",
       "    <tr>\n",
       "      <th>4</th>\n",
       "      <td>4.15</td>\n",
       "      <td>141</td>\n",
       "      <td>64</td>\n",
       "      <td>3</td>\n",
       "      <td>340</td>\n",
       "      <td>128</td>\n",
       "      <td>Bad</td>\n",
       "      <td>38</td>\n",
       "      <td>Yes</td>\n",
       "      <td>No</td>\n",
       "    </tr>\n",
       "  </tbody>\n",
       "</table>\n",
       "</div>"
      ],
      "text/plain": [
       "   Sales  CompPrice  Income  Advertising  Population  Price ShelveLoc  Age  \\\n",
       "0   9.50        138      73           11         276    120       Bad   42   \n",
       "1  11.22        111      48           16         260     83      Good   65   \n",
       "2  10.06        113      35           10         269     80    Medium   59   \n",
       "3   7.40        117     100            4         466     97    Medium   55   \n",
       "4   4.15        141      64            3         340    128       Bad   38   \n",
       "\n",
       "  Urban   US  \n",
       "0   Yes  Yes  \n",
       "1   Yes  Yes  \n",
       "2   Yes  Yes  \n",
       "3   Yes  Yes  \n",
       "4   Yes   No  "
      ]
     },
     "execution_count": 27,
     "metadata": {},
     "output_type": "execute_result"
    }
   ],
   "source": [
    "# 카시트 매출액\n",
    "path = 'https://raw.githubusercontent.com/JunhoYu/Data-Analysis/main/Carseats.csv'\n",
    "carseat = pd.read_csv(path)\n",
    "carseat.drop('Education', axis = 1, inplace = True)\n",
    "carseat.head()"
   ]
  },
  {
   "cell_type": "markdown",
   "metadata": {
    "id": "iHhPo8ZEi2Ni"
   },
   "source": [
    "### 2) 범주 --> 숫자 : 시각화"
   ]
  },
  {
   "cell_type": "markdown",
   "metadata": {
    "id": "7u9Ab_jNi2Nj"
   },
   "source": [
    "① titanic 생존여부에 따라 나이에 차이가 있을까요?\n",
    "* 평균 barplot으로 시각화 해 봅시다."
   ]
  },
  {
   "cell_type": "code",
   "execution_count": 28,
   "metadata": {
    "id": "yqEqW4yqi2Nj"
   },
   "outputs": [
    {
     "data": {
      "image/png": "[encoded data removed]",
      "text/plain": [
       "<Figure size 432x288 with 1 Axes>"
      ]
     },
     "metadata": {
      "needs_background": "light"
     },
     "output_type": "display_data"
    }
   ],
   "source": [
    "sns.barplot(x = 'Survived', y = 'Age' , data = titanic)\n",
    "plt.grid()\n",
    "plt.show()"
   ]
  },
  {
   "cell_type": "markdown",
   "metadata": {
    "id": "9cI_Gt1-yp4q"
   },
   "source": [
    "* 박스플롯으로 시각화 해 봅시다."
   ]
  },
  {
   "cell_type": "code",
   "execution_count": 29,
   "metadata": {
    "id": "dbTcRRbMyveq"
   },
   "outputs": [
    {
     "data": {
      "image/png": "[encoded data removed]",
      "text/plain": [
       "<Figure size 432x288 with 1 Axes>"
      ]
     },
     "metadata": {
      "needs_background": "light"
     },
     "output_type": "display_data"
    }
   ],
   "source": [
    "sns.boxplot(x = 'Survived', y = 'Age' , data = titanic)\n",
    "plt.grid()\n",
    "plt.show()"
   ]
  },
  {
   "cell_type": "markdown",
   "metadata": {
    "id": "wOJoFPy3i2Nj"
   },
   "source": [
    "* 위 두 범주간에 평균에 차이가 있나요?"
   ]
  },
  {
   "cell_type": "markdown",
   "metadata": {
    "id": "brD8iLGxi2Nj"
   },
   "source": [
    "- ANS) 31, 26거의비슷한거같다"
   ]
  },
  {
   "cell_type": "markdown",
   "metadata": {
    "id": "5VK6TL-Yy7dl"
   },
   "source": [
    "② titanic 성별에 따라 운임에 차이가 있을까요?\n",
    "* 평균 barplot으로 시각화 해 봅시다."
   ]
  },
  {
   "cell_type": "code",
   "execution_count": 30,
   "metadata": {
    "id": "eZ8OU9pQy7dx"
   },
   "outputs": [
    {
     "data": {
      "image/png": "[encoded data removed]",
      "text/plain": [
       "<Figure size 432x288 with 1 Axes>"
      ]
     },
     "metadata": {
      "needs_background": "light"
     },
     "output_type": "display_data"
    }
   ],
   "source": [
    "sns.barplot(x= 'Sex',y = 'Fare', data = titanic)\n",
    "plt.grid()\n",
    "plt.show()"
   ]
  },
  {
   "cell_type": "markdown",
   "metadata": {
    "id": "gwPYbOXiy7dz"
   },
   "source": [
    "* 박스플롯으로 시각화 해 봅시다."
   ]
  },
  {
   "cell_type": "code",
   "execution_count": 31,
   "metadata": {
    "id": "iVW5P04Gy7dz"
   },
   "outputs": [
    {
     "data": {
      "image/png": "[encoded data removed]",
      "text/plain": [
       "<Figure size 432x288 with 1 Axes>"
      ]
     },
     "metadata": {
      "needs_background": "light"
     },
     "output_type": "display_data"
    }
   ],
   "source": [
    "sns.boxplot(x= 'Sex',y = 'Fare', data = titanic)\n",
    "plt.grid()\n",
    "plt.show()"
   ]
  },
  {
   "cell_type": "markdown",
   "metadata": {
    "id": "SHXY603Fy7dz"
   },
   "source": [
    "* 위 범주간 평균에 차이가 있나요?"
   ]
  },
  {
   "cell_type": "markdown",
   "metadata": {
    "id": "hrvwNS3Oy7d0"
   },
   "source": [
    "- ANS) 25 , 45 로 차이가 꽤 크다"
   ]
  },
  {
   "cell_type": "markdown",
   "metadata": {
    "id": "1mGazHtdzHI_"
   },
   "source": [
    "③ titanic 승선지역(Embarked)에 따라 나이에 차이가 있을까요?\n",
    "* 평균 barplot으로 시각화 해 봅시다."
   ]
  },
  {
   "cell_type": "code",
   "execution_count": 32,
   "metadata": {
    "id": "I56WVAnVzHJA"
   },
   "outputs": [
    {
     "data": {
      "image/png": "[encoded data removed]",
      "text/plain": [
       "<Figure size 432x288 with 1 Axes>"
      ]
     },
     "metadata": {
      "needs_background": "light"
     },
     "output_type": "display_data"
    }
   ],
   "source": [
    "sns.barplot(x= 'Embarked',y = 'Age', data = titanic)\n",
    "plt.grid()\n",
    "plt.show()"
   ]
  },
  {
   "cell_type": "markdown",
   "metadata": {
    "id": "AKLBnc5tzHJB"
   },
   "source": [
    "* 박스플롯으로 시각화 해 봅시다."
   ]
  },
  {
   "cell_type": "code",
   "execution_count": 34,
   "metadata": {
    "id": "e6x7VapnzHJB"
   },
   "outputs": [
    {
     "data": {
      "image/png": "[encoded data removed]",
      "text/plain": [
       "<Figure size 432x288 with 1 Axes>"
      ]
     },
     "metadata": {
      "needs_background": "light"
     },
     "output_type": "display_data"
    }
   ],
   "source": [
    "sns.boxplot(x= 'Embarked',y = 'Age', data = titanic)\n",
    "plt.grid()\n",
    "plt.show()"
   ]
  },
  {
   "cell_type": "markdown",
   "metadata": {
    "id": "qsGWaKpGzHJC"
   },
   "source": [
    "* 위 범주간 평균에 차이가 있나요?"
   ]
  },
  {
   "cell_type": "markdown",
   "metadata": {
    "id": "oAq04yndzHJC"
   },
   "source": [
    "- ANS) 28~31 로 거의비슷"
   ]
  },
  {
   "cell_type": "markdown",
   "metadata": {
    "id": "vXyzCbxGo1Q7"
   },
   "source": [
    "④ carseat의 국내외여부(US)에 따라 매출액(Sales)에 차이가 있을까요?\n",
    "* 평균 barplot으로 시각화 해 봅시다."
   ]
  },
  {
   "cell_type": "code",
   "execution_count": null,
   "metadata": {
    "id": "pltVi_PBo1RD"
   },
   "outputs": [],
   "source": []
  },
  {
   "cell_type": "markdown",
   "metadata": {
    "id": "wIPkMco8o1RD"
   },
   "source": [
    "* 박스플롯으로 시각화 해 봅시다."
   ]
  },
  {
   "cell_type": "code",
   "execution_count": null,
   "metadata": {
    "id": "Zatgtesyo1RD"
   },
   "outputs": [],
   "source": []
  },
  {
   "cell_type": "markdown",
   "metadata": {
    "id": "fTmk3R5azbOg"
   },
   "source": [
    "⑤ carseat의 진열상태(ShelveLoc)에 따라 매출액(Sales)에 차이가 있을까요?\n",
    "* 평균 barplot으로 시각화 해 봅시다."
   ]
  },
  {
   "cell_type": "code",
   "execution_count": null,
   "metadata": {
    "id": "Ixesqpg_zbOh"
   },
   "outputs": [],
   "source": []
  },
  {
   "cell_type": "markdown",
   "metadata": {
    "id": "Uu_ZO6myzbOi"
   },
   "source": [
    "* 박스플롯으로 시각화 해 봅시다."
   ]
  },
  {
   "cell_type": "code",
   "execution_count": null,
   "metadata": {
    "id": "9Xe8mv7VzbOi"
   },
   "outputs": [],
   "source": []
  },
  {
   "cell_type": "markdown",
   "metadata": {
    "id": "lOtaEfiOzbOi"
   },
   "source": [
    "* 위 범주간 평균에 차이가 있나요?"
   ]
  },
  {
   "cell_type": "code",
   "execution_count": null,
   "metadata": {
    "id": "BdLCMKk-zbOj"
   },
   "outputs": [],
   "source": []
  },
  {
   "cell_type": "markdown",
   "metadata": {
    "id": "FZzwZsP6i2Nm"
   },
   "source": [
    "### 3)수치화 : t-test(두 범주), anova(세 범주 이상)"
   ]
  },
  {
   "cell_type": "markdown",
   "metadata": {
    "id": "GCtCwLkr0IIx"
   },
   "source": [
    "① titanic 생존여부에 따라 나이에 차이가 있을까요?"
   ]
  },
  {
   "cell_type": "markdown",
   "metadata": {
    "id": "8bDgq7Mp0ZBL"
   },
   "source": [
    "* t-test를 수행해 봅시다."
   ]
  },
  {
   "cell_type": "code",
   "execution_count": 36,
   "metadata": {
    "id": "-p0imksx0IJC"
   },
   "outputs": [
    {
     "data": {
      "text/plain": [
       "Ttest_indResult(statistic=-2.6686741711011606, pvalue=0.007753857024893963)"
      ]
     },
     "execution_count": 36,
     "metadata": {},
     "output_type": "execute_result"
    }
   ],
   "source": [
    "# 먼저 범주별로 데이터를 나누자\n",
    "\n",
    "# tmp = titanic.loc[titanic['Age'].notnull()]\n",
    "\n",
    "Sur = tmp.loc[titanic['Survived'] == 1, 'Age']\n",
    "Die = tmp.loc[titanic['Survived'] == 0, 'Age']\n",
    "\n",
    "spst.ttest_ind(Sur, Die)\n",
    "# spst.f_oneway(Sur, Die) # statistic 분산비 ( 2, 3 보다크다면?)\n"
   ]
  },
  {
   "cell_type": "markdown",
   "metadata": {
    "id": "pYcXu_zb0IJE"
   },
   "source": [
    "* t-test 결과를 해석해 봅시다."
   ]
  },
  {
   "cell_type": "markdown",
   "metadata": {
    "id": "2kfaUKHM0IJE"
   },
   "source": [
    "- ANS) t검정을 통해 -2.6이라는값은 2~3 결과치에 부합하므로 우리가 세운 대립가설과 연관이있다고 본다.  또한 pvalue 값이 0.007%로 0.05보다 작은값이므로 우리가 세운가설이 맞을 것이라고 판다."
   ]
  },
  {
   "cell_type": "markdown",
   "metadata": {
    "id": "nXnovI1b0IJE"
   },
   "source": [
    "② titanic 성별에 따라 운임에 차이가 있을까요?"
   ]
  },
  {
   "cell_type": "markdown",
   "metadata": {
    "id": "BsOPisXi0htT"
   },
   "source": [
    "* t-test를 수행해 봅시다."
   ]
  },
  {
   "cell_type": "code",
   "execution_count": 37,
   "metadata": {},
   "outputs": [
    {
     "name": "stdout",
     "output_type": "stream",
     "text": [
      "<class 'pandas.core.frame.DataFrame'>\n",
      "RangeIndex: 891 entries, 0 to 890\n",
      "Data columns (total 6 columns):\n",
      " #   Column    Non-Null Count  Dtype  \n",
      "---  ------    --------------  -----  \n",
      " 0   Survived  891 non-null    int64  \n",
      " 1   Pclass    891 non-null    int64  \n",
      " 2   Sex       891 non-null    object \n",
      " 3   Age       891 non-null    float64\n",
      " 4   Fare      891 non-null    float64\n",
      " 5   Embarked  891 non-null    object \n",
      "dtypes: float64(2), int64(2), object(2)\n",
      "memory usage: 41.9+ KB\n"
     ]
    }
   ],
   "source": [
    "titanic.info()"
   ]
  },
  {
   "cell_type": "code",
   "execution_count": 39,
   "metadata": {
    "id": "p3cTcmzM0htU"
   },
   "outputs": [
    {
     "data": {
      "text/plain": [
       "Ttest_indResult(statistic=-5.529140269385719, pvalue=4.2308678700429995e-08)"
      ]
     },
     "execution_count": 39,
     "metadata": {},
     "output_type": "execute_result"
    }
   ],
   "source": [
    "tmp = titanic.loc[titanic['Fare'].notnull()]\n",
    "\n",
    "male = tmp.loc[titanic['Sex'] == 'male', 'Fare']\n",
    "female = tmp.loc[titanic['Sex'] == 'female', 'Fare']\n",
    "\n",
    "spst.ttest_ind(male, female)"
   ]
  },
  {
   "cell_type": "code",
   "execution_count": null,
   "metadata": {
    "id": "MOWsftdb0htU"
   },
   "outputs": [],
   "source": []
  },
  {
   "cell_type": "markdown",
   "metadata": {
    "id": "4HDpaA5L0htV"
   },
   "source": [
    "* t-test 결과를 해석해 봅시다."
   ]
  },
  {
   "cell_type": "code",
   "execution_count": null,
   "metadata": {
    "id": "toHb4kUY0htV"
   },
   "outputs": [],
   "source": []
  },
  {
   "cell_type": "markdown",
   "metadata": {
    "id": "jF9yw8DA0IJG"
   },
   "source": [
    "③ titanic 승선지역(Embarked)에 따라 나이에 차이가 있을까요?"
   ]
  },
  {
   "cell_type": "markdown",
   "metadata": {
    "id": "_kXwB6WB0m_C"
   },
   "source": [
    "* 분산분석(anova)을 수행해 봅시다."
   ]
  },
  {
   "cell_type": "code",
   "execution_count": 40,
   "metadata": {
    "id": "SEGKVzJV0m_D"
   },
   "outputs": [
    {
     "data": {
      "text/plain": [
       "F_onewayResult(statistic=1.5519517205674485, pvalue=0.2124081352616724)"
      ]
     },
     "execution_count": 40,
     "metadata": {},
     "output_type": "execute_result"
    }
   ],
   "source": [
    "# tmp = titanic.loc[titanic['Fare'].notnull()]\n",
    "\n",
    "S = tmp.loc[titanic['Embarked'] == 'S', 'Age']\n",
    "Q = tmp.loc[titanic['Embarked'] == 'C', 'Age']\n",
    "C = tmp.loc[titanic['Embarked'] == 'Q', 'Age']\n",
    "\n",
    "spst.f_oneway(S,Q,C)"
   ]
  },
  {
   "cell_type": "code",
   "execution_count": null,
   "metadata": {
    "id": "HIE3Yrfp0m_E"
   },
   "outputs": [],
   "source": []
  },
  {
   "cell_type": "markdown",
   "metadata": {
    "id": "tVzeXsXh0m_E"
   },
   "source": [
    "* anova 결과를 해석해 봅시다."
   ]
  },
  {
   "cell_type": "markdown",
   "metadata": {
    "id": "TdUHl51T0m_E"
   },
   "source": [
    "- ANS) p밸류가 너무크므로 대립가설로 쓸수없다."
   ]
  },
  {
   "cell_type": "code",
   "execution_count": null,
   "metadata": {},
   "outputs": [],
   "source": []
  }
 ],
 "metadata": {
  "colab": {
   "collapsed_sections": [],
   "name": "10과 이변량_범주 vs 숫자.ipynb",
   "provenance": []
  },
  "kernelspec": {
   "display_name": "Python 3",
   "language": "python",
   "name": "python3"
  },
  "language_info": {
   "codemirror_mode": {
    "name": "ipython",
    "version": 3
   },
   "file_extension": ".py",
   "mimetype": "text/x-python",
   "name": "python",
   "nbconvert_exporter": "python",
   "pygments_lexer": "ipython3",
   "version": "3.8.8"
  }
 },
 "nbformat": 4,
 "nbformat_minor": 4
}
