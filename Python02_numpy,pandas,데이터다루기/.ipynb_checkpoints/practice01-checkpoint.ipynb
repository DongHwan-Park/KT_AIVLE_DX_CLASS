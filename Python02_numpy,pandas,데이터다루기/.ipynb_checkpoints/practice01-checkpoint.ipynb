{
 "cells": [
  {
   "cell_type": "code",
   "execution_count": null,
   "id": "60051e6a-ff5d-46f9-a572-3442c8f267ef",
   "metadata": {},
   "outputs": [],
   "source": [
    "import pandas as pd\n",
    "\n",
    "stock = [[94500, 92100, 92200, 92300],\n",
    "         [96500, 93200, 95900, 94300],\n",
    "         [93400, 91900, 93400, 92100],\n",
    "         [94200, 92100, 94100, 92400],\n",
    "         [94500, 92500, 94300, 92600],\n",
    "         [94500, 92500, 94300, 92600]]\n",
    "dates = ['2019-02-15', '2019-02-16', '2019-02-17', '2019-02-18', '2019-02-19','2019-02-20']\n",
    "names = ['High', 'Low', 'Open', 'Close']\n",
    "\n",
    "df = pd.DataFrame(stock, index = dates, columns = names)\n",
    "df.head()"
   ]
  },
  {
   "cell_type": "code",
   "execution_count": null,
   "id": "9f2ca4a4-ae2c-4313-8059-8af2435e660c",
   "metadata": {},
   "outputs": [],
   "source": [
    "# 딕셔너리 만들기\n",
    "my_dict = {'Name': ['Gildong', 'Sarang', 'Jiemae', 'Yeoin'],\n",
    "        'Level': ['Gold', 'Bronze', 'Silver', 'Gold'],\n",
    "        'Score': [56000, 23000, 44000, 52000]}\n",
    "\n",
    "my_dict"
   ]
  },
  {
   "cell_type": "code",
   "execution_count": null,
   "id": "97f9e78a-9d54-4802-ac18-57eb64c59ed4",
   "metadata": {},
   "outputs": [],
   "source": [
    "df = pd.DataFrame(my_dict)\n",
    "df.head(10)"
   ]
  },
  {
   "cell_type": "code",
   "execution_count": null,
   "id": "7c15966c-8bfd-40fe-a5e7-dfdae375bc67",
   "metadata": {},
   "outputs": [],
   "source": [
    "df = pd.DataFrame(my_dict, index = [f'C{x}' for x in range(1,5)])\n",
    "df.head()"
   ]
  },
  {
   "cell_type": "code",
   "execution_count": null,
   "id": "08cc631b-4712-4135-9c1a-46c9e03f7a56",
   "metadata": {},
   "outputs": [],
   "source": [
    "# 리스트 만들기\n",
    "list_score = [[80, 75, 100, 90, 80],\n",
    "              [85, 70,  80, 95, 90],\n",
    "              [75, 80,  85, 90, 90],\n",
    "              [85, 65,  85, 75, 70],\n",
    "              [70, 85,  90, 85, 95]]\n",
    "              \n",
    "# 인덱스: ['Gildong', 'Sarang', 'Jiemae', 'Yeoin', 'Woodong']\n",
    "list_index = ['Gildong', 'Sarang', 'Jiemae', 'Yeoin', 'Woodong']\n",
    "\n",
    "# 열이름: ['Korean', 'English', 'Math', 'Science', 'History']\n",
    "list_col = ['Korean', 'English', 'Math', 'Science', 'History']\n",
    "\n",
    "# 데이터프레임 만들기\n",
    "\n",
    "score = pd.DataFrame(list_score, index= list_index, columns=list_col)\n",
    "score.head()"
   ]
  },
  {
   "cell_type": "code",
   "execution_count": null,
   "id": "1afc7159-766f-4241-9927-b6ccab5f1286",
   "metadata": {},
   "outputs": [],
   "source": [
    "# 데이터 읽어오기\n",
    "path = 'https://raw.githubusercontent.com/Jangrae/csv/master/pop_simple.csv'\n",
    "pop = pd.read_csv(path) \n",
    "\n",
    "# 상위 10행만 확인\n",
    "pop.head(10)"
   ]
  },
  {
   "cell_type": "code",
   "execution_count": null,
   "id": "9050b6ec-c1af-4b0a-b13a-3bacb575b600",
   "metadata": {},
   "outputs": [],
   "source": [
    "pop.set_index('year', inplace=True)\n",
    "pop.head()"
   ]
  },
  {
   "cell_type": "code",
   "execution_count": null,
   "id": "933a4107-0c33-40cf-bfec-3e90a4cb3887",
   "metadata": {},
   "outputs": [],
   "source": [
    "import pandas as pd\n",
    "\n",
    "path ='https://raw.githubusercontent.com/Jangrae/csv/master/weather_simple.csv'\n",
    "\n",
    "temp = pd.read_csv(path)\n",
    "# 상위 5개 확인\n",
    "temp.head()"
   ]
  },
  {
   "cell_type": "code",
   "execution_count": null,
   "id": "60638fac-ac90-4625-a78b-d58389f37d59",
   "metadata": {},
   "outputs": [],
   "source": [
    "temp.set_index('month', inplace = True)\n",
    "temp.head()"
   ]
  },
  {
   "cell_type": "code",
   "execution_count": null,
   "id": "ad3e1a44-e791-4d7c-a86d-70989872aedb",
   "metadata": {},
   "outputs": [],
   "source": [
    "temp.index.name = None\n",
    "\n",
    "temp.head()"
   ]
  },
  {
   "cell_type": "code",
   "execution_count": null,
   "id": "ad83dfeb-0a9b-43f3-bddd-556255f2cedc",
   "metadata": {},
   "outputs": [],
   "source": [
    "temp.reset_index(drop = False , inplace =True )\n",
    "\n",
    "temp.head()"
   ]
  },
  {
   "cell_type": "code",
   "execution_count": null,
   "id": "f320891f-a88e-4b16-ba87-e69522c0bec5",
   "metadata": {},
   "outputs": [],
   "source": [
    "temp.rename(columns= {'index':'month'}, inplace= True)\n",
    "\n",
    "temp.head()"
   ]
  },
  {
   "cell_type": "code",
   "execution_count": null,
   "id": "f0c48b07-b398-432f-ae7d-56c306efe53a",
   "metadata": {},
   "outputs": [],
   "source": [
    "path = 'https://raw.githubusercontent.com/Jangrae/csv/master/weather_simple.csv'\n",
    "\n",
    "temp = pd.read_csv(path)\n",
    "temp.head()\n"
   ]
  },
  {
   "cell_type": "code",
   "execution_count": null,
   "id": "f0f67172-5cf7-4f2b-8117-7c975f02a6a8",
   "metadata": {},
   "outputs": [],
   "source": [
    "temp.info()"
   ]
  },
  {
   "cell_type": "code",
   "execution_count": null,
   "id": "6aa5c0a3-a431-458d-9918-3bb6d7374838",
   "metadata": {},
   "outputs": [],
   "source": [
    "path = 'https://raw.githubusercontent.com/Jangrae/csv/master/tips.csv'\n",
    "tip = pd.read_csv(path)\n",
    "tip.head()"
   ]
  },
  {
   "cell_type": "code",
   "execution_count": null,
   "id": "ed0c8c42-1a31-4e96-bd57-93d7d1eaf802",
   "metadata": {},
   "outputs": [],
   "source": [
    "tip10 = tip.sort_values(by = 'total_bill', ascending=False).head(10)\n",
    "\n",
    "tip10"
   ]
  },
  {
   "cell_type": "code",
   "execution_count": null,
   "id": "a64be047-d2d8-4061-90ae-4f59bfed0e95",
   "metadata": {},
   "outputs": [],
   "source": [
    "tip.sort_values(by = ['total_bill','tip'], ascending=[False,True])"
   ]
  },
  {
   "cell_type": "code",
   "execution_count": null,
   "id": "9d1fcb04-6afe-4e4e-b92f-fbf9a35e7975",
   "metadata": {},
   "outputs": [],
   "source": [
    "tip['day'].value_counts()"
   ]
  },
  {
   "cell_type": "code",
   "execution_count": null,
   "id": "38f152b9-6a9b-4d62-8895-eb8f61c59687",
   "metadata": {},
   "outputs": [],
   "source": [
    "tip['day'].value_counts().plot(kind = 'bar')"
   ]
  },
  {
   "cell_type": "code",
   "execution_count": null,
   "id": "e94c0464-47ec-42b0-9242-64ca4029e21c",
   "metadata": {},
   "outputs": [],
   "source": [
    "# 라이브러리 불러오기\n",
    "import numpy as pd\n",
    "import pandas  as pd\n",
    "import matplotlib.pyplot as plt\n",
    "# 데이터 읽어오기\n",
    "path = 'https://raw.githubusercontent.com/Jangrae/csv/master/tips.csv'\n",
    "tip = pd.read_csv(path)\n",
    "\n",
    "# 확인\n",
    "tip.head()"
   ]
  },
  {
   "cell_type": "code",
   "execution_count": null,
   "id": "50a5e512-6f46-48be-95d6-727c3634189f",
   "metadata": {},
   "outputs": [],
   "source": [
    "tip.loc[:,'total_bill']"
   ]
  },
  {
   "cell_type": "code",
   "execution_count": null,
   "id": "54dcba45-d8c3-40ef-be96-9fb0329c1ed1",
   "metadata": {},
   "outputs": [],
   "source": [
    "tip['tip']"
   ]
  },
  {
   "cell_type": "code",
   "execution_count": null,
   "id": "4f4122b5-f026-4945-9063-8b2b6e56022d",
   "metadata": {},
   "outputs": [],
   "source": [
    "tip[['tip','day','time']].sort_values(by ='tip',ascending= True)"
   ]
  },
  {
   "cell_type": "code",
   "execution_count": null,
   "id": "73d1ce68-16e6-40d8-a0ff-ee08b441bf12",
   "metadata": {},
   "outputs": [],
   "source": [
    "tip.loc[:,'sex':'time'].head()"
   ]
  },
  {
   "cell_type": "code",
   "execution_count": null,
   "id": "77682fc7-3102-4dcb-96e4-370d103b149d",
   "metadata": {},
   "outputs": [],
   "source": [
    "tip.loc[ tip['day'].isin(['Sat','Sun'])]"
   ]
  },
  {
   "cell_type": "code",
   "execution_count": null,
   "id": "d0cbfd4a-e74d-4b64-97d6-3c1ff0476c72",
   "metadata": {},
   "outputs": [],
   "source": [
    "tip.loc[  tip['size'].between(1,3), :].sort_values(by= 'size',ascending = True)"
   ]
  },
  {
   "cell_type": "code",
   "execution_count": null,
   "id": "696cd8b7-e6ea-445e-87da-bee3e34ba002",
   "metadata": {},
   "outputs": [],
   "source": [
    "# 데이터 읽어오기\n",
    "path = 'https://raw.githubusercontent.com/Jangrae/csv/master/tips.csv'\n",
    "tip =  pd.read_csv(path)\n",
    "\n",
    "# 확인\n",
    "tip.head()"
   ]
  },
  {
   "cell_type": "code",
   "execution_count": null,
   "id": "0b889745-e2df-43e1-9dde-b87be5962154",
   "metadata": {},
   "outputs": [],
   "source": [
    "tip.groupby(by = 'day', as_index =False)['tip'].sum()"
   ]
  },
  {
   "cell_type": "code",
   "execution_count": null,
   "id": "53b8dfbf-8440-47f7-ab39-b75ef023e982",
   "metadata": {},
   "outputs": [],
   "source": [
    "tip.sort_values(by = 'tip', ascending=False)"
   ]
  },
  {
   "cell_type": "code",
   "execution_count": null,
   "id": "9340e885-6251-468d-a4a3-4670c5819687",
   "metadata": {},
   "outputs": [],
   "source": [
    "tip.groupby(by = 'day',as_index =False)[['tip']].sum()"
   ]
  },
  {
   "cell_type": "code",
   "execution_count": null,
   "id": "93ada413-9694-4e2e-bd1b-bb2b378c99b8",
   "metadata": {},
   "outputs": [],
   "source": [
    "tip_sum = tip.groupby(by = 'day', as_index=False)[['tip']].sum()"
   ]
  },
  {
   "cell_type": "code",
   "execution_count": null,
   "id": "57ecb972-feb6-4cc8-8abc-cfe7ed43b310",
   "metadata": {},
   "outputs": [],
   "source": [
    "plt.bar(x = tip_sum['day'], height = tip_sum['tip'])\n",
    "plt.title('Tip Amount')\n",
    "plt.show()"
   ]
  },
  {
   "cell_type": "code",
   "execution_count": null,
   "id": "341b2d2f-6100-4a3e-955f-0a9db2122380",
   "metadata": {},
   "outputs": [],
   "source": [
    "%config InlineBackend.figure_format = 'retina'\n",
    "plt.plot(tip['tip'])"
   ]
  },
  {
   "cell_type": "code",
   "execution_count": null,
   "id": "4498f772-7083-41ac-a037-0658b694f34c",
   "metadata": {},
   "outputs": [],
   "source": [
    "tip_summ = tip.groupby(by = 'day', as_index =False)[  ['total_bill','tip']  ].sum()\n",
    "tip_summ = tip_summ.sort_values(by = 'total_bill',ascending=False)\n",
    "tip_summ"
   ]
  },
  {
   "cell_type": "code",
   "execution_count": null,
   "id": "0d8a368e-e9b4-4f8a-8a3c-1251fbd4764a",
   "metadata": {},
   "outputs": [],
   "source": [
    "# 데이터 읽어오기\n",
    "path = 'https://raw.githubusercontent.com/Jangrae/csv/master/tips(2).csv'\n",
    "tip =  pd.read_csv(path)\n",
    "\n",
    "# 확인\n",
    "tip.head()"
   ]
  },
  {
   "cell_type": "code",
   "execution_count": null,
   "id": "9e0d38d1-c0af-4c65-941b-fb6cb59709c3",
   "metadata": {},
   "outputs": [],
   "source": [
    "tip.rename(columns={'total_bill_amount' :'total_bill',\n",
    "                      'male_female' : 'sex',\n",
    "                      'smoke_yes_no': 'smoker',\n",
    "                      'week_name' : 'day',\n",
    "                      'dinner_lunch': 'time'}, inplace=True) \n",
    "tip.head()"
   ]
  },
  {
   "cell_type": "code",
   "execution_count": null,
   "id": "6e53df56-7886-4e1c-b7fb-108bf2159f8d",
   "metadata": {},
   "outputs": [],
   "source": [
    "tip.columns = ['total_bill', 'tip', 'sex', 'smoker', 'day', 'time', 'size']\n",
    "\n",
    "tip.head()"
   ]
  },
  {
   "cell_type": "code",
   "execution_count": null,
   "id": "7e2abec0-aceb-4059-98bf-61ed11e45baa",
   "metadata": {},
   "outputs": [],
   "source": [
    "tip['final_amt'] = tip['total_bill']+ tip['tip']\n",
    "\n",
    "tip.head()"
   ]
  },
  {
   "cell_type": "code",
   "execution_count": null,
   "id": "c3f25f4e-606f-441f-9601-dd0b75552cbe",
   "metadata": {},
   "outputs": [],
   "source": [
    "tip.insert(1, 'div_tb',tip['total_bill']/ tip['size'])\n",
    "\n",
    "tip.head()"
   ]
  },
  {
   "cell_type": "code",
   "execution_count": null,
   "id": "53f23e93-c1cd-4503-923e-b1fc98e2b44b",
   "metadata": {},
   "outputs": [],
   "source": [
    "tip['holiday'] = 0\n",
    "tip.loc[tip['day'].isin(['Sat','Sun']), 'holiday'] = 1\n",
    "\n",
    "tip.head()"
   ]
  },
  {
   "cell_type": "code",
   "execution_count": null,
   "id": "58c0ce7e-5f90-46be-8149-339ad6610fd4",
   "metadata": {},
   "outputs": [],
   "source": [
    "tip.drop('final_amt', axis =1, inplace = True )\n",
    "\n",
    "tip.head()"
   ]
  },
  {
   "cell_type": "code",
   "execution_count": null,
   "id": "1a8ac272-9108-4be9-84c4-155aa7b75b8c",
   "metadata": {},
   "outputs": [],
   "source": [
    "del_cols = ['div_tb','day']\n",
    "tip.drop(del_cols, axis =1, inplace =True)\n",
    "tip.head()"
   ]
  },
  {
   "cell_type": "code",
   "execution_count": null,
   "id": "f75a2eac-c39b-4115-ae30-34c4fa24ccac",
   "metadata": {},
   "outputs": [],
   "source": [
    "import pandas as pd\n",
    "path = 'https://raw.githubusercontent.com/Jangrae/csv/master/Graduate_apply.csv'\n",
    "graduate = pd.read_csv(path)"
   ]
  },
  {
   "cell_type": "code",
   "execution_count": null,
   "id": "e17132ae-46e0-495d-8cbc-70e1ed944f52",
   "metadata": {},
   "outputs": [],
   "source": [
    "graduate.head()"
   ]
  },
  {
   "cell_type": "code",
   "execution_count": null,
   "id": "af089d4c-10e8-4dd1-aafd-793d6d152460",
   "metadata": {},
   "outputs": [],
   "source": [
    "graduate.shape"
   ]
  },
  {
   "cell_type": "code",
   "execution_count": null,
   "id": "a60c6d16-e010-463e-a95c-a2819b688e7b",
   "metadata": {},
   "outputs": [],
   "source": [
    "graduate.value_counts(  ['rank']  )"
   ]
  },
  {
   "cell_type": "code",
   "execution_count": null,
   "id": "7ee4a60c-f9d9-4609-87e5-d66d8c417bb0",
   "metadata": {},
   "outputs": [],
   "source": [
    "graduate[ ['gre','gpa']].mean()"
   ]
  },
  {
   "cell_type": "code",
   "execution_count": null,
   "id": "98e981c2-7cab-46ca-a7da-c86ace14b568",
   "metadata": {},
   "outputs": [],
   "source": [
    "graduate.sort_values(by= 'gre', ascending=True)"
   ]
  },
  {
   "cell_type": "code",
   "execution_count": null,
   "id": "6e44a46a-2f36-42b2-877e-3766cd380110",
   "metadata": {},
   "outputs": [],
   "source": [
    "tmp = graduate.sort_values(by= ['rank','gpa'], ascending=[True,False])\n",
    "\n",
    "tmp.reset_index(drop = True ,inplace = True)\n",
    "\n",
    "tmp"
   ]
  },
  {
   "cell_type": "markdown",
   "id": "81113b6e-d087-4d8c-9982-d01c3ed8e6a2",
   "metadata": {},
   "source": [
    "# 06"
   ]
  },
  {
   "cell_type": "markdown",
   "id": "a1a1d23f-f17c-4359-9b9e-c806b3664813",
   "metadata": {},
   "source": [
    "<img src='https://raw.githubusercontent.com/jangrae/img/master/practice_01.png' width=120 align=\"left\"/>"
   ]
  },
  {
   "cell_type": "code",
   "execution_count": 25,
   "id": "ff24d6eb-f044-4d13-a4f8-7a73996d3be1",
   "metadata": {},
   "outputs": [
    {
     "data": {
      "text/html": [
       "<div>\n",
       "<style scoped>\n",
       "    .dataframe tbody tr th:only-of-type {\n",
       "        vertical-align: middle;\n",
       "    }\n",
       "\n",
       "    .dataframe tbody tr th {\n",
       "        vertical-align: top;\n",
       "    }\n",
       "\n",
       "    .dataframe thead th {\n",
       "        text-align: right;\n",
       "    }\n",
       "</style>\n",
       "<table border=\"1\" class=\"dataframe\">\n",
       "  <thead>\n",
       "    <tr style=\"text-align: right;\">\n",
       "      <th></th>\n",
       "      <th>total_bill</th>\n",
       "      <th>tip</th>\n",
       "      <th>size</th>\n",
       "    </tr>\n",
       "  </thead>\n",
       "  <tbody>\n",
       "    <tr>\n",
       "      <th>count</th>\n",
       "      <td>244.000000</td>\n",
       "      <td>244.000000</td>\n",
       "      <td>244.000000</td>\n",
       "    </tr>\n",
       "    <tr>\n",
       "      <th>mean</th>\n",
       "      <td>19.785943</td>\n",
       "      <td>2.998279</td>\n",
       "      <td>2.569672</td>\n",
       "    </tr>\n",
       "    <tr>\n",
       "      <th>std</th>\n",
       "      <td>8.902412</td>\n",
       "      <td>1.383638</td>\n",
       "      <td>0.951100</td>\n",
       "    </tr>\n",
       "    <tr>\n",
       "      <th>min</th>\n",
       "      <td>3.070000</td>\n",
       "      <td>1.000000</td>\n",
       "      <td>1.000000</td>\n",
       "    </tr>\n",
       "    <tr>\n",
       "      <th>25%</th>\n",
       "      <td>13.347500</td>\n",
       "      <td>2.000000</td>\n",
       "      <td>2.000000</td>\n",
       "    </tr>\n",
       "    <tr>\n",
       "      <th>50%</th>\n",
       "      <td>17.795000</td>\n",
       "      <td>2.900000</td>\n",
       "      <td>2.000000</td>\n",
       "    </tr>\n",
       "    <tr>\n",
       "      <th>75%</th>\n",
       "      <td>24.127500</td>\n",
       "      <td>3.562500</td>\n",
       "      <td>3.000000</td>\n",
       "    </tr>\n",
       "    <tr>\n",
       "      <th>max</th>\n",
       "      <td>50.810000</td>\n",
       "      <td>10.000000</td>\n",
       "      <td>6.000000</td>\n",
       "    </tr>\n",
       "  </tbody>\n",
       "</table>\n",
       "</div>"
      ],
      "text/plain": [
       "       total_bill         tip        size\n",
       "count  244.000000  244.000000  244.000000\n",
       "mean    19.785943    2.998279    2.569672\n",
       "std      8.902412    1.383638    0.951100\n",
       "min      3.070000    1.000000    1.000000\n",
       "25%     13.347500    2.000000    2.000000\n",
       "50%     17.795000    2.900000    2.000000\n",
       "75%     24.127500    3.562500    3.000000\n",
       "max     50.810000   10.000000    6.000000"
      ]
     },
     "execution_count": 25,
     "metadata": {},
     "output_type": "execute_result"
    }
   ],
   "source": [
    "import pandas as pd \n",
    "import numpy as np\n",
    "import matplotlib.pyplot as plt\n",
    "\n",
    "path = 'tips.csv'\n",
    "tip = pd.read_csv(path)\n",
    "tip.describe()\n"
   ]
  },
  {
   "cell_type": "markdown",
   "id": "2af957f8-3bf9-488e-92d8-1503ac17c523",
   "metadata": {},
   "source": [
    "[문1] 기초통계량에서 total_bill 열의 25%, 50%, 75% 값을 조회해 q1, q2, q3 변수를 선언하세요."
   ]
  },
  {
   "cell_type": "code",
   "execution_count": 28,
   "id": "ec536e91-3fb6-4a44-9e67-5f388cbf9e1e",
   "metadata": {},
   "outputs": [],
   "source": [
    "q1 = tip.describe().loc['25%','total_bill']\n",
    "q2 = tip.describe().loc['50%','total_bill']\n",
    "q3 = tip.describe().loc['75%','total_bill']"
   ]
  },
  {
   "cell_type": "markdown",
   "id": "ac07c086-f9d8-4a3b-91a3-14efb9630065",
   "metadata": {},
   "source": [
    "[문2] 아래 범위와 값을 참조해 'a' ~ 'd' 값을 갖는 bill_grp 열을 추가하세요.\n",
    "\n",
    "   - q1 이하 → 'a'\n",
    "   - q1 초과 q2 이하 → 'b'\n",
    "   - q2 초과 q3 이하 → 'c'\n",
    "   - q3 초과 → 'd'"
   ]
  },
  {
   "cell_type": "code",
   "execution_count": 35,
   "id": "a4e1fb28-a189-4e78-9e01-12e3e9cb377b",
   "metadata": {},
   "outputs": [
    {
     "data": {
      "text/html": [
       "<div>\n",
       "<style scoped>\n",
       "    .dataframe tbody tr th:only-of-type {\n",
       "        vertical-align: middle;\n",
       "    }\n",
       "\n",
       "    .dataframe tbody tr th {\n",
       "        vertical-align: top;\n",
       "    }\n",
       "\n",
       "    .dataframe thead th {\n",
       "        text-align: right;\n",
       "    }\n",
       "</style>\n",
       "<table border=\"1\" class=\"dataframe\">\n",
       "  <thead>\n",
       "    <tr style=\"text-align: right;\">\n",
       "      <th></th>\n",
       "      <th>total_bill</th>\n",
       "      <th>tip</th>\n",
       "      <th>sex</th>\n",
       "      <th>smoker</th>\n",
       "      <th>day</th>\n",
       "      <th>time</th>\n",
       "      <th>size</th>\n",
       "      <th>bill_grp</th>\n",
       "    </tr>\n",
       "  </thead>\n",
       "  <tbody>\n",
       "    <tr>\n",
       "      <th>0</th>\n",
       "      <td>12.03</td>\n",
       "      <td>1.50</td>\n",
       "      <td>Male</td>\n",
       "      <td>Yes</td>\n",
       "      <td>Fri</td>\n",
       "      <td>Dinner</td>\n",
       "      <td>2</td>\n",
       "      <td>a</td>\n",
       "    </tr>\n",
       "    <tr>\n",
       "      <th>1</th>\n",
       "      <td>12.43</td>\n",
       "      <td>1.80</td>\n",
       "      <td>Female</td>\n",
       "      <td>No</td>\n",
       "      <td>Thur</td>\n",
       "      <td>Lunch</td>\n",
       "      <td>2</td>\n",
       "      <td>a</td>\n",
       "    </tr>\n",
       "    <tr>\n",
       "      <th>2</th>\n",
       "      <td>10.07</td>\n",
       "      <td>1.83</td>\n",
       "      <td>Female</td>\n",
       "      <td>No</td>\n",
       "      <td>Thur</td>\n",
       "      <td>Lunch</td>\n",
       "      <td>1</td>\n",
       "      <td>a</td>\n",
       "    </tr>\n",
       "    <tr>\n",
       "      <th>3</th>\n",
       "      <td>9.60</td>\n",
       "      <td>4.00</td>\n",
       "      <td>Female</td>\n",
       "      <td>Yes</td>\n",
       "      <td>Sun</td>\n",
       "      <td>Dinner</td>\n",
       "      <td>2</td>\n",
       "      <td>a</td>\n",
       "    </tr>\n",
       "    <tr>\n",
       "      <th>4</th>\n",
       "      <td>11.69</td>\n",
       "      <td>2.31</td>\n",
       "      <td>Male</td>\n",
       "      <td>No</td>\n",
       "      <td>Thur</td>\n",
       "      <td>Lunch</td>\n",
       "      <td>2</td>\n",
       "      <td>a</td>\n",
       "    </tr>\n",
       "    <tr>\n",
       "      <th>...</th>\n",
       "      <td>...</td>\n",
       "      <td>...</td>\n",
       "      <td>...</td>\n",
       "      <td>...</td>\n",
       "      <td>...</td>\n",
       "      <td>...</td>\n",
       "      <td>...</td>\n",
       "      <td>...</td>\n",
       "    </tr>\n",
       "    <tr>\n",
       "      <th>239</th>\n",
       "      <td>25.00</td>\n",
       "      <td>3.75</td>\n",
       "      <td>Female</td>\n",
       "      <td>No</td>\n",
       "      <td>Sun</td>\n",
       "      <td>Dinner</td>\n",
       "      <td>4</td>\n",
       "      <td>d</td>\n",
       "    </tr>\n",
       "    <tr>\n",
       "      <th>240</th>\n",
       "      <td>48.17</td>\n",
       "      <td>5.00</td>\n",
       "      <td>Male</td>\n",
       "      <td>No</td>\n",
       "      <td>Sun</td>\n",
       "      <td>Dinner</td>\n",
       "      <td>6</td>\n",
       "      <td>d</td>\n",
       "    </tr>\n",
       "    <tr>\n",
       "      <th>241</th>\n",
       "      <td>29.85</td>\n",
       "      <td>5.14</td>\n",
       "      <td>Female</td>\n",
       "      <td>No</td>\n",
       "      <td>Sun</td>\n",
       "      <td>Dinner</td>\n",
       "      <td>5</td>\n",
       "      <td>d</td>\n",
       "    </tr>\n",
       "    <tr>\n",
       "      <th>242</th>\n",
       "      <td>30.40</td>\n",
       "      <td>5.60</td>\n",
       "      <td>Male</td>\n",
       "      <td>No</td>\n",
       "      <td>Sun</td>\n",
       "      <td>Dinner</td>\n",
       "      <td>4</td>\n",
       "      <td>d</td>\n",
       "    </tr>\n",
       "    <tr>\n",
       "      <th>243</th>\n",
       "      <td>50.81</td>\n",
       "      <td>10.00</td>\n",
       "      <td>Male</td>\n",
       "      <td>Yes</td>\n",
       "      <td>Sat</td>\n",
       "      <td>Dinner</td>\n",
       "      <td>3</td>\n",
       "      <td>d</td>\n",
       "    </tr>\n",
       "  </tbody>\n",
       "</table>\n",
       "<p>244 rows × 8 columns</p>\n",
       "</div>"
      ],
      "text/plain": [
       "     total_bill    tip     sex smoker   day    time  size bill_grp\n",
       "0         12.03   1.50    Male    Yes   Fri  Dinner     2        a\n",
       "1         12.43   1.80  Female     No  Thur   Lunch     2        a\n",
       "2         10.07   1.83  Female     No  Thur   Lunch     1        a\n",
       "3          9.60   4.00  Female    Yes   Sun  Dinner     2        a\n",
       "4         11.69   2.31    Male     No  Thur   Lunch     2        a\n",
       "..          ...    ...     ...    ...   ...     ...   ...      ...\n",
       "239       25.00   3.75  Female     No   Sun  Dinner     4        d\n",
       "240       48.17   5.00    Male     No   Sun  Dinner     6        d\n",
       "241       29.85   5.14  Female     No   Sun  Dinner     5        d\n",
       "242       30.40   5.60    Male     No   Sun  Dinner     4        d\n",
       "243       50.81  10.00    Male    Yes   Sat  Dinner     3        d\n",
       "\n",
       "[244 rows x 8 columns]"
      ]
     },
     "execution_count": 35,
     "metadata": {},
     "output_type": "execute_result"
    }
   ],
   "source": [
    "my_bins = [-np.inf, q1, q2, q3, np.inf]\n",
    "my_label = list('abcd')\n",
    "\n",
    "tip['bill_grp'] = pd.cut(tip['total_bill'] ,bins = my_bins, labels = my_label)\n",
    "\n",
    "tip_rising = tip.sort_values(by = 'bill_grp', ascending = True)\n",
    "\n",
    "tip_rising.reset_index(drop = True, inplace = True)\n",
    "\n",
    "tip_rising\n"
   ]
  },
  {
   "cell_type": "markdown",
   "id": "8477e5fd-d17b-41ec-bbff-bc1856df3feb",
   "metadata": {},
   "source": [
    "[문3] bill_grp 별 total_bill, tip의 평균을 집계하세요."
   ]
  },
  {
   "cell_type": "code",
   "execution_count": 33,
   "id": "d4baab26-e888-443f-926c-313eb680b95e",
   "metadata": {},
   "outputs": [
    {
     "data": {
      "text/html": [
       "<div>\n",
       "<style scoped>\n",
       "    .dataframe tbody tr th:only-of-type {\n",
       "        vertical-align: middle;\n",
       "    }\n",
       "\n",
       "    .dataframe tbody tr th {\n",
       "        vertical-align: top;\n",
       "    }\n",
       "\n",
       "    .dataframe thead th {\n",
       "        text-align: right;\n",
       "    }\n",
       "</style>\n",
       "<table border=\"1\" class=\"dataframe\">\n",
       "  <thead>\n",
       "    <tr style=\"text-align: right;\">\n",
       "      <th></th>\n",
       "      <th>bill_grp</th>\n",
       "      <th>total_bill</th>\n",
       "      <th>tip</th>\n",
       "    </tr>\n",
       "  </thead>\n",
       "  <tbody>\n",
       "    <tr>\n",
       "      <th>0</th>\n",
       "      <td>a</td>\n",
       "      <td>10.691967</td>\n",
       "      <td>1.920656</td>\n",
       "    </tr>\n",
       "    <tr>\n",
       "      <th>1</th>\n",
       "      <td>b</td>\n",
       "      <td>15.618689</td>\n",
       "      <td>2.609672</td>\n",
       "    </tr>\n",
       "    <tr>\n",
       "      <th>2</th>\n",
       "      <td>c</td>\n",
       "      <td>20.498525</td>\n",
       "      <td>3.225246</td>\n",
       "    </tr>\n",
       "    <tr>\n",
       "      <th>3</th>\n",
       "      <td>d</td>\n",
       "      <td>32.334590</td>\n",
       "      <td>4.237541</td>\n",
       "    </tr>\n",
       "  </tbody>\n",
       "</table>\n",
       "</div>"
      ],
      "text/plain": [
       "  bill_grp  total_bill       tip\n",
       "0        a   10.691967  1.920656\n",
       "1        b   15.618689  2.609672\n",
       "2        c   20.498525  3.225246\n",
       "3        d   32.334590  4.237541"
      ]
     },
     "execution_count": 33,
     "metadata": {},
     "output_type": "execute_result"
    }
   ],
   "source": [
    "avg = tip.groupby(by ='bill_grp', as_index = False )[['total_bill','tip']].mean()\n",
    "\n",
    "avg"
   ]
  },
  {
   "cell_type": "code",
   "execution_count": 37,
   "id": "e77cec18-22e0-493b-98f0-47e3a7315bda",
   "metadata": {},
   "outputs": [
    {
     "name": "stdout",
     "output_type": "stream",
     "text": [
      "[[1 2 3]\n",
      " [4 5 6]]\n"
     ]
    }
   ],
   "source": [
    "import numpy as np\n",
    "\n",
    "a= np.array([[1,2,3],[4,5,6]])\n",
    "print(a)"
   ]
  },
  {
   "cell_type": "code",
   "execution_count": 43,
   "id": "442f2844-146e-49e6-b94b-59225127d579",
   "metadata": {},
   "outputs": [
    {
     "data": {
      "text/html": [
       "<div>\n",
       "<style scoped>\n",
       "    .dataframe tbody tr th:only-of-type {\n",
       "        vertical-align: middle;\n",
       "    }\n",
       "\n",
       "    .dataframe tbody tr th {\n",
       "        vertical-align: top;\n",
       "    }\n",
       "\n",
       "    .dataframe thead th {\n",
       "        text-align: right;\n",
       "    }\n",
       "</style>\n",
       "<table border=\"1\" class=\"dataframe\">\n",
       "  <thead>\n",
       "    <tr style=\"text-align: right;\">\n",
       "      <th></th>\n",
       "      <th>sex</th>\n",
       "      <th>tip</th>\n",
       "    </tr>\n",
       "  </thead>\n",
       "  <tbody>\n",
       "    <tr>\n",
       "      <th>0</th>\n",
       "      <td>Female</td>\n",
       "      <td>246.51</td>\n",
       "    </tr>\n",
       "    <tr>\n",
       "      <th>1</th>\n",
       "      <td>Male</td>\n",
       "      <td>485.07</td>\n",
       "    </tr>\n",
       "  </tbody>\n",
       "</table>\n",
       "</div>"
      ],
      "text/plain": [
       "      sex     tip\n",
       "0  Female  246.51\n",
       "1    Male  485.07"
      ]
     },
     "execution_count": 43,
     "metadata": {},
     "output_type": "execute_result"
    }
   ],
   "source": [
    "import pandas as pd \n",
    "path = 'tips.csv'\n",
    "tip = pd.read_csv(path)\n",
    "\n",
    "tip.groupby(by = 'sex',as_index = False)['tip'].sum() "
   ]
  },
  {
   "cell_type": "code",
   "execution_count": 39,
   "id": "fbe1a75c-2cb8-4d19-908e-cc6965e90aec",
   "metadata": {},
   "outputs": [
    {
     "data": {
      "text/html": [
       "<div>\n",
       "<style scoped>\n",
       "    .dataframe tbody tr th:only-of-type {\n",
       "        vertical-align: middle;\n",
       "    }\n",
       "\n",
       "    .dataframe tbody tr th {\n",
       "        vertical-align: top;\n",
       "    }\n",
       "\n",
       "    .dataframe thead th {\n",
       "        text-align: right;\n",
       "    }\n",
       "</style>\n",
       "<table border=\"1\" class=\"dataframe\">\n",
       "  <thead>\n",
       "    <tr style=\"text-align: right;\">\n",
       "      <th></th>\n",
       "      <th>total_bill</th>\n",
       "      <th>tip</th>\n",
       "      <th>size</th>\n",
       "    </tr>\n",
       "  </thead>\n",
       "  <tbody>\n",
       "    <tr>\n",
       "      <th>count</th>\n",
       "      <td>244.000000</td>\n",
       "      <td>244.000000</td>\n",
       "      <td>244.000000</td>\n",
       "    </tr>\n",
       "    <tr>\n",
       "      <th>mean</th>\n",
       "      <td>19.785943</td>\n",
       "      <td>2.998279</td>\n",
       "      <td>2.569672</td>\n",
       "    </tr>\n",
       "    <tr>\n",
       "      <th>std</th>\n",
       "      <td>8.902412</td>\n",
       "      <td>1.383638</td>\n",
       "      <td>0.951100</td>\n",
       "    </tr>\n",
       "    <tr>\n",
       "      <th>min</th>\n",
       "      <td>3.070000</td>\n",
       "      <td>1.000000</td>\n",
       "      <td>1.000000</td>\n",
       "    </tr>\n",
       "    <tr>\n",
       "      <th>25%</th>\n",
       "      <td>13.347500</td>\n",
       "      <td>2.000000</td>\n",
       "      <td>2.000000</td>\n",
       "    </tr>\n",
       "    <tr>\n",
       "      <th>50%</th>\n",
       "      <td>17.795000</td>\n",
       "      <td>2.900000</td>\n",
       "      <td>2.000000</td>\n",
       "    </tr>\n",
       "    <tr>\n",
       "      <th>75%</th>\n",
       "      <td>24.127500</td>\n",
       "      <td>3.562500</td>\n",
       "      <td>3.000000</td>\n",
       "    </tr>\n",
       "    <tr>\n",
       "      <th>max</th>\n",
       "      <td>50.810000</td>\n",
       "      <td>10.000000</td>\n",
       "      <td>6.000000</td>\n",
       "    </tr>\n",
       "  </tbody>\n",
       "</table>\n",
       "</div>"
      ],
      "text/plain": [
       "       total_bill         tip        size\n",
       "count  244.000000  244.000000  244.000000\n",
       "mean    19.785943    2.998279    2.569672\n",
       "std      8.902412    1.383638    0.951100\n",
       "min      3.070000    1.000000    1.000000\n",
       "25%     13.347500    2.000000    2.000000\n",
       "50%     17.795000    2.900000    2.000000\n",
       "75%     24.127500    3.562500    3.000000\n",
       "max     50.810000   10.000000    6.000000"
      ]
     },
     "execution_count": 39,
     "metadata": {},
     "output_type": "execute_result"
    }
   ],
   "source": [
    "tip.describe()"
   ]
  },
  {
   "cell_type": "code",
   "execution_count": null,
   "id": "e7f169b1-3588-4f9a-b79b-aa47ed51b3c3",
   "metadata": {},
   "outputs": [],
   "source": []
  }
 ],
 "metadata": {
  "kernelspec": {
   "display_name": "Python 3",
   "language": "python",
   "name": "python3"
  },
  "language_info": {
   "codemirror_mode": {
    "name": "ipython",
    "version": 3
   },
   "file_extension": ".py",
   "mimetype": "text/x-python",
   "name": "python",
   "nbconvert_exporter": "python",
   "pygments_lexer": "ipython3",
   "version": "3.8.8"
  }
 },
 "nbformat": 4,
 "nbformat_minor": 5
}
