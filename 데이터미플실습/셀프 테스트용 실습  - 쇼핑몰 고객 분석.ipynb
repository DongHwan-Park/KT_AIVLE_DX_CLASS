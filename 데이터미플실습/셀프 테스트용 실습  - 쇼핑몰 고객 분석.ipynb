{
 "cells": [
  {
   "cell_type": "markdown",
   "metadata": {
    "id": "BFhIXgdYoYGp"
   },
   "source": [
    "<center><img src='https://raw.githubusercontent.com/Jangrae/img/master/title.png' width=500/></center>"
   ]
  },
  {
   "cell_type": "markdown",
   "metadata": {
    "id": "d6jVPeiR2MK_"
   },
   "source": [
    "<center><img src='https://raw.githubusercontent.com/Jangrae/img/master/practice3.png' width=300/></center>"
   ]
  },
  {
   "cell_type": "markdown",
   "metadata": {
    "id": "Xi_yurwiORB7"
   },
   "source": [
    "# 쇼핑몰 고객 분석"
   ]
  },
  {
   "cell_type": "markdown",
   "metadata": {
    "id": "4wk8yXgF1FYk"
   },
   "source": [
    "<img src='https://raw.githubusercontent.com/Jangrae/img/master/shopping.jpg' width=\"650\" align=\"left\">"
   ]
  },
  {
   "cell_type": "markdown",
   "metadata": {
    "id": "qb1iLyXwGlnw"
   },
   "source": [
    "# 1.준비"
   ]
  },
  {
   "cell_type": "markdown",
   "metadata": {
    "id": "0uNXxebRGrd8"
   },
   "source": [
    "**1) 라이브러리 불러오기**\n",
    "\n",
    "- 사용할 라이브러리를 불러옵니다."
   ]
  },
  {
   "cell_type": "code",
   "execution_count": 1,
   "metadata": {
    "id": "p3lUS_fyqvnh"
   },
   "outputs": [],
   "source": [
    "# 라이브러리 불러오기\n",
    "import numpy as np\n",
    "import pandas as pd\n",
    "import matplotlib.pyplot as plt\n",
    "\n",
    "%config InlineBackend.figure_format = 'retina'"
   ]
  },
  {
   "cell_type": "markdown",
   "metadata": {
    "id": "ul8zKgxCqvnh"
   },
   "source": [
    "**2) 데이터 읽어오기**\n",
    "\n",
    "- 다음 경로의 파일을 읽어와 mall 데이터프레임을 만듭니다.\n",
    "- 파일 경로: https://raw.githubusercontent.com/Jangrae/csv/master/mall_cust.csv"
   ]
  },
  {
   "cell_type": "code",
   "execution_count": 2,
   "metadata": {
    "id": "91c9vKQ0E1A4"
   },
   "outputs": [],
   "source": [
    "# 데이터 읽어오기\n",
    "path = 'https://raw.githubusercontent.com/Jangrae/csv/master/mall_cust.csv'  \n",
    "mall = pd.read_csv(path)"
   ]
  },
  {
   "cell_type": "markdown",
   "metadata": {
    "id": "DGGFZli-V9pv"
   },
   "source": [
    "**3) 상/하위 데이터 확인**\n",
    "\n",
    "- 상위 데이터와 하위 데이터를 확인해 데이터의 모습을 살펴봅니다."
   ]
  },
  {
   "cell_type": "code",
   "execution_count": 3,
   "metadata": {},
   "outputs": [
    {
     "data": {
      "text/html": [
       "<div>\n",
       "<style scoped>\n",
       "    .dataframe tbody tr th:only-of-type {\n",
       "        vertical-align: middle;\n",
       "    }\n",
       "\n",
       "    .dataframe tbody tr th {\n",
       "        vertical-align: top;\n",
       "    }\n",
       "\n",
       "    .dataframe thead th {\n",
       "        text-align: right;\n",
       "    }\n",
       "</style>\n",
       "<table border=\"1\" class=\"dataframe\">\n",
       "  <thead>\n",
       "    <tr style=\"text-align: right;\">\n",
       "      <th></th>\n",
       "      <th>CustomerID</th>\n",
       "      <th>Gender</th>\n",
       "      <th>Age</th>\n",
       "      <th>Annual Income (k$)</th>\n",
       "      <th>Spending Score (1-100)</th>\n",
       "    </tr>\n",
       "  </thead>\n",
       "  <tbody>\n",
       "    <tr>\n",
       "      <th>0</th>\n",
       "      <td>1</td>\n",
       "      <td>Male</td>\n",
       "      <td>19.0</td>\n",
       "      <td>15.0</td>\n",
       "      <td>39</td>\n",
       "    </tr>\n",
       "    <tr>\n",
       "      <th>1</th>\n",
       "      <td>2</td>\n",
       "      <td>Male</td>\n",
       "      <td>NaN</td>\n",
       "      <td>15.0</td>\n",
       "      <td>81</td>\n",
       "    </tr>\n",
       "    <tr>\n",
       "      <th>2</th>\n",
       "      <td>3</td>\n",
       "      <td>Female</td>\n",
       "      <td>20.0</td>\n",
       "      <td>16.0</td>\n",
       "      <td>6</td>\n",
       "    </tr>\n",
       "    <tr>\n",
       "      <th>3</th>\n",
       "      <td>4</td>\n",
       "      <td>Female</td>\n",
       "      <td>NaN</td>\n",
       "      <td>16.0</td>\n",
       "      <td>77</td>\n",
       "    </tr>\n",
       "    <tr>\n",
       "      <th>4</th>\n",
       "      <td>5</td>\n",
       "      <td>Female</td>\n",
       "      <td>31.0</td>\n",
       "      <td>NaN</td>\n",
       "      <td>40</td>\n",
       "    </tr>\n",
       "  </tbody>\n",
       "</table>\n",
       "</div>"
      ],
      "text/plain": [
       "   CustomerID  Gender   Age  Annual Income (k$)  Spending Score (1-100)\n",
       "0           1    Male  19.0                15.0                      39\n",
       "1           2    Male   NaN                15.0                      81\n",
       "2           3  Female  20.0                16.0                       6\n",
       "3           4  Female   NaN                16.0                      77\n",
       "4           5  Female  31.0                 NaN                      40"
      ]
     },
     "execution_count": 3,
     "metadata": {},
     "output_type": "execute_result"
    }
   ],
   "source": [
    "# 상위 데이터 5건 확인\n",
    "mall.head(5)"
   ]
  },
  {
   "cell_type": "code",
   "execution_count": 4,
   "metadata": {},
   "outputs": [
    {
     "data": {
      "text/html": [
       "<div>\n",
       "<style scoped>\n",
       "    .dataframe tbody tr th:only-of-type {\n",
       "        vertical-align: middle;\n",
       "    }\n",
       "\n",
       "    .dataframe tbody tr th {\n",
       "        vertical-align: top;\n",
       "    }\n",
       "\n",
       "    .dataframe thead th {\n",
       "        text-align: right;\n",
       "    }\n",
       "</style>\n",
       "<table border=\"1\" class=\"dataframe\">\n",
       "  <thead>\n",
       "    <tr style=\"text-align: right;\">\n",
       "      <th></th>\n",
       "      <th>CustomerID</th>\n",
       "      <th>Gender</th>\n",
       "      <th>Age</th>\n",
       "      <th>Annual Income (k$)</th>\n",
       "      <th>Spending Score (1-100)</th>\n",
       "    </tr>\n",
       "  </thead>\n",
       "  <tbody>\n",
       "    <tr>\n",
       "      <th>195</th>\n",
       "      <td>196</td>\n",
       "      <td>Female</td>\n",
       "      <td>35.0</td>\n",
       "      <td>120.0</td>\n",
       "      <td>79</td>\n",
       "    </tr>\n",
       "    <tr>\n",
       "      <th>196</th>\n",
       "      <td>197</td>\n",
       "      <td>Female</td>\n",
       "      <td>45.0</td>\n",
       "      <td>126.0</td>\n",
       "      <td>28</td>\n",
       "    </tr>\n",
       "    <tr>\n",
       "      <th>197</th>\n",
       "      <td>198</td>\n",
       "      <td>Male</td>\n",
       "      <td>32.0</td>\n",
       "      <td>126.0</td>\n",
       "      <td>74</td>\n",
       "    </tr>\n",
       "    <tr>\n",
       "      <th>198</th>\n",
       "      <td>199</td>\n",
       "      <td>Male</td>\n",
       "      <td>32.0</td>\n",
       "      <td>137.0</td>\n",
       "      <td>18</td>\n",
       "    </tr>\n",
       "    <tr>\n",
       "      <th>199</th>\n",
       "      <td>200</td>\n",
       "      <td>Male</td>\n",
       "      <td>30.0</td>\n",
       "      <td>137.0</td>\n",
       "      <td>83</td>\n",
       "    </tr>\n",
       "  </tbody>\n",
       "</table>\n",
       "</div>"
      ],
      "text/plain": [
       "     CustomerID  Gender   Age  Annual Income (k$)  Spending Score (1-100)\n",
       "195         196  Female  35.0               120.0                      79\n",
       "196         197  Female  45.0               126.0                      28\n",
       "197         198    Male  32.0               126.0                      74\n",
       "198         199    Male  32.0               137.0                      18\n",
       "199         200    Male  30.0               137.0                      83"
      ]
     },
     "execution_count": 4,
     "metadata": {},
     "output_type": "execute_result"
    }
   ],
   "source": [
    "# 하위 데이터 5건 확인\n",
    "mall.tail(5)"
   ]
  },
  {
   "cell_type": "markdown",
   "metadata": {},
   "source": [
    "# 2.실습 A\n",
    "\n",
    "- 데이터를 탐색하고 전처리합니다."
   ]
  },
  {
   "cell_type": "markdown",
   "metadata": {
    "id": "ia5a8bYdWRRY"
   },
   "source": [
    "#### 실습A-1. 결측치 확인\n",
    "\n",
    "- 각 열 별로 결측치가 몇 개 씩 있는지 확인합니다."
   ]
  },
  {
   "cell_type": "code",
   "execution_count": 5,
   "metadata": {
    "id": "eGIIvQrPx1aj"
   },
   "outputs": [],
   "source": [
    "# 결측치 확인\n"
   ]
  },
  {
   "cell_type": "markdown",
   "metadata": {},
   "source": [
    "#### 실습A-2. 열 정보 확인\n",
    "\n",
    "- 열 이름, 데이터 개수, 데이터 형식 등을 한 번에 확인홥니다."
   ]
  },
  {
   "cell_type": "code",
   "execution_count": 6,
   "metadata": {
    "scrolled": true
   },
   "outputs": [],
   "source": [
    "# 열 정보 확인\n"
   ]
  },
  {
   "cell_type": "markdown",
   "metadata": {
    "id": "RVYiMiblt05b"
   },
   "source": [
    "#### 실습A-3. 열 이름 변경\n",
    "\n",
    "- 다음과 같이 두 열의 이름을 변경합니다.\n",
    "    - Annual Income (k$) --> Income\t\n",
    "    - Spending Score (1-100) --> Score"
   ]
  },
  {
   "cell_type": "code",
   "execution_count": 7,
   "metadata": {
    "id": "oQVSJrJishiQ",
    "scrolled": true
   },
   "outputs": [],
   "source": [
    "# 열 이름 변경\n",
    "\n",
    "\n",
    "\n",
    "# 확인\n"
   ]
  },
  {
   "cell_type": "markdown",
   "metadata": {
    "id": "hdjxpxxFzxCT"
   },
   "source": [
    "#### 실습A-4. 결측치 처리\n",
    "\n",
    "- 결측치가 있는 행은 적절히 채울 값이 없다 가정하고 제거합니다."
   ]
  },
  {
   "cell_type": "code",
   "execution_count": 8,
   "metadata": {
    "id": "NyjTg23zz5XS"
   },
   "outputs": [],
   "source": [
    "# 결측치 제거\n",
    "\n",
    "\n",
    "# 확인\n"
   ]
  },
  {
   "cell_type": "markdown",
   "metadata": {
    "id": "hdjxpxxFzxCT"
   },
   "source": [
    "#### 실습A-5. 인덱스 초기화\n",
    "\n",
    "- 지워진 행이 있으니 기존 인덱스 값을 버리고 새로 초기화 합니다."
   ]
  },
  {
   "cell_type": "code",
   "execution_count": 9,
   "metadata": {
    "id": "NyjTg23zz5XS"
   },
   "outputs": [],
   "source": [
    "# 인덱스 초기화\n",
    "\n",
    "\n",
    "# 확인\n"
   ]
  },
  {
   "cell_type": "markdown",
   "metadata": {
    "id": "WAGgvzDv2klV"
   },
   "source": [
    "#### 실습A-6. 열 제거\n",
    "\n",
    "- CustomerID 열은 단순한 일련 번호이니 제거합니다."
   ]
  },
  {
   "cell_type": "code",
   "execution_count": 10,
   "metadata": {
    "id": "_2UJfoL4Deyq"
   },
   "outputs": [],
   "source": [
    "# 열 제거\n",
    "\n",
    "\n",
    "#  확인\n"
   ]
  },
  {
   "cell_type": "markdown",
   "metadata": {
    "id": "WAGgvzDv2klV"
   },
   "source": [
    "#### 실습A-7. 열 추가\n",
    "\n",
    "- 연령대별 분석을 위해 연령대 값을 갖는 Age_Group 열을 추가합니다."
   ]
  },
  {
   "cell_type": "code",
   "execution_count": 11,
   "metadata": {
    "id": "_2UJfoL4Deyq"
   },
   "outputs": [],
   "source": [
    "# 열 추가\n",
    "\n",
    "\n",
    "#  확인\n"
   ]
  },
  {
   "cell_type": "markdown",
   "metadata": {
    "id": "BUlYrjII22qA"
   },
   "source": [
    "#### 실습A-8. 기초통계정보 확인\n",
    "\n",
    "- 현재까지 처리된 데이터에 대한 기초통계정보를 확인합니다."
   ]
  },
  {
   "cell_type": "code",
   "execution_count": 12,
   "metadata": {
    "id": "w_e2NR6W3Sw0"
   },
   "outputs": [],
   "source": [
    "# 기초통계정보\n"
   ]
  },
  {
   "cell_type": "markdown",
   "metadata": {},
   "source": [
    "#### 실습A-9. 범주값 확인\n",
    "\n",
    "- 범주값을 갖는 Gender 열이 어떤 값을 몇 개씩 갖는지 확인합니다."
   ]
  },
  {
   "cell_type": "code",
   "execution_count": 13,
   "metadata": {},
   "outputs": [],
   "source": [
    "# 남녀 수\n"
   ]
  },
  {
   "cell_type": "markdown",
   "metadata": {},
   "source": [
    "# 3.실습 B\n",
    "\n",
    "- 데이터를 조회하고 집계하여 분석합니다."
   ]
  },
  {
   "cell_type": "markdown",
   "metadata": {},
   "source": [
    "#### 실습B-1. 조건 조회\n",
    "\n",
    "- Gender열 값이 'Male' 이면서 Score열 값이 95 이상인 행을 조회합니다."
   ]
  },
  {
   "cell_type": "code",
   "execution_count": 14,
   "metadata": {},
   "outputs": [],
   "source": [
    "# Score 95이상 남자 고객\n"
   ]
  },
  {
   "cell_type": "markdown",
   "metadata": {
    "id": "YqROKu_R3t03",
    "tags": []
   },
   "source": [
    "#### 실습B-2. 연령대별 집계\n",
    "\n",
    "- 연령대(Age_Group)별 연수입(Income) 평균을 집계하여 age_mean 데이터프레임으로 선언하고 확인합니다."
   ]
  },
  {
   "cell_type": "code",
   "execution_count": 15,
   "metadata": {
    "id": "E6hQeKB533r9"
   },
   "outputs": [],
   "source": [
    "# 연령대별 집계\n",
    "\n",
    "\n",
    "# 확인\n"
   ]
  },
  {
   "cell_type": "markdown",
   "metadata": {
    "id": "YqROKu_R3t03",
    "tags": []
   },
   "source": [
    "#### 실습B-3. 연령대별 집계 시각화\n",
    "\n",
    "- 위 과정에서 만든 age_mean 데이터프레임을 막대그래프로 시각화합니다."
   ]
  },
  {
   "cell_type": "code",
   "execution_count": 16,
   "metadata": {
    "id": "E6hQeKB533r9"
   },
   "outputs": [],
   "source": [
    "# 시각화\n",
    "\n"
   ]
  },
  {
   "cell_type": "markdown",
   "metadata": {
    "id": "YqROKu_R3t03",
    "tags": []
   },
   "source": [
    "#### 실습B-4. 남녀별 집계\n",
    "\n",
    "- 남녀(Gender)별 연수입(Income) 평균을 집계하여 gender_mean 데이터프레임으로 선언하고 확인합니다."
   ]
  },
  {
   "cell_type": "code",
   "execution_count": 17,
   "metadata": {
    "id": "E6hQeKB533r9"
   },
   "outputs": [],
   "source": [
    "# 남녀별 집계\n",
    "\n",
    "\n",
    "# 확인\n"
   ]
  },
  {
   "cell_type": "markdown",
   "metadata": {
    "id": "YqROKu_R3t03",
    "tags": []
   },
   "source": [
    "#### 실습B-5. 정렬해서 확인\n",
    "\n",
    "- Score 열을 기준으로 내림차순 정렬한 후 상위 20개 행만 추축해 score_top20 데이터프레임으로 선언하고 확인합니다."
   ]
  },
  {
   "cell_type": "code",
   "execution_count": 18,
   "metadata": {
    "id": "E6hQeKB533r9"
   },
   "outputs": [],
   "source": [
    "# Score Top 20\n",
    "\n",
    "\n",
    "# 확인\n"
   ]
  },
  {
   "cell_type": "markdown",
   "metadata": {},
   "source": [
    "#### 실습B-6. 고객 그룹핑\n",
    "\n",
    "- 다음 기준으로 고객 등급을 갖는 Level열을 **mall** 데이터프레임에 추가합니다.\n",
    "    - 70 < Score : A\n",
    "    - 50 < Score <= 70: B\n",
    "    - 30 < Score <= 50: C\n",
    "    - Score <= 30: D\n"
   ]
  },
  {
   "cell_type": "code",
   "execution_count": 19,
   "metadata": {},
   "outputs": [],
   "source": [
    "# 등급 구하기\n",
    "\n",
    "\n",
    "\n",
    "\n",
    "# 확인\n"
   ]
  },
  {
   "cell_type": "markdown",
   "metadata": {},
   "source": [
    "#### 실습B-7. 등급별 집계\n",
    "\n",
    "- 앞의 과정에서 추가한 등급(Level)별 연수입(Income) 평균을 집계합니다."
   ]
  },
  {
   "cell_type": "code",
   "execution_count": 20,
   "metadata": {},
   "outputs": [],
   "source": [
    "# 등급별 연수입 평균\n"
   ]
  }
 ],
 "metadata": {
  "colab": {
   "collapsed_sections": [],
   "name": "X01 - [레벨업] 서울 인구 분석.ipynb",
   "provenance": []
  },
  "kernelspec": {
   "display_name": "Python 3 (ipykernel)",
   "language": "python",
   "name": "python3"
  },
  "language_info": {
   "codemirror_mode": {
    "name": "ipython",
    "version": 3
   },
   "file_extension": ".py",
   "mimetype": "text/x-python",
   "name": "python",
   "nbconvert_exporter": "python",
   "pygments_lexer": "ipython3",
   "version": "3.9.12"
  },
  "vscode": {
   "interpreter": {
    "hash": "fba161e5a264f3d0e65d4b89c0b8277da7526ebf8d7a7bdd30b438856f2f8e5a"
   }
  }
 },
 "nbformat": 4,
 "nbformat_minor": 4
}
