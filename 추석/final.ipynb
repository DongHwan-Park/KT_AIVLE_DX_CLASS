{
 "cells": [
  {
   "cell_type": "code",
   "execution_count": 103,
   "id": "41c0ba17-169b-4fdf-8721-97c1287940b4",
   "metadata": {},
   "outputs": [],
   "source": [
    "# 라이브러리\n",
    "import numpy as np\n",
    "import pandas as pd\n",
    "import seaborn as sns\n",
    "import matplotlib.pyplot as plt\n",
    "import scipy as spst\n",
    "\n",
    "# 한글폰트 지정(맑은고딕)\n",
    "plt.rcParams['font.family'] = 'Malgun Gothic'\n",
    "plt.rcParams['axes.unicode_minus'] = False\n",
    "\n",
    "# 고해상도\n",
    "%config InlineBackend.figure_format = 'retina'"
   ]
  },
  {
   "cell_type": "markdown",
   "id": "47a310fd-80ff-4473-b5d3-ab8683ff0913",
   "metadata": {},
   "source": [
    "- csv 불러오기"
   ]
  },
  {
   "cell_type": "code",
   "execution_count": 104,
   "id": "6a9686c0-ec92-4a15-b931-fc693c59ef5b",
   "metadata": {},
   "outputs": [],
   "source": [
    "wt = pd.read_csv('weather.csv')\n",
    "wt.drop(columns = 'Unnamed: 0' , axis =1 ,inplace = True)\n",
    "chu = pd.read_csv('df_merged_date&chu.csv')\n",
    "chu.drop(columns = ['Unnamed: 0','연도'] , axis =1 ,inplace = True)"
   ]
  },
  {
   "cell_type": "code",
   "execution_count": 105,
   "id": "e97b01f8-1eab-4946-bb20-323521dd9a08",
   "metadata": {
    "tags": []
   },
   "outputs": [
    {
     "data": {
      "text/html": [
       "<div>\n",
       "<style scoped>\n",
       "    .dataframe tbody tr th:only-of-type {\n",
       "        vertical-align: middle;\n",
       "    }\n",
       "\n",
       "    .dataframe tbody tr th {\n",
       "        vertical-align: top;\n",
       "    }\n",
       "\n",
       "    .dataframe thead th {\n",
       "        text-align: right;\n",
       "    }\n",
       "</style>\n",
       "<table border=\"1\" class=\"dataframe\">\n",
       "  <thead>\n",
       "    <tr style=\"text-align: right;\">\n",
       "      <th></th>\n",
       "      <th>날짜</th>\n",
       "      <th>시간</th>\n",
       "      <th>서울기온</th>\n",
       "      <th>서울강수량</th>\n",
       "      <th>서울풍속</th>\n",
       "      <th>서울습도</th>\n",
       "      <th>서울시정</th>\n",
       "      <th>서울지면온도</th>\n",
       "      <th>부산기온</th>\n",
       "      <th>부산강수량</th>\n",
       "      <th>...</th>\n",
       "      <th>대구풍속</th>\n",
       "      <th>대구습도</th>\n",
       "      <th>대구시정</th>\n",
       "      <th>대구지면온도</th>\n",
       "      <th>대전기온</th>\n",
       "      <th>대전강수량</th>\n",
       "      <th>대전풍속</th>\n",
       "      <th>대전습도</th>\n",
       "      <th>대전시정</th>\n",
       "      <th>대전지면온도</th>\n",
       "    </tr>\n",
       "  </thead>\n",
       "  <tbody>\n",
       "    <tr>\n",
       "      <th>0</th>\n",
       "      <td>2017-10-01</td>\n",
       "      <td>0</td>\n",
       "      <td>18.4</td>\n",
       "      <td>NaN</td>\n",
       "      <td>1.3</td>\n",
       "      <td>83</td>\n",
       "      <td>513</td>\n",
       "      <td>15.1</td>\n",
       "      <td>18.6</td>\n",
       "      <td>NaN</td>\n",
       "      <td>...</td>\n",
       "      <td>0.5</td>\n",
       "      <td>84</td>\n",
       "      <td>1811</td>\n",
       "      <td>12.5</td>\n",
       "      <td>15.5</td>\n",
       "      <td>NaN</td>\n",
       "      <td>1.0</td>\n",
       "      <td>93</td>\n",
       "      <td>870</td>\n",
       "      <td>14.3</td>\n",
       "    </tr>\n",
       "    <tr>\n",
       "      <th>1</th>\n",
       "      <td>2017-10-01</td>\n",
       "      <td>1</td>\n",
       "      <td>18.0</td>\n",
       "      <td>NaN</td>\n",
       "      <td>1.6</td>\n",
       "      <td>81</td>\n",
       "      <td>582</td>\n",
       "      <td>15.2</td>\n",
       "      <td>18.1</td>\n",
       "      <td>NaN</td>\n",
       "      <td>...</td>\n",
       "      <td>1.2</td>\n",
       "      <td>88</td>\n",
       "      <td>1785</td>\n",
       "      <td>12.2</td>\n",
       "      <td>14.7</td>\n",
       "      <td>NaN</td>\n",
       "      <td>0.9</td>\n",
       "      <td>95</td>\n",
       "      <td>758</td>\n",
       "      <td>13.7</td>\n",
       "    </tr>\n",
       "  </tbody>\n",
       "</table>\n",
       "<p>2 rows × 26 columns</p>\n",
       "</div>"
      ],
      "text/plain": [
       "           날짜  시간  서울기온  서울강수량  서울풍속  서울습도  서울시정  서울지면온도  부산기온  부산강수량  ...  \\\n",
       "0  2017-10-01   0  18.4    NaN   1.3    83   513    15.1  18.6    NaN  ...   \n",
       "1  2017-10-01   1  18.0    NaN   1.6    81   582    15.2  18.1    NaN  ...   \n",
       "\n",
       "   대구풍속  대구습도  대구시정  대구지면온도  대전기온  대전강수량  대전풍속  대전습도  대전시정  대전지면온도  \n",
       "0   0.5    84  1811    12.5  15.5    NaN   1.0    93   870    14.3  \n",
       "1   1.2    88  1785    12.2  14.7    NaN   0.9    95   758    13.7  \n",
       "\n",
       "[2 rows x 26 columns]"
      ]
     },
     "execution_count": 105,
     "metadata": {},
     "output_type": "execute_result"
    }
   ],
   "source": [
    "wt.head(2)"
   ]
  },
  {
   "cell_type": "code",
   "execution_count": 106,
   "id": "17852a65-f01d-469e-b030-b5d8a48e0f47",
   "metadata": {
    "tags": []
   },
   "outputs": [
    {
     "name": "stdout",
     "output_type": "stream",
     "text": [
      "<class 'pandas.core.frame.DataFrame'>\n",
      "RangeIndex: 768 entries, 0 to 767\n",
      "Data columns (total 26 columns):\n",
      " #   Column  Non-Null Count  Dtype  \n",
      "---  ------  --------------  -----  \n",
      " 0   날짜      768 non-null    object \n",
      " 1   시간      768 non-null    int64  \n",
      " 2   서울기온    768 non-null    float64\n",
      " 3   서울강수량   110 non-null    float64\n",
      " 4   서울풍속    768 non-null    float64\n",
      " 5   서울습도    768 non-null    int64  \n",
      " 6   서울시정    768 non-null    int64  \n",
      " 7   서울지면온도  768 non-null    float64\n",
      " 8   부산기온    768 non-null    float64\n",
      " 9   부산강수량   82 non-null     float64\n",
      " 10  부산풍속    762 non-null    float64\n",
      " 11  부산습도    768 non-null    int64  \n",
      " 12  부산시정    768 non-null    int64  \n",
      " 13  부산지면온도  768 non-null    float64\n",
      " 14  대구기온    768 non-null    float64\n",
      " 15  대구강수량   75 non-null     float64\n",
      " 16  대구풍속    768 non-null    float64\n",
      " 17  대구습도    768 non-null    int64  \n",
      " 18  대구시정    768 non-null    int64  \n",
      " 19  대구지면온도  768 non-null    float64\n",
      " 20  대전기온    768 non-null    float64\n",
      " 21  대전강수량   90 non-null     float64\n",
      " 22  대전풍속    768 non-null    float64\n",
      " 23  대전습도    768 non-null    int64  \n",
      " 24  대전시정    768 non-null    int64  \n",
      " 25  대전지면온도  768 non-null    float64\n",
      "dtypes: float64(16), int64(9), object(1)\n",
      "memory usage: 156.1+ KB\n"
     ]
    }
   ],
   "source": [
    "wt.info()"
   ]
  },
  {
   "cell_type": "code",
   "execution_count": 107,
   "id": "9c5ffdde-43ea-4590-a4d3-84bf779e7cd5",
   "metadata": {},
   "outputs": [
    {
     "data": {
      "text/plain": [
       "날짜        0\n",
       "시간        0\n",
       "서울기온      0\n",
       "서울강수량     0\n",
       "서울풍속      0\n",
       "서울습도      0\n",
       "서울시정      0\n",
       "서울지면온도    0\n",
       "부산기온      0\n",
       "부산강수량     0\n",
       "부산풍속      0\n",
       "부산습도      0\n",
       "부산시정      0\n",
       "부산지면온도    0\n",
       "대구기온      0\n",
       "대구강수량     0\n",
       "대구풍속      0\n",
       "대구습도      0\n",
       "대구시정      0\n",
       "대구지면온도    0\n",
       "대전기온      0\n",
       "대전강수량     0\n",
       "대전풍속      0\n",
       "대전습도      0\n",
       "대전시정      0\n",
       "대전지면온도    0\n",
       "dtype: int64"
      ]
     },
     "execution_count": 107,
     "metadata": {},
     "output_type": "execute_result"
    }
   ],
   "source": [
    "wt.fillna(0, inplace = True)\n",
    "wt.isna().sum()"
   ]
  },
  {
   "cell_type": "code",
   "execution_count": 108,
   "id": "065ae77a-2f40-449f-9261-f163437f9ba0",
   "metadata": {},
   "outputs": [
    {
     "data": {
      "text/html": [
       "<div>\n",
       "<style scoped>\n",
       "    .dataframe tbody tr th:only-of-type {\n",
       "        vertical-align: middle;\n",
       "    }\n",
       "\n",
       "    .dataframe tbody tr th {\n",
       "        vertical-align: top;\n",
       "    }\n",
       "\n",
       "    .dataframe thead th {\n",
       "        text-align: right;\n",
       "    }\n",
       "</style>\n",
       "<table border=\"1\" class=\"dataframe\">\n",
       "  <thead>\n",
       "    <tr style=\"text-align: right;\">\n",
       "      <th></th>\n",
       "      <th>날짜</th>\n",
       "      <th>시간</th>\n",
       "      <th>연휴</th>\n",
       "      <th>추석기준</th>\n",
       "      <th>연휴길이</th>\n",
       "      <th>출발지</th>\n",
       "      <th>도착지</th>\n",
       "      <th>소요시간(분)</th>\n",
       "      <th>요일</th>\n",
       "      <th>구분</th>\n",
       "    </tr>\n",
       "  </thead>\n",
       "  <tbody>\n",
       "    <tr>\n",
       "      <th>0</th>\n",
       "      <td>2017-10-01</td>\n",
       "      <td>0.0</td>\n",
       "      <td>추석</td>\n",
       "      <td>D-3</td>\n",
       "      <td>1.0</td>\n",
       "      <td>서울</td>\n",
       "      <td>부산</td>\n",
       "      <td>274.466</td>\n",
       "      <td>일</td>\n",
       "      <td>연휴</td>\n",
       "    </tr>\n",
       "    <tr>\n",
       "      <th>1</th>\n",
       "      <td>2017-10-01</td>\n",
       "      <td>1.0</td>\n",
       "      <td>추석</td>\n",
       "      <td>D-3</td>\n",
       "      <td>1.0</td>\n",
       "      <td>서울</td>\n",
       "      <td>부산</td>\n",
       "      <td>260.141</td>\n",
       "      <td>일</td>\n",
       "      <td>연휴</td>\n",
       "    </tr>\n",
       "  </tbody>\n",
       "</table>\n",
       "</div>"
      ],
      "text/plain": [
       "           날짜   시간  연휴 추석기준  연휴길이 출발지 도착지  소요시간(분) 요일  구분\n",
       "0  2017-10-01  0.0  추석  D-3   1.0  서울  부산  274.466  일  연휴\n",
       "1  2017-10-01  1.0  추석  D-3   1.0  서울  부산  260.141  일  연휴"
      ]
     },
     "execution_count": 108,
     "metadata": {},
     "output_type": "execute_result"
    }
   ],
   "source": [
    "chu.head(2)"
   ]
  },
  {
   "cell_type": "code",
   "execution_count": 109,
   "id": "53963a6b-c13c-4653-8b5a-99f2e1f0885b",
   "metadata": {
    "tags": []
   },
   "outputs": [
    {
     "name": "stdout",
     "output_type": "stream",
     "text": [
      "<class 'pandas.core.frame.DataFrame'>\n",
      "RangeIndex: 772 entries, 0 to 771\n",
      "Data columns (total 10 columns):\n",
      " #   Column   Non-Null Count  Dtype  \n",
      "---  ------   --------------  -----  \n",
      " 0   날짜       772 non-null    object \n",
      " 1   시간       772 non-null    float64\n",
      " 2   연휴       772 non-null    object \n",
      " 3   추석기준     772 non-null    object \n",
      " 4   연휴길이     772 non-null    float64\n",
      " 5   출발지      772 non-null    object \n",
      " 6   도착지      772 non-null    object \n",
      " 7   소요시간(분)  770 non-null    float64\n",
      " 8   요일       772 non-null    object \n",
      " 9   구분       772 non-null    object \n",
      "dtypes: float64(3), object(7)\n",
      "memory usage: 60.4+ KB\n"
     ]
    }
   ],
   "source": [
    "chu.info()"
   ]
  },
  {
   "cell_type": "code",
   "execution_count": 110,
   "id": "0ba64af2-11af-4e47-a15b-bd9a8d958fa5",
   "metadata": {},
   "outputs": [
    {
     "name": "stdout",
     "output_type": "stream",
     "text": [
      "<class 'pandas.core.frame.DataFrame'>\n",
      "RangeIndex: 772 entries, 0 to 771\n",
      "Data columns (total 10 columns):\n",
      " #   Column   Non-Null Count  Dtype  \n",
      "---  ------   --------------  -----  \n",
      " 0   날짜       772 non-null    object \n",
      " 1   시간       772 non-null    int32  \n",
      " 2   연휴       772 non-null    object \n",
      " 3   추석기준     772 non-null    object \n",
      " 4   연휴길이     772 non-null    float64\n",
      " 5   출발지      772 non-null    object \n",
      " 6   도착지      772 non-null    object \n",
      " 7   소요시간(분)  770 non-null    float64\n",
      " 8   요일       772 non-null    object \n",
      " 9   구분       772 non-null    object \n",
      "dtypes: float64(2), int32(1), object(7)\n",
      "memory usage: 57.4+ KB\n"
     ]
    }
   ],
   "source": [
    "chu['시간'] = chu['시간'].astype(int)\n",
    "chu.info()"
   ]
  },
  {
   "cell_type": "code",
   "execution_count": 111,
   "id": "d8fc1dfa-97e5-4906-80d0-a5d4c13a7184",
   "metadata": {},
   "outputs": [],
   "source": [
    "chu.interpolate(method='linear', inplace=True)"
   ]
  },
  {
   "cell_type": "code",
   "execution_count": 112,
   "id": "259ffeef-72ad-4d74-ab70-e28028f8a3d3",
   "metadata": {},
   "outputs": [
    {
     "data": {
      "text/html": [
       "<div>\n",
       "<style scoped>\n",
       "    .dataframe tbody tr th:only-of-type {\n",
       "        vertical-align: middle;\n",
       "    }\n",
       "\n",
       "    .dataframe tbody tr th {\n",
       "        vertical-align: top;\n",
       "    }\n",
       "\n",
       "    .dataframe thead th {\n",
       "        text-align: right;\n",
       "    }\n",
       "</style>\n",
       "<table border=\"1\" class=\"dataframe\">\n",
       "  <thead>\n",
       "    <tr style=\"text-align: right;\">\n",
       "      <th></th>\n",
       "      <th>날짜</th>\n",
       "      <th>시간</th>\n",
       "      <th>연휴</th>\n",
       "      <th>추석기준</th>\n",
       "      <th>연휴길이</th>\n",
       "      <th>출발지</th>\n",
       "      <th>도착지</th>\n",
       "      <th>소요시간(분)</th>\n",
       "      <th>요일</th>\n",
       "      <th>구분</th>\n",
       "      <th>...</th>\n",
       "      <th>대구풍속</th>\n",
       "      <th>대구습도</th>\n",
       "      <th>대구시정</th>\n",
       "      <th>대구지면온도</th>\n",
       "      <th>대전기온</th>\n",
       "      <th>대전강수량</th>\n",
       "      <th>대전풍속</th>\n",
       "      <th>대전습도</th>\n",
       "      <th>대전시정</th>\n",
       "      <th>대전지면온도</th>\n",
       "    </tr>\n",
       "  </thead>\n",
       "  <tbody>\n",
       "    <tr>\n",
       "      <th>0</th>\n",
       "      <td>2017-10-01</td>\n",
       "      <td>0</td>\n",
       "      <td>추석</td>\n",
       "      <td>D-3</td>\n",
       "      <td>1.0</td>\n",
       "      <td>서울</td>\n",
       "      <td>부산</td>\n",
       "      <td>274.466000</td>\n",
       "      <td>일</td>\n",
       "      <td>연휴</td>\n",
       "      <td>...</td>\n",
       "      <td>0.5</td>\n",
       "      <td>84.0</td>\n",
       "      <td>1811.0</td>\n",
       "      <td>12.5</td>\n",
       "      <td>15.5</td>\n",
       "      <td>0.0</td>\n",
       "      <td>1.0</td>\n",
       "      <td>93.0</td>\n",
       "      <td>870.0</td>\n",
       "      <td>14.3</td>\n",
       "    </tr>\n",
       "    <tr>\n",
       "      <th>1</th>\n",
       "      <td>2017-10-01</td>\n",
       "      <td>1</td>\n",
       "      <td>추석</td>\n",
       "      <td>D-3</td>\n",
       "      <td>1.0</td>\n",
       "      <td>서울</td>\n",
       "      <td>부산</td>\n",
       "      <td>260.141000</td>\n",
       "      <td>일</td>\n",
       "      <td>연휴</td>\n",
       "      <td>...</td>\n",
       "      <td>1.2</td>\n",
       "      <td>88.0</td>\n",
       "      <td>1785.0</td>\n",
       "      <td>12.2</td>\n",
       "      <td>14.7</td>\n",
       "      <td>0.0</td>\n",
       "      <td>0.9</td>\n",
       "      <td>95.0</td>\n",
       "      <td>758.0</td>\n",
       "      <td>13.7</td>\n",
       "    </tr>\n",
       "    <tr>\n",
       "      <th>2</th>\n",
       "      <td>2017-10-01</td>\n",
       "      <td>2</td>\n",
       "      <td>추석</td>\n",
       "      <td>D-3</td>\n",
       "      <td>1.0</td>\n",
       "      <td>서울</td>\n",
       "      <td>부산</td>\n",
       "      <td>269.225000</td>\n",
       "      <td>일</td>\n",
       "      <td>연휴</td>\n",
       "      <td>...</td>\n",
       "      <td>0.9</td>\n",
       "      <td>86.0</td>\n",
       "      <td>1625.0</td>\n",
       "      <td>11.4</td>\n",
       "      <td>14.3</td>\n",
       "      <td>0.0</td>\n",
       "      <td>1.2</td>\n",
       "      <td>95.0</td>\n",
       "      <td>780.0</td>\n",
       "      <td>13.3</td>\n",
       "    </tr>\n",
       "    <tr>\n",
       "      <th>3</th>\n",
       "      <td>2017-10-01</td>\n",
       "      <td>3</td>\n",
       "      <td>추석</td>\n",
       "      <td>D-3</td>\n",
       "      <td>1.0</td>\n",
       "      <td>서울</td>\n",
       "      <td>부산</td>\n",
       "      <td>263.721667</td>\n",
       "      <td>일</td>\n",
       "      <td>연휴</td>\n",
       "      <td>...</td>\n",
       "      <td>1.5</td>\n",
       "      <td>92.0</td>\n",
       "      <td>1317.0</td>\n",
       "      <td>11.2</td>\n",
       "      <td>13.9</td>\n",
       "      <td>0.0</td>\n",
       "      <td>0.0</td>\n",
       "      <td>95.0</td>\n",
       "      <td>741.0</td>\n",
       "      <td>13.5</td>\n",
       "    </tr>\n",
       "    <tr>\n",
       "      <th>4</th>\n",
       "      <td>2017-10-01</td>\n",
       "      <td>4</td>\n",
       "      <td>추석</td>\n",
       "      <td>D-3</td>\n",
       "      <td>1.0</td>\n",
       "      <td>서울</td>\n",
       "      <td>부산</td>\n",
       "      <td>264.088667</td>\n",
       "      <td>일</td>\n",
       "      <td>연휴</td>\n",
       "      <td>...</td>\n",
       "      <td>1.3</td>\n",
       "      <td>95.0</td>\n",
       "      <td>693.0</td>\n",
       "      <td>12.0</td>\n",
       "      <td>13.7</td>\n",
       "      <td>0.0</td>\n",
       "      <td>1.2</td>\n",
       "      <td>94.0</td>\n",
       "      <td>900.0</td>\n",
       "      <td>13.4</td>\n",
       "    </tr>\n",
       "  </tbody>\n",
       "</table>\n",
       "<p>5 rows × 34 columns</p>\n",
       "</div>"
      ],
      "text/plain": [
       "           날짜  시간  연휴 추석기준  연휴길이 출발지 도착지     소요시간(분) 요일  구분  ...  대구풍속  대구습도  \\\n",
       "0  2017-10-01   0  추석  D-3   1.0  서울  부산  274.466000  일  연휴  ...   0.5  84.0   \n",
       "1  2017-10-01   1  추석  D-3   1.0  서울  부산  260.141000  일  연휴  ...   1.2  88.0   \n",
       "2  2017-10-01   2  추석  D-3   1.0  서울  부산  269.225000  일  연휴  ...   0.9  86.0   \n",
       "3  2017-10-01   3  추석  D-3   1.0  서울  부산  263.721667  일  연휴  ...   1.5  92.0   \n",
       "4  2017-10-01   4  추석  D-3   1.0  서울  부산  264.088667  일  연휴  ...   1.3  95.0   \n",
       "\n",
       "     대구시정  대구지면온도  대전기온  대전강수량  대전풍속  대전습도   대전시정  대전지면온도  \n",
       "0  1811.0    12.5  15.5    0.0   1.0  93.0  870.0    14.3  \n",
       "1  1785.0    12.2  14.7    0.0   0.9  95.0  758.0    13.7  \n",
       "2  1625.0    11.4  14.3    0.0   1.2  95.0  780.0    13.3  \n",
       "3  1317.0    11.2  13.9    0.0   0.0  95.0  741.0    13.5  \n",
       "4   693.0    12.0  13.7    0.0   1.2  94.0  900.0    13.4  \n",
       "\n",
       "[5 rows x 34 columns]"
      ]
     },
     "execution_count": 112,
     "metadata": {},
     "output_type": "execute_result"
    }
   ],
   "source": [
    "data = pd.merge(chu, wt, how = 'outer', on=['날짜','시간'])\n",
    "data.head()"
   ]
  },
  {
   "cell_type": "code",
   "execution_count": 113,
   "id": "d0441787-1655-4113-a736-94b7c4e01096",
   "metadata": {},
   "outputs": [
    {
     "data": {
      "text/plain": [
       "(810, 34)"
      ]
     },
     "execution_count": 113,
     "metadata": {},
     "output_type": "execute_result"
    }
   ],
   "source": [
    "data.shape"
   ]
  },
  {
   "cell_type": "code",
   "execution_count": 114,
   "id": "95d93dfb-0409-4718-9f0a-6810a68012ab",
   "metadata": {},
   "outputs": [],
   "source": [
    "data.to_csv('df_final.csv')"
   ]
  },
  {
   "cell_type": "markdown",
   "id": "229f3581-2ba7-4fe4-83a7-3b17f15771cd",
   "metadata": {},
   "source": [
    "- 결측치 처리\n",
    "    - 2017-10-08 삭제 773~796\n",
    "    - 2018-09-27 삭제 311~ 329"
   ]
  },
  {
   "cell_type": "code",
   "execution_count": 115,
   "id": "3a8871df-9171-410a-b3ec-bdccfafb0c0d",
   "metadata": {},
   "outputs": [
    {
     "data": {
      "text/plain": [
       "(767, 34)"
      ]
     },
     "execution_count": 115,
     "metadata": {},
     "output_type": "execute_result"
    }
   ],
   "source": [
    "data = data.loc[(data['날짜'] != '2017-10-08') &  (data['날짜'] != '2018-09-27') ,:]\n",
    "data.shape"
   ]
  },
  {
   "cell_type": "code",
   "execution_count": 116,
   "id": "7589dfa8-c5cb-4962-b8dd-3dec5e647746",
   "metadata": {},
   "outputs": [],
   "source": [
    "data.to_csv('df_final.csv')"
   ]
  },
  {
   "cell_type": "code",
   "execution_count": 117,
   "id": "e41b29c1-99d9-4b01-abc6-e60fc35a00c4",
   "metadata": {},
   "outputs": [
    {
     "name": "stdout",
     "output_type": "stream",
     "text": [
      "<class 'pandas.core.frame.DataFrame'>\n",
      "Int64Index: 767 entries, 0 to 809\n",
      "Data columns (total 34 columns):\n",
      " #   Column   Non-Null Count  Dtype  \n",
      "---  ------   --------------  -----  \n",
      " 0   날짜       767 non-null    object \n",
      " 1   시간       767 non-null    int64  \n",
      " 2   연휴       753 non-null    object \n",
      " 3   추석기준     753 non-null    object \n",
      " 4   연휴길이     753 non-null    float64\n",
      " 5   출발지      753 non-null    object \n",
      " 6   도착지      753 non-null    object \n",
      " 7   소요시간(분)  753 non-null    float64\n",
      " 8   요일       753 non-null    object \n",
      " 9   구분       753 non-null    object \n",
      " 10  서울기온     744 non-null    float64\n",
      " 11  서울강수량    744 non-null    float64\n",
      " 12  서울풍속     744 non-null    float64\n",
      " 13  서울습도     744 non-null    float64\n",
      " 14  서울시정     744 non-null    float64\n",
      " 15  서울지면온도   744 non-null    float64\n",
      " 16  부산기온     744 non-null    float64\n",
      " 17  부산강수량    744 non-null    float64\n",
      " 18  부산풍속     744 non-null    float64\n",
      " 19  부산습도     744 non-null    float64\n",
      " 20  부산시정     744 non-null    float64\n",
      " 21  부산지면온도   744 non-null    float64\n",
      " 22  대구기온     744 non-null    float64\n",
      " 23  대구강수량    744 non-null    float64\n",
      " 24  대구풍속     744 non-null    float64\n",
      " 25  대구습도     744 non-null    float64\n",
      " 26  대구시정     744 non-null    float64\n",
      " 27  대구지면온도   744 non-null    float64\n",
      " 28  대전기온     744 non-null    float64\n",
      " 29  대전강수량    744 non-null    float64\n",
      " 30  대전풍속     744 non-null    float64\n",
      " 31  대전습도     744 non-null    float64\n",
      " 32  대전시정     744 non-null    float64\n",
      " 33  대전지면온도   744 non-null    float64\n",
      "dtypes: float64(26), int64(1), object(7)\n",
      "memory usage: 209.7+ KB\n"
     ]
    }
   ],
   "source": [
    "data.info()"
   ]
  },
  {
   "cell_type": "markdown",
   "id": "4140bc4d-c531-4622-80b8-b8d5478b2e32",
   "metadata": {},
   "source": [
    "#### 자료 형 변환"
   ]
  },
  {
   "cell_type": "markdown",
   "id": "4c3a12f7-9ab5-4679-87ba-2fdcfe97eeb5",
   "metadata": {},
   "source": [
    "- 날짜 열을 to_datetime 자료형 으로 변경 -> 이후 날짜로 정렬 후 결측치 선형 보강\n",
    "- 소요시간 float 에서 int 로 바꾸기 소수점 1자리 숫자는 초 단위이므로 버림"
   ]
  },
  {
   "cell_type": "code",
   "execution_count": 118,
   "id": "7a4e0768-0e99-4d5c-8ebc-731eb8f01531",
   "metadata": {},
   "outputs": [],
   "source": [
    "data['날짜'] = pd.to_datetime(data['날짜'], format = '%Y-%m-%d')"
   ]
  },
  {
   "cell_type": "code",
   "execution_count": 119,
   "id": "7e2ccf4c-bef9-4f93-8eca-a25010e8d9d3",
   "metadata": {
    "tags": []
   },
   "outputs": [
    {
     "data": {
      "text/html": [
       "<div>\n",
       "<style scoped>\n",
       "    .dataframe tbody tr th:only-of-type {\n",
       "        vertical-align: middle;\n",
       "    }\n",
       "\n",
       "    .dataframe tbody tr th {\n",
       "        vertical-align: top;\n",
       "    }\n",
       "\n",
       "    .dataframe thead th {\n",
       "        text-align: right;\n",
       "    }\n",
       "</style>\n",
       "<table border=\"1\" class=\"dataframe\">\n",
       "  <thead>\n",
       "    <tr style=\"text-align: right;\">\n",
       "      <th></th>\n",
       "      <th>날짜</th>\n",
       "      <th>시간</th>\n",
       "      <th>연휴</th>\n",
       "      <th>추석기준</th>\n",
       "      <th>연휴길이</th>\n",
       "      <th>출발지</th>\n",
       "      <th>도착지</th>\n",
       "      <th>소요시간(분)</th>\n",
       "      <th>요일</th>\n",
       "      <th>구분</th>\n",
       "      <th>...</th>\n",
       "      <th>대구풍속</th>\n",
       "      <th>대구습도</th>\n",
       "      <th>대구시정</th>\n",
       "      <th>대구지면온도</th>\n",
       "      <th>대전기온</th>\n",
       "      <th>대전강수량</th>\n",
       "      <th>대전풍속</th>\n",
       "      <th>대전습도</th>\n",
       "      <th>대전시정</th>\n",
       "      <th>대전지면온도</th>\n",
       "    </tr>\n",
       "  </thead>\n",
       "  <tbody>\n",
       "    <tr>\n",
       "      <th>762</th>\n",
       "      <td>2021-09-24</td>\n",
       "      <td>19</td>\n",
       "      <td>추석</td>\n",
       "      <td>D+3</td>\n",
       "      <td>7.0</td>\n",
       "      <td>서울</td>\n",
       "      <td>부산</td>\n",
       "      <td>286.816</td>\n",
       "      <td>금</td>\n",
       "      <td>평일</td>\n",
       "      <td>...</td>\n",
       "      <td>1.1</td>\n",
       "      <td>85.0</td>\n",
       "      <td>1996.0</td>\n",
       "      <td>21.9</td>\n",
       "      <td>23.5</td>\n",
       "      <td>0.0</td>\n",
       "      <td>2.8</td>\n",
       "      <td>66.0</td>\n",
       "      <td>2127.0</td>\n",
       "      <td>21.0</td>\n",
       "    </tr>\n",
       "    <tr>\n",
       "      <th>763</th>\n",
       "      <td>2021-09-24</td>\n",
       "      <td>20</td>\n",
       "      <td>추석</td>\n",
       "      <td>D+3</td>\n",
       "      <td>7.0</td>\n",
       "      <td>서울</td>\n",
       "      <td>부산</td>\n",
       "      <td>301.116</td>\n",
       "      <td>금</td>\n",
       "      <td>평일</td>\n",
       "      <td>...</td>\n",
       "      <td>2.6</td>\n",
       "      <td>89.0</td>\n",
       "      <td>2000.0</td>\n",
       "      <td>20.6</td>\n",
       "      <td>22.6</td>\n",
       "      <td>0.0</td>\n",
       "      <td>3.1</td>\n",
       "      <td>71.0</td>\n",
       "      <td>4142.0</td>\n",
       "      <td>20.1</td>\n",
       "    </tr>\n",
       "    <tr>\n",
       "      <th>764</th>\n",
       "      <td>2021-09-24</td>\n",
       "      <td>21</td>\n",
       "      <td>추석</td>\n",
       "      <td>D+3</td>\n",
       "      <td>7.0</td>\n",
       "      <td>서울</td>\n",
       "      <td>부산</td>\n",
       "      <td>315.433</td>\n",
       "      <td>금</td>\n",
       "      <td>평일</td>\n",
       "      <td>...</td>\n",
       "      <td>1.2</td>\n",
       "      <td>91.0</td>\n",
       "      <td>2000.0</td>\n",
       "      <td>19.9</td>\n",
       "      <td>21.9</td>\n",
       "      <td>0.0</td>\n",
       "      <td>3.5</td>\n",
       "      <td>74.0</td>\n",
       "      <td>5022.0</td>\n",
       "      <td>19.3</td>\n",
       "    </tr>\n",
       "    <tr>\n",
       "      <th>765</th>\n",
       "      <td>2021-09-24</td>\n",
       "      <td>22</td>\n",
       "      <td>추석</td>\n",
       "      <td>D+3</td>\n",
       "      <td>7.0</td>\n",
       "      <td>서울</td>\n",
       "      <td>부산</td>\n",
       "      <td>329.733</td>\n",
       "      <td>금</td>\n",
       "      <td>평일</td>\n",
       "      <td>...</td>\n",
       "      <td>0.7</td>\n",
       "      <td>93.0</td>\n",
       "      <td>2000.0</td>\n",
       "      <td>19.6</td>\n",
       "      <td>21.4</td>\n",
       "      <td>0.0</td>\n",
       "      <td>1.8</td>\n",
       "      <td>76.0</td>\n",
       "      <td>5506.0</td>\n",
       "      <td>18.8</td>\n",
       "    </tr>\n",
       "    <tr>\n",
       "      <th>766</th>\n",
       "      <td>2021-09-24</td>\n",
       "      <td>23</td>\n",
       "      <td>NaN</td>\n",
       "      <td>NaN</td>\n",
       "      <td>NaN</td>\n",
       "      <td>NaN</td>\n",
       "      <td>NaN</td>\n",
       "      <td>NaN</td>\n",
       "      <td>NaN</td>\n",
       "      <td>NaN</td>\n",
       "      <td>...</td>\n",
       "      <td>0.7</td>\n",
       "      <td>94.0</td>\n",
       "      <td>2000.0</td>\n",
       "      <td>18.7</td>\n",
       "      <td>20.8</td>\n",
       "      <td>0.0</td>\n",
       "      <td>2.0</td>\n",
       "      <td>75.0</td>\n",
       "      <td>5278.0</td>\n",
       "      <td>18.1</td>\n",
       "    </tr>\n",
       "  </tbody>\n",
       "</table>\n",
       "<p>5 rows × 34 columns</p>\n",
       "</div>"
      ],
      "text/plain": [
       "            날짜  시간   연휴 추석기준  연휴길이  출발지  도착지  소요시간(분)   요일   구분  ...  대구풍속  \\\n",
       "762 2021-09-24  19   추석  D+3   7.0   서울   부산  286.816    금   평일  ...   1.1   \n",
       "763 2021-09-24  20   추석  D+3   7.0   서울   부산  301.116    금   평일  ...   2.6   \n",
       "764 2021-09-24  21   추석  D+3   7.0   서울   부산  315.433    금   평일  ...   1.2   \n",
       "765 2021-09-24  22   추석  D+3   7.0   서울   부산  329.733    금   평일  ...   0.7   \n",
       "766 2021-09-24  23  NaN  NaN   NaN  NaN  NaN      NaN  NaN  NaN  ...   0.7   \n",
       "\n",
       "     대구습도    대구시정  대구지면온도  대전기온  대전강수량  대전풍속  대전습도    대전시정  대전지면온도  \n",
       "762  85.0  1996.0    21.9  23.5    0.0   2.8  66.0  2127.0    21.0  \n",
       "763  89.0  2000.0    20.6  22.6    0.0   3.1  71.0  4142.0    20.1  \n",
       "764  91.0  2000.0    19.9  21.9    0.0   3.5  74.0  5022.0    19.3  \n",
       "765  93.0  2000.0    19.6  21.4    0.0   1.8  76.0  5506.0    18.8  \n",
       "766  94.0  2000.0    18.7  20.8    0.0   2.0  75.0  5278.0    18.1  \n",
       "\n",
       "[5 rows x 34 columns]"
      ]
     },
     "execution_count": 119,
     "metadata": {},
     "output_type": "execute_result"
    }
   ],
   "source": [
    "data.sort_values(by=['날짜','시간'] ,inplace= True)\n",
    "data.reset_index(drop = True, inplace=True)\n",
    "data.tail(5)"
   ]
  },
  {
   "cell_type": "code",
   "execution_count": 123,
   "id": "d11d261b-d327-478f-b46d-cc989c0413a8",
   "metadata": {},
   "outputs": [],
   "source": [
    "data.to_csv('df_final.csv')"
   ]
  },
  {
   "cell_type": "code",
   "execution_count": 121,
   "id": "6840e8dd-3896-49ca-8613-f28902728854",
   "metadata": {},
   "outputs": [
    {
     "data": {
      "image/png": "[encoded data removed]",
      "text/plain": [
       "<Figure size 1152x576 with 2 Axes>"
      ]
     },
     "metadata": {
      "image/png": {
       "height": 521,
       "width": 838
      },
      "needs_background": "light"
     },
     "output_type": "display_data"
    }
   ],
   "source": [
    "plt.figure(figsize= (16,8))\n",
    "sns.heatmap(data.isna())\n",
    "plt.show()"
   ]
  },
  {
   "cell_type": "markdown",
   "id": "a6123261-5414-4aa9-858e-99fa35d5e3f5",
   "metadata": {},
   "source": [
    "- 소요시간의경우 선형보간 ,나머지 ffill 직접확인후 이상없음을 확인"
   ]
  },
  {
   "cell_type": "code",
   "execution_count": 127,
   "id": "f3793d5f-8830-4f54-92ad-9ec144ca4b4b",
   "metadata": {
    "tags": []
   },
   "outputs": [
    {
     "data": {
      "image/png": "[encoded data removed]",
      "text/plain": [
       "<Figure size 432x288 with 2 Axes>"
      ]
     },
     "metadata": {
      "image/png": {
       "height": 283,
       "width": 353
      },
      "needs_background": "light"
     },
     "output_type": "display_data"
    }
   ],
   "source": [
    "data['연휴'].fillna(method= 'ffill', inplace = True)\n",
    "data['연휴길이'].fillna(method= 'ffill', inplace = True)\n",
    "data['출발지'].fillna(method= 'ffill', inplace = True)\n",
    "data['도착지'].fillna(method= 'ffill', inplace = True)\n",
    "data['요일'].fillna(method= 'ffill', inplace = True)\n",
    "data['구분'].fillna(method= 'ffill', inplace = True)\n",
    "data['추석기준'].fillna(method= 'ffill', inplace = True)\n",
    "data['소요시간(분)'].interpolate(method = 'linear', inplace = True)\n",
    "sns.heatmap(data.isna())\n",
    "plt.show()"
   ]
  },
  {
   "cell_type": "code",
   "execution_count": 129,
   "id": "d23ad224-3f38-43f8-a2c4-e934c87a31aa",
   "metadata": {},
   "outputs": [
    {
     "name": "stdout",
     "output_type": "stream",
     "text": [
      "<class 'pandas.core.frame.DataFrame'>\n",
      "RangeIndex: 767 entries, 0 to 766\n",
      "Data columns (total 34 columns):\n",
      " #   Column   Non-Null Count  Dtype         \n",
      "---  ------   --------------  -----         \n",
      " 0   날짜       767 non-null    datetime64[ns]\n",
      " 1   시간       767 non-null    int64         \n",
      " 2   연휴       767 non-null    object        \n",
      " 3   추석기준     767 non-null    object        \n",
      " 4   연휴길이     767 non-null    float64       \n",
      " 5   출발지      767 non-null    object        \n",
      " 6   도착지      767 non-null    object        \n",
      " 7   소요시간(분)  767 non-null    float64       \n",
      " 8   요일       767 non-null    object        \n",
      " 9   구분       767 non-null    object        \n",
      " 10  서울기온     744 non-null    float64       \n",
      " 11  서울강수량    744 non-null    float64       \n",
      " 12  서울풍속     744 non-null    float64       \n",
      " 13  서울습도     744 non-null    float64       \n",
      " 14  서울시정     744 non-null    float64       \n",
      " 15  서울지면온도   744 non-null    float64       \n",
      " 16  부산기온     744 non-null    float64       \n",
      " 17  부산강수량    744 non-null    float64       \n",
      " 18  부산풍속     744 non-null    float64       \n",
      " 19  부산습도     744 non-null    float64       \n",
      " 20  부산시정     744 non-null    float64       \n",
      " 21  부산지면온도   744 non-null    float64       \n",
      " 22  대구기온     744 non-null    float64       \n",
      " 23  대구강수량    744 non-null    float64       \n",
      " 24  대구풍속     744 non-null    float64       \n",
      " 25  대구습도     744 non-null    float64       \n",
      " 26  대구시정     744 non-null    float64       \n",
      " 27  대구지면온도   744 non-null    float64       \n",
      " 28  대전기온     744 non-null    float64       \n",
      " 29  대전강수량    744 non-null    float64       \n",
      " 30  대전풍속     744 non-null    float64       \n",
      " 31  대전습도     744 non-null    float64       \n",
      " 32  대전시정     744 non-null    float64       \n",
      " 33  대전지면온도   744 non-null    float64       \n",
      "dtypes: datetime64[ns](1), float64(26), int64(1), object(6)\n",
      "memory usage: 203.9+ KB\n"
     ]
    }
   ],
   "source": [
    "data.info()"
   ]
  },
  {
   "cell_type": "markdown",
   "id": "757a2637-1b59-4c3b-9279-854f1b930b2c",
   "metadata": {},
   "source": [
    "- 나머지 날씨데이터에 대해서는 선형 보간"
   ]
  },
  {
   "cell_type": "code",
   "execution_count": null,
   "id": "94c33ceb-0726-4b29-92d7-c8c83913bc97",
   "metadata": {},
   "outputs": [],
   "source": [
    "tmp = data.interpolate(method = 'linear')\n",
    "tmp.shape"
   ]
  },
  {
   "cell_type": "code",
   "execution_count": 128,
   "id": "fb0eb3bb-fdcf-44e7-95ee-b2d9f6ebf091",
   "metadata": {},
   "outputs": [
    {
     "data": {
      "text/plain": [
       "날짜          0\n",
       "시간          0\n",
       "연휴         14\n",
       "추석기준       14\n",
       "연휴길이        0\n",
       "출발지        14\n",
       "도착지        14\n",
       "소요시간(분)     0\n",
       "요일         14\n",
       "구분         14\n",
       "서울기온        0\n",
       "서울강수량       0\n",
       "서울풍속        0\n",
       "서울습도        0\n",
       "서울시정        0\n",
       "서울지면온도      0\n",
       "부산기온        0\n",
       "부산강수량       0\n",
       "부산풍속        0\n",
       "부산습도        0\n",
       "부산시정        0\n",
       "부산지면온도      0\n",
       "대구기온        0\n",
       "대구강수량       0\n",
       "대구풍속        0\n",
       "대구습도        0\n",
       "대구시정        0\n",
       "대구지면온도      0\n",
       "대전기온        0\n",
       "대전강수량       0\n",
       "대전풍속        0\n",
       "대전습도        0\n",
       "대전시정        0\n",
       "대전지면온도      0\n",
       "dtype: int64"
      ]
     },
     "execution_count": 128,
     "metadata": {},
     "output_type": "execute_result"
    }
   ],
   "source": [
    "tmp.isna().sum()"
   ]
  },
  {
   "cell_type": "code",
   "execution_count": 125,
   "id": "68b3a7ce-c420-4828-90ab-b70022c90f42",
   "metadata": {},
   "outputs": [
    {
     "data": {
      "text/plain": [
       "(744, 34)"
      ]
     },
     "execution_count": 125,
     "metadata": {},
     "output_type": "execute_result"
    }
   ],
   "source": [
    "tmp2 = data.dropna(axis = 0)\n",
    "tmp2.shape"
   ]
  },
  {
   "cell_type": "code",
   "execution_count": 136,
   "id": "05098715-b810-42e2-90d3-08a144bffac4",
   "metadata": {},
   "outputs": [
    {
     "name": "stdout",
     "output_type": "stream",
     "text": [
      "<class 'pandas.core.frame.DataFrame'>\n",
      "Int64Index: 744 entries, 0 to 766\n",
      "Data columns (total 34 columns):\n",
      " #   Column   Non-Null Count  Dtype         \n",
      "---  ------   --------------  -----         \n",
      " 0   날짜       744 non-null    datetime64[ns]\n",
      " 1   시간       744 non-null    int64         \n",
      " 2   연휴       744 non-null    object        \n",
      " 3   추석기준     744 non-null    object        \n",
      " 4   연휴길이     744 non-null    float64       \n",
      " 5   출발지      744 non-null    object        \n",
      " 6   도착지      744 non-null    object        \n",
      " 7   소요시간(분)  744 non-null    int32         \n",
      " 8   요일       744 non-null    object        \n",
      " 9   구분       744 non-null    object        \n",
      " 10  서울기온     744 non-null    float64       \n",
      " 11  서울강수량    744 non-null    float64       \n",
      " 12  서울풍속     744 non-null    float64       \n",
      " 13  서울습도     744 non-null    float64       \n",
      " 14  서울시정     744 non-null    float64       \n",
      " 15  서울지면온도   744 non-null    float64       \n",
      " 16  부산기온     744 non-null    float64       \n",
      " 17  부산강수량    744 non-null    float64       \n",
      " 18  부산풍속     744 non-null    float64       \n",
      " 19  부산습도     744 non-null    float64       \n",
      " 20  부산시정     744 non-null    float64       \n",
      " 21  부산지면온도   744 non-null    float64       \n",
      " 22  대구기온     744 non-null    float64       \n",
      " 23  대구강수량    744 non-null    float64       \n",
      " 24  대구풍속     744 non-null    float64       \n",
      " 25  대구습도     744 non-null    float64       \n",
      " 26  대구시정     744 non-null    float64       \n",
      " 27  대구지면온도   744 non-null    float64       \n",
      " 28  대전기온     744 non-null    float64       \n",
      " 29  대전강수량    744 non-null    float64       \n",
      " 30  대전풍속     744 non-null    float64       \n",
      " 31  대전습도     744 non-null    float64       \n",
      " 32  대전시정     744 non-null    float64       \n",
      " 33  대전지면온도   744 non-null    float64       \n",
      "dtypes: datetime64[ns](1), float64(25), int32(1), int64(1), object(6)\n",
      "memory usage: 200.5+ KB\n"
     ]
    }
   ],
   "source": [
    "tmp2.info()"
   ]
  },
  {
   "cell_type": "code",
   "execution_count": 134,
   "id": "4318eb95-ac98-4db7-adfd-7cd11617363f",
   "metadata": {},
   "outputs": [
    {
     "name": "stderr",
     "output_type": "stream",
     "text": [
      "C:\\Users\\User\\AppData\\Local\\Temp\\ipykernel_12756\\299733072.py:1: SettingWithCopyWarning: \n",
      "A value is trying to be set on a copy of a slice from a DataFrame.\n",
      "Try using .loc[row_indexer,col_indexer] = value instead\n",
      "\n",
      "See the caveats in the documentation: https://pandas.pydata.org/pandas-docs/stable/user_guide/indexing.html#returning-a-view-versus-a-copy\n",
      "  tmp2['소요시간(분)']= tmp2['소요시간(분)'].astype(int)\n"
     ]
    }
   ],
   "source": [
    "tmp2['소요시간(분)']= tmp2['소요시간(분)'].astype(int)"
   ]
  },
  {
   "cell_type": "code",
   "execution_count": 135,
   "id": "ef8a944a-bfde-464e-9b2f-839b52bd6b62",
   "metadata": {},
   "outputs": [],
   "source": [
    "tmp2.to_csv('droped_df.csv')"
   ]
  },
  {
   "cell_type": "code",
   "execution_count": 137,
   "id": "14c444b9-c315-422d-83a1-ce70d5c132e8",
   "metadata": {},
   "outputs": [
    {
     "name": "stdout",
     "output_type": "stream",
     "text": [
      "<class 'pandas.core.frame.DataFrame'>\n",
      "Int64Index: 744 entries, 0 to 766\n",
      "Data columns (total 34 columns):\n",
      " #   Column   Non-Null Count  Dtype         \n",
      "---  ------   --------------  -----         \n",
      " 0   날짜       744 non-null    datetime64[ns]\n",
      " 1   시간       744 non-null    int64         \n",
      " 2   연휴       744 non-null    object        \n",
      " 3   추석기준     744 non-null    object        \n",
      " 4   연휴길이     744 non-null    float64       \n",
      " 5   출발지      744 non-null    object        \n",
      " 6   도착지      744 non-null    object        \n",
      " 7   소요시간(분)  744 non-null    int32         \n",
      " 8   요일       744 non-null    object        \n",
      " 9   구분       744 non-null    object        \n",
      " 10  서울기온     744 non-null    float64       \n",
      " 11  서울강수량    744 non-null    float64       \n",
      " 12  서울풍속     744 non-null    float64       \n",
      " 13  서울습도     744 non-null    float64       \n",
      " 14  서울시정     744 non-null    float64       \n",
      " 15  서울지면온도   744 non-null    float64       \n",
      " 16  부산기온     744 non-null    float64       \n",
      " 17  부산강수량    744 non-null    float64       \n",
      " 18  부산풍속     744 non-null    float64       \n",
      " 19  부산습도     744 non-null    float64       \n",
      " 20  부산시정     744 non-null    float64       \n",
      " 21  부산지면온도   744 non-null    float64       \n",
      " 22  대구기온     744 non-null    float64       \n",
      " 23  대구강수량    744 non-null    float64       \n",
      " 24  대구풍속     744 non-null    float64       \n",
      " 25  대구습도     744 non-null    float64       \n",
      " 26  대구시정     744 non-null    float64       \n",
      " 27  대구지면온도   744 non-null    float64       \n",
      " 28  대전기온     744 non-null    float64       \n",
      " 29  대전강수량    744 non-null    float64       \n",
      " 30  대전풍속     744 non-null    float64       \n",
      " 31  대전습도     744 non-null    float64       \n",
      " 32  대전시정     744 non-null    float64       \n",
      " 33  대전지면온도   744 non-null    float64       \n",
      "dtypes: datetime64[ns](1), float64(25), int32(1), int64(1), object(6)\n",
      "memory usage: 200.5+ KB\n"
     ]
    }
   ],
   "source": [
    "tmp2.info()"
   ]
  },
  {
   "cell_type": "code",
   "execution_count": 100,
   "id": "9c75c418-6ed2-4af8-b84e-5b9437599cbc",
   "metadata": {},
   "outputs": [],
   "source": [
    "data['소요시간(분)']= data['소요시간(분)'].astype(int)"
   ]
  },
  {
   "cell_type": "code",
   "execution_count": 101,
   "id": "aa1de29c-8913-42bd-9038-11b474ac6ec7",
   "metadata": {},
   "outputs": [
    {
     "name": "stdout",
     "output_type": "stream",
     "text": [
      "<class 'pandas.core.frame.DataFrame'>\n",
      "RangeIndex: 767 entries, 0 to 766\n",
      "Data columns (total 34 columns):\n",
      " #   Column   Non-Null Count  Dtype         \n",
      "---  ------   --------------  -----         \n",
      " 0   날짜       767 non-null    datetime64[ns]\n",
      " 1   시간       767 non-null    int64         \n",
      " 2   연휴       767 non-null    object        \n",
      " 3   추석기준     767 non-null    object        \n",
      " 4   연휴길이     767 non-null    float64       \n",
      " 5   출발지      767 non-null    object        \n",
      " 6   도착지      767 non-null    object        \n",
      " 7   소요시간(분)  767 non-null    int32         \n",
      " 8   요일       767 non-null    object        \n",
      " 9   구분       767 non-null    object        \n",
      " 10  서울기온     767 non-null    float64       \n",
      " 11  서울강수량    767 non-null    float64       \n",
      " 12  서울풍속     767 non-null    float64       \n",
      " 13  서울습도     767 non-null    float64       \n",
      " 14  서울시정     767 non-null    float64       \n",
      " 15  서울지면온도   767 non-null    float64       \n",
      " 16  부산기온     767 non-null    float64       \n",
      " 17  부산강수량    767 non-null    float64       \n",
      " 18  부산풍속     767 non-null    float64       \n",
      " 19  부산습도     767 non-null    float64       \n",
      " 20  부산시정     767 non-null    float64       \n",
      " 21  부산지면온도   767 non-null    float64       \n",
      " 22  대구기온     767 non-null    float64       \n",
      " 23  대구강수량    767 non-null    float64       \n",
      " 24  대구풍속     767 non-null    float64       \n",
      " 25  대구습도     767 non-null    float64       \n",
      " 26  대구시정     767 non-null    float64       \n",
      " 27  대구지면온도   767 non-null    float64       \n",
      " 28  대전기온     767 non-null    float64       \n",
      " 29  대전강수량    767 non-null    float64       \n",
      " 30  대전풍속     767 non-null    float64       \n",
      " 31  대전습도     767 non-null    float64       \n",
      " 32  대전시정     767 non-null    float64       \n",
      " 33  대전지면온도   767 non-null    float64       \n",
      "dtypes: datetime64[ns](1), float64(25), int32(1), int64(1), object(6)\n",
      "memory usage: 200.9+ KB\n"
     ]
    }
   ],
   "source": [
    "data.info()"
   ]
  },
  {
   "cell_type": "code",
   "execution_count": 102,
   "id": "ef6eae5d-4e17-4c10-85f7-d29c6c34a6fd",
   "metadata": {},
   "outputs": [],
   "source": [
    "data.to_csv('perfect_df.csv')"
   ]
  },
  {
   "cell_type": "code",
   "execution_count": null,
   "id": "edc33116-d3e4-47d4-816d-29b6118e2f40",
   "metadata": {},
   "outputs": [],
   "source": []
  }
 ],
 "metadata": {
  "kernelspec": {
   "display_name": "Python 3 (ipykernel)",
   "language": "python",
   "name": "python3"
  },
  "language_info": {
   "codemirror_mode": {
    "name": "ipython",
    "version": 3
   },
   "file_extension": ".py",
   "mimetype": "text/x-python",
   "name": "python",
   "nbconvert_exporter": "python",
   "pygments_lexer": "ipython3",
   "version": "3.9.12"
  }
 },
 "nbformat": 4,
 "nbformat_minor": 5
}
