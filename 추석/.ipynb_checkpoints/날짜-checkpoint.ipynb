{
 "cells": [
  {
   "cell_type": "code",
   "execution_count": 11,
   "id": "afc7b39b-0c2d-4d4a-b21c-0a37b1768af5",
   "metadata": {},
   "outputs": [],
   "source": [
    "# 라이브러리\n",
    "import numpy as np\n",
    "import pandas as pd\n",
    "import seaborn as sns\n",
    "import matplotlib.pyplot as plt\n",
    "import scipy as spst\n",
    "\n",
    "# 한글폰트 지정(맑은고딕)\n",
    "plt.rcParams['font.family'] = 'Malgun Gothic'\n",
    "plt.rcParams['axes.unicode_minus'] = False\n",
    "\n",
    "# 고해상도\n",
    "%config InlineBackend.figure_format = 'retina'"
   ]
  },
  {
   "cell_type": "code",
   "execution_count": 12,
   "id": "6826cb1a-cdf8-4f8a-b895-33e67ba8815a",
   "metadata": {},
   "outputs": [
    {
     "data": {
      "text/html": [
       "<div>\n",
       "<style scoped>\n",
       "    .dataframe tbody tr th:only-of-type {\n",
       "        vertical-align: middle;\n",
       "    }\n",
       "\n",
       "    .dataframe tbody tr th {\n",
       "        vertical-align: top;\n",
       "    }\n",
       "\n",
       "    .dataframe thead th {\n",
       "        text-align: right;\n",
       "    }\n",
       "</style>\n",
       "<table border=\"1\" class=\"dataframe\">\n",
       "  <thead>\n",
       "    <tr style=\"text-align: right;\">\n",
       "      <th></th>\n",
       "      <th>연도</th>\n",
       "      <th>추석기준</th>\n",
       "      <th>날짜</th>\n",
       "      <th>요일</th>\n",
       "      <th>구분</th>\n",
       "    </tr>\n",
       "  </thead>\n",
       "  <tbody>\n",
       "    <tr>\n",
       "      <th>0</th>\n",
       "      <td>2017</td>\n",
       "      <td>D-3</td>\n",
       "      <td>2017-10-01</td>\n",
       "      <td>일</td>\n",
       "      <td>연휴</td>\n",
       "    </tr>\n",
       "    <tr>\n",
       "      <th>1</th>\n",
       "      <td>2017</td>\n",
       "      <td>D-2</td>\n",
       "      <td>2017-10-02</td>\n",
       "      <td>월</td>\n",
       "      <td>평일</td>\n",
       "    </tr>\n",
       "    <tr>\n",
       "      <th>2</th>\n",
       "      <td>2017</td>\n",
       "      <td>D-1</td>\n",
       "      <td>2017-10-03</td>\n",
       "      <td>화</td>\n",
       "      <td>연휴</td>\n",
       "    </tr>\n",
       "    <tr>\n",
       "      <th>3</th>\n",
       "      <td>2017</td>\n",
       "      <td>D</td>\n",
       "      <td>2017-10-04</td>\n",
       "      <td>수</td>\n",
       "      <td>연휴</td>\n",
       "    </tr>\n",
       "    <tr>\n",
       "      <th>4</th>\n",
       "      <td>2017</td>\n",
       "      <td>D+1</td>\n",
       "      <td>2017-10-05</td>\n",
       "      <td>목</td>\n",
       "      <td>연휴</td>\n",
       "    </tr>\n",
       "  </tbody>\n",
       "</table>\n",
       "</div>"
      ],
      "text/plain": [
       "     연도 추석기준         날짜 요일  구분\n",
       "0  2017  D-3 2017-10-01  일  연휴\n",
       "1  2017  D-2 2017-10-02  월  평일\n",
       "2  2017  D-1 2017-10-03  화  연휴\n",
       "3  2017    D 2017-10-04  수  연휴\n",
       "4  2017  D+1 2017-10-05  목  연휴"
      ]
     },
     "execution_count": 12,
     "metadata": {},
     "output_type": "execute_result"
    }
   ],
   "source": [
    "data = pd.read_excel(io = '날짜.xlsx')\n",
    "data.head()"
   ]
  },
  {
   "cell_type": "code",
   "execution_count": 13,
   "id": "319e66cb-9cc3-4188-b37e-c1b94f1c2535",
   "metadata": {},
   "outputs": [
    {
     "data": {
      "text/plain": [
       "(34, 5)"
      ]
     },
     "execution_count": 13,
     "metadata": {},
     "output_type": "execute_result"
    }
   ],
   "source": [
    "data.shape"
   ]
  },
  {
   "cell_type": "code",
   "execution_count": 14,
   "id": "5ea95f25-1041-4b92-b809-5494d406d042",
   "metadata": {},
   "outputs": [
    {
     "data": {
      "text/plain": [
       "연도      0\n",
       "추석기준    0\n",
       "날짜      0\n",
       "요일      0\n",
       "구분      0\n",
       "dtype: int64"
      ]
     },
     "execution_count": 14,
     "metadata": {},
     "output_type": "execute_result"
    }
   ],
   "source": [
    "data.isna().sum()"
   ]
  },
  {
   "cell_type": "code",
   "execution_count": 15,
   "id": "304cb229-dd66-46d1-889a-f2a1b75c7cc5",
   "metadata": {},
   "outputs": [],
   "source": [
    "data.to_csv('df_date.csv')"
   ]
  },
  {
   "cell_type": "code",
   "execution_count": null,
   "id": "cbeb015d-9085-481d-9c16-4ffc26efa88d",
   "metadata": {},
   "outputs": [],
   "source": []
  }
 ],
 "metadata": {
  "kernelspec": {
   "display_name": "Python 3 (ipykernel)",
   "language": "python",
   "name": "python3"
  },
  "language_info": {
   "codemirror_mode": {
    "name": "ipython",
    "version": 3
   },
   "file_extension": ".py",
   "mimetype": "text/x-python",
   "name": "python",
   "nbconvert_exporter": "python",
   "pygments_lexer": "ipython3",
   "version": "3.9.12"
  }
 },
 "nbformat": 4,
 "nbformat_minor": 5
}
