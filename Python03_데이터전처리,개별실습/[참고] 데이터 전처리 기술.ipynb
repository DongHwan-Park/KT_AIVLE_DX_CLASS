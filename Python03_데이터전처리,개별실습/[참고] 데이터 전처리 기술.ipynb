{
 "cells": [
  {
   "cell_type": "markdown",
   "metadata": {
    "id": "BFhIXgdYoYGp"
   },
   "source": [
    "<center><img src='https://raw.githubusercontent.com/Jangrae/img/master/title.png' width=500/></center>"
   ]
  },
  {
   "cell_type": "markdown",
   "metadata": {
    "id": "OO4tzvl4dgb3"
   },
   "source": [
    "<center><img src='https://raw.githubusercontent.com/Jangrae/img/master/practice.png' width=300/></center>"
   ]
  },
  {
   "cell_type": "markdown",
   "metadata": {
    "id": "XDcR2Cxmdgb6"
   },
   "source": [
    "# 학습 내용\n",
    "\n",
    "- 이후 전처리 프로젝트에서 요긴하게 사용될 몇몇 기능을 추가로 배웁니다."
   ]
  },
  {
   "cell_type": "markdown",
   "metadata": {
    "id": "6oSP30N7dgb8"
   },
   "source": [
    "## 1. 라이브러리 불러오기"
   ]
  },
  {
   "cell_type": "code",
   "execution_count": 1,
   "metadata": {
    "executionInfo": {
     "elapsed": 6,
     "status": "ok",
     "timestamp": 1639575264946,
     "user": {
      "displayName": "Jangrae Lee",
      "photoUrl": "https://lh3.googleusercontent.com/a-/AOh14Gh1Pd8OuWJU2cv7uTt-fURrgvty7atx_Wtarmx0-A=s64",
      "userId": "08475661575434032088"
     },
     "user_tz": -540
    },
    "id": "FSc1yT_ndgb-"
   },
   "outputs": [],
   "source": [
    "# 라이브러리 불러오기\n",
    "import numpy as np\n",
    "import pandas as pd\n",
    "import matplotlib.pyplot as plt\n",
    "\n",
    "%config InlineBackend.figure_format = 'retina'"
   ]
  },
  {
   "cell_type": "markdown",
   "metadata": {
    "id": "N6vHQgHqdgcI"
   },
   "source": [
    "## 2. 파일 읽어오기"
   ]
  },
  {
   "cell_type": "code",
   "execution_count": 2,
   "metadata": {
    "executionInfo": {
     "elapsed": 1155,
     "status": "ok",
     "timestamp": 1639575266096,
     "user": {
      "displayName": "Jangrae Lee",
      "photoUrl": "https://lh3.googleusercontent.com/a-/AOh14Gh1Pd8OuWJU2cv7uTt-fURrgvty7atx_Wtarmx0-A=s64",
      "userId": "08475661575434032088"
     },
     "user_tz": -540
    },
    "id": "6XZbGn8AIMz7"
   },
   "outputs": [
    {
     "data": {
      "text/html": [
       "<div>\n",
       "<style scoped>\n",
       "    .dataframe tbody tr th:only-of-type {\n",
       "        vertical-align: middle;\n",
       "    }\n",
       "\n",
       "    .dataframe tbody tr th {\n",
       "        vertical-align: top;\n",
       "    }\n",
       "\n",
       "    .dataframe thead th {\n",
       "        text-align: right;\n",
       "    }\n",
       "</style>\n",
       "<table border=\"1\" class=\"dataframe\">\n",
       "  <thead>\n",
       "    <tr style=\"text-align: right;\">\n",
       "      <th></th>\n",
       "      <th>order_date</th>\n",
       "      <th>product</th>\n",
       "      <th>quantity</th>\n",
       "      <th>amount</th>\n",
       "    </tr>\n",
       "  </thead>\n",
       "  <tbody>\n",
       "    <tr>\n",
       "      <th>0</th>\n",
       "      <td>2019-01-02</td>\n",
       "      <td>p1030071</td>\n",
       "      <td>2</td>\n",
       "      <td>7900</td>\n",
       "    </tr>\n",
       "    <tr>\n",
       "      <th>1</th>\n",
       "      <td>2019-01-02</td>\n",
       "      <td>p1012761</td>\n",
       "      <td>1</td>\n",
       "      <td>1700</td>\n",
       "    </tr>\n",
       "    <tr>\n",
       "      <th>2</th>\n",
       "      <td>2019-01-02</td>\n",
       "      <td>p1012581</td>\n",
       "      <td>1</td>\n",
       "      <td>1000</td>\n",
       "    </tr>\n",
       "    <tr>\n",
       "      <th>3</th>\n",
       "      <td>2019-01-02</td>\n",
       "      <td>p1175481</td>\n",
       "      <td>1</td>\n",
       "      <td>1300</td>\n",
       "    </tr>\n",
       "    <tr>\n",
       "      <th>4</th>\n",
       "      <td>2019-01-02</td>\n",
       "      <td>p1178011</td>\n",
       "      <td>1</td>\n",
       "      <td>8800</td>\n",
       "    </tr>\n",
       "    <tr>\n",
       "      <th>5</th>\n",
       "      <td>2019-01-02</td>\n",
       "      <td>p1012751</td>\n",
       "      <td>2</td>\n",
       "      <td>2700</td>\n",
       "    </tr>\n",
       "    <tr>\n",
       "      <th>6</th>\n",
       "      <td>2019-01-02</td>\n",
       "      <td>p1097821</td>\n",
       "      <td>1</td>\n",
       "      <td>1000</td>\n",
       "    </tr>\n",
       "    <tr>\n",
       "      <th>7</th>\n",
       "      <td>2019-01-02</td>\n",
       "      <td>p1178011</td>\n",
       "      <td>1</td>\n",
       "      <td>8800</td>\n",
       "    </tr>\n",
       "    <tr>\n",
       "      <th>8</th>\n",
       "      <td>2019-01-02</td>\n",
       "      <td>p1178011</td>\n",
       "      <td>1</td>\n",
       "      <td>8800</td>\n",
       "    </tr>\n",
       "    <tr>\n",
       "      <th>9</th>\n",
       "      <td>2019-01-02</td>\n",
       "      <td>p1194801</td>\n",
       "      <td>1</td>\n",
       "      <td>8200</td>\n",
       "    </tr>\n",
       "  </tbody>\n",
       "</table>\n",
       "</div>"
      ],
      "text/plain": [
       "   order_date   product  quantity  amount\n",
       "0  2019-01-02  p1030071         2    7900\n",
       "1  2019-01-02  p1012761         1    1700\n",
       "2  2019-01-02  p1012581         1    1000\n",
       "3  2019-01-02  p1175481         1    1300\n",
       "4  2019-01-02  p1178011         1    8800\n",
       "5  2019-01-02  p1012751         2    2700\n",
       "6  2019-01-02  p1097821         1    1000\n",
       "7  2019-01-02  p1178011         1    8800\n",
       "8  2019-01-02  p1178011         1    8800\n",
       "9  2019-01-02  p1194801         1    8200"
      ]
     },
     "execution_count": 2,
     "metadata": {},
     "output_type": "execute_result"
    }
   ],
   "source": [
    "\n",
    "# 파일 불러오기\n",
    "path = 'https://raw.githubusercontent.com/Jangrae/csv/master/orders_sample.csv'\n",
    "orders = pd.read_csv(path)\n",
    "\n",
    "#한글이 있어 옵션을 추가하세요~\n",
    "#orders = pd.read_cav(path,~~~~~)\n",
    "\n",
    "# 데이터 확인\n",
    "orders.head(10)"
   ]
  },
  {
   "cell_type": "code",
   "execution_count": 7,
   "metadata": {},
   "outputs": [
    {
     "data": {
      "text/html": [
       "<div>\n",
       "<style scoped>\n",
       "    .dataframe tbody tr th:only-of-type {\n",
       "        vertical-align: middle;\n",
       "    }\n",
       "\n",
       "    .dataframe tbody tr th {\n",
       "        vertical-align: top;\n",
       "    }\n",
       "\n",
       "    .dataframe thead th {\n",
       "        text-align: right;\n",
       "    }\n",
       "</style>\n",
       "<table border=\"1\" class=\"dataframe\">\n",
       "  <thead>\n",
       "    <tr style=\"text-align: right;\">\n",
       "      <th></th>\n",
       "      <th>quantity</th>\n",
       "      <th>amount</th>\n",
       "    </tr>\n",
       "  </thead>\n",
       "  <tbody>\n",
       "    <tr>\n",
       "      <th>count</th>\n",
       "      <td>68,839.00</td>\n",
       "      <td>68,839.00</td>\n",
       "    </tr>\n",
       "    <tr>\n",
       "      <th>mean</th>\n",
       "      <td>1.27</td>\n",
       "      <td>2,847.06</td>\n",
       "    </tr>\n",
       "    <tr>\n",
       "      <th>std</th>\n",
       "      <td>1.37</td>\n",
       "      <td>2,634.38</td>\n",
       "    </tr>\n",
       "    <tr>\n",
       "      <th>min</th>\n",
       "      <td>1.00</td>\n",
       "      <td>250.00</td>\n",
       "    </tr>\n",
       "    <tr>\n",
       "      <th>25%</th>\n",
       "      <td>1.00</td>\n",
       "      <td>1,300.00</td>\n",
       "    </tr>\n",
       "    <tr>\n",
       "      <th>50%</th>\n",
       "      <td>1.00</td>\n",
       "      <td>1,950.00</td>\n",
       "    </tr>\n",
       "    <tr>\n",
       "      <th>75%</th>\n",
       "      <td>1.00</td>\n",
       "      <td>3,227.00</td>\n",
       "    </tr>\n",
       "    <tr>\n",
       "      <th>max</th>\n",
       "      <td>200.00</td>\n",
       "      <td>109,100.00</td>\n",
       "    </tr>\n",
       "  </tbody>\n",
       "</table>\n",
       "</div>"
      ],
      "text/plain": [
       "        quantity      amount\n",
       "count  68,839.00   68,839.00\n",
       "mean        1.27    2,847.06\n",
       "std         1.37    2,634.38\n",
       "min         1.00      250.00\n",
       "25%         1.00    1,300.00\n",
       "50%         1.00    1,950.00\n",
       "75%         1.00    3,227.00\n",
       "max       200.00  109,100.00"
      ]
     },
     "execution_count": 7,
     "metadata": {},
     "output_type": "execute_result"
    }
   ],
   "source": [
    "# 기초 통계정보\n",
    "# orders.describe()\n",
    "\n",
    "#소수점 4자리 까지 표현해줘\n",
    "orders.describe().apply(lambda y : y.apply('{:,.2f}'.format))"
   ]
  },
  {
   "cell_type": "code",
   "execution_count": 52,
   "metadata": {},
   "outputs": [
    {
     "data": {
      "text/plain": [
       "0        P1030071\n",
       "1        P1012761\n",
       "2        P1012581\n",
       "3        P1175481\n",
       "4        P1178011\n",
       "           ...   \n",
       "68834    P1201601\n",
       "68835    P1002841\n",
       "68836    P1012761\n",
       "68837    P1005891\n",
       "68838    P1179241\n",
       "Name: product, Length: 68839, dtype: object"
      ]
     },
     "execution_count": 52,
     "metadata": {},
     "output_type": "execute_result"
    }
   ],
   "source": [
    "# 문자열 형태의 열의 일부 값 변경하기 p109222 --> P109222\n",
    "# .str 의 경우 모든 문자열에 적용시키기 위해 사용함\n",
    "orders['product'].str.replace('p','P')\n",
    "#or\n",
    "#orders['product'].str.upper()"
   ]
  },
  {
   "cell_type": "code",
   "execution_count": 53,
   "metadata": {},
   "outputs": [
    {
     "data": {
      "text/plain": [
       "0        71번\n",
       "1        61번\n",
       "2        81번\n",
       "3        81번\n",
       "4        11번\n",
       "        ... \n",
       "68834    01번\n",
       "68835    41번\n",
       "68836    61번\n",
       "68837    91번\n",
       "68838    41번\n",
       "Name: product, Length: 68839, dtype: object"
      ]
     },
     "execution_count": 53,
     "metadata": {},
     "output_type": "execute_result"
    }
   ],
   "source": [
    "# 문자열 형태의 열의 특정 위치 문자 가져오기\n",
    "orders['product'].str[-2:] + '번'"
   ]
  },
  {
   "cell_type": "code",
   "execution_count": 54,
   "metadata": {},
   "outputs": [
    {
     "data": {
      "text/plain": [
       "0        2개\n",
       "1        1개\n",
       "2        1개\n",
       "3        1개\n",
       "4        1개\n",
       "         ..\n",
       "68834    1개\n",
       "68835    1개\n",
       "68836    1개\n",
       "68837    1개\n",
       "68838    1개\n",
       "Name: quantity, Length: 68839, dtype: object"
      ]
     },
     "execution_count": 54,
     "metadata": {},
     "output_type": "execute_result"
    }
   ],
   "source": [
    "# 숫자 형태의 열을 문자 형태로 변경\n",
    "# 숫자 + '문자열' 이 안돼서 astype(str) 사용\n",
    "orders['quantity'].astype(str) + '개' "
   ]
  },
  {
   "cell_type": "markdown",
   "metadata": {
    "id": "jbQwP_M4fLuw"
   },
   "source": [
    "## 3.데이터 전처리"
   ]
  },
  {
   "cell_type": "markdown",
   "metadata": {
    "id": "yJJNFiGcWM2x"
   },
   "source": [
    "### 3.1.날짜 정보 처리"
   ]
  },
  {
   "cell_type": "markdown",
   "metadata": {
    "id": "7Pm_JZpJfQZO"
   },
   "source": [
    "**1) 날짜 정보 추출 방법 #1**\n",
    "\n",
    "* 문자열 형식의 날짜에서 년,월,일은 split() 메소드를 사용해 얻을 수 있습니다. "
   ]
  },
  {
   "cell_type": "code",
   "execution_count": 55,
   "metadata": {
    "colab": {
     "base_uri": "https://localhost:8080/"
    },
    "executionInfo": {
     "elapsed": 22,
     "status": "ok",
     "timestamp": 1639575266099,
     "user": {
      "displayName": "Jangrae Lee",
      "photoUrl": "https://lh3.googleusercontent.com/a-/AOh14Gh1Pd8OuWJU2cv7uTt-fURrgvty7atx_Wtarmx0-A=s64",
      "userId": "08475661575434032088"
     },
     "user_tz": -540
    },
    "id": "TXyy1cme86wY",
    "outputId": "8c499a76-4529-4e63-8b68-52f60f66ec57"
   },
   "outputs": [
    {
     "name": "stdout",
     "output_type": "stream",
     "text": [
      "0    2019\n",
      "1    2019\n",
      "2    2019\n",
      "3    2019\n",
      "4    2019\n",
      "Name: order_date, dtype: object\n",
      "0    01\n",
      "1    01\n",
      "2    01\n",
      "3    01\n",
      "4    01\n",
      "Name: order_date, dtype: object\n",
      "0    02\n",
      "1    02\n",
      "2    02\n",
      "3    02\n",
      "4    02\n",
      "Name: order_date, dtype: object\n"
     ]
    }
   ],
   "source": [
    "# year, month, day 추출 방법 #1\n",
    "# pandas 데이터 한 '열' 에 대해 split 을쓸대 앞에 str.split()으로 표현한다.\n",
    "year = orders['order_date'].str.split('-').str[0]\n",
    "month = orders['order_date'].str.split('-').str[1]\n",
    "day = orders['order_date'].str.split('-').str[2]\n",
    "\n",
    "# 확인\n",
    "print(year.head())\n",
    "print(month.head())\n",
    "print(day.head())"
   ]
  },
  {
   "cell_type": "markdown",
   "metadata": {
    "id": "qjqzS_ZjR_V7"
   },
   "source": [
    "**2) 날짜 정보 추출 방법 #2**\n",
    "\n",
    "* 날짜를 datetime 데이터 형식으로 바꾸면 쉽게 날짜 관련 정보를 얻을 수 있습니다."
   ]
  },
  {
   "cell_type": "code",
   "execution_count": 56,
   "metadata": {
    "colab": {
     "base_uri": "https://localhost:8080/"
    },
    "executionInfo": {
     "elapsed": 18,
     "status": "ok",
     "timestamp": 1639575266099,
     "user": {
      "displayName": "Jangrae Lee",
      "photoUrl": "https://lh3.googleusercontent.com/a-/AOh14Gh1Pd8OuWJU2cv7uTt-fURrgvty7atx_Wtarmx0-A=s64",
      "userId": "08475661575434032088"
     },
     "user_tz": -540
    },
    "id": "V7kTtA509iBz",
    "outputId": "32ff60dd-04ca-4f0f-8333-ec0c07b67267"
   },
   "outputs": [
    {
     "name": "stdout",
     "output_type": "stream",
     "text": [
      "0    2019\n",
      "1    2019\n",
      "2    2019\n",
      "3    2019\n",
      "4    2019\n",
      "Name: order_date, dtype: int64\n",
      "0    1\n",
      "1    1\n",
      "2    1\n",
      "3    1\n",
      "4    1\n",
      "Name: order_date, dtype: int64\n",
      "0    2\n",
      "1    2\n",
      "2    2\n",
      "3    2\n",
      "4    2\n",
      "Name: order_date, dtype: int64\n",
      "0    2\n",
      "1    2\n",
      "2    2\n",
      "3    2\n",
      "4    2\n",
      "Name: order_date, dtype: int64\n"
     ]
    }
   ],
   "source": [
    "# year, month, day 추출 방법 #2\n",
    "year = pd.to_datetime(orders['order_date']).dt.year\n",
    "month = pd.to_datetime(orders['order_date']).dt.month\n",
    "day = pd.to_datetime(orders['order_date']).dt.day\n",
    "weekday = pd.to_datetime(orders['order_date']).dt.weekday  # 월:0~ 일:6\n",
    "\n",
    "# 확인\n",
    "print(year.head())\n",
    "print(month.head())\n",
    "print(day.head())\n",
    "print(weekday.head())"
   ]
  },
  {
   "cell_type": "markdown",
   "metadata": {
    "id": "cGFrvyycSDWv"
   },
   "source": [
    "**3) 날짜 정보 열 추가**\n",
    "\n",
    "* 얻어진 날짜 정보를 새로운 열로 저장합니다."
   ]
  },
  {
   "cell_type": "code",
   "execution_count": 57,
   "metadata": {
    "colab": {
     "base_uri": "https://localhost:8080/",
     "height": 206
    },
    "executionInfo": {
     "elapsed": 17,
     "status": "ok",
     "timestamp": 1639575266100,
     "user": {
      "displayName": "Jangrae Lee",
      "photoUrl": "https://lh3.googleusercontent.com/a-/AOh14Gh1Pd8OuWJU2cv7uTt-fURrgvty7atx_Wtarmx0-A=s64",
      "userId": "08475661575434032088"
     },
     "user_tz": -540
    },
    "id": "GU6skYZq-g54",
    "outputId": "af3c1f26-d74c-4c15-b489-869ce2a6b6bf"
   },
   "outputs": [
    {
     "data": {
      "text/html": [
       "<div>\n",
       "<style scoped>\n",
       "    .dataframe tbody tr th:only-of-type {\n",
       "        vertical-align: middle;\n",
       "    }\n",
       "\n",
       "    .dataframe tbody tr th {\n",
       "        vertical-align: top;\n",
       "    }\n",
       "\n",
       "    .dataframe thead th {\n",
       "        text-align: right;\n",
       "    }\n",
       "</style>\n",
       "<table border=\"1\" class=\"dataframe\">\n",
       "  <thead>\n",
       "    <tr style=\"text-align: right;\">\n",
       "      <th></th>\n",
       "      <th>order_date</th>\n",
       "      <th>product</th>\n",
       "      <th>quantity</th>\n",
       "      <th>amount</th>\n",
       "      <th>year</th>\n",
       "      <th>month</th>\n",
       "      <th>weekday</th>\n",
       "    </tr>\n",
       "  </thead>\n",
       "  <tbody>\n",
       "    <tr>\n",
       "      <th>0</th>\n",
       "      <td>2019-01-02</td>\n",
       "      <td>p1030071</td>\n",
       "      <td>2</td>\n",
       "      <td>7900</td>\n",
       "      <td>2019</td>\n",
       "      <td>1</td>\n",
       "      <td>2</td>\n",
       "    </tr>\n",
       "    <tr>\n",
       "      <th>1</th>\n",
       "      <td>2019-01-02</td>\n",
       "      <td>p1012761</td>\n",
       "      <td>1</td>\n",
       "      <td>1700</td>\n",
       "      <td>2019</td>\n",
       "      <td>1</td>\n",
       "      <td>2</td>\n",
       "    </tr>\n",
       "    <tr>\n",
       "      <th>2</th>\n",
       "      <td>2019-01-02</td>\n",
       "      <td>p1012581</td>\n",
       "      <td>1</td>\n",
       "      <td>1000</td>\n",
       "      <td>2019</td>\n",
       "      <td>1</td>\n",
       "      <td>2</td>\n",
       "    </tr>\n",
       "    <tr>\n",
       "      <th>3</th>\n",
       "      <td>2019-01-02</td>\n",
       "      <td>p1175481</td>\n",
       "      <td>1</td>\n",
       "      <td>1300</td>\n",
       "      <td>2019</td>\n",
       "      <td>1</td>\n",
       "      <td>2</td>\n",
       "    </tr>\n",
       "    <tr>\n",
       "      <th>4</th>\n",
       "      <td>2019-01-02</td>\n",
       "      <td>p1178011</td>\n",
       "      <td>1</td>\n",
       "      <td>8800</td>\n",
       "      <td>2019</td>\n",
       "      <td>1</td>\n",
       "      <td>2</td>\n",
       "    </tr>\n",
       "  </tbody>\n",
       "</table>\n",
       "</div>"
      ],
      "text/plain": [
       "   order_date   product  quantity  amount  year  month  weekday\n",
       "0  2019-01-02  p1030071         2    7900  2019      1        2\n",
       "1  2019-01-02  p1012761         1    1700  2019      1        2\n",
       "2  2019-01-02  p1012581         1    1000  2019      1        2\n",
       "3  2019-01-02  p1175481         1    1300  2019      1        2\n",
       "4  2019-01-02  p1178011         1    8800  2019      1        2"
      ]
     },
     "execution_count": 57,
     "metadata": {},
     "output_type": "execute_result"
    }
   ],
   "source": [
    "# 열 추가 (날짜 형태의 문자열 열에서 날짜 정보 얻기)\n",
    "# weekday 를 가져오기위해 to_datetime 을 이용해야한다\n",
    "\n",
    "orders['year'] = pd.to_datetime(orders['order_date']).dt.year\n",
    "orders['month'] = pd.to_datetime(orders['order_date']).dt.month\n",
    "orders['weekday'] = pd.to_datetime(orders['order_date']).dt.weekday\n",
    "\n",
    "# 확인\n",
    "orders.head()"
   ]
  },
  {
   "cell_type": "markdown",
   "metadata": {
    "id": "UdAu9isQSIa2"
   },
   "source": [
    "**4) 요일을 이름으로 변경**\n",
    "\n",
    "* 요일 정보를 이해하기 쉽게 이름으로 바꿔줍니다."
   ]
  },
  {
   "cell_type": "code",
   "execution_count": 58,
   "metadata": {
    "colab": {
     "base_uri": "https://localhost:8080/",
     "height": 206
    },
    "executionInfo": {
     "elapsed": 16,
     "status": "ok",
     "timestamp": 1639575266100,
     "user": {
      "displayName": "Jangrae Lee",
      "photoUrl": "https://lh3.googleusercontent.com/a-/AOh14Gh1Pd8OuWJU2cv7uTt-fURrgvty7atx_Wtarmx0-A=s64",
      "userId": "08475661575434032088"
     },
     "user_tz": -540
    },
    "id": "tb1aElWsEDjY",
    "outputId": "3ddad850-5248-42bb-a1a3-52b4d0535a07"
   },
   "outputs": [
    {
     "data": {
      "text/html": [
       "<div>\n",
       "<style scoped>\n",
       "    .dataframe tbody tr th:only-of-type {\n",
       "        vertical-align: middle;\n",
       "    }\n",
       "\n",
       "    .dataframe tbody tr th {\n",
       "        vertical-align: top;\n",
       "    }\n",
       "\n",
       "    .dataframe thead th {\n",
       "        text-align: right;\n",
       "    }\n",
       "</style>\n",
       "<table border=\"1\" class=\"dataframe\">\n",
       "  <thead>\n",
       "    <tr style=\"text-align: right;\">\n",
       "      <th></th>\n",
       "      <th>order_date</th>\n",
       "      <th>product</th>\n",
       "      <th>quantity</th>\n",
       "      <th>amount</th>\n",
       "      <th>year</th>\n",
       "      <th>month</th>\n",
       "      <th>weekday</th>\n",
       "    </tr>\n",
       "  </thead>\n",
       "  <tbody>\n",
       "    <tr>\n",
       "      <th>0</th>\n",
       "      <td>2019-01-02</td>\n",
       "      <td>p1030071</td>\n",
       "      <td>2</td>\n",
       "      <td>7900</td>\n",
       "      <td>2019</td>\n",
       "      <td>1</td>\n",
       "      <td>wed</td>\n",
       "    </tr>\n",
       "    <tr>\n",
       "      <th>1</th>\n",
       "      <td>2019-01-02</td>\n",
       "      <td>p1012761</td>\n",
       "      <td>1</td>\n",
       "      <td>1700</td>\n",
       "      <td>2019</td>\n",
       "      <td>1</td>\n",
       "      <td>wed</td>\n",
       "    </tr>\n",
       "    <tr>\n",
       "      <th>2</th>\n",
       "      <td>2019-01-02</td>\n",
       "      <td>p1012581</td>\n",
       "      <td>1</td>\n",
       "      <td>1000</td>\n",
       "      <td>2019</td>\n",
       "      <td>1</td>\n",
       "      <td>wed</td>\n",
       "    </tr>\n",
       "    <tr>\n",
       "      <th>3</th>\n",
       "      <td>2019-01-02</td>\n",
       "      <td>p1175481</td>\n",
       "      <td>1</td>\n",
       "      <td>1300</td>\n",
       "      <td>2019</td>\n",
       "      <td>1</td>\n",
       "      <td>wed</td>\n",
       "    </tr>\n",
       "    <tr>\n",
       "      <th>4</th>\n",
       "      <td>2019-01-02</td>\n",
       "      <td>p1178011</td>\n",
       "      <td>1</td>\n",
       "      <td>8800</td>\n",
       "      <td>2019</td>\n",
       "      <td>1</td>\n",
       "      <td>wed</td>\n",
       "    </tr>\n",
       "  </tbody>\n",
       "</table>\n",
       "</div>"
      ],
      "text/plain": [
       "   order_date   product  quantity  amount  year  month weekday\n",
       "0  2019-01-02  p1030071         2    7900  2019      1     wed\n",
       "1  2019-01-02  p1012761         1    1700  2019      1     wed\n",
       "2  2019-01-02  p1012581         1    1000  2019      1     wed\n",
       "3  2019-01-02  p1175481         1    1300  2019      1     wed\n",
       "4  2019-01-02  p1178011         1    8800  2019      1     wed"
      ]
     },
     "execution_count": 58,
     "metadata": {},
     "output_type": "execute_result"
    }
   ],
   "source": [
    "# 요일 변경\n",
    "orders['weekday'] = orders['weekday'].map({0: 'mon',\n",
    "                                           1: 'tue', \n",
    "                                           2: 'wed', \n",
    "                                           3: 'thu', \n",
    "                                           4: 'fri', \n",
    "                                           5: 'sat', \n",
    "                                           6: 'sun'})\n",
    "\n",
    "# 확인\n",
    "orders.head()"
   ]
  },
  {
   "cell_type": "markdown",
   "metadata": {
    "id": "X-wU7brhWRVb"
   },
   "source": [
    "### 3.2.그룹 집계화 시각화"
   ]
  },
  {
   "cell_type": "markdown",
   "metadata": {
    "id": "Tp2Z_CN3SL9O"
   },
   "source": [
    "**1) 그룹 집계 #1**\n",
    "\n",
    "* 그룹별 집계는 데이터를 이해하는 데 큰 역할을 합니다."
   ]
  },
  {
   "cell_type": "code",
   "execution_count": 59,
   "metadata": {
    "colab": {
     "base_uri": "https://localhost:8080/",
     "height": 206
    },
    "executionInfo": {
     "elapsed": 16,
     "status": "ok",
     "timestamp": 1639575266101,
     "user": {
      "displayName": "Jangrae Lee",
      "photoUrl": "https://lh3.googleusercontent.com/a-/AOh14Gh1Pd8OuWJU2cv7uTt-fURrgvty7atx_Wtarmx0-A=s64",
      "userId": "08475661575434032088"
     },
     "user_tz": -540
    },
    "id": "shAvSQ8OE8KS",
    "outputId": "bc7d246f-d25c-416c-8de9-043fafe98e24"
   },
   "outputs": [
    {
     "data": {
      "text/html": [
       "<div>\n",
       "<style scoped>\n",
       "    .dataframe tbody tr th:only-of-type {\n",
       "        vertical-align: middle;\n",
       "    }\n",
       "\n",
       "    .dataframe tbody tr th {\n",
       "        vertical-align: top;\n",
       "    }\n",
       "\n",
       "    .dataframe thead th {\n",
       "        text-align: right;\n",
       "    }\n",
       "</style>\n",
       "<table border=\"1\" class=\"dataframe\">\n",
       "  <thead>\n",
       "    <tr style=\"text-align: right;\">\n",
       "      <th></th>\n",
       "      <th>year</th>\n",
       "      <th>month</th>\n",
       "      <th>quantity</th>\n",
       "      <th>amount</th>\n",
       "    </tr>\n",
       "  </thead>\n",
       "  <tbody>\n",
       "    <tr>\n",
       "      <th>0</th>\n",
       "      <td>2019</td>\n",
       "      <td>1</td>\n",
       "      <td>5505</td>\n",
       "      <td>14280112</td>\n",
       "    </tr>\n",
       "    <tr>\n",
       "      <th>1</th>\n",
       "      <td>2019</td>\n",
       "      <td>2</td>\n",
       "      <td>5369</td>\n",
       "      <td>14439692</td>\n",
       "    </tr>\n",
       "    <tr>\n",
       "      <th>2</th>\n",
       "      <td>2019</td>\n",
       "      <td>3</td>\n",
       "      <td>6275</td>\n",
       "      <td>17135535</td>\n",
       "    </tr>\n",
       "    <tr>\n",
       "      <th>3</th>\n",
       "      <td>2019</td>\n",
       "      <td>4</td>\n",
       "      <td>6424</td>\n",
       "      <td>15256018</td>\n",
       "    </tr>\n",
       "    <tr>\n",
       "      <th>4</th>\n",
       "      <td>2019</td>\n",
       "      <td>5</td>\n",
       "      <td>6603</td>\n",
       "      <td>13992944</td>\n",
       "    </tr>\n",
       "  </tbody>\n",
       "</table>\n",
       "</div>"
      ],
      "text/plain": [
       "   year  month  quantity    amount\n",
       "0  2019      1      5505  14280112\n",
       "1  2019      2      5369  14439692\n",
       "2  2019      3      6275  17135535\n",
       "3  2019      4      6424  15256018\n",
       "4  2019      5      6603  13992944"
      ]
     },
     "execution_count": 59,
     "metadata": {},
     "output_type": "execute_result"
    }
   ],
   "source": [
    "# 집계\n",
    "tmp = orders.groupby(by=['year', 'month'], as_index=False)[['quantity', 'amount']].sum()\n",
    "\n",
    "# 확인\n",
    "tmp.head()"
   ]
  },
  {
   "cell_type": "markdown",
   "metadata": {
    "id": "AiPG5tmySPgF"
   },
   "source": [
    "**2) 그룹 집계 #2**\n",
    "\n",
    "* 조건 조회를 통해 원하는 기간의 데이터만 집계 대상으로 삼을 수 있습니다."
   ]
  },
  {
   "cell_type": "code",
   "execution_count": 60,
   "metadata": {
    "colab": {
     "base_uri": "https://localhost:8080/",
     "height": 206
    },
    "executionInfo": {
     "elapsed": 15,
     "status": "ok",
     "timestamp": 1639575266102,
     "user": {
      "displayName": "Jangrae Lee",
      "photoUrl": "https://lh3.googleusercontent.com/a-/AOh14Gh1Pd8OuWJU2cv7uTt-fURrgvty7atx_Wtarmx0-A=s64",
      "userId": "08475661575434032088"
     },
     "user_tz": -540
    },
    "id": "KJOlGmZEFbGo",
    "outputId": "b7ef8d9f-6208-4f4b-9696-a2d8fd2146fe"
   },
   "outputs": [
    {
     "data": {
      "text/html": [
       "<div>\n",
       "<style scoped>\n",
       "    .dataframe tbody tr th:only-of-type {\n",
       "        vertical-align: middle;\n",
       "    }\n",
       "\n",
       "    .dataframe tbody tr th {\n",
       "        vertical-align: top;\n",
       "    }\n",
       "\n",
       "    .dataframe thead th {\n",
       "        text-align: right;\n",
       "    }\n",
       "</style>\n",
       "<table border=\"1\" class=\"dataframe\">\n",
       "  <thead>\n",
       "    <tr style=\"text-align: right;\">\n",
       "      <th></th>\n",
       "      <th>month</th>\n",
       "      <th>quantity</th>\n",
       "      <th>amount</th>\n",
       "    </tr>\n",
       "  </thead>\n",
       "  <tbody>\n",
       "    <tr>\n",
       "      <th>0</th>\n",
       "      <td>1</td>\n",
       "      <td>5505</td>\n",
       "      <td>14280112</td>\n",
       "    </tr>\n",
       "    <tr>\n",
       "      <th>1</th>\n",
       "      <td>2</td>\n",
       "      <td>5369</td>\n",
       "      <td>14439692</td>\n",
       "    </tr>\n",
       "    <tr>\n",
       "      <th>2</th>\n",
       "      <td>3</td>\n",
       "      <td>6275</td>\n",
       "      <td>17135535</td>\n",
       "    </tr>\n",
       "    <tr>\n",
       "      <th>3</th>\n",
       "      <td>4</td>\n",
       "      <td>6424</td>\n",
       "      <td>15256018</td>\n",
       "    </tr>\n",
       "    <tr>\n",
       "      <th>4</th>\n",
       "      <td>5</td>\n",
       "      <td>6603</td>\n",
       "      <td>13992944</td>\n",
       "    </tr>\n",
       "  </tbody>\n",
       "</table>\n",
       "</div>"
      ],
      "text/plain": [
       "   month  quantity    amount\n",
       "0      1      5505  14280112\n",
       "1      2      5369  14439692\n",
       "2      3      6275  17135535\n",
       "3      4      6424  15256018\n",
       "4      5      6603  13992944"
      ]
     },
     "execution_count": 60,
     "metadata": {},
     "output_type": "execute_result"
    }
   ],
   "source": [
    "# 2019 년 집계\n",
    "orders2019 = orders.loc[orders['year']==2019, :]\n",
    "tmp = orders2019.groupby(by=['month'], as_index=False)[['quantity', 'amount']].sum()\n",
    "\n",
    "# 확인\n",
    "tmp.head()"
   ]
  },
  {
   "cell_type": "markdown",
   "metadata": {
    "id": "7aEJBTLgSSdD"
   },
   "source": [
    "**3) 막대 그래프 시각화**\n",
    "\n",
    "* 범주형 데이터 크기를 비교할 때 막대 그래프를 사용합니다."
   ]
  },
  {
   "cell_type": "code",
   "execution_count": 61,
   "metadata": {
    "colab": {
     "base_uri": "https://localhost:8080/",
     "height": 265
    },
    "executionInfo": {
     "elapsed": 927,
     "status": "ok",
     "timestamp": 1639575267015,
     "user": {
      "displayName": "Jangrae Lee",
      "photoUrl": "https://lh3.googleusercontent.com/a-/AOh14Gh1Pd8OuWJU2cv7uTt-fURrgvty7atx_Wtarmx0-A=s64",
      "userId": "08475661575434032088"
     },
     "user_tz": -540
    },
    "id": "aOCctsM7GLq3",
    "outputId": "f0092996-d2e8-497f-eb8b-8e7baacba065"
   },
   "outputs": [
    {
     "data": {
      "image/png": "[encoded data removed]",
      "text/plain": [
       "<Figure size 432x288 with 1 Axes>"
      ]
     },
     "metadata": {
      "image/png": {
       "height": 248,
       "width": 381
      },
      "needs_background": "light"
     },
     "output_type": "display_data"
    }
   ],
   "source": [
    "# 시각화\n",
    "plt.bar(tmp['month'], tmp['quantity'])\n",
    "plt.show()"
   ]
  },
  {
   "cell_type": "code",
   "execution_count": 62,
   "metadata": {
    "colab": {
     "base_uri": "https://localhost:8080/",
     "height": 275
    },
    "executionInfo": {
     "elapsed": 16,
     "status": "ok",
     "timestamp": 1639575267016,
     "user": {
      "displayName": "Jangrae Lee",
      "photoUrl": "https://lh3.googleusercontent.com/a-/AOh14Gh1Pd8OuWJU2cv7uTt-fURrgvty7atx_Wtarmx0-A=s64",
      "userId": "08475661575434032088"
     },
     "user_tz": -540
    },
    "id": "GHiBBOUqGYyL",
    "outputId": "26850c8a-38b1-4b1f-83d0-67df9c6d19c1"
   },
   "outputs": [
    {
     "data": {
      "image/png": "[encoded data removed]",
      "text/plain": [
       "<Figure size 432x288 with 1 Axes>"
      ]
     },
     "metadata": {
      "image/png": {
       "height": 258,
       "width": 372
      },
      "needs_background": "light"
     },
     "output_type": "display_data"
    }
   ],
   "source": [
    "# 시각화\n",
    "plt.bar(tmp['month'], tmp['amount'])\n",
    "plt.show()"
   ]
  },
  {
   "cell_type": "markdown",
   "metadata": {
    "id": "ObhJJe4ZSqwH"
   },
   "source": [
    "**4) 정렬**\n",
    "\n",
    "* 값을 정렬해 표시하면 또 다른 통찰력을 얻을 수 있습니다."
   ]
  },
  {
   "cell_type": "code",
   "execution_count": 63,
   "metadata": {
    "colab": {
     "base_uri": "https://localhost:8080/",
     "height": 275
    },
    "executionInfo": {
     "elapsed": 14,
     "status": "ok",
     "timestamp": 1639575267016,
     "user": {
      "displayName": "Jangrae Lee",
      "photoUrl": "https://lh3.googleusercontent.com/a-/AOh14Gh1Pd8OuWJU2cv7uTt-fURrgvty7atx_Wtarmx0-A=s64",
      "userId": "08475661575434032088"
     },
     "user_tz": -540
    },
    "id": "mjNY4urjXxyR",
    "outputId": "5c89097f-3599-4325-fdf5-3539b0d1c6b5"
   },
   "outputs": [
    {
     "data": {
      "image/png": "[encoded data removed]",
      "text/plain": [
       "<Figure size 432x288 with 1 Axes>"
      ]
     },
     "metadata": {
      "image/png": {
       "height": 258,
       "width": 372
      },
      "needs_background": "light"
     },
     "output_type": "display_data"
    }
   ],
   "source": [
    "# 판매 금액 순 정렬\n",
    "tmp = tmp.sort_values(by='amount', ascending=False)\n",
    "tmp['month'] = tmp['month'].astype(str) # 데이터 형식을 str 로 변환 \n",
    "# 막대그래프 특성에 숫자인경우 순서대로 나열하는 특성이있어 위의 한줄을 추가해주어야 \n",
    "# amount 값의 내림차순에 맞게 x축이 정렬이됨!!\n",
    "\n",
    "# 시각화\n",
    "plt.bar(tmp['month'], tmp['amount'])\n",
    "plt.show()"
   ]
  },
  {
   "cell_type": "markdown",
   "metadata": {
    "id": "0wgF2D1hWoC-"
   },
   "source": [
    "### 3.시각화 약간 향상"
   ]
  },
  {
   "cell_type": "markdown",
   "metadata": {
    "id": "tji7Pe2uSz7_"
   },
   "source": [
    "**1) 선 그래프 시각화**\n",
    "\n",
    "* 연속형 데이터 변경 추이를 볼 때 선 그래프를 사용합니다.\n",
    "* y 축 값을 지수 형태가 아닌 원래 값이 보이게 합니다."
   ]
  },
  {
   "cell_type": "code",
   "execution_count": 67,
   "metadata": {
    "colab": {
     "base_uri": "https://localhost:8080/",
     "height": 265
    },
    "executionInfo": {
     "elapsed": 912,
     "status": "ok",
     "timestamp": 1639575267915,
     "user": {
      "displayName": "Jangrae Lee",
      "photoUrl": "https://lh3.googleusercontent.com/a-/AOh14Gh1Pd8OuWJU2cv7uTt-fURrgvty7atx_Wtarmx0-A=s64",
      "userId": "08475661575434032088"
     },
     "user_tz": -540
    },
    "id": "X56gEm7ccTny",
    "outputId": "b3860fd9-051e-42ec-b13f-9e5bae25e73f"
   },
   "outputs": [
    {
     "data": {
      "image/png": "[encoded data removed]",
      "text/plain": [
       "<Figure size 432x288 with 1 Axes>"
      ]
     },
     "metadata": {
      "image/png": {
       "height": 248,
       "width": 407
      },
      "needs_background": "light"
     },
     "output_type": "display_data"
    }
   ],
   "source": [
    "# 다시 정렬\n",
    "tmp['month'] = tmp['month'].astype(int)\n",
    "tmp = tmp.sort_values(by='month', ascending=True)\n",
    "\n",
    "# 시각화\n",
    "plt.plot(tmp['month'], tmp['amount'])\n",
    "plt.ticklabel_format(axis='y',style='plain')\n",
    "plt.show()"
   ]
  },
  {
   "cell_type": "markdown",
   "metadata": {
    "id": "lAdmLa0LTh_0"
   },
   "source": [
    "**2) 축 값 제어**\n",
    "\n",
    "* 우선 상품별 판매 현황을 집계하고 판매 금액 기준 TOP 10을 추출합니다."
   ]
  },
  {
   "cell_type": "code",
   "execution_count": 69,
   "metadata": {
    "colab": {
     "base_uri": "https://localhost:8080/",
     "height": 363
    },
    "executionInfo": {
     "elapsed": 363,
     "status": "ok",
     "timestamp": 1639575568619,
     "user": {
      "displayName": "Jangrae Lee",
      "photoUrl": "https://lh3.googleusercontent.com/a-/AOh14Gh1Pd8OuWJU2cv7uTt-fURrgvty7atx_Wtarmx0-A=s64",
      "userId": "08475661575434032088"
     },
     "user_tz": -540
    },
    "id": "nz3zdwZCTMCv",
    "outputId": "faa782a8-91d3-484b-e134-676731a5960e"
   },
   "outputs": [
    {
     "data": {
      "text/html": [
       "<div>\n",
       "<style scoped>\n",
       "    .dataframe tbody tr th:only-of-type {\n",
       "        vertical-align: middle;\n",
       "    }\n",
       "\n",
       "    .dataframe tbody tr th {\n",
       "        vertical-align: top;\n",
       "    }\n",
       "\n",
       "    .dataframe thead th {\n",
       "        text-align: right;\n",
       "    }\n",
       "</style>\n",
       "<table border=\"1\" class=\"dataframe\">\n",
       "  <thead>\n",
       "    <tr style=\"text-align: right;\">\n",
       "      <th></th>\n",
       "      <th>product</th>\n",
       "      <th>quantity</th>\n",
       "      <th>amount</th>\n",
       "    </tr>\n",
       "  </thead>\n",
       "  <tbody>\n",
       "    <tr>\n",
       "      <th>22</th>\n",
       "      <td>p1072601</td>\n",
       "      <td>4057</td>\n",
       "      <td>18122113</td>\n",
       "    </tr>\n",
       "    <tr>\n",
       "      <th>43</th>\n",
       "      <td>p1178011</td>\n",
       "      <td>1659</td>\n",
       "      <td>14129078</td>\n",
       "    </tr>\n",
       "    <tr>\n",
       "      <th>1</th>\n",
       "      <td>p1002841</td>\n",
       "      <td>907</td>\n",
       "      <td>11064509</td>\n",
       "    </tr>\n",
       "    <tr>\n",
       "      <th>4</th>\n",
       "      <td>p1005891</td>\n",
       "      <td>5189</td>\n",
       "      <td>10108897</td>\n",
       "    </tr>\n",
       "    <tr>\n",
       "      <th>46</th>\n",
       "      <td>p1194801</td>\n",
       "      <td>996</td>\n",
       "      <td>7562421</td>\n",
       "    </tr>\n",
       "    <tr>\n",
       "      <th>3</th>\n",
       "      <td>p1005771</td>\n",
       "      <td>3979</td>\n",
       "      <td>7348918</td>\n",
       "    </tr>\n",
       "    <tr>\n",
       "      <th>42</th>\n",
       "      <td>p1175481</td>\n",
       "      <td>5450</td>\n",
       "      <td>6987517</td>\n",
       "    </tr>\n",
       "    <tr>\n",
       "      <th>60</th>\n",
       "      <td>p1284851</td>\n",
       "      <td>2353</td>\n",
       "      <td>6445713</td>\n",
       "    </tr>\n",
       "    <tr>\n",
       "      <th>18</th>\n",
       "      <td>p1030071</td>\n",
       "      <td>1751</td>\n",
       "      <td>6369971</td>\n",
       "    </tr>\n",
       "    <tr>\n",
       "      <th>47</th>\n",
       "      <td>p1200641</td>\n",
       "      <td>787</td>\n",
       "      <td>5490530</td>\n",
       "    </tr>\n",
       "  </tbody>\n",
       "</table>\n",
       "</div>"
      ],
      "text/plain": [
       "     product  quantity    amount\n",
       "22  p1072601      4057  18122113\n",
       "43  p1178011      1659  14129078\n",
       "1   p1002841       907  11064509\n",
       "4   p1005891      5189  10108897\n",
       "46  p1194801       996   7562421\n",
       "3   p1005771      3979   7348918\n",
       "42  p1175481      5450   6987517\n",
       "60  p1284851      2353   6445713\n",
       "18  p1030071      1751   6369971\n",
       "47  p1200641       787   5490530"
      ]
     },
     "execution_count": 69,
     "metadata": {},
     "output_type": "execute_result"
    }
   ],
   "source": [
    "# 상품별 집계\n",
    "tmp = orders.groupby(by='product', as_index=False)[['quantity', 'amount']].sum()\n",
    "\n",
    "\n",
    "tmp = tmp.sort_values(by='amount', ascending=False).head(10)\n",
    "\n",
    "# # 확인\n",
    "tmp"
   ]
  },
  {
   "cell_type": "markdown",
   "metadata": {
    "id": "zC_FWgH1UXtV"
   },
   "source": [
    "* 선 그래프로 시각화하니 x 축 값이 겹쳐져 보입니다."
   ]
  },
  {
   "cell_type": "code",
   "execution_count": 38,
   "metadata": {
    "colab": {
     "base_uri": "https://localhost:8080/",
     "height": 265
    },
    "executionInfo": {
     "elapsed": 1101,
     "status": "ok",
     "timestamp": 1639575574375,
     "user": {
      "displayName": "Jangrae Lee",
      "photoUrl": "https://lh3.googleusercontent.com/a-/AOh14Gh1Pd8OuWJU2cv7uTt-fURrgvty7atx_Wtarmx0-A=s64",
      "userId": "08475661575434032088"
     },
     "user_tz": -540
    },
    "id": "fHGHzt7KUWsm",
    "outputId": "5b2105f8-86ac-4400-8d39-5e0ba1f0059b"
   },
   "outputs": [
    {
     "data": {
      "image/png": "[encoded data removed]",
      "text/plain": [
       "<Figure size 432x288 with 1 Axes>"
      ]
     },
     "metadata": {
      "image/png": {
       "height": 248,
       "width": 417
      },
      "needs_background": "light"
     },
     "output_type": "display_data"
    }
   ],
   "source": [
    "# 시각화\n",
    "plt.plot(tmp['product'], tmp['amount'])\n",
    "plt.ticklabel_format(axis='y', style='plain')\n",
    "plt.show()"
   ]
  },
  {
   "cell_type": "markdown",
   "metadata": {
    "id": "kmeoSApFUf51"
   },
   "source": [
    "* 크기를 늘리거나, x 축 값을 기울여 표시하면 겹치는 문제를 해결할 수 있습니다."
   ]
  },
  {
   "cell_type": "code",
   "execution_count": 39,
   "metadata": {
    "colab": {
     "base_uri": "https://localhost:8080/",
     "height": 361
    },
    "executionInfo": {
     "elapsed": 1235,
     "status": "ok",
     "timestamp": 1639575992988,
     "user": {
      "displayName": "Jangrae Lee",
      "photoUrl": "https://lh3.googleusercontent.com/a-/AOh14Gh1Pd8OuWJU2cv7uTt-fURrgvty7atx_Wtarmx0-A=s64",
      "userId": "08475661575434032088"
     },
     "user_tz": -540
    },
    "id": "ErBCgA90UeVN",
    "outputId": "c8cdd812-8443-4737-aee4-272678ceb50f"
   },
   "outputs": [
    {
     "data": {
      "image/png": "[encoded data removed]",
      "text/plain": [
       "<Figure size 720x360 with 1 Axes>"
      ]
     },
     "metadata": {
      "image/png": {
       "height": 348,
       "width": 630
      },
      "needs_background": "light"
     },
     "output_type": "display_data"
    }
   ],
   "source": [
    "# 시각화\n",
    "plt.figure(figsize=(10, 5))\n",
    "plt.plot(tmp['product'], tmp['amount'])\n",
    "plt.ticklabel_format(axis='y', style='plain') # 지수형태로 표시되는 값을 정수로 돌려주기\n",
    "plt.xticks(rotation=70) # 축 값 회전\n",
    "plt.ylim(0,18000000)  # y 값의 (최소,최대)범위 설정\n",
    "plt.show()"
   ]
  },
  {
   "cell_type": "code",
   "execution_count": null,
   "metadata": {},
   "outputs": [],
   "source": []
  }
 ],
 "metadata": {
  "colab": {
   "collapsed_sections": [],
   "name": "[참고] 데이터 전처리 기술.ipynb",
   "provenance": []
  },
  "kernelspec": {
   "display_name": "Python 3 (ipykernel)",
   "language": "python",
   "name": "python3"
  },
  "language_info": {
   "codemirror_mode": {
    "name": "ipython",
    "version": 3
   },
   "file_extension": ".py",
   "mimetype": "text/x-python",
   "name": "python",
   "nbconvert_exporter": "python",
   "pygments_lexer": "ipython3",
   "version": "3.9.12"
  }
 },
 "nbformat": 4,
 "nbformat_minor": 4
}
