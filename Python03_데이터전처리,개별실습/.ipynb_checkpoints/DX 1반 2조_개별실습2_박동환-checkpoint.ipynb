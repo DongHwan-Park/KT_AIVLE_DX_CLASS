{
 "cells": [
  {
   "cell_type": "markdown",
   "metadata": {
    "id": "E-qoYWgOC_yk"
   },
   "source": [
    "<center><img src='https://raw.githubusercontent.com/Jangrae/img/master/title.png' width=500/></center>"
   ]
  },
  {
   "cell_type": "markdown",
   "metadata": {
    "id": "BFhIXgdYoYGp"
   },
   "source": [
    "<center><img src='https://raw.githubusercontent.com/Jangrae/img/master/practice3.png' width=300/></center>"
   ]
  },
  {
   "cell_type": "markdown",
   "metadata": {
    "id": "TwTW06tUyUxp"
   },
   "source": [
    "<center>본 실습에서 요구하는 내용 외에도 다양한 내용을 스스로 추가하여  탐색하고 분석해 보기를 권고합니다.</center>"
   ]
  },
  {
   "cell_type": "markdown",
   "metadata": {
    "id": "Xi_yurwiORB7"
   },
   "source": [
    "# 전국 아파트 평균 매매가격"
   ]
  },
  {
   "cell_type": "markdown",
   "metadata": {
    "id": "9D-jtyRW6hjJ"
   },
   "source": [
    "<img src='https://raw.githubusercontent.com/Jangrae/img/master/apart.png' width=\"650\" align=\"left\">"
   ]
  },
  {
   "cell_type": "markdown",
   "metadata": {
    "id": "qb1iLyXwGlnw"
   },
   "source": [
    "## 1.환경 설정\n",
    "\n",
    "- 데이터 탐색과 전처리를 하기 전 필요한 라이브러리와 대상 파일을 읽어옵니다.\n",
    "- 시각화에 한글이 포함될 경우 이에 대한 설정을 진행합니다."
   ]
  },
  {
   "cell_type": "markdown",
   "metadata": {
    "id": "PK8ZI9P5mRV8"
   },
   "source": [
    "**1) 한글 설정**\n",
    "\n",
    "- Jupyter Notebook 시각화에 한글이 표시되게 설정합니다."
   ]
  },
  {
   "cell_type": "code",
   "execution_count": 99,
   "metadata": {
    "id": "lyk2U1RZmRV9"
   },
   "outputs": [],
   "source": [
    "# 라이브러리 불러오기\n",
    "import matplotlib.pyplot as plt\n",
    "import matplotlib.font_manager as fm\n",
    "\n",
    "# 폰트설정\n",
    "plt.rc('font', family='Malgun Gothic')\n",
    "plt.rcParams['axes.unicode_minus'] = False"
   ]
  },
  {
   "cell_type": "markdown",
   "metadata": {
    "id": "0uNXxebRGrd8"
   },
   "source": [
    "**2) 라이브러리 불러오기**\n",
    "\n",
    "- 사용할 라이브러리를 불러옵니다."
   ]
  },
  {
   "cell_type": "code",
   "execution_count": 100,
   "metadata": {
    "id": "p3lUS_fyqvnh"
   },
   "outputs": [],
   "source": [
    "# 라이브러리 불러오기\n",
    "import numpy as np\n",
    "import pandas as pd\n",
    "import matplotlib.pyplot as plt\n",
    "\n",
    "%config InlineBackend.figure_format = 'retina'"
   ]
  },
  {
   "cell_type": "markdown",
   "metadata": {
    "id": "ul8zKgxCqvnh"
   },
   "source": [
    "**3) 데이터 읽어오기**\n",
    "\n",
    "- 다음 경로의 파일을 읽어와 apart 데이터프레임을 만드세요.\n",
    "- 파일 경로: https://raw.githubusercontent.com/Jangrae/csv/master/apart_price.csv\n",
    "- Decoding 오류가 발생하면 encoding='CP949' 옵션을 지정해 읽어옵니다."
   ]
  },
  {
   "cell_type": "code",
   "execution_count": 101,
   "metadata": {
    "id": "enhGxkyt0KcI"
   },
   "outputs": [
    {
     "data": {
      "text/html": [
       "<div>\n",
       "<style scoped>\n",
       "    .dataframe tbody tr th:only-of-type {\n",
       "        vertical-align: middle;\n",
       "    }\n",
       "\n",
       "    .dataframe tbody tr th {\n",
       "        vertical-align: top;\n",
       "    }\n",
       "\n",
       "    .dataframe thead th {\n",
       "        text-align: right;\n",
       "    }\n",
       "</style>\n",
       "<table border=\"1\" class=\"dataframe\">\n",
       "  <thead>\n",
       "    <tr style=\"text-align: right;\">\n",
       "      <th></th>\n",
       "      <th>지역1</th>\n",
       "      <th>지역2</th>\n",
       "      <th>2020-08</th>\n",
       "      <th>2020-09</th>\n",
       "      <th>2020-10</th>\n",
       "      <th>2020-11</th>\n",
       "      <th>2020-12</th>\n",
       "      <th>2021-01</th>\n",
       "      <th>2021-02</th>\n",
       "      <th>2021-03</th>\n",
       "      <th>2021-04</th>\n",
       "      <th>2021-05</th>\n",
       "      <th>2021-06</th>\n",
       "      <th>2021-07</th>\n",
       "    </tr>\n",
       "  </thead>\n",
       "  <tbody>\n",
       "    <tr>\n",
       "      <th>0</th>\n",
       "      <td>서울</td>\n",
       "      <td>종로구</td>\n",
       "      <td>1029542</td>\n",
       "      <td>1033625</td>\n",
       "      <td>1036486</td>\n",
       "      <td>1036681</td>\n",
       "      <td>1037986</td>\n",
       "      <td>1039903</td>\n",
       "      <td>1041444</td>\n",
       "      <td>1044347</td>\n",
       "      <td>1045819</td>\n",
       "      <td>1047819</td>\n",
       "      <td>1048722</td>\n",
       "      <td>1050750</td>\n",
       "    </tr>\n",
       "    <tr>\n",
       "      <th>1</th>\n",
       "      <td>서울</td>\n",
       "      <td>중구</td>\n",
       "      <td>802257</td>\n",
       "      <td>806143</td>\n",
       "      <td>807771</td>\n",
       "      <td>808743</td>\n",
       "      <td>809900</td>\n",
       "      <td>812157</td>\n",
       "      <td>814614</td>\n",
       "      <td>820100</td>\n",
       "      <td>822257</td>\n",
       "      <td>823314</td>\n",
       "      <td>824371</td>\n",
       "      <td>829486</td>\n",
       "    </tr>\n",
       "    <tr>\n",
       "      <th>2</th>\n",
       "      <td>서울</td>\n",
       "      <td>용산구</td>\n",
       "      <td>1399354</td>\n",
       "      <td>1406439</td>\n",
       "      <td>1411232</td>\n",
       "      <td>1412659</td>\n",
       "      <td>1413768</td>\n",
       "      <td>1416951</td>\n",
       "      <td>1421012</td>\n",
       "      <td>1427366</td>\n",
       "      <td>1430780</td>\n",
       "      <td>1434768</td>\n",
       "      <td>1439390</td>\n",
       "      <td>1445073</td>\n",
       "    </tr>\n",
       "    <tr>\n",
       "      <th>3</th>\n",
       "      <td>서울</td>\n",
       "      <td>성동구</td>\n",
       "      <td>910716</td>\n",
       "      <td>916402</td>\n",
       "      <td>918667</td>\n",
       "      <td>920020</td>\n",
       "      <td>921108</td>\n",
       "      <td>923402</td>\n",
       "      <td>927029</td>\n",
       "      <td>934049</td>\n",
       "      <td>938029</td>\n",
       "      <td>940000</td>\n",
       "      <td>942235</td>\n",
       "      <td>947157</td>\n",
       "    </tr>\n",
       "    <tr>\n",
       "      <th>4</th>\n",
       "      <td>서울</td>\n",
       "      <td>광진구</td>\n",
       "      <td>1021037</td>\n",
       "      <td>1025866</td>\n",
       "      <td>1029256</td>\n",
       "      <td>1030878</td>\n",
       "      <td>1032220</td>\n",
       "      <td>1034524</td>\n",
       "      <td>1038378</td>\n",
       "      <td>1047439</td>\n",
       "      <td>1053024</td>\n",
       "      <td>1056524</td>\n",
       "      <td>1059476</td>\n",
       "      <td>1063805</td>\n",
       "    </tr>\n",
       "  </tbody>\n",
       "</table>\n",
       "</div>"
      ],
      "text/plain": [
       "  지역1  지역2  2020-08  2020-09  2020-10  2020-11  2020-12  2021-01  2021-02  \\\n",
       "0  서울  종로구  1029542  1033625  1036486  1036681  1037986  1039903  1041444   \n",
       "1  서울   중구   802257   806143   807771   808743   809900   812157   814614   \n",
       "2  서울  용산구  1399354  1406439  1411232  1412659  1413768  1416951  1421012   \n",
       "3  서울  성동구   910716   916402   918667   920020   921108   923402   927029   \n",
       "4  서울  광진구  1021037  1025866  1029256  1030878  1032220  1034524  1038378   \n",
       "\n",
       "   2021-03  2021-04  2021-05  2021-06  2021-07  \n",
       "0  1044347  1045819  1047819  1048722  1050750  \n",
       "1   820100   822257   823314   824371   829486  \n",
       "2  1427366  1430780  1434768  1439390  1445073  \n",
       "3   934049   938029   940000   942235   947157  \n",
       "4  1047439  1053024  1056524  1059476  1063805  "
      ]
     },
     "execution_count": 101,
     "metadata": {},
     "output_type": "execute_result"
    }
   ],
   "source": [
    "# 데이터 읽어오기\n",
    "\n",
    "path = 'https://raw.githubusercontent.com/Jangrae/csv/master/apart_price.csv'\n",
    "apart = pd.read_csv(path, encoding = 'CP949')\n",
    "\n",
    "apart.head()"
   ]
  },
  {
   "cell_type": "markdown",
   "metadata": {
    "id": "1O_usuOg0KcP"
   },
   "source": [
    "## 2.데이터 탐색\n",
    "\n",
    "다음과 같은 정보 확인을 통해 처리할 대상 데이터를 이해합니다.\n",
    "- 상/하위 데이터 확인\n",
    "- 데이터프레임 크기 확인\n",
    "- 열 이름, 데이터 형식, 값 개수 등 확인\n",
    "- 기초 통계정보 확인\n",
    "- 결측치 확인\n",
    "- 범주형 데이터 확인\n",
    "- 개별 열 값 상세 확인 등"
   ]
  },
  {
   "cell_type": "markdown",
   "metadata": {
    "id": "Lxus78Ii0KcR"
   },
   "source": [
    "**1) 상/하위 데이터 확인**\n",
    "\n",
    "- 상/하위 데이터를 확인합니다."
   ]
  },
  {
   "cell_type": "code",
   "execution_count": 7,
   "metadata": {
    "id": "L10e2SPG0KcS",
    "scrolled": true
   },
   "outputs": [
    {
     "data": {
      "text/html": [
       "<div>\n",
       "<style scoped>\n",
       "    .dataframe tbody tr th:only-of-type {\n",
       "        vertical-align: middle;\n",
       "    }\n",
       "\n",
       "    .dataframe tbody tr th {\n",
       "        vertical-align: top;\n",
       "    }\n",
       "\n",
       "    .dataframe thead th {\n",
       "        text-align: right;\n",
       "    }\n",
       "</style>\n",
       "<table border=\"1\" class=\"dataframe\">\n",
       "  <thead>\n",
       "    <tr style=\"text-align: right;\">\n",
       "      <th></th>\n",
       "      <th>지역1</th>\n",
       "      <th>지역2</th>\n",
       "      <th>2020-08</th>\n",
       "      <th>2020-09</th>\n",
       "      <th>2020-10</th>\n",
       "      <th>2020-11</th>\n",
       "      <th>2020-12</th>\n",
       "      <th>2021-01</th>\n",
       "      <th>2021-02</th>\n",
       "      <th>2021-03</th>\n",
       "      <th>2021-04</th>\n",
       "      <th>2021-05</th>\n",
       "      <th>2021-06</th>\n",
       "      <th>2021-07</th>\n",
       "    </tr>\n",
       "  </thead>\n",
       "  <tbody>\n",
       "    <tr>\n",
       "      <th>0</th>\n",
       "      <td>서울</td>\n",
       "      <td>종로구</td>\n",
       "      <td>1029542</td>\n",
       "      <td>1033625</td>\n",
       "      <td>1036486</td>\n",
       "      <td>1036681</td>\n",
       "      <td>1037986</td>\n",
       "      <td>1039903</td>\n",
       "      <td>1041444</td>\n",
       "      <td>1044347</td>\n",
       "      <td>1045819</td>\n",
       "      <td>1047819</td>\n",
       "      <td>1048722</td>\n",
       "      <td>1050750</td>\n",
       "    </tr>\n",
       "    <tr>\n",
       "      <th>1</th>\n",
       "      <td>서울</td>\n",
       "      <td>중구</td>\n",
       "      <td>802257</td>\n",
       "      <td>806143</td>\n",
       "      <td>807771</td>\n",
       "      <td>808743</td>\n",
       "      <td>809900</td>\n",
       "      <td>812157</td>\n",
       "      <td>814614</td>\n",
       "      <td>820100</td>\n",
       "      <td>822257</td>\n",
       "      <td>823314</td>\n",
       "      <td>824371</td>\n",
       "      <td>829486</td>\n",
       "    </tr>\n",
       "    <tr>\n",
       "      <th>2</th>\n",
       "      <td>서울</td>\n",
       "      <td>용산구</td>\n",
       "      <td>1399354</td>\n",
       "      <td>1406439</td>\n",
       "      <td>1411232</td>\n",
       "      <td>1412659</td>\n",
       "      <td>1413768</td>\n",
       "      <td>1416951</td>\n",
       "      <td>1421012</td>\n",
       "      <td>1427366</td>\n",
       "      <td>1430780</td>\n",
       "      <td>1434768</td>\n",
       "      <td>1439390</td>\n",
       "      <td>1445073</td>\n",
       "    </tr>\n",
       "    <tr>\n",
       "      <th>3</th>\n",
       "      <td>서울</td>\n",
       "      <td>성동구</td>\n",
       "      <td>910716</td>\n",
       "      <td>916402</td>\n",
       "      <td>918667</td>\n",
       "      <td>920020</td>\n",
       "      <td>921108</td>\n",
       "      <td>923402</td>\n",
       "      <td>927029</td>\n",
       "      <td>934049</td>\n",
       "      <td>938029</td>\n",
       "      <td>940000</td>\n",
       "      <td>942235</td>\n",
       "      <td>947157</td>\n",
       "    </tr>\n",
       "    <tr>\n",
       "      <th>4</th>\n",
       "      <td>서울</td>\n",
       "      <td>광진구</td>\n",
       "      <td>1021037</td>\n",
       "      <td>1025866</td>\n",
       "      <td>1029256</td>\n",
       "      <td>1030878</td>\n",
       "      <td>1032220</td>\n",
       "      <td>1034524</td>\n",
       "      <td>1038378</td>\n",
       "      <td>1047439</td>\n",
       "      <td>1053024</td>\n",
       "      <td>1056524</td>\n",
       "      <td>1059476</td>\n",
       "      <td>1063805</td>\n",
       "    </tr>\n",
       "  </tbody>\n",
       "</table>\n",
       "</div>"
      ],
      "text/plain": [
       "  지역1  지역2  2020-08  2020-09  2020-10  2020-11  2020-12  2021-01  2021-02  \\\n",
       "0  서울  종로구  1029542  1033625  1036486  1036681  1037986  1039903  1041444   \n",
       "1  서울   중구   802257   806143   807771   808743   809900   812157   814614   \n",
       "2  서울  용산구  1399354  1406439  1411232  1412659  1413768  1416951  1421012   \n",
       "3  서울  성동구   910716   916402   918667   920020   921108   923402   927029   \n",
       "4  서울  광진구  1021037  1025866  1029256  1030878  1032220  1034524  1038378   \n",
       "\n",
       "   2021-03  2021-04  2021-05  2021-06  2021-07  \n",
       "0  1044347  1045819  1047819  1048722  1050750  \n",
       "1   820100   822257   823314   824371   829486  \n",
       "2  1427366  1430780  1434768  1439390  1445073  \n",
       "3   934049   938029   940000   942235   947157  \n",
       "4  1047439  1053024  1056524  1059476  1063805  "
      ]
     },
     "execution_count": 7,
     "metadata": {},
     "output_type": "execute_result"
    }
   ],
   "source": [
    "# 상위 5개 행 확인\n",
    "apart.head()"
   ]
  },
  {
   "cell_type": "code",
   "execution_count": 6,
   "metadata": {
    "id": "r6tiodOr0KcZ",
    "scrolled": true
   },
   "outputs": [
    {
     "data": {
      "text/html": [
       "<div>\n",
       "<style scoped>\n",
       "    .dataframe tbody tr th:only-of-type {\n",
       "        vertical-align: middle;\n",
       "    }\n",
       "\n",
       "    .dataframe tbody tr th {\n",
       "        vertical-align: top;\n",
       "    }\n",
       "\n",
       "    .dataframe thead th {\n",
       "        text-align: right;\n",
       "    }\n",
       "</style>\n",
       "<table border=\"1\" class=\"dataframe\">\n",
       "  <thead>\n",
       "    <tr style=\"text-align: right;\">\n",
       "      <th></th>\n",
       "      <th>지역1</th>\n",
       "      <th>지역2</th>\n",
       "      <th>2020-08</th>\n",
       "      <th>2020-09</th>\n",
       "      <th>2020-10</th>\n",
       "      <th>2020-11</th>\n",
       "      <th>2020-12</th>\n",
       "      <th>2021-01</th>\n",
       "      <th>2021-02</th>\n",
       "      <th>2021-03</th>\n",
       "      <th>2021-04</th>\n",
       "      <th>2021-05</th>\n",
       "      <th>2021-06</th>\n",
       "      <th>2021-07</th>\n",
       "    </tr>\n",
       "  </thead>\n",
       "  <tbody>\n",
       "    <tr>\n",
       "      <th>182</th>\n",
       "      <td>경남</td>\n",
       "      <td>밀양시</td>\n",
       "      <td>126455</td>\n",
       "      <td>126261</td>\n",
       "      <td>125989</td>\n",
       "      <td>125727</td>\n",
       "      <td>125773</td>\n",
       "      <td>125625</td>\n",
       "      <td>125977</td>\n",
       "      <td>126977</td>\n",
       "      <td>127614</td>\n",
       "      <td>127932</td>\n",
       "      <td>128364</td>\n",
       "      <td>129125</td>\n",
       "    </tr>\n",
       "    <tr>\n",
       "      <th>183</th>\n",
       "      <td>경남</td>\n",
       "      <td>거제시</td>\n",
       "      <td>155274</td>\n",
       "      <td>155921</td>\n",
       "      <td>156366</td>\n",
       "      <td>156543</td>\n",
       "      <td>156165</td>\n",
       "      <td>155616</td>\n",
       "      <td>156555</td>\n",
       "      <td>157811</td>\n",
       "      <td>159494</td>\n",
       "      <td>160220</td>\n",
       "      <td>160549</td>\n",
       "      <td>161079</td>\n",
       "    </tr>\n",
       "    <tr>\n",
       "      <th>184</th>\n",
       "      <td>경남</td>\n",
       "      <td>양산시</td>\n",
       "      <td>172574</td>\n",
       "      <td>172582</td>\n",
       "      <td>172828</td>\n",
       "      <td>173383</td>\n",
       "      <td>174672</td>\n",
       "      <td>181445</td>\n",
       "      <td>187973</td>\n",
       "      <td>191410</td>\n",
       "      <td>194660</td>\n",
       "      <td>197867</td>\n",
       "      <td>201191</td>\n",
       "      <td>204215</td>\n",
       "    </tr>\n",
       "    <tr>\n",
       "      <th>185</th>\n",
       "      <td>제주</td>\n",
       "      <td>제주시</td>\n",
       "      <td>303871</td>\n",
       "      <td>303757</td>\n",
       "      <td>303757</td>\n",
       "      <td>303800</td>\n",
       "      <td>303771</td>\n",
       "      <td>304414</td>\n",
       "      <td>306314</td>\n",
       "      <td>308871</td>\n",
       "      <td>310943</td>\n",
       "      <td>313814</td>\n",
       "      <td>324614</td>\n",
       "      <td>344400</td>\n",
       "    </tr>\n",
       "    <tr>\n",
       "      <th>186</th>\n",
       "      <td>제주</td>\n",
       "      <td>서귀포시</td>\n",
       "      <td>223087</td>\n",
       "      <td>222696</td>\n",
       "      <td>222196</td>\n",
       "      <td>221685</td>\n",
       "      <td>221457</td>\n",
       "      <td>221500</td>\n",
       "      <td>222043</td>\n",
       "      <td>222913</td>\n",
       "      <td>223370</td>\n",
       "      <td>224065</td>\n",
       "      <td>224913</td>\n",
       "      <td>231457</td>\n",
       "    </tr>\n",
       "  </tbody>\n",
       "</table>\n",
       "</div>"
      ],
      "text/plain": [
       "    지역1   지역2  2020-08  2020-09  2020-10  2020-11  2020-12  2021-01  2021-02  \\\n",
       "182  경남   밀양시   126455   126261   125989   125727   125773   125625   125977   \n",
       "183  경남   거제시   155274   155921   156366   156543   156165   155616   156555   \n",
       "184  경남   양산시   172574   172582   172828   173383   174672   181445   187973   \n",
       "185  제주   제주시   303871   303757   303757   303800   303771   304414   306314   \n",
       "186  제주  서귀포시   223087   222696   222196   221685   221457   221500   222043   \n",
       "\n",
       "     2021-03  2021-04  2021-05  2021-06  2021-07  \n",
       "182   126977   127614   127932   128364   129125  \n",
       "183   157811   159494   160220   160549   161079  \n",
       "184   191410   194660   197867   201191   204215  \n",
       "185   308871   310943   313814   324614   344400  \n",
       "186   222913   223370   224065   224913   231457  "
      ]
     },
     "execution_count": 6,
     "metadata": {},
     "output_type": "execute_result"
    }
   ],
   "source": [
    "# 하위 5개 행 확인\n",
    "apart.tail()"
   ]
  },
  {
   "cell_type": "markdown",
   "metadata": {
    "id": "KXhMyTdu0Kcf"
   },
   "source": [
    "**2) 열 데이터 형식, 값 개수 확인**\n",
    "\n",
    "- 어떤 열이 있고, 몇 개의 값들을 갖는지, 데이터 형식은 어떠한 지 확인합니다."
   ]
  },
  {
   "cell_type": "code",
   "execution_count": 10,
   "metadata": {
    "id": "1YeG0s8p0Kcg"
   },
   "outputs": [
    {
     "name": "stdout",
     "output_type": "stream",
     "text": [
      "<class 'pandas.core.frame.DataFrame'>\n",
      "RangeIndex: 187 entries, 0 to 186\n",
      "Data columns (total 14 columns):\n",
      " #   Column   Non-Null Count  Dtype \n",
      "---  ------   --------------  ----- \n",
      " 0   지역1      187 non-null    object\n",
      " 1   지역2      187 non-null    object\n",
      " 2   2020-08  187 non-null    int64 \n",
      " 3   2020-09  187 non-null    int64 \n",
      " 4   2020-10  187 non-null    int64 \n",
      " 5   2020-11  187 non-null    int64 \n",
      " 6   2020-12  187 non-null    int64 \n",
      " 7   2021-01  187 non-null    int64 \n",
      " 8   2021-02  187 non-null    int64 \n",
      " 9   2021-03  187 non-null    int64 \n",
      " 10  2021-04  187 non-null    int64 \n",
      " 11  2021-05  187 non-null    int64 \n",
      " 12  2021-06  187 non-null    int64 \n",
      " 13  2021-07  187 non-null    int64 \n",
      "dtypes: int64(12), object(2)\n",
      "memory usage: 20.6+ KB\n"
     ]
    }
   ],
   "source": [
    "# 열 정보 확인\n",
    "apart.info()"
   ]
  },
  {
   "cell_type": "markdown",
   "metadata": {
    "id": "etPLyqBrXLY0"
   },
   "source": [
    "**3) 결측치 확인**\n",
    "\n",
    "- 결측치가 있는 지 확인합니다."
   ]
  },
  {
   "cell_type": "code",
   "execution_count": 11,
   "metadata": {
    "id": "JNjUwfhwXPjq"
   },
   "outputs": [
    {
     "data": {
      "text/plain": [
       "지역1        0\n",
       "지역2        0\n",
       "2020-08    0\n",
       "2020-09    0\n",
       "2020-10    0\n",
       "2020-11    0\n",
       "2020-12    0\n",
       "2021-01    0\n",
       "2021-02    0\n",
       "2021-03    0\n",
       "2021-04    0\n",
       "2021-05    0\n",
       "2021-06    0\n",
       "2021-07    0\n",
       "dtype: int64"
      ]
     },
     "execution_count": 11,
     "metadata": {},
     "output_type": "execute_result"
    }
   ],
   "source": [
    "# 결측치 확인\n",
    "apart.isna().sum()"
   ]
  },
  {
   "cell_type": "markdown",
   "metadata": {
    "id": "etPLyqBrXLY0"
   },
   "source": [
    "**4) 기초통계정보 확인**\n",
    "\n",
    "- 기초통계정보를 확인합니다."
   ]
  },
  {
   "cell_type": "code",
   "execution_count": 23,
   "metadata": {
    "colab": {
     "base_uri": "https://localhost:8080/"
    },
    "executionInfo": {
     "elapsed": 19,
     "status": "ok",
     "timestamp": 1639813493215,
     "user": {
      "displayName": "Jangrae Lee",
      "photoUrl": "https://lh3.googleusercontent.com/a-/AOh14Gh1Pd8OuWJU2cv7uTt-fURrgvty7atx_Wtarmx0-A=s64",
      "userId": "08475661575434032088"
     },
     "user_tz": -540
    },
    "id": "JNjUwfhwXPjq",
    "outputId": "4ef8177e-a174-491d-b230-8be961cc9eaa",
    "scrolled": true
   },
   "outputs": [
    {
     "data": {
      "text/html": [
       "<div>\n",
       "<style scoped>\n",
       "    .dataframe tbody tr th:only-of-type {\n",
       "        vertical-align: middle;\n",
       "    }\n",
       "\n",
       "    .dataframe tbody tr th {\n",
       "        vertical-align: top;\n",
       "    }\n",
       "\n",
       "    .dataframe thead th {\n",
       "        text-align: right;\n",
       "    }\n",
       "</style>\n",
       "<table border=\"1\" class=\"dataframe\">\n",
       "  <thead>\n",
       "    <tr style=\"text-align: right;\">\n",
       "      <th></th>\n",
       "      <th>2020-08</th>\n",
       "      <th>2020-09</th>\n",
       "      <th>2020-10</th>\n",
       "      <th>2020-11</th>\n",
       "      <th>2020-12</th>\n",
       "      <th>2021-01</th>\n",
       "      <th>2021-02</th>\n",
       "      <th>2021-03</th>\n",
       "      <th>2021-04</th>\n",
       "      <th>2021-05</th>\n",
       "      <th>2021-06</th>\n",
       "      <th>2021-07</th>\n",
       "    </tr>\n",
       "  </thead>\n",
       "  <tbody>\n",
       "    <tr>\n",
       "      <th>count</th>\n",
       "      <td>1.870000e+02</td>\n",
       "      <td>1.870000e+02</td>\n",
       "      <td>1.870000e+02</td>\n",
       "      <td>1.870000e+02</td>\n",
       "      <td>1.870000e+02</td>\n",
       "      <td>1.870000e+02</td>\n",
       "      <td>1.870000e+02</td>\n",
       "      <td>1.870000e+02</td>\n",
       "      <td>1.870000e+02</td>\n",
       "      <td>1.870000e+02</td>\n",
       "      <td>1.870000e+02</td>\n",
       "      <td>1.870000e+02</td>\n",
       "    </tr>\n",
       "    <tr>\n",
       "      <th>mean</th>\n",
       "      <td>3.429660e+05</td>\n",
       "      <td>3.456397e+05</td>\n",
       "      <td>3.478531e+05</td>\n",
       "      <td>3.492826e+05</td>\n",
       "      <td>3.518816e+05</td>\n",
       "      <td>3.563870e+05</td>\n",
       "      <td>3.603933e+05</td>\n",
       "      <td>3.653163e+05</td>\n",
       "      <td>3.688655e+05</td>\n",
       "      <td>3.723293e+05</td>\n",
       "      <td>3.757256e+05</td>\n",
       "      <td>3.816681e+05</td>\n",
       "    </tr>\n",
       "    <tr>\n",
       "      <th>std</th>\n",
       "      <td>2.835917e+05</td>\n",
       "      <td>2.855867e+05</td>\n",
       "      <td>2.868470e+05</td>\n",
       "      <td>2.873621e+05</td>\n",
       "      <td>2.880428e+05</td>\n",
       "      <td>2.892677e+05</td>\n",
       "      <td>2.912634e+05</td>\n",
       "      <td>2.942345e+05</td>\n",
       "      <td>2.956551e+05</td>\n",
       "      <td>2.972473e+05</td>\n",
       "      <td>2.991623e+05</td>\n",
       "      <td>3.030026e+05</td>\n",
       "    </tr>\n",
       "    <tr>\n",
       "      <th>min</th>\n",
       "      <td>7.837500e+04</td>\n",
       "      <td>7.837500e+04</td>\n",
       "      <td>7.818800e+04</td>\n",
       "      <td>7.820800e+04</td>\n",
       "      <td>7.825000e+04</td>\n",
       "      <td>7.814600e+04</td>\n",
       "      <td>7.812500e+04</td>\n",
       "      <td>7.818800e+04</td>\n",
       "      <td>7.831300e+04</td>\n",
       "      <td>7.812500e+04</td>\n",
       "      <td>7.820800e+04</td>\n",
       "      <td>7.833300e+04</td>\n",
       "    </tr>\n",
       "    <tr>\n",
       "      <th>25%</th>\n",
       "      <td>1.618390e+05</td>\n",
       "      <td>1.626765e+05</td>\n",
       "      <td>1.633895e+05</td>\n",
       "      <td>1.635535e+05</td>\n",
       "      <td>1.632735e+05</td>\n",
       "      <td>1.637785e+05</td>\n",
       "      <td>1.641690e+05</td>\n",
       "      <td>1.663785e+05</td>\n",
       "      <td>1.683925e+05</td>\n",
       "      <td>1.702530e+05</td>\n",
       "      <td>1.719605e+05</td>\n",
       "      <td>1.744370e+05</td>\n",
       "    </tr>\n",
       "    <tr>\n",
       "      <th>50%</th>\n",
       "      <td>2.469320e+05</td>\n",
       "      <td>2.493830e+05</td>\n",
       "      <td>2.500550e+05</td>\n",
       "      <td>2.523670e+05</td>\n",
       "      <td>2.529710e+05</td>\n",
       "      <td>2.557350e+05</td>\n",
       "      <td>2.577230e+05</td>\n",
       "      <td>2.612110e+05</td>\n",
       "      <td>2.661170e+05</td>\n",
       "      <td>2.703280e+05</td>\n",
       "      <td>2.763280e+05</td>\n",
       "      <td>2.807330e+05</td>\n",
       "    </tr>\n",
       "    <tr>\n",
       "      <th>75%</th>\n",
       "      <td>4.236115e+05</td>\n",
       "      <td>4.269300e+05</td>\n",
       "      <td>4.318980e+05</td>\n",
       "      <td>4.385925e+05</td>\n",
       "      <td>4.446290e+05</td>\n",
       "      <td>4.549485e+05</td>\n",
       "      <td>4.633750e+05</td>\n",
       "      <td>4.712285e+05</td>\n",
       "      <td>4.768195e+05</td>\n",
       "      <td>4.827720e+05</td>\n",
       "      <td>4.873345e+05</td>\n",
       "      <td>4.946470e+05</td>\n",
       "    </tr>\n",
       "    <tr>\n",
       "      <th>max</th>\n",
       "      <td>1.751014e+06</td>\n",
       "      <td>1.757795e+06</td>\n",
       "      <td>1.759164e+06</td>\n",
       "      <td>1.759747e+06</td>\n",
       "      <td>1.761322e+06</td>\n",
       "      <td>1.771322e+06</td>\n",
       "      <td>1.783411e+06</td>\n",
       "      <td>1.797521e+06</td>\n",
       "      <td>1.807781e+06</td>\n",
       "      <td>1.818192e+06</td>\n",
       "      <td>1.834199e+06</td>\n",
       "      <td>1.873390e+06</td>\n",
       "    </tr>\n",
       "  </tbody>\n",
       "</table>\n",
       "</div>"
      ],
      "text/plain": [
       "            2020-08       2020-09       2020-10       2020-11       2020-12  \\\n",
       "count  1.870000e+02  1.870000e+02  1.870000e+02  1.870000e+02  1.870000e+02   \n",
       "mean   3.429660e+05  3.456397e+05  3.478531e+05  3.492826e+05  3.518816e+05   \n",
       "std    2.835917e+05  2.855867e+05  2.868470e+05  2.873621e+05  2.880428e+05   \n",
       "min    7.837500e+04  7.837500e+04  7.818800e+04  7.820800e+04  7.825000e+04   \n",
       "25%    1.618390e+05  1.626765e+05  1.633895e+05  1.635535e+05  1.632735e+05   \n",
       "50%    2.469320e+05  2.493830e+05  2.500550e+05  2.523670e+05  2.529710e+05   \n",
       "75%    4.236115e+05  4.269300e+05  4.318980e+05  4.385925e+05  4.446290e+05   \n",
       "max    1.751014e+06  1.757795e+06  1.759164e+06  1.759747e+06  1.761322e+06   \n",
       "\n",
       "            2021-01       2021-02       2021-03       2021-04       2021-05  \\\n",
       "count  1.870000e+02  1.870000e+02  1.870000e+02  1.870000e+02  1.870000e+02   \n",
       "mean   3.563870e+05  3.603933e+05  3.653163e+05  3.688655e+05  3.723293e+05   \n",
       "std    2.892677e+05  2.912634e+05  2.942345e+05  2.956551e+05  2.972473e+05   \n",
       "min    7.814600e+04  7.812500e+04  7.818800e+04  7.831300e+04  7.812500e+04   \n",
       "25%    1.637785e+05  1.641690e+05  1.663785e+05  1.683925e+05  1.702530e+05   \n",
       "50%    2.557350e+05  2.577230e+05  2.612110e+05  2.661170e+05  2.703280e+05   \n",
       "75%    4.549485e+05  4.633750e+05  4.712285e+05  4.768195e+05  4.827720e+05   \n",
       "max    1.771322e+06  1.783411e+06  1.797521e+06  1.807781e+06  1.818192e+06   \n",
       "\n",
       "            2021-06       2021-07  \n",
       "count  1.870000e+02  1.870000e+02  \n",
       "mean   3.757256e+05  3.816681e+05  \n",
       "std    2.991623e+05  3.030026e+05  \n",
       "min    7.820800e+04  7.833300e+04  \n",
       "25%    1.719605e+05  1.744370e+05  \n",
       "50%    2.763280e+05  2.807330e+05  \n",
       "75%    4.873345e+05  4.946470e+05  \n",
       "max    1.834199e+06  1.873390e+06  "
      ]
     },
     "execution_count": 23,
     "metadata": {},
     "output_type": "execute_result"
    }
   ],
   "source": [
    "# 기초통계정보 확인\n",
    "apart.describe()"
   ]
  },
  {
   "cell_type": "markdown",
   "metadata": {
    "id": "etPLyqBrXLY0"
   },
   "source": [
    "**5) 기초통계정보 확인**\n",
    "\n",
    "- 지수법을 생략하여 기초통계정보를 확인합니다."
   ]
  },
  {
   "cell_type": "markdown",
   "metadata": {},
   "source": [
    "# 기초통계정보 확인\n",
    "print(apart.describe().apply(lambda x : x.apply('{:,.2f}'.format)))"
   ]
  },
  {
   "cell_type": "markdown",
   "metadata": {
    "id": "YNUv-USzuLiW"
   },
   "source": [
    "## 3.데이터 전처리\n",
    "전처리 과정에서 다음과 같은 처리를 할 수 있습니다.\n",
    "\n",
    "- 결측치 처리\n",
    "- 값 변경\n",
    "- 열 추가\n",
    "- 불필요한 열 제거\n",
    "- 열 이름 변경\n",
    "- 데이터 통합(연결 또는 조인)\n",
    "- 가변수화 등"
   ]
  },
  {
   "cell_type": "markdown",
   "metadata": {
    "id": "eIFnXi_b0Kcy"
   },
   "source": [
    "**1) 열 이름 변경**\n",
    "\n",
    "- 지역1, 지역2 열 이름을 각각 '시도', '구군'으로 변경합니다."
   ]
  },
  {
   "cell_type": "code",
   "execution_count": 103,
   "metadata": {
    "id": "lg7oeEFuXzam"
   },
   "outputs": [
    {
     "data": {
      "text/plain": [
       "Index(['시도', '구군', '2020-08', '2020-09', '2020-10', '2020-11', '2020-12',\n",
       "       '2021-01', '2021-02', '2021-03', '2021-04', '2021-05', '2021-06',\n",
       "       '2021-07'],\n",
       "      dtype='object')"
      ]
     },
     "execution_count": 103,
     "metadata": {},
     "output_type": "execute_result"
    }
   ],
   "source": [
    "# 열 이름 변경\n",
    "apart.rename(columns = {'지역1': '시도',\n",
    "                        '지역2': '구군'}, inplace = True)\n",
    "# 확인\n",
    "apart.columns"
   ]
  },
  {
   "cell_type": "markdown",
   "metadata": {
    "id": "JqEsMLNpYMcx"
   },
   "source": [
    "**2) 열 추가**\n",
    "\n",
    "- 다음 공식을 사용해 '증가액', '증가율' 열을 추가합니다.\n",
    "\n",
    "    - 중가액: 2021년 7월 가격 - 2020년 8월 가격\n",
    "    - 증가율: (2021년 7월 가격 - 2020년 8월 가격) * 100 / 2020년 8월 가격"
   ]
  },
  {
   "cell_type": "code",
   "execution_count": 104,
   "metadata": {
    "id": "jnp3AuOoYKJK"
   },
   "outputs": [
    {
     "data": {
      "text/html": [
       "<div>\n",
       "<style scoped>\n",
       "    .dataframe tbody tr th:only-of-type {\n",
       "        vertical-align: middle;\n",
       "    }\n",
       "\n",
       "    .dataframe tbody tr th {\n",
       "        vertical-align: top;\n",
       "    }\n",
       "\n",
       "    .dataframe thead th {\n",
       "        text-align: right;\n",
       "    }\n",
       "</style>\n",
       "<table border=\"1\" class=\"dataframe\">\n",
       "  <thead>\n",
       "    <tr style=\"text-align: right;\">\n",
       "      <th></th>\n",
       "      <th>시도</th>\n",
       "      <th>구군</th>\n",
       "      <th>2020-08</th>\n",
       "      <th>2020-09</th>\n",
       "      <th>2020-10</th>\n",
       "      <th>2020-11</th>\n",
       "      <th>2020-12</th>\n",
       "      <th>2021-01</th>\n",
       "      <th>2021-02</th>\n",
       "      <th>2021-03</th>\n",
       "      <th>2021-04</th>\n",
       "      <th>2021-05</th>\n",
       "      <th>2021-06</th>\n",
       "      <th>2021-07</th>\n",
       "      <th>증가액</th>\n",
       "      <th>증가율</th>\n",
       "    </tr>\n",
       "  </thead>\n",
       "  <tbody>\n",
       "    <tr>\n",
       "      <th>0</th>\n",
       "      <td>서울</td>\n",
       "      <td>종로구</td>\n",
       "      <td>1029542</td>\n",
       "      <td>1033625</td>\n",
       "      <td>1036486</td>\n",
       "      <td>1036681</td>\n",
       "      <td>1037986</td>\n",
       "      <td>1039903</td>\n",
       "      <td>1041444</td>\n",
       "      <td>1044347</td>\n",
       "      <td>1045819</td>\n",
       "      <td>1047819</td>\n",
       "      <td>1048722</td>\n",
       "      <td>1050750</td>\n",
       "      <td>21208</td>\n",
       "      <td>2.059945</td>\n",
       "    </tr>\n",
       "    <tr>\n",
       "      <th>1</th>\n",
       "      <td>서울</td>\n",
       "      <td>중구</td>\n",
       "      <td>802257</td>\n",
       "      <td>806143</td>\n",
       "      <td>807771</td>\n",
       "      <td>808743</td>\n",
       "      <td>809900</td>\n",
       "      <td>812157</td>\n",
       "      <td>814614</td>\n",
       "      <td>820100</td>\n",
       "      <td>822257</td>\n",
       "      <td>823314</td>\n",
       "      <td>824371</td>\n",
       "      <td>829486</td>\n",
       "      <td>27229</td>\n",
       "      <td>3.394050</td>\n",
       "    </tr>\n",
       "    <tr>\n",
       "      <th>2</th>\n",
       "      <td>서울</td>\n",
       "      <td>용산구</td>\n",
       "      <td>1399354</td>\n",
       "      <td>1406439</td>\n",
       "      <td>1411232</td>\n",
       "      <td>1412659</td>\n",
       "      <td>1413768</td>\n",
       "      <td>1416951</td>\n",
       "      <td>1421012</td>\n",
       "      <td>1427366</td>\n",
       "      <td>1430780</td>\n",
       "      <td>1434768</td>\n",
       "      <td>1439390</td>\n",
       "      <td>1445073</td>\n",
       "      <td>45719</td>\n",
       "      <td>3.267150</td>\n",
       "    </tr>\n",
       "    <tr>\n",
       "      <th>3</th>\n",
       "      <td>서울</td>\n",
       "      <td>성동구</td>\n",
       "      <td>910716</td>\n",
       "      <td>916402</td>\n",
       "      <td>918667</td>\n",
       "      <td>920020</td>\n",
       "      <td>921108</td>\n",
       "      <td>923402</td>\n",
       "      <td>927029</td>\n",
       "      <td>934049</td>\n",
       "      <td>938029</td>\n",
       "      <td>940000</td>\n",
       "      <td>942235</td>\n",
       "      <td>947157</td>\n",
       "      <td>36441</td>\n",
       "      <td>4.001357</td>\n",
       "    </tr>\n",
       "    <tr>\n",
       "      <th>4</th>\n",
       "      <td>서울</td>\n",
       "      <td>광진구</td>\n",
       "      <td>1021037</td>\n",
       "      <td>1025866</td>\n",
       "      <td>1029256</td>\n",
       "      <td>1030878</td>\n",
       "      <td>1032220</td>\n",
       "      <td>1034524</td>\n",
       "      <td>1038378</td>\n",
       "      <td>1047439</td>\n",
       "      <td>1053024</td>\n",
       "      <td>1056524</td>\n",
       "      <td>1059476</td>\n",
       "      <td>1063805</td>\n",
       "      <td>42768</td>\n",
       "      <td>4.188683</td>\n",
       "    </tr>\n",
       "    <tr>\n",
       "      <th>5</th>\n",
       "      <td>서울</td>\n",
       "      <td>동대문구</td>\n",
       "      <td>665679</td>\n",
       "      <td>669858</td>\n",
       "      <td>673406</td>\n",
       "      <td>674415</td>\n",
       "      <td>675151</td>\n",
       "      <td>677453</td>\n",
       "      <td>680226</td>\n",
       "      <td>686179</td>\n",
       "      <td>689066</td>\n",
       "      <td>691019</td>\n",
       "      <td>692849</td>\n",
       "      <td>695896</td>\n",
       "      <td>30217</td>\n",
       "      <td>4.539275</td>\n",
       "    </tr>\n",
       "    <tr>\n",
       "      <th>6</th>\n",
       "      <td>서울</td>\n",
       "      <td>중랑구</td>\n",
       "      <td>458202</td>\n",
       "      <td>461213</td>\n",
       "      <td>463415</td>\n",
       "      <td>464234</td>\n",
       "      <td>465032</td>\n",
       "      <td>465979</td>\n",
       "      <td>467638</td>\n",
       "      <td>469957</td>\n",
       "      <td>471404</td>\n",
       "      <td>472968</td>\n",
       "      <td>474011</td>\n",
       "      <td>476457</td>\n",
       "      <td>18255</td>\n",
       "      <td>3.984051</td>\n",
       "    </tr>\n",
       "    <tr>\n",
       "      <th>7</th>\n",
       "      <td>서울</td>\n",
       "      <td>성북구</td>\n",
       "      <td>597393</td>\n",
       "      <td>601402</td>\n",
       "      <td>603741</td>\n",
       "      <td>604429</td>\n",
       "      <td>605696</td>\n",
       "      <td>607089</td>\n",
       "      <td>608661</td>\n",
       "      <td>611143</td>\n",
       "      <td>613348</td>\n",
       "      <td>615545</td>\n",
       "      <td>617679</td>\n",
       "      <td>622402</td>\n",
       "      <td>25009</td>\n",
       "      <td>4.186356</td>\n",
       "    </tr>\n",
       "    <tr>\n",
       "      <th>8</th>\n",
       "      <td>서울</td>\n",
       "      <td>강북구</td>\n",
       "      <td>508569</td>\n",
       "      <td>512236</td>\n",
       "      <td>513611</td>\n",
       "      <td>514361</td>\n",
       "      <td>514944</td>\n",
       "      <td>516681</td>\n",
       "      <td>518278</td>\n",
       "      <td>522319</td>\n",
       "      <td>523861</td>\n",
       "      <td>525222</td>\n",
       "      <td>526583</td>\n",
       "      <td>530847</td>\n",
       "      <td>22278</td>\n",
       "      <td>4.380527</td>\n",
       "    </tr>\n",
       "    <tr>\n",
       "      <th>9</th>\n",
       "      <td>서울</td>\n",
       "      <td>도봉구</td>\n",
       "      <td>432455</td>\n",
       "      <td>435491</td>\n",
       "      <td>436295</td>\n",
       "      <td>436875</td>\n",
       "      <td>437402</td>\n",
       "      <td>438554</td>\n",
       "      <td>440214</td>\n",
       "      <td>443920</td>\n",
       "      <td>447009</td>\n",
       "      <td>448964</td>\n",
       "      <td>451598</td>\n",
       "      <td>455955</td>\n",
       "      <td>23500</td>\n",
       "      <td>5.434091</td>\n",
       "    </tr>\n",
       "  </tbody>\n",
       "</table>\n",
       "</div>"
      ],
      "text/plain": [
       "   시도    구군  2020-08  2020-09  2020-10  2020-11  2020-12  2021-01  2021-02  \\\n",
       "0  서울   종로구  1029542  1033625  1036486  1036681  1037986  1039903  1041444   \n",
       "1  서울    중구   802257   806143   807771   808743   809900   812157   814614   \n",
       "2  서울   용산구  1399354  1406439  1411232  1412659  1413768  1416951  1421012   \n",
       "3  서울   성동구   910716   916402   918667   920020   921108   923402   927029   \n",
       "4  서울   광진구  1021037  1025866  1029256  1030878  1032220  1034524  1038378   \n",
       "5  서울  동대문구   665679   669858   673406   674415   675151   677453   680226   \n",
       "6  서울   중랑구   458202   461213   463415   464234   465032   465979   467638   \n",
       "7  서울   성북구   597393   601402   603741   604429   605696   607089   608661   \n",
       "8  서울   강북구   508569   512236   513611   514361   514944   516681   518278   \n",
       "9  서울   도봉구   432455   435491   436295   436875   437402   438554   440214   \n",
       "\n",
       "   2021-03  2021-04  2021-05  2021-06  2021-07    증가액       증가율  \n",
       "0  1044347  1045819  1047819  1048722  1050750  21208  2.059945  \n",
       "1   820100   822257   823314   824371   829486  27229  3.394050  \n",
       "2  1427366  1430780  1434768  1439390  1445073  45719  3.267150  \n",
       "3   934049   938029   940000   942235   947157  36441  4.001357  \n",
       "4  1047439  1053024  1056524  1059476  1063805  42768  4.188683  \n",
       "5   686179   689066   691019   692849   695896  30217  4.539275  \n",
       "6   469957   471404   472968   474011   476457  18255  3.984051  \n",
       "7   611143   613348   615545   617679   622402  25009  4.186356  \n",
       "8   522319   523861   525222   526583   530847  22278  4.380527  \n",
       "9   443920   447009   448964   451598   455955  23500  5.434091  "
      ]
     },
     "execution_count": 104,
     "metadata": {},
     "output_type": "execute_result"
    }
   ],
   "source": [
    "# 연간 증가액\n",
    "apart['증가액'] = apart['2021-07'] - apart['2020-08']\n",
    "\n",
    "# 연간 증가율\n",
    "apart['증가율'] = apart['증가액'] * 100 / apart['2020-08']\n",
    "\n",
    "# 확인\n",
    "apart.head(10)"
   ]
  },
  {
   "cell_type": "markdown",
   "metadata": {
    "id": "tJXf7lyZr0SV"
   },
   "source": [
    "**3) 불필요한 열 제거**\n",
    "\n",
    "- 시도, 구군, 증가액, 증가율 열만 추출하여 apart2 데이터프레임을 선언합니다.\n",
    "- 이후 모든 작업은 apart2 데이터프레임을 대상으로 합니다."
   ]
  },
  {
   "cell_type": "code",
   "execution_count": 105,
   "metadata": {
    "id": "Q0T85iQAZ_Ye"
   },
   "outputs": [
    {
     "data": {
      "text/html": [
       "<div>\n",
       "<style scoped>\n",
       "    .dataframe tbody tr th:only-of-type {\n",
       "        vertical-align: middle;\n",
       "    }\n",
       "\n",
       "    .dataframe tbody tr th {\n",
       "        vertical-align: top;\n",
       "    }\n",
       "\n",
       "    .dataframe thead th {\n",
       "        text-align: right;\n",
       "    }\n",
       "</style>\n",
       "<table border=\"1\" class=\"dataframe\">\n",
       "  <thead>\n",
       "    <tr style=\"text-align: right;\">\n",
       "      <th></th>\n",
       "      <th>시도</th>\n",
       "      <th>구군</th>\n",
       "      <th>증가액</th>\n",
       "      <th>증가율</th>\n",
       "    </tr>\n",
       "  </thead>\n",
       "  <tbody>\n",
       "    <tr>\n",
       "      <th>0</th>\n",
       "      <td>서울</td>\n",
       "      <td>종로구</td>\n",
       "      <td>21208</td>\n",
       "      <td>2.059945</td>\n",
       "    </tr>\n",
       "    <tr>\n",
       "      <th>1</th>\n",
       "      <td>서울</td>\n",
       "      <td>중구</td>\n",
       "      <td>27229</td>\n",
       "      <td>3.394050</td>\n",
       "    </tr>\n",
       "    <tr>\n",
       "      <th>2</th>\n",
       "      <td>서울</td>\n",
       "      <td>용산구</td>\n",
       "      <td>45719</td>\n",
       "      <td>3.267150</td>\n",
       "    </tr>\n",
       "    <tr>\n",
       "      <th>3</th>\n",
       "      <td>서울</td>\n",
       "      <td>성동구</td>\n",
       "      <td>36441</td>\n",
       "      <td>4.001357</td>\n",
       "    </tr>\n",
       "    <tr>\n",
       "      <th>4</th>\n",
       "      <td>서울</td>\n",
       "      <td>광진구</td>\n",
       "      <td>42768</td>\n",
       "      <td>4.188683</td>\n",
       "    </tr>\n",
       "  </tbody>\n",
       "</table>\n",
       "</div>"
      ],
      "text/plain": [
       "   시도   구군    증가액       증가율\n",
       "0  서울  종로구  21208  2.059945\n",
       "1  서울   중구  27229  3.394050\n",
       "2  서울  용산구  45719  3.267150\n",
       "3  서울  성동구  36441  4.001357\n",
       "4  서울  광진구  42768  4.188683"
      ]
     },
     "execution_count": 105,
     "metadata": {},
     "output_type": "execute_result"
    }
   ],
   "source": [
    "# 분석 대상 열 지정\n",
    "apart2 = apart[['시도','구군','증가액','증가율']]\n",
    "\n",
    "# 확인\n",
    "apart2.head()"
   ]
  },
  {
   "cell_type": "markdown",
   "metadata": {
    "id": "gAYdREQRrqyC"
   },
   "source": [
    "## 4.데이터 분석\n",
    "\n",
    "- 데이터를 집계하고 간단히 시각화하여 분석합니다.\n",
    "- 연속형 값은 선 그래프, 범주형 값은 막대 그래프로 시각화함이 일반적입니다."
   ]
  },
  {
   "cell_type": "markdown",
   "metadata": {
    "id": "qhlQ77OmKeTp"
   },
   "source": [
    "### 4.1.전국 분석"
   ]
  },
  {
   "cell_type": "markdown",
   "metadata": {
    "id": "EejrutyKKjLO"
   },
   "source": [
    "**1) 가격 변동 현황**\n",
    "\n",
    "- 구군의 아파트 매매가 증가액을 막대 그래프로 시각화해 확인합니다."
   ]
  },
  {
   "cell_type": "code",
   "execution_count": 106,
   "metadata": {
    "id": "w3IYrva6t9BV"
   },
   "outputs": [
    {
     "data": {
      "image/png": "[encoded data removed]",
      "text/plain": [
       "<Figure size 432x288 with 1 Axes>"
      ]
     },
     "metadata": {
      "image/png": {
       "height": 264,
       "width": 393
      },
      "needs_background": "light"
     },
     "output_type": "display_data"
    }
   ],
   "source": [
    "# 차트 그리기\n",
    "plt.title('아파트 증가액')\n",
    "plt.bar(x = apart['구군'], height = apart['증가액'])\n",
    "plt.show()"
   ]
  },
  {
   "cell_type": "markdown",
   "metadata": {
    "id": "4DNG6jQ9LUnl"
   },
   "source": [
    "**2) 가격 변동 TOP 25**\n",
    "\n",
    "- 증가액 기준으로 상위 25개 행을 추출해 tmp 데이터프레임을 선언합니다."
   ]
  },
  {
   "cell_type": "code",
   "execution_count": 107,
   "metadata": {
    "id": "dVOBScV1Lu5x"
   },
   "outputs": [
    {
     "data": {
      "text/html": [
       "<div>\n",
       "<style scoped>\n",
       "    .dataframe tbody tr th:only-of-type {\n",
       "        vertical-align: middle;\n",
       "    }\n",
       "\n",
       "    .dataframe tbody tr th {\n",
       "        vertical-align: top;\n",
       "    }\n",
       "\n",
       "    .dataframe thead th {\n",
       "        text-align: right;\n",
       "    }\n",
       "</style>\n",
       "<table border=\"1\" class=\"dataframe\">\n",
       "  <thead>\n",
       "    <tr style=\"text-align: right;\">\n",
       "      <th></th>\n",
       "      <th>시도</th>\n",
       "      <th>구군</th>\n",
       "      <th>증가액</th>\n",
       "      <th>증가율</th>\n",
       "    </tr>\n",
       "  </thead>\n",
       "  <tbody>\n",
       "    <tr>\n",
       "      <th>0</th>\n",
       "      <td>경기</td>\n",
       "      <td>동안구</td>\n",
       "      <td>144265</td>\n",
       "      <td>25.019033</td>\n",
       "    </tr>\n",
       "    <tr>\n",
       "      <th>1</th>\n",
       "      <td>경기</td>\n",
       "      <td>의왕시</td>\n",
       "      <td>141787</td>\n",
       "      <td>28.618515</td>\n",
       "    </tr>\n",
       "    <tr>\n",
       "      <th>2</th>\n",
       "      <td>대구</td>\n",
       "      <td>수성구</td>\n",
       "      <td>132345</td>\n",
       "      <td>25.655664</td>\n",
       "    </tr>\n",
       "    <tr>\n",
       "      <th>3</th>\n",
       "      <td>부산</td>\n",
       "      <td>해운대구</td>\n",
       "      <td>123977</td>\n",
       "      <td>30.789194</td>\n",
       "    </tr>\n",
       "    <tr>\n",
       "      <th>4</th>\n",
       "      <td>서울</td>\n",
       "      <td>서초구</td>\n",
       "      <td>122376</td>\n",
       "      <td>6.988865</td>\n",
       "    </tr>\n",
       "    <tr>\n",
       "      <th>5</th>\n",
       "      <td>경기</td>\n",
       "      <td>안양시</td>\n",
       "      <td>120878</td>\n",
       "      <td>22.304477</td>\n",
       "    </tr>\n",
       "    <tr>\n",
       "      <th>6</th>\n",
       "      <td>경기</td>\n",
       "      <td>과천시</td>\n",
       "      <td>108063</td>\n",
       "      <td>8.575013</td>\n",
       "    </tr>\n",
       "    <tr>\n",
       "      <th>7</th>\n",
       "      <td>인천</td>\n",
       "      <td>연수구</td>\n",
       "      <td>107033</td>\n",
       "      <td>23.328647</td>\n",
       "    </tr>\n",
       "    <tr>\n",
       "      <th>8</th>\n",
       "      <td>경기</td>\n",
       "      <td>분당구</td>\n",
       "      <td>104115</td>\n",
       "      <td>11.234421</td>\n",
       "    </tr>\n",
       "    <tr>\n",
       "      <th>9</th>\n",
       "      <td>경기</td>\n",
       "      <td>덕양구</td>\n",
       "      <td>101934</td>\n",
       "      <td>26.441543</td>\n",
       "    </tr>\n",
       "    <tr>\n",
       "      <th>10</th>\n",
       "      <td>경기</td>\n",
       "      <td>수정구</td>\n",
       "      <td>100357</td>\n",
       "      <td>11.162002</td>\n",
       "    </tr>\n",
       "    <tr>\n",
       "      <th>11</th>\n",
       "      <td>대전</td>\n",
       "      <td>유성구</td>\n",
       "      <td>99153</td>\n",
       "      <td>23.851540</td>\n",
       "    </tr>\n",
       "    <tr>\n",
       "      <th>12</th>\n",
       "      <td>경기</td>\n",
       "      <td>성남시</td>\n",
       "      <td>97866</td>\n",
       "      <td>11.557457</td>\n",
       "    </tr>\n",
       "    <tr>\n",
       "      <th>13</th>\n",
       "      <td>경기</td>\n",
       "      <td>하남시</td>\n",
       "      <td>97673</td>\n",
       "      <td>14.141202</td>\n",
       "    </tr>\n",
       "    <tr>\n",
       "      <th>14</th>\n",
       "      <td>경기</td>\n",
       "      <td>수지구</td>\n",
       "      <td>95127</td>\n",
       "      <td>15.930595</td>\n",
       "    </tr>\n",
       "    <tr>\n",
       "      <th>15</th>\n",
       "      <td>세종</td>\n",
       "      <td>세종시</td>\n",
       "      <td>90169</td>\n",
       "      <td>19.796522</td>\n",
       "    </tr>\n",
       "    <tr>\n",
       "      <th>16</th>\n",
       "      <td>서울</td>\n",
       "      <td>강남구</td>\n",
       "      <td>87274</td>\n",
       "      <td>5.040291</td>\n",
       "    </tr>\n",
       "    <tr>\n",
       "      <th>17</th>\n",
       "      <td>경기</td>\n",
       "      <td>고양시</td>\n",
       "      <td>85520</td>\n",
       "      <td>22.930196</td>\n",
       "    </tr>\n",
       "    <tr>\n",
       "      <th>18</th>\n",
       "      <td>경기</td>\n",
       "      <td>일산동구</td>\n",
       "      <td>83863</td>\n",
       "      <td>19.850170</td>\n",
       "    </tr>\n",
       "    <tr>\n",
       "      <th>19</th>\n",
       "      <td>경기</td>\n",
       "      <td>영통구</td>\n",
       "      <td>83472</td>\n",
       "      <td>14.617668</td>\n",
       "    </tr>\n",
       "    <tr>\n",
       "      <th>20</th>\n",
       "      <td>경기</td>\n",
       "      <td>기흥구</td>\n",
       "      <td>83123</td>\n",
       "      <td>19.370121</td>\n",
       "    </tr>\n",
       "    <tr>\n",
       "      <th>21</th>\n",
       "      <td>부산</td>\n",
       "      <td>남구</td>\n",
       "      <td>82844</td>\n",
       "      <td>23.103159</td>\n",
       "    </tr>\n",
       "    <tr>\n",
       "      <th>22</th>\n",
       "      <td>서울</td>\n",
       "      <td>송파구</td>\n",
       "      <td>81143</td>\n",
       "      <td>6.435640</td>\n",
       "    </tr>\n",
       "    <tr>\n",
       "      <th>23</th>\n",
       "      <td>경기</td>\n",
       "      <td>단원구</td>\n",
       "      <td>81010</td>\n",
       "      <td>25.371442</td>\n",
       "    </tr>\n",
       "    <tr>\n",
       "      <th>24</th>\n",
       "      <td>경기</td>\n",
       "      <td>용인시</td>\n",
       "      <td>79811</td>\n",
       "      <td>17.230428</td>\n",
       "    </tr>\n",
       "  </tbody>\n",
       "</table>\n",
       "</div>"
      ],
      "text/plain": [
       "    시도    구군     증가액        증가율\n",
       "0   경기   동안구  144265  25.019033\n",
       "1   경기   의왕시  141787  28.618515\n",
       "2   대구   수성구  132345  25.655664\n",
       "3   부산  해운대구  123977  30.789194\n",
       "4   서울   서초구  122376   6.988865\n",
       "5   경기   안양시  120878  22.304477\n",
       "6   경기   과천시  108063   8.575013\n",
       "7   인천   연수구  107033  23.328647\n",
       "8   경기   분당구  104115  11.234421\n",
       "9   경기   덕양구  101934  26.441543\n",
       "10  경기   수정구  100357  11.162002\n",
       "11  대전   유성구   99153  23.851540\n",
       "12  경기   성남시   97866  11.557457\n",
       "13  경기   하남시   97673  14.141202\n",
       "14  경기   수지구   95127  15.930595\n",
       "15  세종   세종시   90169  19.796522\n",
       "16  서울   강남구   87274   5.040291\n",
       "17  경기   고양시   85520  22.930196\n",
       "18  경기  일산동구   83863  19.850170\n",
       "19  경기   영통구   83472  14.617668\n",
       "20  경기   기흥구   83123  19.370121\n",
       "21  부산    남구   82844  23.103159\n",
       "22  서울   송파구   81143   6.435640\n",
       "23  경기   단원구   81010  25.371442\n",
       "24  경기   용인시   79811  17.230428"
      ]
     },
     "execution_count": 107,
     "metadata": {},
     "output_type": "execute_result"
    }
   ],
   "source": [
    "# 가격 변동 TOP 25\n",
    "apart_prac = apart2.sort_values(by = '증가액', ascending = False)[:25]\n",
    "tmp = apart_prac.reset_index(drop = True )\n",
    "\n",
    "# 확인\n",
    "tmp.head(25)"
   ]
  },
  {
   "cell_type": "markdown",
   "metadata": {
    "id": "rhbqCNaMqRIG"
   },
   "source": [
    "- tmp 데이터프레임을 대상으로 구군별 매매가 증가액을 막대 그래프로 시각화해 확인합니다."
   ]
  },
  {
   "cell_type": "code",
   "execution_count": null,
   "metadata": {},
   "outputs": [],
   "source": [
    "plt.figure(figsize=(10,5))\n",
    "plt.title('구군 매매 평균가 증가율 TOP 25', size = 20, pad = 15)\n",
    "plt.xticks(rotation=70) # 축 값 회전\n",
    "# plt.ticklabel_format(axis = 'y', style ='plain')\n",
    "plt.xlabel('<구군>')\n",
    "plt.ylabel('<증가액>')"
   ]
  },
  {
   "cell_type": "code",
   "execution_count": 95,
   "metadata": {
    "id": "9UB59HvXJqoc"
   },
   "outputs": [
    {
     "data": {
      "image/png": "[encoded data removed]",
      "text/plain": [
       "<Figure size 720x360 with 1 Axes>"
      ]
     },
     "metadata": {
      "image/png": {
       "height": 378,
       "width": 626
      },
      "needs_background": "light"
     },
     "output_type": "display_data"
    }
   ],
   "source": [
    "# 차트 그리기\n",
    "plt.figure(figsize=(10,5))\n",
    "plt.bar(tmp['구군'],tmp['증가액'])\n",
    "plt.title('구군 매매 평균가 증가율 TOP 25', size = 20, pad = 15) # pad = 제목과 본그래프와의 간격\n",
    "plt.xticks(rotation=70) # 축 값 회전\n",
    "# plt.ticklabel_format(axis = 'y', style ='plain')\n",
    "plt.xlabel('<구군>')\n",
    "plt.ylabel('<증가액>')\n",
    "plt.show()\n"
   ]
  },
  {
   "cell_type": "code",
   "execution_count": null,
   "metadata": {},
   "outputs": [],
   "source": []
  },
  {
   "cell_type": "markdown",
   "metadata": {
    "id": "DXKRXtE3fqOa"
   },
   "source": [
    "**3) 가격 변동 BOTTOM 25**\n",
    "\n",
    "- 증가액 기준으로 하위 25개 행을 추출해 tmp 데이터프레임을 선언합니다."
   ]
  },
  {
   "cell_type": "code",
   "execution_count": 88,
   "metadata": {
    "id": "GnO6iyHrfqOu"
   },
   "outputs": [
    {
     "data": {
      "text/html": [
       "<div>\n",
       "<style scoped>\n",
       "    .dataframe tbody tr th:only-of-type {\n",
       "        vertical-align: middle;\n",
       "    }\n",
       "\n",
       "    .dataframe tbody tr th {\n",
       "        vertical-align: top;\n",
       "    }\n",
       "\n",
       "    .dataframe thead th {\n",
       "        text-align: right;\n",
       "    }\n",
       "</style>\n",
       "<table border=\"1\" class=\"dataframe\">\n",
       "  <thead>\n",
       "    <tr style=\"text-align: right;\">\n",
       "      <th></th>\n",
       "      <th>시도</th>\n",
       "      <th>구군</th>\n",
       "      <th>증가액</th>\n",
       "      <th>증가율</th>\n",
       "    </tr>\n",
       "  </thead>\n",
       "  <tbody>\n",
       "    <tr>\n",
       "      <th>0</th>\n",
       "      <td>충남</td>\n",
       "      <td>서산시</td>\n",
       "      <td>7133</td>\n",
       "      <td>4.849808</td>\n",
       "    </tr>\n",
       "    <tr>\n",
       "      <th>1</th>\n",
       "      <td>강원</td>\n",
       "      <td>속초시</td>\n",
       "      <td>6652</td>\n",
       "      <td>4.845465</td>\n",
       "    </tr>\n",
       "    <tr>\n",
       "      <th>2</th>\n",
       "      <td>전북</td>\n",
       "      <td>군산시</td>\n",
       "      <td>6152</td>\n",
       "      <td>5.388881</td>\n",
       "    </tr>\n",
       "    <tr>\n",
       "      <th>3</th>\n",
       "      <td>경남</td>\n",
       "      <td>거제시</td>\n",
       "      <td>5805</td>\n",
       "      <td>3.738552</td>\n",
       "    </tr>\n",
       "    <tr>\n",
       "      <th>4</th>\n",
       "      <td>전북</td>\n",
       "      <td>익산시</td>\n",
       "      <td>4821</td>\n",
       "      <td>3.353739</td>\n",
       "    </tr>\n",
       "    <tr>\n",
       "      <th>5</th>\n",
       "      <td>전북</td>\n",
       "      <td>정읍시</td>\n",
       "      <td>4740</td>\n",
       "      <td>4.440281</td>\n",
       "    </tr>\n",
       "    <tr>\n",
       "      <th>6</th>\n",
       "      <td>부산</td>\n",
       "      <td>영도구</td>\n",
       "      <td>4625</td>\n",
       "      <td>2.358286</td>\n",
       "    </tr>\n",
       "    <tr>\n",
       "      <th>7</th>\n",
       "      <td>경북</td>\n",
       "      <td>영주시</td>\n",
       "      <td>3444</td>\n",
       "      <td>2.937038</td>\n",
       "    </tr>\n",
       "    <tr>\n",
       "      <th>8</th>\n",
       "      <td>경기</td>\n",
       "      <td>여주시</td>\n",
       "      <td>2808</td>\n",
       "      <td>2.133333</td>\n",
       "    </tr>\n",
       "    <tr>\n",
       "      <th>9</th>\n",
       "      <td>경남</td>\n",
       "      <td>밀양시</td>\n",
       "      <td>2670</td>\n",
       "      <td>2.111423</td>\n",
       "    </tr>\n",
       "    <tr>\n",
       "      <th>10</th>\n",
       "      <td>경북</td>\n",
       "      <td>칠곡군</td>\n",
       "      <td>2620</td>\n",
       "      <td>2.517053</td>\n",
       "    </tr>\n",
       "    <tr>\n",
       "      <th>11</th>\n",
       "      <td>전북</td>\n",
       "      <td>김제시</td>\n",
       "      <td>2487</td>\n",
       "      <td>2.780697</td>\n",
       "    </tr>\n",
       "    <tr>\n",
       "      <th>12</th>\n",
       "      <td>강원</td>\n",
       "      <td>삼척시</td>\n",
       "      <td>1472</td>\n",
       "      <td>1.469546</td>\n",
       "    </tr>\n",
       "    <tr>\n",
       "      <th>13</th>\n",
       "      <td>강원</td>\n",
       "      <td>동해시</td>\n",
       "      <td>1334</td>\n",
       "      <td>1.250070</td>\n",
       "    </tr>\n",
       "    <tr>\n",
       "      <th>14</th>\n",
       "      <td>경북</td>\n",
       "      <td>상주시</td>\n",
       "      <td>677</td>\n",
       "      <td>0.501864</td>\n",
       "    </tr>\n",
       "    <tr>\n",
       "      <th>15</th>\n",
       "      <td>전북</td>\n",
       "      <td>남원시</td>\n",
       "      <td>486</td>\n",
       "      <td>0.345330</td>\n",
       "    </tr>\n",
       "    <tr>\n",
       "      <th>16</th>\n",
       "      <td>강원</td>\n",
       "      <td>태백시</td>\n",
       "      <td>-42</td>\n",
       "      <td>-0.053589</td>\n",
       "    </tr>\n",
       "    <tr>\n",
       "      <th>17</th>\n",
       "      <td>경북</td>\n",
       "      <td>영천시</td>\n",
       "      <td>-93</td>\n",
       "      <td>-0.091874</td>\n",
       "    </tr>\n",
       "    <tr>\n",
       "      <th>18</th>\n",
       "      <td>경북</td>\n",
       "      <td>문경시</td>\n",
       "      <td>-550</td>\n",
       "      <td>-0.389381</td>\n",
       "    </tr>\n",
       "    <tr>\n",
       "      <th>19</th>\n",
       "      <td>전남</td>\n",
       "      <td>나주시</td>\n",
       "      <td>-1188</td>\n",
       "      <td>-0.714629</td>\n",
       "    </tr>\n",
       "    <tr>\n",
       "      <th>20</th>\n",
       "      <td>전남</td>\n",
       "      <td>목포시</td>\n",
       "      <td>-2396</td>\n",
       "      <td>-1.624021</td>\n",
       "    </tr>\n",
       "    <tr>\n",
       "      <th>21</th>\n",
       "      <td>전남</td>\n",
       "      <td>무안군</td>\n",
       "      <td>-2588</td>\n",
       "      <td>-1.326411</td>\n",
       "    </tr>\n",
       "    <tr>\n",
       "      <th>22</th>\n",
       "      <td>부산</td>\n",
       "      <td>중구</td>\n",
       "      <td>-2645</td>\n",
       "      <td>-1.795253</td>\n",
       "    </tr>\n",
       "    <tr>\n",
       "      <th>23</th>\n",
       "      <td>경남</td>\n",
       "      <td>사천시</td>\n",
       "      <td>-3527</td>\n",
       "      <td>-2.785500</td>\n",
       "    </tr>\n",
       "    <tr>\n",
       "      <th>24</th>\n",
       "      <td>충남</td>\n",
       "      <td>당진시</td>\n",
       "      <td>-5264</td>\n",
       "      <td>-3.192857</td>\n",
       "    </tr>\n",
       "  </tbody>\n",
       "</table>\n",
       "</div>"
      ],
      "text/plain": [
       "    시도   구군   증가액       증가율\n",
       "0   충남  서산시  7133  4.849808\n",
       "1   강원  속초시  6652  4.845465\n",
       "2   전북  군산시  6152  5.388881\n",
       "3   경남  거제시  5805  3.738552\n",
       "4   전북  익산시  4821  3.353739\n",
       "5   전북  정읍시  4740  4.440281\n",
       "6   부산  영도구  4625  2.358286\n",
       "7   경북  영주시  3444  2.937038\n",
       "8   경기  여주시  2808  2.133333\n",
       "9   경남  밀양시  2670  2.111423\n",
       "10  경북  칠곡군  2620  2.517053\n",
       "11  전북  김제시  2487  2.780697\n",
       "12  강원  삼척시  1472  1.469546\n",
       "13  강원  동해시  1334  1.250070\n",
       "14  경북  상주시   677  0.501864\n",
       "15  전북  남원시   486  0.345330\n",
       "16  강원  태백시   -42 -0.053589\n",
       "17  경북  영천시   -93 -0.091874\n",
       "18  경북  문경시  -550 -0.389381\n",
       "19  전남  나주시 -1188 -0.714629\n",
       "20  전남  목포시 -2396 -1.624021\n",
       "21  전남  무안군 -2588 -1.326411\n",
       "22  부산   중구 -2645 -1.795253\n",
       "23  경남  사천시 -3527 -2.785500\n",
       "24  충남  당진시 -5264 -3.192857"
      ]
     },
     "execution_count": 88,
     "metadata": {},
     "output_type": "execute_result"
    }
   ],
   "source": [
    "# 가격 변동 BOTTOM 25\n",
    "tmp = apart2.sort_values(by = '증가액', ascending = False)[-25:]\n",
    "tmp.reset_index(drop =True, inplace = True)\n",
    "# 확인\n",
    "tmp.head(30)"
   ]
  },
  {
   "cell_type": "markdown",
   "metadata": {
    "id": "egYSZ7FNq5OE"
   },
   "source": [
    "- tmp 데이터프레임을 대상으로 구군별 매매가 증가액을 막대 그래프로 시각화해 확인합니다."
   ]
  },
  {
   "cell_type": "code",
   "execution_count": 89,
   "metadata": {
    "id": "FIGG1PLcfqOu"
   },
   "outputs": [
    {
     "data": {
      "image/png": "[encoded data removed]",
      "text/plain": [
       "<Figure size 720x360 with 1 Axes>"
      ]
     },
     "metadata": {
      "image/png": {
       "height": 324,
       "width": 605
      },
      "needs_background": "light"
     },
     "output_type": "display_data"
    }
   ],
   "source": [
    "# 차트 그리기\n",
    "plt.figure(figsize=(10,5))\n",
    "plt.bar(tmp['구군'],tmp['증가액'])\n",
    "plt.xticks(rotation=70) # 축 값 회전\n",
    "plt.show()\n"
   ]
  },
  {
   "cell_type": "markdown",
   "metadata": {
    "id": "Cpx3PVuzN9bb"
   },
   "source": [
    "### 4.2.ㅇㅇ 지역 분석"
   ]
  },
  {
   "cell_type": "markdown",
   "metadata": {
    "id": "pc5kSybgOEWu"
   },
   "source": [
    "**1) ㅇㅇ 지역 데이터 추출**\n",
    "\n",
    "- apart2 데이터프레임에서 ㅇㅇ지역 데이터만 추출해 새로운 데이터프레임을 선언합니다."
   ]
  },
  {
   "cell_type": "code",
   "execution_count": 96,
   "metadata": {
    "id": "8gAX8HqGkyOG"
   },
   "outputs": [
    {
     "data": {
      "text/html": [
       "<div>\n",
       "<style scoped>\n",
       "    .dataframe tbody tr th:only-of-type {\n",
       "        vertical-align: middle;\n",
       "    }\n",
       "\n",
       "    .dataframe tbody tr th {\n",
       "        vertical-align: top;\n",
       "    }\n",
       "\n",
       "    .dataframe thead th {\n",
       "        text-align: right;\n",
       "    }\n",
       "</style>\n",
       "<table border=\"1\" class=\"dataframe\">\n",
       "  <thead>\n",
       "    <tr style=\"text-align: right;\">\n",
       "      <th></th>\n",
       "      <th>시도</th>\n",
       "      <th>구군</th>\n",
       "      <th>증가액</th>\n",
       "      <th>증가율</th>\n",
       "    </tr>\n",
       "  </thead>\n",
       "  <tbody>\n",
       "    <tr>\n",
       "      <th>0</th>\n",
       "      <td>서울</td>\n",
       "      <td>종로구</td>\n",
       "      <td>21208</td>\n",
       "      <td>2.059945</td>\n",
       "    </tr>\n",
       "    <tr>\n",
       "      <th>1</th>\n",
       "      <td>서울</td>\n",
       "      <td>중구</td>\n",
       "      <td>27229</td>\n",
       "      <td>3.394050</td>\n",
       "    </tr>\n",
       "    <tr>\n",
       "      <th>2</th>\n",
       "      <td>서울</td>\n",
       "      <td>용산구</td>\n",
       "      <td>45719</td>\n",
       "      <td>3.267150</td>\n",
       "    </tr>\n",
       "    <tr>\n",
       "      <th>3</th>\n",
       "      <td>서울</td>\n",
       "      <td>성동구</td>\n",
       "      <td>36441</td>\n",
       "      <td>4.001357</td>\n",
       "    </tr>\n",
       "    <tr>\n",
       "      <th>4</th>\n",
       "      <td>서울</td>\n",
       "      <td>광진구</td>\n",
       "      <td>42768</td>\n",
       "      <td>4.188683</td>\n",
       "    </tr>\n",
       "  </tbody>\n",
       "</table>\n",
       "</div>"
      ],
      "text/plain": [
       "   시도   구군    증가액       증가율\n",
       "0  서울  종로구  21208  2.059945\n",
       "1  서울   중구  27229  3.394050\n",
       "2  서울  용산구  45719  3.267150\n",
       "3  서울  성동구  36441  4.001357\n",
       "4  서울  광진구  42768  4.188683"
      ]
     },
     "execution_count": 96,
     "metadata": {},
     "output_type": "execute_result"
    }
   ],
   "source": [
    "# 데이터프레임 만들기\n",
    "new_df = apart2.loc[apart2['시도'] == '서울',:]\n",
    "\n",
    "# 확인\n",
    "new_df.head()\n",
    "\n",
    "# 2019 년 집계\n",
    "# orders2019 = orders.loc[orders['year']==2019, :]\n",
    "# tmp = orders2019.groupby(by=['month'], as_index=False)[['quantity', 'amount']].sum()\n",
    "\n",
    "# # 확인\n",
    "# tmp.head()"
   ]
  },
  {
   "cell_type": "markdown",
   "metadata": {
    "id": "g1ZlK-i0QRFC"
   },
   "source": [
    "**2) ㅇㅇ 지역 가격 변동 현황**\n",
    "\n",
    "- ㅇㅇ 지역 아파트 매매가 증가액을 막대 그래프로 시각화해 확인합니다."
   ]
  },
  {
   "cell_type": "code",
   "execution_count": 97,
   "metadata": {
    "id": "suV6IuY7pJKe"
   },
   "outputs": [
    {
     "data": {
      "image/png": "[encoded data removed]",
      "text/plain": [
       "<Figure size 432x288 with 1 Axes>"
      ]
     },
     "metadata": {
      "image/png": {
       "height": 280,
       "width": 389
      },
      "needs_background": "light"
     },
     "output_type": "display_data"
    }
   ],
   "source": [
    "# ㅇㅇ 지역 가격 변동\n",
    "plt.bar(new_df['구군'],new_df['증가액'])\n",
    "plt.xticks(rotation=70) # 축 값 회전\n",
    "plt.show()\n",
    "\n",
    "\n"
   ]
  },
  {
   "cell_type": "markdown",
   "metadata": {
    "id": "vZoJvQRUQV70"
   },
   "source": [
    "**3) ㅇㅇ 지역 가격 변동 순위**\n",
    "\n",
    "- 아파트 매매가 증가액을 기준으로 내림차순 정렬해 tmp 데이터프레임을 선언합니다.\n",
    "- tmp 데이터프레임을 대상으로 다시 시각화해 확인합니다."
   ]
  },
  {
   "cell_type": "code",
   "execution_count": 98,
   "metadata": {
    "id": "KW1k7I3fqeDz"
   },
   "outputs": [
    {
     "data": {
      "image/png": "[encoded data removed]",
      "text/plain": [
       "<Figure size 432x288 with 1 Axes>"
      ]
     },
     "metadata": {
      "image/png": {
       "height": 280,
       "width": 389
      },
      "needs_background": "light"
     },
     "output_type": "display_data"
    }
   ],
   "source": [
    "# ㅇㅇ 지역 가격 변동 순위\n",
    "tmp = new_df.sort_values(by = '증가액', ascending=False)\n",
    "\n",
    "# 시각화\n",
    "plt.bar(tmp['구군'],tmp['증가액'])\n",
    "plt.xticks(rotation=70) # 축 값 회전\n",
    "plt.show()\n",
    "\n"
   ]
  },
  {
   "cell_type": "markdown",
   "metadata": {
    "id": "dzoUbxiYfdiQ"
   },
   "source": [
    "## 5.정리\n",
    "\n",
    "- 분석을 통해 확인한 내용을 정리합니다."
   ]
  },
  {
   "cell_type": "markdown",
   "metadata": {
    "id": "svu99_E3fdiR"
   },
   "source": [
    "**1) 의견**\n",
    "\n",
    "-  서울시 강남 3구 서초,강남,송파의 집값 증가량이 나머지 구의 증가량보다 월등히 높다\n",
    "-  \n",
    "-  \n",
    "-  "
   ]
  },
  {
   "cell_type": "markdown",
   "metadata": {
    "id": "Fg5zYFiZfdiR"
   },
   "source": [
    "**2) 기타**\n",
    "\n",
    "- \n",
    "- \n",
    "- \n",
    "- \n",
    "- \n"
   ]
  }
 ],
 "metadata": {
  "colab": {
   "collapsed_sections": [],
   "name": "X02 - [레벨업] 전국 아파트  평균 매매가격.ipynb",
   "provenance": []
  },
  "kernelspec": {
   "display_name": "Python 3",
   "language": "python",
   "name": "python3"
  },
  "language_info": {
   "codemirror_mode": {
    "name": "ipython",
    "version": 3
   },
   "file_extension": ".py",
   "mimetype": "text/x-python",
   "name": "python",
   "nbconvert_exporter": "python",
   "pygments_lexer": "ipython3",
   "version": "3.8.8"
  }
 },
 "nbformat": 4,
 "nbformat_minor": 4
}
