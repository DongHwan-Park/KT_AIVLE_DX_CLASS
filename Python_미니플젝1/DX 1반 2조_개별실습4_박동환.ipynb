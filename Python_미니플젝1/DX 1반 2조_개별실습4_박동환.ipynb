{
 "cells": [
  {
   "cell_type": "markdown",
   "metadata": {
    "id": "BFhIXgdYoYGp"
   },
   "source": [
    "<center><img src='https://raw.githubusercontent.com/Jangrae/img/master/title.png' width=500/></center>"
   ]
  },
  {
   "cell_type": "markdown",
   "metadata": {
    "id": "d6jVPeiR2MK_"
   },
   "source": [
    "<center><img src='https://raw.githubusercontent.com/Jangrae/img/master/practice3.png' width=300/></center>"
   ]
  },
  {
   "cell_type": "markdown",
   "metadata": {
    "id": "ZogNxmpZgBMp"
   },
   "source": [
    "# 소매점 판매 현황"
   ]
  },
  {
   "cell_type": "markdown",
   "metadata": {
    "id": "0IUReT56gBMq"
   },
   "source": [
    "<img src='https://raw.githubusercontent.com/Jangrae/img/master/retail.png' width=\"650\" align=\"left\">"
   ]
  },
  {
   "cell_type": "markdown",
   "metadata": {},
   "source": [
    "\t\t\t\t\t\n",
    "\t소매점 판매 현황\t\t\t\t\n",
    "\t\t\t\t\t\n",
    "\t가상으로 만들어진 2016년 2017년 소매점 판매 데이터\t\t\t\t\n",
    "\t\t\t\t\t\n",
    "\t파일1: customers.csv\t\t\t\t\n",
    "\t- CustomerID: 고객 코드\t\t\t\t\n",
    "\t- RegisterDate : 가입일\t\t\t\t\n",
    "\t- Address: 상세 주소\t\t\t\t\n",
    "\t- Gender: 성별\t\t\t\t\n",
    "\t- BirthYear: 출생연도\t\t\t\t\n",
    "\t- Addr1: 시도\t\t\t\t\n",
    "\t- Addr2: 구군\t\t\t\t\n",
    "\t\t\t\t\t\n",
    "\t파일2: products.csv\t\t\t\t\n",
    "\t- ProductID: 상품 코드\t\t\t\t\n",
    "\t- ProductName: 상품 이름\t\t\t\t\n",
    "\t- Category: 대분류\t\t\t\t\n",
    "\t- SubCategory : 소분류\t\t\t\t\n",
    "\t- CategoryOrd: 대분류 순서(의미없음)\t\t\t\t\n",
    "\t\t\t\t\t\n",
    "\t파일3: orders.csv\t\t\t\t\n",
    "\t- OrderID: 주문번호\t\t\t\t\n",
    "\t- Seq: 일련 변호\t\t\t\t\n",
    "\t- OrderDate: 주문일\t\t\t\t\n",
    "\t- ProductID: 상품 코드\t\t\t\t\n",
    "\t- Qty: 수량\t\t\t\t\n",
    "\t- Amt : 금액\t\t\t\t\n",
    "\t- CustomerID: 고객 코드\t\t\t\t"
   ]
  },
  {
   "cell_type": "markdown",
   "metadata": {
    "id": "qb1iLyXwGlnw"
   },
   "source": [
    "## 1.환경 설정\n",
    "\n",
    "- 데이터 탐색과 전처리를 하기 전 필요한 라이브러리와 대상 파일을 읽어옵니다.\n",
    "- 시각화에 한글이 포함될 경우 이에 대한 설정을 진행합니다."
   ]
  },
  {
   "cell_type": "markdown",
   "metadata": {
    "id": "4Xz2TqMRgBMr"
   },
   "source": [
    "**1) 한글 설정**\n",
    "\n",
    "- Jupyter Notebook 시각화에 한글이 표시되게 설정합니다."
   ]
  },
  {
   "cell_type": "code",
   "execution_count": 1,
   "metadata": {
    "id": "CjQJWPwmgBMr"
   },
   "outputs": [],
   "source": [
    "# 라이브러리 불러오기\n",
    "import matplotlib.pyplot as plt\n",
    "import matplotlib.font_manager as fm\n",
    "\n",
    "# 폰트설정\n",
    "plt.rc('font', family='Malgun Gothic')\n",
    "plt.rcParams['axes.unicode_minus'] = False"
   ]
  },
  {
   "cell_type": "markdown",
   "metadata": {
    "id": "0uNXxebRGrd8"
   },
   "source": [
    "**2) 라이브러리 불러오기**\n",
    "\n",
    "- 사용할 라이브러리를 불러옵니다."
   ]
  },
  {
   "cell_type": "code",
   "execution_count": 2,
   "metadata": {
    "id": "zFm_DPTaUdqQ"
   },
   "outputs": [],
   "source": [
    "# 라이브러리 불러오기\n",
    "import numpy as np\n",
    "import pandas as pd\n",
    "import matplotlib.pyplot as plt\n",
    "\n",
    "%config InlineBackend.figure_format = 'retina'"
   ]
  },
  {
   "cell_type": "markdown",
   "metadata": {
    "id": "PcLUjkq0wxpF"
   },
   "source": [
    "**3) 데이터 읽어오기**\n",
    "\n",
    "- 다음 경로의 파일을 읽어와 customers, products, orders 데이터프레임을 만듭니다.\n",
    "- 파일 경로1: https://raw.githubusercontent.com/Jangrae/csv/master/customers.csv\n",
    "- 파일 경로2: https://raw.githubusercontent.com/Jangrae/csv/master/products.csv\n",
    "- 파일 경로3: https://raw.githubusercontent.com/Jangrae/csv/master/orders.csv"
   ]
  },
  {
   "cell_type": "code",
   "execution_count": 3,
   "metadata": {
    "id": "91c9vKQ0E1A4"
   },
   "outputs": [
    {
     "data": {
      "text/html": [
       "<div>\n",
       "<style scoped>\n",
       "    .dataframe tbody tr th:only-of-type {\n",
       "        vertical-align: middle;\n",
       "    }\n",
       "\n",
       "    .dataframe tbody tr th {\n",
       "        vertical-align: top;\n",
       "    }\n",
       "\n",
       "    .dataframe thead th {\n",
       "        text-align: right;\n",
       "    }\n",
       "</style>\n",
       "<table border=\"1\" class=\"dataframe\">\n",
       "  <thead>\n",
       "    <tr style=\"text-align: right;\">\n",
       "      <th></th>\n",
       "      <th>CustomerID</th>\n",
       "      <th>RegisterDate</th>\n",
       "      <th>Address</th>\n",
       "      <th>Gender</th>\n",
       "      <th>BirthYear</th>\n",
       "      <th>Addr1</th>\n",
       "      <th>Addr2</th>\n",
       "    </tr>\n",
       "  </thead>\n",
       "  <tbody>\n",
       "    <tr>\n",
       "      <th>0</th>\n",
       "      <td>c017487</td>\n",
       "      <td>2002-07-31</td>\n",
       "      <td>경기 성남시 중원구 둔촌대로190번길</td>\n",
       "      <td>F</td>\n",
       "      <td>1968</td>\n",
       "      <td>경기도</td>\n",
       "      <td>성남시</td>\n",
       "    </tr>\n",
       "    <tr>\n",
       "      <th>1</th>\n",
       "      <td>c017503</td>\n",
       "      <td>2002-07-31</td>\n",
       "      <td>서울 마포구 새터산12길</td>\n",
       "      <td>F</td>\n",
       "      <td>1971</td>\n",
       "      <td>서울특별시</td>\n",
       "      <td>마포구</td>\n",
       "    </tr>\n",
       "    <tr>\n",
       "      <th>2</th>\n",
       "      <td>c017517</td>\n",
       "      <td>2002-07-31</td>\n",
       "      <td>경기도 남양주시 와부읍 덕소로</td>\n",
       "      <td>M</td>\n",
       "      <td>1967</td>\n",
       "      <td>경기도</td>\n",
       "      <td>남양주시</td>\n",
       "    </tr>\n",
       "    <tr>\n",
       "      <th>3</th>\n",
       "      <td>c017522</td>\n",
       "      <td>2002-07-31</td>\n",
       "      <td>강원도 원주시 단구로</td>\n",
       "      <td>F</td>\n",
       "      <td>1965</td>\n",
       "      <td>강원도</td>\n",
       "      <td>원주시</td>\n",
       "    </tr>\n",
       "    <tr>\n",
       "      <th>4</th>\n",
       "      <td>c017526</td>\n",
       "      <td>2002-07-31</td>\n",
       "      <td>경기도 부천시 오정구 소사로730번길</td>\n",
       "      <td>F</td>\n",
       "      <td>1960</td>\n",
       "      <td>경기도</td>\n",
       "      <td>부천시</td>\n",
       "    </tr>\n",
       "  </tbody>\n",
       "</table>\n",
       "</div>"
      ],
      "text/plain": [
       "  CustomerID RegisterDate               Address Gender  BirthYear  Addr1 Addr2\n",
       "0    c017487   2002-07-31  경기 성남시 중원구 둔촌대로190번길      F       1968    경기도   성남시\n",
       "1    c017503   2002-07-31         서울 마포구 새터산12길      F       1971  서울특별시   마포구\n",
       "2    c017517   2002-07-31      경기도 남양주시 와부읍 덕소로      M       1967    경기도  남양주시\n",
       "3    c017522   2002-07-31           강원도 원주시 단구로      F       1965    강원도   원주시\n",
       "4    c017526   2002-07-31  경기도 부천시 오정구 소사로730번길      F       1960    경기도   부천시"
      ]
     },
     "execution_count": 3,
     "metadata": {},
     "output_type": "execute_result"
    }
   ],
   "source": [
    "\n",
    "path1 = 'https://raw.githubusercontent.com/Jangrae/csv/master/customers.csv'\n",
    "customers = pd.read_csv(path1)\n",
    "customers.head()"
   ]
  },
  {
   "cell_type": "code",
   "execution_count": 4,
   "metadata": {
    "id": "QSedynVWEp3W"
   },
   "outputs": [
    {
     "data": {
      "text/html": [
       "<div>\n",
       "<style scoped>\n",
       "    .dataframe tbody tr th:only-of-type {\n",
       "        vertical-align: middle;\n",
       "    }\n",
       "\n",
       "    .dataframe tbody tr th {\n",
       "        vertical-align: top;\n",
       "    }\n",
       "\n",
       "    .dataframe thead th {\n",
       "        text-align: right;\n",
       "    }\n",
       "</style>\n",
       "<table border=\"1\" class=\"dataframe\">\n",
       "  <thead>\n",
       "    <tr style=\"text-align: right;\">\n",
       "      <th></th>\n",
       "      <th>ProductID</th>\n",
       "      <th>ProductName</th>\n",
       "      <th>Category</th>\n",
       "      <th>SubCategory</th>\n",
       "      <th>CategoryOrd</th>\n",
       "    </tr>\n",
       "  </thead>\n",
       "  <tbody>\n",
       "    <tr>\n",
       "      <th>0</th>\n",
       "      <td>p1001771</td>\n",
       "      <td>마늘</td>\n",
       "      <td>채소</td>\n",
       "      <td>뿌리채소</td>\n",
       "      <td>5</td>\n",
       "    </tr>\n",
       "    <tr>\n",
       "      <th>1</th>\n",
       "      <td>p1002841</td>\n",
       "      <td>딸기_대</td>\n",
       "      <td>과일</td>\n",
       "      <td>과채</td>\n",
       "      <td>2</td>\n",
       "    </tr>\n",
       "    <tr>\n",
       "      <th>2</th>\n",
       "      <td>p1005621</td>\n",
       "      <td>숙주나물</td>\n",
       "      <td>반찬류</td>\n",
       "      <td>나물류</td>\n",
       "      <td>1</td>\n",
       "    </tr>\n",
       "    <tr>\n",
       "      <th>3</th>\n",
       "      <td>p1005771</td>\n",
       "      <td>두부_소</td>\n",
       "      <td>반찬류</td>\n",
       "      <td>두부</td>\n",
       "      <td>1</td>\n",
       "    </tr>\n",
       "    <tr>\n",
       "      <th>4</th>\n",
       "      <td>p1005891</td>\n",
       "      <td>두부_대</td>\n",
       "      <td>반찬류</td>\n",
       "      <td>두부</td>\n",
       "      <td>1</td>\n",
       "    </tr>\n",
       "  </tbody>\n",
       "</table>\n",
       "</div>"
      ],
      "text/plain": [
       "  ProductID ProductName Category SubCategory  CategoryOrd\n",
       "0  p1001771          마늘       채소        뿌리채소            5\n",
       "1  p1002841        딸기_대       과일          과채            2\n",
       "2  p1005621        숙주나물      반찬류         나물류            1\n",
       "3  p1005771        두부_소      반찬류          두부            1\n",
       "4  p1005891        두부_대      반찬류          두부            1"
      ]
     },
     "execution_count": 4,
     "metadata": {},
     "output_type": "execute_result"
    }
   ],
   "source": [
    "\n",
    "path2 = 'https://raw.githubusercontent.com/Jangrae/csv/master/products.csv'\n",
    "products = pd.read_csv(path2)\n",
    "products.head()"
   ]
  },
  {
   "cell_type": "code",
   "execution_count": 5,
   "metadata": {
    "id": "OPfgGedaEqnw"
   },
   "outputs": [
    {
     "data": {
      "text/html": [
       "<div>\n",
       "<style scoped>\n",
       "    .dataframe tbody tr th:only-of-type {\n",
       "        vertical-align: middle;\n",
       "    }\n",
       "\n",
       "    .dataframe tbody tr th {\n",
       "        vertical-align: top;\n",
       "    }\n",
       "\n",
       "    .dataframe thead th {\n",
       "        text-align: right;\n",
       "    }\n",
       "</style>\n",
       "<table border=\"1\" class=\"dataframe\">\n",
       "  <thead>\n",
       "    <tr style=\"text-align: right;\">\n",
       "      <th></th>\n",
       "      <th>OrderID</th>\n",
       "      <th>Seq</th>\n",
       "      <th>OrderDate</th>\n",
       "      <th>ProductID</th>\n",
       "      <th>Qty</th>\n",
       "      <th>Amt</th>\n",
       "      <th>CustomerID</th>\n",
       "    </tr>\n",
       "  </thead>\n",
       "  <tbody>\n",
       "    <tr>\n",
       "      <th>0</th>\n",
       "      <td>1</td>\n",
       "      <td>1</td>\n",
       "      <td>2016-01-02</td>\n",
       "      <td>p1030071</td>\n",
       "      <td>2</td>\n",
       "      <td>7900</td>\n",
       "      <td>c107853</td>\n",
       "    </tr>\n",
       "    <tr>\n",
       "      <th>1</th>\n",
       "      <td>2</td>\n",
       "      <td>1</td>\n",
       "      <td>2016-01-02</td>\n",
       "      <td>p1012761</td>\n",
       "      <td>1</td>\n",
       "      <td>1700</td>\n",
       "      <td>c110521</td>\n",
       "    </tr>\n",
       "    <tr>\n",
       "      <th>2</th>\n",
       "      <td>2</td>\n",
       "      <td>2</td>\n",
       "      <td>2016-01-02</td>\n",
       "      <td>p1012581</td>\n",
       "      <td>1</td>\n",
       "      <td>1000</td>\n",
       "      <td>c110521</td>\n",
       "    </tr>\n",
       "    <tr>\n",
       "      <th>3</th>\n",
       "      <td>2</td>\n",
       "      <td>3</td>\n",
       "      <td>2016-01-02</td>\n",
       "      <td>p1175481</td>\n",
       "      <td>1</td>\n",
       "      <td>1300</td>\n",
       "      <td>c110521</td>\n",
       "    </tr>\n",
       "    <tr>\n",
       "      <th>4</th>\n",
       "      <td>2</td>\n",
       "      <td>4</td>\n",
       "      <td>2016-01-02</td>\n",
       "      <td>p1178011</td>\n",
       "      <td>1</td>\n",
       "      <td>8800</td>\n",
       "      <td>c110521</td>\n",
       "    </tr>\n",
       "  </tbody>\n",
       "</table>\n",
       "</div>"
      ],
      "text/plain": [
       "   OrderID  Seq   OrderDate ProductID  Qty   Amt CustomerID\n",
       "0        1    1  2016-01-02  p1030071    2  7900    c107853\n",
       "1        2    1  2016-01-02  p1012761    1  1700    c110521\n",
       "2        2    2  2016-01-02  p1012581    1  1000    c110521\n",
       "3        2    3  2016-01-02  p1175481    1  1300    c110521\n",
       "4        2    4  2016-01-02  p1178011    1  8800    c110521"
      ]
     },
     "execution_count": 5,
     "metadata": {},
     "output_type": "execute_result"
    }
   ],
   "source": [
    "\n",
    "path3 = 'https://raw.githubusercontent.com/Jangrae/csv/master/orders.csv'\n",
    "orders = pd.read_csv(path3)\n",
    "orders.head()"
   ]
  },
  {
   "cell_type": "markdown",
   "metadata": {
    "id": "H4KWZGI8HBIA"
   },
   "source": [
    "## 2.데이터 탐색\n",
    "\n",
    "다음과 같은 정보 확인을 통해 처리할 대상 데이터를 이해합니다.\n",
    "- 상/하위 데이터 확인\n",
    "- 데이터프레임 크기 확인\n",
    "- 열 이름, 데이터 형식, 값 개수 등 확인\n",
    "- 기초 통계정보 확인\n",
    "- 결측치 확인\n",
    "- 범주형 데이터 확인\n",
    "- 개별 열 값 상세 확인 등"
   ]
  },
  {
   "cell_type": "markdown",
   "metadata": {
    "id": "X7I-KgAjJ60t"
   },
   "source": [
    "**1) 고객 정보(customers)**\n",
    "\n",
    "- customers 데이터프레임을 충분히 탐색합니다.\n",
    "- 간단한 집계를 수행해 보는 것도 좋은 방법입니다."
   ]
  },
  {
   "cell_type": "code",
   "execution_count": 6,
   "metadata": {},
   "outputs": [
    {
     "data": {
      "text/html": [
       "<div>\n",
       "<style scoped>\n",
       "    .dataframe tbody tr th:only-of-type {\n",
       "        vertical-align: middle;\n",
       "    }\n",
       "\n",
       "    .dataframe tbody tr th {\n",
       "        vertical-align: top;\n",
       "    }\n",
       "\n",
       "    .dataframe thead th {\n",
       "        text-align: right;\n",
       "    }\n",
       "</style>\n",
       "<table border=\"1\" class=\"dataframe\">\n",
       "  <thead>\n",
       "    <tr style=\"text-align: right;\">\n",
       "      <th></th>\n",
       "      <th>CustomerID</th>\n",
       "      <th>RegisterDate</th>\n",
       "      <th>Address</th>\n",
       "      <th>Gender</th>\n",
       "      <th>BirthYear</th>\n",
       "      <th>Addr1</th>\n",
       "      <th>Addr2</th>\n",
       "    </tr>\n",
       "  </thead>\n",
       "  <tbody>\n",
       "    <tr>\n",
       "      <th>0</th>\n",
       "      <td>c017487</td>\n",
       "      <td>2002-07-31</td>\n",
       "      <td>경기 성남시 중원구 둔촌대로190번길</td>\n",
       "      <td>F</td>\n",
       "      <td>1968</td>\n",
       "      <td>경기도</td>\n",
       "      <td>성남시</td>\n",
       "    </tr>\n",
       "    <tr>\n",
       "      <th>1</th>\n",
       "      <td>c017503</td>\n",
       "      <td>2002-07-31</td>\n",
       "      <td>서울 마포구 새터산12길</td>\n",
       "      <td>F</td>\n",
       "      <td>1971</td>\n",
       "      <td>서울특별시</td>\n",
       "      <td>마포구</td>\n",
       "    </tr>\n",
       "    <tr>\n",
       "      <th>2</th>\n",
       "      <td>c017517</td>\n",
       "      <td>2002-07-31</td>\n",
       "      <td>경기도 남양주시 와부읍 덕소로</td>\n",
       "      <td>M</td>\n",
       "      <td>1967</td>\n",
       "      <td>경기도</td>\n",
       "      <td>남양주시</td>\n",
       "    </tr>\n",
       "    <tr>\n",
       "      <th>3</th>\n",
       "      <td>c017522</td>\n",
       "      <td>2002-07-31</td>\n",
       "      <td>강원도 원주시 단구로</td>\n",
       "      <td>F</td>\n",
       "      <td>1965</td>\n",
       "      <td>강원도</td>\n",
       "      <td>원주시</td>\n",
       "    </tr>\n",
       "    <tr>\n",
       "      <th>4</th>\n",
       "      <td>c017526</td>\n",
       "      <td>2002-07-31</td>\n",
       "      <td>경기도 부천시 오정구 소사로730번길</td>\n",
       "      <td>F</td>\n",
       "      <td>1960</td>\n",
       "      <td>경기도</td>\n",
       "      <td>부천시</td>\n",
       "    </tr>\n",
       "  </tbody>\n",
       "</table>\n",
       "</div>"
      ],
      "text/plain": [
       "  CustomerID RegisterDate               Address Gender  BirthYear  Addr1 Addr2\n",
       "0    c017487   2002-07-31  경기 성남시 중원구 둔촌대로190번길      F       1968    경기도   성남시\n",
       "1    c017503   2002-07-31         서울 마포구 새터산12길      F       1971  서울특별시   마포구\n",
       "2    c017517   2002-07-31      경기도 남양주시 와부읍 덕소로      M       1967    경기도  남양주시\n",
       "3    c017522   2002-07-31           강원도 원주시 단구로      F       1965    강원도   원주시\n",
       "4    c017526   2002-07-31  경기도 부천시 오정구 소사로730번길      F       1960    경기도   부천시"
      ]
     },
     "execution_count": 6,
     "metadata": {},
     "output_type": "execute_result"
    }
   ],
   "source": [
    "customers.head()"
   ]
  },
  {
   "cell_type": "code",
   "execution_count": 7,
   "metadata": {
    "id": "SBDudJlmHDOi"
   },
   "outputs": [
    {
     "data": {
      "text/plain": [
       "(2243, 7)"
      ]
     },
     "execution_count": 7,
     "metadata": {},
     "output_type": "execute_result"
    }
   ],
   "source": [
    "customers.shape"
   ]
  },
  {
   "cell_type": "code",
   "execution_count": 8,
   "metadata": {},
   "outputs": [
    {
     "data": {
      "text/plain": [
       "CustomerID  RegisterDate  Address               Gender  BirthYear  Addr1  Addr2\n",
       "c017487     2002-07-31    경기 성남시 중원구 둔촌대로190번길  F       1968       경기도    성남시      1\n",
       "c306719     2014-01-26    서울특별시 은평구 연서로         F       1969       서울특별시  은평구      1\n",
       "c305895     2014-01-14    경기도 의왕시 갈미1로          F       1979       경기도    의왕시      1\n",
       "c305921     2014-01-14    서울특별시 강서구 화곡로13길      F       1977       서울특별시  강서구      1\n",
       "c306199     2014-01-17    경기도 고양시 일산동구 애니골길     F       1977       경기도    고양시      1\n",
       "                                                                                  ..\n",
       "c149838     2010-02-22    경기도 의왕시 갈미1로          F       1970       경기도    의왕시      1\n",
       "c149615     2010-02-19    서울특별시 종로구  옥인길        F       1979       서울특별시  종로구      1\n",
       "c149399     2010-02-16    경기도 안성시 삼죽면 삼백로       F       1973       경기도    안성시      1\n",
       "c148979     2010-02-08    경기도 김포시 청송로           F       1955       경기도    김포시      1\n",
       "c402634     2017-03-30    경기도 용인시 수지구 죽전로       F       1960       경기도    용인시      1\n",
       "Length: 2243, dtype: int64"
      ]
     },
     "execution_count": 8,
     "metadata": {},
     "output_type": "execute_result"
    }
   ],
   "source": [
    "customers.value_counts()"
   ]
  },
  {
   "cell_type": "code",
   "execution_count": 9,
   "metadata": {
    "id": "3BTuZtbRs4HO"
   },
   "outputs": [
    {
     "name": "stdout",
     "output_type": "stream",
     "text": [
      "<class 'pandas.core.frame.DataFrame'>\n",
      "RangeIndex: 2243 entries, 0 to 2242\n",
      "Data columns (total 7 columns):\n",
      " #   Column        Non-Null Count  Dtype \n",
      "---  ------        --------------  ----- \n",
      " 0   CustomerID    2243 non-null   object\n",
      " 1   RegisterDate  2243 non-null   object\n",
      " 2   Address       2243 non-null   object\n",
      " 3   Gender        2243 non-null   object\n",
      " 4   BirthYear     2243 non-null   int64 \n",
      " 5   Addr1         2243 non-null   object\n",
      " 6   Addr2         2243 non-null   object\n",
      "dtypes: int64(1), object(6)\n",
      "memory usage: 122.8+ KB\n"
     ]
    }
   ],
   "source": [
    "customers.info()"
   ]
  },
  {
   "cell_type": "code",
   "execution_count": 10,
   "metadata": {
    "id": "vAZLgCLXKCMB"
   },
   "outputs": [
    {
     "data": {
      "text/html": [
       "<div>\n",
       "<style scoped>\n",
       "    .dataframe tbody tr th:only-of-type {\n",
       "        vertical-align: middle;\n",
       "    }\n",
       "\n",
       "    .dataframe tbody tr th {\n",
       "        vertical-align: top;\n",
       "    }\n",
       "\n",
       "    .dataframe thead th {\n",
       "        text-align: right;\n",
       "    }\n",
       "</style>\n",
       "<table border=\"1\" class=\"dataframe\">\n",
       "  <thead>\n",
       "    <tr style=\"text-align: right;\">\n",
       "      <th></th>\n",
       "      <th>BirthYear</th>\n",
       "    </tr>\n",
       "  </thead>\n",
       "  <tbody>\n",
       "    <tr>\n",
       "      <th>count</th>\n",
       "      <td>2243.000000</td>\n",
       "    </tr>\n",
       "    <tr>\n",
       "      <th>mean</th>\n",
       "      <td>1971.107445</td>\n",
       "    </tr>\n",
       "    <tr>\n",
       "      <th>std</th>\n",
       "      <td>9.658465</td>\n",
       "    </tr>\n",
       "    <tr>\n",
       "      <th>min</th>\n",
       "      <td>1932.000000</td>\n",
       "    </tr>\n",
       "    <tr>\n",
       "      <th>25%</th>\n",
       "      <td>1966.000000</td>\n",
       "    </tr>\n",
       "    <tr>\n",
       "      <th>50%</th>\n",
       "      <td>1972.000000</td>\n",
       "    </tr>\n",
       "    <tr>\n",
       "      <th>75%</th>\n",
       "      <td>1978.000000</td>\n",
       "    </tr>\n",
       "    <tr>\n",
       "      <th>max</th>\n",
       "      <td>1999.000000</td>\n",
       "    </tr>\n",
       "  </tbody>\n",
       "</table>\n",
       "</div>"
      ],
      "text/plain": [
       "         BirthYear\n",
       "count  2243.000000\n",
       "mean   1971.107445\n",
       "std       9.658465\n",
       "min    1932.000000\n",
       "25%    1966.000000\n",
       "50%    1972.000000\n",
       "75%    1978.000000\n",
       "max    1999.000000"
      ]
     },
     "execution_count": 10,
     "metadata": {},
     "output_type": "execute_result"
    }
   ],
   "source": [
    "customers.describe()"
   ]
  },
  {
   "cell_type": "code",
   "execution_count": 11,
   "metadata": {},
   "outputs": [
    {
     "data": {
      "text/plain": [
       "CustomerID      0\n",
       "RegisterDate    0\n",
       "Address         0\n",
       "Gender          0\n",
       "BirthYear       0\n",
       "Addr1           0\n",
       "Addr2           0\n",
       "dtype: int64"
      ]
     },
     "execution_count": 11,
     "metadata": {},
     "output_type": "execute_result"
    }
   ],
   "source": [
    "customers.isna().sum()"
   ]
  },
  {
   "cell_type": "markdown",
   "metadata": {
    "id": "ktmISAkXgBM0"
   },
   "source": [
    "**2) 상품 정보(products)**\n",
    "\n",
    "- products 데이터프레임을 충분히 탐색합니다.\n",
    "- 간단한 집계를 수행해 보는 것도 좋은 방법입니다."
   ]
  },
  {
   "cell_type": "code",
   "execution_count": 12,
   "metadata": {
    "id": "xmhzfhVlgBM0"
   },
   "outputs": [
    {
     "data": {
      "text/html": [
       "<div>\n",
       "<style scoped>\n",
       "    .dataframe tbody tr th:only-of-type {\n",
       "        vertical-align: middle;\n",
       "    }\n",
       "\n",
       "    .dataframe tbody tr th {\n",
       "        vertical-align: top;\n",
       "    }\n",
       "\n",
       "    .dataframe thead th {\n",
       "        text-align: right;\n",
       "    }\n",
       "</style>\n",
       "<table border=\"1\" class=\"dataframe\">\n",
       "  <thead>\n",
       "    <tr style=\"text-align: right;\">\n",
       "      <th></th>\n",
       "      <th>ProductID</th>\n",
       "      <th>ProductName</th>\n",
       "      <th>Category</th>\n",
       "      <th>SubCategory</th>\n",
       "      <th>CategoryOrd</th>\n",
       "    </tr>\n",
       "  </thead>\n",
       "  <tbody>\n",
       "    <tr>\n",
       "      <th>0</th>\n",
       "      <td>p1001771</td>\n",
       "      <td>마늘</td>\n",
       "      <td>채소</td>\n",
       "      <td>뿌리채소</td>\n",
       "      <td>5</td>\n",
       "    </tr>\n",
       "    <tr>\n",
       "      <th>1</th>\n",
       "      <td>p1002841</td>\n",
       "      <td>딸기_대</td>\n",
       "      <td>과일</td>\n",
       "      <td>과채</td>\n",
       "      <td>2</td>\n",
       "    </tr>\n",
       "    <tr>\n",
       "      <th>2</th>\n",
       "      <td>p1005621</td>\n",
       "      <td>숙주나물</td>\n",
       "      <td>반찬류</td>\n",
       "      <td>나물류</td>\n",
       "      <td>1</td>\n",
       "    </tr>\n",
       "    <tr>\n",
       "      <th>3</th>\n",
       "      <td>p1005771</td>\n",
       "      <td>두부_소</td>\n",
       "      <td>반찬류</td>\n",
       "      <td>두부</td>\n",
       "      <td>1</td>\n",
       "    </tr>\n",
       "    <tr>\n",
       "      <th>4</th>\n",
       "      <td>p1005891</td>\n",
       "      <td>두부_대</td>\n",
       "      <td>반찬류</td>\n",
       "      <td>두부</td>\n",
       "      <td>1</td>\n",
       "    </tr>\n",
       "  </tbody>\n",
       "</table>\n",
       "</div>"
      ],
      "text/plain": [
       "  ProductID ProductName Category SubCategory  CategoryOrd\n",
       "0  p1001771          마늘       채소        뿌리채소            5\n",
       "1  p1002841        딸기_대       과일          과채            2\n",
       "2  p1005621        숙주나물      반찬류         나물류            1\n",
       "3  p1005771        두부_소      반찬류          두부            1\n",
       "4  p1005891        두부_대      반찬류          두부            1"
      ]
     },
     "execution_count": 12,
     "metadata": {},
     "output_type": "execute_result"
    }
   ],
   "source": [
    "products.head()"
   ]
  },
  {
   "cell_type": "code",
   "execution_count": 13,
   "metadata": {},
   "outputs": [
    {
     "data": {
      "text/plain": [
       "5    23\n",
       "4    14\n",
       "3    11\n",
       "1     8\n",
       "2     6\n",
       "Name: CategoryOrd, dtype: int64"
      ]
     },
     "execution_count": 13,
     "metadata": {},
     "output_type": "execute_result"
    }
   ],
   "source": [
    "products['CategoryOrd'].value_counts()"
   ]
  },
  {
   "cell_type": "code",
   "execution_count": 14,
   "metadata": {
    "id": "C_IRCYhStTmn"
   },
   "outputs": [
    {
     "data": {
      "text/plain": [
       "(62, 5)"
      ]
     },
     "execution_count": 14,
     "metadata": {},
     "output_type": "execute_result"
    }
   ],
   "source": [
    "products.shape"
   ]
  },
  {
   "cell_type": "code",
   "execution_count": 15,
   "metadata": {
    "id": "2UORrtJftFR2"
   },
   "outputs": [
    {
     "name": "stdout",
     "output_type": "stream",
     "text": [
      "<class 'pandas.core.frame.DataFrame'>\n",
      "RangeIndex: 62 entries, 0 to 61\n",
      "Data columns (total 5 columns):\n",
      " #   Column       Non-Null Count  Dtype \n",
      "---  ------       --------------  ----- \n",
      " 0   ProductID    62 non-null     object\n",
      " 1   ProductName  62 non-null     object\n",
      " 2   Category     62 non-null     object\n",
      " 3   SubCategory  62 non-null     object\n",
      " 4   CategoryOrd  62 non-null     int64 \n",
      "dtypes: int64(1), object(4)\n",
      "memory usage: 2.5+ KB\n"
     ]
    }
   ],
   "source": [
    "products.info()"
   ]
  },
  {
   "cell_type": "code",
   "execution_count": 16,
   "metadata": {
    "id": "tNMknvcbgBM0"
   },
   "outputs": [
    {
     "data": {
      "text/plain": [
       "ProductID      0\n",
       "ProductName    0\n",
       "Category       0\n",
       "SubCategory    0\n",
       "CategoryOrd    0\n",
       "dtype: int64"
      ]
     },
     "execution_count": 16,
     "metadata": {},
     "output_type": "execute_result"
    }
   ],
   "source": [
    "products.isna().sum()"
   ]
  },
  {
   "cell_type": "markdown",
   "metadata": {
    "id": "Ek_BgBX7gBM1"
   },
   "source": [
    "**3) 주문 정보(orders)**\n",
    "\n",
    "- orders 데이터프레임을 충분히 탐색합니다.\n",
    "- 간단한 집계를 수행해 보는 것도 좋은 방법입니다."
   ]
  },
  {
   "cell_type": "code",
   "execution_count": 17,
   "metadata": {
    "id": "6550xr-LgBM1"
   },
   "outputs": [
    {
     "data": {
      "text/html": [
       "<div>\n",
       "<style scoped>\n",
       "    .dataframe tbody tr th:only-of-type {\n",
       "        vertical-align: middle;\n",
       "    }\n",
       "\n",
       "    .dataframe tbody tr th {\n",
       "        vertical-align: top;\n",
       "    }\n",
       "\n",
       "    .dataframe thead th {\n",
       "        text-align: right;\n",
       "    }\n",
       "</style>\n",
       "<table border=\"1\" class=\"dataframe\">\n",
       "  <thead>\n",
       "    <tr style=\"text-align: right;\">\n",
       "      <th></th>\n",
       "      <th>OrderID</th>\n",
       "      <th>Seq</th>\n",
       "      <th>OrderDate</th>\n",
       "      <th>ProductID</th>\n",
       "      <th>Qty</th>\n",
       "      <th>Amt</th>\n",
       "      <th>CustomerID</th>\n",
       "    </tr>\n",
       "  </thead>\n",
       "  <tbody>\n",
       "    <tr>\n",
       "      <th>0</th>\n",
       "      <td>1</td>\n",
       "      <td>1</td>\n",
       "      <td>2016-01-02</td>\n",
       "      <td>p1030071</td>\n",
       "      <td>2</td>\n",
       "      <td>7900</td>\n",
       "      <td>c107853</td>\n",
       "    </tr>\n",
       "    <tr>\n",
       "      <th>1</th>\n",
       "      <td>2</td>\n",
       "      <td>1</td>\n",
       "      <td>2016-01-02</td>\n",
       "      <td>p1012761</td>\n",
       "      <td>1</td>\n",
       "      <td>1700</td>\n",
       "      <td>c110521</td>\n",
       "    </tr>\n",
       "    <tr>\n",
       "      <th>2</th>\n",
       "      <td>2</td>\n",
       "      <td>2</td>\n",
       "      <td>2016-01-02</td>\n",
       "      <td>p1012581</td>\n",
       "      <td>1</td>\n",
       "      <td>1000</td>\n",
       "      <td>c110521</td>\n",
       "    </tr>\n",
       "    <tr>\n",
       "      <th>3</th>\n",
       "      <td>2</td>\n",
       "      <td>3</td>\n",
       "      <td>2016-01-02</td>\n",
       "      <td>p1175481</td>\n",
       "      <td>1</td>\n",
       "      <td>1300</td>\n",
       "      <td>c110521</td>\n",
       "    </tr>\n",
       "    <tr>\n",
       "      <th>4</th>\n",
       "      <td>2</td>\n",
       "      <td>4</td>\n",
       "      <td>2016-01-02</td>\n",
       "      <td>p1178011</td>\n",
       "      <td>1</td>\n",
       "      <td>8800</td>\n",
       "      <td>c110521</td>\n",
       "    </tr>\n",
       "  </tbody>\n",
       "</table>\n",
       "</div>"
      ],
      "text/plain": [
       "   OrderID  Seq   OrderDate ProductID  Qty   Amt CustomerID\n",
       "0        1    1  2016-01-02  p1030071    2  7900    c107853\n",
       "1        2    1  2016-01-02  p1012761    1  1700    c110521\n",
       "2        2    2  2016-01-02  p1012581    1  1000    c110521\n",
       "3        2    3  2016-01-02  p1175481    1  1300    c110521\n",
       "4        2    4  2016-01-02  p1178011    1  8800    c110521"
      ]
     },
     "execution_count": 17,
     "metadata": {},
     "output_type": "execute_result"
    }
   ],
   "source": [
    "orders.head()"
   ]
  },
  {
   "cell_type": "code",
   "execution_count": 18,
   "metadata": {
    "id": "Az3Ms14YgBM1"
   },
   "outputs": [
    {
     "name": "stdout",
     "output_type": "stream",
     "text": [
      "<class 'pandas.core.frame.DataFrame'>\n",
      "RangeIndex: 68839 entries, 0 to 68838\n",
      "Data columns (total 7 columns):\n",
      " #   Column      Non-Null Count  Dtype \n",
      "---  ------      --------------  ----- \n",
      " 0   OrderID     68839 non-null  int64 \n",
      " 1   Seq         68839 non-null  int64 \n",
      " 2   OrderDate   68839 non-null  object\n",
      " 3   ProductID   68839 non-null  object\n",
      " 4   Qty         68839 non-null  int64 \n",
      " 5   Amt         68839 non-null  int64 \n",
      " 6   CustomerID  68839 non-null  object\n",
      "dtypes: int64(4), object(3)\n",
      "memory usage: 3.7+ MB\n"
     ]
    }
   ],
   "source": [
    "orders.info()"
   ]
  },
  {
   "cell_type": "code",
   "execution_count": 19,
   "metadata": {
    "id": "jaTP8tS2tJOT"
   },
   "outputs": [
    {
     "data": {
      "text/plain": [
       "OrderID       0\n",
       "Seq           0\n",
       "OrderDate     0\n",
       "ProductID     0\n",
       "Qty           0\n",
       "Amt           0\n",
       "CustomerID    0\n",
       "dtype: int64"
      ]
     },
     "execution_count": 19,
     "metadata": {},
     "output_type": "execute_result"
    }
   ],
   "source": [
    "orders.isna().sum()"
   ]
  },
  {
   "cell_type": "markdown",
   "metadata": {
    "id": "Ssb_UpOagBM2"
   },
   "source": [
    "## 3.데이터 전처리\n",
    "\n",
    "전처리 과정에서 다음과 같은 처리를 할 수 있습니다.\n",
    "\n",
    "- 결측치 처리\n",
    "- 값 변경\n",
    "- 열 추가\n",
    "- 불필요한 열 제거\n",
    "- 열 이름 변경\n",
    "- 데이터 통합(연결 또는 조인)\n",
    "- 가변수화 등"
   ]
  },
  {
   "cell_type": "markdown",
   "metadata": {
    "id": "XDI0-X06gBM3"
   },
   "source": [
    "**1) 데이터 통합**\n",
    "\n",
    "- 각 데이터프레임의 모든 열을 통합 할 것이 아니면 \n",
    "    - 필요한 열만 추출해 별도 데이터프레임을 선언한 후 통합하거나\n",
    "    - 또는 모두 통합 후 불필요한 열을 제거하는 방법을 사용합니다."
   ]
  },
  {
   "cell_type": "code",
   "execution_count": 20,
   "metadata": {
    "id": "NW7N_xeVgBM4"
   },
   "outputs": [
    {
     "data": {
      "text/plain": [
       "ProductID       0\n",
       "ProductName     0\n",
       "Category        0\n",
       "SubCategory     0\n",
       "CategoryOrd     0\n",
       "OrderID         0\n",
       "Seq             0\n",
       "OrderDate       0\n",
       "Qty             0\n",
       "Amt             0\n",
       "CustomerID      0\n",
       "RegisterDate    0\n",
       "Address         0\n",
       "Gender          0\n",
       "BirthYear       0\n",
       "Addr1           0\n",
       "Addr2           0\n",
       "dtype: int64"
      ]
     },
     "execution_count": 20,
     "metadata": {},
     "output_type": "execute_result"
    }
   ],
   "source": [
    "#조인\n",
    "total = pd.merge(products,orders, on = 'ProductID', how = 'inner' )\n",
    "total = pd.merge(total, customers, on = 'CustomerID' , how = 'inner')\n",
    "\n",
    "total.isna().sum()\n"
   ]
  },
  {
   "cell_type": "code",
   "execution_count": 137,
   "metadata": {},
   "outputs": [],
   "source": [
    "#필요없는 열 제거\n"
   ]
  },
  {
   "cell_type": "markdown",
   "metadata": {
    "id": "RvrfT0pRgBM4"
   },
   "source": [
    "**2) 결과 확인**"
   ]
  },
  {
   "cell_type": "code",
   "execution_count": 138,
   "metadata": {
    "id": "j-24yh-wgBM4"
   },
   "outputs": [
    {
     "data": {
      "text/html": [
       "<div>\n",
       "<style scoped>\n",
       "    .dataframe tbody tr th:only-of-type {\n",
       "        vertical-align: middle;\n",
       "    }\n",
       "\n",
       "    .dataframe tbody tr th {\n",
       "        vertical-align: top;\n",
       "    }\n",
       "\n",
       "    .dataframe thead th {\n",
       "        text-align: right;\n",
       "    }\n",
       "</style>\n",
       "<table border=\"1\" class=\"dataframe\">\n",
       "  <thead>\n",
       "    <tr style=\"text-align: right;\">\n",
       "      <th></th>\n",
       "      <th>ProductID</th>\n",
       "      <th>ProductName</th>\n",
       "      <th>Category</th>\n",
       "      <th>SubCategory</th>\n",
       "      <th>CategoryOrd</th>\n",
       "      <th>OrderID</th>\n",
       "      <th>Seq</th>\n",
       "      <th>OrderDate</th>\n",
       "      <th>Qty</th>\n",
       "      <th>Amt</th>\n",
       "      <th>CustomerID</th>\n",
       "      <th>RegisterDate</th>\n",
       "      <th>Address</th>\n",
       "      <th>Gender</th>\n",
       "      <th>BirthYear</th>\n",
       "      <th>Addr1</th>\n",
       "      <th>Addr2</th>\n",
       "    </tr>\n",
       "  </thead>\n",
       "  <tbody>\n",
       "    <tr>\n",
       "      <th>0</th>\n",
       "      <td>p1001771</td>\n",
       "      <td>마늘</td>\n",
       "      <td>채소</td>\n",
       "      <td>뿌리채소</td>\n",
       "      <td>5</td>\n",
       "      <td>38</td>\n",
       "      <td>1</td>\n",
       "      <td>2016-01-02</td>\n",
       "      <td>1</td>\n",
       "      <td>3150</td>\n",
       "      <td>c115512</td>\n",
       "      <td>2008-11-20</td>\n",
       "      <td>경기도 김포시 전원로</td>\n",
       "      <td>F</td>\n",
       "      <td>1980</td>\n",
       "      <td>경기도</td>\n",
       "      <td>김포시</td>\n",
       "    </tr>\n",
       "    <tr>\n",
       "      <th>1</th>\n",
       "      <td>p1001771</td>\n",
       "      <td>마늘</td>\n",
       "      <td>채소</td>\n",
       "      <td>뿌리채소</td>\n",
       "      <td>5</td>\n",
       "      <td>15</td>\n",
       "      <td>3</td>\n",
       "      <td>2016-03-01</td>\n",
       "      <td>1</td>\n",
       "      <td>3300</td>\n",
       "      <td>c115512</td>\n",
       "      <td>2008-11-20</td>\n",
       "      <td>경기도 김포시 전원로</td>\n",
       "      <td>F</td>\n",
       "      <td>1980</td>\n",
       "      <td>경기도</td>\n",
       "      <td>김포시</td>\n",
       "    </tr>\n",
       "    <tr>\n",
       "      <th>2</th>\n",
       "      <td>p1001771</td>\n",
       "      <td>마늘</td>\n",
       "      <td>채소</td>\n",
       "      <td>뿌리채소</td>\n",
       "      <td>5</td>\n",
       "      <td>28</td>\n",
       "      <td>6</td>\n",
       "      <td>2016-03-16</td>\n",
       "      <td>1</td>\n",
       "      <td>3300</td>\n",
       "      <td>c115512</td>\n",
       "      <td>2008-11-20</td>\n",
       "      <td>경기도 김포시 전원로</td>\n",
       "      <td>F</td>\n",
       "      <td>1980</td>\n",
       "      <td>경기도</td>\n",
       "      <td>김포시</td>\n",
       "    </tr>\n",
       "    <tr>\n",
       "      <th>3</th>\n",
       "      <td>p1001771</td>\n",
       "      <td>마늘</td>\n",
       "      <td>채소</td>\n",
       "      <td>뿌리채소</td>\n",
       "      <td>5</td>\n",
       "      <td>4</td>\n",
       "      <td>1</td>\n",
       "      <td>2016-08-28</td>\n",
       "      <td>1</td>\n",
       "      <td>3100</td>\n",
       "      <td>c115512</td>\n",
       "      <td>2008-11-20</td>\n",
       "      <td>경기도 김포시 전원로</td>\n",
       "      <td>F</td>\n",
       "      <td>1980</td>\n",
       "      <td>경기도</td>\n",
       "      <td>김포시</td>\n",
       "    </tr>\n",
       "    <tr>\n",
       "      <th>4</th>\n",
       "      <td>p1001771</td>\n",
       "      <td>마늘</td>\n",
       "      <td>채소</td>\n",
       "      <td>뿌리채소</td>\n",
       "      <td>5</td>\n",
       "      <td>57</td>\n",
       "      <td>1</td>\n",
       "      <td>2016-11-18</td>\n",
       "      <td>1</td>\n",
       "      <td>3100</td>\n",
       "      <td>c115512</td>\n",
       "      <td>2008-11-20</td>\n",
       "      <td>경기도 김포시 전원로</td>\n",
       "      <td>F</td>\n",
       "      <td>1980</td>\n",
       "      <td>경기도</td>\n",
       "      <td>김포시</td>\n",
       "    </tr>\n",
       "  </tbody>\n",
       "</table>\n",
       "</div>"
      ],
      "text/plain": [
       "  ProductID ProductName Category SubCategory  CategoryOrd  OrderID  Seq  \\\n",
       "0  p1001771          마늘       채소        뿌리채소            5       38    1   \n",
       "1  p1001771          마늘       채소        뿌리채소            5       15    3   \n",
       "2  p1001771          마늘       채소        뿌리채소            5       28    6   \n",
       "3  p1001771          마늘       채소        뿌리채소            5        4    1   \n",
       "4  p1001771          마늘       채소        뿌리채소            5       57    1   \n",
       "\n",
       "    OrderDate  Qty   Amt CustomerID RegisterDate      Address Gender  \\\n",
       "0  2016-01-02    1  3150    c115512   2008-11-20  경기도 김포시 전원로      F   \n",
       "1  2016-03-01    1  3300    c115512   2008-11-20  경기도 김포시 전원로      F   \n",
       "2  2016-03-16    1  3300    c115512   2008-11-20  경기도 김포시 전원로      F   \n",
       "3  2016-08-28    1  3100    c115512   2008-11-20  경기도 김포시 전원로      F   \n",
       "4  2016-11-18    1  3100    c115512   2008-11-20  경기도 김포시 전원로      F   \n",
       "\n",
       "   BirthYear Addr1 Addr2  \n",
       "0       1980   경기도   김포시  \n",
       "1       1980   경기도   김포시  \n",
       "2       1980   경기도   김포시  \n",
       "3       1980   경기도   김포시  \n",
       "4       1980   경기도   김포시  "
      ]
     },
     "execution_count": 138,
     "metadata": {},
     "output_type": "execute_result"
    }
   ],
   "source": [
    "total.head()"
   ]
  },
  {
   "cell_type": "markdown",
   "metadata": {
    "id": "Ll_SMqdOgBM5"
   },
   "source": [
    "**3) 열 추가**\n",
    "\n",
    "- 분석을 위해 필요한 열을 추가합니다.\n",
    "- 예를 들어 다음과 같은 열들이 필요하다고 판단할 수 있습니다.\n",
    "    - OrderYear: 주문연도, 주문연도별 분석이 용이하게 하기 위함\n",
    "    - OrderMonth: 주문월, 주문년월 분석이 용이하게 하기 위함\n",
    "    - Age: 연령별 분석을 하기 위함(2017 - 출생년도) 등등"
   ]
  },
  {
   "cell_type": "code",
   "execution_count": 21,
   "metadata": {
    "id": "ICHfbKB2gBM5",
    "scrolled": true
   },
   "outputs": [
    {
     "data": {
      "text/html": [
       "<div>\n",
       "<style scoped>\n",
       "    .dataframe tbody tr th:only-of-type {\n",
       "        vertical-align: middle;\n",
       "    }\n",
       "\n",
       "    .dataframe tbody tr th {\n",
       "        vertical-align: top;\n",
       "    }\n",
       "\n",
       "    .dataframe thead th {\n",
       "        text-align: right;\n",
       "    }\n",
       "</style>\n",
       "<table border=\"1\" class=\"dataframe\">\n",
       "  <thead>\n",
       "    <tr style=\"text-align: right;\">\n",
       "      <th></th>\n",
       "      <th>ProductID</th>\n",
       "      <th>ProductName</th>\n",
       "      <th>Category</th>\n",
       "      <th>SubCategory</th>\n",
       "      <th>CategoryOrd</th>\n",
       "      <th>OrderID</th>\n",
       "      <th>Seq</th>\n",
       "      <th>OrderDate</th>\n",
       "      <th>Qty</th>\n",
       "      <th>Amt</th>\n",
       "      <th>...</th>\n",
       "      <th>RegisterDate</th>\n",
       "      <th>Address</th>\n",
       "      <th>Gender</th>\n",
       "      <th>BirthYear</th>\n",
       "      <th>Addr1</th>\n",
       "      <th>Addr2</th>\n",
       "      <th>OrderYear</th>\n",
       "      <th>OrderMonth</th>\n",
       "      <th>Age</th>\n",
       "      <th>total_bill</th>\n",
       "    </tr>\n",
       "  </thead>\n",
       "  <tbody>\n",
       "    <tr>\n",
       "      <th>0</th>\n",
       "      <td>p1001771</td>\n",
       "      <td>마늘</td>\n",
       "      <td>채소</td>\n",
       "      <td>뿌리채소</td>\n",
       "      <td>5</td>\n",
       "      <td>38</td>\n",
       "      <td>1</td>\n",
       "      <td>2016-01-02</td>\n",
       "      <td>1</td>\n",
       "      <td>3150</td>\n",
       "      <td>...</td>\n",
       "      <td>2008-11-20</td>\n",
       "      <td>경기도 김포시 전원로</td>\n",
       "      <td>F</td>\n",
       "      <td>1980</td>\n",
       "      <td>경기도</td>\n",
       "      <td>김포시</td>\n",
       "      <td>2016</td>\n",
       "      <td>1</td>\n",
       "      <td>37</td>\n",
       "      <td>3150</td>\n",
       "    </tr>\n",
       "    <tr>\n",
       "      <th>1</th>\n",
       "      <td>p1001771</td>\n",
       "      <td>마늘</td>\n",
       "      <td>채소</td>\n",
       "      <td>뿌리채소</td>\n",
       "      <td>5</td>\n",
       "      <td>15</td>\n",
       "      <td>3</td>\n",
       "      <td>2016-03-01</td>\n",
       "      <td>1</td>\n",
       "      <td>3300</td>\n",
       "      <td>...</td>\n",
       "      <td>2008-11-20</td>\n",
       "      <td>경기도 김포시 전원로</td>\n",
       "      <td>F</td>\n",
       "      <td>1980</td>\n",
       "      <td>경기도</td>\n",
       "      <td>김포시</td>\n",
       "      <td>2016</td>\n",
       "      <td>3</td>\n",
       "      <td>37</td>\n",
       "      <td>3300</td>\n",
       "    </tr>\n",
       "    <tr>\n",
       "      <th>2</th>\n",
       "      <td>p1001771</td>\n",
       "      <td>마늘</td>\n",
       "      <td>채소</td>\n",
       "      <td>뿌리채소</td>\n",
       "      <td>5</td>\n",
       "      <td>28</td>\n",
       "      <td>6</td>\n",
       "      <td>2016-03-16</td>\n",
       "      <td>1</td>\n",
       "      <td>3300</td>\n",
       "      <td>...</td>\n",
       "      <td>2008-11-20</td>\n",
       "      <td>경기도 김포시 전원로</td>\n",
       "      <td>F</td>\n",
       "      <td>1980</td>\n",
       "      <td>경기도</td>\n",
       "      <td>김포시</td>\n",
       "      <td>2016</td>\n",
       "      <td>3</td>\n",
       "      <td>37</td>\n",
       "      <td>3300</td>\n",
       "    </tr>\n",
       "    <tr>\n",
       "      <th>3</th>\n",
       "      <td>p1001771</td>\n",
       "      <td>마늘</td>\n",
       "      <td>채소</td>\n",
       "      <td>뿌리채소</td>\n",
       "      <td>5</td>\n",
       "      <td>4</td>\n",
       "      <td>1</td>\n",
       "      <td>2016-08-28</td>\n",
       "      <td>1</td>\n",
       "      <td>3100</td>\n",
       "      <td>...</td>\n",
       "      <td>2008-11-20</td>\n",
       "      <td>경기도 김포시 전원로</td>\n",
       "      <td>F</td>\n",
       "      <td>1980</td>\n",
       "      <td>경기도</td>\n",
       "      <td>김포시</td>\n",
       "      <td>2016</td>\n",
       "      <td>8</td>\n",
       "      <td>37</td>\n",
       "      <td>3100</td>\n",
       "    </tr>\n",
       "    <tr>\n",
       "      <th>4</th>\n",
       "      <td>p1001771</td>\n",
       "      <td>마늘</td>\n",
       "      <td>채소</td>\n",
       "      <td>뿌리채소</td>\n",
       "      <td>5</td>\n",
       "      <td>57</td>\n",
       "      <td>1</td>\n",
       "      <td>2016-11-18</td>\n",
       "      <td>1</td>\n",
       "      <td>3100</td>\n",
       "      <td>...</td>\n",
       "      <td>2008-11-20</td>\n",
       "      <td>경기도 김포시 전원로</td>\n",
       "      <td>F</td>\n",
       "      <td>1980</td>\n",
       "      <td>경기도</td>\n",
       "      <td>김포시</td>\n",
       "      <td>2016</td>\n",
       "      <td>11</td>\n",
       "      <td>37</td>\n",
       "      <td>3100</td>\n",
       "    </tr>\n",
       "  </tbody>\n",
       "</table>\n",
       "<p>5 rows × 21 columns</p>\n",
       "</div>"
      ],
      "text/plain": [
       "  ProductID ProductName Category SubCategory  CategoryOrd  OrderID  Seq  \\\n",
       "0  p1001771          마늘       채소        뿌리채소            5       38    1   \n",
       "1  p1001771          마늘       채소        뿌리채소            5       15    3   \n",
       "2  p1001771          마늘       채소        뿌리채소            5       28    6   \n",
       "3  p1001771          마늘       채소        뿌리채소            5        4    1   \n",
       "4  p1001771          마늘       채소        뿌리채소            5       57    1   \n",
       "\n",
       "    OrderDate  Qty   Amt  ... RegisterDate      Address Gender BirthYear  \\\n",
       "0  2016-01-02    1  3150  ...   2008-11-20  경기도 김포시 전원로      F      1980   \n",
       "1  2016-03-01    1  3300  ...   2008-11-20  경기도 김포시 전원로      F      1980   \n",
       "2  2016-03-16    1  3300  ...   2008-11-20  경기도 김포시 전원로      F      1980   \n",
       "3  2016-08-28    1  3100  ...   2008-11-20  경기도 김포시 전원로      F      1980   \n",
       "4  2016-11-18    1  3100  ...   2008-11-20  경기도 김포시 전원로      F      1980   \n",
       "\n",
       "   Addr1 Addr2 OrderYear  OrderMonth  Age  total_bill  \n",
       "0    경기도   김포시      2016           1   37        3150  \n",
       "1    경기도   김포시      2016           3   37        3300  \n",
       "2    경기도   김포시      2016           3   37        3300  \n",
       "3    경기도   김포시      2016           8   37        3100  \n",
       "4    경기도   김포시      2016          11   37        3100  \n",
       "\n",
       "[5 rows x 21 columns]"
      ]
     },
     "execution_count": 21,
     "metadata": {},
     "output_type": "execute_result"
    }
   ],
   "source": [
    "\n",
    "total['OrderYear'] = pd.to_datetime(total['OrderDate']).dt.year\n",
    "total['OrderMonth'] = pd.to_datetime(total['OrderDate']).dt.month \n",
    "total['Age'] = 2017 - total['BirthYear']\n",
    "\n",
    "## 고객별 총 이용금액 열 추가 Qty * Amt\n",
    "total['total_bill'] = total['Qty'] * total['Amt']\n",
    "\n",
    "\n",
    "total.head()\n",
    "\n"
   ]
  },
  {
   "cell_type": "code",
   "execution_count": 157,
   "metadata": {},
   "outputs": [
    {
     "data": {
      "text/html": [
       "<div>\n",
       "<style scoped>\n",
       "    .dataframe tbody tr th:only-of-type {\n",
       "        vertical-align: middle;\n",
       "    }\n",
       "\n",
       "    .dataframe tbody tr th {\n",
       "        vertical-align: top;\n",
       "    }\n",
       "\n",
       "    .dataframe thead th {\n",
       "        text-align: right;\n",
       "    }\n",
       "</style>\n",
       "<table border=\"1\" class=\"dataframe\">\n",
       "  <thead>\n",
       "    <tr style=\"text-align: right;\">\n",
       "      <th></th>\n",
       "      <th>CategoryOrd</th>\n",
       "      <th>OrderID</th>\n",
       "      <th>Seq</th>\n",
       "      <th>Qty</th>\n",
       "      <th>Amt</th>\n",
       "      <th>CustomerID</th>\n",
       "      <th>RegisterDate</th>\n",
       "      <th>Address</th>\n",
       "      <th>Gender</th>\n",
       "      <th>BirthYear</th>\n",
       "      <th>Addr1</th>\n",
       "      <th>Addr2</th>\n",
       "      <th>OrderYear</th>\n",
       "      <th>OrderMonth</th>\n",
       "      <th>Age</th>\n",
       "      <th>total_bill</th>\n",
       "    </tr>\n",
       "  </thead>\n",
       "  <tbody>\n",
       "    <tr>\n",
       "      <th>0</th>\n",
       "      <td>5</td>\n",
       "      <td>38</td>\n",
       "      <td>1</td>\n",
       "      <td>1</td>\n",
       "      <td>3150</td>\n",
       "      <td>c115512</td>\n",
       "      <td>2008-11-20</td>\n",
       "      <td>경기도 김포시 전원로</td>\n",
       "      <td>F</td>\n",
       "      <td>1980</td>\n",
       "      <td>경기도</td>\n",
       "      <td>김포시</td>\n",
       "      <td>2016</td>\n",
       "      <td>1</td>\n",
       "      <td>37</td>\n",
       "      <td>3150</td>\n",
       "    </tr>\n",
       "    <tr>\n",
       "      <th>1</th>\n",
       "      <td>5</td>\n",
       "      <td>15</td>\n",
       "      <td>3</td>\n",
       "      <td>1</td>\n",
       "      <td>3300</td>\n",
       "      <td>c115512</td>\n",
       "      <td>2008-11-20</td>\n",
       "      <td>경기도 김포시 전원로</td>\n",
       "      <td>F</td>\n",
       "      <td>1980</td>\n",
       "      <td>경기도</td>\n",
       "      <td>김포시</td>\n",
       "      <td>2016</td>\n",
       "      <td>3</td>\n",
       "      <td>37</td>\n",
       "      <td>3300</td>\n",
       "    </tr>\n",
       "    <tr>\n",
       "      <th>2</th>\n",
       "      <td>5</td>\n",
       "      <td>28</td>\n",
       "      <td>6</td>\n",
       "      <td>1</td>\n",
       "      <td>3300</td>\n",
       "      <td>c115512</td>\n",
       "      <td>2008-11-20</td>\n",
       "      <td>경기도 김포시 전원로</td>\n",
       "      <td>F</td>\n",
       "      <td>1980</td>\n",
       "      <td>경기도</td>\n",
       "      <td>김포시</td>\n",
       "      <td>2016</td>\n",
       "      <td>3</td>\n",
       "      <td>37</td>\n",
       "      <td>3300</td>\n",
       "    </tr>\n",
       "    <tr>\n",
       "      <th>3</th>\n",
       "      <td>5</td>\n",
       "      <td>4</td>\n",
       "      <td>1</td>\n",
       "      <td>1</td>\n",
       "      <td>3100</td>\n",
       "      <td>c115512</td>\n",
       "      <td>2008-11-20</td>\n",
       "      <td>경기도 김포시 전원로</td>\n",
       "      <td>F</td>\n",
       "      <td>1980</td>\n",
       "      <td>경기도</td>\n",
       "      <td>김포시</td>\n",
       "      <td>2016</td>\n",
       "      <td>8</td>\n",
       "      <td>37</td>\n",
       "      <td>3100</td>\n",
       "    </tr>\n",
       "    <tr>\n",
       "      <th>4</th>\n",
       "      <td>5</td>\n",
       "      <td>57</td>\n",
       "      <td>1</td>\n",
       "      <td>1</td>\n",
       "      <td>3100</td>\n",
       "      <td>c115512</td>\n",
       "      <td>2008-11-20</td>\n",
       "      <td>경기도 김포시 전원로</td>\n",
       "      <td>F</td>\n",
       "      <td>1980</td>\n",
       "      <td>경기도</td>\n",
       "      <td>김포시</td>\n",
       "      <td>2016</td>\n",
       "      <td>11</td>\n",
       "      <td>37</td>\n",
       "      <td>3100</td>\n",
       "    </tr>\n",
       "    <tr>\n",
       "      <th>5</th>\n",
       "      <td>5</td>\n",
       "      <td>28</td>\n",
       "      <td>1</td>\n",
       "      <td>1</td>\n",
       "      <td>3100</td>\n",
       "      <td>c115512</td>\n",
       "      <td>2008-11-20</td>\n",
       "      <td>경기도 김포시 전원로</td>\n",
       "      <td>F</td>\n",
       "      <td>1980</td>\n",
       "      <td>경기도</td>\n",
       "      <td>김포시</td>\n",
       "      <td>2016</td>\n",
       "      <td>12</td>\n",
       "      <td>37</td>\n",
       "      <td>3100</td>\n",
       "    </tr>\n",
       "    <tr>\n",
       "      <th>6</th>\n",
       "      <td>5</td>\n",
       "      <td>9</td>\n",
       "      <td>8</td>\n",
       "      <td>1</td>\n",
       "      <td>2800</td>\n",
       "      <td>c115512</td>\n",
       "      <td>2008-11-20</td>\n",
       "      <td>경기도 김포시 전원로</td>\n",
       "      <td>F</td>\n",
       "      <td>1980</td>\n",
       "      <td>경기도</td>\n",
       "      <td>김포시</td>\n",
       "      <td>2017</td>\n",
       "      <td>1</td>\n",
       "      <td>37</td>\n",
       "      <td>2800</td>\n",
       "    </tr>\n",
       "    <tr>\n",
       "      <th>7</th>\n",
       "      <td>5</td>\n",
       "      <td>56</td>\n",
       "      <td>10</td>\n",
       "      <td>1</td>\n",
       "      <td>2950</td>\n",
       "      <td>c115512</td>\n",
       "      <td>2008-11-20</td>\n",
       "      <td>경기도 김포시 전원로</td>\n",
       "      <td>F</td>\n",
       "      <td>1980</td>\n",
       "      <td>경기도</td>\n",
       "      <td>김포시</td>\n",
       "      <td>2017</td>\n",
       "      <td>3</td>\n",
       "      <td>37</td>\n",
       "      <td>2950</td>\n",
       "    </tr>\n",
       "    <tr>\n",
       "      <th>8</th>\n",
       "      <td>2</td>\n",
       "      <td>30</td>\n",
       "      <td>6</td>\n",
       "      <td>1</td>\n",
       "      <td>11000</td>\n",
       "      <td>c115512</td>\n",
       "      <td>2008-11-20</td>\n",
       "      <td>경기도 김포시 전원로</td>\n",
       "      <td>F</td>\n",
       "      <td>1980</td>\n",
       "      <td>경기도</td>\n",
       "      <td>김포시</td>\n",
       "      <td>2016</td>\n",
       "      <td>3</td>\n",
       "      <td>37</td>\n",
       "      <td>11000</td>\n",
       "    </tr>\n",
       "    <tr>\n",
       "      <th>9</th>\n",
       "      <td>2</td>\n",
       "      <td>56</td>\n",
       "      <td>8</td>\n",
       "      <td>1</td>\n",
       "      <td>10700</td>\n",
       "      <td>c115512</td>\n",
       "      <td>2008-11-20</td>\n",
       "      <td>경기도 김포시 전원로</td>\n",
       "      <td>F</td>\n",
       "      <td>1980</td>\n",
       "      <td>경기도</td>\n",
       "      <td>김포시</td>\n",
       "      <td>2017</td>\n",
       "      <td>3</td>\n",
       "      <td>37</td>\n",
       "      <td>10700</td>\n",
       "    </tr>\n",
       "    <tr>\n",
       "      <th>10</th>\n",
       "      <td>1</td>\n",
       "      <td>60</td>\n",
       "      <td>1</td>\n",
       "      <td>1</td>\n",
       "      <td>2900</td>\n",
       "      <td>c115512</td>\n",
       "      <td>2008-11-20</td>\n",
       "      <td>경기도 김포시 전원로</td>\n",
       "      <td>F</td>\n",
       "      <td>1980</td>\n",
       "      <td>경기도</td>\n",
       "      <td>김포시</td>\n",
       "      <td>2016</td>\n",
       "      <td>1</td>\n",
       "      <td>37</td>\n",
       "      <td>2900</td>\n",
       "    </tr>\n",
       "    <tr>\n",
       "      <th>11</th>\n",
       "      <td>1</td>\n",
       "      <td>9</td>\n",
       "      <td>4</td>\n",
       "      <td>1</td>\n",
       "      <td>2900</td>\n",
       "      <td>c115512</td>\n",
       "      <td>2008-11-20</td>\n",
       "      <td>경기도 김포시 전원로</td>\n",
       "      <td>F</td>\n",
       "      <td>1980</td>\n",
       "      <td>경기도</td>\n",
       "      <td>김포시</td>\n",
       "      <td>2016</td>\n",
       "      <td>1</td>\n",
       "      <td>37</td>\n",
       "      <td>2900</td>\n",
       "    </tr>\n",
       "    <tr>\n",
       "      <th>12</th>\n",
       "      <td>1</td>\n",
       "      <td>14</td>\n",
       "      <td>1</td>\n",
       "      <td>1</td>\n",
       "      <td>2900</td>\n",
       "      <td>c115512</td>\n",
       "      <td>2008-11-20</td>\n",
       "      <td>경기도 김포시 전원로</td>\n",
       "      <td>F</td>\n",
       "      <td>1980</td>\n",
       "      <td>경기도</td>\n",
       "      <td>김포시</td>\n",
       "      <td>2016</td>\n",
       "      <td>2</td>\n",
       "      <td>37</td>\n",
       "      <td>2900</td>\n",
       "    </tr>\n",
       "    <tr>\n",
       "      <th>13</th>\n",
       "      <td>1</td>\n",
       "      <td>65</td>\n",
       "      <td>4</td>\n",
       "      <td>1</td>\n",
       "      <td>2900</td>\n",
       "      <td>c115512</td>\n",
       "      <td>2008-11-20</td>\n",
       "      <td>경기도 김포시 전원로</td>\n",
       "      <td>F</td>\n",
       "      <td>1980</td>\n",
       "      <td>경기도</td>\n",
       "      <td>김포시</td>\n",
       "      <td>2016</td>\n",
       "      <td>5</td>\n",
       "      <td>37</td>\n",
       "      <td>2900</td>\n",
       "    </tr>\n",
       "    <tr>\n",
       "      <th>14</th>\n",
       "      <td>1</td>\n",
       "      <td>29</td>\n",
       "      <td>4</td>\n",
       "      <td>1</td>\n",
       "      <td>2900</td>\n",
       "      <td>c115512</td>\n",
       "      <td>2008-11-20</td>\n",
       "      <td>경기도 김포시 전원로</td>\n",
       "      <td>F</td>\n",
       "      <td>1980</td>\n",
       "      <td>경기도</td>\n",
       "      <td>김포시</td>\n",
       "      <td>2016</td>\n",
       "      <td>7</td>\n",
       "      <td>37</td>\n",
       "      <td>2900</td>\n",
       "    </tr>\n",
       "    <tr>\n",
       "      <th>15</th>\n",
       "      <td>1</td>\n",
       "      <td>15</td>\n",
       "      <td>2</td>\n",
       "      <td>1</td>\n",
       "      <td>2900</td>\n",
       "      <td>c115512</td>\n",
       "      <td>2008-11-20</td>\n",
       "      <td>경기도 김포시 전원로</td>\n",
       "      <td>F</td>\n",
       "      <td>1980</td>\n",
       "      <td>경기도</td>\n",
       "      <td>김포시</td>\n",
       "      <td>2016</td>\n",
       "      <td>8</td>\n",
       "      <td>37</td>\n",
       "      <td>2900</td>\n",
       "    </tr>\n",
       "    <tr>\n",
       "      <th>16</th>\n",
       "      <td>1</td>\n",
       "      <td>80</td>\n",
       "      <td>4</td>\n",
       "      <td>1</td>\n",
       "      <td>2900</td>\n",
       "      <td>c115512</td>\n",
       "      <td>2008-11-20</td>\n",
       "      <td>경기도 김포시 전원로</td>\n",
       "      <td>F</td>\n",
       "      <td>1980</td>\n",
       "      <td>경기도</td>\n",
       "      <td>김포시</td>\n",
       "      <td>2016</td>\n",
       "      <td>9</td>\n",
       "      <td>37</td>\n",
       "      <td>2900</td>\n",
       "    </tr>\n",
       "    <tr>\n",
       "      <th>17</th>\n",
       "      <td>1</td>\n",
       "      <td>51</td>\n",
       "      <td>4</td>\n",
       "      <td>1</td>\n",
       "      <td>2900</td>\n",
       "      <td>c115512</td>\n",
       "      <td>2008-11-20</td>\n",
       "      <td>경기도 김포시 전원로</td>\n",
       "      <td>F</td>\n",
       "      <td>1980</td>\n",
       "      <td>경기도</td>\n",
       "      <td>김포시</td>\n",
       "      <td>2016</td>\n",
       "      <td>10</td>\n",
       "      <td>37</td>\n",
       "      <td>2900</td>\n",
       "    </tr>\n",
       "    <tr>\n",
       "      <th>18</th>\n",
       "      <td>1</td>\n",
       "      <td>2</td>\n",
       "      <td>2</td>\n",
       "      <td>1</td>\n",
       "      <td>2900</td>\n",
       "      <td>c115512</td>\n",
       "      <td>2008-11-20</td>\n",
       "      <td>경기도 김포시 전원로</td>\n",
       "      <td>F</td>\n",
       "      <td>1980</td>\n",
       "      <td>경기도</td>\n",
       "      <td>김포시</td>\n",
       "      <td>2016</td>\n",
       "      <td>11</td>\n",
       "      <td>37</td>\n",
       "      <td>2900</td>\n",
       "    </tr>\n",
       "    <tr>\n",
       "      <th>19</th>\n",
       "      <td>1</td>\n",
       "      <td>40</td>\n",
       "      <td>6</td>\n",
       "      <td>1</td>\n",
       "      <td>2900</td>\n",
       "      <td>c115512</td>\n",
       "      <td>2008-11-20</td>\n",
       "      <td>경기도 김포시 전원로</td>\n",
       "      <td>F</td>\n",
       "      <td>1980</td>\n",
       "      <td>경기도</td>\n",
       "      <td>김포시</td>\n",
       "      <td>2016</td>\n",
       "      <td>11</td>\n",
       "      <td>37</td>\n",
       "      <td>2900</td>\n",
       "    </tr>\n",
       "    <tr>\n",
       "      <th>20</th>\n",
       "      <td>1</td>\n",
       "      <td>5</td>\n",
       "      <td>5</td>\n",
       "      <td>1</td>\n",
       "      <td>2900</td>\n",
       "      <td>c115512</td>\n",
       "      <td>2008-11-20</td>\n",
       "      <td>경기도 김포시 전원로</td>\n",
       "      <td>F</td>\n",
       "      <td>1980</td>\n",
       "      <td>경기도</td>\n",
       "      <td>김포시</td>\n",
       "      <td>2016</td>\n",
       "      <td>12</td>\n",
       "      <td>37</td>\n",
       "      <td>2900</td>\n",
       "    </tr>\n",
       "    <tr>\n",
       "      <th>21</th>\n",
       "      <td>1</td>\n",
       "      <td>9</td>\n",
       "      <td>7</td>\n",
       "      <td>1</td>\n",
       "      <td>2900</td>\n",
       "      <td>c115512</td>\n",
       "      <td>2008-11-20</td>\n",
       "      <td>경기도 김포시 전원로</td>\n",
       "      <td>F</td>\n",
       "      <td>1980</td>\n",
       "      <td>경기도</td>\n",
       "      <td>김포시</td>\n",
       "      <td>2017</td>\n",
       "      <td>1</td>\n",
       "      <td>37</td>\n",
       "      <td>2900</td>\n",
       "    </tr>\n",
       "    <tr>\n",
       "      <th>22</th>\n",
       "      <td>1</td>\n",
       "      <td>26</td>\n",
       "      <td>2</td>\n",
       "      <td>1</td>\n",
       "      <td>2900</td>\n",
       "      <td>c115512</td>\n",
       "      <td>2008-11-20</td>\n",
       "      <td>경기도 김포시 전원로</td>\n",
       "      <td>F</td>\n",
       "      <td>1980</td>\n",
       "      <td>경기도</td>\n",
       "      <td>김포시</td>\n",
       "      <td>2017</td>\n",
       "      <td>3</td>\n",
       "      <td>37</td>\n",
       "      <td>2900</td>\n",
       "    </tr>\n",
       "    <tr>\n",
       "      <th>23</th>\n",
       "      <td>1</td>\n",
       "      <td>19</td>\n",
       "      <td>2</td>\n",
       "      <td>1</td>\n",
       "      <td>1850</td>\n",
       "      <td>c115512</td>\n",
       "      <td>2008-11-20</td>\n",
       "      <td>경기도 김포시 전원로</td>\n",
       "      <td>F</td>\n",
       "      <td>1980</td>\n",
       "      <td>경기도</td>\n",
       "      <td>김포시</td>\n",
       "      <td>2016</td>\n",
       "      <td>1</td>\n",
       "      <td>37</td>\n",
       "      <td>1850</td>\n",
       "    </tr>\n",
       "    <tr>\n",
       "      <th>24</th>\n",
       "      <td>1</td>\n",
       "      <td>46</td>\n",
       "      <td>13</td>\n",
       "      <td>1</td>\n",
       "      <td>1850</td>\n",
       "      <td>c115512</td>\n",
       "      <td>2008-11-20</td>\n",
       "      <td>경기도 김포시 전원로</td>\n",
       "      <td>F</td>\n",
       "      <td>1980</td>\n",
       "      <td>경기도</td>\n",
       "      <td>김포시</td>\n",
       "      <td>2016</td>\n",
       "      <td>2</td>\n",
       "      <td>37</td>\n",
       "      <td>1850</td>\n",
       "    </tr>\n",
       "    <tr>\n",
       "      <th>25</th>\n",
       "      <td>1</td>\n",
       "      <td>31</td>\n",
       "      <td>3</td>\n",
       "      <td>1</td>\n",
       "      <td>1850</td>\n",
       "      <td>c115512</td>\n",
       "      <td>2008-11-20</td>\n",
       "      <td>경기도 김포시 전원로</td>\n",
       "      <td>F</td>\n",
       "      <td>1980</td>\n",
       "      <td>경기도</td>\n",
       "      <td>김포시</td>\n",
       "      <td>2016</td>\n",
       "      <td>3</td>\n",
       "      <td>37</td>\n",
       "      <td>1850</td>\n",
       "    </tr>\n",
       "    <tr>\n",
       "      <th>26</th>\n",
       "      <td>1</td>\n",
       "      <td>18</td>\n",
       "      <td>8</td>\n",
       "      <td>1</td>\n",
       "      <td>1850</td>\n",
       "      <td>c115512</td>\n",
       "      <td>2008-11-20</td>\n",
       "      <td>경기도 김포시 전원로</td>\n",
       "      <td>F</td>\n",
       "      <td>1980</td>\n",
       "      <td>경기도</td>\n",
       "      <td>김포시</td>\n",
       "      <td>2016</td>\n",
       "      <td>3</td>\n",
       "      <td>37</td>\n",
       "      <td>1850</td>\n",
       "    </tr>\n",
       "    <tr>\n",
       "      <th>27</th>\n",
       "      <td>1</td>\n",
       "      <td>28</td>\n",
       "      <td>7</td>\n",
       "      <td>1</td>\n",
       "      <td>1850</td>\n",
       "      <td>c115512</td>\n",
       "      <td>2008-11-20</td>\n",
       "      <td>경기도 김포시 전원로</td>\n",
       "      <td>F</td>\n",
       "      <td>1980</td>\n",
       "      <td>경기도</td>\n",
       "      <td>김포시</td>\n",
       "      <td>2016</td>\n",
       "      <td>3</td>\n",
       "      <td>37</td>\n",
       "      <td>1850</td>\n",
       "    </tr>\n",
       "    <tr>\n",
       "      <th>28</th>\n",
       "      <td>1</td>\n",
       "      <td>30</td>\n",
       "      <td>5</td>\n",
       "      <td>1</td>\n",
       "      <td>1850</td>\n",
       "      <td>c115512</td>\n",
       "      <td>2008-11-20</td>\n",
       "      <td>경기도 김포시 전원로</td>\n",
       "      <td>F</td>\n",
       "      <td>1980</td>\n",
       "      <td>경기도</td>\n",
       "      <td>김포시</td>\n",
       "      <td>2016</td>\n",
       "      <td>3</td>\n",
       "      <td>37</td>\n",
       "      <td>1850</td>\n",
       "    </tr>\n",
       "    <tr>\n",
       "      <th>29</th>\n",
       "      <td>1</td>\n",
       "      <td>47</td>\n",
       "      <td>2</td>\n",
       "      <td>1</td>\n",
       "      <td>1850</td>\n",
       "      <td>c115512</td>\n",
       "      <td>2008-11-20</td>\n",
       "      <td>경기도 김포시 전원로</td>\n",
       "      <td>F</td>\n",
       "      <td>1980</td>\n",
       "      <td>경기도</td>\n",
       "      <td>김포시</td>\n",
       "      <td>2016</td>\n",
       "      <td>4</td>\n",
       "      <td>37</td>\n",
       "      <td>1850</td>\n",
       "    </tr>\n",
       "  </tbody>\n",
       "</table>\n",
       "</div>"
      ],
      "text/plain": [
       "    CategoryOrd  OrderID  Seq  Qty    Amt CustomerID RegisterDate  \\\n",
       "0             5       38    1    1   3150    c115512   2008-11-20   \n",
       "1             5       15    3    1   3300    c115512   2008-11-20   \n",
       "2             5       28    6    1   3300    c115512   2008-11-20   \n",
       "3             5        4    1    1   3100    c115512   2008-11-20   \n",
       "4             5       57    1    1   3100    c115512   2008-11-20   \n",
       "5             5       28    1    1   3100    c115512   2008-11-20   \n",
       "6             5        9    8    1   2800    c115512   2008-11-20   \n",
       "7             5       56   10    1   2950    c115512   2008-11-20   \n",
       "8             2       30    6    1  11000    c115512   2008-11-20   \n",
       "9             2       56    8    1  10700    c115512   2008-11-20   \n",
       "10            1       60    1    1   2900    c115512   2008-11-20   \n",
       "11            1        9    4    1   2900    c115512   2008-11-20   \n",
       "12            1       14    1    1   2900    c115512   2008-11-20   \n",
       "13            1       65    4    1   2900    c115512   2008-11-20   \n",
       "14            1       29    4    1   2900    c115512   2008-11-20   \n",
       "15            1       15    2    1   2900    c115512   2008-11-20   \n",
       "16            1       80    4    1   2900    c115512   2008-11-20   \n",
       "17            1       51    4    1   2900    c115512   2008-11-20   \n",
       "18            1        2    2    1   2900    c115512   2008-11-20   \n",
       "19            1       40    6    1   2900    c115512   2008-11-20   \n",
       "20            1        5    5    1   2900    c115512   2008-11-20   \n",
       "21            1        9    7    1   2900    c115512   2008-11-20   \n",
       "22            1       26    2    1   2900    c115512   2008-11-20   \n",
       "23            1       19    2    1   1850    c115512   2008-11-20   \n",
       "24            1       46   13    1   1850    c115512   2008-11-20   \n",
       "25            1       31    3    1   1850    c115512   2008-11-20   \n",
       "26            1       18    8    1   1850    c115512   2008-11-20   \n",
       "27            1       28    7    1   1850    c115512   2008-11-20   \n",
       "28            1       30    5    1   1850    c115512   2008-11-20   \n",
       "29            1       47    2    1   1850    c115512   2008-11-20   \n",
       "\n",
       "        Address Gender  BirthYear Addr1 Addr2  OrderYear  OrderMonth  Age  \\\n",
       "0   경기도 김포시 전원로      F       1980   경기도   김포시       2016           1   37   \n",
       "1   경기도 김포시 전원로      F       1980   경기도   김포시       2016           3   37   \n",
       "2   경기도 김포시 전원로      F       1980   경기도   김포시       2016           3   37   \n",
       "3   경기도 김포시 전원로      F       1980   경기도   김포시       2016           8   37   \n",
       "4   경기도 김포시 전원로      F       1980   경기도   김포시       2016          11   37   \n",
       "5   경기도 김포시 전원로      F       1980   경기도   김포시       2016          12   37   \n",
       "6   경기도 김포시 전원로      F       1980   경기도   김포시       2017           1   37   \n",
       "7   경기도 김포시 전원로      F       1980   경기도   김포시       2017           3   37   \n",
       "8   경기도 김포시 전원로      F       1980   경기도   김포시       2016           3   37   \n",
       "9   경기도 김포시 전원로      F       1980   경기도   김포시       2017           3   37   \n",
       "10  경기도 김포시 전원로      F       1980   경기도   김포시       2016           1   37   \n",
       "11  경기도 김포시 전원로      F       1980   경기도   김포시       2016           1   37   \n",
       "12  경기도 김포시 전원로      F       1980   경기도   김포시       2016           2   37   \n",
       "13  경기도 김포시 전원로      F       1980   경기도   김포시       2016           5   37   \n",
       "14  경기도 김포시 전원로      F       1980   경기도   김포시       2016           7   37   \n",
       "15  경기도 김포시 전원로      F       1980   경기도   김포시       2016           8   37   \n",
       "16  경기도 김포시 전원로      F       1980   경기도   김포시       2016           9   37   \n",
       "17  경기도 김포시 전원로      F       1980   경기도   김포시       2016          10   37   \n",
       "18  경기도 김포시 전원로      F       1980   경기도   김포시       2016          11   37   \n",
       "19  경기도 김포시 전원로      F       1980   경기도   김포시       2016          11   37   \n",
       "20  경기도 김포시 전원로      F       1980   경기도   김포시       2016          12   37   \n",
       "21  경기도 김포시 전원로      F       1980   경기도   김포시       2017           1   37   \n",
       "22  경기도 김포시 전원로      F       1980   경기도   김포시       2017           3   37   \n",
       "23  경기도 김포시 전원로      F       1980   경기도   김포시       2016           1   37   \n",
       "24  경기도 김포시 전원로      F       1980   경기도   김포시       2016           2   37   \n",
       "25  경기도 김포시 전원로      F       1980   경기도   김포시       2016           3   37   \n",
       "26  경기도 김포시 전원로      F       1980   경기도   김포시       2016           3   37   \n",
       "27  경기도 김포시 전원로      F       1980   경기도   김포시       2016           3   37   \n",
       "28  경기도 김포시 전원로      F       1980   경기도   김포시       2016           3   37   \n",
       "29  경기도 김포시 전원로      F       1980   경기도   김포시       2016           4   37   \n",
       "\n",
       "    total_bill  \n",
       "0         3150  \n",
       "1         3300  \n",
       "2         3300  \n",
       "3         3100  \n",
       "4         3100  \n",
       "5         3100  \n",
       "6         2800  \n",
       "7         2950  \n",
       "8        11000  \n",
       "9        10700  \n",
       "10        2900  \n",
       "11        2900  \n",
       "12        2900  \n",
       "13        2900  \n",
       "14        2900  \n",
       "15        2900  \n",
       "16        2900  \n",
       "17        2900  \n",
       "18        2900  \n",
       "19        2900  \n",
       "20        2900  \n",
       "21        2900  \n",
       "22        2900  \n",
       "23        1850  \n",
       "24        1850  \n",
       "25        1850  \n",
       "26        1850  \n",
       "27        1850  \n",
       "28        1850  \n",
       "29        1850  "
      ]
     },
     "execution_count": 157,
     "metadata": {},
     "output_type": "execute_result"
    }
   ],
   "source": [
    "total.head(30)"
   ]
  },
  {
   "cell_type": "markdown",
   "metadata": {
    "id": "DBX8rt-PgBM5"
   },
   "source": [
    "**4) 불필요한 열 제거**\n",
    "\n",
    "- 분석에 필요가 없다고 생각되는 열은 제거합니다.\n",
    "- 새로운 열을 추가하면 기존 열이 필요하지 않을 수 있습니다.\n",
    "- 예를 들어 다음 열들이 필요하지 않다고 판단할 수 있습니다.\n",
    "    - OrderDate: 새로 추가한 OrderYear, OrderMonth 열 사용\n",
    "    - ProductID: ProductName 열 사용\n",
    "    - SubCategory: 분석 대상에서 제외 등등"
   ]
  },
  {
   "cell_type": "code",
   "execution_count": 22,
   "metadata": {
    "id": "OiIofiMIgBM5"
   },
   "outputs": [
    {
     "data": {
      "text/html": [
       "<div>\n",
       "<style scoped>\n",
       "    .dataframe tbody tr th:only-of-type {\n",
       "        vertical-align: middle;\n",
       "    }\n",
       "\n",
       "    .dataframe tbody tr th {\n",
       "        vertical-align: top;\n",
       "    }\n",
       "\n",
       "    .dataframe thead th {\n",
       "        text-align: right;\n",
       "    }\n",
       "</style>\n",
       "<table border=\"1\" class=\"dataframe\">\n",
       "  <thead>\n",
       "    <tr style=\"text-align: right;\">\n",
       "      <th></th>\n",
       "      <th>CustomerID</th>\n",
       "      <th>Category</th>\n",
       "      <th>Gender</th>\n",
       "      <th>Age</th>\n",
       "      <th>Addr1</th>\n",
       "      <th>Addr2</th>\n",
       "      <th>Qty</th>\n",
       "      <th>Amt</th>\n",
       "      <th>total_bill</th>\n",
       "    </tr>\n",
       "  </thead>\n",
       "  <tbody>\n",
       "    <tr>\n",
       "      <th>0</th>\n",
       "      <td>c115512</td>\n",
       "      <td>채소</td>\n",
       "      <td>F</td>\n",
       "      <td>37</td>\n",
       "      <td>경기도</td>\n",
       "      <td>김포시</td>\n",
       "      <td>1</td>\n",
       "      <td>3150</td>\n",
       "      <td>3150</td>\n",
       "    </tr>\n",
       "    <tr>\n",
       "      <th>1</th>\n",
       "      <td>c115512</td>\n",
       "      <td>채소</td>\n",
       "      <td>F</td>\n",
       "      <td>37</td>\n",
       "      <td>경기도</td>\n",
       "      <td>김포시</td>\n",
       "      <td>1</td>\n",
       "      <td>3300</td>\n",
       "      <td>3300</td>\n",
       "    </tr>\n",
       "    <tr>\n",
       "      <th>2</th>\n",
       "      <td>c115512</td>\n",
       "      <td>채소</td>\n",
       "      <td>F</td>\n",
       "      <td>37</td>\n",
       "      <td>경기도</td>\n",
       "      <td>김포시</td>\n",
       "      <td>1</td>\n",
       "      <td>3300</td>\n",
       "      <td>3300</td>\n",
       "    </tr>\n",
       "    <tr>\n",
       "      <th>3</th>\n",
       "      <td>c115512</td>\n",
       "      <td>채소</td>\n",
       "      <td>F</td>\n",
       "      <td>37</td>\n",
       "      <td>경기도</td>\n",
       "      <td>김포시</td>\n",
       "      <td>1</td>\n",
       "      <td>3100</td>\n",
       "      <td>3100</td>\n",
       "    </tr>\n",
       "    <tr>\n",
       "      <th>4</th>\n",
       "      <td>c115512</td>\n",
       "      <td>채소</td>\n",
       "      <td>F</td>\n",
       "      <td>37</td>\n",
       "      <td>경기도</td>\n",
       "      <td>김포시</td>\n",
       "      <td>1</td>\n",
       "      <td>3100</td>\n",
       "      <td>3100</td>\n",
       "    </tr>\n",
       "  </tbody>\n",
       "</table>\n",
       "</div>"
      ],
      "text/plain": [
       "  CustomerID Category Gender  Age Addr1 Addr2  Qty   Amt  total_bill\n",
       "0    c115512       채소      F   37   경기도   김포시    1  3150        3150\n",
       "1    c115512       채소      F   37   경기도   김포시    1  3300        3300\n",
       "2    c115512       채소      F   37   경기도   김포시    1  3300        3300\n",
       "3    c115512       채소      F   37   경기도   김포시    1  3100        3100\n",
       "4    c115512       채소      F   37   경기도   김포시    1  3100        3100"
      ]
     },
     "execution_count": 22,
     "metadata": {},
     "output_type": "execute_result"
    }
   ],
   "source": [
    "del_cols =['ProductName','Category','OrderDate','ProductID','SubCategory']\n",
    "del_col = ['OrderDate', 'ProductID', 'CategoryOrd', 'Address']\n",
    "total.drop(columns = del_col, axis = 1, inplace = True)\n",
    "\n",
    "total.head()\n",
    "\n",
    "#tmpc total_bill 에 대한 분석 \n",
    "useful_cols = ['CustomerID','Category','Gender','Age','Addr1','Addr2','Qty','Amt','total_bill']\n",
    "tmpc = total[useful_cols]\n",
    "\n",
    "tmpc.head()"
   ]
  },
  {
   "cell_type": "code",
   "execution_count": 31,
   "metadata": {},
   "outputs": [],
   "source": [
    "####여기#################################"
   ]
  },
  {
   "cell_type": "code",
   "execution_count": 30,
   "metadata": {},
   "outputs": [
    {
     "data": {
      "text/html": [
       "<div>\n",
       "<style scoped>\n",
       "    .dataframe tbody tr th:only-of-type {\n",
       "        vertical-align: middle;\n",
       "    }\n",
       "\n",
       "    .dataframe tbody tr th {\n",
       "        vertical-align: top;\n",
       "    }\n",
       "\n",
       "    .dataframe thead th {\n",
       "        text-align: right;\n",
       "    }\n",
       "</style>\n",
       "<table border=\"1\" class=\"dataframe\">\n",
       "  <thead>\n",
       "    <tr style=\"text-align: right;\">\n",
       "      <th></th>\n",
       "      <th>CustomerID</th>\n",
       "      <th>카테고리</th>\n",
       "      <th>성별</th>\n",
       "      <th>나이</th>\n",
       "      <th>시도</th>\n",
       "      <th>구군</th>\n",
       "      <th>수량</th>\n",
       "      <th>금액</th>\n",
       "      <th>총판매액</th>\n",
       "    </tr>\n",
       "  </thead>\n",
       "  <tbody>\n",
       "    <tr>\n",
       "      <th>0</th>\n",
       "      <td>c115512</td>\n",
       "      <td>채소</td>\n",
       "      <td>F</td>\n",
       "      <td>37</td>\n",
       "      <td>경기도</td>\n",
       "      <td>김포시</td>\n",
       "      <td>1</td>\n",
       "      <td>3150</td>\n",
       "      <td>3150</td>\n",
       "    </tr>\n",
       "    <tr>\n",
       "      <th>1</th>\n",
       "      <td>c115512</td>\n",
       "      <td>채소</td>\n",
       "      <td>F</td>\n",
       "      <td>37</td>\n",
       "      <td>경기도</td>\n",
       "      <td>김포시</td>\n",
       "      <td>1</td>\n",
       "      <td>3300</td>\n",
       "      <td>3300</td>\n",
       "    </tr>\n",
       "    <tr>\n",
       "      <th>2</th>\n",
       "      <td>c115512</td>\n",
       "      <td>채소</td>\n",
       "      <td>F</td>\n",
       "      <td>37</td>\n",
       "      <td>경기도</td>\n",
       "      <td>김포시</td>\n",
       "      <td>1</td>\n",
       "      <td>3300</td>\n",
       "      <td>3300</td>\n",
       "    </tr>\n",
       "    <tr>\n",
       "      <th>3</th>\n",
       "      <td>c115512</td>\n",
       "      <td>채소</td>\n",
       "      <td>F</td>\n",
       "      <td>37</td>\n",
       "      <td>경기도</td>\n",
       "      <td>김포시</td>\n",
       "      <td>1</td>\n",
       "      <td>3100</td>\n",
       "      <td>3100</td>\n",
       "    </tr>\n",
       "    <tr>\n",
       "      <th>4</th>\n",
       "      <td>c115512</td>\n",
       "      <td>채소</td>\n",
       "      <td>F</td>\n",
       "      <td>37</td>\n",
       "      <td>경기도</td>\n",
       "      <td>김포시</td>\n",
       "      <td>1</td>\n",
       "      <td>3100</td>\n",
       "      <td>3100</td>\n",
       "    </tr>\n",
       "  </tbody>\n",
       "</table>\n",
       "</div>"
      ],
      "text/plain": [
       "  CustomerID 카테고리 성별  나이   시도   구군  수량    금액  총판매액\n",
       "0    c115512   채소  F  37  경기도  김포시   1  3150  3150\n",
       "1    c115512   채소  F  37  경기도  김포시   1  3300  3300\n",
       "2    c115512   채소  F  37  경기도  김포시   1  3300  3300\n",
       "3    c115512   채소  F  37  경기도  김포시   1  3100  3100\n",
       "4    c115512   채소  F  37  경기도  김포시   1  3100  3100"
      ]
     },
     "execution_count": 30,
     "metadata": {},
     "output_type": "execute_result"
    }
   ],
   "source": [
    "tmpc.columns = ['CustomerID','카테고리', '성별', '나이', '시도', '구군', '수량', '금액',\n",
    "       '총판매액']\n",
    "\n",
    "tmpc.head()"
   ]
  },
  {
   "cell_type": "code",
   "execution_count": 29,
   "metadata": {},
   "outputs": [
    {
     "data": {
      "text/plain": [
       "(6940,)"
      ]
     },
     "execution_count": 29,
     "metadata": {},
     "output_type": "execute_result"
    }
   ],
   "source": [
    "tmp = tmpc.groupby(by = ['CustomerID','카테고리'], as_index = [False,False])['총판매액'].sum()\n"
   ]
  },
  {
   "cell_type": "markdown",
   "metadata": {
    "id": "m6GXYXOTgBM6"
   },
   "source": [
    "## 4.데이터 분석\n",
    "\n",
    "- 현재 판매 현황을 분석해 향후 판매 전략 수립에 중요한 정보로 활용할 것입니다.\n",
    "- 데이터를 집계하고 간단히 시각화하여 판매 현황을 분석합니다.\n",
    "- 연속형 값은 선 그래프, 범주형 값은 막대 그래프로 시각화함이 일반적입니다."
   ]
  },
  {
   "cell_type": "markdown",
   "metadata": {
    "id": "xnAS4-iJgBM6"
   },
   "source": [
    "**1) 남녀별 판매 현황**\n",
    "\n",
    "- 남녀별 판매 현황을 막대 그래프로 시각화해 확인합니다."
   ]
  },
  {
   "cell_type": "code",
   "execution_count": 142,
   "metadata": {
    "id": "WEvcSWHSgBM6"
   },
   "outputs": [
    {
     "data": {
      "image/png": "[encoded data removed]",
      "text/plain": [
       "<Figure size 432x288 with 1 Axes>"
      ]
     },
     "metadata": {
      "image/png": {
       "height": 279,
       "width": 403
      },
      "needs_background": "light"
     },
     "output_type": "display_data"
    }
   ],
   "source": [
    "tmp = tmpc.groupby(by='성별', as_index = False)['총판매액'].sum()\n",
    "\n",
    "\n",
    "# plt.figure(figsize = (8,6))\n",
    "plt.bar(tmp['성별'], tmp['총판매액']/1000,width = 0.5)\n",
    "plt.title('남녀별 총 판매현황')\n",
    "plt.xlabel('성별')\n",
    "plt.ylabel('총판매액(천)')\n",
    "plt.grid(axis = 'y')\n",
    "plt.ticklabel_format(axis='y',style='plain') # y값을 지수형태가아닌 원래 값이 보니게함\n",
    "plt.show()\n"
   ]
  },
  {
   "cell_type": "markdown",
   "metadata": {
    "id": "cN83XzDHgBM7"
   },
   "source": [
    "**2) 지역별 판매 현황**\n",
    "\n",
    "- 지역별 판매 현황을 막대 그래프로 시각화해 확인합니다."
   ]
  },
  {
   "cell_type": "code",
   "execution_count": 143,
   "metadata": {
    "id": "bvPb1xzogBM7",
    "scrolled": true
   },
   "outputs": [
    {
     "data": {
      "image/png": "[encoded data removed]",
      "text/plain": [
       "<Figure size 432x288 with 1 Axes>"
      ]
     },
     "metadata": {
      "image/png": {
       "height": 319,
       "width": 403
      },
      "needs_background": "light"
     },
     "output_type": "display_data"
    }
   ],
   "source": [
    "tmp = tmpc.groupby(by='시도', as_index = False)['총판매액'].sum()\n",
    "\n",
    "plt.bar(tmp['시도'], tmp['총판매액']/1000,width = 0.5)\n",
    "plt.title('시/도 별 총 판매현황')\n",
    "plt.xlabel('시도')\n",
    "plt.ylabel('총판매액(천)')\n",
    "plt.grid(axis = 'y')\n",
    "plt.ticklabel_format(axis='y',style='plain') \n",
    "plt.xticks(rotation = 70)\n",
    "plt.show()\n"
   ]
  },
  {
   "cell_type": "markdown",
   "metadata": {
    "id": "tOUH5zU8zf9k"
   },
   "source": [
    "**3)추가 최근 구매 고객별 매출액으로 순환률을 알아보자** "
   ]
  },
  {
   "cell_type": "markdown",
   "metadata": {
    "id": "RXHtLPhzzj-d"
   },
   "source": [
    "**4) 추가**"
   ]
  },
  {
   "cell_type": "markdown",
   "metadata": {
    "id": "whE4SZXmzkQR"
   },
   "source": [
    "**5) 추가**"
   ]
  },
  {
   "cell_type": "markdown",
   "metadata": {
    "id": "ajTIZ9gNgBM7"
   },
   "source": [
    "## 5.고객 분류\n",
    "\n",
    "* 고객을 등급을 나눠 판매 현황을 분석하고 이에 따른 판매 전략을 수립하려합니다.\n",
    "- 우선 고객을 일정 기준에 따라 분류하고 등급을 지정해야 합니다.\n",
    "- 다음과 같은 순서로 처리하면 될 것입니다.\n",
    "    - 고객별 주문 수량 합, 판매 금액 합을 갖는 데이터프레임 선언\n",
    "    - 고객 분류 기준과 이 기준에 따른 등급 이름 정의\n",
    "    - 고객 등급을 갖는 새로운 Level 열 추가"
   ]
  },
  {
   "cell_type": "markdown",
   "metadata": {
    "id": "oYwVs7u2gBM7"
   },
   "source": [
    "**1) 고객별 집계**\n",
    "\n",
    "* 고객별 주문 수량 합, 판매 금액 합을 갖는 cst 데이터프레임을 선언합니다."
   ]
  },
  {
   "cell_type": "code",
   "execution_count": 144,
   "metadata": {
    "id": "JHF506hggBM8"
   },
   "outputs": [
    {
     "data": {
      "text/html": [
       "<div>\n",
       "<style scoped>\n",
       "    .dataframe tbody tr th:only-of-type {\n",
       "        vertical-align: middle;\n",
       "    }\n",
       "\n",
       "    .dataframe tbody tr th {\n",
       "        vertical-align: top;\n",
       "    }\n",
       "\n",
       "    .dataframe thead th {\n",
       "        text-align: right;\n",
       "    }\n",
       "</style>\n",
       "<table border=\"1\" class=\"dataframe\">\n",
       "  <thead>\n",
       "    <tr style=\"text-align: right;\">\n",
       "      <th></th>\n",
       "      <th>CustomerID</th>\n",
       "      <th>성별</th>\n",
       "      <th>나이</th>\n",
       "      <th>시도</th>\n",
       "      <th>구군</th>\n",
       "      <th>수량</th>\n",
       "      <th>금액</th>\n",
       "      <th>총판매액</th>\n",
       "    </tr>\n",
       "  </thead>\n",
       "  <tbody>\n",
       "    <tr>\n",
       "      <th>0</th>\n",
       "      <td>c115512</td>\n",
       "      <td>F</td>\n",
       "      <td>37</td>\n",
       "      <td>경기도</td>\n",
       "      <td>김포시</td>\n",
       "      <td>1</td>\n",
       "      <td>3150</td>\n",
       "      <td>3150</td>\n",
       "    </tr>\n",
       "    <tr>\n",
       "      <th>1</th>\n",
       "      <td>c115512</td>\n",
       "      <td>F</td>\n",
       "      <td>37</td>\n",
       "      <td>경기도</td>\n",
       "      <td>김포시</td>\n",
       "      <td>1</td>\n",
       "      <td>3300</td>\n",
       "      <td>3300</td>\n",
       "    </tr>\n",
       "  </tbody>\n",
       "</table>\n",
       "</div>"
      ],
      "text/plain": [
       "  CustomerID 성별  나이   시도   구군  수량    금액  총판매액\n",
       "0    c115512  F  37  경기도  김포시   1  3150  3150\n",
       "1    c115512  F  37  경기도  김포시   1  3300  3300"
      ]
     },
     "execution_count": 144,
     "metadata": {},
     "output_type": "execute_result"
    }
   ],
   "source": [
    "tmpc.head(2)"
   ]
  },
  {
   "cell_type": "code",
   "execution_count": 39,
   "metadata": {},
   "outputs": [
    {
     "data": {
      "text/html": [
       "<div>\n",
       "<style scoped>\n",
       "    .dataframe tbody tr th:only-of-type {\n",
       "        vertical-align: middle;\n",
       "    }\n",
       "\n",
       "    .dataframe tbody tr th {\n",
       "        vertical-align: top;\n",
       "    }\n",
       "\n",
       "    .dataframe thead th {\n",
       "        text-align: right;\n",
       "    }\n",
       "</style>\n",
       "<table border=\"1\" class=\"dataframe\">\n",
       "  <thead>\n",
       "    <tr style=\"text-align: right;\">\n",
       "      <th></th>\n",
       "      <th>CustomerID</th>\n",
       "      <th>수량</th>\n",
       "      <th>총판매액</th>\n",
       "    </tr>\n",
       "  </thead>\n",
       "  <tbody>\n",
       "    <tr>\n",
       "      <th>0</th>\n",
       "      <td>c017487</td>\n",
       "      <td>127</td>\n",
       "      <td>545557</td>\n",
       "    </tr>\n",
       "    <tr>\n",
       "      <th>1</th>\n",
       "      <td>c017503</td>\n",
       "      <td>42</td>\n",
       "      <td>170624</td>\n",
       "    </tr>\n",
       "    <tr>\n",
       "      <th>2</th>\n",
       "      <td>c017517</td>\n",
       "      <td>192</td>\n",
       "      <td>596136</td>\n",
       "    </tr>\n",
       "    <tr>\n",
       "      <th>3</th>\n",
       "      <td>c017522</td>\n",
       "      <td>64</td>\n",
       "      <td>253349</td>\n",
       "    </tr>\n",
       "    <tr>\n",
       "      <th>4</th>\n",
       "      <td>c017526</td>\n",
       "      <td>26</td>\n",
       "      <td>64681</td>\n",
       "    </tr>\n",
       "  </tbody>\n",
       "</table>\n",
       "</div>"
      ],
      "text/plain": [
       "  CustomerID   수량    총판매액\n",
       "0    c017487  127  545557\n",
       "1    c017503   42  170624\n",
       "2    c017517  192  596136\n",
       "3    c017522   64  253349\n",
       "4    c017526   26   64681"
      ]
     },
     "execution_count": 39,
     "metadata": {},
     "output_type": "execute_result"
    }
   ],
   "source": [
    "cst = tmpc.groupby(by ='CustomerID', as_index = False)[['수량','총판매액']].sum()\n",
    "\n",
    "cst.head()"
   ]
  },
  {
   "cell_type": "markdown",
   "metadata": {
    "id": "Se7JGfL4gBM8"
   },
   "source": [
    "**2) 고객 분류 기준 찾기**\n",
    "\n",
    "- 고객 등급 분류 기준을 찾기 위해 관련 데이터를 확인합니다."
   ]
  },
  {
   "cell_type": "code",
   "execution_count": 146,
   "metadata": {},
   "outputs": [
    {
     "data": {
      "text/html": [
       "<div>\n",
       "<style scoped>\n",
       "    .dataframe tbody tr th:only-of-type {\n",
       "        vertical-align: middle;\n",
       "    }\n",
       "\n",
       "    .dataframe tbody tr th {\n",
       "        vertical-align: top;\n",
       "    }\n",
       "\n",
       "    .dataframe thead th {\n",
       "        text-align: right;\n",
       "    }\n",
       "</style>\n",
       "<table border=\"1\" class=\"dataframe\">\n",
       "  <thead>\n",
       "    <tr style=\"text-align: right;\">\n",
       "      <th></th>\n",
       "      <th>수량</th>\n",
       "      <th>총판매액</th>\n",
       "    </tr>\n",
       "  </thead>\n",
       "  <tbody>\n",
       "    <tr>\n",
       "      <th>count</th>\n",
       "      <td>2,237.0</td>\n",
       "      <td>2,237.0</td>\n",
       "    </tr>\n",
       "    <tr>\n",
       "      <th>mean</th>\n",
       "      <td>39.0</td>\n",
       "      <td>145,538.5</td>\n",
       "    </tr>\n",
       "    <tr>\n",
       "      <th>std</th>\n",
       "      <td>63.2</td>\n",
       "      <td>587,485.4</td>\n",
       "    </tr>\n",
       "    <tr>\n",
       "      <th>min</th>\n",
       "      <td>1.0</td>\n",
       "      <td>273.0</td>\n",
       "    </tr>\n",
       "    <tr>\n",
       "      <th>25%</th>\n",
       "      <td>4.0</td>\n",
       "      <td>9,850.0</td>\n",
       "    </tr>\n",
       "    <tr>\n",
       "      <th>50%</th>\n",
       "      <td>13.0</td>\n",
       "      <td>37,410.0</td>\n",
       "    </tr>\n",
       "    <tr>\n",
       "      <th>75%</th>\n",
       "      <td>47.0</td>\n",
       "      <td>137,210.0</td>\n",
       "    </tr>\n",
       "    <tr>\n",
       "      <th>max</th>\n",
       "      <td>1,008.0</td>\n",
       "      <td>19,605,368.0</td>\n",
       "    </tr>\n",
       "  </tbody>\n",
       "</table>\n",
       "</div>"
      ],
      "text/plain": [
       "            수량          총판매액\n",
       "count  2,237.0       2,237.0\n",
       "mean      39.0     145,538.5\n",
       "std       63.2     587,485.4\n",
       "min        1.0         273.0\n",
       "25%        4.0       9,850.0\n",
       "50%       13.0      37,410.0\n",
       "75%       47.0     137,210.0\n",
       "max    1,008.0  19,605,368.0"
      ]
     },
     "execution_count": 146,
     "metadata": {},
     "output_type": "execute_result"
    }
   ],
   "source": [
    "cst.describe().apply(lambda x : x.apply('{:,.1f}'.format))"
   ]
  },
  {
   "cell_type": "markdown",
   "metadata": {
    "id": "OqXtZMluFrHv"
   },
   "source": [
    "**3) 고객 분류 기준 정리**\n",
    "\n",
    "- 고객 등급 분류 기준과 그 기준에 따른 등급 이름을 정리합니다.\n",
    "- 예를 들면 다음과 같은 기준과 등급 이름을 정의할 수 있을 것입니다.\n",
    "    - ~ 30,000: Family\n",
    "    - 30,000 ~ 100,000: Bronze\n",
    "    - 100,000 ~ 300,000: Silver\n",
    "    - 300,000 ~ : Gold\n",
    "    - 600,000 ~ : Platinum\n",
    "- 분류 기준과 등급 이름\n",
    "- '총판매액' 을 기준으로 함\n",
    "    - descirbe() 를 통해 \n",
    "    -  Falmily ~ 3000 \n",
    "    -  Bronze ~ 9,850 25프로\n",
    "    -  Silver ~ 37,410 50프로\n",
    "    -  Gole ~137,210 ,75%\n",
    "    - Platinum  137,210~ "
   ]
  },
  {
   "cell_type": "markdown",
   "metadata": {
    "id": "aav9vJSTgBM8"
   },
   "source": [
    "**4) 고객 등급 반영**\n",
    "\n",
    "- 각자 정의한 기준에 따라 고객 등급을 Level 열로 저장합니다."
   ]
  },
  {
   "cell_type": "code",
   "execution_count": 147,
   "metadata": {},
   "outputs": [],
   "source": [
    "import numpy as np"
   ]
  },
  {
   "cell_type": "code",
   "execution_count": 189,
   "metadata": {
    "id": "QgxDdl-EgBM8",
    "tags": []
   },
   "outputs": [
    {
     "data": {
      "text/plain": [
       "Gold        559\n",
       "Platinum    559\n",
       "Silver      558\n",
       "Bronze      365\n",
       "Family      196\n",
       "Name: 등급, dtype: int64"
      ]
     },
     "execution_count": 189,
     "metadata": {},
     "output_type": "execute_result"
    }
   ],
   "source": [
    "\n",
    "#cut() 함수\n",
    "q1 = 3000\n",
    "q2 = cst.describe().loc['25%','총판매액']\n",
    "q3 = cst.describe().loc['50%','총판매액']\n",
    "q4 = cst.describe().loc['75%','총판매액']\n",
    "my_bin = [-np.inf, q1, q2, q3,q4, np.inf] # -np.inf 마이너스 무한대/ 경계값은 왼쪾에 포함 \n",
    "label = ['Family', 'Bronze', 'Silver', 'Gold','Platinum']\n",
    "\n",
    "cst['등급'] = pd.cut( cst['총판매액'] , bins = my_bin  , labels = label )\n",
    "# 확인\n",
    "cst['등급'].value_counts()\n",
    "\n",
    "# 결론 플레 골드 실버가 너무많아 수정요망"
   ]
  },
  {
   "cell_type": "code",
   "execution_count": 190,
   "metadata": {},
   "outputs": [
    {
     "data": {
      "image/png": "[encoded data removed]",
      "text/plain": [
       "<Figure size 432x288 with 1 Axes>"
      ]
     },
     "metadata": {
      "image/png": {
       "height": 309,
       "width": 398
      },
      "needs_background": "light"
     },
     "output_type": "display_data"
    }
   ],
   "source": [
    "tmp = cst.groupby(by = '등급', as_index = False)['수량'].sum()\n",
    "tmp = tmp.sort_values(by = '등급', ascending = True)\n",
    "\n",
    "# plt.figure(figsize = (8,6))\n",
    "plt.bar(tmp['등급'] , tmp['수량'], width = 0.5)\n",
    "plt.title('등급별 판매 수량(개)')\n",
    "plt.xlabel('등급')\n",
    "plt.ylabel('판매 수량')\n",
    "plt.grid(axis = 'y')\n",
    "plt.ticklabel_format(axis='y',style='plain') # y값을 지수형태가아닌 원래 값이 보니게함\n",
    "plt.xticks(rotation = 70)\n",
    "plt.show()"
   ]
  },
  {
   "cell_type": "markdown",
   "metadata": {
    "id": "krCEvndzGUiq"
   },
   "source": [
    "- 등급별 고객 수를 확인해 등급이 적절히 나뉘었는지 검증합니다.\n",
    "- 검증 결과가 적절하지 않다면 위 기준을 변경해 등급을 다시 나눕니다."
   ]
  },
  {
   "cell_type": "code",
   "execution_count": 40,
   "metadata": {
    "id": "6G2TSGW1gBM8"
   },
   "outputs": [
    {
     "data": {
      "text/plain": [
       "Family      1009\n",
       "Bronze       525\n",
       "Silver       420\n",
       "Gold         187\n",
       "Platinum      96\n",
       "Name: 등급, dtype: int64"
      ]
     },
     "execution_count": 40,
     "metadata": {},
     "output_type": "execute_result"
    }
   ],
   "source": [
    "\n",
    "\n",
    "q1 = 30000\n",
    "q2 = 100000\n",
    "q3 = 300000\n",
    "q4 = 600000\n",
    "# q1 = cst.describe().loc['25%','총판매액']\n",
    "# q2 = cst.describe().loc['50%','총판매액']\n",
    "# q3 = cst['총판매액'].mean()\n",
    "# q4 = cst['총판매액'].mean() + 250000\n",
    "my_bin = [-np.inf, q1, q2, q3,q4, np.inf] # -np.inf 마이너스 무한대/ 경계값은 왼쪾에 포함 \n",
    "label = ['Family', 'Bronze', 'Silver', 'Gold','Platinum']\n",
    "\n",
    "cst['등급'] = pd.cut( cst['총판매액'] , bins = my_bin  , labels = label )\n",
    "# 확인\n",
    "cst['등급'].value_counts()\n",
    "\n",
    "#타당해보임"
   ]
  },
  {
   "cell_type": "code",
   "execution_count": 41,
   "metadata": {},
   "outputs": [
    {
     "data": {
      "text/html": [
       "<div>\n",
       "<style scoped>\n",
       "    .dataframe tbody tr th:only-of-type {\n",
       "        vertical-align: middle;\n",
       "    }\n",
       "\n",
       "    .dataframe tbody tr th {\n",
       "        vertical-align: top;\n",
       "    }\n",
       "\n",
       "    .dataframe thead th {\n",
       "        text-align: right;\n",
       "    }\n",
       "</style>\n",
       "<table border=\"1\" class=\"dataframe\">\n",
       "  <thead>\n",
       "    <tr style=\"text-align: right;\">\n",
       "      <th></th>\n",
       "      <th>CustomerID</th>\n",
       "      <th>수량</th>\n",
       "      <th>총판매액</th>\n",
       "      <th>등급</th>\n",
       "    </tr>\n",
       "  </thead>\n",
       "  <tbody>\n",
       "    <tr>\n",
       "      <th>0</th>\n",
       "      <td>c017487</td>\n",
       "      <td>127</td>\n",
       "      <td>545557</td>\n",
       "      <td>Gold</td>\n",
       "    </tr>\n",
       "    <tr>\n",
       "      <th>1</th>\n",
       "      <td>c017503</td>\n",
       "      <td>42</td>\n",
       "      <td>170624</td>\n",
       "      <td>Silver</td>\n",
       "    </tr>\n",
       "    <tr>\n",
       "      <th>2</th>\n",
       "      <td>c017517</td>\n",
       "      <td>192</td>\n",
       "      <td>596136</td>\n",
       "      <td>Gold</td>\n",
       "    </tr>\n",
       "    <tr>\n",
       "      <th>3</th>\n",
       "      <td>c017522</td>\n",
       "      <td>64</td>\n",
       "      <td>253349</td>\n",
       "      <td>Silver</td>\n",
       "    </tr>\n",
       "    <tr>\n",
       "      <th>4</th>\n",
       "      <td>c017526</td>\n",
       "      <td>26</td>\n",
       "      <td>64681</td>\n",
       "      <td>Bronze</td>\n",
       "    </tr>\n",
       "  </tbody>\n",
       "</table>\n",
       "</div>"
      ],
      "text/plain": [
       "  CustomerID   수량    총판매액      등급\n",
       "0    c017487  127  545557    Gold\n",
       "1    c017503   42  170624  Silver\n",
       "2    c017517  192  596136    Gold\n",
       "3    c017522   64  253349  Silver\n",
       "4    c017526   26   64681  Bronze"
      ]
     },
     "execution_count": 41,
     "metadata": {},
     "output_type": "execute_result"
    }
   ],
   "source": [
    "cst.head()"
   ]
  },
  {
   "cell_type": "code",
   "execution_count": 42,
   "metadata": {},
   "outputs": [
    {
     "name": "stdout",
     "output_type": "stream",
     "text": [
      "<class 'pandas.core.frame.DataFrame'>\n",
      "Int64Index: 2237 entries, 0 to 2236\n",
      "Data columns (total 4 columns):\n",
      " #   Column      Non-Null Count  Dtype   \n",
      "---  ------      --------------  -----   \n",
      " 0   CustomerID  2237 non-null   object  \n",
      " 1   수량          2237 non-null   int64   \n",
      " 2   총판매액        2237 non-null   int64   \n",
      " 3   등급          2237 non-null   category\n",
      "dtypes: category(1), int64(2), object(1)\n",
      "memory usage: 72.3+ KB\n"
     ]
    }
   ],
   "source": [
    "cst.info()"
   ]
  },
  {
   "cell_type": "markdown",
   "metadata": {
    "id": "xRweF7aygBM9"
   },
   "source": [
    "## 6.등급별 고객 분석\n",
    "\n",
    "- 고객 등급을 기준으로 다양한 분석을 진행합니다.\n",
    "- 등급 별 분석은 판매 전략을 새롭게 수립하는 데 중요한 자료가 될 것입니다.\n",
    "- 분석 과정에서 판매 전략에 대한 부분을 고민해 보시기 바랍니다."
   ]
  },
  {
   "cell_type": "markdown",
   "metadata": {
    "id": "FhuIC1EigBM9"
   },
   "source": [
    "**1) 등급별 판매 수량**\n",
    "\n",
    "- 고객 등급별 판매 수량을 막대 그래프로 시각화해 확인합니다."
   ]
  },
  {
   "cell_type": "code",
   "execution_count": 175,
   "metadata": {
    "id": "fQMK4rnLgBM9",
    "tags": []
   },
   "outputs": [
    {
     "data": {
      "image/png": "[encoded data removed]",
      "text/plain": [
       "<Figure size 432x288 with 1 Axes>"
      ]
     },
     "metadata": {
      "image/png": {
       "height": 309,
       "width": 398
      },
      "needs_background": "light"
     },
     "output_type": "display_data"
    }
   ],
   "source": [
    "tmp = cst.groupby(by = '등급', as_index = False)['수량'].sum()\n",
    "tmp = tmp.sort_values(by = '등급', ascending = True)\n",
    "\n",
    "# plt.figure(figsize = (8,6))\n",
    "plt.bar(tmp['등급'] , tmp['수량'], width = 0.5)\n",
    "plt.title('등급별 판매 수량(개)')\n",
    "plt.xlabel('등급')\n",
    "plt.ylabel('판매 수량')\n",
    "plt.grid(axis = 'y')\n",
    "plt.ticklabel_format(axis='y',style='plain') # y값을 지수형태가아닌 원래 값이 보니게함\n",
    "plt.xticks(rotation = 70)\n",
    "plt.show()"
   ]
  },
  {
   "cell_type": "markdown",
   "metadata": {
    "id": "hOZBoX2KgBM9"
   },
   "source": [
    "**2) 등급별 판매 금액**\n",
    "\n",
    "- 고객 등급별 판매 금액을 막대 그래프로 시각화해 확인합니다. "
   ]
  },
  {
   "cell_type": "code",
   "execution_count": 193,
   "metadata": {
    "id": "pSovttlfgBM-"
   },
   "outputs": [
    {
     "data": {
      "image/png": "[encoded data removed]",
      "text/plain": [
       "<Figure size 432x288 with 1 Axes>"
      ]
     },
     "metadata": {
      "image/png": {
       "height": 309,
       "width": 403
      },
      "needs_background": "light"
     },
     "output_type": "display_data"
    }
   ],
   "source": [
    "tmp = cst.groupby(by = '등급', as_index = False)['총판매액'].sum()\n",
    "tmp = tmp.sort_values(by = '등급', ascending = True)\n",
    "\n",
    "# plt.figure(figsize = (8,6))\n",
    "plt.bar(tmp['등급'] , tmp['총판매액']/1000, width = 0.5)\n",
    "plt.title('등급별 총판매액(천)')\n",
    "plt.xlabel('등급')\n",
    "plt.ylabel('총판매액(천)')\n",
    "plt.grid(axis = 'y')\n",
    "plt.ticklabel_format(axis='y',style='plain') # y값을 지수형태가아닌 원래 값이 보니게함\n",
    "plt.xticks(rotation = 70)\n",
    "plt.show()\n",
    "\n"
   ]
  },
  {
   "cell_type": "markdown",
   "metadata": {
    "id": "roH6tulQz6ib"
   },
   "source": [
    "**3) 추가 분석결과를 통해**\n",
    "- merge 한 통합 raw데이터에 고객별 등급을 추가하여 등급별 분석을 해보자\n",
    "\n",
    "- total1 이라는 새로운 데이터 셋을 만든다"
   ]
  },
  {
   "cell_type": "code",
   "execution_count": 184,
   "metadata": {
    "id": "8ZBjHX04z6ie"
   },
   "outputs": [
    {
     "data": {
      "text/html": [
       "<div>\n",
       "<style scoped>\n",
       "    .dataframe tbody tr th:only-of-type {\n",
       "        vertical-align: middle;\n",
       "    }\n",
       "\n",
       "    .dataframe tbody tr th {\n",
       "        vertical-align: top;\n",
       "    }\n",
       "\n",
       "    .dataframe thead th {\n",
       "        text-align: right;\n",
       "    }\n",
       "</style>\n",
       "<table border=\"1\" class=\"dataframe\">\n",
       "  <thead>\n",
       "    <tr style=\"text-align: right;\">\n",
       "      <th></th>\n",
       "      <th>ProductID</th>\n",
       "      <th>ProductName</th>\n",
       "      <th>Category</th>\n",
       "      <th>SubCategory</th>\n",
       "      <th>CategoryOrd</th>\n",
       "      <th>OrderID</th>\n",
       "      <th>Seq</th>\n",
       "      <th>OrderDate</th>\n",
       "      <th>Qty</th>\n",
       "      <th>Amt</th>\n",
       "      <th>CustomerID</th>\n",
       "      <th>RegisterDate</th>\n",
       "      <th>Address</th>\n",
       "      <th>Gender</th>\n",
       "      <th>BirthYear</th>\n",
       "      <th>Addr1</th>\n",
       "      <th>Addr2</th>\n",
       "    </tr>\n",
       "  </thead>\n",
       "  <tbody>\n",
       "    <tr>\n",
       "      <th>68834</th>\n",
       "      <td>p1284851</td>\n",
       "      <td>유기농우유</td>\n",
       "      <td>유제품</td>\n",
       "      <td>우유</td>\n",
       "      <td>4</td>\n",
       "      <td>8</td>\n",
       "      <td>1</td>\n",
       "      <td>2016-12-13</td>\n",
       "      <td>1</td>\n",
       "      <td>2750</td>\n",
       "      <td>c090177</td>\n",
       "      <td>2007-07-03</td>\n",
       "      <td>서울 은평구 서오릉로17길</td>\n",
       "      <td>F</td>\n",
       "      <td>1970</td>\n",
       "      <td>서울특별시</td>\n",
       "      <td>은평구</td>\n",
       "    </tr>\n",
       "    <tr>\n",
       "      <th>68835</th>\n",
       "      <td>p1284851</td>\n",
       "      <td>유기농우유</td>\n",
       "      <td>유제품</td>\n",
       "      <td>우유</td>\n",
       "      <td>4</td>\n",
       "      <td>32</td>\n",
       "      <td>1</td>\n",
       "      <td>2017-02-24</td>\n",
       "      <td>1</td>\n",
       "      <td>2750</td>\n",
       "      <td>c399799</td>\n",
       "      <td>2017-02-24</td>\n",
       "      <td>인천광역시 연수구 원인재로</td>\n",
       "      <td>M</td>\n",
       "      <td>1983</td>\n",
       "      <td>인천광역시</td>\n",
       "      <td>연수구</td>\n",
       "    </tr>\n",
       "    <tr>\n",
       "      <th>68836</th>\n",
       "      <td>p1284851</td>\n",
       "      <td>유기농우유</td>\n",
       "      <td>유제품</td>\n",
       "      <td>우유</td>\n",
       "      <td>4</td>\n",
       "      <td>9</td>\n",
       "      <td>1</td>\n",
       "      <td>2017-03-17</td>\n",
       "      <td>1</td>\n",
       "      <td>2750</td>\n",
       "      <td>c214450</td>\n",
       "      <td>2011-11-14</td>\n",
       "      <td>서울특별시 강북구 인수봉로79다길</td>\n",
       "      <td>M</td>\n",
       "      <td>1979</td>\n",
       "      <td>서울특별시</td>\n",
       "      <td>강북구</td>\n",
       "    </tr>\n",
       "    <tr>\n",
       "      <th>68837</th>\n",
       "      <td>p1284851</td>\n",
       "      <td>유기농우유</td>\n",
       "      <td>유제품</td>\n",
       "      <td>우유</td>\n",
       "      <td>4</td>\n",
       "      <td>35</td>\n",
       "      <td>1</td>\n",
       "      <td>2017-03-19</td>\n",
       "      <td>1</td>\n",
       "      <td>2750</td>\n",
       "      <td>c400735</td>\n",
       "      <td>2017-03-09</td>\n",
       "      <td>경기도 남양주시 와부읍 덕소로</td>\n",
       "      <td>F</td>\n",
       "      <td>1970</td>\n",
       "      <td>경기도</td>\n",
       "      <td>남양주시</td>\n",
       "    </tr>\n",
       "    <tr>\n",
       "      <th>68838</th>\n",
       "      <td>p1299491</td>\n",
       "      <td>당근</td>\n",
       "      <td>채소</td>\n",
       "      <td>뿌리채소</td>\n",
       "      <td>5</td>\n",
       "      <td>22</td>\n",
       "      <td>1</td>\n",
       "      <td>2017-03-04</td>\n",
       "      <td>1</td>\n",
       "      <td>2150</td>\n",
       "      <td>c193555</td>\n",
       "      <td>2011-05-10</td>\n",
       "      <td>경기도 김포시 승가로</td>\n",
       "      <td>F</td>\n",
       "      <td>1968</td>\n",
       "      <td>경기도</td>\n",
       "      <td>김포시</td>\n",
       "    </tr>\n",
       "  </tbody>\n",
       "</table>\n",
       "</div>"
      ],
      "text/plain": [
       "      ProductID ProductName Category SubCategory  CategoryOrd  OrderID  Seq  \\\n",
       "68834  p1284851       유기농우유      유제품          우유            4        8    1   \n",
       "68835  p1284851       유기농우유      유제품          우유            4       32    1   \n",
       "68836  p1284851       유기농우유      유제품          우유            4        9    1   \n",
       "68837  p1284851       유기농우유      유제품          우유            4       35    1   \n",
       "68838  p1299491          당근       채소        뿌리채소            5       22    1   \n",
       "\n",
       "        OrderDate  Qty   Amt CustomerID RegisterDate             Address  \\\n",
       "68834  2016-12-13    1  2750    c090177   2007-07-03      서울 은평구 서오릉로17길   \n",
       "68835  2017-02-24    1  2750    c399799   2017-02-24      인천광역시 연수구 원인재로   \n",
       "68836  2017-03-17    1  2750    c214450   2011-11-14  서울특별시 강북구 인수봉로79다길   \n",
       "68837  2017-03-19    1  2750    c400735   2017-03-09    경기도 남양주시 와부읍 덕소로   \n",
       "68838  2017-03-04    1  2150    c193555   2011-05-10         경기도 김포시 승가로   \n",
       "\n",
       "      Gender  BirthYear  Addr1 Addr2  \n",
       "68834      F       1970  서울특별시   은평구  \n",
       "68835      M       1983  인천광역시   연수구  \n",
       "68836      M       1979  서울특별시   강북구  \n",
       "68837      F       1970    경기도  남양주시  \n",
       "68838      F       1968    경기도   김포시  "
      ]
     },
     "execution_count": 184,
     "metadata": {},
     "output_type": "execute_result"
    }
   ],
   "source": [
    "#조인\n",
    "total1 = pd.merge(products,orders, on = 'ProductID', how = 'inner' )\n",
    "total1 = pd.merge(total1, customers, on = 'CustomerID' , how = 'inner')\n",
    "total1.tail()"
   ]
  },
  {
   "cell_type": "code",
   "execution_count": 186,
   "metadata": {},
   "outputs": [
    {
     "name": "stdout",
     "output_type": "stream",
     "text": [
      "<class 'pandas.core.frame.DataFrame'>\n",
      "Int64Index: 68839 entries, 0 to 68838\n",
      "Data columns (total 19 columns):\n",
      " #   Column        Non-Null Count  Dtype \n",
      "---  ------        --------------  ----- \n",
      " 0   ProductID     68839 non-null  object\n",
      " 1   ProductName   68839 non-null  object\n",
      " 2   Category      68839 non-null  object\n",
      " 3   SubCategory   68839 non-null  object\n",
      " 4   CategoryOrd   68839 non-null  int64 \n",
      " 5   OrderID       68839 non-null  int64 \n",
      " 6   Seq           68839 non-null  int64 \n",
      " 7   OrderDate     68839 non-null  object\n",
      " 8   Qty           68839 non-null  int64 \n",
      " 9   Amt           68839 non-null  int64 \n",
      " 10  CustomerID    68839 non-null  object\n",
      " 11  RegisterDate  68839 non-null  object\n",
      " 12  Address       68839 non-null  object\n",
      " 13  Gender        68839 non-null  object\n",
      " 14  BirthYear     68839 non-null  int64 \n",
      " 15  Addr1         68839 non-null  object\n",
      " 16  Addr2         68839 non-null  object\n",
      " 17  Age           68839 non-null  int64 \n",
      " 18  total_bill    68839 non-null  int64 \n",
      "dtypes: int64(8), object(11)\n",
      "memory usage: 10.5+ MB\n"
     ]
    }
   ],
   "source": [
    "# 고객 정보를 위해 연령 추가\n",
    "total1['Age'] = 2017 - total1['BirthYear']\n",
    "\n",
    "## 고객별 총 이용금액 열 추가 Qty * Amt\n",
    "total1['total_bill'] = total1['Qty'] * total1['Amt']\n",
    "\n",
    "# 고객별 고객등급 분류후 열 추가\n",
    "total1.info()"
   ]
  },
  {
   "cell_type": "markdown",
   "metadata": {
    "id": "Kzbj_osuz9uj"
   },
   "source": [
    "**4) 추가**"
   ]
  },
  {
   "cell_type": "code",
   "execution_count": null,
   "metadata": {
    "id": "UrsREvDFz9uk"
   },
   "outputs": [],
   "source": [
    "total1 = pd.merge(total1,tmpc, on= 'CustomerID', how = 'inner')\n",
    "total1.head(50)\n",
    " \n",
    " "
   ]
  },
  {
   "cell_type": "markdown",
   "metadata": {
    "id": "I2jF2_b1z9zK"
   },
   "source": [
    "**5) 추가**"
   ]
  },
  {
   "cell_type": "code",
   "execution_count": 43,
   "metadata": {
    "id": "2QyGSEBKz9zL"
   },
   "outputs": [
    {
     "data": {
      "text/html": [
       "<div>\n",
       "<style scoped>\n",
       "    .dataframe tbody tr th:only-of-type {\n",
       "        vertical-align: middle;\n",
       "    }\n",
       "\n",
       "    .dataframe tbody tr th {\n",
       "        vertical-align: top;\n",
       "    }\n",
       "\n",
       "    .dataframe thead th {\n",
       "        text-align: right;\n",
       "    }\n",
       "</style>\n",
       "<table border=\"1\" class=\"dataframe\">\n",
       "  <thead>\n",
       "    <tr style=\"text-align: right;\">\n",
       "      <th></th>\n",
       "      <th>CustomerID</th>\n",
       "      <th>수량</th>\n",
       "      <th>총판매액</th>\n",
       "      <th>등급</th>\n",
       "      <th>ProductName</th>\n",
       "      <th>Category</th>\n",
       "      <th>SubCategory</th>\n",
       "      <th>OrderID</th>\n",
       "      <th>Seq</th>\n",
       "      <th>Qty</th>\n",
       "      <th>Amt</th>\n",
       "      <th>RegisterDate</th>\n",
       "      <th>Gender</th>\n",
       "      <th>BirthYear</th>\n",
       "      <th>Addr1</th>\n",
       "      <th>Addr2</th>\n",
       "      <th>OrderYear</th>\n",
       "      <th>OrderMonth</th>\n",
       "      <th>Age</th>\n",
       "      <th>total_bill</th>\n",
       "    </tr>\n",
       "  </thead>\n",
       "  <tbody>\n",
       "    <tr>\n",
       "      <th>0</th>\n",
       "      <td>c017487</td>\n",
       "      <td>127</td>\n",
       "      <td>545557</td>\n",
       "      <td>Gold</td>\n",
       "      <td>마늘</td>\n",
       "      <td>채소</td>\n",
       "      <td>뿌리채소</td>\n",
       "      <td>48</td>\n",
       "      <td>1</td>\n",
       "      <td>1</td>\n",
       "      <td>3300</td>\n",
       "      <td>2002-07-31</td>\n",
       "      <td>F</td>\n",
       "      <td>1968</td>\n",
       "      <td>경기도</td>\n",
       "      <td>성남시</td>\n",
       "      <td>2016</td>\n",
       "      <td>3</td>\n",
       "      <td>49</td>\n",
       "      <td>3300</td>\n",
       "    </tr>\n",
       "    <tr>\n",
       "      <th>1</th>\n",
       "      <td>c017487</td>\n",
       "      <td>127</td>\n",
       "      <td>545557</td>\n",
       "      <td>Gold</td>\n",
       "      <td>마늘</td>\n",
       "      <td>채소</td>\n",
       "      <td>뿌리채소</td>\n",
       "      <td>26</td>\n",
       "      <td>1</td>\n",
       "      <td>1</td>\n",
       "      <td>3300</td>\n",
       "      <td>2002-07-31</td>\n",
       "      <td>F</td>\n",
       "      <td>1968</td>\n",
       "      <td>경기도</td>\n",
       "      <td>성남시</td>\n",
       "      <td>2016</td>\n",
       "      <td>4</td>\n",
       "      <td>49</td>\n",
       "      <td>3300</td>\n",
       "    </tr>\n",
       "    <tr>\n",
       "      <th>2</th>\n",
       "      <td>c017487</td>\n",
       "      <td>127</td>\n",
       "      <td>545557</td>\n",
       "      <td>Gold</td>\n",
       "      <td>마늘</td>\n",
       "      <td>채소</td>\n",
       "      <td>뿌리채소</td>\n",
       "      <td>1</td>\n",
       "      <td>1</td>\n",
       "      <td>1</td>\n",
       "      <td>3100</td>\n",
       "      <td>2002-07-31</td>\n",
       "      <td>F</td>\n",
       "      <td>1968</td>\n",
       "      <td>경기도</td>\n",
       "      <td>성남시</td>\n",
       "      <td>2016</td>\n",
       "      <td>9</td>\n",
       "      <td>49</td>\n",
       "      <td>3100</td>\n",
       "    </tr>\n",
       "    <tr>\n",
       "      <th>3</th>\n",
       "      <td>c017487</td>\n",
       "      <td>127</td>\n",
       "      <td>545557</td>\n",
       "      <td>Gold</td>\n",
       "      <td>마늘</td>\n",
       "      <td>채소</td>\n",
       "      <td>뿌리채소</td>\n",
       "      <td>21</td>\n",
       "      <td>1</td>\n",
       "      <td>1</td>\n",
       "      <td>3100</td>\n",
       "      <td>2002-07-31</td>\n",
       "      <td>F</td>\n",
       "      <td>1968</td>\n",
       "      <td>경기도</td>\n",
       "      <td>성남시</td>\n",
       "      <td>2016</td>\n",
       "      <td>12</td>\n",
       "      <td>49</td>\n",
       "      <td>3100</td>\n",
       "    </tr>\n",
       "    <tr>\n",
       "      <th>4</th>\n",
       "      <td>c017487</td>\n",
       "      <td>127</td>\n",
       "      <td>545557</td>\n",
       "      <td>Gold</td>\n",
       "      <td>마늘</td>\n",
       "      <td>채소</td>\n",
       "      <td>뿌리채소</td>\n",
       "      <td>56</td>\n",
       "      <td>3</td>\n",
       "      <td>1</td>\n",
       "      <td>3100</td>\n",
       "      <td>2002-07-31</td>\n",
       "      <td>F</td>\n",
       "      <td>1968</td>\n",
       "      <td>경기도</td>\n",
       "      <td>성남시</td>\n",
       "      <td>2016</td>\n",
       "      <td>12</td>\n",
       "      <td>49</td>\n",
       "      <td>3100</td>\n",
       "    </tr>\n",
       "  </tbody>\n",
       "</table>\n",
       "</div>"
      ],
      "text/plain": [
       "  CustomerID   수량    총판매액    등급 ProductName Category SubCategory  OrderID  \\\n",
       "0    c017487  127  545557  Gold          마늘       채소        뿌리채소       48   \n",
       "1    c017487  127  545557  Gold          마늘       채소        뿌리채소       26   \n",
       "2    c017487  127  545557  Gold          마늘       채소        뿌리채소        1   \n",
       "3    c017487  127  545557  Gold          마늘       채소        뿌리채소       21   \n",
       "4    c017487  127  545557  Gold          마늘       채소        뿌리채소       56   \n",
       "\n",
       "   Seq  Qty   Amt RegisterDate Gender  BirthYear Addr1 Addr2  OrderYear  \\\n",
       "0    1    1  3300   2002-07-31      F       1968   경기도   성남시       2016   \n",
       "1    1    1  3300   2002-07-31      F       1968   경기도   성남시       2016   \n",
       "2    1    1  3100   2002-07-31      F       1968   경기도   성남시       2016   \n",
       "3    1    1  3100   2002-07-31      F       1968   경기도   성남시       2016   \n",
       "4    3    1  3100   2002-07-31      F       1968   경기도   성남시       2016   \n",
       "\n",
       "   OrderMonth  Age  total_bill  \n",
       "0           3   49        3300  \n",
       "1           4   49        3300  \n",
       "2           9   49        3100  \n",
       "3          12   49        3100  \n",
       "4          12   49        3100  "
      ]
     },
     "execution_count": 43,
     "metadata": {},
     "output_type": "execute_result"
    }
   ],
   "source": [
    "total1 = pd.merge(cst,total, on = 'CustomerID',how = 'outer')\n",
    "total1.head()\n",
    " "
   ]
  },
  {
   "cell_type": "code",
   "execution_count": null,
   "metadata": {},
   "outputs": [],
   "source": [
    "total1.info()"
   ]
  },
  {
   "cell_type": "code",
   "execution_count": 49,
   "metadata": {},
   "outputs": [
    {
     "data": {
      "text/plain": [
       "등급        Category\n",
       "Family    간식            812565\n",
       "          과일           2353330\n",
       "          반찬류          2599603\n",
       "          유제품          1871955\n",
       "          채소           3217827\n",
       "Bronze    간식           2790331\n",
       "          과일           5992329\n",
       "          반찬류          7353925\n",
       "          유제품          5814963\n",
       "          채소           8258320\n",
       "Silver    간식           6498611\n",
       "          과일          16877388\n",
       "          반찬류         15939113\n",
       "          유제품         15527910\n",
       "          채소          19175580\n",
       "Gold      간식           7229848\n",
       "          과일          16584859\n",
       "          반찬류         12861999\n",
       "          유제품         22016348\n",
       "          채소          18876734\n",
       "Platinum  간식          48063058\n",
       "          과일          19255023\n",
       "          반찬류         10863475\n",
       "          유제품         31787867\n",
       "          채소          22946630\n",
       "Name: total_bill, dtype: int64"
      ]
     },
     "execution_count": 49,
     "metadata": {},
     "output_type": "execute_result"
    }
   ],
   "source": [
    "total1 = total1.groupby(by = ['등급','Category'], as_index = [False,False])['total_bill'].sum()\n",
    "total1.head(100)"
   ]
  },
  {
   "cell_type": "code",
   "execution_count": 52,
   "metadata": {},
   "outputs": [
    {
     "ename": "KeyError",
     "evalue": "'등급'",
     "output_type": "error",
     "traceback": [
      "\u001b[1;31m---------------------------------------------------------------------------\u001b[0m",
      "\u001b[1;31mKeyError\u001b[0m                                  Traceback (most recent call last)",
      "\u001b[1;32m~\\anaconda3\\lib\\site-packages\\pandas\\core\\indexes\\base.py\u001b[0m in \u001b[0;36mget_loc\u001b[1;34m(self, key, method, tolerance)\u001b[0m\n\u001b[0;32m   3079\u001b[0m             \u001b[1;32mtry\u001b[0m\u001b[1;33m:\u001b[0m\u001b[1;33m\u001b[0m\u001b[1;33m\u001b[0m\u001b[0m\n\u001b[1;32m-> 3080\u001b[1;33m                 \u001b[1;32mreturn\u001b[0m \u001b[0mself\u001b[0m\u001b[1;33m.\u001b[0m\u001b[0m_engine\u001b[0m\u001b[1;33m.\u001b[0m\u001b[0mget_loc\u001b[0m\u001b[1;33m(\u001b[0m\u001b[0mcasted_key\u001b[0m\u001b[1;33m)\u001b[0m\u001b[1;33m\u001b[0m\u001b[1;33m\u001b[0m\u001b[0m\n\u001b[0m\u001b[0;32m   3081\u001b[0m             \u001b[1;32mexcept\u001b[0m \u001b[0mKeyError\u001b[0m \u001b[1;32mas\u001b[0m \u001b[0merr\u001b[0m\u001b[1;33m:\u001b[0m\u001b[1;33m\u001b[0m\u001b[1;33m\u001b[0m\u001b[0m\n",
      "\u001b[1;32mpandas\\_libs\\index.pyx\u001b[0m in \u001b[0;36mpandas._libs.index.IndexEngine.get_loc\u001b[1;34m()\u001b[0m\n",
      "\u001b[1;32mpandas\\_libs\\index.pyx\u001b[0m in \u001b[0;36mpandas._libs.index.IndexEngine.get_loc\u001b[1;34m()\u001b[0m\n",
      "\u001b[1;32mpandas\\_libs\\hashtable_class_helper.pxi\u001b[0m in \u001b[0;36mpandas._libs.hashtable.PyObjectHashTable.get_item\u001b[1;34m()\u001b[0m\n",
      "\u001b[1;32mpandas\\_libs\\hashtable_class_helper.pxi\u001b[0m in \u001b[0;36mpandas._libs.hashtable.PyObjectHashTable.get_item\u001b[1;34m()\u001b[0m\n",
      "\u001b[1;31mKeyError\u001b[0m: '등급'",
      "\nThe above exception was the direct cause of the following exception:\n",
      "\u001b[1;31mKeyError\u001b[0m                                  Traceback (most recent call last)",
      "\u001b[1;32m<ipython-input-52-2e07c89a0fa4>\u001b[0m in \u001b[0;36m<module>\u001b[1;34m\u001b[0m\n\u001b[1;32m----> 1\u001b[1;33m \u001b[0mplt\u001b[0m\u001b[1;33m.\u001b[0m\u001b[0mbar\u001b[0m\u001b[1;33m(\u001b[0m\u001b[0mtotal1\u001b[0m\u001b[1;33m[\u001b[0m\u001b[1;34m'등급'\u001b[0m\u001b[1;33m]\u001b[0m\u001b[1;33m,\u001b[0m\u001b[0mtotal1\u001b[0m\u001b[1;33m[\u001b[0m\u001b[1;34m'Category'\u001b[0m\u001b[1;33m]\u001b[0m\u001b[1;33m)\u001b[0m\u001b[1;33m\u001b[0m\u001b[1;33m\u001b[0m\u001b[0m\n\u001b[0m",
      "\u001b[1;32m~\\anaconda3\\lib\\site-packages\\pandas\\core\\series.py\u001b[0m in \u001b[0;36m__getitem__\u001b[1;34m(self, key)\u001b[0m\n\u001b[0;32m    851\u001b[0m \u001b[1;33m\u001b[0m\u001b[0m\n\u001b[0;32m    852\u001b[0m         \u001b[1;32melif\u001b[0m \u001b[0mkey_is_scalar\u001b[0m\u001b[1;33m:\u001b[0m\u001b[1;33m\u001b[0m\u001b[1;33m\u001b[0m\u001b[0m\n\u001b[1;32m--> 853\u001b[1;33m             \u001b[1;32mreturn\u001b[0m \u001b[0mself\u001b[0m\u001b[1;33m.\u001b[0m\u001b[0m_get_value\u001b[0m\u001b[1;33m(\u001b[0m\u001b[0mkey\u001b[0m\u001b[1;33m)\u001b[0m\u001b[1;33m\u001b[0m\u001b[1;33m\u001b[0m\u001b[0m\n\u001b[0m\u001b[0;32m    854\u001b[0m \u001b[1;33m\u001b[0m\u001b[0m\n\u001b[0;32m    855\u001b[0m         \u001b[1;32mif\u001b[0m \u001b[0mis_hashable\u001b[0m\u001b[1;33m(\u001b[0m\u001b[0mkey\u001b[0m\u001b[1;33m)\u001b[0m\u001b[1;33m:\u001b[0m\u001b[1;33m\u001b[0m\u001b[1;33m\u001b[0m\u001b[0m\n",
      "\u001b[1;32m~\\anaconda3\\lib\\site-packages\\pandas\\core\\series.py\u001b[0m in \u001b[0;36m_get_value\u001b[1;34m(self, label, takeable)\u001b[0m\n\u001b[0;32m    959\u001b[0m \u001b[1;33m\u001b[0m\u001b[0m\n\u001b[0;32m    960\u001b[0m         \u001b[1;31m# Similar to Index.get_value, but we do not fall back to positional\u001b[0m\u001b[1;33m\u001b[0m\u001b[1;33m\u001b[0m\u001b[1;33m\u001b[0m\u001b[0m\n\u001b[1;32m--> 961\u001b[1;33m         \u001b[0mloc\u001b[0m \u001b[1;33m=\u001b[0m \u001b[0mself\u001b[0m\u001b[1;33m.\u001b[0m\u001b[0mindex\u001b[0m\u001b[1;33m.\u001b[0m\u001b[0mget_loc\u001b[0m\u001b[1;33m(\u001b[0m\u001b[0mlabel\u001b[0m\u001b[1;33m)\u001b[0m\u001b[1;33m\u001b[0m\u001b[1;33m\u001b[0m\u001b[0m\n\u001b[0m\u001b[0;32m    962\u001b[0m         \u001b[1;32mreturn\u001b[0m \u001b[0mself\u001b[0m\u001b[1;33m.\u001b[0m\u001b[0mindex\u001b[0m\u001b[1;33m.\u001b[0m\u001b[0m_get_values_for_loc\u001b[0m\u001b[1;33m(\u001b[0m\u001b[0mself\u001b[0m\u001b[1;33m,\u001b[0m \u001b[0mloc\u001b[0m\u001b[1;33m,\u001b[0m \u001b[0mlabel\u001b[0m\u001b[1;33m)\u001b[0m\u001b[1;33m\u001b[0m\u001b[1;33m\u001b[0m\u001b[0m\n\u001b[0;32m    963\u001b[0m \u001b[1;33m\u001b[0m\u001b[0m\n",
      "\u001b[1;32m~\\anaconda3\\lib\\site-packages\\pandas\\core\\indexes\\multi.py\u001b[0m in \u001b[0;36mget_loc\u001b[1;34m(self, key, method)\u001b[0m\n\u001b[0;32m   2874\u001b[0m \u001b[1;33m\u001b[0m\u001b[0m\n\u001b[0;32m   2875\u001b[0m         \u001b[1;32mif\u001b[0m \u001b[1;32mnot\u001b[0m \u001b[0misinstance\u001b[0m\u001b[1;33m(\u001b[0m\u001b[0mkey\u001b[0m\u001b[1;33m,\u001b[0m \u001b[0mtuple\u001b[0m\u001b[1;33m)\u001b[0m\u001b[1;33m:\u001b[0m\u001b[1;33m\u001b[0m\u001b[1;33m\u001b[0m\u001b[0m\n\u001b[1;32m-> 2876\u001b[1;33m             \u001b[0mloc\u001b[0m \u001b[1;33m=\u001b[0m \u001b[0mself\u001b[0m\u001b[1;33m.\u001b[0m\u001b[0m_get_level_indexer\u001b[0m\u001b[1;33m(\u001b[0m\u001b[0mkey\u001b[0m\u001b[1;33m,\u001b[0m \u001b[0mlevel\u001b[0m\u001b[1;33m=\u001b[0m\u001b[1;36m0\u001b[0m\u001b[1;33m)\u001b[0m\u001b[1;33m\u001b[0m\u001b[1;33m\u001b[0m\u001b[0m\n\u001b[0m\u001b[0;32m   2877\u001b[0m             \u001b[1;32mreturn\u001b[0m \u001b[0m_maybe_to_slice\u001b[0m\u001b[1;33m(\u001b[0m\u001b[0mloc\u001b[0m\u001b[1;33m)\u001b[0m\u001b[1;33m\u001b[0m\u001b[1;33m\u001b[0m\u001b[0m\n\u001b[0;32m   2878\u001b[0m \u001b[1;33m\u001b[0m\u001b[0m\n",
      "\u001b[1;32m~\\anaconda3\\lib\\site-packages\\pandas\\core\\indexes\\multi.py\u001b[0m in \u001b[0;36m_get_level_indexer\u001b[1;34m(self, key, level, indexer)\u001b[0m\n\u001b[0;32m   3156\u001b[0m         \u001b[1;32melse\u001b[0m\u001b[1;33m:\u001b[0m\u001b[1;33m\u001b[0m\u001b[1;33m\u001b[0m\u001b[0m\n\u001b[0;32m   3157\u001b[0m \u001b[1;33m\u001b[0m\u001b[0m\n\u001b[1;32m-> 3158\u001b[1;33m             \u001b[0midx\u001b[0m \u001b[1;33m=\u001b[0m \u001b[0mself\u001b[0m\u001b[1;33m.\u001b[0m\u001b[0m_get_loc_single_level_index\u001b[0m\u001b[1;33m(\u001b[0m\u001b[0mlevel_index\u001b[0m\u001b[1;33m,\u001b[0m \u001b[0mkey\u001b[0m\u001b[1;33m)\u001b[0m\u001b[1;33m\u001b[0m\u001b[1;33m\u001b[0m\u001b[0m\n\u001b[0m\u001b[0;32m   3159\u001b[0m \u001b[1;33m\u001b[0m\u001b[0m\n\u001b[0;32m   3160\u001b[0m             \u001b[1;32mif\u001b[0m \u001b[0mlevel\u001b[0m \u001b[1;33m>\u001b[0m \u001b[1;36m0\u001b[0m \u001b[1;32mor\u001b[0m \u001b[0mself\u001b[0m\u001b[1;33m.\u001b[0m\u001b[0mlexsort_depth\u001b[0m \u001b[1;33m==\u001b[0m \u001b[1;36m0\u001b[0m\u001b[1;33m:\u001b[0m\u001b[1;33m\u001b[0m\u001b[1;33m\u001b[0m\u001b[0m\n",
      "\u001b[1;32m~\\anaconda3\\lib\\site-packages\\pandas\\core\\indexes\\multi.py\u001b[0m in \u001b[0;36m_get_loc_single_level_index\u001b[1;34m(self, level_index, key)\u001b[0m\n\u001b[0;32m   2807\u001b[0m             \u001b[1;32mreturn\u001b[0m \u001b[1;33m-\u001b[0m\u001b[1;36m1\u001b[0m\u001b[1;33m\u001b[0m\u001b[1;33m\u001b[0m\u001b[0m\n\u001b[0;32m   2808\u001b[0m         \u001b[1;32melse\u001b[0m\u001b[1;33m:\u001b[0m\u001b[1;33m\u001b[0m\u001b[1;33m\u001b[0m\u001b[0m\n\u001b[1;32m-> 2809\u001b[1;33m             \u001b[1;32mreturn\u001b[0m \u001b[0mlevel_index\u001b[0m\u001b[1;33m.\u001b[0m\u001b[0mget_loc\u001b[0m\u001b[1;33m(\u001b[0m\u001b[0mkey\u001b[0m\u001b[1;33m)\u001b[0m\u001b[1;33m\u001b[0m\u001b[1;33m\u001b[0m\u001b[0m\n\u001b[0m\u001b[0;32m   2810\u001b[0m \u001b[1;33m\u001b[0m\u001b[0m\n\u001b[0;32m   2811\u001b[0m     \u001b[1;32mdef\u001b[0m \u001b[0mget_loc\u001b[0m\u001b[1;33m(\u001b[0m\u001b[0mself\u001b[0m\u001b[1;33m,\u001b[0m \u001b[0mkey\u001b[0m\u001b[1;33m,\u001b[0m \u001b[0mmethod\u001b[0m\u001b[1;33m=\u001b[0m\u001b[1;32mNone\u001b[0m\u001b[1;33m)\u001b[0m\u001b[1;33m:\u001b[0m\u001b[1;33m\u001b[0m\u001b[1;33m\u001b[0m\u001b[0m\n",
      "\u001b[1;32m~\\anaconda3\\lib\\site-packages\\pandas\\core\\indexes\\base.py\u001b[0m in \u001b[0;36mget_loc\u001b[1;34m(self, key, method, tolerance)\u001b[0m\n\u001b[0;32m   3076\u001b[0m                     \u001b[1;34m\"backfill or nearest lookups\"\u001b[0m\u001b[1;33m\u001b[0m\u001b[1;33m\u001b[0m\u001b[0m\n\u001b[0;32m   3077\u001b[0m                 )\n\u001b[1;32m-> 3078\u001b[1;33m             \u001b[0mcasted_key\u001b[0m \u001b[1;33m=\u001b[0m \u001b[0mself\u001b[0m\u001b[1;33m.\u001b[0m\u001b[0m_maybe_cast_indexer\u001b[0m\u001b[1;33m(\u001b[0m\u001b[0mkey\u001b[0m\u001b[1;33m)\u001b[0m\u001b[1;33m\u001b[0m\u001b[1;33m\u001b[0m\u001b[0m\n\u001b[0m\u001b[0;32m   3079\u001b[0m             \u001b[1;32mtry\u001b[0m\u001b[1;33m:\u001b[0m\u001b[1;33m\u001b[0m\u001b[1;33m\u001b[0m\u001b[0m\n\u001b[0;32m   3080\u001b[0m                 \u001b[1;32mreturn\u001b[0m \u001b[0mself\u001b[0m\u001b[1;33m.\u001b[0m\u001b[0m_engine\u001b[0m\u001b[1;33m.\u001b[0m\u001b[0mget_loc\u001b[0m\u001b[1;33m(\u001b[0m\u001b[0mcasted_key\u001b[0m\u001b[1;33m)\u001b[0m\u001b[1;33m\u001b[0m\u001b[1;33m\u001b[0m\u001b[0m\n",
      "\u001b[1;32m~\\anaconda3\\lib\\site-packages\\pandas\\core\\indexes\\category.py\u001b[0m in \u001b[0;36m_maybe_cast_indexer\u001b[1;34m(self, key)\u001b[0m\n\u001b[0;32m    494\u001b[0m \u001b[1;33m\u001b[0m\u001b[0m\n\u001b[0;32m    495\u001b[0m     \u001b[1;32mdef\u001b[0m \u001b[0m_maybe_cast_indexer\u001b[0m\u001b[1;33m(\u001b[0m\u001b[0mself\u001b[0m\u001b[1;33m,\u001b[0m \u001b[0mkey\u001b[0m\u001b[1;33m)\u001b[0m \u001b[1;33m->\u001b[0m \u001b[0mint\u001b[0m\u001b[1;33m:\u001b[0m\u001b[1;33m\u001b[0m\u001b[1;33m\u001b[0m\u001b[0m\n\u001b[1;32m--> 496\u001b[1;33m         \u001b[1;32mreturn\u001b[0m \u001b[0mself\u001b[0m\u001b[1;33m.\u001b[0m\u001b[0m_data\u001b[0m\u001b[1;33m.\u001b[0m\u001b[0m_unbox_scalar\u001b[0m\u001b[1;33m(\u001b[0m\u001b[0mkey\u001b[0m\u001b[1;33m)\u001b[0m\u001b[1;33m\u001b[0m\u001b[1;33m\u001b[0m\u001b[0m\n\u001b[0m\u001b[0;32m    497\u001b[0m \u001b[1;33m\u001b[0m\u001b[0m\n\u001b[0;32m    498\u001b[0m     \u001b[1;33m@\u001b[0m\u001b[0mAppender\u001b[0m\u001b[1;33m(\u001b[0m\u001b[0m_index_shared_docs\u001b[0m\u001b[1;33m[\u001b[0m\u001b[1;34m\"get_indexer\"\u001b[0m\u001b[1;33m]\u001b[0m \u001b[1;33m%\u001b[0m \u001b[0m_index_doc_kwargs\u001b[0m\u001b[1;33m)\u001b[0m\u001b[1;33m\u001b[0m\u001b[1;33m\u001b[0m\u001b[0m\n",
      "\u001b[1;32m~\\anaconda3\\lib\\site-packages\\pandas\\core\\arrays\\categorical.py\u001b[0m in \u001b[0;36m_unbox_scalar\u001b[1;34m(self, key)\u001b[0m\n\u001b[0;32m   1719\u001b[0m         \u001b[1;31m# searchsorted is very performance sensitive. By converting codes\u001b[0m\u001b[1;33m\u001b[0m\u001b[1;33m\u001b[0m\u001b[1;33m\u001b[0m\u001b[0m\n\u001b[0;32m   1720\u001b[0m         \u001b[1;31m# to same dtype as self.codes, we get much faster performance.\u001b[0m\u001b[1;33m\u001b[0m\u001b[1;33m\u001b[0m\u001b[1;33m\u001b[0m\u001b[0m\n\u001b[1;32m-> 1721\u001b[1;33m         \u001b[0mcode\u001b[0m \u001b[1;33m=\u001b[0m \u001b[0mself\u001b[0m\u001b[1;33m.\u001b[0m\u001b[0mcategories\u001b[0m\u001b[1;33m.\u001b[0m\u001b[0mget_loc\u001b[0m\u001b[1;33m(\u001b[0m\u001b[0mkey\u001b[0m\u001b[1;33m)\u001b[0m\u001b[1;33m\u001b[0m\u001b[1;33m\u001b[0m\u001b[0m\n\u001b[0m\u001b[0;32m   1722\u001b[0m         \u001b[0mcode\u001b[0m \u001b[1;33m=\u001b[0m \u001b[0mself\u001b[0m\u001b[1;33m.\u001b[0m\u001b[0m_codes\u001b[0m\u001b[1;33m.\u001b[0m\u001b[0mdtype\u001b[0m\u001b[1;33m.\u001b[0m\u001b[0mtype\u001b[0m\u001b[1;33m(\u001b[0m\u001b[0mcode\u001b[0m\u001b[1;33m)\u001b[0m\u001b[1;33m\u001b[0m\u001b[1;33m\u001b[0m\u001b[0m\n\u001b[0;32m   1723\u001b[0m         \u001b[1;32mreturn\u001b[0m \u001b[0mcode\u001b[0m\u001b[1;33m\u001b[0m\u001b[1;33m\u001b[0m\u001b[0m\n",
      "\u001b[1;32m~\\anaconda3\\lib\\site-packages\\pandas\\core\\indexes\\base.py\u001b[0m in \u001b[0;36mget_loc\u001b[1;34m(self, key, method, tolerance)\u001b[0m\n\u001b[0;32m   3080\u001b[0m                 \u001b[1;32mreturn\u001b[0m \u001b[0mself\u001b[0m\u001b[1;33m.\u001b[0m\u001b[0m_engine\u001b[0m\u001b[1;33m.\u001b[0m\u001b[0mget_loc\u001b[0m\u001b[1;33m(\u001b[0m\u001b[0mcasted_key\u001b[0m\u001b[1;33m)\u001b[0m\u001b[1;33m\u001b[0m\u001b[1;33m\u001b[0m\u001b[0m\n\u001b[0;32m   3081\u001b[0m             \u001b[1;32mexcept\u001b[0m \u001b[0mKeyError\u001b[0m \u001b[1;32mas\u001b[0m \u001b[0merr\u001b[0m\u001b[1;33m:\u001b[0m\u001b[1;33m\u001b[0m\u001b[1;33m\u001b[0m\u001b[0m\n\u001b[1;32m-> 3082\u001b[1;33m                 \u001b[1;32mraise\u001b[0m \u001b[0mKeyError\u001b[0m\u001b[1;33m(\u001b[0m\u001b[0mkey\u001b[0m\u001b[1;33m)\u001b[0m \u001b[1;32mfrom\u001b[0m \u001b[0merr\u001b[0m\u001b[1;33m\u001b[0m\u001b[1;33m\u001b[0m\u001b[0m\n\u001b[0m\u001b[0;32m   3083\u001b[0m \u001b[1;33m\u001b[0m\u001b[0m\n\u001b[0;32m   3084\u001b[0m         \u001b[1;32mif\u001b[0m \u001b[0mtolerance\u001b[0m \u001b[1;32mis\u001b[0m \u001b[1;32mnot\u001b[0m \u001b[1;32mNone\u001b[0m\u001b[1;33m:\u001b[0m\u001b[1;33m\u001b[0m\u001b[1;33m\u001b[0m\u001b[0m\n",
      "\u001b[1;31mKeyError\u001b[0m: '등급'"
     ]
    }
   ],
   "source": [
    "plt.bar(total1['등급'],total1['Category'])\n",
    "plt.show()"
   ]
  },
  {
   "cell_type": "markdown",
   "metadata": {
    "tags": []
   },
   "source": [
    "## 7.비즈니스 제안\n",
    "\n",
    "- 위 진행된 내용을 기반으로 판매 향상 등을 위한 비즈니스 제안을 합니다."
   ]
  },
  {
   "cell_type": "markdown",
   "metadata": {},
   "source": [
    "- 주어진 실습으로 볼 때 등급별로 판매수량이 linear 하게 증가하지만, 총판매액은 exponential 하게 증가함을 확인 할 수 있었다.\n",
    "- 이로인해 등급이 높아질수록 비교적 비싼물건을 산다는 가설을 세워 보았고, 의미 있는 고객등급 필터가 될 수 있다고 판단하였다.\n",
    "\n",
    "- 이를 원본데이터 적용하여 고객등급 별로 어떤 품목들이 비싼가격임에도 팔렸는지, 같은 가격인데 안 팔린 물건들이 있는지 등에 대한 소비자 선호하는 물품들을 조사를 진행해보고싶다.\n",
    "- 이에 해당하는 물건들은 000,000 가 대표적 예로 할인행사를 진행할 필요가 있어보인다.\n",
    "- "
   ]
  },
  {
   "cell_type": "markdown",
   "metadata": {
    "id": "yoSBcxGigBM-",
    "tags": []
   },
   "source": [
    "## 8.정리\n",
    "\n",
    "- 분석을 통해 확인한 내용을 정리합니다."
   ]
  },
  {
   "cell_type": "markdown",
   "metadata": {
    "id": "dVvspGWngBM-"
   },
   "source": [
    "**1) 의견**\n",
    "\n",
    "\n",
    "\n",
    "\n"
   ]
  },
  {
   "cell_type": "markdown",
   "metadata": {
    "id": "127KsaRJgBM-"
   },
   "source": [
    "- 판매액 / 수량 의 식을 추가하여 품목별 단위판매액을 구해보자\n",
    "- 수량이 많아서 인지 비싼걸 사서인지 분석\n",
    "- 수량이 많아서 라면 어떤 서비스 제공\n",
    "- 비싼걸 사서라면 페이벡 시스템 제공"
   ]
  },
  {
   "cell_type": "markdown",
   "metadata": {
    "id": "FYaHYxzZgBM-"
   },
   "source": [
    "**2) 기타**"
   ]
  },
  {
   "cell_type": "markdown",
   "metadata": {
    "id": "wl2r0MxDgBM-"
   },
   "source": [
    "- \n",
    "- \n",
    "- \n",
    "- \n",
    "- "
   ]
  },
  {
   "cell_type": "markdown",
   "metadata": {
    "id": "dVvspGWngBM-"
   },
   "source": [
    "**1) 의견**\n",
    "\n",
    "\n",
    "\n",
    "\n"
   ]
  }
 ],
 "metadata": {
  "colab": {
   "collapsed_sections": [],
   "name": "X04 - [레벨업] 소매점 판매 현황.ipynb",
   "provenance": []
  },
  "kernelspec": {
   "display_name": "Python 3 (ipykernel)",
   "language": "python",
   "name": "python3"
  },
  "language_info": {
   "codemirror_mode": {
    "name": "ipython",
    "version": 3
   },
   "file_extension": ".py",
   "mimetype": "text/x-python",
   "name": "python",
   "nbconvert_exporter": "python",
   "pygments_lexer": "ipython3",
   "version": "3.9.12"
  }
 },
 "nbformat": 4,
 "nbformat_minor": 4
}
