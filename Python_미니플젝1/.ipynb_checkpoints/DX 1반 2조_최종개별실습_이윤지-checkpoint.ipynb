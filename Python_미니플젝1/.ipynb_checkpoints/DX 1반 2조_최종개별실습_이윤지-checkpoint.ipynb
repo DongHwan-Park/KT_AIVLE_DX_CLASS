{
 "cells": [
  {
   "cell_type": "markdown",
   "metadata": {
    "id": "BFhIXgdYoYGp"
   },
   "source": [
    "<center><img src='https://raw.githubusercontent.com/Jangrae/img/master/title.png' width=500/></center>"
   ]
  },
  {
   "cell_type": "markdown",
   "metadata": {
    "id": "d6jVPeiR2MK_"
   },
   "source": [
    "<center><img src='https://raw.githubusercontent.com/Jangrae/img/master/practice3.png' width=300/></center>"
   ]
  },
  {
   "cell_type": "markdown",
   "metadata": {
    "id": "ZogNxmpZgBMp"
   },
   "source": [
    "# 소매점 판매 현황"
   ]
  },
  {
   "cell_type": "markdown",
   "metadata": {
    "id": "0IUReT56gBMq"
   },
   "source": [
    "<img src='https://raw.githubusercontent.com/Jangrae/img/master/retail.png' width=\"650\" align=\"left\">"
   ]
  },
  {
   "cell_type": "markdown",
   "metadata": {},
   "source": [
    "가상으로 만들어진 2016년 2017년 소매점 판매 데이터\n",
    "\n",
    "파일1: customers.csv\n",
    "- CustomerID: 고객 코드\n",
    "- RegisterDate : 가입일\n",
    "- Address: 상세 주소\n",
    "- Gender: 성별\n",
    "- BirthYear: 출생연도\n",
    "- Addr1: 시도\n",
    "- Addr2: 구군\n",
    "\n",
    "파일2: products.csv\n",
    "- ProductID: 상품 코드\n",
    "- ProductName: 상품 이름\n",
    "- Category: 대분류\n",
    "- SubCategory : 소분류\n",
    "- CategoryOrd: 대분류 순서(의미없음)\n",
    "\n",
    "파일3: orders.csv\n",
    "- OrderID: 주문번호\n",
    "- Seq: 일련 변호\n",
    "- OrderDate: 주문일\n",
    "- ProductID: 상품 코드\n",
    "- Qty: 수량\n",
    "- Amt : 금액\n",
    "- CustomerID: 고객 코드"
   ]
  },
  {
   "cell_type": "markdown",
   "metadata": {
    "id": "qb1iLyXwGlnw"
   },
   "source": [
    "## 1.환경 설정\n",
    "\n",
    "- 데이터 탐색과 전처리를 하기 전 필요한 라이브러리와 대상 파일을 읽어옵니다.\n",
    "- 시각화에 한글이 포함될 경우 이에 대한 설정을 진행합니다."
   ]
  },
  {
   "cell_type": "markdown",
   "metadata": {
    "id": "4Xz2TqMRgBMr"
   },
   "source": [
    "**1) 한글 설정**\n",
    "\n",
    "- Jupyter Notebook 시각화에 한글이 표시되게 설정합니다."
   ]
  },
  {
   "cell_type": "code",
   "execution_count": 1,
   "metadata": {
    "id": "CjQJWPwmgBMr"
   },
   "outputs": [],
   "source": [
    "# 라이브러리 불러오기\n",
    "import matplotlib.pyplot as plt\n",
    "import matplotlib.font_manager as fm\n",
    "\n",
    "# 폰트설정\n",
    "plt.rc('font', family='Malgun Gothic')\n",
    "plt.rcParams['axes.unicode_minus'] = False"
   ]
  },
  {
   "cell_type": "markdown",
   "metadata": {
    "id": "0uNXxebRGrd8"
   },
   "source": [
    "**2) 라이브러리 불러오기**\n",
    "\n",
    "- 사용할 라이브러리를 불러옵니다."
   ]
  },
  {
   "cell_type": "code",
   "execution_count": 2,
   "metadata": {
    "id": "zFm_DPTaUdqQ"
   },
   "outputs": [],
   "source": [
    "# 라이브러리 불러오기\n",
    "import numpy as np\n",
    "import pandas as pd\n",
    "import matplotlib.pyplot as plt\n",
    "\n",
    "%config InlineBackend.figure_format = 'retina'"
   ]
  },
  {
   "cell_type": "markdown",
   "metadata": {
    "id": "PcLUjkq0wxpF"
   },
   "source": [
    "**3) 데이터 읽어오기**\n",
    "\n",
    "- 다음 경로의 파일을 읽어와 customers, products, orders 데이터프레임을 만듭니다.\n",
    "- 파일 경로1: https://raw.githubusercontent.com/Jangrae/csv/master/customers.csv\n",
    "- 파일 경로2: https://raw.githubusercontent.com/Jangrae/csv/master/products.csv\n",
    "- 파일 경로3: https://raw.githubusercontent.com/Jangrae/csv/master/orders.csv"
   ]
  },
  {
   "cell_type": "code",
   "execution_count": 3,
   "metadata": {
    "id": "91c9vKQ0E1A4"
   },
   "outputs": [
    {
     "data": {
      "text/html": [
       "<div>\n",
       "<style scoped>\n",
       "    .dataframe tbody tr th:only-of-type {\n",
       "        vertical-align: middle;\n",
       "    }\n",
       "\n",
       "    .dataframe tbody tr th {\n",
       "        vertical-align: top;\n",
       "    }\n",
       "\n",
       "    .dataframe thead th {\n",
       "        text-align: right;\n",
       "    }\n",
       "</style>\n",
       "<table border=\"1\" class=\"dataframe\">\n",
       "  <thead>\n",
       "    <tr style=\"text-align: right;\">\n",
       "      <th></th>\n",
       "      <th>CustomerID</th>\n",
       "      <th>RegisterDate</th>\n",
       "      <th>Address</th>\n",
       "      <th>Gender</th>\n",
       "      <th>BirthYear</th>\n",
       "      <th>Addr1</th>\n",
       "      <th>Addr2</th>\n",
       "    </tr>\n",
       "  </thead>\n",
       "  <tbody>\n",
       "    <tr>\n",
       "      <th>0</th>\n",
       "      <td>c017487</td>\n",
       "      <td>2002-07-31</td>\n",
       "      <td>경기 성남시 중원구 둔촌대로190번길</td>\n",
       "      <td>F</td>\n",
       "      <td>1968</td>\n",
       "      <td>경기도</td>\n",
       "      <td>성남시</td>\n",
       "    </tr>\n",
       "    <tr>\n",
       "      <th>1</th>\n",
       "      <td>c017503</td>\n",
       "      <td>2002-07-31</td>\n",
       "      <td>서울 마포구 새터산12길</td>\n",
       "      <td>F</td>\n",
       "      <td>1971</td>\n",
       "      <td>서울특별시</td>\n",
       "      <td>마포구</td>\n",
       "    </tr>\n",
       "    <tr>\n",
       "      <th>2</th>\n",
       "      <td>c017517</td>\n",
       "      <td>2002-07-31</td>\n",
       "      <td>경기도 남양주시 와부읍 덕소로</td>\n",
       "      <td>M</td>\n",
       "      <td>1967</td>\n",
       "      <td>경기도</td>\n",
       "      <td>남양주시</td>\n",
       "    </tr>\n",
       "    <tr>\n",
       "      <th>3</th>\n",
       "      <td>c017522</td>\n",
       "      <td>2002-07-31</td>\n",
       "      <td>강원도 원주시 단구로</td>\n",
       "      <td>F</td>\n",
       "      <td>1965</td>\n",
       "      <td>강원도</td>\n",
       "      <td>원주시</td>\n",
       "    </tr>\n",
       "    <tr>\n",
       "      <th>4</th>\n",
       "      <td>c017526</td>\n",
       "      <td>2002-07-31</td>\n",
       "      <td>경기도 부천시 오정구 소사로730번길</td>\n",
       "      <td>F</td>\n",
       "      <td>1960</td>\n",
       "      <td>경기도</td>\n",
       "      <td>부천시</td>\n",
       "    </tr>\n",
       "  </tbody>\n",
       "</table>\n",
       "</div>"
      ],
      "text/plain": [
       "  CustomerID RegisterDate               Address Gender  BirthYear  Addr1 Addr2\n",
       "0    c017487   2002-07-31  경기 성남시 중원구 둔촌대로190번길      F       1968    경기도   성남시\n",
       "1    c017503   2002-07-31         서울 마포구 새터산12길      F       1971  서울특별시   마포구\n",
       "2    c017517   2002-07-31      경기도 남양주시 와부읍 덕소로      M       1967    경기도  남양주시\n",
       "3    c017522   2002-07-31           강원도 원주시 단구로      F       1965    강원도   원주시\n",
       "4    c017526   2002-07-31  경기도 부천시 오정구 소사로730번길      F       1960    경기도   부천시"
      ]
     },
     "execution_count": 3,
     "metadata": {},
     "output_type": "execute_result"
    }
   ],
   "source": [
    "path_c = 'https://raw.githubusercontent.com/Jangrae/csv/master/customers.csv'\n",
    "customers = pd.read_csv(path_c)\n",
    "customers.head()"
   ]
  },
  {
   "cell_type": "code",
   "execution_count": 4,
   "metadata": {
    "id": "QSedynVWEp3W"
   },
   "outputs": [
    {
     "data": {
      "text/html": [
       "<div>\n",
       "<style scoped>\n",
       "    .dataframe tbody tr th:only-of-type {\n",
       "        vertical-align: middle;\n",
       "    }\n",
       "\n",
       "    .dataframe tbody tr th {\n",
       "        vertical-align: top;\n",
       "    }\n",
       "\n",
       "    .dataframe thead th {\n",
       "        text-align: right;\n",
       "    }\n",
       "</style>\n",
       "<table border=\"1\" class=\"dataframe\">\n",
       "  <thead>\n",
       "    <tr style=\"text-align: right;\">\n",
       "      <th></th>\n",
       "      <th>ProductID</th>\n",
       "      <th>ProductName</th>\n",
       "      <th>Category</th>\n",
       "      <th>SubCategory</th>\n",
       "      <th>CategoryOrd</th>\n",
       "    </tr>\n",
       "  </thead>\n",
       "  <tbody>\n",
       "    <tr>\n",
       "      <th>0</th>\n",
       "      <td>p1001771</td>\n",
       "      <td>마늘</td>\n",
       "      <td>채소</td>\n",
       "      <td>뿌리채소</td>\n",
       "      <td>5</td>\n",
       "    </tr>\n",
       "    <tr>\n",
       "      <th>1</th>\n",
       "      <td>p1002841</td>\n",
       "      <td>딸기_대</td>\n",
       "      <td>과일</td>\n",
       "      <td>과채</td>\n",
       "      <td>2</td>\n",
       "    </tr>\n",
       "    <tr>\n",
       "      <th>2</th>\n",
       "      <td>p1005621</td>\n",
       "      <td>숙주나물</td>\n",
       "      <td>반찬류</td>\n",
       "      <td>나물류</td>\n",
       "      <td>1</td>\n",
       "    </tr>\n",
       "    <tr>\n",
       "      <th>3</th>\n",
       "      <td>p1005771</td>\n",
       "      <td>두부_소</td>\n",
       "      <td>반찬류</td>\n",
       "      <td>두부</td>\n",
       "      <td>1</td>\n",
       "    </tr>\n",
       "    <tr>\n",
       "      <th>4</th>\n",
       "      <td>p1005891</td>\n",
       "      <td>두부_대</td>\n",
       "      <td>반찬류</td>\n",
       "      <td>두부</td>\n",
       "      <td>1</td>\n",
       "    </tr>\n",
       "  </tbody>\n",
       "</table>\n",
       "</div>"
      ],
      "text/plain": [
       "  ProductID ProductName Category SubCategory  CategoryOrd\n",
       "0  p1001771          마늘       채소        뿌리채소            5\n",
       "1  p1002841        딸기_대       과일          과채            2\n",
       "2  p1005621        숙주나물      반찬류         나물류            1\n",
       "3  p1005771        두부_소      반찬류          두부            1\n",
       "4  p1005891        두부_대      반찬류          두부            1"
      ]
     },
     "execution_count": 4,
     "metadata": {},
     "output_type": "execute_result"
    }
   ],
   "source": [
    "path_p = 'https://raw.githubusercontent.com/Jangrae/csv/master/products.csv'\n",
    "products = pd.read_csv(path_p)\n",
    "products.head()"
   ]
  },
  {
   "cell_type": "code",
   "execution_count": 5,
   "metadata": {
    "id": "OPfgGedaEqnw"
   },
   "outputs": [
    {
     "data": {
      "text/html": [
       "<div>\n",
       "<style scoped>\n",
       "    .dataframe tbody tr th:only-of-type {\n",
       "        vertical-align: middle;\n",
       "    }\n",
       "\n",
       "    .dataframe tbody tr th {\n",
       "        vertical-align: top;\n",
       "    }\n",
       "\n",
       "    .dataframe thead th {\n",
       "        text-align: right;\n",
       "    }\n",
       "</style>\n",
       "<table border=\"1\" class=\"dataframe\">\n",
       "  <thead>\n",
       "    <tr style=\"text-align: right;\">\n",
       "      <th></th>\n",
       "      <th>OrderID</th>\n",
       "      <th>Seq</th>\n",
       "      <th>OrderDate</th>\n",
       "      <th>ProductID</th>\n",
       "      <th>Qty</th>\n",
       "      <th>Amt</th>\n",
       "      <th>CustomerID</th>\n",
       "    </tr>\n",
       "  </thead>\n",
       "  <tbody>\n",
       "    <tr>\n",
       "      <th>0</th>\n",
       "      <td>1</td>\n",
       "      <td>1</td>\n",
       "      <td>2016-01-02</td>\n",
       "      <td>p1030071</td>\n",
       "      <td>2</td>\n",
       "      <td>7900</td>\n",
       "      <td>c107853</td>\n",
       "    </tr>\n",
       "    <tr>\n",
       "      <th>1</th>\n",
       "      <td>2</td>\n",
       "      <td>1</td>\n",
       "      <td>2016-01-02</td>\n",
       "      <td>p1012761</td>\n",
       "      <td>1</td>\n",
       "      <td>1700</td>\n",
       "      <td>c110521</td>\n",
       "    </tr>\n",
       "    <tr>\n",
       "      <th>2</th>\n",
       "      <td>2</td>\n",
       "      <td>2</td>\n",
       "      <td>2016-01-02</td>\n",
       "      <td>p1012581</td>\n",
       "      <td>1</td>\n",
       "      <td>1000</td>\n",
       "      <td>c110521</td>\n",
       "    </tr>\n",
       "    <tr>\n",
       "      <th>3</th>\n",
       "      <td>2</td>\n",
       "      <td>3</td>\n",
       "      <td>2016-01-02</td>\n",
       "      <td>p1175481</td>\n",
       "      <td>1</td>\n",
       "      <td>1300</td>\n",
       "      <td>c110521</td>\n",
       "    </tr>\n",
       "    <tr>\n",
       "      <th>4</th>\n",
       "      <td>2</td>\n",
       "      <td>4</td>\n",
       "      <td>2016-01-02</td>\n",
       "      <td>p1178011</td>\n",
       "      <td>1</td>\n",
       "      <td>8800</td>\n",
       "      <td>c110521</td>\n",
       "    </tr>\n",
       "  </tbody>\n",
       "</table>\n",
       "</div>"
      ],
      "text/plain": [
       "   OrderID  Seq   OrderDate ProductID  Qty   Amt CustomerID\n",
       "0        1    1  2016-01-02  p1030071    2  7900    c107853\n",
       "1        2    1  2016-01-02  p1012761    1  1700    c110521\n",
       "2        2    2  2016-01-02  p1012581    1  1000    c110521\n",
       "3        2    3  2016-01-02  p1175481    1  1300    c110521\n",
       "4        2    4  2016-01-02  p1178011    1  8800    c110521"
      ]
     },
     "execution_count": 5,
     "metadata": {},
     "output_type": "execute_result"
    }
   ],
   "source": [
    "path_o = 'https://raw.githubusercontent.com/Jangrae/csv/master/orders.csv'\n",
    "orders = pd.read_csv(path_o)\n",
    "orders.head()"
   ]
  },
  {
   "cell_type": "markdown",
   "metadata": {
    "id": "H4KWZGI8HBIA"
   },
   "source": [
    "## 2.데이터 탐색\n",
    "\n",
    "다음과 같은 정보 확인을 통해 처리할 대상 데이터를 이해합니다.\n",
    "- 상/하위 데이터 확인\n",
    "- 데이터프레임 크기 확인\n",
    "- 열 이름, 데이터 형식, 값 개수 등 확인\n",
    "- 기초 통계정보 확인\n",
    "- 결측치 확인\n",
    "- 범주형 데이터 확인\n",
    "- 개별 열 값 상세 확인 등"
   ]
  },
  {
   "cell_type": "markdown",
   "metadata": {
    "id": "X7I-KgAjJ60t"
   },
   "source": [
    "**1) 고객 정보(customers)**\n",
    "\n",
    "- customers 데이터프레임을 충분히 탐색합니다.\n",
    "- 간단한 집계를 수행해 보는 것도 좋은 방법입니다."
   ]
  },
  {
   "cell_type": "code",
   "execution_count": 6,
   "metadata": {},
   "outputs": [
    {
     "data": {
      "text/html": [
       "<div>\n",
       "<style scoped>\n",
       "    .dataframe tbody tr th:only-of-type {\n",
       "        vertical-align: middle;\n",
       "    }\n",
       "\n",
       "    .dataframe tbody tr th {\n",
       "        vertical-align: top;\n",
       "    }\n",
       "\n",
       "    .dataframe thead th {\n",
       "        text-align: right;\n",
       "    }\n",
       "</style>\n",
       "<table border=\"1\" class=\"dataframe\">\n",
       "  <thead>\n",
       "    <tr style=\"text-align: right;\">\n",
       "      <th></th>\n",
       "      <th>CustomerID</th>\n",
       "      <th>RegisterDate</th>\n",
       "      <th>Address</th>\n",
       "      <th>Gender</th>\n",
       "      <th>BirthYear</th>\n",
       "      <th>Addr1</th>\n",
       "      <th>Addr2</th>\n",
       "    </tr>\n",
       "  </thead>\n",
       "  <tbody>\n",
       "    <tr>\n",
       "      <th>0</th>\n",
       "      <td>c017487</td>\n",
       "      <td>2002-07-31</td>\n",
       "      <td>경기 성남시 중원구 둔촌대로190번길</td>\n",
       "      <td>F</td>\n",
       "      <td>1968</td>\n",
       "      <td>경기도</td>\n",
       "      <td>성남시</td>\n",
       "    </tr>\n",
       "    <tr>\n",
       "      <th>1</th>\n",
       "      <td>c017503</td>\n",
       "      <td>2002-07-31</td>\n",
       "      <td>서울 마포구 새터산12길</td>\n",
       "      <td>F</td>\n",
       "      <td>1971</td>\n",
       "      <td>서울특별시</td>\n",
       "      <td>마포구</td>\n",
       "    </tr>\n",
       "    <tr>\n",
       "      <th>2</th>\n",
       "      <td>c017517</td>\n",
       "      <td>2002-07-31</td>\n",
       "      <td>경기도 남양주시 와부읍 덕소로</td>\n",
       "      <td>M</td>\n",
       "      <td>1967</td>\n",
       "      <td>경기도</td>\n",
       "      <td>남양주시</td>\n",
       "    </tr>\n",
       "    <tr>\n",
       "      <th>3</th>\n",
       "      <td>c017522</td>\n",
       "      <td>2002-07-31</td>\n",
       "      <td>강원도 원주시 단구로</td>\n",
       "      <td>F</td>\n",
       "      <td>1965</td>\n",
       "      <td>강원도</td>\n",
       "      <td>원주시</td>\n",
       "    </tr>\n",
       "    <tr>\n",
       "      <th>4</th>\n",
       "      <td>c017526</td>\n",
       "      <td>2002-07-31</td>\n",
       "      <td>경기도 부천시 오정구 소사로730번길</td>\n",
       "      <td>F</td>\n",
       "      <td>1960</td>\n",
       "      <td>경기도</td>\n",
       "      <td>부천시</td>\n",
       "    </tr>\n",
       "  </tbody>\n",
       "</table>\n",
       "</div>"
      ],
      "text/plain": [
       "  CustomerID RegisterDate               Address Gender  BirthYear  Addr1 Addr2\n",
       "0    c017487   2002-07-31  경기 성남시 중원구 둔촌대로190번길      F       1968    경기도   성남시\n",
       "1    c017503   2002-07-31         서울 마포구 새터산12길      F       1971  서울특별시   마포구\n",
       "2    c017517   2002-07-31      경기도 남양주시 와부읍 덕소로      M       1967    경기도  남양주시\n",
       "3    c017522   2002-07-31           강원도 원주시 단구로      F       1965    강원도   원주시\n",
       "4    c017526   2002-07-31  경기도 부천시 오정구 소사로730번길      F       1960    경기도   부천시"
      ]
     },
     "execution_count": 6,
     "metadata": {},
     "output_type": "execute_result"
    }
   ],
   "source": [
    "customers.head()"
   ]
  },
  {
   "cell_type": "code",
   "execution_count": 7,
   "metadata": {},
   "outputs": [
    {
     "data": {
      "text/html": [
       "<div>\n",
       "<style scoped>\n",
       "    .dataframe tbody tr th:only-of-type {\n",
       "        vertical-align: middle;\n",
       "    }\n",
       "\n",
       "    .dataframe tbody tr th {\n",
       "        vertical-align: top;\n",
       "    }\n",
       "\n",
       "    .dataframe thead th {\n",
       "        text-align: right;\n",
       "    }\n",
       "</style>\n",
       "<table border=\"1\" class=\"dataframe\">\n",
       "  <thead>\n",
       "    <tr style=\"text-align: right;\">\n",
       "      <th></th>\n",
       "      <th>CustomerID</th>\n",
       "      <th>RegisterDate</th>\n",
       "      <th>Address</th>\n",
       "      <th>Gender</th>\n",
       "      <th>BirthYear</th>\n",
       "      <th>Addr1</th>\n",
       "      <th>Addr2</th>\n",
       "    </tr>\n",
       "  </thead>\n",
       "  <tbody>\n",
       "    <tr>\n",
       "      <th>2238</th>\n",
       "      <td>c400937</td>\n",
       "      <td>2017-03-12</td>\n",
       "      <td>인천광역시 계양구 주부토로</td>\n",
       "      <td>F</td>\n",
       "      <td>1980</td>\n",
       "      <td>인천광역시</td>\n",
       "      <td>계양구</td>\n",
       "    </tr>\n",
       "    <tr>\n",
       "      <th>2239</th>\n",
       "      <td>c401555</td>\n",
       "      <td>2017-03-20</td>\n",
       "      <td>경기도 남양주시 별내면 청학로68번길</td>\n",
       "      <td>F</td>\n",
       "      <td>1981</td>\n",
       "      <td>경기도</td>\n",
       "      <td>남양주시</td>\n",
       "    </tr>\n",
       "    <tr>\n",
       "      <th>2240</th>\n",
       "      <td>c401584</td>\n",
       "      <td>2017-03-20</td>\n",
       "      <td>경기도 성남시 분당구 불정로</td>\n",
       "      <td>F</td>\n",
       "      <td>1979</td>\n",
       "      <td>경기도</td>\n",
       "      <td>성남시</td>\n",
       "    </tr>\n",
       "    <tr>\n",
       "      <th>2241</th>\n",
       "      <td>c402010</td>\n",
       "      <td>2017-03-25</td>\n",
       "      <td>경기도 성남시 분당구 판교원로82번길</td>\n",
       "      <td>F</td>\n",
       "      <td>1969</td>\n",
       "      <td>경기도</td>\n",
       "      <td>성남시</td>\n",
       "    </tr>\n",
       "    <tr>\n",
       "      <th>2242</th>\n",
       "      <td>c402634</td>\n",
       "      <td>2017-03-30</td>\n",
       "      <td>경기도 용인시 수지구 죽전로</td>\n",
       "      <td>F</td>\n",
       "      <td>1960</td>\n",
       "      <td>경기도</td>\n",
       "      <td>용인시</td>\n",
       "    </tr>\n",
       "  </tbody>\n",
       "</table>\n",
       "</div>"
      ],
      "text/plain": [
       "     CustomerID RegisterDate               Address Gender  BirthYear  Addr1  \\\n",
       "2238    c400937   2017-03-12        인천광역시 계양구 주부토로      F       1980  인천광역시   \n",
       "2239    c401555   2017-03-20  경기도 남양주시 별내면 청학로68번길      F       1981    경기도   \n",
       "2240    c401584   2017-03-20       경기도 성남시 분당구 불정로      F       1979    경기도   \n",
       "2241    c402010   2017-03-25  경기도 성남시 분당구 판교원로82번길      F       1969    경기도   \n",
       "2242    c402634   2017-03-30       경기도 용인시 수지구 죽전로      F       1960    경기도   \n",
       "\n",
       "     Addr2  \n",
       "2238   계양구  \n",
       "2239  남양주시  \n",
       "2240   성남시  \n",
       "2241   성남시  \n",
       "2242   용인시  "
      ]
     },
     "execution_count": 7,
     "metadata": {},
     "output_type": "execute_result"
    }
   ],
   "source": [
    "customers.tail()"
   ]
  },
  {
   "cell_type": "code",
   "execution_count": 8,
   "metadata": {},
   "outputs": [
    {
     "data": {
      "text/plain": [
       "(2243, 7)"
      ]
     },
     "execution_count": 8,
     "metadata": {},
     "output_type": "execute_result"
    }
   ],
   "source": [
    "customers.shape"
   ]
  },
  {
   "cell_type": "code",
   "execution_count": 9,
   "metadata": {
    "id": "SBDudJlmHDOi"
   },
   "outputs": [
    {
     "name": "stdout",
     "output_type": "stream",
     "text": [
      "<class 'pandas.core.frame.DataFrame'>\n",
      "RangeIndex: 2243 entries, 0 to 2242\n",
      "Data columns (total 7 columns):\n",
      " #   Column        Non-Null Count  Dtype \n",
      "---  ------        --------------  ----- \n",
      " 0   CustomerID    2243 non-null   object\n",
      " 1   RegisterDate  2243 non-null   object\n",
      " 2   Address       2243 non-null   object\n",
      " 3   Gender        2243 non-null   object\n",
      " 4   BirthYear     2243 non-null   int64 \n",
      " 5   Addr1         2243 non-null   object\n",
      " 6   Addr2         2243 non-null   object\n",
      "dtypes: int64(1), object(6)\n",
      "memory usage: 122.8+ KB\n"
     ]
    }
   ],
   "source": [
    "customers.info()"
   ]
  },
  {
   "cell_type": "code",
   "execution_count": 10,
   "metadata": {
    "id": "x9_8MKEwtWFZ"
   },
   "outputs": [
    {
     "data": {
      "text/html": [
       "<div>\n",
       "<style scoped>\n",
       "    .dataframe tbody tr th:only-of-type {\n",
       "        vertical-align: middle;\n",
       "    }\n",
       "\n",
       "    .dataframe tbody tr th {\n",
       "        vertical-align: top;\n",
       "    }\n",
       "\n",
       "    .dataframe thead th {\n",
       "        text-align: right;\n",
       "    }\n",
       "</style>\n",
       "<table border=\"1\" class=\"dataframe\">\n",
       "  <thead>\n",
       "    <tr style=\"text-align: right;\">\n",
       "      <th></th>\n",
       "      <th>BirthYear</th>\n",
       "    </tr>\n",
       "  </thead>\n",
       "  <tbody>\n",
       "    <tr>\n",
       "      <th>count</th>\n",
       "      <td>2243.000000</td>\n",
       "    </tr>\n",
       "    <tr>\n",
       "      <th>mean</th>\n",
       "      <td>1971.107445</td>\n",
       "    </tr>\n",
       "    <tr>\n",
       "      <th>std</th>\n",
       "      <td>9.658465</td>\n",
       "    </tr>\n",
       "    <tr>\n",
       "      <th>min</th>\n",
       "      <td>1932.000000</td>\n",
       "    </tr>\n",
       "    <tr>\n",
       "      <th>25%</th>\n",
       "      <td>1966.000000</td>\n",
       "    </tr>\n",
       "    <tr>\n",
       "      <th>50%</th>\n",
       "      <td>1972.000000</td>\n",
       "    </tr>\n",
       "    <tr>\n",
       "      <th>75%</th>\n",
       "      <td>1978.000000</td>\n",
       "    </tr>\n",
       "    <tr>\n",
       "      <th>max</th>\n",
       "      <td>1999.000000</td>\n",
       "    </tr>\n",
       "  </tbody>\n",
       "</table>\n",
       "</div>"
      ],
      "text/plain": [
       "         BirthYear\n",
       "count  2243.000000\n",
       "mean   1971.107445\n",
       "std       9.658465\n",
       "min    1932.000000\n",
       "25%    1966.000000\n",
       "50%    1972.000000\n",
       "75%    1978.000000\n",
       "max    1999.000000"
      ]
     },
     "execution_count": 10,
     "metadata": {},
     "output_type": "execute_result"
    }
   ],
   "source": [
    "customers.describe()"
   ]
  },
  {
   "cell_type": "code",
   "execution_count": 11,
   "metadata": {
    "id": "3BTuZtbRs4HO"
   },
   "outputs": [
    {
     "data": {
      "text/plain": [
       "CustomerID      0\n",
       "RegisterDate    0\n",
       "Address         0\n",
       "Gender          0\n",
       "BirthYear       0\n",
       "Addr1           0\n",
       "Addr2           0\n",
       "dtype: int64"
      ]
     },
     "execution_count": 11,
     "metadata": {},
     "output_type": "execute_result"
    }
   ],
   "source": [
    "customers.isna().sum()"
   ]
  },
  {
   "cell_type": "code",
   "execution_count": 12,
   "metadata": {
    "id": "vAZLgCLXKCMB"
   },
   "outputs": [
    {
     "data": {
      "text/plain": [
       "CustomerID  RegisterDate  Address               Gender  BirthYear  Addr1  Addr2\n",
       "c017487     2002-07-31    경기 성남시 중원구 둔촌대로190번길  F       1968       경기도    성남시      1\n",
       "c306719     2014-01-26    서울특별시 은평구 연서로         F       1969       서울특별시  은평구      1\n",
       "c305895     2014-01-14    경기도 의왕시 갈미1로          F       1979       경기도    의왕시      1\n",
       "c305921     2014-01-14    서울특별시 강서구 화곡로13길      F       1977       서울특별시  강서구      1\n",
       "c306199     2014-01-17    경기도 고양시 일산동구 애니골길     F       1977       경기도    고양시      1\n",
       "                                                                                  ..\n",
       "c149838     2010-02-22    경기도 의왕시 갈미1로          F       1970       경기도    의왕시      1\n",
       "c149615     2010-02-19    서울특별시 종로구  옥인길        F       1979       서울특별시  종로구      1\n",
       "c149399     2010-02-16    경기도 안성시 삼죽면 삼백로       F       1973       경기도    안성시      1\n",
       "c148979     2010-02-08    경기도 김포시 청송로           F       1955       경기도    김포시      1\n",
       "c402634     2017-03-30    경기도 용인시 수지구 죽전로       F       1960       경기도    용인시      1\n",
       "Length: 2243, dtype: int64"
      ]
     },
     "execution_count": 12,
     "metadata": {},
     "output_type": "execute_result"
    }
   ],
   "source": [
    "customers.value_counts()"
   ]
  },
  {
   "cell_type": "code",
   "execution_count": null,
   "metadata": {
    "id": "SYVsLxh6KguC"
   },
   "outputs": [],
   "source": [
    "\n",
    "\n"
   ]
  },
  {
   "cell_type": "code",
   "execution_count": null,
   "metadata": {
    "id": "RlaiQ6xOGNvx"
   },
   "outputs": [],
   "source": [
    "\n",
    "\n"
   ]
  },
  {
   "cell_type": "markdown",
   "metadata": {
    "id": "ktmISAkXgBM0"
   },
   "source": [
    "**2) 상품 정보(products)**\n",
    "\n",
    "- products 데이터프레임을 충분히 탐색합니다.\n",
    "- 간단한 집계를 수행해 보는 것도 좋은 방법입니다."
   ]
  },
  {
   "cell_type": "code",
   "execution_count": 13,
   "metadata": {},
   "outputs": [
    {
     "data": {
      "text/html": [
       "<div>\n",
       "<style scoped>\n",
       "    .dataframe tbody tr th:only-of-type {\n",
       "        vertical-align: middle;\n",
       "    }\n",
       "\n",
       "    .dataframe tbody tr th {\n",
       "        vertical-align: top;\n",
       "    }\n",
       "\n",
       "    .dataframe thead th {\n",
       "        text-align: right;\n",
       "    }\n",
       "</style>\n",
       "<table border=\"1\" class=\"dataframe\">\n",
       "  <thead>\n",
       "    <tr style=\"text-align: right;\">\n",
       "      <th></th>\n",
       "      <th>ProductID</th>\n",
       "      <th>ProductName</th>\n",
       "      <th>Category</th>\n",
       "      <th>SubCategory</th>\n",
       "      <th>CategoryOrd</th>\n",
       "    </tr>\n",
       "  </thead>\n",
       "  <tbody>\n",
       "    <tr>\n",
       "      <th>0</th>\n",
       "      <td>p1001771</td>\n",
       "      <td>마늘</td>\n",
       "      <td>채소</td>\n",
       "      <td>뿌리채소</td>\n",
       "      <td>5</td>\n",
       "    </tr>\n",
       "    <tr>\n",
       "      <th>1</th>\n",
       "      <td>p1002841</td>\n",
       "      <td>딸기_대</td>\n",
       "      <td>과일</td>\n",
       "      <td>과채</td>\n",
       "      <td>2</td>\n",
       "    </tr>\n",
       "    <tr>\n",
       "      <th>2</th>\n",
       "      <td>p1005621</td>\n",
       "      <td>숙주나물</td>\n",
       "      <td>반찬류</td>\n",
       "      <td>나물류</td>\n",
       "      <td>1</td>\n",
       "    </tr>\n",
       "    <tr>\n",
       "      <th>3</th>\n",
       "      <td>p1005771</td>\n",
       "      <td>두부_소</td>\n",
       "      <td>반찬류</td>\n",
       "      <td>두부</td>\n",
       "      <td>1</td>\n",
       "    </tr>\n",
       "    <tr>\n",
       "      <th>4</th>\n",
       "      <td>p1005891</td>\n",
       "      <td>두부_대</td>\n",
       "      <td>반찬류</td>\n",
       "      <td>두부</td>\n",
       "      <td>1</td>\n",
       "    </tr>\n",
       "  </tbody>\n",
       "</table>\n",
       "</div>"
      ],
      "text/plain": [
       "  ProductID ProductName Category SubCategory  CategoryOrd\n",
       "0  p1001771          마늘       채소        뿌리채소            5\n",
       "1  p1002841        딸기_대       과일          과채            2\n",
       "2  p1005621        숙주나물      반찬류         나물류            1\n",
       "3  p1005771        두부_소      반찬류          두부            1\n",
       "4  p1005891        두부_대      반찬류          두부            1"
      ]
     },
     "execution_count": 13,
     "metadata": {},
     "output_type": "execute_result"
    }
   ],
   "source": [
    "products.head()"
   ]
  },
  {
   "cell_type": "code",
   "execution_count": 14,
   "metadata": {},
   "outputs": [
    {
     "data": {
      "text/html": [
       "<div>\n",
       "<style scoped>\n",
       "    .dataframe tbody tr th:only-of-type {\n",
       "        vertical-align: middle;\n",
       "    }\n",
       "\n",
       "    .dataframe tbody tr th {\n",
       "        vertical-align: top;\n",
       "    }\n",
       "\n",
       "    .dataframe thead th {\n",
       "        text-align: right;\n",
       "    }\n",
       "</style>\n",
       "<table border=\"1\" class=\"dataframe\">\n",
       "  <thead>\n",
       "    <tr style=\"text-align: right;\">\n",
       "      <th></th>\n",
       "      <th>ProductID</th>\n",
       "      <th>ProductName</th>\n",
       "      <th>Category</th>\n",
       "      <th>SubCategory</th>\n",
       "      <th>CategoryOrd</th>\n",
       "    </tr>\n",
       "  </thead>\n",
       "  <tbody>\n",
       "    <tr>\n",
       "      <th>57</th>\n",
       "      <td>p1246581</td>\n",
       "      <td>초코우유</td>\n",
       "      <td>유제품</td>\n",
       "      <td>우유</td>\n",
       "      <td>4</td>\n",
       "    </tr>\n",
       "    <tr>\n",
       "      <th>58</th>\n",
       "      <td>p1255281</td>\n",
       "      <td>딸기요거트</td>\n",
       "      <td>유제품</td>\n",
       "      <td>요거트</td>\n",
       "      <td>4</td>\n",
       "    </tr>\n",
       "    <tr>\n",
       "      <th>59</th>\n",
       "      <td>p1256521</td>\n",
       "      <td>부침용두부</td>\n",
       "      <td>반찬류</td>\n",
       "      <td>두부</td>\n",
       "      <td>1</td>\n",
       "    </tr>\n",
       "    <tr>\n",
       "      <th>60</th>\n",
       "      <td>p1284851</td>\n",
       "      <td>유기농우유</td>\n",
       "      <td>유제품</td>\n",
       "      <td>우유</td>\n",
       "      <td>4</td>\n",
       "    </tr>\n",
       "    <tr>\n",
       "      <th>61</th>\n",
       "      <td>p1299491</td>\n",
       "      <td>당근</td>\n",
       "      <td>채소</td>\n",
       "      <td>뿌리채소</td>\n",
       "      <td>5</td>\n",
       "    </tr>\n",
       "  </tbody>\n",
       "</table>\n",
       "</div>"
      ],
      "text/plain": [
       "   ProductID ProductName Category SubCategory  CategoryOrd\n",
       "57  p1246581        초코우유      유제품          우유            4\n",
       "58  p1255281       딸기요거트      유제품         요거트            4\n",
       "59  p1256521       부침용두부      반찬류          두부            1\n",
       "60  p1284851       유기농우유      유제품          우유            4\n",
       "61  p1299491          당근       채소        뿌리채소            5"
      ]
     },
     "execution_count": 14,
     "metadata": {},
     "output_type": "execute_result"
    }
   ],
   "source": [
    "products.tail()"
   ]
  },
  {
   "cell_type": "code",
   "execution_count": 15,
   "metadata": {},
   "outputs": [
    {
     "data": {
      "text/plain": [
       "(62, 5)"
      ]
     },
     "execution_count": 15,
     "metadata": {},
     "output_type": "execute_result"
    }
   ],
   "source": [
    "products.shape"
   ]
  },
  {
   "cell_type": "code",
   "execution_count": 16,
   "metadata": {
    "id": "xmhzfhVlgBM0"
   },
   "outputs": [
    {
     "name": "stdout",
     "output_type": "stream",
     "text": [
      "<class 'pandas.core.frame.DataFrame'>\n",
      "RangeIndex: 62 entries, 0 to 61\n",
      "Data columns (total 5 columns):\n",
      " #   Column       Non-Null Count  Dtype \n",
      "---  ------       --------------  ----- \n",
      " 0   ProductID    62 non-null     object\n",
      " 1   ProductName  62 non-null     object\n",
      " 2   Category     62 non-null     object\n",
      " 3   SubCategory  62 non-null     object\n",
      " 4   CategoryOrd  62 non-null     int64 \n",
      "dtypes: int64(1), object(4)\n",
      "memory usage: 2.5+ KB\n"
     ]
    }
   ],
   "source": [
    "products.info()"
   ]
  },
  {
   "cell_type": "code",
   "execution_count": 17,
   "metadata": {
    "id": "C_IRCYhStTmn"
   },
   "outputs": [
    {
     "data": {
      "text/html": [
       "<div>\n",
       "<style scoped>\n",
       "    .dataframe tbody tr th:only-of-type {\n",
       "        vertical-align: middle;\n",
       "    }\n",
       "\n",
       "    .dataframe tbody tr th {\n",
       "        vertical-align: top;\n",
       "    }\n",
       "\n",
       "    .dataframe thead th {\n",
       "        text-align: right;\n",
       "    }\n",
       "</style>\n",
       "<table border=\"1\" class=\"dataframe\">\n",
       "  <thead>\n",
       "    <tr style=\"text-align: right;\">\n",
       "      <th></th>\n",
       "      <th>CategoryOrd</th>\n",
       "    </tr>\n",
       "  </thead>\n",
       "  <tbody>\n",
       "    <tr>\n",
       "      <th>count</th>\n",
       "      <td>62.000000</td>\n",
       "    </tr>\n",
       "    <tr>\n",
       "      <th>mean</th>\n",
       "      <td>3.612903</td>\n",
       "    </tr>\n",
       "    <tr>\n",
       "      <th>std</th>\n",
       "      <td>1.406715</td>\n",
       "    </tr>\n",
       "    <tr>\n",
       "      <th>min</th>\n",
       "      <td>1.000000</td>\n",
       "    </tr>\n",
       "    <tr>\n",
       "      <th>25%</th>\n",
       "      <td>3.000000</td>\n",
       "    </tr>\n",
       "    <tr>\n",
       "      <th>50%</th>\n",
       "      <td>4.000000</td>\n",
       "    </tr>\n",
       "    <tr>\n",
       "      <th>75%</th>\n",
       "      <td>5.000000</td>\n",
       "    </tr>\n",
       "    <tr>\n",
       "      <th>max</th>\n",
       "      <td>5.000000</td>\n",
       "    </tr>\n",
       "  </tbody>\n",
       "</table>\n",
       "</div>"
      ],
      "text/plain": [
       "       CategoryOrd\n",
       "count    62.000000\n",
       "mean      3.612903\n",
       "std       1.406715\n",
       "min       1.000000\n",
       "25%       3.000000\n",
       "50%       4.000000\n",
       "75%       5.000000\n",
       "max       5.000000"
      ]
     },
     "execution_count": 17,
     "metadata": {},
     "output_type": "execute_result"
    }
   ],
   "source": [
    "products.describe()"
   ]
  },
  {
   "cell_type": "code",
   "execution_count": 18,
   "metadata": {
    "id": "2UORrtJftFR2"
   },
   "outputs": [
    {
     "data": {
      "text/plain": [
       "ProductID      0\n",
       "ProductName    0\n",
       "Category       0\n",
       "SubCategory    0\n",
       "CategoryOrd    0\n",
       "dtype: int64"
      ]
     },
     "execution_count": 18,
     "metadata": {},
     "output_type": "execute_result"
    }
   ],
   "source": [
    "products.isna().sum()"
   ]
  },
  {
   "cell_type": "code",
   "execution_count": 19,
   "metadata": {
    "id": "tNMknvcbgBM0"
   },
   "outputs": [
    {
     "data": {
      "text/plain": [
       "ProductID  ProductName  Category  SubCategory  CategoryOrd\n",
       "p1001771   마늘           채소        뿌리채소         5              1\n",
       "p1194801   딸기_소         과일        과채           2              1\n",
       "p1144371   청오이          채소        열매채소         5              1\n",
       "p1144661   양배출          채소        잎채소          5              1\n",
       "p1149381   팥아이스크림       유제품       아이스크림        4              1\n",
       "                                                             ..\n",
       "p1097821   짱구           간식        과자           3              1\n",
       "p1097831   감자칩          간식        과자           3              1\n",
       "p1100371   연두부          반찬류       두부           1              1\n",
       "p1119071   뿌셔뿌셔         간식        과자           3              1\n",
       "p1299491   당근           채소        뿌리채소         5              1\n",
       "Length: 62, dtype: int64"
      ]
     },
     "execution_count": 19,
     "metadata": {},
     "output_type": "execute_result"
    }
   ],
   "source": [
    "products.value_counts()"
   ]
  },
  {
   "cell_type": "code",
   "execution_count": null,
   "metadata": {
    "id": "NhIVId_ngBM0"
   },
   "outputs": [],
   "source": [
    "\n",
    "\n"
   ]
  },
  {
   "cell_type": "code",
   "execution_count": null,
   "metadata": {
    "id": "50EpPpSJGNVV"
   },
   "outputs": [],
   "source": [
    "\n",
    "\n"
   ]
  },
  {
   "cell_type": "markdown",
   "metadata": {
    "id": "Ek_BgBX7gBM1"
   },
   "source": [
    "**3) 주문 정보(orders)**\n",
    "\n",
    "- orders 데이터프레임을 충분히 탐색합니다.\n",
    "- 간단한 집계를 수행해 보는 것도 좋은 방법입니다."
   ]
  },
  {
   "cell_type": "code",
   "execution_count": 20,
   "metadata": {},
   "outputs": [
    {
     "data": {
      "text/html": [
       "<div>\n",
       "<style scoped>\n",
       "    .dataframe tbody tr th:only-of-type {\n",
       "        vertical-align: middle;\n",
       "    }\n",
       "\n",
       "    .dataframe tbody tr th {\n",
       "        vertical-align: top;\n",
       "    }\n",
       "\n",
       "    .dataframe thead th {\n",
       "        text-align: right;\n",
       "    }\n",
       "</style>\n",
       "<table border=\"1\" class=\"dataframe\">\n",
       "  <thead>\n",
       "    <tr style=\"text-align: right;\">\n",
       "      <th></th>\n",
       "      <th>OrderID</th>\n",
       "      <th>Seq</th>\n",
       "      <th>OrderDate</th>\n",
       "      <th>ProductID</th>\n",
       "      <th>Qty</th>\n",
       "      <th>Amt</th>\n",
       "      <th>CustomerID</th>\n",
       "    </tr>\n",
       "  </thead>\n",
       "  <tbody>\n",
       "    <tr>\n",
       "      <th>0</th>\n",
       "      <td>1</td>\n",
       "      <td>1</td>\n",
       "      <td>2016-01-02</td>\n",
       "      <td>p1030071</td>\n",
       "      <td>2</td>\n",
       "      <td>7900</td>\n",
       "      <td>c107853</td>\n",
       "    </tr>\n",
       "    <tr>\n",
       "      <th>1</th>\n",
       "      <td>2</td>\n",
       "      <td>1</td>\n",
       "      <td>2016-01-02</td>\n",
       "      <td>p1012761</td>\n",
       "      <td>1</td>\n",
       "      <td>1700</td>\n",
       "      <td>c110521</td>\n",
       "    </tr>\n",
       "    <tr>\n",
       "      <th>2</th>\n",
       "      <td>2</td>\n",
       "      <td>2</td>\n",
       "      <td>2016-01-02</td>\n",
       "      <td>p1012581</td>\n",
       "      <td>1</td>\n",
       "      <td>1000</td>\n",
       "      <td>c110521</td>\n",
       "    </tr>\n",
       "    <tr>\n",
       "      <th>3</th>\n",
       "      <td>2</td>\n",
       "      <td>3</td>\n",
       "      <td>2016-01-02</td>\n",
       "      <td>p1175481</td>\n",
       "      <td>1</td>\n",
       "      <td>1300</td>\n",
       "      <td>c110521</td>\n",
       "    </tr>\n",
       "    <tr>\n",
       "      <th>4</th>\n",
       "      <td>2</td>\n",
       "      <td>4</td>\n",
       "      <td>2016-01-02</td>\n",
       "      <td>p1178011</td>\n",
       "      <td>1</td>\n",
       "      <td>8800</td>\n",
       "      <td>c110521</td>\n",
       "    </tr>\n",
       "  </tbody>\n",
       "</table>\n",
       "</div>"
      ],
      "text/plain": [
       "   OrderID  Seq   OrderDate ProductID  Qty   Amt CustomerID\n",
       "0        1    1  2016-01-02  p1030071    2  7900    c107853\n",
       "1        2    1  2016-01-02  p1012761    1  1700    c110521\n",
       "2        2    2  2016-01-02  p1012581    1  1000    c110521\n",
       "3        2    3  2016-01-02  p1175481    1  1300    c110521\n",
       "4        2    4  2016-01-02  p1178011    1  8800    c110521"
      ]
     },
     "execution_count": 20,
     "metadata": {},
     "output_type": "execute_result"
    }
   ],
   "source": [
    "orders.head()"
   ]
  },
  {
   "cell_type": "code",
   "execution_count": 21,
   "metadata": {},
   "outputs": [
    {
     "data": {
      "text/html": [
       "<div>\n",
       "<style scoped>\n",
       "    .dataframe tbody tr th:only-of-type {\n",
       "        vertical-align: middle;\n",
       "    }\n",
       "\n",
       "    .dataframe tbody tr th {\n",
       "        vertical-align: top;\n",
       "    }\n",
       "\n",
       "    .dataframe thead th {\n",
       "        text-align: right;\n",
       "    }\n",
       "</style>\n",
       "<table border=\"1\" class=\"dataframe\">\n",
       "  <thead>\n",
       "    <tr style=\"text-align: right;\">\n",
       "      <th></th>\n",
       "      <th>OrderID</th>\n",
       "      <th>Seq</th>\n",
       "      <th>OrderDate</th>\n",
       "      <th>ProductID</th>\n",
       "      <th>Qty</th>\n",
       "      <th>Amt</th>\n",
       "      <th>CustomerID</th>\n",
       "    </tr>\n",
       "  </thead>\n",
       "  <tbody>\n",
       "    <tr>\n",
       "      <th>68834</th>\n",
       "      <td>76</td>\n",
       "      <td>1</td>\n",
       "      <td>2017-03-31</td>\n",
       "      <td>p1201601</td>\n",
       "      <td>1</td>\n",
       "      <td>2100</td>\n",
       "      <td>c302834</td>\n",
       "    </tr>\n",
       "    <tr>\n",
       "      <th>68835</th>\n",
       "      <td>77</td>\n",
       "      <td>1</td>\n",
       "      <td>2017-03-31</td>\n",
       "      <td>p1002841</td>\n",
       "      <td>1</td>\n",
       "      <td>10700</td>\n",
       "      <td>c343734</td>\n",
       "    </tr>\n",
       "    <tr>\n",
       "      <th>68836</th>\n",
       "      <td>78</td>\n",
       "      <td>1</td>\n",
       "      <td>2017-03-31</td>\n",
       "      <td>p1012761</td>\n",
       "      <td>1</td>\n",
       "      <td>1900</td>\n",
       "      <td>c354639</td>\n",
       "    </tr>\n",
       "    <tr>\n",
       "      <th>68837</th>\n",
       "      <td>79</td>\n",
       "      <td>1</td>\n",
       "      <td>2017-03-31</td>\n",
       "      <td>p1005891</td>\n",
       "      <td>1</td>\n",
       "      <td>1950</td>\n",
       "      <td>c394131</td>\n",
       "    </tr>\n",
       "    <tr>\n",
       "      <th>68838</th>\n",
       "      <td>79</td>\n",
       "      <td>2</td>\n",
       "      <td>2017-03-31</td>\n",
       "      <td>p1179241</td>\n",
       "      <td>1</td>\n",
       "      <td>2200</td>\n",
       "      <td>c394131</td>\n",
       "    </tr>\n",
       "  </tbody>\n",
       "</table>\n",
       "</div>"
      ],
      "text/plain": [
       "       OrderID  Seq   OrderDate ProductID  Qty    Amt CustomerID\n",
       "68834       76    1  2017-03-31  p1201601    1   2100    c302834\n",
       "68835       77    1  2017-03-31  p1002841    1  10700    c343734\n",
       "68836       78    1  2017-03-31  p1012761    1   1900    c354639\n",
       "68837       79    1  2017-03-31  p1005891    1   1950    c394131\n",
       "68838       79    2  2017-03-31  p1179241    1   2200    c394131"
      ]
     },
     "execution_count": 21,
     "metadata": {},
     "output_type": "execute_result"
    }
   ],
   "source": [
    "orders.tail()"
   ]
  },
  {
   "cell_type": "code",
   "execution_count": 22,
   "metadata": {},
   "outputs": [
    {
     "data": {
      "text/plain": [
       "(68839, 7)"
      ]
     },
     "execution_count": 22,
     "metadata": {},
     "output_type": "execute_result"
    }
   ],
   "source": [
    "orders.shape"
   ]
  },
  {
   "cell_type": "code",
   "execution_count": 23,
   "metadata": {
    "id": "6550xr-LgBM1"
   },
   "outputs": [
    {
     "name": "stdout",
     "output_type": "stream",
     "text": [
      "<class 'pandas.core.frame.DataFrame'>\n",
      "RangeIndex: 68839 entries, 0 to 68838\n",
      "Data columns (total 7 columns):\n",
      " #   Column      Non-Null Count  Dtype \n",
      "---  ------      --------------  ----- \n",
      " 0   OrderID     68839 non-null  int64 \n",
      " 1   Seq         68839 non-null  int64 \n",
      " 2   OrderDate   68839 non-null  object\n",
      " 3   ProductID   68839 non-null  object\n",
      " 4   Qty         68839 non-null  int64 \n",
      " 5   Amt         68839 non-null  int64 \n",
      " 6   CustomerID  68839 non-null  object\n",
      "dtypes: int64(4), object(3)\n",
      "memory usage: 3.7+ MB\n"
     ]
    }
   ],
   "source": [
    "orders.info()"
   ]
  },
  {
   "cell_type": "code",
   "execution_count": 24,
   "metadata": {
    "id": "Az3Ms14YgBM1"
   },
   "outputs": [
    {
     "data": {
      "text/html": [
       "<div>\n",
       "<style scoped>\n",
       "    .dataframe tbody tr th:only-of-type {\n",
       "        vertical-align: middle;\n",
       "    }\n",
       "\n",
       "    .dataframe tbody tr th {\n",
       "        vertical-align: top;\n",
       "    }\n",
       "\n",
       "    .dataframe thead th {\n",
       "        text-align: right;\n",
       "    }\n",
       "</style>\n",
       "<table border=\"1\" class=\"dataframe\">\n",
       "  <thead>\n",
       "    <tr style=\"text-align: right;\">\n",
       "      <th></th>\n",
       "      <th>OrderID</th>\n",
       "      <th>Seq</th>\n",
       "      <th>Qty</th>\n",
       "      <th>Amt</th>\n",
       "    </tr>\n",
       "  </thead>\n",
       "  <tbody>\n",
       "    <tr>\n",
       "      <th>count</th>\n",
       "      <td>68839.000000</td>\n",
       "      <td>68839.000000</td>\n",
       "      <td>68839.000000</td>\n",
       "      <td>68839.000000</td>\n",
       "    </tr>\n",
       "    <tr>\n",
       "      <th>mean</th>\n",
       "      <td>38.551519</td>\n",
       "      <td>2.082628</td>\n",
       "      <td>1.266985</td>\n",
       "      <td>2847.057990</td>\n",
       "    </tr>\n",
       "    <tr>\n",
       "      <th>std</th>\n",
       "      <td>23.952370</td>\n",
       "      <td>1.469644</td>\n",
       "      <td>1.372289</td>\n",
       "      <td>2634.378327</td>\n",
       "    </tr>\n",
       "    <tr>\n",
       "      <th>min</th>\n",
       "      <td>1.000000</td>\n",
       "      <td>1.000000</td>\n",
       "      <td>1.000000</td>\n",
       "      <td>250.000000</td>\n",
       "    </tr>\n",
       "    <tr>\n",
       "      <th>25%</th>\n",
       "      <td>18.000000</td>\n",
       "      <td>1.000000</td>\n",
       "      <td>1.000000</td>\n",
       "      <td>1300.000000</td>\n",
       "    </tr>\n",
       "    <tr>\n",
       "      <th>50%</th>\n",
       "      <td>37.000000</td>\n",
       "      <td>2.000000</td>\n",
       "      <td>1.000000</td>\n",
       "      <td>1950.000000</td>\n",
       "    </tr>\n",
       "    <tr>\n",
       "      <th>75%</th>\n",
       "      <td>56.000000</td>\n",
       "      <td>3.000000</td>\n",
       "      <td>1.000000</td>\n",
       "      <td>3227.000000</td>\n",
       "    </tr>\n",
       "    <tr>\n",
       "      <th>max</th>\n",
       "      <td>122.000000</td>\n",
       "      <td>15.000000</td>\n",
       "      <td>200.000000</td>\n",
       "      <td>109100.000000</td>\n",
       "    </tr>\n",
       "  </tbody>\n",
       "</table>\n",
       "</div>"
      ],
      "text/plain": [
       "            OrderID           Seq           Qty            Amt\n",
       "count  68839.000000  68839.000000  68839.000000   68839.000000\n",
       "mean      38.551519      2.082628      1.266985    2847.057990\n",
       "std       23.952370      1.469644      1.372289    2634.378327\n",
       "min        1.000000      1.000000      1.000000     250.000000\n",
       "25%       18.000000      1.000000      1.000000    1300.000000\n",
       "50%       37.000000      2.000000      1.000000    1950.000000\n",
       "75%       56.000000      3.000000      1.000000    3227.000000\n",
       "max      122.000000     15.000000    200.000000  109100.000000"
      ]
     },
     "execution_count": 24,
     "metadata": {},
     "output_type": "execute_result"
    }
   ],
   "source": [
    "orders.describe()"
   ]
  },
  {
   "cell_type": "code",
   "execution_count": 25,
   "metadata": {
    "id": "jaTP8tS2tJOT"
   },
   "outputs": [
    {
     "data": {
      "text/plain": [
       "OrderID       0\n",
       "Seq           0\n",
       "OrderDate     0\n",
       "ProductID     0\n",
       "Qty           0\n",
       "Amt           0\n",
       "CustomerID    0\n",
       "dtype: int64"
      ]
     },
     "execution_count": 25,
     "metadata": {},
     "output_type": "execute_result"
    }
   ],
   "source": [
    "orders.isna().sum()"
   ]
  },
  {
   "cell_type": "code",
   "execution_count": 26,
   "metadata": {
    "id": "Gb4qRTALgBM2"
   },
   "outputs": [
    {
     "data": {
      "text/plain": [
       "OrderID  Seq  OrderDate   ProductID  Qty  Amt    CustomerID\n",
       "1        1    2016-01-02  p1030071   2    7900   c107853       1\n",
       "49       2    2017-02-22  p1002841   2    26200  c274126       1\n",
       "              2017-01-16  p1179241   1    2050   c092647       1\n",
       "              2017-01-18  p1013251   1    3200   c177887       1\n",
       "              2017-01-20  p1097821   4    3636   c038272       1\n",
       "                                                              ..\n",
       "25       1    2016-03-13  p1005771   1    1850   c168775       1\n",
       "              2016-03-14  p1052661   2    2910   c324337       1\n",
       "              2016-03-15  p1178011   1    8800   c140393       1\n",
       "              2016-03-16  p1194801   1    6800   c347991       1\n",
       "122      1    2016-02-06  p1133371   1    1000   c366727       1\n",
       "Length: 68839, dtype: int64"
      ]
     },
     "execution_count": 26,
     "metadata": {},
     "output_type": "execute_result"
    }
   ],
   "source": [
    "orders.value_counts()"
   ]
  },
  {
   "cell_type": "code",
   "execution_count": null,
   "metadata": {
    "id": "9HLuVi0UgBM2"
   },
   "outputs": [],
   "source": [
    "\n",
    "\n"
   ]
  },
  {
   "cell_type": "code",
   "execution_count": null,
   "metadata": {
    "id": "-FqyrV5RGMw5"
   },
   "outputs": [],
   "source": [
    "\n",
    "\n"
   ]
  },
  {
   "cell_type": "markdown",
   "metadata": {
    "id": "Ssb_UpOagBM2"
   },
   "source": [
    "## 3.데이터 전처리\n",
    "\n",
    "전처리 과정에서 다음과 같은 처리를 할 수 있습니다.\n",
    "\n",
    "- 결측치 처리\n",
    "- 값 변경\n",
    "- 열 추가\n",
    "- 불필요한 열 제거\n",
    "- 열 이름 변경\n",
    "- 데이터 통합(연결 또는 조인)\n",
    "- 가변수화 등"
   ]
  },
  {
   "cell_type": "markdown",
   "metadata": {
    "id": "XDI0-X06gBM3"
   },
   "source": [
    "**1) 데이터 통합**\n",
    "\n",
    "- 각 데이터프레임의 모든 열을 통합 할 것이 아니면 \n",
    "    - 필요한 열만 추출해 별도 데이터프레임을 선언한 후 통합하거나\n",
    "    - 또는 모두 통합 후 불필요한 열을 제거하는 방법을 사용합니다."
   ]
  },
  {
   "cell_type": "code",
   "execution_count": 27,
   "metadata": {
    "id": "NW7N_xeVgBM4"
   },
   "outputs": [
    {
     "data": {
      "text/html": [
       "<div>\n",
       "<style scoped>\n",
       "    .dataframe tbody tr th:only-of-type {\n",
       "        vertical-align: middle;\n",
       "    }\n",
       "\n",
       "    .dataframe tbody tr th {\n",
       "        vertical-align: top;\n",
       "    }\n",
       "\n",
       "    .dataframe thead th {\n",
       "        text-align: right;\n",
       "    }\n",
       "</style>\n",
       "<table border=\"1\" class=\"dataframe\">\n",
       "  <thead>\n",
       "    <tr style=\"text-align: right;\">\n",
       "      <th></th>\n",
       "      <th>OrderID</th>\n",
       "      <th>Seq</th>\n",
       "      <th>OrderDate</th>\n",
       "      <th>ProductID</th>\n",
       "      <th>Qty</th>\n",
       "      <th>Amt</th>\n",
       "      <th>CustomerID</th>\n",
       "      <th>RegisterDate</th>\n",
       "      <th>Address</th>\n",
       "      <th>Gender</th>\n",
       "      <th>BirthYear</th>\n",
       "      <th>Addr1</th>\n",
       "      <th>Addr2</th>\n",
       "    </tr>\n",
       "  </thead>\n",
       "  <tbody>\n",
       "    <tr>\n",
       "      <th>0</th>\n",
       "      <td>1</td>\n",
       "      <td>1</td>\n",
       "      <td>2016-01-02</td>\n",
       "      <td>p1030071</td>\n",
       "      <td>2</td>\n",
       "      <td>7900</td>\n",
       "      <td>c107853</td>\n",
       "      <td>2008-07-11</td>\n",
       "      <td>경기도 안성시 비룡2길</td>\n",
       "      <td>M</td>\n",
       "      <td>1961</td>\n",
       "      <td>경기도</td>\n",
       "      <td>안성시</td>\n",
       "    </tr>\n",
       "    <tr>\n",
       "      <th>1</th>\n",
       "      <td>48</td>\n",
       "      <td>1</td>\n",
       "      <td>2016-01-09</td>\n",
       "      <td>p1097821</td>\n",
       "      <td>3</td>\n",
       "      <td>3000</td>\n",
       "      <td>c107853</td>\n",
       "      <td>2008-07-11</td>\n",
       "      <td>경기도 안성시 비룡2길</td>\n",
       "      <td>M</td>\n",
       "      <td>1961</td>\n",
       "      <td>경기도</td>\n",
       "      <td>안성시</td>\n",
       "    </tr>\n",
       "    <tr>\n",
       "      <th>2</th>\n",
       "      <td>48</td>\n",
       "      <td>2</td>\n",
       "      <td>2016-01-09</td>\n",
       "      <td>p1012951</td>\n",
       "      <td>2</td>\n",
       "      <td>6000</td>\n",
       "      <td>c107853</td>\n",
       "      <td>2008-07-11</td>\n",
       "      <td>경기도 안성시 비룡2길</td>\n",
       "      <td>M</td>\n",
       "      <td>1961</td>\n",
       "      <td>경기도</td>\n",
       "      <td>안성시</td>\n",
       "    </tr>\n",
       "    <tr>\n",
       "      <th>3</th>\n",
       "      <td>48</td>\n",
       "      <td>3</td>\n",
       "      <td>2016-01-09</td>\n",
       "      <td>p1012811</td>\n",
       "      <td>2</td>\n",
       "      <td>5000</td>\n",
       "      <td>c107853</td>\n",
       "      <td>2008-07-11</td>\n",
       "      <td>경기도 안성시 비룡2길</td>\n",
       "      <td>M</td>\n",
       "      <td>1961</td>\n",
       "      <td>경기도</td>\n",
       "      <td>안성시</td>\n",
       "    </tr>\n",
       "    <tr>\n",
       "      <th>4</th>\n",
       "      <td>48</td>\n",
       "      <td>4</td>\n",
       "      <td>2016-01-09</td>\n",
       "      <td>p1005771</td>\n",
       "      <td>1</td>\n",
       "      <td>1850</td>\n",
       "      <td>c107853</td>\n",
       "      <td>2008-07-11</td>\n",
       "      <td>경기도 안성시 비룡2길</td>\n",
       "      <td>M</td>\n",
       "      <td>1961</td>\n",
       "      <td>경기도</td>\n",
       "      <td>안성시</td>\n",
       "    </tr>\n",
       "  </tbody>\n",
       "</table>\n",
       "</div>"
      ],
      "text/plain": [
       "   OrderID  Seq   OrderDate ProductID  Qty   Amt CustomerID RegisterDate  \\\n",
       "0        1    1  2016-01-02  p1030071    2  7900    c107853   2008-07-11   \n",
       "1       48    1  2016-01-09  p1097821    3  3000    c107853   2008-07-11   \n",
       "2       48    2  2016-01-09  p1012951    2  6000    c107853   2008-07-11   \n",
       "3       48    3  2016-01-09  p1012811    2  5000    c107853   2008-07-11   \n",
       "4       48    4  2016-01-09  p1005771    1  1850    c107853   2008-07-11   \n",
       "\n",
       "        Address Gender  BirthYear Addr1 Addr2  \n",
       "0  경기도 안성시 비룡2길      M       1961   경기도   안성시  \n",
       "1  경기도 안성시 비룡2길      M       1961   경기도   안성시  \n",
       "2  경기도 안성시 비룡2길      M       1961   경기도   안성시  \n",
       "3  경기도 안성시 비룡2길      M       1961   경기도   안성시  \n",
       "4  경기도 안성시 비룡2길      M       1961   경기도   안성시  "
      ]
     },
     "execution_count": 27,
     "metadata": {},
     "output_type": "execute_result"
    }
   ],
   "source": [
    "# orders와 customers를 'CustomerID' 기준으로 병합\n",
    "sale = pd.merge(orders, customers, on='CustomerID', how='inner')\n",
    "sale.head()"
   ]
  },
  {
   "cell_type": "code",
   "execution_count": 28,
   "metadata": {},
   "outputs": [
    {
     "data": {
      "text/html": [
       "<div>\n",
       "<style scoped>\n",
       "    .dataframe tbody tr th:only-of-type {\n",
       "        vertical-align: middle;\n",
       "    }\n",
       "\n",
       "    .dataframe tbody tr th {\n",
       "        vertical-align: top;\n",
       "    }\n",
       "\n",
       "    .dataframe thead th {\n",
       "        text-align: right;\n",
       "    }\n",
       "</style>\n",
       "<table border=\"1\" class=\"dataframe\">\n",
       "  <thead>\n",
       "    <tr style=\"text-align: right;\">\n",
       "      <th></th>\n",
       "      <th>OrderID</th>\n",
       "      <th>Seq</th>\n",
       "      <th>OrderDate</th>\n",
       "      <th>ProductID</th>\n",
       "      <th>Qty</th>\n",
       "      <th>Amt</th>\n",
       "      <th>CustomerID</th>\n",
       "      <th>RegisterDate</th>\n",
       "      <th>Address</th>\n",
       "      <th>Gender</th>\n",
       "      <th>BirthYear</th>\n",
       "      <th>Addr1</th>\n",
       "      <th>Addr2</th>\n",
       "      <th>ProductName</th>\n",
       "      <th>Category</th>\n",
       "      <th>SubCategory</th>\n",
       "      <th>CategoryOrd</th>\n",
       "    </tr>\n",
       "  </thead>\n",
       "  <tbody>\n",
       "    <tr>\n",
       "      <th>0</th>\n",
       "      <td>1</td>\n",
       "      <td>1</td>\n",
       "      <td>2016-01-02</td>\n",
       "      <td>p1030071</td>\n",
       "      <td>2</td>\n",
       "      <td>7900</td>\n",
       "      <td>c107853</td>\n",
       "      <td>2008-07-11</td>\n",
       "      <td>경기도 안성시 비룡2길</td>\n",
       "      <td>M</td>\n",
       "      <td>1961</td>\n",
       "      <td>경기도</td>\n",
       "      <td>안성시</td>\n",
       "      <td>토마토</td>\n",
       "      <td>과일</td>\n",
       "      <td>과채</td>\n",
       "      <td>2</td>\n",
       "    </tr>\n",
       "    <tr>\n",
       "      <th>1</th>\n",
       "      <td>17</td>\n",
       "      <td>1</td>\n",
       "      <td>2016-05-05</td>\n",
       "      <td>p1030071</td>\n",
       "      <td>2</td>\n",
       "      <td>8200</td>\n",
       "      <td>c110521</td>\n",
       "      <td>2008-09-04</td>\n",
       "      <td>경기도 안산시 단원구 광덕서로</td>\n",
       "      <td>F</td>\n",
       "      <td>1972</td>\n",
       "      <td>경기도</td>\n",
       "      <td>안산시</td>\n",
       "      <td>토마토</td>\n",
       "      <td>과일</td>\n",
       "      <td>과채</td>\n",
       "      <td>2</td>\n",
       "    </tr>\n",
       "    <tr>\n",
       "      <th>2</th>\n",
       "      <td>11</td>\n",
       "      <td>1</td>\n",
       "      <td>2017-03-12</td>\n",
       "      <td>p1030071</td>\n",
       "      <td>2</td>\n",
       "      <td>9600</td>\n",
       "      <td>c110521</td>\n",
       "      <td>2008-09-04</td>\n",
       "      <td>경기도 안산시 단원구 광덕서로</td>\n",
       "      <td>F</td>\n",
       "      <td>1972</td>\n",
       "      <td>경기도</td>\n",
       "      <td>안산시</td>\n",
       "      <td>토마토</td>\n",
       "      <td>과일</td>\n",
       "      <td>과채</td>\n",
       "      <td>2</td>\n",
       "    </tr>\n",
       "    <tr>\n",
       "      <th>3</th>\n",
       "      <td>56</td>\n",
       "      <td>1</td>\n",
       "      <td>2016-11-05</td>\n",
       "      <td>p1030071</td>\n",
       "      <td>1</td>\n",
       "      <td>4700</td>\n",
       "      <td>c256672</td>\n",
       "      <td>2012-09-13</td>\n",
       "      <td>서울특별시 구로구 공원로6가길</td>\n",
       "      <td>F</td>\n",
       "      <td>1980</td>\n",
       "      <td>서울특별시</td>\n",
       "      <td>구로구</td>\n",
       "      <td>토마토</td>\n",
       "      <td>과일</td>\n",
       "      <td>과채</td>\n",
       "      <td>2</td>\n",
       "    </tr>\n",
       "    <tr>\n",
       "      <th>4</th>\n",
       "      <td>32</td>\n",
       "      <td>1</td>\n",
       "      <td>2016-02-13</td>\n",
       "      <td>p1030071</td>\n",
       "      <td>1</td>\n",
       "      <td>4650</td>\n",
       "      <td>c260294</td>\n",
       "      <td>2012-10-22</td>\n",
       "      <td>서울특별시 마포구 잔다리로</td>\n",
       "      <td>F</td>\n",
       "      <td>1980</td>\n",
       "      <td>서울특별시</td>\n",
       "      <td>마포구</td>\n",
       "      <td>토마토</td>\n",
       "      <td>과일</td>\n",
       "      <td>과채</td>\n",
       "      <td>2</td>\n",
       "    </tr>\n",
       "  </tbody>\n",
       "</table>\n",
       "</div>"
      ],
      "text/plain": [
       "   OrderID  Seq   OrderDate ProductID  Qty   Amt CustomerID RegisterDate  \\\n",
       "0        1    1  2016-01-02  p1030071    2  7900    c107853   2008-07-11   \n",
       "1       17    1  2016-05-05  p1030071    2  8200    c110521   2008-09-04   \n",
       "2       11    1  2017-03-12  p1030071    2  9600    c110521   2008-09-04   \n",
       "3       56    1  2016-11-05  p1030071    1  4700    c256672   2012-09-13   \n",
       "4       32    1  2016-02-13  p1030071    1  4650    c260294   2012-10-22   \n",
       "\n",
       "            Address Gender  BirthYear  Addr1 Addr2 ProductName Category  \\\n",
       "0      경기도 안성시 비룡2길      M       1961    경기도   안성시         토마토       과일   \n",
       "1  경기도 안산시 단원구 광덕서로      F       1972    경기도   안산시         토마토       과일   \n",
       "2  경기도 안산시 단원구 광덕서로      F       1972    경기도   안산시         토마토       과일   \n",
       "3  서울특별시 구로구 공원로6가길      F       1980  서울특별시   구로구         토마토       과일   \n",
       "4    서울특별시 마포구 잔다리로      F       1980  서울특별시   마포구         토마토       과일   \n",
       "\n",
       "  SubCategory  CategoryOrd  \n",
       "0          과채            2  \n",
       "1          과채            2  \n",
       "2          과채            2  \n",
       "3          과채            2  \n",
       "4          과채            2  "
      ]
     },
     "execution_count": 28,
     "metadata": {},
     "output_type": "execute_result"
    }
   ],
   "source": [
    "# 위에서 병합한 sales와 products를 'ProductID' 기준으로 병합\n",
    "sales = pd.merge(sale, products, on='ProductID', how='inner')\n",
    "sales.head()"
   ]
  },
  {
   "cell_type": "markdown",
   "metadata": {
    "id": "RvrfT0pRgBM4"
   },
   "source": [
    "**2) 결과 확인**"
   ]
  },
  {
   "cell_type": "code",
   "execution_count": 29,
   "metadata": {
    "id": "j-24yh-wgBM4"
   },
   "outputs": [
    {
     "data": {
      "text/html": [
       "<div>\n",
       "<style scoped>\n",
       "    .dataframe tbody tr th:only-of-type {\n",
       "        vertical-align: middle;\n",
       "    }\n",
       "\n",
       "    .dataframe tbody tr th {\n",
       "        vertical-align: top;\n",
       "    }\n",
       "\n",
       "    .dataframe thead th {\n",
       "        text-align: right;\n",
       "    }\n",
       "</style>\n",
       "<table border=\"1\" class=\"dataframe\">\n",
       "  <thead>\n",
       "    <tr style=\"text-align: right;\">\n",
       "      <th></th>\n",
       "      <th>OrderID</th>\n",
       "      <th>Seq</th>\n",
       "      <th>OrderDate</th>\n",
       "      <th>ProductID</th>\n",
       "      <th>Qty</th>\n",
       "      <th>Amt</th>\n",
       "      <th>CustomerID</th>\n",
       "      <th>RegisterDate</th>\n",
       "      <th>Address</th>\n",
       "      <th>Gender</th>\n",
       "      <th>BirthYear</th>\n",
       "      <th>Addr1</th>\n",
       "      <th>Addr2</th>\n",
       "      <th>ProductName</th>\n",
       "      <th>Category</th>\n",
       "      <th>SubCategory</th>\n",
       "      <th>CategoryOrd</th>\n",
       "    </tr>\n",
       "  </thead>\n",
       "  <tbody>\n",
       "    <tr>\n",
       "      <th>0</th>\n",
       "      <td>1</td>\n",
       "      <td>1</td>\n",
       "      <td>2016-01-02</td>\n",
       "      <td>p1030071</td>\n",
       "      <td>2</td>\n",
       "      <td>7900</td>\n",
       "      <td>c107853</td>\n",
       "      <td>2008-07-11</td>\n",
       "      <td>경기도 안성시 비룡2길</td>\n",
       "      <td>M</td>\n",
       "      <td>1961</td>\n",
       "      <td>경기도</td>\n",
       "      <td>안성시</td>\n",
       "      <td>토마토</td>\n",
       "      <td>과일</td>\n",
       "      <td>과채</td>\n",
       "      <td>2</td>\n",
       "    </tr>\n",
       "    <tr>\n",
       "      <th>1</th>\n",
       "      <td>17</td>\n",
       "      <td>1</td>\n",
       "      <td>2016-05-05</td>\n",
       "      <td>p1030071</td>\n",
       "      <td>2</td>\n",
       "      <td>8200</td>\n",
       "      <td>c110521</td>\n",
       "      <td>2008-09-04</td>\n",
       "      <td>경기도 안산시 단원구 광덕서로</td>\n",
       "      <td>F</td>\n",
       "      <td>1972</td>\n",
       "      <td>경기도</td>\n",
       "      <td>안산시</td>\n",
       "      <td>토마토</td>\n",
       "      <td>과일</td>\n",
       "      <td>과채</td>\n",
       "      <td>2</td>\n",
       "    </tr>\n",
       "    <tr>\n",
       "      <th>2</th>\n",
       "      <td>11</td>\n",
       "      <td>1</td>\n",
       "      <td>2017-03-12</td>\n",
       "      <td>p1030071</td>\n",
       "      <td>2</td>\n",
       "      <td>9600</td>\n",
       "      <td>c110521</td>\n",
       "      <td>2008-09-04</td>\n",
       "      <td>경기도 안산시 단원구 광덕서로</td>\n",
       "      <td>F</td>\n",
       "      <td>1972</td>\n",
       "      <td>경기도</td>\n",
       "      <td>안산시</td>\n",
       "      <td>토마토</td>\n",
       "      <td>과일</td>\n",
       "      <td>과채</td>\n",
       "      <td>2</td>\n",
       "    </tr>\n",
       "    <tr>\n",
       "      <th>3</th>\n",
       "      <td>56</td>\n",
       "      <td>1</td>\n",
       "      <td>2016-11-05</td>\n",
       "      <td>p1030071</td>\n",
       "      <td>1</td>\n",
       "      <td>4700</td>\n",
       "      <td>c256672</td>\n",
       "      <td>2012-09-13</td>\n",
       "      <td>서울특별시 구로구 공원로6가길</td>\n",
       "      <td>F</td>\n",
       "      <td>1980</td>\n",
       "      <td>서울특별시</td>\n",
       "      <td>구로구</td>\n",
       "      <td>토마토</td>\n",
       "      <td>과일</td>\n",
       "      <td>과채</td>\n",
       "      <td>2</td>\n",
       "    </tr>\n",
       "    <tr>\n",
       "      <th>4</th>\n",
       "      <td>32</td>\n",
       "      <td>1</td>\n",
       "      <td>2016-02-13</td>\n",
       "      <td>p1030071</td>\n",
       "      <td>1</td>\n",
       "      <td>4650</td>\n",
       "      <td>c260294</td>\n",
       "      <td>2012-10-22</td>\n",
       "      <td>서울특별시 마포구 잔다리로</td>\n",
       "      <td>F</td>\n",
       "      <td>1980</td>\n",
       "      <td>서울특별시</td>\n",
       "      <td>마포구</td>\n",
       "      <td>토마토</td>\n",
       "      <td>과일</td>\n",
       "      <td>과채</td>\n",
       "      <td>2</td>\n",
       "    </tr>\n",
       "    <tr>\n",
       "      <th>5</th>\n",
       "      <td>52</td>\n",
       "      <td>3</td>\n",
       "      <td>2016-09-24</td>\n",
       "      <td>p1030071</td>\n",
       "      <td>1</td>\n",
       "      <td>3300</td>\n",
       "      <td>c260294</td>\n",
       "      <td>2012-10-22</td>\n",
       "      <td>서울특별시 마포구 잔다리로</td>\n",
       "      <td>F</td>\n",
       "      <td>1980</td>\n",
       "      <td>서울특별시</td>\n",
       "      <td>마포구</td>\n",
       "      <td>토마토</td>\n",
       "      <td>과일</td>\n",
       "      <td>과채</td>\n",
       "      <td>2</td>\n",
       "    </tr>\n",
       "    <tr>\n",
       "      <th>6</th>\n",
       "      <td>17</td>\n",
       "      <td>2</td>\n",
       "      <td>2017-03-26</td>\n",
       "      <td>p1030071</td>\n",
       "      <td>1</td>\n",
       "      <td>4800</td>\n",
       "      <td>c260294</td>\n",
       "      <td>2012-10-22</td>\n",
       "      <td>서울특별시 마포구 잔다리로</td>\n",
       "      <td>F</td>\n",
       "      <td>1980</td>\n",
       "      <td>서울특별시</td>\n",
       "      <td>마포구</td>\n",
       "      <td>토마토</td>\n",
       "      <td>과일</td>\n",
       "      <td>과채</td>\n",
       "      <td>2</td>\n",
       "    </tr>\n",
       "    <tr>\n",
       "      <th>7</th>\n",
       "      <td>71</td>\n",
       "      <td>3</td>\n",
       "      <td>2016-08-18</td>\n",
       "      <td>p1030071</td>\n",
       "      <td>1</td>\n",
       "      <td>2250</td>\n",
       "      <td>c275598</td>\n",
       "      <td>2013-04-22</td>\n",
       "      <td>서울특별시 종로구 옥인5길</td>\n",
       "      <td>F</td>\n",
       "      <td>1979</td>\n",
       "      <td>서울특별시</td>\n",
       "      <td>종로구</td>\n",
       "      <td>토마토</td>\n",
       "      <td>과일</td>\n",
       "      <td>과채</td>\n",
       "      <td>2</td>\n",
       "    </tr>\n",
       "    <tr>\n",
       "      <th>8</th>\n",
       "      <td>38</td>\n",
       "      <td>3</td>\n",
       "      <td>2017-03-14</td>\n",
       "      <td>p1030071</td>\n",
       "      <td>1</td>\n",
       "      <td>4800</td>\n",
       "      <td>c337999</td>\n",
       "      <td>2015-01-12</td>\n",
       "      <td>인천광역시 계양구 계양산로42번길</td>\n",
       "      <td>F</td>\n",
       "      <td>1977</td>\n",
       "      <td>인천광역시</td>\n",
       "      <td>계양구</td>\n",
       "      <td>토마토</td>\n",
       "      <td>과일</td>\n",
       "      <td>과채</td>\n",
       "      <td>2</td>\n",
       "    </tr>\n",
       "    <tr>\n",
       "      <th>9</th>\n",
       "      <td>57</td>\n",
       "      <td>2</td>\n",
       "      <td>2016-02-13</td>\n",
       "      <td>p1030071</td>\n",
       "      <td>1</td>\n",
       "      <td>4650</td>\n",
       "      <td>c350776</td>\n",
       "      <td>2015-06-06</td>\n",
       "      <td>경기도 안산시 상록구 반석로</td>\n",
       "      <td>F</td>\n",
       "      <td>1983</td>\n",
       "      <td>경기도</td>\n",
       "      <td>안산시</td>\n",
       "      <td>토마토</td>\n",
       "      <td>과일</td>\n",
       "      <td>과채</td>\n",
       "      <td>2</td>\n",
       "    </tr>\n",
       "  </tbody>\n",
       "</table>\n",
       "</div>"
      ],
      "text/plain": [
       "   OrderID  Seq   OrderDate ProductID  Qty   Amt CustomerID RegisterDate  \\\n",
       "0        1    1  2016-01-02  p1030071    2  7900    c107853   2008-07-11   \n",
       "1       17    1  2016-05-05  p1030071    2  8200    c110521   2008-09-04   \n",
       "2       11    1  2017-03-12  p1030071    2  9600    c110521   2008-09-04   \n",
       "3       56    1  2016-11-05  p1030071    1  4700    c256672   2012-09-13   \n",
       "4       32    1  2016-02-13  p1030071    1  4650    c260294   2012-10-22   \n",
       "5       52    3  2016-09-24  p1030071    1  3300    c260294   2012-10-22   \n",
       "6       17    2  2017-03-26  p1030071    1  4800    c260294   2012-10-22   \n",
       "7       71    3  2016-08-18  p1030071    1  2250    c275598   2013-04-22   \n",
       "8       38    3  2017-03-14  p1030071    1  4800    c337999   2015-01-12   \n",
       "9       57    2  2016-02-13  p1030071    1  4650    c350776   2015-06-06   \n",
       "\n",
       "              Address Gender  BirthYear  Addr1 Addr2 ProductName Category  \\\n",
       "0        경기도 안성시 비룡2길      M       1961    경기도   안성시         토마토       과일   \n",
       "1    경기도 안산시 단원구 광덕서로      F       1972    경기도   안산시         토마토       과일   \n",
       "2    경기도 안산시 단원구 광덕서로      F       1972    경기도   안산시         토마토       과일   \n",
       "3    서울특별시 구로구 공원로6가길      F       1980  서울특별시   구로구         토마토       과일   \n",
       "4      서울특별시 마포구 잔다리로      F       1980  서울특별시   마포구         토마토       과일   \n",
       "5      서울특별시 마포구 잔다리로      F       1980  서울특별시   마포구         토마토       과일   \n",
       "6      서울특별시 마포구 잔다리로      F       1980  서울특별시   마포구         토마토       과일   \n",
       "7      서울특별시 종로구 옥인5길      F       1979  서울특별시   종로구         토마토       과일   \n",
       "8  인천광역시 계양구 계양산로42번길      F       1977  인천광역시   계양구         토마토       과일   \n",
       "9     경기도 안산시 상록구 반석로      F       1983    경기도   안산시         토마토       과일   \n",
       "\n",
       "  SubCategory  CategoryOrd  \n",
       "0          과채            2  \n",
       "1          과채            2  \n",
       "2          과채            2  \n",
       "3          과채            2  \n",
       "4          과채            2  \n",
       "5          과채            2  \n",
       "6          과채            2  \n",
       "7          과채            2  \n",
       "8          과채            2  \n",
       "9          과채            2  "
      ]
     },
     "execution_count": 29,
     "metadata": {},
     "output_type": "execute_result"
    }
   ],
   "source": [
    "sales.head(10)"
   ]
  },
  {
   "cell_type": "markdown",
   "metadata": {
    "id": "Ll_SMqdOgBM5"
   },
   "source": [
    "**3) 열 추가**\n",
    "\n",
    "- 분석을 위해 필요한 열을 추가합니다.\n",
    "- 예를 들어 다음과 같은 열들이 필요하다고 판단할 수 있습니다.\n",
    "    - OrderYear: 주문연도, 주문연도별 분석이 용이하게 하기 위함\n",
    "    - OrderMonth: 주문월, 주문년월 분석이 용이하게 하기 위함\n",
    "    - Age: 연령별 분석을 하기 위함(2017 - 출생년도) 등등"
   ]
  },
  {
   "cell_type": "code",
   "execution_count": 30,
   "metadata": {
    "id": "ICHfbKB2gBM5",
    "scrolled": true
   },
   "outputs": [
    {
     "data": {
      "text/html": [
       "<div>\n",
       "<style scoped>\n",
       "    .dataframe tbody tr th:only-of-type {\n",
       "        vertical-align: middle;\n",
       "    }\n",
       "\n",
       "    .dataframe tbody tr th {\n",
       "        vertical-align: top;\n",
       "    }\n",
       "\n",
       "    .dataframe thead th {\n",
       "        text-align: right;\n",
       "    }\n",
       "</style>\n",
       "<table border=\"1\" class=\"dataframe\">\n",
       "  <thead>\n",
       "    <tr style=\"text-align: right;\">\n",
       "      <th></th>\n",
       "      <th>OrderID</th>\n",
       "      <th>Seq</th>\n",
       "      <th>OrderDate</th>\n",
       "      <th>ProductID</th>\n",
       "      <th>Qty</th>\n",
       "      <th>Amt</th>\n",
       "      <th>CustomerID</th>\n",
       "      <th>RegisterDate</th>\n",
       "      <th>Address</th>\n",
       "      <th>Gender</th>\n",
       "      <th>...</th>\n",
       "      <th>Addr1</th>\n",
       "      <th>Addr2</th>\n",
       "      <th>ProductName</th>\n",
       "      <th>Category</th>\n",
       "      <th>SubCategory</th>\n",
       "      <th>CategoryOrd</th>\n",
       "      <th>OrderYear</th>\n",
       "      <th>OrderMonth</th>\n",
       "      <th>OrderWeekDay</th>\n",
       "      <th>Age</th>\n",
       "    </tr>\n",
       "  </thead>\n",
       "  <tbody>\n",
       "    <tr>\n",
       "      <th>0</th>\n",
       "      <td>1</td>\n",
       "      <td>1</td>\n",
       "      <td>2016-01-02</td>\n",
       "      <td>p1030071</td>\n",
       "      <td>2</td>\n",
       "      <td>7900</td>\n",
       "      <td>c107853</td>\n",
       "      <td>2008-07-11</td>\n",
       "      <td>경기도 안성시 비룡2길</td>\n",
       "      <td>M</td>\n",
       "      <td>...</td>\n",
       "      <td>경기도</td>\n",
       "      <td>안성시</td>\n",
       "      <td>토마토</td>\n",
       "      <td>과일</td>\n",
       "      <td>과채</td>\n",
       "      <td>2</td>\n",
       "      <td>2016</td>\n",
       "      <td>1</td>\n",
       "      <td>5</td>\n",
       "      <td>56</td>\n",
       "    </tr>\n",
       "    <tr>\n",
       "      <th>1</th>\n",
       "      <td>17</td>\n",
       "      <td>1</td>\n",
       "      <td>2016-05-05</td>\n",
       "      <td>p1030071</td>\n",
       "      <td>2</td>\n",
       "      <td>8200</td>\n",
       "      <td>c110521</td>\n",
       "      <td>2008-09-04</td>\n",
       "      <td>경기도 안산시 단원구 광덕서로</td>\n",
       "      <td>F</td>\n",
       "      <td>...</td>\n",
       "      <td>경기도</td>\n",
       "      <td>안산시</td>\n",
       "      <td>토마토</td>\n",
       "      <td>과일</td>\n",
       "      <td>과채</td>\n",
       "      <td>2</td>\n",
       "      <td>2016</td>\n",
       "      <td>5</td>\n",
       "      <td>3</td>\n",
       "      <td>45</td>\n",
       "    </tr>\n",
       "    <tr>\n",
       "      <th>2</th>\n",
       "      <td>11</td>\n",
       "      <td>1</td>\n",
       "      <td>2017-03-12</td>\n",
       "      <td>p1030071</td>\n",
       "      <td>2</td>\n",
       "      <td>9600</td>\n",
       "      <td>c110521</td>\n",
       "      <td>2008-09-04</td>\n",
       "      <td>경기도 안산시 단원구 광덕서로</td>\n",
       "      <td>F</td>\n",
       "      <td>...</td>\n",
       "      <td>경기도</td>\n",
       "      <td>안산시</td>\n",
       "      <td>토마토</td>\n",
       "      <td>과일</td>\n",
       "      <td>과채</td>\n",
       "      <td>2</td>\n",
       "      <td>2017</td>\n",
       "      <td>3</td>\n",
       "      <td>6</td>\n",
       "      <td>45</td>\n",
       "    </tr>\n",
       "    <tr>\n",
       "      <th>3</th>\n",
       "      <td>56</td>\n",
       "      <td>1</td>\n",
       "      <td>2016-11-05</td>\n",
       "      <td>p1030071</td>\n",
       "      <td>1</td>\n",
       "      <td>4700</td>\n",
       "      <td>c256672</td>\n",
       "      <td>2012-09-13</td>\n",
       "      <td>서울특별시 구로구 공원로6가길</td>\n",
       "      <td>F</td>\n",
       "      <td>...</td>\n",
       "      <td>서울특별시</td>\n",
       "      <td>구로구</td>\n",
       "      <td>토마토</td>\n",
       "      <td>과일</td>\n",
       "      <td>과채</td>\n",
       "      <td>2</td>\n",
       "      <td>2016</td>\n",
       "      <td>11</td>\n",
       "      <td>5</td>\n",
       "      <td>37</td>\n",
       "    </tr>\n",
       "    <tr>\n",
       "      <th>4</th>\n",
       "      <td>32</td>\n",
       "      <td>1</td>\n",
       "      <td>2016-02-13</td>\n",
       "      <td>p1030071</td>\n",
       "      <td>1</td>\n",
       "      <td>4650</td>\n",
       "      <td>c260294</td>\n",
       "      <td>2012-10-22</td>\n",
       "      <td>서울특별시 마포구 잔다리로</td>\n",
       "      <td>F</td>\n",
       "      <td>...</td>\n",
       "      <td>서울특별시</td>\n",
       "      <td>마포구</td>\n",
       "      <td>토마토</td>\n",
       "      <td>과일</td>\n",
       "      <td>과채</td>\n",
       "      <td>2</td>\n",
       "      <td>2016</td>\n",
       "      <td>2</td>\n",
       "      <td>5</td>\n",
       "      <td>37</td>\n",
       "    </tr>\n",
       "  </tbody>\n",
       "</table>\n",
       "<p>5 rows × 21 columns</p>\n",
       "</div>"
      ],
      "text/plain": [
       "   OrderID  Seq   OrderDate ProductID  Qty   Amt CustomerID RegisterDate  \\\n",
       "0        1    1  2016-01-02  p1030071    2  7900    c107853   2008-07-11   \n",
       "1       17    1  2016-05-05  p1030071    2  8200    c110521   2008-09-04   \n",
       "2       11    1  2017-03-12  p1030071    2  9600    c110521   2008-09-04   \n",
       "3       56    1  2016-11-05  p1030071    1  4700    c256672   2012-09-13   \n",
       "4       32    1  2016-02-13  p1030071    1  4650    c260294   2012-10-22   \n",
       "\n",
       "            Address Gender  ...  Addr1 Addr2 ProductName Category SubCategory  \\\n",
       "0      경기도 안성시 비룡2길      M  ...    경기도   안성시         토마토       과일          과채   \n",
       "1  경기도 안산시 단원구 광덕서로      F  ...    경기도   안산시         토마토       과일          과채   \n",
       "2  경기도 안산시 단원구 광덕서로      F  ...    경기도   안산시         토마토       과일          과채   \n",
       "3  서울특별시 구로구 공원로6가길      F  ...  서울특별시   구로구         토마토       과일          과채   \n",
       "4    서울특별시 마포구 잔다리로      F  ...  서울특별시   마포구         토마토       과일          과채   \n",
       "\n",
       "  CategoryOrd  OrderYear  OrderMonth  OrderWeekDay  Age  \n",
       "0           2       2016           1             5   56  \n",
       "1           2       2016           5             3   45  \n",
       "2           2       2017           3             6   45  \n",
       "3           2       2016          11             5   37  \n",
       "4           2       2016           2             5   37  \n",
       "\n",
       "[5 rows x 21 columns]"
      ]
     },
     "execution_count": 30,
     "metadata": {},
     "output_type": "execute_result"
    }
   ],
   "source": [
    "sales['OrderYear'] = pd.to_datetime(sales['OrderDate']).dt.year\n",
    "sales['OrderMonth'] = pd.to_datetime(sales['OrderDate']).dt.month\n",
    "sales['OrderWeekDay'] = pd.to_datetime(sales['OrderDate']).dt.weekday\n",
    "sales['Age'] = 2017 - sales['BirthYear']\n",
    "sales.head()"
   ]
  },
  {
   "cell_type": "markdown",
   "metadata": {
    "id": "DBX8rt-PgBM5"
   },
   "source": [
    "**4) 불필요한 열 제거**\n",
    "\n",
    "- 분석에 필요가 없다고 생각되는 열은 제거합니다.\n",
    "- 새로운 열을 추가하면 기존 열이 필요하지 않을 수 있습니다.\n",
    "- 예를 들어 다음 열들이 필요하지 않다고 판단할 수 있습니다.\n",
    "    - OrderDate: 새로 추가한 OrderYear, OrderMonth 열 사용\n",
    "    - ProductID: ProductName 열 사용\n",
    "    - SubCategory: 분석 대상에서 제외 등등"
   ]
  },
  {
   "cell_type": "code",
   "execution_count": 31,
   "metadata": {
    "id": "OiIofiMIgBM5"
   },
   "outputs": [
    {
     "data": {
      "text/html": [
       "<div>\n",
       "<style scoped>\n",
       "    .dataframe tbody tr th:only-of-type {\n",
       "        vertical-align: middle;\n",
       "    }\n",
       "\n",
       "    .dataframe tbody tr th {\n",
       "        vertical-align: top;\n",
       "    }\n",
       "\n",
       "    .dataframe thead th {\n",
       "        text-align: right;\n",
       "    }\n",
       "</style>\n",
       "<table border=\"1\" class=\"dataframe\">\n",
       "  <thead>\n",
       "    <tr style=\"text-align: right;\">\n",
       "      <th></th>\n",
       "      <th>OrderID</th>\n",
       "      <th>Seq</th>\n",
       "      <th>Qty</th>\n",
       "      <th>Amt</th>\n",
       "      <th>CustomerID</th>\n",
       "      <th>RegisterDate</th>\n",
       "      <th>Gender</th>\n",
       "      <th>BirthYear</th>\n",
       "      <th>Addr1</th>\n",
       "      <th>Addr2</th>\n",
       "      <th>ProductName</th>\n",
       "      <th>Category</th>\n",
       "      <th>SubCategory</th>\n",
       "      <th>OrderYear</th>\n",
       "      <th>OrderMonth</th>\n",
       "      <th>OrderWeekDay</th>\n",
       "      <th>Age</th>\n",
       "    </tr>\n",
       "  </thead>\n",
       "  <tbody>\n",
       "    <tr>\n",
       "      <th>0</th>\n",
       "      <td>1</td>\n",
       "      <td>1</td>\n",
       "      <td>2</td>\n",
       "      <td>7900</td>\n",
       "      <td>c107853</td>\n",
       "      <td>2008-07-11</td>\n",
       "      <td>M</td>\n",
       "      <td>1961</td>\n",
       "      <td>경기도</td>\n",
       "      <td>안성시</td>\n",
       "      <td>토마토</td>\n",
       "      <td>과일</td>\n",
       "      <td>과채</td>\n",
       "      <td>2016</td>\n",
       "      <td>1</td>\n",
       "      <td>5</td>\n",
       "      <td>56</td>\n",
       "    </tr>\n",
       "    <tr>\n",
       "      <th>1</th>\n",
       "      <td>17</td>\n",
       "      <td>1</td>\n",
       "      <td>2</td>\n",
       "      <td>8200</td>\n",
       "      <td>c110521</td>\n",
       "      <td>2008-09-04</td>\n",
       "      <td>F</td>\n",
       "      <td>1972</td>\n",
       "      <td>경기도</td>\n",
       "      <td>안산시</td>\n",
       "      <td>토마토</td>\n",
       "      <td>과일</td>\n",
       "      <td>과채</td>\n",
       "      <td>2016</td>\n",
       "      <td>5</td>\n",
       "      <td>3</td>\n",
       "      <td>45</td>\n",
       "    </tr>\n",
       "    <tr>\n",
       "      <th>2</th>\n",
       "      <td>11</td>\n",
       "      <td>1</td>\n",
       "      <td>2</td>\n",
       "      <td>9600</td>\n",
       "      <td>c110521</td>\n",
       "      <td>2008-09-04</td>\n",
       "      <td>F</td>\n",
       "      <td>1972</td>\n",
       "      <td>경기도</td>\n",
       "      <td>안산시</td>\n",
       "      <td>토마토</td>\n",
       "      <td>과일</td>\n",
       "      <td>과채</td>\n",
       "      <td>2017</td>\n",
       "      <td>3</td>\n",
       "      <td>6</td>\n",
       "      <td>45</td>\n",
       "    </tr>\n",
       "    <tr>\n",
       "      <th>3</th>\n",
       "      <td>56</td>\n",
       "      <td>1</td>\n",
       "      <td>1</td>\n",
       "      <td>4700</td>\n",
       "      <td>c256672</td>\n",
       "      <td>2012-09-13</td>\n",
       "      <td>F</td>\n",
       "      <td>1980</td>\n",
       "      <td>서울특별시</td>\n",
       "      <td>구로구</td>\n",
       "      <td>토마토</td>\n",
       "      <td>과일</td>\n",
       "      <td>과채</td>\n",
       "      <td>2016</td>\n",
       "      <td>11</td>\n",
       "      <td>5</td>\n",
       "      <td>37</td>\n",
       "    </tr>\n",
       "    <tr>\n",
       "      <th>4</th>\n",
       "      <td>32</td>\n",
       "      <td>1</td>\n",
       "      <td>1</td>\n",
       "      <td>4650</td>\n",
       "      <td>c260294</td>\n",
       "      <td>2012-10-22</td>\n",
       "      <td>F</td>\n",
       "      <td>1980</td>\n",
       "      <td>서울특별시</td>\n",
       "      <td>마포구</td>\n",
       "      <td>토마토</td>\n",
       "      <td>과일</td>\n",
       "      <td>과채</td>\n",
       "      <td>2016</td>\n",
       "      <td>2</td>\n",
       "      <td>5</td>\n",
       "      <td>37</td>\n",
       "    </tr>\n",
       "  </tbody>\n",
       "</table>\n",
       "</div>"
      ],
      "text/plain": [
       "   OrderID  Seq  Qty   Amt CustomerID RegisterDate Gender  BirthYear  Addr1  \\\n",
       "0        1    1    2  7900    c107853   2008-07-11      M       1961    경기도   \n",
       "1       17    1    2  8200    c110521   2008-09-04      F       1972    경기도   \n",
       "2       11    1    2  9600    c110521   2008-09-04      F       1972    경기도   \n",
       "3       56    1    1  4700    c256672   2012-09-13      F       1980  서울특별시   \n",
       "4       32    1    1  4650    c260294   2012-10-22      F       1980  서울특별시   \n",
       "\n",
       "  Addr2 ProductName Category SubCategory  OrderYear  OrderMonth  OrderWeekDay  \\\n",
       "0   안성시         토마토       과일          과채       2016           1             5   \n",
       "1   안산시         토마토       과일          과채       2016           5             3   \n",
       "2   안산시         토마토       과일          과채       2017           3             6   \n",
       "3   구로구         토마토       과일          과채       2016          11             5   \n",
       "4   마포구         토마토       과일          과채       2016           2             5   \n",
       "\n",
       "   Age  \n",
       "0   56  \n",
       "1   45  \n",
       "2   45  \n",
       "3   37  \n",
       "4   37  "
      ]
     },
     "execution_count": 31,
     "metadata": {},
     "output_type": "execute_result"
    }
   ],
   "source": [
    "col_x = ['OrderDate', 'ProductID', 'CategoryOrd', 'Address']\n",
    "sales_an = sales.drop(col_x, axis=1, inplace=False)\n",
    "sales_an.head()"
   ]
  },
  {
   "cell_type": "code",
   "execution_count": 32,
   "metadata": {
    "tags": []
   },
   "outputs": [
    {
     "data": {
      "text/html": [
       "<div>\n",
       "<style scoped>\n",
       "    .dataframe tbody tr th:only-of-type {\n",
       "        vertical-align: middle;\n",
       "    }\n",
       "\n",
       "    .dataframe tbody tr th {\n",
       "        vertical-align: top;\n",
       "    }\n",
       "\n",
       "    .dataframe thead th {\n",
       "        text-align: right;\n",
       "    }\n",
       "</style>\n",
       "<table border=\"1\" class=\"dataframe\">\n",
       "  <thead>\n",
       "    <tr style=\"text-align: right;\">\n",
       "      <th></th>\n",
       "      <th>OrderID</th>\n",
       "      <th>Seq</th>\n",
       "      <th>Qty</th>\n",
       "      <th>Amt</th>\n",
       "      <th>CustomerID</th>\n",
       "      <th>RegisterDate</th>\n",
       "      <th>Gender</th>\n",
       "      <th>BirthYear</th>\n",
       "      <th>시도</th>\n",
       "      <th>구군</th>\n",
       "      <th>ProductName</th>\n",
       "      <th>Category</th>\n",
       "      <th>SubCategory</th>\n",
       "      <th>OrderYear</th>\n",
       "      <th>OrderMonth</th>\n",
       "      <th>OrderWeekDay</th>\n",
       "      <th>Age</th>\n",
       "    </tr>\n",
       "  </thead>\n",
       "  <tbody>\n",
       "    <tr>\n",
       "      <th>0</th>\n",
       "      <td>1</td>\n",
       "      <td>1</td>\n",
       "      <td>2</td>\n",
       "      <td>7900</td>\n",
       "      <td>c107853</td>\n",
       "      <td>2008-07-11</td>\n",
       "      <td>M</td>\n",
       "      <td>1961</td>\n",
       "      <td>경기도</td>\n",
       "      <td>안성시</td>\n",
       "      <td>토마토</td>\n",
       "      <td>과일</td>\n",
       "      <td>과채</td>\n",
       "      <td>2016</td>\n",
       "      <td>1</td>\n",
       "      <td>5</td>\n",
       "      <td>56</td>\n",
       "    </tr>\n",
       "    <tr>\n",
       "      <th>1</th>\n",
       "      <td>17</td>\n",
       "      <td>1</td>\n",
       "      <td>2</td>\n",
       "      <td>8200</td>\n",
       "      <td>c110521</td>\n",
       "      <td>2008-09-04</td>\n",
       "      <td>F</td>\n",
       "      <td>1972</td>\n",
       "      <td>경기도</td>\n",
       "      <td>안산시</td>\n",
       "      <td>토마토</td>\n",
       "      <td>과일</td>\n",
       "      <td>과채</td>\n",
       "      <td>2016</td>\n",
       "      <td>5</td>\n",
       "      <td>3</td>\n",
       "      <td>45</td>\n",
       "    </tr>\n",
       "    <tr>\n",
       "      <th>2</th>\n",
       "      <td>11</td>\n",
       "      <td>1</td>\n",
       "      <td>2</td>\n",
       "      <td>9600</td>\n",
       "      <td>c110521</td>\n",
       "      <td>2008-09-04</td>\n",
       "      <td>F</td>\n",
       "      <td>1972</td>\n",
       "      <td>경기도</td>\n",
       "      <td>안산시</td>\n",
       "      <td>토마토</td>\n",
       "      <td>과일</td>\n",
       "      <td>과채</td>\n",
       "      <td>2017</td>\n",
       "      <td>3</td>\n",
       "      <td>6</td>\n",
       "      <td>45</td>\n",
       "    </tr>\n",
       "    <tr>\n",
       "      <th>3</th>\n",
       "      <td>56</td>\n",
       "      <td>1</td>\n",
       "      <td>1</td>\n",
       "      <td>4700</td>\n",
       "      <td>c256672</td>\n",
       "      <td>2012-09-13</td>\n",
       "      <td>F</td>\n",
       "      <td>1980</td>\n",
       "      <td>서울특별시</td>\n",
       "      <td>구로구</td>\n",
       "      <td>토마토</td>\n",
       "      <td>과일</td>\n",
       "      <td>과채</td>\n",
       "      <td>2016</td>\n",
       "      <td>11</td>\n",
       "      <td>5</td>\n",
       "      <td>37</td>\n",
       "    </tr>\n",
       "    <tr>\n",
       "      <th>4</th>\n",
       "      <td>32</td>\n",
       "      <td>1</td>\n",
       "      <td>1</td>\n",
       "      <td>4650</td>\n",
       "      <td>c260294</td>\n",
       "      <td>2012-10-22</td>\n",
       "      <td>F</td>\n",
       "      <td>1980</td>\n",
       "      <td>서울특별시</td>\n",
       "      <td>마포구</td>\n",
       "      <td>토마토</td>\n",
       "      <td>과일</td>\n",
       "      <td>과채</td>\n",
       "      <td>2016</td>\n",
       "      <td>2</td>\n",
       "      <td>5</td>\n",
       "      <td>37</td>\n",
       "    </tr>\n",
       "  </tbody>\n",
       "</table>\n",
       "</div>"
      ],
      "text/plain": [
       "   OrderID  Seq  Qty   Amt CustomerID RegisterDate Gender  BirthYear     시도  \\\n",
       "0        1    1    2  7900    c107853   2008-07-11      M       1961    경기도   \n",
       "1       17    1    2  8200    c110521   2008-09-04      F       1972    경기도   \n",
       "2       11    1    2  9600    c110521   2008-09-04      F       1972    경기도   \n",
       "3       56    1    1  4700    c256672   2012-09-13      F       1980  서울특별시   \n",
       "4       32    1    1  4650    c260294   2012-10-22      F       1980  서울특별시   \n",
       "\n",
       "    구군 ProductName Category SubCategory  OrderYear  OrderMonth  OrderWeekDay  \\\n",
       "0  안성시         토마토       과일          과채       2016           1             5   \n",
       "1  안산시         토마토       과일          과채       2016           5             3   \n",
       "2  안산시         토마토       과일          과채       2017           3             6   \n",
       "3  구로구         토마토       과일          과채       2016          11             5   \n",
       "4  마포구         토마토       과일          과채       2016           2             5   \n",
       "\n",
       "   Age  \n",
       "0   56  \n",
       "1   45  \n",
       "2   45  \n",
       "3   37  \n",
       "4   37  "
      ]
     },
     "execution_count": 32,
     "metadata": {},
     "output_type": "execute_result"
    }
   ],
   "source": [
    "sales_an.rename(columns = {'Addr1': '시도', 'Addr2':'구군'}, inplace=True)\n",
    "sales_an.head()"
   ]
  },
  {
   "cell_type": "markdown",
   "metadata": {
    "id": "m6GXYXOTgBM6"
   },
   "source": [
    "## 4.데이터 분석\n",
    "\n",
    "- 현재 판매 현황을 분석해 향후 판매 전략 수립에 중요한 정보로 활용할 것입니다.\n",
    "- 데이터를 집계하고 간단히 시각화하여 판매 현황을 분석합니다.\n",
    "- 연속형 값은 선 그래프, 범주형 값은 막대 그래프로 시각화함이 일반적입니다."
   ]
  },
  {
   "cell_type": "markdown",
   "metadata": {
    "id": "xnAS4-iJgBM6"
   },
   "source": [
    "**1) 남녀별 판매 현황**\n",
    "\n",
    "- 남녀별 판매 현황을 막대 그래프로 시각화해 확인합니다."
   ]
  },
  {
   "cell_type": "code",
   "execution_count": null,
   "metadata": {
    "id": "WEvcSWHSgBM6"
   },
   "outputs": [],
   "source": [
    "# 남녀별 구매금액 집계\n",
    "tmp0 = sales_an.groupby(by='Gender', as_index=False)[['Amt']].sum()\n",
    "\n",
    "#시각화\n",
    "plt.bar(tmp0['Gender'], tmp0['Amt']/10000)\n",
    "plt.ylabel('구매금액[만원]')\n",
    "plt.show()"
   ]
  },
  {
   "cell_type": "code",
   "execution_count": null,
   "metadata": {},
   "outputs": [],
   "source": [
    "# 성별별 + 카테고리별 집계\n",
    "tmp_01 = sales_an.groupby(by=['Gender', 'Category'], as_index = False)[['Qty', 'Amt']].sum()\n",
    "tmp_01"
   ]
  },
  {
   "cell_type": "code",
   "execution_count": null,
   "metadata": {},
   "outputs": [],
   "source": [
    "#시각화\n",
    "plt.bar(tmp_01['Category'], tmp_01['Qty'])\n",
    "plt.ylabel('구매량')\n",
    "plt.show()"
   ]
  },
  {
   "cell_type": "markdown",
   "metadata": {
    "id": "cN83XzDHgBM7"
   },
   "source": [
    "**2) 지역별 판매 현황**\n",
    "\n",
    "- 지역별 판매 현황을 막대 그래프로 시각화해 확인합니다."
   ]
  },
  {
   "cell_type": "code",
   "execution_count": null,
   "metadata": {
    "id": "bvPb1xzogBM7",
    "scrolled": true
   },
   "outputs": [],
   "source": [
    "# 시도, 구군별 구매량, 구매금액 집계\n",
    "tmp_ad = sales_an.groupby(by=['시도', '구군'], as_index = False)[['Qty', 'Amt']].sum()\n",
    "tmp_ad"
   ]
  },
  {
   "cell_type": "code",
   "execution_count": null,
   "metadata": {},
   "outputs": [],
   "source": [
    "# 시도별 구매량 시각화\n",
    "plt.figure(figsize=(10,5))\n",
    "plt.bar(tmp_ad['시도'], tmp_ad['Qty'])\n",
    "plt.ylabel('구매량')\n",
    "plt.xticks(rotation=50)\n",
    "plt.show()"
   ]
  },
  {
   "cell_type": "code",
   "execution_count": null,
   "metadata": {},
   "outputs": [],
   "source": [
    "# 시도별 구매금액 시각화\n",
    "plt.figure(figsize=(10,5))\n",
    "plt.bar(tmp_ad['시도'], tmp_ad['Amt']/10000)\n",
    "plt.ylabel('구매금액[만원]')\n",
    "plt.xticks(rotation=50)\n",
    "plt.show()"
   ]
  },
  {
   "cell_type": "code",
   "execution_count": null,
   "metadata": {},
   "outputs": [],
   "source": [
    "tmp_ad_Qty_top25 = tmp_ad.sort_values(by='Qty', ascending=False).head(25)\n",
    "\n",
    "# 시각화\n",
    "plt.figure(figsize=(10,5))\n",
    "plt.bar(tmp_ad_Qty_top25['구군'], tmp_ad_Qty_top25['Qty'])\n",
    "plt.ylabel('구매량')\n",
    "plt.xticks(rotation=50)\n",
    "plt.show()"
   ]
  },
  {
   "cell_type": "code",
   "execution_count": null,
   "metadata": {},
   "outputs": [],
   "source": [
    "tmp_ad_Amt_top25 = tmp_ad.sort_values(by='Amt', ascending=False).head(25)\n",
    "\n",
    "# 시각화\n",
    "plt.figure(figsize=(10,5))\n",
    "plt.bar(tmp_ad_Amt_top25['구군'], tmp_ad_Amt_top25['Amt']/10000)\n",
    "plt.ylabel('구매금액[만원]')\n",
    "plt.xticks(rotation=50)\n",
    "plt.show()"
   ]
  },
  {
   "cell_type": "markdown",
   "metadata": {
    "id": "tOUH5zU8zf9k"
   },
   "source": [
    "**3) 추가**"
   ]
  },
  {
   "cell_type": "code",
   "execution_count": null,
   "metadata": {
    "id": "mjefn46bzjWW"
   },
   "outputs": [],
   "source": [
    "# 연령대 column 생성\n",
    "sales_an['AgeC'] = (sales_an['Age']//10).astype(str) + '0대'\n",
    "# sales_an.head()\n",
    "\n",
    "# 연령별 카테고리 집계\n",
    "tmp_age = sales_an.groupby(by=['AgeC', 'Category'], as_index = False)[['Qty', 'Amt']].sum()\n",
    "tmp_age.head()"
   ]
  },
  {
   "cell_type": "code",
   "execution_count": null,
   "metadata": {},
   "outputs": [],
   "source": [
    "# 연령대별 구매량 시각화\n",
    "plt.figure(figsize=(10,5))\n",
    "plt.bar(tmp_age['AgeC'], tmp_age['Qty'])\n",
    "plt.ylabel('구매량')\n",
    "plt.xticks(rotation=50)\n",
    "plt.show()"
   ]
  },
  {
   "cell_type": "code",
   "execution_count": null,
   "metadata": {
    "tags": []
   },
   "outputs": [],
   "source": [
    "# 연령대별 구매금액 시각화\n",
    "plt.figure(figsize=(10,5))\n",
    "plt.bar(tmp_age['AgeC'], tmp_age['Amt']/10000)\n",
    "plt.ylabel('구매금액[만원]')\n",
    "plt.xticks(rotation=50)\n",
    "plt.show()"
   ]
  },
  {
   "cell_type": "markdown",
   "metadata": {
    "id": "RXHtLPhzzj-d"
   },
   "source": [
    "**4) 추가**"
   ]
  },
  {
   "cell_type": "code",
   "execution_count": null,
   "metadata": {},
   "outputs": [],
   "source": [
    "# 구매량이 가장 많은 40대 카테고리별 구매 현황 집계\n",
    "tmp_age40 = tmp_age.loc[tmp_age['AgeC']=='40대', :]\n",
    "tmp_age40 = tmp_age40.sort_values(by='Qty', ascending=False)\n",
    "\n",
    "# 구매량이 가장 많은 40대 카테고리별 구매량 시각화\n",
    "plt.figure(figsize=(10,5))\n",
    "plt.bar(tmp_age40['Category'], tmp_age40['Qty'])\n",
    "plt.ylabel('구매량')\n",
    "plt.xticks(rotation=50)\n",
    "plt.show()"
   ]
  },
  {
   "cell_type": "markdown",
   "metadata": {
    "id": "whE4SZXmzkQR"
   },
   "source": [
    "**5) 추가**"
   ]
  },
  {
   "cell_type": "code",
   "execution_count": null,
   "metadata": {
    "id": "PWk4bHvFzkQU"
   },
   "outputs": [],
   "source": [
    "\n",
    "\n",
    "\n"
   ]
  },
  {
   "cell_type": "markdown",
   "metadata": {
    "id": "ajTIZ9gNgBM7"
   },
   "source": [
    "## 5.고객 분류\n",
    "\n",
    "* 고객을 등급을 나눠 판매 현황을 분석하고 이에 따른 판매 전략을 수립하려합니다.\n",
    "- 우선 고객을 일정 기준에 따라 분류하고 등급을 지정해야 합니다.\n",
    "- 다음과 같은 순서로 처리하면 될 것입니다.\n",
    "    - 고객별 주문 수량 합, 판매 금액 합을 갖는 데이터프레임 선언\n",
    "    - 고객 분류 기준과 이 기준에 따른 등급 이름 정의\n",
    "    - 고객 등급을 갖는 새로운 Level 열 추가"
   ]
  },
  {
   "cell_type": "markdown",
   "metadata": {
    "id": "oYwVs7u2gBM7"
   },
   "source": [
    "**1) 고객별 집계**\n",
    "\n",
    "* 고객별 주문 수량 합, 판매 금액 합을 갖는 cst 데이터프레임을 선언합니다."
   ]
  },
  {
   "cell_type": "code",
   "execution_count": 18,
   "metadata": {
    "id": "JHF506hggBM8"
   },
   "outputs": [
    {
     "data": {
      "text/html": [
       "<div>\n",
       "<style scoped>\n",
       "    .dataframe tbody tr th:only-of-type {\n",
       "        vertical-align: middle;\n",
       "    }\n",
       "\n",
       "    .dataframe tbody tr th {\n",
       "        vertical-align: top;\n",
       "    }\n",
       "\n",
       "    .dataframe thead th {\n",
       "        text-align: right;\n",
       "    }\n",
       "</style>\n",
       "<table border=\"1\" class=\"dataframe\">\n",
       "  <thead>\n",
       "    <tr style=\"text-align: right;\">\n",
       "      <th></th>\n",
       "      <th>CustomerID</th>\n",
       "      <th>Qty</th>\n",
       "      <th>Amt</th>\n",
       "    </tr>\n",
       "  </thead>\n",
       "  <tbody>\n",
       "    <tr>\n",
       "      <th>0</th>\n",
       "      <td>c017487</td>\n",
       "      <td>127</td>\n",
       "      <td>296447</td>\n",
       "    </tr>\n",
       "    <tr>\n",
       "      <th>1</th>\n",
       "      <td>c017503</td>\n",
       "      <td>42</td>\n",
       "      <td>160444</td>\n",
       "    </tr>\n",
       "    <tr>\n",
       "      <th>2</th>\n",
       "      <td>c017517</td>\n",
       "      <td>192</td>\n",
       "      <td>317590</td>\n",
       "    </tr>\n",
       "    <tr>\n",
       "      <th>3</th>\n",
       "      <td>c017522</td>\n",
       "      <td>64</td>\n",
       "      <td>219849</td>\n",
       "    </tr>\n",
       "    <tr>\n",
       "      <th>4</th>\n",
       "      <td>c017526</td>\n",
       "      <td>26</td>\n",
       "      <td>48881</td>\n",
       "    </tr>\n",
       "  </tbody>\n",
       "</table>\n",
       "</div>"
      ],
      "text/plain": [
       "  CustomerID  Qty     Amt\n",
       "0    c017487  127  296447\n",
       "1    c017503   42  160444\n",
       "2    c017517  192  317590\n",
       "3    c017522   64  219849\n",
       "4    c017526   26   48881"
      ]
     },
     "execution_count": 18,
     "metadata": {},
     "output_type": "execute_result"
    }
   ],
   "source": [
    "sum_custm = sales_an.groupby(by='CustomerID', as_index = False)[['Qty', 'Amt']].sum()\n",
    "sum_custm.head()"
   ]
  },
  {
   "cell_type": "markdown",
   "metadata": {
    "id": "Se7JGfL4gBM8"
   },
   "source": [
    "**2) 고객 분류 기준 찾기**\n",
    "\n",
    "- 고객 등급 분류 기준을 찾기 위해 관련 데이터를 확인합니다."
   ]
  },
  {
   "cell_type": "code",
   "execution_count": null,
   "metadata": {
    "id": "OjoihrbtgBM8"
   },
   "outputs": [],
   "source": [
    "sum_custm.describe().apply(lambda x: x.apply('{:,.4f}'.format))"
   ]
  },
  {
   "cell_type": "markdown",
   "metadata": {
    "id": "OqXtZMluFrHv"
   },
   "source": [
    "**3) 고객 분류 기준 정리**\n",
    "\n",
    "- 고객 등급 분류 기준과 그 기준에 따른 등급 이름을 정리합니다.\n",
    "- 예를 들면 다음과 같은 기준과 등급 이름을 정의할 수 있을 것입니다.\n",
    "    - ~ 30,000: Family\n",
    "    - 30,000 ~ 100,000: Bronze\n",
    "    - 100,000 ~ 300,000: Silver\n",
    "    - 300,000 ~ : Gold\n",
    "    - 600,000 ~ : Platinum\n",
    "    \n",
    "- 분류 기준과 등급 이름\n",
    "    - ~ 30,000: Family\n",
    "    - 30,000 ~ 100,000: Bronze\n",
    "    - 100,000 ~ 400,000: Silver\n",
    "    - 400,000 ~ 1,000,000: Gold\n",
    "    - 1,000,000 ~ : Platinum"
   ]
  },
  {
   "cell_type": "markdown",
   "metadata": {
    "id": "aav9vJSTgBM8"
   },
   "source": [
    "**4) 고객 등급 반영**\n",
    "\n",
    "- 각자 정의한 기준에 따라 고객 등급을 Level 열로 저장합니다."
   ]
  },
  {
   "cell_type": "code",
   "execution_count": null,
   "metadata": {
    "id": "QgxDdl-EgBM8"
   },
   "outputs": [],
   "source": [
    "# 등급 구하기\n",
    "my_bin = [-np.inf, 30000, 100000, 400000, 1000000, np.inf] \n",
    "label = ['Family', 'Bronze', 'Silver', 'Gold', 'Platinum']\n",
    "sum_custm['grade'] = pd.cut(sum_custm['Amt'], bins = my_bin, labels = label)\n",
    "\n",
    "sum_custm.head()"
   ]
  },
  {
   "cell_type": "code",
   "execution_count": null,
   "metadata": {},
   "outputs": [],
   "source": [
    "sum_custm.info()"
   ]
  },
  {
   "cell_type": "markdown",
   "metadata": {
    "id": "krCEvndzGUiq"
   },
   "source": [
    "- 등급별 고객 수를 확인해 등급이 적절히 나뉘었는지 검증합니다.\n",
    "- 검증 결과가 적절하지 않다면 위 기준을 변경해 등급을 다시 나눕니다."
   ]
  },
  {
   "cell_type": "code",
   "execution_count": null,
   "metadata": {
    "id": "6G2TSGW1gBM8"
   },
   "outputs": [],
   "source": [
    "# 확인\n",
    "sum_custm['grade'].value_counts()"
   ]
  },
  {
   "cell_type": "code",
   "execution_count": 19,
   "metadata": {},
   "outputs": [
    {
     "data": {
      "text/plain": [
       "Family      1113\n",
       "Bronze       556\n",
       "Silver       392\n",
       "Gold         143\n",
       "Platinum      33\n",
       "Name: grade_ex, dtype: int64"
      ]
     },
     "execution_count": 19,
     "metadata": {},
     "output_type": "execute_result"
    }
   ],
   "source": [
    "# 주어진 예시대로 나누어보기\n",
    "# 등급 구하기\n",
    "my_bin = [-np.inf, 30000, 100000, 300000, 600000, np.inf] \n",
    "label = ['Family', 'Bronze', 'Silver', 'Gold', 'Platinum']\n",
    "sum_custm['grade_ex'] = pd.cut(sum_custm['Amt'], bins = my_bin, labels = label)\n",
    "\n",
    "sum_custm['grade_ex'].value_counts()"
   ]
  },
  {
   "cell_type": "markdown",
   "metadata": {
    "id": "xRweF7aygBM9"
   },
   "source": [
    "## 6.등급별 고객 분석\n",
    "\n",
    "- 고객 등급을 기준으로 다양한 분석을 진행합니다.\n",
    "- 등급 별 분석은 판매 전략을 새롭게 수립하는 데 중요한 자료가 될 것입니다.\n",
    "- 분석 과정에서 판매 전략에 대한 부분을 고민해 보시기 바랍니다."
   ]
  },
  {
   "cell_type": "markdown",
   "metadata": {
    "id": "FhuIC1EigBM9"
   },
   "source": [
    "**1) 등급별 판매 수량**\n",
    "\n",
    "- 고객 등급별 판매 수량을 막대 그래프로 시각화해 확인합니다."
   ]
  },
  {
   "cell_type": "code",
   "execution_count": null,
   "metadata": {
    "id": "fQMK4rnLgBM9"
   },
   "outputs": [],
   "source": [
    "sum_custm_qty = sum_custm.sort_values(by='Qty', ascending=False)\n",
    "\n",
    "plt.figure(figsize=(10,5))\n",
    "plt.bar(sum_custm_qty['grade_ex'], sum_custm_qty['Qty'])\n",
    "plt.ylabel('구매량')\n",
    "# plt.xticks(rotation=50)\n",
    "plt.show()"
   ]
  },
  {
   "cell_type": "markdown",
   "metadata": {
    "id": "hOZBoX2KgBM9"
   },
   "source": [
    "**2) 등급별 판매 금액**\n",
    "\n",
    "- 고객 등급별 판매 금액을 막대 그래프로 시각화해 확인합니다. "
   ]
  },
  {
   "cell_type": "code",
   "execution_count": 20,
   "metadata": {
    "id": "pSovttlfgBM-"
   },
   "outputs": [
    {
     "data": {
      "image/png": "[encoded data removed]",
      "text/plain": [
       "<Figure size 720x360 with 1 Axes>"
      ]
     },
     "metadata": {
      "image/png": {
       "height": 303,
       "width": 610
      },
      "needs_background": "light"
     },
     "output_type": "display_data"
    }
   ],
   "source": [
    "sum_custm_amt = sum_custm.sort_values(by='Amt', ascending=False)\n",
    "\n",
    "plt.figure(figsize=(10,5))\n",
    "plt.bar(sum_custm_amt['grade_ex'], sum_custm_amt['Amt']/10000)\n",
    "plt.ylabel('구매금액[만원]')\n",
    "# plt.xticks(rotation=50)\n",
    "plt.show()"
   ]
  },
  {
   "cell_type": "markdown",
   "metadata": {
    "id": "roH6tulQz6ib"
   },
   "source": [
    "**3) 추가**"
   ]
  },
  {
   "cell_type": "code",
   "execution_count": null,
   "metadata": {},
   "outputs": [],
   "source": [
    "# 등급별 카테고리별 구매 현황 집계\n",
    "sum_custm1 = sum_custm[['CustomerID','grade_ex']]\n",
    "#구매내역에 등급열 추가\n",
    "sales_anc = pd.merge(sales_an, sum_custm1, on='CustomerID', how='inner')\n",
    "sales_anc.head()\n",
    "\n",
    "tmp_grd = sales_anc.groupby(by=['grade_ex', 'Category'], as_index = False)[['Qty', 'Amt']].sum()\n",
    "tmp_grd.head()"
   ]
  },
  {
   "cell_type": "markdown",
   "metadata": {
    "id": "Kzbj_osuz9uj"
   },
   "source": [
    "**4) 추가**"
   ]
  },
  {
   "cell_type": "code",
   "execution_count": null,
   "metadata": {
    "id": "UrsREvDFz9uk"
   },
   "outputs": [],
   "source": [
    "#플래티넘 등급의 카테고리별 구매량 시각화\n",
    "\n",
    "tmp_grd_Pl = tmp_grd.loc[tmp_grd['grade_ex']=='Platinum', :]\n",
    "tmp_grd_Pl = tmp_grd_Pl.sort_values(by='Qty', ascending=False)\n",
    "\n",
    "plt.figure(figsize=(10,5))\n",
    "plt.bar(tmp_grd_Pl['Category'], tmp_grd_Pl['Qty'])\n",
    "plt.ylabel('구매량')\n",
    "# plt.xticks(rotation=50)\n",
    "plt.show()"
   ]
  },
  {
   "cell_type": "markdown",
   "metadata": {
    "id": "I2jF2_b1z9zK"
   },
   "source": [
    "**5) 추가**"
   ]
  },
  {
   "cell_type": "code",
   "execution_count": null,
   "metadata": {
    "id": "2QyGSEBKz9zL"
   },
   "outputs": [],
   "source": [
    "#패밀리 등급의 카테고리별 구매량 시각화\n",
    "\n",
    "tmp_grd_Fa = tmp_grd.loc[tmp_grd['grade_ex']=='Family', :]\n",
    "tmp_grd_Fa = tmp_grd_Fa.sort_values(by='Qty', ascending=False)\n",
    "\n",
    "plt.figure(figsize=(10,5))\n",
    "plt.bar(tmp_grd_Fa['Category'], tmp_grd_Fa['Qty'])\n",
    "plt.ylabel('구매량')\n",
    "# plt.xticks(rotation=50)\n",
    "plt.show()"
   ]
  },
  {
   "cell_type": "markdown",
   "metadata": {
    "tags": []
   },
   "source": [
    "## 7.비즈니스 제안\n",
    "\n",
    "- 위 진행된 내용을 기반으로 판매 향상 등을 위한 비즈니스 제안을 합니다."
   ]
  },
  {
   "cell_type": "markdown",
   "metadata": {},
   "source": [
    "- 등급별 카테고리 구매내역 분석 결과 많이 구매하는 내역이 다르므로 등급별 제품혜택을 다르게 적용하면 판매량을 높일 수 있을 것\n",
    "- 실제 플래티넘 등급은 유제품, 채소가 많은 반면 패밀리 등급은 반찬류를 많이 구매하고 있음\n",
    "- 구매 패턴 분석을 통해 많이 사는 제품에 대한 추천, 혜택 제공등의 서비스를 통해 매출을 더욱 높일 수 있을 것으로 기대"
   ]
  },
  {
   "cell_type": "markdown",
   "metadata": {
    "id": "yoSBcxGigBM-",
    "tags": []
   },
   "source": [
    "## 8.정리\n",
    "\n",
    "- 분석을 통해 확인한 내용을 정리합니다."
   ]
  },
  {
   "cell_type": "markdown",
   "metadata": {
    "id": "dVvspGWngBM-"
   },
   "source": [
    "**1) 의견**\n",
    "\n",
    "\n",
    "\n",
    "\n"
   ]
  },
  {
   "cell_type": "markdown",
   "metadata": {
    "id": "127KsaRJgBM-",
    "tags": []
   },
   "source": [
    "- Platinum 등급은 가장 적으나 구매량과 구매금액에 월등히 높다\n",
    "- 구매량, 구매금액은 등급별 회원수와는 정반대의 모습을 보인다\n",
    "- \n",
    "- "
   ]
  },
  {
   "cell_type": "markdown",
   "metadata": {
    "id": "FYaHYxzZgBM-"
   },
   "source": [
    "**2) 기타**"
   ]
  },
  {
   "cell_type": "markdown",
   "metadata": {
    "id": "wl2r0MxDgBM-"
   },
   "source": [
    "- \n",
    "- \n",
    "- \n",
    "- \n",
    "- "
   ]
  },
  {
   "cell_type": "code",
   "execution_count": null,
   "metadata": {},
   "outputs": [],
   "source": [
    "sum_month = sales.groupby(by='OrderMonth', as_index = False)[['Qty', 'Amt']].sum()\n",
    "# sum_month\n",
    "\n",
    "plt.figure(figsize=(10,5))\n",
    "plt.bar(sum_month['OrderMonth'], sum_month['Qty'])\n",
    "plt.ylabel('구매량')\n",
    "# plt.xticks(rotation=50)\n",
    "plt.show()"
   ]
  },
  {
   "cell_type": "code",
   "execution_count": null,
   "metadata": {},
   "outputs": [],
   "source": [
    "\n",
    "sum_wd = sales.groupby(by='OrderWeekDay', as_index = False)[['Qty', 'Amt']].sum()\n",
    "sum_wd['OrderWeekDay']=sum_wd['OrderWeekDay'].map({0:'월', 1:'화', 2:'수', 3:'목', 4:'금', 5:'토', 6:'일'})\n",
    "# sum_wd.rename(columns = {0:'월', 1:'화', 2:'수', 3:'목', 4:'금', 5:'토', 6:'일'})\n",
    "# sum_month\n",
    "\n",
    "plt.figure(figsize=(10,5))\n",
    "plt.bar(sum_wd['OrderWeekDay'], sum_wd['Qty'])\n",
    "plt.ylabel('구매량')\n",
    "# plt.xticks(rotation=50)\n",
    "plt.show()"
   ]
  }
 ],
 "metadata": {
  "colab": {
   "collapsed_sections": [],
   "name": "X04 - [레벨업] 소매점 판매 현황.ipynb",
   "provenance": []
  },
  "kernelspec": {
   "display_name": "Python 3 (ipykernel)",
   "language": "python",
   "name": "python3"
  },
  "language_info": {
   "codemirror_mode": {
    "name": "ipython",
    "version": 3
   },
   "file_extension": ".py",
   "mimetype": "text/x-python",
   "name": "python",
   "nbconvert_exporter": "python",
   "pygments_lexer": "ipython3",
   "version": "3.9.12"
  }
 },
 "nbformat": 4,
 "nbformat_minor": 4
}
