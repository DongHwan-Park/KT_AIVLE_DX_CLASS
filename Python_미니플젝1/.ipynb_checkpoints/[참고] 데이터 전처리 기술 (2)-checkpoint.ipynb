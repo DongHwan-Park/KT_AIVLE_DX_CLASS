{
 "cells": [
  {
   "cell_type": "markdown",
   "metadata": {
    "colab_type": "text",
    "id": "BFhIXgdYoYGp"
   },
   "source": [
    "<center><img src='https://raw.githubusercontent.com/Jangrae/img/master/title.png' width=500/></center>"
   ]
  },
  {
   "cell_type": "markdown",
   "metadata": {
    "colab_type": "text",
    "id": "OO4tzvl4dgb3"
   },
   "source": [
    "<center><img src='https://raw.githubusercontent.com/Jangrae/img/master/practice.png' width=300/></center>"
   ]
  },
  {
   "cell_type": "markdown",
   "metadata": {
    "colab_type": "text",
    "id": "jdMTalYEHiAi"
   },
   "source": [
    "# 데이터 전처리 기술 (2)\n",
    "\n",
    "- 데이터 전처리에 필요한 기술을 다시 한 번 정리해 봅니다."
   ]
  },
  {
   "cell_type": "markdown",
   "metadata": {
    "colab_type": "text",
    "id": "6oSP30N7dgb8"
   },
   "source": [
    "### 1. 환경 설정\n",
    "\n",
    "- 필요한 라이브러리를 불러옵니다."
   ]
  },
  {
   "cell_type": "code",
   "execution_count": null,
   "metadata": {
    "colab": {},
    "colab_type": "code",
    "id": "FSc1yT_ndgb-"
   },
   "outputs": [],
   "source": [
    "# 라이브러리 불러오기\n",
    "import numpy as np\n",
    "import pandas as pd\n",
    "import matplotlib.pyplot as plt\n",
    "\n",
    "%config InlineBackend.figure_format = 'retina'"
   ]
  },
  {
   "cell_type": "markdown",
   "metadata": {},
   "source": [
    "- Jupyter Notebook 시각화에 한글이 표시되게 설정합니다."
   ]
  },
  {
   "cell_type": "code",
   "execution_count": null,
   "metadata": {},
   "outputs": [],
   "source": [
    "# 라이브러리 불러오기\n",
    "import matplotlib.font_manager as fm\n",
    "\n",
    "# 폰트설정\n",
    "plt.rc('font', family='Malgun Gothic')\n",
    "plt.rcParams['axes.unicode_minus'] = False"
   ]
  },
  {
   "cell_type": "markdown",
   "metadata": {
    "colab_type": "text",
    "id": "N6vHQgHqdgcI"
   },
   "source": [
    "### 2. 파일 읽어오기\n",
    "\n",
    "- 처리할 데이터를 파일에서 읽어옵니다."
   ]
  },
  {
   "cell_type": "code",
   "execution_count": null,
   "metadata": {},
   "outputs": [],
   "source": [
    "# Member.csv 읽어오기\n",
    "path = 'https://raw.githubusercontent.com/Jangrae/csv/master/Member.csv'\n",
    "member = pd.read_csv(path)\n",
    "\n",
    "# Personal.csv 읽어오기\n",
    "path = 'https://raw.githubusercontent.com/Jangrae/csv/master/Personal.csv'\n",
    "personal = pd.read_csv(path)\n",
    "\n",
    "# City.csv 읽어오기\n",
    "path = 'https://raw.githubusercontent.com/Jangrae/csv/master/City.csv'\n",
    "city = pd.read_csv(path)"
   ]
  },
  {
   "cell_type": "markdown",
   "metadata": {
    "colab_type": "text",
    "id": "s7BT9f8kdgcR"
   },
   "source": [
    "- 결과를 확인합니다."
   ]
  },
  {
   "cell_type": "code",
   "execution_count": null,
   "metadata": {
    "colab": {},
    "colab_type": "code",
    "id": "D5yeTmeSdgcS",
    "scrolled": true
   },
   "outputs": [],
   "source": [
    "# member 확인\n",
    "member.head()"
   ]
  },
  {
   "cell_type": "code",
   "execution_count": null,
   "metadata": {
    "colab": {},
    "colab_type": "code",
    "id": "D5yeTmeSdgcS",
    "scrolled": true
   },
   "outputs": [],
   "source": [
    "# personal 확인\n",
    "personal.head()"
   ]
  },
  {
   "cell_type": "code",
   "execution_count": null,
   "metadata": {
    "colab": {},
    "colab_type": "code",
    "id": "D5yeTmeSdgcS",
    "scrolled": true
   },
   "outputs": [],
   "source": [
    "# city 확인\n",
    "city.head()"
   ]
  },
  {
   "cell_type": "markdown",
   "metadata": {},
   "source": [
    "### 3. 병합(=조인)"
   ]
  },
  {
   "cell_type": "markdown",
   "metadata": {},
   "source": [
    "- 한 번에 두 데이터프레임만 병합할 수 있으므로 우선 member, personal을 CustomerCD를 기준으로 병합합니다."
   ]
  },
  {
   "cell_type": "code",
   "execution_count": null,
   "metadata": {},
   "outputs": [],
   "source": [
    "# member, personal 병합\n",
    "customer = pd.merge(member, personal, on='CustomerCD', how='inner')\n",
    "\n",
    "# 확인\n",
    "customer.head()"
   ]
  },
  {
   "cell_type": "markdown",
   "metadata": {},
   "source": [
    "- 이제 병합해서 만들어진 customer와 city를 CityCD 열을 기준으로 병합합니다."
   ]
  },
  {
   "cell_type": "code",
   "execution_count": null,
   "metadata": {},
   "outputs": [],
   "source": [
    "# member, personal 병합\n",
    "customer = pd.merge(customer, city, on='CityCD', how='inner')\n",
    "\n",
    "# 확인\n",
    "customer.head()"
   ]
  },
  {
   "cell_type": "markdown",
   "metadata": {
    "tags": []
   },
   "source": [
    "### 4. 열 정보 확인\n",
    "\n",
    "- 열 이름, 값 개수, 데이터 형식 등을 확인홥니다."
   ]
  },
  {
   "cell_type": "code",
   "execution_count": null,
   "metadata": {},
   "outputs": [],
   "source": [
    "# 열 정보 확인\n",
    "customer.info()"
   ]
  },
  {
   "cell_type": "markdown",
   "metadata": {},
   "source": [
    "### 5. 결측치 처리\n",
    "\n",
    "- 우선 결측치가 있는지 확인합니다."
   ]
  },
  {
   "cell_type": "code",
   "execution_count": null,
   "metadata": {},
   "outputs": [],
   "source": [
    "# 결측치 확인\n",
    "customer.isna().sum()"
   ]
  },
  {
   "cell_type": "markdown",
   "metadata": {},
   "source": [
    "- 결측치가 있는 행은 중요하지 않다고 가정하고 제거합니다."
   ]
  },
  {
   "cell_type": "code",
   "execution_count": null,
   "metadata": {},
   "outputs": [],
   "source": [
    "# 결측치 제거\n",
    "customer.dropna(inplace=True)\n",
    "\n",
    "# 확인\n",
    "customer.isna().sum()"
   ]
  },
  {
   "cell_type": "markdown",
   "metadata": {},
   "source": [
    "### 6. 열 추가\n",
    "\n",
    "- BirthDate 열에서 년, 월, 일을 추출해 BirthYear, BirthMonth, BirthDay 열을 만듭니다."
   ]
  },
  {
   "cell_type": "code",
   "execution_count": null,
   "metadata": {},
   "outputs": [],
   "source": [
    "# 열 추가\n",
    "customer['BirthYear'] = pd.to_datetime(customer['BirthDate']).dt.year\n",
    "customer['BirthMonth'] = pd.to_datetime(customer['BirthDate']).dt.month\n",
    "customer['BirthDay'] = pd.to_datetime(customer['BirthDate']).dt.day\n",
    "\n",
    "# 확인\n",
    "customer.head()"
   ]
  },
  {
   "cell_type": "markdown",
   "metadata": {},
   "source": [
    "### 7. 불필요한 열 제거\n",
    "\n",
    "- 불필요하다고 판단되는 MemberCD, CityCD, BirthDate 열을 제거합니다."
   ]
  },
  {
   "cell_type": "code",
   "execution_count": null,
   "metadata": {},
   "outputs": [],
   "source": [
    "# 불필요한 열 제거\n",
    "col_x = ['MemberCD', 'CityCD', 'BirthDate']\n",
    "customer.drop(col_x, axis=1, inplace=True)\n",
    "\n",
    "# 확인\n",
    "customer.head()"
   ]
  },
  {
   "cell_type": "markdown",
   "metadata": {},
   "source": [
    "### 8. 열 이름 변경\n",
    "\n",
    "- ClassCD, CityName열 이름을 각각 Class, City로 변경합니다."
   ]
  },
  {
   "cell_type": "code",
   "execution_count": null,
   "metadata": {},
   "outputs": [],
   "source": [
    "# 열 이름 변경\n",
    "customer.rename(columns={'ClassCD': 'Class', 'CityName': 'City'}, inplace=True)\n",
    "\n",
    "# 확인\n",
    "customer.head()"
   ]
  },
  {
   "cell_type": "markdown",
   "metadata": {},
   "source": [
    "### 9. 데이터 집계 \n",
    "\n",
    "- 특정 열을 기준으로 집계하여 확인하고 시각화합니다.\n",
    "- 먼저 Class 별 Score 열 평균을 집계해 막대 그래프로 시각화 합니다."
   ]
  },
  {
   "cell_type": "code",
   "execution_count": null,
   "metadata": {},
   "outputs": [],
   "source": [
    "# 집계\n",
    "tmp = customer.groupby(by='Class', as_index=False)[['Score']].mean()\n",
    "\n",
    "# 정렬\n",
    "tmp.sort_values(by='Score', ascending=False, inplace=True)\n",
    "\n",
    "# 확인\n",
    "tmp"
   ]
  },
  {
   "cell_type": "code",
   "execution_count": null,
   "metadata": {},
   "outputs": [],
   "source": [
    "# 시각화\n",
    "plt.bar(tmp['Class'], tmp['Score'])\n",
    "plt.show()"
   ]
  },
  {
   "cell_type": "markdown",
   "metadata": {},
   "source": [
    "- Gender 별 Score 평균을 집계하여 시각화합니다."
   ]
  },
  {
   "cell_type": "code",
   "execution_count": null,
   "metadata": {},
   "outputs": [],
   "source": [
    "# 집계\n",
    "tmp = customer.groupby(by='Gender', as_index=False)[['Score']].mean()\n",
    "\n",
    "# 확인\n",
    "tmp"
   ]
  },
  {
   "cell_type": "code",
   "execution_count": null,
   "metadata": {},
   "outputs": [],
   "source": [
    "# 시각화\n",
    "plt.bar(tmp['Gender'], tmp['Score'])\n",
    "plt.show()"
   ]
  },
  {
   "cell_type": "markdown",
   "metadata": {},
   "source": [
    "### 10. 데이터 정렬\n",
    "\n",
    "- 데이터를 정렬하여 확인하고 시각화합니다.\n",
    "- 먼저 Score 열을 기준으로 내림차순 정렬해 상위 10개 행만 추출합니다."
   ]
  },
  {
   "cell_type": "code",
   "execution_count": null,
   "metadata": {},
   "outputs": [],
   "source": [
    "# score top 10\n",
    "score_top10 = customer.sort_values(by='Score', ascending=False).head(10)\n",
    "\n",
    "# 확인\n",
    "score_top10"
   ]
  },
  {
   "cell_type": "markdown",
   "metadata": {},
   "source": [
    "- 예쁜 데이터를 만들기 위해 인덱스를 초기화합니다."
   ]
  },
  {
   "cell_type": "code",
   "execution_count": null,
   "metadata": {},
   "outputs": [],
   "source": [
    "# 인덱스 초기화\n",
    "score_top10.reset_index(drop=True, inplace=True)\n",
    "\n",
    "# 확인\n",
    "score_top10"
   ]
  },
  {
   "cell_type": "markdown",
   "metadata": {},
   "source": [
    "- 고객(CustomerCD)별 점수(Score)를 막대그래프로 시각화합니다.\n",
    "- 단, 값이 상당히 크다고 가정하고 1,000으로 나눈 값을 시각화합니다."
   ]
  },
  {
   "cell_type": "code",
   "execution_count": null,
   "metadata": {},
   "outputs": [],
   "source": [
    "# 시각화\n",
    "plt.figure(figsize=(8, 5))\n",
    "plt.bar(score_top10['CustomerCD'], score_top10['Score'] / 1000)\n",
    "plt.title('Score TOP 10', size=15, pad=20)\n",
    "plt.xticks(rotation=70)\n",
    "plt.xlabel('CustomerID')\n",
    "plt.ylabel('Score(thousand)')\n",
    "plt.show()"
   ]
  },
  {
   "cell_type": "markdown",
   "metadata": {},
   "source": [
    "### 11. 등급 추가\n",
    "\n",
    "- 다음 기준으로 새로운 등급을 갖는 Level 열을 추가합니다.\n",
    "    - Score <= 7,000 : E\n",
    "    - 7,000 < Score <= 20,000 : D\n",
    "    - 20,000 < Score <= 40,000 : C\n",
    "    - 40,000 < Score <= 80,000 : B\n",
    "    - 80,000 < Score : A"
   ]
  },
  {
   "cell_type": "code",
   "execution_count": null,
   "metadata": {},
   "outputs": [],
   "source": [
    "# Level 추가\n",
    "my_bin = [-np.inf, 7000, 20000, 40000, 80000, np.inf]\n",
    "my_label = ['E', 'D', 'C', 'B', 'A']\n",
    "customer['Level'] = pd.cut(customer['Score'], bins=my_bin, labels=my_label)\n",
    "\n",
    "# 확인\n",
    "customer.head()"
   ]
  },
  {
   "cell_type": "markdown",
   "metadata": {},
   "source": [
    "- Level 별로 몇 명씩 포함하고 있는지 확인합니다."
   ]
  },
  {
   "cell_type": "code",
   "execution_count": null,
   "metadata": {},
   "outputs": [],
   "source": [
    "# 범주값 확인\n",
    "customer['Level'].value_counts()"
   ]
  }
 ],
 "metadata": {
  "colab": {
   "collapsed_sections": [],
   "name": "CP0 [참고] 데이터 전처리 기술.ipynb",
   "provenance": []
  },
  "kernelspec": {
   "display_name": "Python 3 (ipykernel)",
   "language": "python",
   "name": "python3"
  },
  "language_info": {
   "codemirror_mode": {
    "name": "ipython",
    "version": 3
   },
   "file_extension": ".py",
   "mimetype": "text/x-python",
   "name": "python",
   "nbconvert_exporter": "python",
   "pygments_lexer": "ipython3",
   "version": "3.9.7"
  }
 },
 "nbformat": 4,
 "nbformat_minor": 4
}
