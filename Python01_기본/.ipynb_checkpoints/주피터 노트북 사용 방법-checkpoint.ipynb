{
 "cells": [
  {
   "cell_type": "markdown",
   "id": "921518fd",
   "metadata": {},
   "source": [
    "# 1.파이썬 배우기"
   ]
  },
  {
   "cell_type": "markdown",
   "id": "133034f7",
   "metadata": {},
   "source": [
    "## 1.1. 주피터 노트북 기능 익히기"
   ]
  },
  {
   "cell_type": "markdown",
   "id": "2720190b",
   "metadata": {},
   "source": [
    "### 1.1.1. 두 가지 유형의 셀\n",
    "\n",
    "- 셀은 코드셀과 마크다운 셀로 구분됨"
   ]
  },
  {
   "cell_type": "markdown",
   "id": "89d52aea",
   "metadata": {},
   "source": [
    "**1) 코드셀**\n",
    "\n",
    "* 파이썬 코드를 입력하고 실행할 수 있는 셀 \n",
    "* 명확한 주석(comments)를 달아 주기를 권고"
   ]
  },
  {
   "cell_type": "markdown",
   "id": "800812d1",
   "metadata": {},
   "source": [
    "**2) 마크다운 셀**\n",
    "\n",
    "- 본 셀과 같이 다양한 형식의 문서를 작성할 수 있는 셀\n",
    "- 코드에 대한 설명 또는 이미지를 추가할 수 있음"
   ]
  },
  {
   "cell_type": "markdown",
   "id": "3537a219",
   "metadata": {},
   "source": [
    "### 1.1.2. 유용한 단축키"
   ]
  },
  {
   "cell_type": "markdown",
   "id": "dc3789ac",
   "metadata": {},
   "source": [
    "**1) 코드실행**\n",
    "\n",
    "- Ctrl + Enter : 현재 셀 실행하고 현재 셀에 머무르기\n",
    "- Shift + Enter : 현재 셀 실행하고 다음 셀로 이동\n",
    "- Alt + Enter : 현재 셀을 실행하고 바로 다음에 새로운 셀 추가"
   ]
  },
  {
   "cell_type": "code",
   "execution_count": 14,
   "id": "ad4408c0",
   "metadata": {},
   "outputs": [
    {
     "data": {
      "text/plain": [
       "20"
      ]
     },
     "execution_count": 14,
     "metadata": {},
     "output_type": "execute_result"
    }
   ],
   "source": [
    "a = 10\n",
    "a = a + 10\n",
    "a"
   ]
  },
  {
   "cell_type": "markdown",
   "id": "8632eb97",
   "metadata": {},
   "source": [
    "**2) 기타 유용한 단축 키**\n",
    "\n",
    "- A : 현재 셀 위에 새로운 셀 추가\n",
    "- B : 현재 셀 아래에 새로운 셀 추가\n",
    "- DD : 현재 셀 삭제\n",
    "- Y : 코드셀로 바꾸기\n",
    "- M : 마크다운셀로 바꾸기\n",
    "- Z : 이전 과정으로 되돌리기"
   ]
  },
  {
   "cell_type": "markdown",
   "id": "cd21f7a2",
   "metadata": {},
   "source": []
  }
 ],
 "metadata": {
  "kernelspec": {
   "display_name": "Python 3",
   "language": "python",
   "name": "python3"
  },
  "language_info": {
   "codemirror_mode": {
    "name": "ipython",
    "version": 3
   },
   "file_extension": ".py",
   "mimetype": "text/x-python",
   "name": "python",
   "nbconvert_exporter": "python",
   "pygments_lexer": "ipython3",
   "version": "3.8.8"
  }
 },
 "nbformat": 4,
 "nbformat_minor": 5
}
