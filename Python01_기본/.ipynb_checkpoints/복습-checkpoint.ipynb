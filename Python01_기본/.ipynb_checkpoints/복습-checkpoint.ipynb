{
 "cells": [
  {
   "cell_type": "code",
   "execution_count": 3,
   "id": "65bccb2e-03f1-43ab-9fb9-31cd4f50ba7d",
   "metadata": {},
   "outputs": [],
   "source": [
    "a = [1,2,3,4,5]\n",
    "b = (1,2,3,4,5)\n",
    "c = {1,2,3,4,5}\n",
    "d = {'one': 1, 'two': 2, 'three': 3}"
   ]
  },
  {
   "cell_type": "code",
   "execution_count": 5,
   "id": "5a501b81-d277-4640-8d00-474838351693",
   "metadata": {},
   "outputs": [
    {
     "name": "stdout",
     "output_type": "stream",
     "text": [
      "첫번쨰 :  1\n",
      "마지막 :  5\n"
     ]
    }
   ],
   "source": [
    "# 인덱싱\n",
    "print('첫번쨰 : ', a[0])\n",
    "print('마지막 : ', a[-1])"
   ]
  },
  {
   "cell_type": "code",
   "execution_count": 7,
   "id": "43c432f7-78b0-45b1-99c8-17ac3911401d",
   "metadata": {},
   "outputs": [
    {
     "name": "stdout",
     "output_type": "stream",
     "text": [
      "1\n",
      "3\n",
      "1 3\n"
     ]
    }
   ],
   "source": [
    "# 딕셔너리 조회(키 이용)\n",
    "print(d['one'])\n",
    "print(d['three'])\n",
    "print(d['one'], d['three'])"
   ]
  },
  {
   "cell_type": "code",
   "execution_count": 18,
   "id": "4d7f74f7-9236-4141-bbc5-953fa81f6cfb",
   "metadata": {},
   "outputs": [
    {
     "name": "stdout",
     "output_type": "stream",
     "text": [
      "4 2 3 6 9 "
     ]
    }
   ],
   "source": [
    "# 루프를 돌린다 = 반복 시킨다.\n",
    "a = [4,2,3,6,9]\n",
    "for num in a :\n",
    "    print(num,end = ' ')"
   ]
  },
  {
   "cell_type": "code",
   "execution_count": 17,
   "id": "4b0f691b-a95f-45d8-adbd-9b7f25419d36",
   "metadata": {},
   "outputs": [
    {
     "name": "stdout",
     "output_type": "stream",
     "text": [
      "1 2 3 4 5 P Y T H O N 0 / 1 1 / 2 2 / 3 3 / 4 4 / 5 0 / P 1 / Y 2 / T 3 / H 4 / O 5 / N "
     ]
    }
   ],
   "source": [
    "a = [1,2,3,4,5]\n",
    "for i in a:\n",
    "\tprint(i, end=' ')   # 1 2 3 4 5\n",
    "\n",
    "s = 'PYTHON' # 문자열 = 문자 + 열(List)\n",
    "for c in s:\n",
    "\tprint(c, end= ' ')  # P Y T H O N\n",
    "\n",
    "# enumerate()와 함께 사용한다면 index 값을 동시에 참조할 수 있다\n",
    "for idx, i in enumerate(a) :\n",
    "\tprint(idx, '/', i, end=' ')  # 0/1 1/2 2/3 3/4 4/5\n",
    "\n",
    "for idx, c in enumerate(s) :\n",
    "    print(idx, '/', c, end=' ')  # 0/P 1/Y 2/T 3/H 4/O 5/N "
   ]
  },
  {
   "cell_type": "code",
   "execution_count": 22,
   "id": "9d536a14-5d72-47b8-8f76-47348b185b44",
   "metadata": {},
   "outputs": [
    {
     "name": "stdout",
     "output_type": "stream",
     "text": [
      "[1, 2, 3, 4, 5, 6, 7, 8, 9]\n",
      "[20, 40, 60, 80]\n"
     ]
    }
   ],
   "source": [
    "# 반복문 확장\n",
    "a = [1,2,3,4,5,6,7,8,9]\n",
    "b = [x * 10 for x in a if x % 2 == 0]\n",
    "print(a)\n",
    "print(b)"
   ]
  },
  {
   "cell_type": "code",
   "execution_count": 23,
   "id": "1018efdf-c8ce-4ceb-a58d-b886e24130f2",
   "metadata": {},
   "outputs": [
    {
     "name": "stdout",
     "output_type": "stream",
     "text": [
      "2\n",
      "4\n",
      "6\n",
      "8\n"
     ]
    }
   ],
   "source": [
    "# 반복문 확장\n",
    "a = [1,2,3,4,5,6,7,8,9]\n",
    "for x in a :\n",
    "    if x % 2 == 0 :\n",
    "        print(x)"
   ]
  },
  {
   "cell_type": "code",
   "execution_count": null,
   "id": "9ae2ffcd-f1bc-4230-8559-95e66ba539ce",
   "metadata": {},
   "outputs": [],
   "source": []
  }
 ],
 "metadata": {
  "kernelspec": {
   "display_name": "Python 3",
   "language": "python",
   "name": "python3"
  },
  "language_info": {
   "codemirror_mode": {
    "name": "ipython",
    "version": 3
   },
   "file_extension": ".py",
   "mimetype": "text/x-python",
   "name": "python",
   "nbconvert_exporter": "python",
   "pygments_lexer": "ipython3",
   "version": "3.8.8"
  }
 },
 "nbformat": 4,
 "nbformat_minor": 5
}
