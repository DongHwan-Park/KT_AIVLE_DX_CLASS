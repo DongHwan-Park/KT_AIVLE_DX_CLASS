{
 "cells": [
  {
   "cell_type": "markdown",
   "metadata": {
    "id": "b3TDAdnvnSbh"
   },
   "source": [
    "<center><img src='https://raw.githubusercontent.com/Jangrae/img/master/title3.png' width=500/></center>"
   ]
  },
  {
   "cell_type": "markdown",
   "metadata": {},
   "source": [
    "<center><img src='https://raw.githubusercontent.com/Jangrae/img/master/practice.png' width=300/></center>"
   ]
  },
  {
   "cell_type": "markdown",
   "metadata": {
    "id": "e6062223"
   },
   "source": [
    "# 실습 #1: Input"
   ]
  },
  {
   "cell_type": "markdown",
   "metadata": {
    "id": "DrMB54dXNx1Q"
   },
   "source": [
    "1) 함수 hello_world를 만들어 보세요.\n",
    "\n",
    "- 이름 값을 받는 입력 매개변수 name(문자)\n",
    "- 'Hello '와 ' , welcome to Python World!' 사이에 name을 넣어 출력\n",
    "- (Hello name, welcome to Python World! 형태)\n",
    "- name에 값을 지정하여 함수의 결과를 확인하세요.\n",
    "\n",
    "\n",
    "        hello_world('Ann')\n",
    "        ------------------\n",
    "        Hello Ann, welcome to Python World!"
   ]
  },
  {
   "cell_type": "code",
   "execution_count": 2,
   "metadata": {
    "id": "03258b2e"
   },
   "outputs": [
    {
     "name": "stdout",
     "output_type": "stream",
     "text": [
      "Hello 포두 welcome to Python World!\n"
     ]
    }
   ],
   "source": [
    "def hello_world(name):\n",
    "    print(f'Hello {name} welcome to Python World!')\n",
    "    \n",
    "hello_world('포두')\n",
    "    \n",
    "\n"
   ]
  },
  {
   "cell_type": "markdown",
   "metadata": {
    "id": "UnSdqePHOEzC"
   },
   "source": [
    "2) 함수 say_hey를 만들어 보세요.\n",
    "\n",
    "- 횟수를 받는 입력 매개변수 count(숫자)\n",
    "- 입력받은 count만큼 'Hey! '를 출력\n",
    "- count에 값을 지정하여 함수의 결과를 확인하세요.\n",
    "\n",
    "\n",
    "        say_hey(5)\n",
    "        -----------------------\n",
    "        Hey! Hey! Hey! Hey! Hey! "
   ]
  },
  {
   "cell_type": "code",
   "execution_count": 4,
   "metadata": {
    "id": "4f8671c9"
   },
   "outputs": [
    {
     "name": "stdout",
     "output_type": "stream",
     "text": [
      "Hey! Hey! Hey! Hey! Hey! \n"
     ]
    }
   ],
   "source": [
    "def say_hey(count):\n",
    "    print('Hey! '* count)\n",
    "\n",
    "say_hey(5)"
   ]
  },
  {
   "cell_type": "markdown",
   "metadata": {
    "id": "C7NOWcmUOgnR"
   },
   "source": [
    "3) 함수 hello를 만들어 보세요.\n",
    "\n",
    "- 이름 값을 받는 입력 매개변수 name(문자), 숫자를 받는 loud(숫자) (이때, loud = 1로 선언)\n",
    "- loud = 1일 때, 'HELLO '와  '!!!' 사이에 name(대문자)을 넣어 출력 \n",
    "- loud = 0이면, 'Hello '와 '.' 사이에 name(소문자)을 넣어 출력\n",
    "- name, loud에 값을 지정하여 함수의 결과를 확인하세요.\n",
    "- name에만 값을 지정하여 함수의 결과를 확인하세요.\n",
    "\n",
    "\n",
    "\n",
    "        hello(name = 'Kim', loud = 0)\n",
    "        hello(name = 'Kim')\n",
    "        -----------------------\n",
    "        Hello kim.\n",
    "        HELLO KIM!!"
   ]
  },
  {
   "cell_type": "code",
   "execution_count": 30,
   "metadata": {
    "id": "fe138102",
    "scrolled": true
   },
   "outputs": [
    {
     "name": "stdout",
     "output_type": "stream",
     "text": [
      "Hello kim.\n",
      "HELLO KIM!!!\n"
     ]
    }
   ],
   "source": [
    "def hello(name,loud=1):\n",
    "    if loud == 1:\n",
    "        print(f'HELLO {name.upper()}!!!')\n",
    "    elif loud == 0 :\n",
    "        print(f'Hello {name.lower()}.')\n",
    "        \n",
    "hello(name = 'Kim', loud = 0)\n",
    "hello(name = 'Kim')"
   ]
  },
  {
   "cell_type": "markdown",
   "metadata": {
    "id": "Xr7VqAjGPxTz"
   },
   "source": [
    "4) 함수 add를 만들어 보세요.\n",
    "\n",
    "- 계산할 숫자들을 받는 입력 매개변수 a(숫자), b(숫자)\n",
    "- a와 b의 합을 변수 sum에 저장\n",
    "- '덧셈 결과는' 뒤에 sum의 값을 넣어서 출력 (덧셈 결과는 sum 형태)\n",
    "- a, b에 값을 지정하여 함수의 결과를 확인하세요.\n",
    "\n",
    "\n",
    "        add(7, 2)\n",
    "        ------------\n",
    "        덧셈 결과는 9"
   ]
  },
  {
   "cell_type": "code",
   "execution_count": 14,
   "metadata": {
    "id": "1dafbd7a"
   },
   "outputs": [
    {
     "name": "stdout",
     "output_type": "stream",
     "text": [
      "덧셈 결과는 9\n"
     ]
    }
   ],
   "source": [
    "def add(a,b):\n",
    "    sum = a + b \n",
    "    print(f'덧셈 결과는 {sum}')\n",
    "\n",
    "add(7, 2)\n"
   ]
  },
  {
   "cell_type": "markdown",
   "metadata": {
    "id": "bt1RhktFQAJU"
   },
   "source": [
    "5) 함수 numbers를 만들어 보세요.\n",
    "\n",
    "- 출력할 숫자들을 받는 입력 매개변수 nums(숫자)는 입력 값의 수를 정하지 않고 들어오는 대로 받음\n",
    "- 입력받은 숫자들을 출력\n",
    "- nums에 값을 지정하여 함수의 결과를 확인하새요.\n",
    "- 힌트: 입력받을 매개변수의 수를 지정하지 않고 사용하려면 *nums\n",
    "\n",
    "\n",
    "\n",
    "        numbers(2, 4, 6, 8, 10)\n",
    "        ---------------------\n",
    "        (2, 4, 6, 8, 10)"
   ]
  },
  {
   "cell_type": "code",
   "execution_count": 15,
   "metadata": {
    "id": "e291a8df"
   },
   "outputs": [
    {
     "name": "stdout",
     "output_type": "stream",
     "text": [
      "(2, 4, 6, 8, 10)\n"
     ]
    }
   ],
   "source": [
    "def numbers(*arg):\n",
    "    print(arg)\n",
    "    \n",
    "numbers(2, 4, 6, 8, 10)    \n",
    "\n",
    "\n"
   ]
  },
  {
   "cell_type": "markdown",
   "metadata": {
    "id": "07ahmEZaQVwP"
   },
   "source": [
    "6) 함수 average를 만들어 보세요.\n",
    "\n",
    "- 평균을 구할 수들을 받는 입력 매개변수 nums(숫자)는 입력 값의 수를 정하지 않고 들어오는 대로 받음\n",
    "- 입력받은 숫자들의 평균을 변수 avg에 저장하여 출력\n",
    "- nums에 값을 지정하여 함수의 결과를 확인하새요.\n",
    "\n",
    "\n",
    "\n",
    "        average(2, 4, 6, 8, 10)\n",
    "        ------------------------\n",
    "        6.0"
   ]
  },
  {
   "cell_type": "code",
   "execution_count": 17,
   "metadata": {
    "id": "45dc4e27"
   },
   "outputs": [
    {
     "name": "stdout",
     "output_type": "stream",
     "text": [
      "6.0\n"
     ]
    }
   ],
   "source": [
    "def average(*nums):\n",
    "    avg = sum(nums)/len(nums)\n",
    "    print(avg)\n",
    "    \n",
    "average(2, 4, 6, 8, 10)\n",
    "\n",
    "\n"
   ]
  },
  {
   "cell_type": "markdown",
   "metadata": {
    "id": "237600a1"
   },
   "source": [
    "# 실습 #2: Output"
   ]
  },
  {
   "cell_type": "markdown",
   "metadata": {
    "id": "XfEBpAHmQrn8"
   },
   "source": [
    "1) 함수 calculate1을 만들어 보세요.\n",
    "\n",
    "- 입력 매개변수: 숫자1, 숫자2, 사칙연산 부호(+,-,*,/)\n",
    "- 숫자1과 숫자2 사이에 사칙연산자 부호에 해당하는 연산을 수행 후 결과를 print로 출력\n",
    "\n",
    "\n",
    "        calculate1(11, 2, '*')\n",
    "        ---------------\n",
    "        22"
   ]
  },
  {
   "cell_type": "code",
   "execution_count": 23,
   "metadata": {
    "id": "131c774c"
   },
   "outputs": [
    {
     "name": "stdin",
     "output_type": "stream",
     "text": [
      "plz type num1/num2/op[+,-,*,/] 11 2 *\n"
     ]
    },
    {
     "name": "stdout",
     "output_type": "stream",
     "text": [
      "22\n"
     ]
    }
   ],
   "source": [
    "def calculate1(num1,num2,op):\n",
    "    num1 , num2 = int(num1), int(num2)\n",
    "    if op == '+':\n",
    "        print(num1 + num2)\n",
    "    elif op == '-':\n",
    "        print(num1 - num2)\n",
    "    elif op == '*':\n",
    "        print(num1 * num2)\n",
    "    elif num2 == 0:\n",
    "        print('can not calculate')\n",
    "    elif op == '/':\n",
    "        print(num1 / num2)\n",
    "        \n",
    "num1,num2,op = input(\"plz type num1/num2/op[+,-,*,/]\").split()   \n",
    "\n",
    "calculate1(num1,num2,op)"
   ]
  },
  {
   "cell_type": "markdown",
   "metadata": {
    "id": "N_u9HkQ_Rv3u"
   },
   "source": [
    "2) 위에서 만든 calcuate1의 결과를 변수 c로 저장해 보세요.  \n",
    "\n",
    "- 그런 다음 c를 출력해 보세요.\n",
    "- 결과가 담기나요?"
   ]
  },
  {
   "cell_type": "code",
   "execution_count": 25,
   "metadata": {
    "id": "cpcHEjIJR-GU"
   },
   "outputs": [
    {
     "name": "stdout",
     "output_type": "stream",
     "text": [
      "22\n",
      "None\n"
     ]
    }
   ],
   "source": [
    "c = calculate1(num1, num2, op)\n",
    "print(c)"
   ]
  },
  {
   "cell_type": "markdown",
   "metadata": {
    "id": "Tpb7ryuDSDAJ"
   },
   "source": [
    "3) 위에서 만든 calcuate1의 결과를 변수 c로 저장하기 위해서\n",
    "\n",
    "- 결과를 반환하도록 코드를 수정하세요.\n",
    "- 힌트: return\n",
    "- 이제 다시 결과를 c로 저장하고 출력하세요.\n",
    "- 결과가 담기나요?"
   ]
  },
  {
   "cell_type": "code",
   "execution_count": 27,
   "metadata": {
    "id": "e5036b57",
    "scrolled": true
   },
   "outputs": [
    {
     "name": "stdin",
     "output_type": "stream",
     "text": [
      "plz type num1/num2/op[+,-,*,/] 11 2 *\n"
     ]
    },
    {
     "name": "stdout",
     "output_type": "stream",
     "text": [
      "22\n"
     ]
    }
   ],
   "source": [
    "def calculate1(num1,num2,op):\n",
    "    num1 , num2 = int(num1), int(num2)\n",
    "    if op == '+':\n",
    "        return (num1 + num2)\n",
    "    elif op == '-':\n",
    "        return (num1 - num2)\n",
    "    elif op == '*':\n",
    "        return (num1 * num2)\n",
    "    elif num2 == 0:\n",
    "        return 'can not calculate'\n",
    "    elif op == '/':\n",
    "        return (num1 / num2)\n",
    "    \n",
    "num1,num2,op = input(\"plz type num1/num2/op[+,-,*,/]\").split()   \n",
    "c = calculate1(num1,num2,op)\n",
    "print(c)\n"
   ]
  },
  {
   "cell_type": "markdown",
   "metadata": {
    "id": "fE5tW_kUScog"
   },
   "source": [
    "4) 함수 calculate2를 만들어 보세요.\n",
    "\n",
    "- 숫자 두개를 받아서 몫과 나머지를 계산하고 두 결과를 반환\n",
    "- 함수 실행 후 결과를 r1, r2에 저장한 후 출력하세요.\n",
    "\n",
    "\n",
    "        r1, r2 = calculate2(11, 2)\n",
    "        print(r1, r2)\n",
    "        ---------------------------\n",
    "        5  1"
   ]
  },
  {
   "cell_type": "code",
   "execution_count": 31,
   "metadata": {
    "id": "9aada59d"
   },
   "outputs": [
    {
     "name": "stdout",
     "output_type": "stream",
     "text": [
      "5 1\n"
     ]
    }
   ],
   "source": [
    "def calculate2(num1, num2):\n",
    "    return num1 // num2 , num1 % num2\n",
    "\n",
    "r1, r2 = calculate2(11,2)\n",
    "print(r1, r2)"
   ]
  },
  {
   "cell_type": "markdown",
   "metadata": {
    "id": "pXAtxJsYTVaP"
   },
   "source": [
    "5) [심화] 함수 even을 만들어 보세요.\n",
    "\n",
    "- 입력 매개변수로 리스트를 입력받아.\n",
    "- 입력받은 리스트 값들 중 짝수로만 구성된 새로운 리스트를 반환\n",
    "- 힌트: 함수 처리 코드 내 짝수를 저장할 빈 리스트 result 생성\n",
    "\n",
    "\n",
    "        even([2, 3, 6, 8, 11])\n",
    "        ------------------------\n",
    "        [2, 6, 8]"
   ]
  },
  {
   "cell_type": "code",
   "execution_count": 1,
   "metadata": {},
   "outputs": [
    {
     "data": {
      "text/plain": [
       "[2, 6, 8]"
      ]
     },
     "execution_count": 1,
     "metadata": {},
     "output_type": "execute_result"
    }
   ],
   "source": [
    "def even(l):\n",
    "    result = []\n",
    "    for i in l :\n",
    "        if i % 2 == 0 :\n",
    "            result.append(i)\n",
    "    return result\n",
    "\n",
    "even([2,3,6,8,11])"
   ]
  },
  {
   "cell_type": "markdown",
   "metadata": {
    "id": "1036835d"
   },
   "source": [
    "# 실습 #3: 예외처리"
   ]
  },
  {
   "cell_type": "markdown",
   "metadata": {
    "id": "XHTKqkcqiJ4g"
   },
   "source": [
    "1) 함수 divide를 만들어 보세요.  \n",
    "\n",
    "- 입력변수: num1, num2\n",
    "- 처리: num1 / num2\n",
    "- 결과: 나눈 결과를 반환\n",
    "\n",
    "- 함수를 만들고 숫자 두개를 넣고 결과를 확인해 보세요.\n"
   ]
  },
  {
   "cell_type": "code",
   "execution_count": 5,
   "metadata": {
    "id": "e72c0041"
   },
   "outputs": [
    {
     "data": {
      "text/plain": [
       "0.5"
      ]
     },
     "execution_count": 5,
     "metadata": {},
     "output_type": "execute_result"
    }
   ],
   "source": [
    "def divide(num1, num2):\n",
    "    return num1 / num2\n",
    "\n",
    "divide(2,4)\n",
    "\n",
    "\n"
   ]
  },
  {
   "cell_type": "markdown",
   "metadata": {
    "id": "8By6VzDOiiyH"
   },
   "source": [
    "2) 위 문제에서 만약 num2에 0을 넣으면 오류가 발생합니다.\n",
    "\n",
    "- ZeroDivisionError: division by zero \n",
    "- 이를 해결하기 위해 오류 처리 코드를 넣어 보세요.\n",
    "- num2에 0이 들어오면, '0으로 나눌 수 없습니다.' 라고 출력하고,\n",
    "- num2에 다른 숫자가 들어오면, 나눈 결과를 반환하세요.\n",
    "\n",
    "\n",
    "        divide(10, 0)\n",
    "        ----------------\n",
    "        0으로 나눌 수 없습니다."
   ]
  },
  {
   "cell_type": "code",
   "execution_count": 7,
   "metadata": {
    "id": "c51d3b4f"
   },
   "outputs": [
    {
     "name": "stdout",
     "output_type": "stream",
     "text": [
      "0으로 나눌 수 없습니다.\n"
     ]
    }
   ],
   "source": [
    "def divide(num1, num2):\n",
    "    if num2 == 0 :\n",
    "        return '0으로 나눌 수 없습니다.'\n",
    "    return num1 / num2\n",
    "\n",
    "result = divide(2,0)\n",
    "print(result)\n",
    "\n",
    "\n",
    "\n",
    "\n",
    "\n"
   ]
  },
  {
   "cell_type": "markdown",
   "metadata": {
    "id": "ZPnsCQSwjgmt"
   },
   "source": [
    "3) 위 결과에 이어서, num1, num2 모두 int 인지 확인하는 코드도 작성하세요.\n",
    "\n",
    "- 힌트: 정수인지 확인 num1 is int\n",
    "\n",
    "\n",
    "        divide(10, 'a')\n",
    "        ----------------------\n",
    "        입력값이 모두 숫자여야 합니다."
   ]
  },
  {
   "cell_type": "code",
   "execution_count": 12,
   "metadata": {
    "id": "c03db780"
   },
   "outputs": [
    {
     "name": "stdout",
     "output_type": "stream",
     "text": [
      "입력값이 모두 숫자여야 합니다.\n",
      "0으로 나눌 수 없습니다.\n",
      "입력값이 모두 숫자여야 합니다.\n"
     ]
    }
   ],
   "source": [
    "def divide(num1, num2):\n",
    "    if num2 == 0 :\n",
    "        return '0으로 나눌 수 없습니다.'\n",
    "    if num1 is int and num2 is int :\n",
    "        return num1 / num2\n",
    "    else :\n",
    "        return '입력값이 모두 숫자여야 합니다.'\n",
    "    \n",
    "a = divide(2,1.2)\n",
    "b = divide(2,0)\n",
    "c = divide(1,5)\n",
    "\n",
    "print(a,b,c , sep = '\\n')"
   ]
  },
  {
   "cell_type": "code",
   "execution_count": null,
   "metadata": {},
   "outputs": [],
   "source": [
    "i = 1\n",
    "summ = 0 \n",
    "\n",
    "for i  in range(1,101) :\n",
    "    if i % 3 == 0:\n",
    "        summ += i\n",
    "        i += 1\n",
    "\n",
    "print(summ)"
   ]
  },
  {
   "cell_type": "markdown",
   "metadata": {
    "id": "832bfdc1"
   },
   "source": [
    "# 실습 #4: [심화] 로또 번호 생성기"
   ]
  },
  {
   "cell_type": "markdown",
   "metadata": {
    "id": "io2Xzq-gldQ_"
   },
   "source": [
    "### 단계 1  \n",
    "1) 로또 번호 여섯 개를 무작위로 생성하는 함수 lotto_number를 만들어 보세요. (lotto_number는 입력값이 없는 함수입니다.)  \n",
    "2) random 모듈의 sample 함수를 사용하시오. sample(리스트, k)는 리스트 중에서 k개를 무작위로 추출합니다.\n",
    "- 사용법  \n",
    "\n",
    "\n",
    "        import random as rd\n",
    "        rd.sampme([1,2,3,4,5], 2)\n",
    "        ------------------------  \n",
    "        [1, 4]\n",
    "\n",
    "3) 1~46 중 6개의 숫자를 무작위로 뽑아 주어야 합니다. 단 결과는 정렬된 채로 반환해야 합니다."
   ]
  },
  {
   "cell_type": "code",
   "execution_count": 43,
   "metadata": {
    "id": "hO279O_zldRF"
   },
   "outputs": [],
   "source": [
    "import random as rd\n",
    "\n",
    "def lotto_number():\n",
    "    result = rd.sample(list(range(1,46)),6)\n",
    "    result.sort()\n",
    "    print(result)"
   ]
  },
  {
   "cell_type": "code",
   "execution_count": 44,
   "metadata": {},
   "outputs": [
    {
     "name": "stdout",
     "output_type": "stream",
     "text": [
      "[6, 9, 20, 32, 38, 41]\n"
     ]
    }
   ],
   "source": [
    "lotto_number()"
   ]
  },
  {
   "cell_type": "markdown",
   "metadata": {
    "id": "264f8a17"
   },
   "source": [
    "### 단계 2 \n",
    "단계1에 이어서...  \n",
    "1) 로또번호 발생을 여러번 할 수 있도록 숫자를 입력받습니다.  \n",
    "2) 결과는 다음과 같이 나와야 합니다.\n",
    "\n",
    "        lotto_number(3)\n",
    "        -----------------\n",
    "        1 : [18, 21, 23, 25, 38, 44]\n",
    "        2 : [3, 20, 29, 37, 43, 46]\n",
    "        3 : [1, 6, 13, 29, 30, 38]"
   ]
  },
  {
   "cell_type": "code",
   "execution_count": 50,
   "metadata": {
    "id": "c7d10c68"
   },
   "outputs": [
    {
     "name": "stdout",
     "output_type": "stream",
     "text": [
      "1 : [3, 23, 30, 33, 38, 44]\n",
      "2 : [5, 26, 37, 38, 40, 44]\n",
      "3 : [6, 12, 16, 24, 38, 45]\n"
     ]
    },
    {
     "data": {
      "text/plain": [
       "[(0, 1), (1, 2), (2, 3)]"
      ]
     },
     "execution_count": 50,
     "metadata": {},
     "output_type": "execute_result"
    }
   ],
   "source": [
    "def lotto_number(count):\n",
    "    for i in range(count):\n",
    "        result = rd.sample(list(range(1,46)),6)\n",
    "        result.sort()\n",
    "        print(f'{i+1} : {result}')\n",
    "\n",
    "lotto_number(3)\n",
    "\n"
   ]
  },
  {
   "cell_type": "markdown",
   "metadata": {
    "id": "a6Zx1yQFpRNm"
   },
   "source": [
    "### 단계 3 \n",
    "단계2에 이어서...  \n",
    "1) 선호하는 번호를 리스트로 받아서,  \n",
    "2) 선호하는 번호와 함께 나머지 번호를 발생시켜주도록 합니다.  \n",
    "3) 입력 매개변수: 선호번호리스트, 횟수\n",
    "\n",
    "        lotto_number([11,22], 3)\n",
    "        -----------------\n",
    "        1 : [2, 9, 11, 22, 28, 43]\n",
    "        2 : [11, 22, 26, 31, 32, 40]\n",
    "        3 : [2, 6, 11, 22, 29, 39]"
   ]
  },
  {
   "cell_type": "code",
   "execution_count": 65,
   "metadata": {
    "id": "oOu3ern2pRNs"
   },
   "outputs": [],
   "source": [
    "def lotto_number(list_a, cnt):\n",
    "    nums = list(range(1,46)) # 1~ 45\n",
    "    \n",
    "    for num in list_a:            # 고객이 임력한 번호를 제거\n",
    "        nums.remove(num)\n",
    "        \n",
    "    count = 6 - len(list_a)\n",
    "    \n",
    "    for i in range(cnt):\n",
    "        result = rd.sample(nums,count) \n",
    "        result = list_a + result\n",
    "        result.sort()\n",
    "        print(f'{i+1} : {result}')\n",
    "\n",
    "\n"
   ]
  },
  {
   "cell_type": "code",
   "execution_count": 67,
   "metadata": {},
   "outputs": [
    {
     "name": "stdout",
     "output_type": "stream",
     "text": [
      "1 : [11, 14, 20, 21, 22, 38]\n",
      "2 : [4, 7, 11, 21, 22, 41]\n",
      "3 : [11, 13, 22, 25, 32, 33]\n"
     ]
    }
   ],
   "source": [
    "#함수 사용\n",
    "lotto_number([11,22],3)"
   ]
  },
  {
   "cell_type": "code",
   "execution_count": 68,
   "metadata": {},
   "outputs": [],
   "source": [
    "def lotto_number(list_a, n):\n",
    "    nums = list(range(1,46))\n",
    "    \n",
    "    for num in list_a:\n",
    "        nums.remove(num)\n",
    "    \n",
    "    count = 6 - len(list_a)\n",
    "    \n",
    "    for i in range(n):\n",
    "        result = rd.sample(nums, count)\n",
    "        result = list_a + result\n",
    "        result.sort()\n",
    "        print(i + 1, ':', result)"
   ]
  },
  {
   "cell_type": "code",
   "execution_count": 69,
   "metadata": {},
   "outputs": [
    {
     "name": "stdout",
     "output_type": "stream",
     "text": [
      "1 : [1, 19, 22, 27, 33, 36]\n",
      "2 : [6, 10, 17, 22, 31, 33]\n",
      "3 : [6, 22, 27, 33, 40, 42]\n",
      "4 : [11, 14, 22, 29, 33, 39]\n"
     ]
    }
   ],
   "source": [
    "lotto_number([22,33],4)"
   ]
  },
  {
   "cell_type": "code",
   "execution_count": null,
   "metadata": {},
   "outputs": [],
   "source": []
  }
 ],
 "metadata": {
  "colab": {
   "collapsed_sections": [],
   "name": "실습08 - 함수.ipynb",
   "provenance": []
  },
  "kernelspec": {
   "display_name": "Python 3",
   "language": "python",
   "name": "python3"
  },
  "language_info": {
   "codemirror_mode": {
    "name": "ipython",
    "version": 3
   },
   "file_extension": ".py",
   "mimetype": "text/x-python",
   "name": "python",
   "nbconvert_exporter": "python",
   "pygments_lexer": "ipython3",
   "version": "3.8.8"
  }
 },
 "nbformat": 4,
 "nbformat_minor": 4
}
