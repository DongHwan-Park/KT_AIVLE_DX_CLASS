{
 "cells": [
  {
   "cell_type": "code",
   "execution_count": null,
   "id": "0ca78fca-0db9-4063-a8de-c203fa360deb",
   "metadata": {},
   "outputs": [],
   "source": [
    "a = list(range(1,101))\n",
    "print(a)"
   ]
  },
  {
   "cell_type": "code",
   "execution_count": null,
   "id": "ebf94429-75d6-4a5e-8827-89c0c83579cb",
   "metadata": {},
   "outputs": [],
   "source": [
    "b = []\n",
    "for x in a:\n",
    "    if x % 3 == 0:\n",
    "        b.append(x)\n",
    "print(b)        "
   ]
  },
  {
   "cell_type": "code",
   "execution_count": null,
   "id": "6096d498-9eb7-4198-9cbe-a25bab3e4fdc",
   "metadata": {},
   "outputs": [],
   "source": [
    "#확장 구문으로 가져오기\n",
    "b = [x for x in a if x % 3 == 0]\n",
    "print(b)"
   ]
  },
  {
   "cell_type": "code",
   "execution_count": null,
   "id": "b9b10f3a-7be2-4514-87ea-a128898c52a9",
   "metadata": {},
   "outputs": [],
   "source": [
    "# 3 의 배수 만들기\n",
    "b = list(range(3,101,3))\n",
    "print(b)"
   ]
  },
  {
   "cell_type": "code",
   "execution_count": null,
   "id": "41f06f12-9c60-47f1-b11f-b849654c2c12",
   "metadata": {},
   "outputs": [],
   "source": [
    "i = 1\n",
    "b = []\n",
    "while i <= 100:\n",
    "    if i % 3 == 0:\n",
    "        b.append(i)\n",
    "    i +=1\n",
    "print(b)"
   ]
  },
  {
   "cell_type": "code",
   "execution_count": 8,
   "id": "50a61086-711d-4c0f-a9a1-feaebfc1b470",
   "metadata": {},
   "outputs": [
    {
     "name": "stdout",
     "output_type": "stream",
     "text": [
      "[3, 6, 9, 12, 15, 18, 21, 24, 27, 30, 33, 36, 39, 42, 45, 48, 51, 54, 57, 60, 63, 66, 69, 72, 75, 78, 81, 84, 87, 90, 93, 96, 99]\n"
     ]
    }
   ],
   "source": [
    "i = 1\n",
    "b = []\n",
    "while i <= 100:\n",
    "    if i % 3 == 0:\n",
    "        b.append(i)\n",
    "    i = i + 1\n",
    "print(b)"
   ]
  }
 ],
 "metadata": {
  "kernelspec": {
   "display_name": "Python 3",
   "language": "python",
   "name": "python3"
  },
  "language_info": {
   "codemirror_mode": {
    "name": "ipython",
    "version": 3
   },
   "file_extension": ".py",
   "mimetype": "text/x-python",
   "name": "python",
   "nbconvert_exporter": "python",
   "pygments_lexer": "ipython3",
   "version": "3.8.8"
  }
 },
 "nbformat": 4,
 "nbformat_minor": 5
}
