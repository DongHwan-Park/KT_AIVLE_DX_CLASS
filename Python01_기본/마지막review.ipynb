{
 "cells": [
  {
   "cell_type": "code",
   "execution_count": 3,
   "id": "49c5fe20-6eb0-43f6-b5c4-8b11c867093c",
   "metadata": {},
   "outputs": [
    {
     "name": "stdout",
     "output_type": "stream",
     "text": [
      "0\n"
     ]
    }
   ],
   "source": [
    "a = 10\n",
    "a += 20\n",
    "print(a % 2)"
   ]
  },
  {
   "cell_type": "markdown",
   "id": "e872a432-ab02-4989-ad27-dc741c427284",
   "metadata": {},
   "source": [
    "## 문자열"
   ]
  },
  {
   "cell_type": "code",
   "execution_count": 4,
   "id": "99d62e6b-47db-40b1-847b-9835dd9df66f",
   "metadata": {},
   "outputs": [
    {
     "name": "stdout",
     "output_type": "stream",
     "text": [
      "HelloHello\n"
     ]
    }
   ],
   "source": [
    "s1 = 'Hello'\n",
    "s2 = \"Hello\"\n",
    "\n",
    "s3 = s1 + s2\n",
    "print(s3)"
   ]
  },
  {
   "cell_type": "code",
   "execution_count": 7,
   "id": "4d64d9ff-86f5-4677-9eae-c1fe5d972a7d",
   "metadata": {},
   "outputs": [
    {
     "name": "stdout",
     "output_type": "stream",
     "text": [
      "[1, 2, 3, 4, 5, 6, 7]\n"
     ]
    }
   ],
   "source": [
    "l1 = [1,2,3]\n",
    "l2 = [4,5,6]\n",
    "l3 = l1 + l2\n",
    "l3.append(7)\n",
    "print(l3)"
   ]
  },
  {
   "cell_type": "code",
   "execution_count": 8,
   "id": "057bd7e1-366a-4f2c-8459-8a376aa92a2d",
   "metadata": {},
   "outputs": [
    {
     "name": "stdout",
     "output_type": "stream",
     "text": [
      "dict_keys([1, 2, 3])\n",
      "dict_values(['a', 'b', 'c'])\n",
      "dict_items([(1, 'a'), (2, 'b'), (3, 'c')])\n"
     ]
    }
   ],
   "source": [
    "d = {1: 'a',\n",
    "     2: 'b',\n",
    "     3: 'c'\n",
    "}\n",
    "print(d.keys())\n",
    "print(d.values())\n",
    "print(d.items())"
   ]
  },
  {
   "cell_type": "code",
   "execution_count": 12,
   "id": "01bf1ab1-d6b6-49d4-82c6-616198c2565e",
   "metadata": {},
   "outputs": [
    {
     "name": "stdout",
     "output_type": "stream",
     "text": [
      "1 - a\n",
      "2 - b\n",
      "3 - c\n"
     ]
    }
   ],
   "source": [
    "for key, value in d.items():\n",
    "    print(key,'-', value)"
   ]
  },
  {
   "cell_type": "code",
   "execution_count": null,
   "id": "229a5460-715f-4141-9882-16ce19bea5e1",
   "metadata": {},
   "outputs": [],
   "source": [
    "for x in a : # for 문은 반복 횟수가 정해져있는 경우"
   ]
  },
  {
   "cell_type": "code",
   "execution_count": 16,
   "id": "4b20811f-f3a7-4dac-a732-b4804d11aeff",
   "metadata": {},
   "outputs": [
    {
     "name": "stdout",
     "output_type": "stream",
     "text": [
      "end\n"
     ]
    }
   ],
   "source": [
    "i = 0\n",
    "while i <= 10:    # 이 경우 무한 반복 i 증가문을 넣어주어야함 or break 사용\n",
    "    break\n",
    "print('end')    "
   ]
  },
  {
   "cell_type": "code",
   "execution_count": 17,
   "id": "ec3b60af-12a9-44df-bd58-4044e0659b1c",
   "metadata": {},
   "outputs": [],
   "source": [
    "def fun1():\n",
    "    ...\n",
    "    return "
   ]
  },
  {
   "cell_type": "code",
   "execution_count": null,
   "id": "b5d12ee4-6de8-445c-8ef2-b283e9b37419",
   "metadata": {},
   "outputs": [],
   "source": []
  }
 ],
 "metadata": {
  "kernelspec": {
   "display_name": "Python 3",
   "language": "python",
   "name": "python3"
  },
  "language_info": {
   "codemirror_mode": {
    "name": "ipython",
    "version": 3
   },
   "file_extension": ".py",
   "mimetype": "text/x-python",
   "name": "python",
   "nbconvert_exporter": "python",
   "pygments_lexer": "ipython3",
   "version": "3.8.8"
  }
 },
 "nbformat": 4,
 "nbformat_minor": 5
}
