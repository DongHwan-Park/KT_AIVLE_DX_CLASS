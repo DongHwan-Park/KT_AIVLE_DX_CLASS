{
 "cells": [
  {
   "cell_type": "markdown",
   "metadata": {
    "id": "b3TDAdnvnSbh"
   },
   "source": [
    "<center><img src='https://raw.githubusercontent.com/Jangrae/img/master/title3.png' width=500/></center>"
   ]
  },
  {
   "cell_type": "markdown",
   "metadata": {},
   "source": [
    "<center><img src='https://raw.githubusercontent.com/Jangrae/img/master/practice.png' width=300/></center>"
   ]
  },
  {
   "cell_type": "markdown",
   "metadata": {
    "id": "-SEyFxwm24aY"
   },
   "source": [
    "# 실습 #1: 기본 문자열 다루기"
   ]
  },
  {
   "cell_type": "markdown",
   "metadata": {
    "id": "ZweoqhKc4Mip"
   },
   "source": [
    "1) 문자열 '나는' 과 '너를...'을 붙여서 출력하세요."
   ]
  },
  {
   "cell_type": "code",
   "execution_count": null,
   "metadata": {
    "id": "Vu6lXL3z24aY"
   },
   "outputs": [],
   "source": [
    "\n",
    "\n",
    "\n"
   ]
  },
  {
   "cell_type": "markdown",
   "metadata": {
    "id": "AhDt0mx64N-B"
   },
   "source": [
    "2) 문자열 '나는'과 '너를...' 사이에 한 칸 띄어서 출력하세요."
   ]
  },
  {
   "cell_type": "code",
   "execution_count": null,
   "metadata": {
    "id": "Cit_5fLj24aZ"
   },
   "outputs": [],
   "source": [
    "\n",
    "\n",
    "\n"
   ]
  },
  {
   "cell_type": "markdown",
   "metadata": {
    "id": "vjNd-3Ok4R5c"
   },
   "source": [
    "3) 문자 '*'을 10개 출력해 보세요."
   ]
  },
  {
   "cell_type": "code",
   "execution_count": 1,
   "metadata": {
    "id": "TZMeVwZG24aZ"
   },
   "outputs": [
    {
     "name": "stdout",
     "output_type": "stream",
     "text": [
      "**********\n"
     ]
    }
   ],
   "source": [
    "print(\"*\"*10)"
   ]
  },
  {
   "cell_type": "markdown",
   "metadata": {
    "id": "2tAHHR204UI9"
   },
   "source": [
    "4) '안녕하세요?' 3개와 '반갑습니다!' 2개를 하나의 print 함수로 출력하세요."
   ]
  },
  {
   "cell_type": "code",
   "execution_count": null,
   "metadata": {
    "id": "nInJf9Qr24aZ"
   },
   "outputs": [],
   "source": [
    "\n",
    "\n",
    "\n"
   ]
  },
  {
   "cell_type": "code",
   "execution_count": 2,
   "metadata": {},
   "outputs": [
    {
     "data": {
      "text/plain": [
       "'nowhere'"
      ]
     },
     "execution_count": 2,
     "metadata": {},
     "output_type": "execute_result"
    }
   ],
   "source": [
    "s = '!@nowhere!@'\n",
    "s.replace('now', 'now ') # !@now here!@\n",
    "s.lstrip('!@') # nowhere!@\n",
    "s.rstrip('!@') # !@nowhere\n",
    "s.strip('!@') # nowhere\n",
    "# s.strip(default=' ') # !@nowhere!@"
   ]
  },
  {
   "cell_type": "markdown",
   "metadata": {
    "id": "4otsnRqy5Fac"
   },
   "source": [
    "5) 변수 e에 임의의 숫자를 저장하고, 변수 f에 문자열 '안녕하세요?'를 저장하여 e 개 출력하세요."
   ]
  },
  {
   "cell_type": "code",
   "execution_count": 3,
   "metadata": {
    "id": "yzecGHGx24ab"
   },
   "outputs": [
    {
     "name": "stdout",
     "output_type": "stream",
     "text": [
      "안녕하세요안녕하세요안녕하세요안녕하세요안녕하세요안녕하세요안녕하세요안녕하세요안녕하세요안녕하세요안녕하세요안녕하세요\n"
     ]
    }
   ],
   "source": [
    "e = 12\n",
    "f ='안녕하세요'\n",
    "\n",
    "print(e*f)"
   ]
  },
  {
   "cell_type": "markdown",
   "metadata": {},
   "source": [
    "6) 입력받은 숫자를 변수e에 저장하고, 변수 f에 문자열 '안녕하세요?'를 저장하여 e 개 출력하세요."
   ]
  },
  {
   "cell_type": "code",
   "execution_count": 8,
   "metadata": {},
   "outputs": [
    {
     "name": "stdin",
     "output_type": "stream",
     "text": [
      "e를 입력하세요 4\n"
     ]
    },
    {
     "name": "stdout",
     "output_type": "stream",
     "text": [
      "안녕하세요?안녕하세요?안녕하세요?안녕하세요?\n"
     ]
    }
   ],
   "source": [
    "f = '안녕하세요?'\n",
    "e = int(input(\"e를 입력하세요\")) # str --> int\n",
    "print(f * e)\n"
   ]
  },
  {
   "cell_type": "markdown",
   "metadata": {
    "id": "a16b2654"
   },
   "source": [
    "# 실습 #2: 문자열 인덱싱, 슬라이싱"
   ]
  },
  {
   "cell_type": "markdown",
   "metadata": {
    "id": "ypIKAIvHmABx"
   },
   "source": [
    "1) 변수 a에 '문자열을 다뤄 봅시다.'를 저장하고 두 번째 문자를 출력하세요."
   ]
  },
  {
   "cell_type": "code",
   "execution_count": 2,
   "metadata": {
    "id": "f250c4bc"
   },
   "outputs": [
    {
     "name": "stdout",
     "output_type": "stream",
     "text": [
      "문자열을 다뤄 봅시다.\n",
      "자\n"
     ]
    }
   ],
   "source": [
    "a = '문자열을 다뤄 봅시다.'\n",
    "print(a)\n",
    "print(a[1])\n",
    "\n",
    "\n"
   ]
  },
  {
   "cell_type": "markdown",
   "metadata": {
    "id": "j3CQ18bgmNrq"
   },
   "source": [
    "2) 변수 a에 '문자열을 다뤄 봅시다.'를 저장하고 세 번째 부터 여섯 번째 문자까지 출력하세요."
   ]
  },
  {
   "cell_type": "code",
   "execution_count": 3,
   "metadata": {
    "id": "0de9e3ec"
   },
   "outputs": [
    {
     "name": "stdout",
     "output_type": "stream",
     "text": [
      "열을 다\n"
     ]
    }
   ],
   "source": [
    "a = '문자열을 다뤄 봅시다.'\n",
    "print(a[2:6])\n",
    "\n"
   ]
  },
  {
   "cell_type": "markdown",
   "metadata": {
    "id": "S7zDWSn7mclU"
   },
   "source": [
    "3) 변수 a에 '문자열을 다뤄 봅시다.'를 저장하고 뒤에서 두 번째 문자를 출력하세요."
   ]
  },
  {
   "cell_type": "code",
   "execution_count": null,
   "metadata": {
    "id": "61fea94c"
   },
   "outputs": [],
   "source": [
    "\n",
    "\n",
    "\n"
   ]
  },
  {
   "cell_type": "markdown",
   "metadata": {
    "id": "ySBzKiDqmon6"
   },
   "source": [
    "4) 변수 a에 '문자열을 다뤄 봅시다.'를 저장하고 세 번째 부터 여섯 번째 문자까지 출력하세요."
   ]
  },
  {
   "cell_type": "code",
   "execution_count": null,
   "metadata": {
    "id": "4b079f6f"
   },
   "outputs": [],
   "source": [
    "\n",
    "\n",
    "\n"
   ]
  },
  {
   "cell_type": "markdown",
   "metadata": {
    "id": "lssljr6Km48K"
   },
   "source": [
    "5) 변수 b에 '파이썬 배울수록 재미있죠?'를 저장하고 다섯 번째 문자를 출력하세요."
   ]
  },
  {
   "cell_type": "code",
   "execution_count": null,
   "metadata": {
    "id": "9af6f0a7"
   },
   "outputs": [],
   "source": [
    "\n",
    "\n",
    "\n"
   ]
  },
  {
   "cell_type": "markdown",
   "metadata": {
    "id": "xHa98IcSnDv_"
   },
   "source": [
    "6) 변수 b에 '파이썬 배울수록 재미있죠?'를 저장하고 여섯 번째 부터 마지막 문자까지 출력하세요."
   ]
  },
  {
   "cell_type": "code",
   "execution_count": null,
   "metadata": {
    "id": "b7eab123"
   },
   "outputs": [],
   "source": [
    "\n",
    "\n",
    "\n"
   ]
  },
  {
   "cell_type": "markdown",
   "metadata": {
    "id": "YTx9RfL0nPQf"
   },
   "source": [
    "7) 변수 b에 '파이썬 배울수록 재미있죠?'를 저장하고 뒤에서 세 번째 문자를 출력하세요."
   ]
  },
  {
   "cell_type": "code",
   "execution_count": null,
   "metadata": {
    "id": "82ce60b8"
   },
   "outputs": [],
   "source": [
    "\n",
    "\n",
    "\n"
   ]
  },
  {
   "cell_type": "markdown",
   "metadata": {
    "id": "qx3FEXJ-nay3"
   },
   "source": [
    "8) 변수 b에 '파이썬 배울수록 재미있죠?'를 저장하고 맨 뒤 다섯 문자를 출력하세요."
   ]
  },
  {
   "cell_type": "code",
   "execution_count": null,
   "metadata": {
    "id": "3db67d11"
   },
   "outputs": [],
   "source": [
    "\n",
    "\n",
    "\n"
   ]
  },
  {
   "cell_type": "markdown",
   "metadata": {
    "id": "fa936313"
   },
   "source": [
    "# 실습 #3: in, not in"
   ]
  },
  {
   "cell_type": "markdown",
   "metadata": {
    "id": "Fn70HfQ9n9cR"
   },
   "source": [
    "1) 변수 a에 '문자열을 다뤄 봅시다.'를 저장하고 문자열에 '문'이라는 문자가 있는지 확인하세요.\n",
    "\n",
    "- 힌트: 문자 in 문자열"
   ]
  },
  {
   "cell_type": "code",
   "execution_count": 4,
   "metadata": {
    "id": "8be0b61c"
   },
   "outputs": [
    {
     "name": "stdout",
     "output_type": "stream",
     "text": [
      "True\n"
     ]
    }
   ],
   "source": [
    "a = '문자열을 다뤄 봅시다.'\n",
    "print('문' in a)"
   ]
  },
  {
   "cell_type": "markdown",
   "metadata": {
    "id": "a7N7LxW2oI_i"
   },
   "source": [
    "2) 변수 a에 '문자열을 다뤄 봅시다.'를 저장하고 문자열에 '만'이라는 문자가 없는지 확인하세요.\n",
    "\n",
    "- 힌트: 문자 not in 문자열"
   ]
  },
  {
   "cell_type": "code",
   "execution_count": 5,
   "metadata": {
    "id": "5128b300"
   },
   "outputs": [
    {
     "name": "stdout",
     "output_type": "stream",
     "text": [
      "False\n"
     ]
    }
   ],
   "source": [
    "a = '문자열을 다뤄 봅시다.'\n",
    "print('문' not in a)"
   ]
  },
  {
   "cell_type": "markdown",
   "metadata": {
    "id": "51KzXoB3oeC1"
   },
   "source": [
    "3) 변수 b에 '파이썬 배울수록 재미있죠?'를 저장하고 문자열에 '배'라는 문자가 있는지 확인하세오."
   ]
  },
  {
   "cell_type": "code",
   "execution_count": null,
   "metadata": {
    "id": "f5596425"
   },
   "outputs": [],
   "source": [
    "\n",
    "\n",
    "\n"
   ]
  },
  {
   "cell_type": "markdown",
   "metadata": {
    "id": "A55ZWYGaoqf7"
   },
   "source": [
    "4) 변수 b에 '파이썬 배울수록 재미있죠?'를 저장하고 문자열에 '가'이라는 문자가 없는지 확인하세요."
   ]
  },
  {
   "cell_type": "code",
   "execution_count": null,
   "metadata": {
    "id": "820a03c6"
   },
   "outputs": [],
   "source": [
    "\n",
    "\n",
    "\n"
   ]
  },
  {
   "cell_type": "markdown",
   "metadata": {
    "id": "d2d4b9cb"
   },
   "source": [
    "# 실습 #4: 문자열 안에 문자열 넣기"
   ]
  },
  {
   "cell_type": "markdown",
   "metadata": {
    "id": "OuKFea0Io91y"
   },
   "source": [
    "1) 변수 a에 {}를 넣은 문자열 '이름: {}, 나이: {}'를 저장하고 .format()으로 적당한 값을 넣어 출력하세요."
   ]
  },
  {
   "cell_type": "code",
   "execution_count": 10,
   "metadata": {
    "id": "e9a66c46"
   },
   "outputs": [
    {
     "name": "stdout",
     "output_type": "stream",
     "text": [
      "이름: 박동환, 나이: 31\n"
     ]
    }
   ],
   "source": [
    "a = '이름: {}, 나이: {}'.format('박동환',31)\n",
    "print(a)\n",
    "\n"
   ]
  },
  {
   "cell_type": "markdown",
   "metadata": {
    "id": "ZRaFEi5FpM3T"
   },
   "source": [
    "2) 밖에서 선언한 변수 값을 문자열 안에 넣어서 출력해 봅니다.\n",
    "\n",
    "- 변수 name에는 이름, age에는 나이 값을 저장하고\n",
    "- 변수 a에는 f'문자열{변수}...' 형태를 사용해 위와 동일한 결과가 나오도록 출력하세요."
   ]
  },
  {
   "cell_type": "code",
   "execution_count": 11,
   "metadata": {
    "id": "f784c90c"
   },
   "outputs": [
    {
     "name": "stdout",
     "output_type": "stream",
     "text": [
      "이름: 박동환, 나이: 31\n"
     ]
    }
   ],
   "source": [
    "name = '박동환'\n",
    "age = 31\n",
    "a = f'이름: {name}, 나이: {age}'\n",
    "print(a)\n",
    "\n",
    "\n"
   ]
  },
  {
   "cell_type": "markdown",
   "metadata": {
    "id": "ugtIwJWypolH"
   },
   "source": [
    "3) 변수 b에 {}를 넣은 문자열 '{}은(는) {}원입니다.'를 저장하고 .format()으로 적당한 값을 넣어 출력하세요."
   ]
  },
  {
   "cell_type": "code",
   "execution_count": 12,
   "metadata": {
    "id": "f0f820d1"
   },
   "outputs": [
    {
     "name": "stdout",
     "output_type": "stream",
     "text": [
      "사과은(는) 100원입니다.\n"
     ]
    }
   ],
   "source": [
    "\n",
    "b= '{}은(는) {}원입니다.'.format('사과',100)\n",
    "print(b)\n",
    "\n"
   ]
  },
  {
   "cell_type": "markdown",
   "metadata": {
    "id": "kDdcwmVcqCx9"
   },
   "source": [
    "4) 밖에서 선언한 변수 값을 문자열 안에 넣어서 출력해 봅니다.\n",
    "\n",
    "- 변수 product에는 제품명, price에는 가격을 저정하고\n",
    "- 변수 b에는 f'문자열{변수}...' 형태를 사용해 위와 동일한 결과가 나오도록 출력하세요."
   ]
  },
  {
   "cell_type": "code",
   "execution_count": 14,
   "metadata": {
    "id": "e842dc6e"
   },
   "outputs": [
    {
     "name": "stdout",
     "output_type": "stream",
     "text": [
      "사과은(는) 100원입니다.\n"
     ]
    }
   ],
   "source": [
    "product = '사과'\n",
    "price = 100\n",
    "\n",
    "b = f'{product}은(는) {price}원입니다.'\n",
    "print(b)\n",
    "\n",
    "\n"
   ]
  },
  {
   "cell_type": "markdown",
   "metadata": {
    "id": "09124153"
   },
   "source": [
    "# 실습 #5: 여러 줄 문자열"
   ]
  },
  {
   "cell_type": "markdown",
   "metadata": {
    "id": "R596XVypqm-k"
   },
   "source": [
    "1) 아래와 같은 결과가 나오도록 변수 a에 문자열을 저장하고 출력하세요.\n",
    "\n",
    "\n",
    "        이름: 홍길동\n",
    "        나이: 48\n",
    "\n",
    "- 힌트: ''' '''를 사용해 봅시다."
   ]
  },
  {
   "cell_type": "code",
   "execution_count": 15,
   "metadata": {
    "id": "76dc675d"
   },
   "outputs": [
    {
     "name": "stdout",
     "output_type": "stream",
     "text": [
      "이름: 홍길동\n",
      "나이: 48\n"
     ]
    }
   ],
   "source": [
    "a =\"\"\"이름: 홍길동\n",
    "나이: 48\"\"\"\n",
    "print(a)"
   ]
  },
  {
   "cell_type": "markdown",
   "metadata": {
    "id": "Vj6D9G9xq7Ap"
   },
   "source": [
    "2) 아래와 같은 결과가 나오도록 변수 b에 문자열을 저장하고 출력하세요.\n",
    "\n",
    "        [전화번호부]\n",
    "        강우동: 010-1234-5678\n",
    "        김치국: 010-2346-1578\n",
    "        한국인: 010-3458-6712"
   ]
  },
  {
   "cell_type": "code",
   "execution_count": 17,
   "metadata": {
    "id": "f4ed0ea9"
   },
   "outputs": [
    {
     "name": "stdout",
     "output_type": "stream",
     "text": [
      "[전화번호부]\n",
      "강우동: 010-1234-5678\n",
      "김치국: 010-2346-1578\n",
      "한국인: 010-3458-6712\n"
     ]
    }
   ],
   "source": [
    "b = \"\"\"[전화번호부]\n",
    "강우동: 010-1234-5678\n",
    "김치국: 010-2346-1578\n",
    "한국인: 010-3458-6712\"\"\"\n",
    "\n",
    "print(b)\n"
   ]
  },
  {
   "cell_type": "markdown",
   "metadata": {
    "id": "9vHj-IAVrWoo"
   },
   "source": [
    "3) 아래와 같은 결과가 나오도록 변수 c에 f'''문자열{변수}...''' 형태를 사용해 문자열을 대입하여 출력하세요.\n",
    "\n",
    "- 단, 변수 product에 '아메리카노', count에 3, price에 4000을 대입합니다.\n",
    "\n",
    "\n",
    "        주문할게요.\n",
    "        아메리카노 3잔 주세요.\n",
    "        한 잔이 4000원 맞죠?\n"
   ]
  },
  {
   "cell_type": "code",
   "execution_count": 18,
   "metadata": {
    "id": "c9363f75"
   },
   "outputs": [
    {
     "name": "stdout",
     "output_type": "stream",
     "text": [
      "주문할게요.\n",
      "아메리카노 3잔 주세요.\n",
      "한 잔이 4000원 맞죠?\n"
     ]
    }
   ],
   "source": [
    "product ='아메리카노'\n",
    "count = 3\n",
    "price = 4000\n",
    "\n",
    "c = f\"\"\"주문할게요.\n",
    "{product} {count}잔 주세요.\n",
    "한 잔이 {price}원 맞죠?\"\"\"\n",
    "\n",
    "print(c)\n",
    "\n"
   ]
  },
  {
   "cell_type": "markdown",
   "metadata": {
    "id": "3ca22029"
   },
   "source": [
    "# 실습 #6: 문자열을 다루는 메서드들"
   ]
  },
  {
   "cell_type": "markdown",
   "metadata": {
    "id": "fUa4LHrHwiqL"
   },
   "source": [
    "1) 변수 a에 'I love you'를 저장하고 모든 문자를 대문자로 변환하여 출력하세요오.\n",
    "\n",
    "- 힌트: 문자열.upper()"
   ]
  },
  {
   "cell_type": "code",
   "execution_count": 19,
   "metadata": {
    "id": "e264b89c"
   },
   "outputs": [
    {
     "name": "stdout",
     "output_type": "stream",
     "text": [
      "I LOVE YOU\n"
     ]
    }
   ],
   "source": [
    "a = 'I love you'\n",
    "\n",
    "print(a.upper())\n"
   ]
  },
  {
   "cell_type": "markdown",
   "metadata": {
    "id": "ow9v0u8OwsUG"
   },
   "source": [
    "2) 변수 b에 'Life is a journey'를 저장하고 모든 문자를 대문자로 변환하여 출력하세요.\n"
   ]
  },
  {
   "cell_type": "code",
   "execution_count": 20,
   "metadata": {
    "id": "ac7705de"
   },
   "outputs": [
    {
     "name": "stdout",
     "output_type": "stream",
     "text": [
      "LIFE IS A JOURNEY\n"
     ]
    }
   ],
   "source": [
    "b = 'Life is a journey'\n",
    "\n",
    "print(b.upper())\n",
    "\n"
   ]
  },
  {
   "cell_type": "markdown",
   "metadata": {
    "id": "XT1bJWCAw54x"
   },
   "source": [
    "3) 변수 a에 'I Love You'를 저장하고 모든 문자를 소문자로 변환하여 출력하세요\n",
    "\n",
    "- 힌트: 문자열.lower()"
   ]
  },
  {
   "cell_type": "code",
   "execution_count": 21,
   "metadata": {
    "id": "d63c2d46"
   },
   "outputs": [
    {
     "name": "stdout",
     "output_type": "stream",
     "text": [
      "life is a journey\n"
     ]
    }
   ],
   "source": [
    "a = 'Life is a journey'\n",
    "print(a.lower())\n",
    "\n",
    "\n"
   ]
  },
  {
   "cell_type": "markdown",
   "metadata": {
    "id": "mjU0nIIJxIXY"
   },
   "source": [
    "4) 변수 b에 'LIFE is a JOURNEY'를 저장하고 모든 문자를 소문자로 변환하여 출력하세요.\n"
   ]
  },
  {
   "cell_type": "code",
   "execution_count": 23,
   "metadata": {
    "id": "3cfc5d69"
   },
   "outputs": [
    {
     "name": "stdout",
     "output_type": "stream",
     "text": [
      "life is a journey\n"
     ]
    }
   ],
   "source": [
    "\n",
    "b = 'LIFE is a JOURNEY'\n",
    "\n",
    "print(b.lower())\n",
    "\n"
   ]
  },
  {
   "cell_type": "markdown",
   "metadata": {
    "id": "-9QJEfGmxRF_"
   },
   "source": [
    "5) 변수 a에 'i love you'를 저장하고 첫 번째 문자만 대문자로 변환하여 출력하세요.\n",
    "\n",
    "- 힌트: 문자열.capitalize()"
   ]
  },
  {
   "cell_type": "code",
   "execution_count": 27,
   "metadata": {
    "id": "b8aa66e3"
   },
   "outputs": [
    {
     "name": "stdout",
     "output_type": "stream",
     "text": [
      "I love you\n"
     ]
    }
   ],
   "source": [
    "a = 'i love you'\n",
    "print(a.capitalize())"
   ]
  },
  {
   "cell_type": "markdown",
   "metadata": {
    "id": "2o_lvebqximw"
   },
   "source": [
    "6) 변수 b에 'Life Is A Journey'를 저장하고 첫 번째 문자만 대문자로, 나머지는 소문자로 변환하여 출력하세요.\n"
   ]
  },
  {
   "cell_type": "code",
   "execution_count": 26,
   "metadata": {
    "id": "838c5c43"
   },
   "outputs": [
    {
     "name": "stdout",
     "output_type": "stream",
     "text": [
      "Life is a journey\n"
     ]
    }
   ],
   "source": [
    "b = 'Life Is A Journey'\n",
    "print(b.capitalize())"
   ]
  },
  {
   "cell_type": "markdown",
   "metadata": {
    "id": "0_AJ6ODkx0gd"
   },
   "source": [
    "7) 리스트 a = ['사람', '코끼리', '낙타'] 일 때, 각각의 값 사이에 ', '이 들어가도록 a를 하나의 문자열로 결합하세요.\n",
    "\n",
    "- 힌트: 값 사이 들어갈 문자.join(리스트)"
   ]
  },
  {
   "cell_type": "code",
   "execution_count": 32,
   "metadata": {
    "id": "f6b4854c"
   },
   "outputs": [
    {
     "name": "stdout",
     "output_type": "stream",
     "text": [
      "사람,코끼리,낙타\n"
     ]
    }
   ],
   "source": [
    "a = ['사람', '코끼리', '낙타']\n",
    "\n",
    "t = ','.join(a)\n",
    "print(t)\n",
    "\n"
   ]
  },
  {
   "cell_type": "markdown",
   "metadata": {
    "id": "uLpCDkyyyBDo"
   },
   "source": [
    "8) 리스트 b = ['this', 'is', 'me']일 때, 각각의 값 사이에 공백(' ') 이 들어가도록 b를 하나의 값으로 결합하세요.\n"
   ]
  },
  {
   "cell_type": "code",
   "execution_count": 34,
   "metadata": {
    "id": "f93f337c"
   },
   "outputs": [
    {
     "name": "stdout",
     "output_type": "stream",
     "text": [
      "this is me\n"
     ]
    }
   ],
   "source": [
    "b = ['this', 'is', 'me']\n",
    "\n",
    "print(' '.join(b))\n"
   ]
  },
  {
   "cell_type": "markdown",
   "metadata": {
    "id": "RVJh4EAWyMRi"
   },
   "source": [
    "9) 변수 a에 '나는 파이썬을 배우고 있다.'를 저장하고 공백을 기준으로 분할하여 리스트 형태로 출력하세요.\n",
    "\n",
    "- 힌트: 문자열.split(분할의 기준이 될 값)"
   ]
  },
  {
   "cell_type": "code",
   "execution_count": 36,
   "metadata": {
    "id": "99de1e4b"
   },
   "outputs": [
    {
     "name": "stdout",
     "output_type": "stream",
     "text": [
      "['나는', '파이썬을', '배우고', '있다.']\n"
     ]
    }
   ],
   "source": [
    "a = '나는 파이썬을 배우고 있다.'\n",
    "\n",
    "b = a.split(' ')\n",
    "print(b)"
   ]
  },
  {
   "cell_type": "markdown",
   "metadata": {
    "id": "351-pzOayXdk"
   },
   "source": [
    "10) 변수 b에 '사람,코끼리,낙타'를 저장하고 콤마(',')를 기준으로 분할하여 리스트 형태로 출력하세요.\n"
   ]
  },
  {
   "cell_type": "code",
   "execution_count": 37,
   "metadata": {
    "id": "f5f4b827"
   },
   "outputs": [
    {
     "name": "stdout",
     "output_type": "stream",
     "text": [
      "['사람', '코끼리', '낙타']\n"
     ]
    }
   ],
   "source": [
    "b = '사람,코끼리,낙타'\n",
    "print(b.split(','))\n",
    "\n",
    "\n"
   ]
  },
  {
   "cell_type": "markdown",
   "metadata": {
    "id": "pcZuEOnFyqA8"
   },
   "source": [
    "11) 변수 c에 '010-1234-5678'을 저장하고 '-'를 기준으로 분할하여 리스트 형태로 출력하세요.\n"
   ]
  },
  {
   "cell_type": "code",
   "execution_count": 38,
   "metadata": {
    "id": "a5e92b68"
   },
   "outputs": [
    {
     "name": "stdout",
     "output_type": "stream",
     "text": [
      "['010', '1234', '5678']\n"
     ]
    }
   ],
   "source": [
    "c = '010-1234-5678'\n",
    "print(c.split('-'))\n"
   ]
  },
  {
   "cell_type": "markdown",
   "metadata": {
    "id": "fgZ20YYWy09N"
   },
   "source": [
    "12) 변수 a에 '     홍길동     '을 저장하고 왼쪽, 오른쪽, 양쪽 공백을 제거하여 각각 출력하세요.\n",
    "\n",
    "- 힌트: 문자열.lstrip(), 문자열.rstrip(), 문자열.strip()"
   ]
  },
  {
   "cell_type": "code",
   "execution_count": 41,
   "metadata": {
    "id": "0d07c7c6"
   },
   "outputs": [
    {
     "name": "stdout",
     "output_type": "stream",
     "text": [
      "홍길동 \n",
      " 홍길동\n",
      "홍길동\n"
     ]
    }
   ],
   "source": [
    "a = ' 홍길동 '\n",
    "print(a.lstrip())\n",
    "print(a.rstrip())\n",
    "print(a.strip())\n",
    "\n",
    "\n"
   ]
  },
  {
   "cell_type": "markdown",
   "metadata": {
    "id": "g83gLBXJy-Tf"
   },
   "source": [
    "13) 변수 b에 '    공백이   너무   많아요   '를 저장하고 왼쪽, 오른쪽, 양쪽 공백을 제거하여 각각 출력하세요.\n"
   ]
  },
  {
   "cell_type": "code",
   "execution_count": 42,
   "metadata": {
    "id": "1dcdcf96"
   },
   "outputs": [
    {
     "name": "stdout",
     "output_type": "stream",
     "text": [
      "공백이 너무 많아요 \n",
      " 공백이 너무 많아요\n",
      "공백이 너무 많아요\n"
     ]
    }
   ],
   "source": [
    "b =  ' 공백이 너무 많아요 '\n",
    "print(b.lstrip())\n",
    "print(b.rstrip())\n",
    "print(b.strip())\n",
    "\n"
   ]
  }
 ],
 "metadata": {
  "colab": {
   "collapsed_sections": [],
   "name": "실습02 - 문자열 자료형.ipynb",
   "provenance": []
  },
  "kernelspec": {
   "display_name": "Python 3",
   "language": "python",
   "name": "python3"
  },
  "language_info": {
   "codemirror_mode": {
    "name": "ipython",
    "version": 3
   },
   "file_extension": ".py",
   "mimetype": "text/x-python",
   "name": "python",
   "nbconvert_exporter": "python",
   "pygments_lexer": "ipython3",
   "version": "3.8.8"
  }
 },
 "nbformat": 4,
 "nbformat_minor": 4
}
