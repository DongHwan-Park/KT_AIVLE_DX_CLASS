{
 "cells": [
  {
   "cell_type": "markdown",
   "metadata": {
    "id": "BFhIXgdYoYGp"
   },
   "source": [
    "<center><img src='https://raw.githubusercontent.com/Jangrae/img/master/title.png' width=500/></center>"
   ]
  },
  {
   "cell_type": "markdown",
   "metadata": {
    "id": "knW4AvmePAtI"
   },
   "source": [
    "# 13.배열 다루기\n",
    "\n",
    "- Numpy 배열의 기본 개념을 이해합니다.\n",
    "- 1차원, 2차원, 3차원 배열을 만들 수 있습니다.\n",
    "- Reshape 기능을 사용해 배열 형태를 바꿀 수 있습니다.\n",
    "- 인덱싱과 슬라이싱으로 원하는 데이터를 조회할 수 있습니다.\n",
    "- 배열 사이의 기본적인 연산을 수행할 수 있습니다."
   ]
  },
  {
   "cell_type": "markdown",
   "metadata": {
    "id": "1QmK9QLhVqv1"
   },
   "source": [
    "## 13.1.라이브러리 불러오기\n",
    "\n",
    "- Numpy 배열을 사용하려면 우선 **numpy** 라이브러리를 불러와야 합니다.\n",
    "- numpy 라이브러리는 일반적으로 **np** 별칭을 붙여 불러옵니다."
   ]
  },
  {
   "cell_type": "code",
   "execution_count": null,
   "metadata": {
    "id": "QBxfYJR8Vqv1"
   },
   "outputs": [],
   "source": [
    "# 라이브러리 불러오기\n",
    "import numpy as np"
   ]
  },
  {
   "cell_type": "markdown",
   "metadata": {
    "id": "HS5jdd-JPAtQ"
   },
   "source": [
    "### [참고] 왜 배열?"
   ]
  },
  {
   "cell_type": "markdown",
   "metadata": {
    "id": "xd4IOz_yPAtR"
   },
   "source": [
    "**문제1**: 다음 리스트 각 요소에 2를 곱하세요."
   ]
  },
  {
   "cell_type": "code",
   "execution_count": null,
   "metadata": {
    "colab": {
     "base_uri": "https://localhost:8080/"
    },
    "executionInfo": {
     "elapsed": 741,
     "status": "ok",
     "timestamp": 1639451432226,
     "user": {
      "displayName": "Jangrae Lee",
      "photoUrl": "https://lh3.googleusercontent.com/a-/AOh14Gh1Pd8OuWJU2cv7uTt-fURrgvty7atx_Wtarmx0-A=s64",
      "userId": "08475661575434032088"
     },
     "user_tz": -540
    },
    "id": "Ug8fQ6bZPAtR",
    "outputId": "f704ed33-3d36-4598-ea6c-229831aae563"
   },
   "outputs": [],
   "source": [
    "# 리스트\n",
    "a = [1, 2, 3, 4, 5, 6, 7, 8, 9]\n",
    "\n",
    "# 2 곱하기? \n",
    "a = a * 2\n",
    "\n",
    "# 확인\n",
    "print(a)"
   ]
  },
  {
   "cell_type": "markdown",
   "metadata": {
    "id": "6dIdBQ2QPAtY"
   },
   "source": [
    "**문제2**: 다음 리스트 요소 중에서 짝수만 표시하세요."
   ]
  },
  {
   "cell_type": "code",
   "execution_count": null,
   "metadata": {
    "id": "HA89-TdsPAtZ"
   },
   "outputs": [],
   "source": [
    "# 리스트\n",
    "a = [1, 2, 3, 4, 5, 6, 7, 8, 9]\n",
    "\n",
    "# 짝수만 표시...몰라요ㅜ.ㅜ\n"
   ]
  },
  {
   "cell_type": "markdown",
   "metadata": {
    "id": "d6BM-w4sPAtd"
   },
   "source": [
    "**문제3**: 다음 배열 각 요소에 2를 곱하세요."
   ]
  },
  {
   "cell_type": "code",
   "execution_count": null,
   "metadata": {
    "colab": {
     "base_uri": "https://localhost:8080/"
    },
    "executionInfo": {
     "elapsed": 90,
     "status": "ok",
     "timestamp": 1639451432227,
     "user": {
      "displayName": "Jangrae Lee",
      "photoUrl": "https://lh3.googleusercontent.com/a-/AOh14Gh1Pd8OuWJU2cv7uTt-fURrgvty7atx_Wtarmx0-A=s64",
      "userId": "08475661575434032088"
     },
     "user_tz": -540
    },
    "id": "B4DGWLgkPAte",
    "outputId": "e926aadd-7891-431b-bbf3-9b39e571dea0"
   },
   "outputs": [],
   "source": [
    "# 배열\n",
    "a = np.array([1, 2, 3, 4, 5, 6, 7, 8, 9])\n",
    "\n",
    "# 확인\n",
    "print(a)\n",
    "\n",
    "# 2 곱하기\n",
    "\n",
    "\n",
    "# 확인\n",
    "print(a)"
   ]
  },
  {
   "cell_type": "markdown",
   "metadata": {
    "id": "WV4U5CInPAtj"
   },
   "source": [
    "**문제4**: 다음 배열 요소 중에서 짝수만 표시하세요."
   ]
  },
  {
   "cell_type": "code",
   "execution_count": null,
   "metadata": {
    "colab": {
     "base_uri": "https://localhost:8080/"
    },
    "executionInfo": {
     "elapsed": 88,
     "status": "ok",
     "timestamp": 1639451432228,
     "user": {
      "displayName": "Jangrae Lee",
      "photoUrl": "https://lh3.googleusercontent.com/a-/AOh14Gh1Pd8OuWJU2cv7uTt-fURrgvty7atx_Wtarmx0-A=s64",
      "userId": "08475661575434032088"
     },
     "user_tz": -540
    },
    "id": "Hpndy576PAtk",
    "outputId": "87df4d20-f43f-413c-c5e8-bfcc55d30061"
   },
   "outputs": [],
   "source": [
    "# 배열\n",
    "a = np.array([1, 2, 3, 4, 5, 6, 7, 8, 9])\n",
    "\n",
    "# 확인\n",
    "print(a)\n",
    "\n",
    "# 짝수만 표시\n"
   ]
  },
  {
   "cell_type": "markdown",
   "metadata": {
    "id": "XPklNj6HVqwF"
   },
   "source": [
    "## 13.2.배열 만들기\n",
    "\n",
    "- 편의를 위해 **Numpy 배열**을 그냥 **배열**이라고 부르기로 합니다.\n",
    "- 이후 데이터 처리시 배열로 변환해 연산을 하거나, 결과가 배열로 표시되는 경우가 있습니다.\n",
    "- 배열에 대한 개념은 정확히 파악해 두기를 권고합니다."
   ]
  },
  {
   "cell_type": "markdown",
   "metadata": {
    "id": "aPhtjq5SVqwG"
   },
   "source": [
    "### 13.2.1.용어 정의"
   ]
  },
  {
   "cell_type": "markdown",
   "metadata": {
    "id": "SCZ06y9XVqwG"
   },
   "source": [
    "<img src='https://raw.githubusercontent.com/Jangrae/img/master/array.png' width=300 align=\"left\"/>"
   ]
  },
  {
   "cell_type": "markdown",
   "metadata": {
    "id": "v6_mxJENNgqI"
   },
   "source": [
    "**[용어]**\n",
    "- axis: 배열의 각 축\n",
    "- rank: 축의 개수\n",
    "- shape: 축의 길이, 배열의 크기\n",
    "\n",
    "  \n",
    "**[3 x 4 배열의 경우]**\n",
    "- axis 0 과 axis 1 을 갖는 2차원 배열\n",
    "- rank 2 array \n",
    "- shape는 (3, 4)"
   ]
  },
  {
   "cell_type": "markdown",
   "metadata": {
    "id": "d1nVJucfVqwI"
   },
   "source": [
    "### 13.2.2.배열 만들기\n",
    "\n",
    "- **np.array() 함수**를 사용해서 배열을 만듭니다.\n",
    "- 대부분 **리스트**로부터 배열을 만들거나, 머신러닝 관련 함수 결괏값이 배열이 됩니다."
   ]
  },
  {
   "cell_type": "markdown",
   "metadata": {
    "id": "4a-yLEsQyz1m"
   },
   "source": [
    "**1) 1차원 배열 만들기**"
   ]
  },
  {
   "cell_type": "code",
   "execution_count": null,
   "metadata": {
    "colab": {
     "base_uri": "https://localhost:8080/"
    },
    "executionInfo": {
     "elapsed": 86,
     "status": "ok",
     "timestamp": 1639451432228,
     "user": {
      "displayName": "Jangrae Lee",
      "photoUrl": "https://lh3.googleusercontent.com/a-/AOh14Gh1Pd8OuWJU2cv7uTt-fURrgvty7atx_Wtarmx0-A=s64",
      "userId": "08475661575434032088"
     },
     "user_tz": -540
    },
    "id": "zviakX46zEzg",
    "outputId": "60eada52-9dd5-492d-f93c-d9b71337c7c2",
    "scrolled": false
   },
   "outputs": [],
   "source": [
    "# 1차원 리스트\n",
    "a1 = [1, 2, 3, 4, 5]\n",
    "\n",
    "# 배열로 변환\n",
    "b1 = \n",
    "\n",
    "# 확인\n",
    "print(b1)"
   ]
  },
  {
   "cell_type": "markdown",
   "metadata": {
    "id": "1LZ0lOs_y3qY"
   },
   "source": [
    "**2) 2차원 배열 만들기**"
   ]
  },
  {
   "cell_type": "code",
   "execution_count": null,
   "metadata": {
    "colab": {
     "base_uri": "https://localhost:8080/"
    },
    "executionInfo": {
     "elapsed": 85,
     "status": "ok",
     "timestamp": 1639451432229,
     "user": {
      "displayName": "Jangrae Lee",
      "photoUrl": "https://lh3.googleusercontent.com/a-/AOh14Gh1Pd8OuWJU2cv7uTt-fURrgvty7atx_Wtarmx0-A=s64",
      "userId": "08475661575434032088"
     },
     "user_tz": -540
    },
    "id": "3t8-tbQaznfw",
    "outputId": "7249f9ea-7050-4b44-90c4-affa8b31b569",
    "scrolled": false
   },
   "outputs": [],
   "source": [
    "# 2차원 리스트 \n",
    "# a2 = [[1.5, 2.5, 3.2], [4.2, 5.7, 6.4]]\n",
    "a2 = [[1.5, 2.5, 3.2], \n",
    "      [4.2, 5.7, 6.4]]\n",
    "\n",
    "# 배열로 변환\n",
    "b2 = \n",
    "\n",
    "# 확인\n",
    "print(b2)"
   ]
  },
  {
   "cell_type": "markdown",
   "metadata": {
    "id": "e7E9ev7by3zY"
   },
   "source": [
    "**3) 3차원 배열 만들기**"
   ]
  },
  {
   "cell_type": "code",
   "execution_count": null,
   "metadata": {
    "colab": {
     "base_uri": "https://localhost:8080/"
    },
    "executionInfo": {
     "elapsed": 83,
     "status": "ok",
     "timestamp": 1639451432229,
     "user": {
      "displayName": "Jangrae Lee",
      "photoUrl": "https://lh3.googleusercontent.com/a-/AOh14Gh1Pd8OuWJU2cv7uTt-fURrgvty7atx_Wtarmx0-A=s64",
      "userId": "08475661575434032088"
     },
     "user_tz": -540
    },
    "id": "y4QCIoCvz3ov",
    "outputId": "1dd980fc-077e-4dee-dc00-50ed04fd35b2",
    "scrolled": false
   },
   "outputs": [],
   "source": [
    "# 3차원 리스트\n",
    "# a3 = [[[1, 3, 1], [4, 7, 6], [8, 3, 4]], [[6, 2, 4], [8, 1, 5], [3, 5, 9]]]\n",
    "a3 = [[[1, 3, 1],\n",
    "       [4, 7, 6],\n",
    "       [8, 3, 4]],\n",
    "      [[6, 2, 4],  \n",
    "       [8, 1, 5],\n",
    "       [3, 5, 9]]]\n",
    "\n",
    "# 배열로 변환\n",
    "b3 = \n",
    "\n",
    "# 확인\n",
    "print(b3)"
   ]
  },
  {
   "cell_type": "markdown",
   "metadata": {
    "id": "vxMxUvQIVqwI"
   },
   "source": [
    "### 13.2.3.배열 정보 확인\n",
    "\n",
    "- 배열 정보를 확인하는 다음 속성들을 기억하시기 바랍니다.\n",
    "- 특히 shape 속성은 이후에도 많이 사용될 것입니다."
   ]
  },
  {
   "cell_type": "markdown",
   "metadata": {
    "id": "U5qjQi8E1pw0"
   },
   "source": [
    "**1) 차원 확인**\n",
    "\n",
    "- ndim 속성으로 배열 차원을 확인합니다."
   ]
  },
  {
   "cell_type": "code",
   "execution_count": null,
   "metadata": {
    "colab": {
     "base_uri": "https://localhost:8080/"
    },
    "executionInfo": {
     "elapsed": 82,
     "status": "ok",
     "timestamp": 1639451432230,
     "user": {
      "displayName": "Jangrae Lee",
      "photoUrl": "https://lh3.googleusercontent.com/a-/AOh14Gh1Pd8OuWJU2cv7uTt-fURrgvty7atx_Wtarmx0-A=s64",
      "userId": "08475661575434032088"
     },
     "user_tz": -540
    },
    "id": "FxXWyFPyx3P-",
    "outputId": "87dcfeda-e487-40ff-de2e-f51572dadf91",
    "scrolled": true
   },
   "outputs": [],
   "source": [
    "# 차원 확인\n",
    "\n",
    "\n"
   ]
  },
  {
   "cell_type": "markdown",
   "metadata": {
    "id": "hDchV5CI1vX4"
   },
   "source": [
    "**2) 형태(크기) 확인**\n",
    "\n",
    "- shape 속성으로 배열 형태를 확인합니다.\n",
    "- 결과는 다음과 같은 형태의 튜플로 표시됩니다.\n",
    "    - 1차원: (x, )\n",
    "    - 2차원: (x, y)\n",
    "    - 3차원: (x, y, z)\n",
    "- 앞에서 부터 axis 0, axis 1, axis 2의 크기를 의미합니다."
   ]
  },
  {
   "cell_type": "code",
   "execution_count": null,
   "metadata": {
    "colab": {
     "base_uri": "https://localhost:8080/"
    },
    "executionInfo": {
     "elapsed": 80,
     "status": "ok",
     "timestamp": 1639451432230,
     "user": {
      "displayName": "Jangrae Lee",
      "photoUrl": "https://lh3.googleusercontent.com/a-/AOh14Gh1Pd8OuWJU2cv7uTt-fURrgvty7atx_Wtarmx0-A=s64",
      "userId": "08475661575434032088"
     },
     "user_tz": -540
    },
    "id": "_hQjcnXx1oZl",
    "outputId": "0e055995-0e08-476e-83a2-89a2cdd79c0e",
    "scrolled": true
   },
   "outputs": [],
   "source": [
    "# 형태(크기) 확인\n",
    "\n",
    "\n"
   ]
  },
  {
   "cell_type": "markdown",
   "metadata": {
    "id": "8jV7CzBY1yr_"
   },
   "source": [
    "**3) 요소 자료형 확인**\n",
    "\n",
    "- dtype 속성으로 배열에 포함된 요소들의 자료형을 확인합니다.\n",
    "- 배열은 한 가지 자료형만 가질 수 있다는 특징이 있습니다."
   ]
  },
  {
   "cell_type": "code",
   "execution_count": null,
   "metadata": {
    "colab": {
     "base_uri": "https://localhost:8080/"
    },
    "executionInfo": {
     "elapsed": 79,
     "status": "ok",
     "timestamp": 1639451432231,
     "user": {
      "displayName": "Jangrae Lee",
      "photoUrl": "https://lh3.googleusercontent.com/a-/AOh14Gh1Pd8OuWJU2cv7uTt-fURrgvty7atx_Wtarmx0-A=s64",
      "userId": "08475661575434032088"
     },
     "user_tz": -540
    },
    "id": "Y96maPXA1olN",
    "outputId": "3de9437e-df16-45b8-84a0-e4200518e194",
    "scrolled": true
   },
   "outputs": [],
   "source": [
    "# 요소 자료형 형식 확인\n",
    "\n",
    "\n"
   ]
  },
  {
   "cell_type": "markdown",
   "metadata": {
    "id": "O7V_CL-H6zRc"
   },
   "source": [
    "<img src='https://raw.githubusercontent.com/jangrae/img/master/practice_01.png' width=120 align=\"left\"/>"
   ]
  },
  {
   "cell_type": "markdown",
   "metadata": {
    "id": "lP-D4JwORo9w"
   },
   "source": [
    "[문1] numpy 라이브러리를 np 별칭을 주어 불러오세요."
   ]
  },
  {
   "cell_type": "code",
   "execution_count": null,
   "metadata": {
    "id": "4kL9ztRaSJJj"
   },
   "outputs": [],
   "source": [
    "# 라이브러리 불러오기\n"
   ]
  },
  {
   "cell_type": "markdown",
   "metadata": {
    "id": "kUQxv1BpNlar"
   },
   "source": [
    "[문2] 다음에 주어진 데이터를 갖는 1차원 배열을 만든 후 ndim, shape, dtype을 확인해 보세요."
   ]
  },
  {
   "cell_type": "code",
   "execution_count": null,
   "metadata": {
    "colab": {
     "base_uri": "https://localhost:8080/"
    },
    "executionInfo": {
     "elapsed": 77,
     "status": "ok",
     "timestamp": 1639451432232,
     "user": {
      "displayName": "Jangrae Lee",
      "photoUrl": "https://lh3.googleusercontent.com/a-/AOh14Gh1Pd8OuWJU2cv7uTt-fURrgvty7atx_Wtarmx0-A=s64",
      "userId": "08475661575434032088"
     },
     "user_tz": -540
    },
    "id": "9pACMW_t7CBN",
    "outputId": "f049367d-abdb-4cfb-ce9a-6199c7671371"
   },
   "outputs": [],
   "source": [
    "# 10, 11, 12, 13, 14, 15\n",
    "\n",
    "# 배열 만들기\n",
    "\n",
    "\n",
    "# 확인\n",
    "\n",
    "\n",
    "# 정보 확인\n",
    "\n",
    "\n"
   ]
  },
  {
   "cell_type": "markdown",
   "metadata": {
    "id": "YrBtd57cNpK4"
   },
   "source": [
    "[문3] 다음에 주어진 리스트를 요소로 갖는 2차원 배열을 만든 후 ndim, shape, dtype을 확인해 보세요"
   ]
  },
  {
   "cell_type": "code",
   "execution_count": null,
   "metadata": {
    "colab": {
     "base_uri": "https://localhost:8080/"
    },
    "executionInfo": {
     "elapsed": 75,
     "status": "ok",
     "timestamp": 1639451432232,
     "user": {
      "displayName": "Jangrae Lee",
      "photoUrl": "https://lh3.googleusercontent.com/a-/AOh14Gh1Pd8OuWJU2cv7uTt-fURrgvty7atx_Wtarmx0-A=s64",
      "userId": "08475661575434032088"
     },
     "user_tz": -540
    },
    "id": "C9GwieJP8_Oe",
    "outputId": "bd92cdf3-eb52-4df2-d6cc-f09120527240",
    "scrolled": true
   },
   "outputs": [],
   "source": [
    "a = [[11, 12, 13, 14], [15, 16, 17, 18], [19, 20, 21, 22]]\n",
    "\n",
    "# 배열 만들기\n",
    "\n",
    "\n",
    "# 확인\n",
    "\n",
    "\n",
    "# 정보 확인\n",
    "\n",
    "\n"
   ]
  },
  {
   "cell_type": "markdown",
   "metadata": {
    "id": "T90fbLEsVqwV"
   },
   "source": [
    "### 13.2.4.Reshape\n",
    "\n",
    "- 배열을 사용할 때 다양한 형태(Shape)로 변환할 필요가 있습니다.\n",
    "- 배열에 포함된 **요소가 사라지지 않는 형태**라면 자유롭게 변환할 수 있습니다.\n",
    "- (3, 4) → (2, 6) → (4, 3) → (12, 1) → (6, 2) 등등 요소 개수만 변하지 않으면 됩니다."
   ]
  },
  {
   "cell_type": "code",
   "execution_count": null,
   "metadata": {
    "colab": {
     "base_uri": "https://localhost:8080/"
    },
    "executionInfo": {
     "elapsed": 74,
     "status": "ok",
     "timestamp": 1639451432233,
     "user": {
      "displayName": "Jangrae Lee",
      "photoUrl": "https://lh3.googleusercontent.com/a-/AOh14Gh1Pd8OuWJU2cv7uTt-fURrgvty7atx_Wtarmx0-A=s64",
      "userId": "08475661575434032088"
     },
     "user_tz": -540
    },
    "id": "75VTZ0vqVqwf",
    "outputId": "afc22a12-0b31-4d4a-fc35-3071e0d638ce"
   },
   "outputs": [],
   "source": [
    "# (2, 3) 형태의 2차원 배열 만들기\n",
    "a = np.array([[1, 2, 3], \n",
    "              [4, 5, 6]])\n",
    "\n",
    "# 확인\n",
    "print(a)"
   ]
  },
  {
   "cell_type": "markdown",
   "metadata": {
    "id": "foYfLnZaVqwf"
   },
   "source": [
    "**1) (2, 3) → (3, 2)**"
   ]
  },
  {
   "cell_type": "code",
   "execution_count": null,
   "metadata": {
    "colab": {
     "base_uri": "https://localhost:8080/"
    },
    "executionInfo": {
     "elapsed": 72,
     "status": "ok",
     "timestamp": 1639451432233,
     "user": {
      "displayName": "Jangrae Lee",
      "photoUrl": "https://lh3.googleusercontent.com/a-/AOh14Gh1Pd8OuWJU2cv7uTt-fURrgvty7atx_Wtarmx0-A=s64",
      "userId": "08475661575434032088"
     },
     "user_tz": -540
    },
    "id": "4ZGXjZEKVqwj",
    "outputId": "ffbb7151-fffc-40cb-a668-8858ce8a37ca"
   },
   "outputs": [],
   "source": [
    "# (3, 2) 형태의 2차원 배열로 Reshape\n",
    "b = \n",
    "\n",
    "# 확인\n",
    "print(b)"
   ]
  },
  {
   "cell_type": "markdown",
   "metadata": {
    "id": "lDGU9KuXVqwk"
   },
   "source": [
    "**2) (2, 3) → (6,)**"
   ]
  },
  {
   "cell_type": "code",
   "execution_count": null,
   "metadata": {
    "colab": {
     "base_uri": "https://localhost:8080/"
    },
    "executionInfo": {
     "elapsed": 71,
     "status": "ok",
     "timestamp": 1639451432234,
     "user": {
      "displayName": "Jangrae Lee",
      "photoUrl": "https://lh3.googleusercontent.com/a-/AOh14Gh1Pd8OuWJU2cv7uTt-fURrgvty7atx_Wtarmx0-A=s64",
      "userId": "08475661575434032088"
     },
     "user_tz": -540
    },
    "id": "2JY0g6WAVqwk",
    "outputId": "1ea24fc9-f244-4655-d675-d8b350b33ddd"
   },
   "outputs": [],
   "source": [
    "# 1차원 배열로 Reshape\n",
    "c = \n",
    "\n",
    "# 확인\n",
    "print(c)"
   ]
  },
  {
   "cell_type": "markdown",
   "metadata": {
    "id": "pzyFKxilVqwm"
   },
   "source": [
    "**3) -1의 편리성**\n",
    "\n",
    "- **(*m*, -1)** 또는 **(-1, *n*)** 처럼 사용해 행 또는 열 크기 한 쪽만 지정할 수 있습니다."
   ]
  },
  {
   "cell_type": "code",
   "execution_count": null,
   "metadata": {
    "colab": {
     "base_uri": "https://localhost:8080/"
    },
    "executionInfo": {
     "elapsed": 70,
     "status": "ok",
     "timestamp": 1639451432234,
     "user": {
      "displayName": "Jangrae Lee",
      "photoUrl": "https://lh3.googleusercontent.com/a-/AOh14Gh1Pd8OuWJU2cv7uTt-fURrgvty7atx_Wtarmx0-A=s64",
      "userId": "08475661575434032088"
     },
     "user_tz": -540
    },
    "id": "rFyQiMDJVqwn",
    "outputId": "b02d5f02-1473-4e61-bb77-a411cac1db8e"
   },
   "outputs": [],
   "source": [
    "# (2, 3) 형태의 2차원 배열 만들기\n",
    "a = np.array([[1, 2, 3], \n",
    "              [4, 5, 6]])\n",
    "\n",
    "# 확인\n",
    "print(a)"
   ]
  },
  {
   "cell_type": "code",
   "execution_count": null,
   "metadata": {
    "colab": {
     "base_uri": "https://localhost:8080/"
    },
    "executionInfo": {
     "elapsed": 68,
     "status": "ok",
     "timestamp": 1639451432234,
     "user": {
      "displayName": "Jangrae Lee",
      "photoUrl": "https://lh3.googleusercontent.com/a-/AOh14Gh1Pd8OuWJU2cv7uTt-fURrgvty7atx_Wtarmx0-A=s64",
      "userId": "08475661575434032088"
     },
     "user_tz": -540
    },
    "id": "sCjMu_Dv3P7s",
    "outputId": "81009bc5-bf40-4b6e-f3ae-4bc3a3a54046"
   },
   "outputs": [],
   "source": [
    "# reshape(m, -1) 형태로 지정하여 Reshape 가능\n",
    "print(a.reshape(1, ))\n",
    "print()\n",
    "\n",
    "print(a.reshape(2,))\n",
    "print()\n",
    "\n",
    "print(a.reshape(3, ))\n",
    "print()\n",
    "\n",
    "print(a.reshape(4, ))\n",
    "print(a.reshape(5, ))\n",
    "\n",
    "print(a.reshape(6, ))"
   ]
  },
  {
   "cell_type": "markdown",
   "metadata": {
    "id": "-hv9haY7DLyU"
   },
   "source": [
    "<img src='https://raw.githubusercontent.com/jangrae/img/master/practice_01.png' width=120 align=\"left\"/>"
   ]
  },
  {
   "cell_type": "markdown",
   "metadata": {
    "id": "rNl0nrGhN8Fn"
   },
   "source": [
    "[문1] 다음에 주어진 배열의 형태(shape)를 확인한 후 요구되는 형태로 바꿔 보세요."
   ]
  },
  {
   "cell_type": "code",
   "execution_count": null,
   "metadata": {
    "colab": {
     "base_uri": "https://localhost:8080/"
    },
    "executionInfo": {
     "elapsed": 67,
     "status": "ok",
     "timestamp": 1639451432235,
     "user": {
      "displayName": "Jangrae Lee",
      "photoUrl": "https://lh3.googleusercontent.com/a-/AOh14Gh1Pd8OuWJU2cv7uTt-fURrgvty7atx_Wtarmx0-A=s64",
      "userId": "08475661575434032088"
     },
     "user_tz": -540
    },
    "id": "-fsZhQe8DLyf",
    "outputId": "d4251315-f49f-4d92-b6ca-36f8bacf4fd7"
   },
   "outputs": [],
   "source": [
    "# 배열 만들기\n",
    "a = np.array([[11, 12, 13, 14], \n",
    "              [15, 16, 17, 18], \n",
    "              [19, 20, 21, 22]])\n",
    "\n",
    "# 배열 형태 확인\n",
    "\n",
    "\n",
    "# (4, ?))형태의 2차원 배열\n",
    "a1 = \n",
    "\n",
    "# 확인\n",
    "print(a1)\n",
    "\n",
    "# (2, ?) 형태의 2차원 배열\n",
    "a2 = \n",
    "\n",
    "# 확인\n",
    "print(a2)"
   ]
  },
  {
   "cell_type": "markdown",
   "metadata": {
    "id": "TeXXnBpvVqxn"
   },
   "source": [
    "## 13.3.배열 인덱싱과 슬라이싱\n",
    "\n",
    "- 지금까지 다룬 자료형들 보다 배열 인덱싱과 슬라이싱이 조금 어렵습니다."
   ]
  },
  {
   "cell_type": "markdown",
   "metadata": {
    "id": "a0bmoimPogx6"
   },
   "source": [
    "### 13.3.1.인덱싱\n",
    "\n",
    "- 1차원 배열은 리스트와 방법이 같으므로 설명을 생략합니다.\n",
    "- **배열[행, 열]** 형태로 특정 위치의 요소를 조회합니다.\n",
    "- **배열[[행1,행2,..], :]** 또는 **배열[[행1,행2,..]]** 형태로 특정 행을 조회합니다.\n",
    "- **배열[:, [열1,열2,...]]** 형태로 특정 열을 조회합니다.\n",
    "- **배열[[행1,행2,...], [열1,열2,...]]** 형태로 특정 행의 특정 열을 조회합니다."
   ]
  },
  {
   "cell_type": "code",
   "execution_count": null,
   "metadata": {
    "colab": {
     "base_uri": "https://localhost:8080/"
    },
    "executionInfo": {
     "elapsed": 63,
     "status": "ok",
     "timestamp": 1639451432235,
     "user": {
      "displayName": "Jangrae Lee",
      "photoUrl": "https://lh3.googleusercontent.com/a-/AOh14Gh1Pd8OuWJU2cv7uTt-fURrgvty7atx_Wtarmx0-A=s64",
      "userId": "08475661575434032088"
     },
     "user_tz": -540
    },
    "id": "3pEA6dweogyY",
    "outputId": "412e8378-e228-4986-ff64-ccac9228325a",
    "scrolled": true
   },
   "outputs": [],
   "source": [
    "# (3, 3) 형태의 2차원 배열 만들기\n",
    "a = np.array([[1, 2, 3],\n",
    "              [4, 5, 6], \n",
    "              [7, 8, 9]])\n",
    "\n",
    "# 확인\n",
    "print(a)             "
   ]
  },
  {
   "cell_type": "markdown",
   "metadata": {
    "id": "NkzltkO3D1Ce"
   },
   "source": [
    "**1) 요소 조회**"
   ]
  },
  {
   "cell_type": "code",
   "execution_count": null,
   "metadata": {
    "colab": {
     "base_uri": "https://localhost:8080/"
    },
    "executionInfo": {
     "elapsed": 62,
     "status": "ok",
     "timestamp": 1639451432236,
     "user": {
      "displayName": "Jangrae Lee",
      "photoUrl": "https://lh3.googleusercontent.com/a-/AOh14Gh1Pd8OuWJU2cv7uTt-fURrgvty7atx_Wtarmx0-A=s64",
      "userId": "08475661575434032088"
     },
     "user_tz": -540
    },
    "id": "4o-IlSc_Vqx3",
    "outputId": "8aa7afcc-4467-4585-a374-dd96d8c34cdf",
    "scrolled": true
   },
   "outputs": [],
   "source": [
    "# 첫 번째 행, 두 번째 열 요소 조회\n",
    "print(a[0, 1])"
   ]
  },
  {
   "cell_type": "markdown",
   "metadata": {
    "id": "8T6dhlVWD3kF"
   },
   "source": [
    "**2) 행 조회**"
   ]
  },
  {
   "cell_type": "code",
   "execution_count": null,
   "metadata": {
    "colab": {
     "base_uri": "https://localhost:8080/"
    },
    "executionInfo": {
     "elapsed": 60,
     "status": "ok",
     "timestamp": 1639451432236,
     "user": {
      "displayName": "Jangrae Lee",
      "photoUrl": "https://lh3.googleusercontent.com/a-/AOh14Gh1Pd8OuWJU2cv7uTt-fURrgvty7atx_Wtarmx0-A=s64",
      "userId": "08475661575434032088"
     },
     "user_tz": -540
    },
    "id": "SVIgu5HIDwv-",
    "outputId": "fb73a6be-98d2-47a7-9713-177b0ca1e83c",
    "scrolled": true
   },
   "outputs": [],
   "source": [
    "# 첫 번째, 두 번째 행 조회\n",
    "# print(a[[0, 1], :])\n",
    "print(a[[0, 1]])"
   ]
  },
  {
   "cell_type": "code",
   "execution_count": null,
   "metadata": {
    "colab": {
     "base_uri": "https://localhost:8080/"
    },
    "executionInfo": {
     "elapsed": 60,
     "status": "ok",
     "timestamp": 1639451432237,
     "user": {
      "displayName": "Jangrae Lee",
      "photoUrl": "https://lh3.googleusercontent.com/a-/AOh14Gh1Pd8OuWJU2cv7uTt-fURrgvty7atx_Wtarmx0-A=s64",
      "userId": "08475661575434032088"
     },
     "user_tz": -540
    },
    "id": "5zK4ZWKFChlL",
    "outputId": "ea4946d4-50a4-4d24-ddc8-e6a6ef0d11ba",
    "scrolled": true
   },
   "outputs": [],
   "source": [
    "# 첫 번째, 두 번째, 세 번째 행 조회\n",
    "# print(a[[0, 1, 2], :])\n",
    "print(a[[0, 1, 2]])"
   ]
  },
  {
   "cell_type": "markdown",
   "metadata": {
    "id": "r4yxgfBaD9z0"
   },
   "source": [
    "**3) 열 조회**"
   ]
  },
  {
   "cell_type": "code",
   "execution_count": null,
   "metadata": {
    "colab": {
     "base_uri": "https://localhost:8080/"
    },
    "executionInfo": {
     "elapsed": 58,
     "status": "ok",
     "timestamp": 1639451432237,
     "user": {
      "displayName": "Jangrae Lee",
      "photoUrl": "https://lh3.googleusercontent.com/a-/AOh14Gh1Pd8OuWJU2cv7uTt-fURrgvty7atx_Wtarmx0-A=s64",
      "userId": "08475661575434032088"
     },
     "user_tz": -540
    },
    "id": "nHwy3_ZbCeBf",
    "outputId": "0b15ed3b-b19e-4dc0-8242-2bbdf77bce77",
    "scrolled": false
   },
   "outputs": [],
   "source": [
    "# 첫 번째, 두 번째 열 조회\n",
    "print(a[:, [0, 1]])"
   ]
  },
  {
   "cell_type": "markdown",
   "metadata": {
    "id": "Qi3_faenVqx-"
   },
   "source": [
    "**4) 행, 열 조회**"
   ]
  },
  {
   "cell_type": "code",
   "execution_count": null,
   "metadata": {
    "colab": {
     "base_uri": "https://localhost:8080/"
    },
    "executionInfo": {
     "elapsed": 57,
     "status": "ok",
     "timestamp": 1639451432238,
     "user": {
      "displayName": "Jangrae Lee",
      "photoUrl": "https://lh3.googleusercontent.com/a-/AOh14Gh1Pd8OuWJU2cv7uTt-fURrgvty7atx_Wtarmx0-A=s64",
      "userId": "08475661575434032088"
     },
     "user_tz": -540
    },
    "id": "48FLikidVqx-",
    "outputId": "9a81b094-157b-44f3-aa87-8de6b5075aa8",
    "scrolled": true
   },
   "outputs": [],
   "source": [
    "# 배열 확인\n",
    "print(a)"
   ]
  },
  {
   "cell_type": "code",
   "execution_count": null,
   "metadata": {
    "colab": {
     "base_uri": "https://localhost:8080/"
    },
    "executionInfo": {
     "elapsed": 56,
     "status": "ok",
     "timestamp": 1639451432238,
     "user": {
      "displayName": "Jangrae Lee",
      "photoUrl": "https://lh3.googleusercontent.com/a-/AOh14Gh1Pd8OuWJU2cv7uTt-fURrgvty7atx_Wtarmx0-A=s64",
      "userId": "08475661575434032088"
     },
     "user_tz": -540
    },
    "id": "WtxlnFlzogzm",
    "outputId": "330407f3-0204-4120-db1c-15010ab4aa74"
   },
   "outputs": [],
   "source": [
    "# 두 번째 행 두 번째 열의 요소 조회\n",
    "print(a[[1], [1]])"
   ]
  },
  {
   "cell_type": "code",
   "execution_count": null,
   "metadata": {
    "colab": {
     "base_uri": "https://localhost:8080/"
    },
    "executionInfo": {
     "elapsed": 54,
     "status": "ok",
     "timestamp": 1639451432238,
     "user": {
      "displayName": "Jangrae Lee",
      "photoUrl": "https://lh3.googleusercontent.com/a-/AOh14Gh1Pd8OuWJU2cv7uTt-fURrgvty7atx_Wtarmx0-A=s64",
      "userId": "08475661575434032088"
     },
     "user_tz": -540
    },
    "id": "NjWQiPULogzq",
    "outputId": "83942df1-4283-4565-9604-a24ca9ec8761"
   },
   "outputs": [],
   "source": [
    "# 세 번째 행 두 번째 열의 요소 조회\n",
    "print(a[[2], [1]])"
   ]
  },
  {
   "cell_type": "code",
   "execution_count": null,
   "metadata": {
    "colab": {
     "base_uri": "https://localhost:8080/"
    },
    "executionInfo": {
     "elapsed": 53,
     "status": "ok",
     "timestamp": 1639451432239,
     "user": {
      "displayName": "Jangrae Lee",
      "photoUrl": "https://lh3.googleusercontent.com/a-/AOh14Gh1Pd8OuWJU2cv7uTt-fURrgvty7atx_Wtarmx0-A=s64",
      "userId": "08475661575434032088"
     },
     "user_tz": -540
    },
    "id": "XMftV_T7Vqx_",
    "outputId": "f49c7ae9-a422-4bba-87cf-f9a52457b7ac"
   },
   "outputs": [],
   "source": [
    "# 첫 번째 행 첫 번째 열, 두 번째 행 두 번째 열의 요소 조회\n",
    "print(a[[0, 1], [0, 1]])"
   ]
  },
  {
   "cell_type": "code",
   "execution_count": null,
   "metadata": {
    "colab": {
     "base_uri": "https://localhost:8080/"
    },
    "executionInfo": {
     "elapsed": 51,
     "status": "ok",
     "timestamp": 1639451432239,
     "user": {
      "displayName": "Jangrae Lee",
      "photoUrl": "https://lh3.googleusercontent.com/a-/AOh14Gh1Pd8OuWJU2cv7uTt-fURrgvty7atx_Wtarmx0-A=s64",
      "userId": "08475661575434032088"
     },
     "user_tz": -540
    },
    "id": "yDtvGSsAogz1",
    "outputId": "f480ab97-7937-44fc-994f-e0b9db9ac61c"
   },
   "outputs": [],
   "source": [
    "# 첫 전째 행 첫 번째 열, 두 번째 행 두 번째 열, 세 번째 행 첫 번째 열의 요소 조회\n",
    "print(a[[0, 1, 2], [0, 1, 0]])"
   ]
  },
  {
   "cell_type": "markdown",
   "metadata": {
    "id": "VfJQXOS2ogz_"
   },
   "source": [
    "### 13.3.2.슬라이싱\n",
    "\n",
    "- **배열[행1:행N,열1:열N]** 형태로 지정해 그 위치의 요소를 조회합니다.\n",
    "- 조회 결과는 **2차원 배열**이 됩니다.\n",
    "- 마지막 **범위 값은 대상에 포함되지 않습니다.**\n",
    "- 즉, **배열[1:M, 2:N]**이라면 1 ~ M-1행, 2 ~ N-1열이 조회 대상이 됩니다."
   ]
  },
  {
   "cell_type": "code",
   "execution_count": null,
   "metadata": {
    "colab": {
     "base_uri": "https://localhost:8080/"
    },
    "executionInfo": {
     "elapsed": 51,
     "status": "ok",
     "timestamp": 1639451432240,
     "user": {
      "displayName": "Jangrae Lee",
      "photoUrl": "https://lh3.googleusercontent.com/a-/AOh14Gh1Pd8OuWJU2cv7uTt-fURrgvty7atx_Wtarmx0-A=s64",
      "userId": "08475661575434032088"
     },
     "user_tz": -540
    },
    "id": "tQU7jXkMog0A",
    "outputId": "b6ba02c8-096a-4231-ba07-370c2cc874cd",
    "scrolled": true
   },
   "outputs": [],
   "source": [
    "# (3, 3) 형태의 2차원 배열 만들기\n",
    "a = np.array([[1, 2, 3],\n",
    "              [4, 5, 6], \n",
    "              [7, 8, 9]])\n",
    "\n",
    "# 확인\n",
    "print(a)             "
   ]
  },
  {
   "cell_type": "code",
   "execution_count": null,
   "metadata": {
    "colab": {
     "base_uri": "https://localhost:8080/"
    },
    "executionInfo": {
     "elapsed": 49,
     "status": "ok",
     "timestamp": 1639451432240,
     "user": {
      "displayName": "Jangrae Lee",
      "photoUrl": "https://lh3.googleusercontent.com/a-/AOh14Gh1Pd8OuWJU2cv7uTt-fURrgvty7atx_Wtarmx0-A=s64",
      "userId": "08475661575434032088"
     },
     "user_tz": -540
    },
    "id": "GQpT2IsVog0F",
    "outputId": "addbaf52-49c2-4879-fc2d-4168d33167c8"
   },
   "outputs": [],
   "source": [
    "# 첫 번째 ~ 두 번째 행 조회\n",
    "# print(a[0:2, :])\n",
    "print(a[0:2])"
   ]
  },
  {
   "cell_type": "code",
   "execution_count": null,
   "metadata": {
    "colab": {
     "base_uri": "https://localhost:8080/"
    },
    "executionInfo": {
     "elapsed": 48,
     "status": "ok",
     "timestamp": 1639451432241,
     "user": {
      "displayName": "Jangrae Lee",
      "photoUrl": "https://lh3.googleusercontent.com/a-/AOh14Gh1Pd8OuWJU2cv7uTt-fURrgvty7atx_Wtarmx0-A=s64",
      "userId": "08475661575434032088"
     },
     "user_tz": -540
    },
    "id": "IoYezZTJog0L",
    "outputId": "54314149-c5d8-4dd6-b4c2-ec0fc1eebc2f"
   },
   "outputs": [],
   "source": [
    "# 첫 번째 행, 첫 번째 ~ 두 번째 열 조회\n",
    "print(a[0, 0:2])"
   ]
  },
  {
   "cell_type": "code",
   "execution_count": null,
   "metadata": {
    "colab": {
     "base_uri": "https://localhost:8080/"
    },
    "executionInfo": {
     "elapsed": 47,
     "status": "ok",
     "timestamp": 1639451432241,
     "user": {
      "displayName": "Jangrae Lee",
      "photoUrl": "https://lh3.googleusercontent.com/a-/AOh14Gh1Pd8OuWJU2cv7uTt-fURrgvty7atx_Wtarmx0-A=s64",
      "userId": "08475661575434032088"
     },
     "user_tz": -540
    },
    "id": "R7qsvTfdog0R",
    "outputId": "c21c33a2-c885-4dae-edb5-9ae0ffe8a70d"
   },
   "outputs": [],
   "source": [
    "# 첫 번째 ~ 세 번째 행, 두 번째 ~ 세 번째 열 조회\n",
    "print(a[0:3, 1:3])"
   ]
  },
  {
   "cell_type": "code",
   "execution_count": null,
   "metadata": {
    "colab": {
     "base_uri": "https://localhost:8080/"
    },
    "executionInfo": {
     "elapsed": 46,
     "status": "ok",
     "timestamp": 1639451432242,
     "user": {
      "displayName": "Jangrae Lee",
      "photoUrl": "https://lh3.googleusercontent.com/a-/AOh14Gh1Pd8OuWJU2cv7uTt-fURrgvty7atx_Wtarmx0-A=s64",
      "userId": "08475661575434032088"
     },
     "user_tz": -540
    },
    "id": "yyMWRXs6og0V",
    "outputId": "ee4afe8a-9094-4e14-ff71-57ee17cb2e18"
   },
   "outputs": [],
   "source": [
    "# 두 번째 ~ 끝 행, 두 번째 ~ 끝 열 조회\n",
    "print(a[1:, 1:])"
   ]
  },
  {
   "cell_type": "markdown",
   "metadata": {
    "id": "XTXtDcxxVqxo"
   },
   "source": [
    "### 13.3.3.조건 조회\n",
    "\n",
    "- **조건에 맞는 요소를 선택**하는 방식이며, **불리안 방식**이라고 부릅니다.\n",
    "- 조회 결과는 **1차원 배열**이 됩니다."
   ]
  },
  {
   "cell_type": "code",
   "execution_count": null,
   "metadata": {
    "colab": {
     "base_uri": "https://localhost:8080/"
    },
    "executionInfo": {
     "elapsed": 44,
     "status": "ok",
     "timestamp": 1639451432242,
     "user": {
      "displayName": "Jangrae Lee",
      "photoUrl": "https://lh3.googleusercontent.com/a-/AOh14Gh1Pd8OuWJU2cv7uTt-fURrgvty7atx_Wtarmx0-A=s64",
      "userId": "08475661575434032088"
     },
     "user_tz": -540
    },
    "id": "3gZ8CZCSVqxs",
    "outputId": "06d4ec34-e94e-4d54-cbad-c3aff2ebb19b",
    "scrolled": true
   },
   "outputs": [],
   "source": [
    "# 2차원 배열 만들기\n",
    "score= np.array([[78, 91, 84, 89, 93, 65],\n",
    "                 [82, 87, 96, 79, 91, 73]])\n",
    "\n",
    "# 확인\n",
    "print(score)"
   ]
  },
  {
   "cell_type": "markdown",
   "metadata": {
    "id": "MCGU0pTdG5Dk"
   },
   "source": [
    "- **배열[조건]** 형태로 해당 조건에 맞는 요소만 조회합니다."
   ]
  },
  {
   "cell_type": "code",
   "execution_count": null,
   "metadata": {
    "colab": {
     "base_uri": "https://localhost:8080/"
    },
    "executionInfo": {
     "elapsed": 43,
     "status": "ok",
     "timestamp": 1639451432242,
     "user": {
      "displayName": "Jangrae Lee",
      "photoUrl": "https://lh3.googleusercontent.com/a-/AOh14Gh1Pd8OuWJU2cv7uTt-fURrgvty7atx_Wtarmx0-A=s64",
      "userId": "08475661575434032088"
     },
     "user_tz": -540
    },
    "id": "FvhaimHaog1b",
    "outputId": "214d872b-961f-48b6-ddab-55773f8b0082",
    "scrolled": true
   },
   "outputs": [],
   "source": [
    "# 요소 중에서 90 이상인 것만 조회\n"
   ]
  },
  {
   "cell_type": "markdown",
   "metadata": {
    "id": "6og_Q2FFH4bm"
   },
   "source": [
    "- 검색 조건을 변수로 선언해 사용할 수 있습니다."
   ]
  },
  {
   "cell_type": "code",
   "execution_count": null,
   "metadata": {
    "colab": {
     "base_uri": "https://localhost:8080/"
    },
    "executionInfo": {
     "elapsed": 42,
     "status": "ok",
     "timestamp": 1639451432243,
     "user": {
      "displayName": "Jangrae Lee",
      "photoUrl": "https://lh3.googleusercontent.com/a-/AOh14Gh1Pd8OuWJU2cv7uTt-fURrgvty7atx_Wtarmx0-A=s64",
      "userId": "08475661575434032088"
     },
     "user_tz": -540
    },
    "id": "FAIsSW3qog1Q",
    "outputId": "d4441255-bc06-45cb-81b2-cf0432024341",
    "scrolled": true
   },
   "outputs": [],
   "source": [
    "# 요소 중에서 90 이상인 것만 조회\n",
    "condition = \n"
   ]
  },
  {
   "cell_type": "markdown",
   "metadata": {
    "id": "MNpMhuYd9Cgq"
   },
   "source": [
    "- 여러 조건을 **&** 와 **|** 로 연결하여 조회할 수 있습니다."
   ]
  },
  {
   "cell_type": "code",
   "execution_count": null,
   "metadata": {
    "colab": {
     "base_uri": "https://localhost:8080/"
    },
    "executionInfo": {
     "elapsed": 40,
     "status": "ok",
     "timestamp": 1639451432243,
     "user": {
      "displayName": "Jangrae Lee",
      "photoUrl": "https://lh3.googleusercontent.com/a-/AOh14Gh1Pd8OuWJU2cv7uTt-fURrgvty7atx_Wtarmx0-A=s64",
      "userId": "08475661575434032088"
     },
     "user_tz": -540
    },
    "id": "VnpEJYUEog1j",
    "outputId": "dd6b4055-6642-41a0-cc2c-c88ad3b246fc"
   },
   "outputs": [],
   "source": [
    "# 모든 요소 중에서 90 이상 95 미만인 것만 조회\n"
   ]
  },
  {
   "cell_type": "markdown",
   "metadata": {
    "id": "V4SYoejWog1n"
   },
   "source": [
    "<img src='https://raw.githubusercontent.com/jangrae/img/master/practice_01.png' width=120 align = \"left\"/>"
   ]
  },
  {
   "cell_type": "markdown",
   "metadata": {
    "id": "gVnNqLBmog1o"
   },
   "source": [
    "[문1] 다음 배열에서 짝수만 추출해 보세요."
   ]
  },
  {
   "cell_type": "code",
   "execution_count": null,
   "metadata": {
    "colab": {
     "base_uri": "https://localhost:8080/"
    },
    "executionInfo": {
     "elapsed": 40,
     "status": "ok",
     "timestamp": 1639451432244,
     "user": {
      "displayName": "Jangrae Lee",
      "photoUrl": "https://lh3.googleusercontent.com/a-/AOh14Gh1Pd8OuWJU2cv7uTt-fURrgvty7atx_Wtarmx0-A=s64",
      "userId": "08475661575434032088"
     },
     "user_tz": -540
    },
    "id": "QOp675xbUwMb",
    "outputId": "7c301e58-290e-4836-e0b7-5cb47e4bc345"
   },
   "outputs": [],
   "source": [
    "# 2차원 배열 만들기\n",
    "score= np.array([[78, 91, 84, 89, 93, 65],\n",
    "                 [82, 87, 96, 79, 91, 73]])\n",
    "\n",
    "# 확인\n",
    "print(score)\n",
    "\n",
    "# 짝수만 조회\n"
   ]
  },
  {
   "cell_type": "markdown",
   "metadata": {
    "id": "1E9DkwINVqy2"
   },
   "source": [
    "## 13.4.배열 연산\n",
    "\n",
    "- 배열 사이의 더하기, 빼기, 곱하기, 나누기 등은 이해하기 쉽습니다.\n",
    "- 하지만 행렬 곱, 행렬 합등의 연산은 악갼의 수학적 지식이 필요합니다.\n",
    "- 행렬 연산은 선형 대수를 위한 것이므로 설명을 생략합니다."
   ]
  },
  {
   "cell_type": "code",
   "execution_count": null,
   "metadata": {
    "colab": {
     "base_uri": "https://localhost:8080/"
    },
    "executionInfo": {
     "elapsed": 38,
     "status": "ok",
     "timestamp": 1639451432244,
     "user": {
      "displayName": "Jangrae Lee",
      "photoUrl": "https://lh3.googleusercontent.com/a-/AOh14Gh1Pd8OuWJU2cv7uTt-fURrgvty7atx_Wtarmx0-A=s64",
      "userId": "08475661575434032088"
     },
     "user_tz": -540
    },
    "id": "c1XI1tZqVqy3",
    "outputId": "9f08eefd-cdc1-48ae-8ad8-d1a910ca4de3"
   },
   "outputs": [],
   "source": [
    "# 두 개의 (2, 2) 형태의 2차원 배열 만들기\n",
    "x = np.array([[1, 2], [3, 4]])\n",
    "y = np.array([[5, 6], [7, 8]])\n",
    "\n",
    "# 확인\n",
    "print(x)\n",
    "print(y)"
   ]
  },
  {
   "cell_type": "markdown",
   "metadata": {
    "id": "E-ekP4S5uWQE"
   },
   "source": [
    "**1) 배열 더하기**\n",
    "\n",
    "- \\+ 또는 **dp.add()** 함수를 사용합니다."
   ]
  },
  {
   "cell_type": "code",
   "execution_count": null,
   "metadata": {
    "colab": {
     "base_uri": "https://localhost:8080/"
    },
    "executionInfo": {
     "elapsed": 37,
     "status": "ok",
     "timestamp": 1639451432244,
     "user": {
      "displayName": "Jangrae Lee",
      "photoUrl": "https://lh3.googleusercontent.com/a-/AOh14Gh1Pd8OuWJU2cv7uTt-fURrgvty7atx_Wtarmx0-A=s64",
      "userId": "08475661575434032088"
     },
     "user_tz": -540
    },
    "id": "Wqiwa0LSVqy4",
    "outputId": "ad99828f-63de-4e1e-d514-96eab723ef66"
   },
   "outputs": [],
   "source": [
    "# 배열 더하기\n",
    "print(x + y)\n",
    "\n",
    "# 또는\n",
    "print(np.add(x, y))"
   ]
  },
  {
   "cell_type": "markdown",
   "metadata": {
    "id": "00AMA90ouj59"
   },
   "source": [
    "**2) 배열 뺴기**\n",
    "\n",
    "- \\- 또는 **np.subtract()** 함수를 사용합니다."
   ]
  },
  {
   "cell_type": "code",
   "execution_count": null,
   "metadata": {
    "colab": {
     "base_uri": "https://localhost:8080/"
    },
    "executionInfo": {
     "elapsed": 37,
     "status": "ok",
     "timestamp": 1639451432246,
     "user": {
      "displayName": "Jangrae Lee",
      "photoUrl": "https://lh3.googleusercontent.com/a-/AOh14Gh1Pd8OuWJU2cv7uTt-fURrgvty7atx_Wtarmx0-A=s64",
      "userId": "08475661575434032088"
     },
     "user_tz": -540
    },
    "id": "1y0US63EVqy5",
    "outputId": "90116eb4-568f-4da7-cfc3-b82fadcde283"
   },
   "outputs": [],
   "source": [
    "# 배열 빼기\n",
    "print(x - y)\n",
    "\n",
    "# 또는\n",
    "print(np.subtract(x, y))"
   ]
  },
  {
   "cell_type": "markdown",
   "metadata": {
    "id": "xxXkVAzNuZ6n"
   },
   "source": [
    "**3) 배열 곱하기**\n",
    "\n",
    "- \\* 또는 **np.multiply()** 함수를 사용합니다."
   ]
  },
  {
   "cell_type": "code",
   "execution_count": null,
   "metadata": {
    "colab": {
     "base_uri": "https://localhost:8080/"
    },
    "executionInfo": {
     "elapsed": 35,
     "status": "ok",
     "timestamp": 1639451432246,
     "user": {
      "displayName": "Jangrae Lee",
      "photoUrl": "https://lh3.googleusercontent.com/a-/AOh14Gh1Pd8OuWJU2cv7uTt-fURrgvty7atx_Wtarmx0-A=s64",
      "userId": "08475661575434032088"
     },
     "user_tz": -540
    },
    "id": "b6Vbf3qDVqy6",
    "outputId": "c2c125d1-e371-499b-ec13-8686d3c03e83"
   },
   "outputs": [],
   "source": [
    "# 배열 곱하기\n",
    "print(x * y)\n",
    "\n",
    "# 또는\n",
    "print(np.multiply(x, y))"
   ]
  },
  {
   "cell_type": "markdown",
   "metadata": {
    "id": "bB_Gr_AHucL4"
   },
   "source": [
    "**4) 배열 나누기**\n",
    "\n",
    "- \\/ 또는 **np.divide()** 함수를 사용합니다."
   ]
  },
  {
   "cell_type": "code",
   "execution_count": null,
   "metadata": {
    "colab": {
     "base_uri": "https://localhost:8080/"
    },
    "executionInfo": {
     "elapsed": 467,
     "status": "ok",
     "timestamp": 1639451432680,
     "user": {
      "displayName": "Jangrae Lee",
      "photoUrl": "https://lh3.googleusercontent.com/a-/AOh14Gh1Pd8OuWJU2cv7uTt-fURrgvty7atx_Wtarmx0-A=s64",
      "userId": "08475661575434032088"
     },
     "user_tz": -540
    },
    "id": "bRTZEgBLVqy6",
    "outputId": "1ab22231-472c-4094-9a22-ec3c865fdcd8"
   },
   "outputs": [],
   "source": [
    "# 배열 나누기\n",
    "print(x / y)\n",
    "\n",
    "# 또는\n",
    "print(np.divide(x, y))"
   ]
  },
  {
   "cell_type": "markdown",
   "metadata": {
    "id": "lx7YMmtBueZB"
   },
   "source": [
    "**5) 배열 제곱**\n",
    "\n",
    "- \\** 또는 **np.power()** 함수를 사용합니다."
   ]
  },
  {
   "cell_type": "code",
   "execution_count": null,
   "metadata": {
    "colab": {
     "base_uri": "https://localhost:8080/"
    },
    "executionInfo": {
     "elapsed": 7,
     "status": "ok",
     "timestamp": 1639451432680,
     "user": {
      "displayName": "Jangrae Lee",
      "photoUrl": "https://lh3.googleusercontent.com/a-/AOh14Gh1Pd8OuWJU2cv7uTt-fURrgvty7atx_Wtarmx0-A=s64",
      "userId": "08475661575434032088"
     },
     "user_tz": -540
    },
    "id": "btaO6o1dVqy7",
    "outputId": "846c94ca-5107-40b3-9b91-374616839e4f"
   },
   "outputs": [],
   "source": [
    "# 배열 y 제곱\n",
    "print(x ** y)\n",
    "\n",
    "# 또는\n",
    "print(np.power(x, y))"
   ]
  },
  {
   "cell_type": "code",
   "execution_count": null,
   "metadata": {
    "colab": {
     "base_uri": "https://localhost:8080/"
    },
    "executionInfo": {
     "elapsed": 6,
     "status": "ok",
     "timestamp": 1639451432682,
     "user": {
      "displayName": "Jangrae Lee",
      "photoUrl": "https://lh3.googleusercontent.com/a-/AOh14Gh1Pd8OuWJU2cv7uTt-fURrgvty7atx_Wtarmx0-A=s64",
      "userId": "08475661575434032088"
     },
     "user_tz": -540
    },
    "id": "PgmwzPNv-AQl",
    "outputId": "4242bd89-7d41-4aab-a9f5-a640e0ecca14"
   },
   "outputs": [],
   "source": [
    "# 배열 제곱\n",
    "print(x ** 2)"
   ]
  }
 ],
 "metadata": {
  "colab": {
   "collapsed_sections": [],
   "name": "13 - 배열 다루기.ipynb",
   "provenance": [],
   "toc_visible": true
  },
  "kernelspec": {
   "display_name": "Python 3 (ipykernel)",
   "language": "python",
   "name": "python3"
  },
  "language_info": {
   "codemirror_mode": {
    "name": "ipython",
    "version": 3
   },
   "file_extension": ".py",
   "mimetype": "text/x-python",
   "name": "python",
   "nbconvert_exporter": "python",
   "pygments_lexer": "ipython3",
   "version": "3.9.7"
  }
 },
 "nbformat": 4,
 "nbformat_minor": 1
}
