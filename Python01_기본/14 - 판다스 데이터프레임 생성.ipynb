{
 "cells": [
  {
   "cell_type": "markdown",
   "metadata": {
    "id": "BFhIXgdYoYGp"
   },
   "source": [
    "<center><img src='https://raw.githubusercontent.com/Jangrae/img/master/title.png' width=500/></center>"
   ]
  },
  {
   "cell_type": "markdown",
   "metadata": {
    "id": "eYB1ZQpI7_sC"
   },
   "source": [
    "# 14.데이터프레임 생성"
   ]
  },
  {
   "cell_type": "markdown",
   "metadata": {
    "id": "qbRryf889VCF"
   },
   "source": [
    "## 14.1.데이터프레임 이해"
   ]
  },
  {
   "cell_type": "markdown",
   "metadata": {
    "id": "gu7wwR069iwY"
   },
   "source": [
    "### 14.1.1.데이터프레임이란\n",
    "\n",
    "\n",
    "- Pandas 사용 목적이 데이터프레임을 사용하기 위한 목적으로 봐도 됩니다.\n",
    "- 데이터를 처리, 조회, 분석하는 가장 효율적인 방법이 데이터프레임을 사용하는 것입니다.\n",
    "- 일반적으로 접하게 되는 **테이블** 형태, **엑셀** 형태로 생각하시면 됩니다.\n",
    "- 직접 만들 수 있으나 보통은 **csv 파일**, **엑셀 파일** 또는 DB에서 읽어옵니다."
   ]
  },
  {
   "cell_type": "markdown",
   "metadata": {
    "id": "VNBn3rh_7_sH"
   },
   "source": [
    "<img src='https://raw.githubusercontent.com/Jangrae/img/master/dataframe_sample.png' width=800 align=\"left\"/>"
   ]
  },
  {
   "cell_type": "markdown",
   "metadata": {
    "id": "9l6NOVnS9rZW"
   },
   "source": [
    "### 14.1.2.데이터프레임 형태\n",
    "\n",
    "- 데이터프레임은 **인덱스(=행 이름)**와 **열 이름**이 있고 없고에 따라 다른 형태를 갖습니다.\n",
    "- 인덱스란 행을 지정할 때 사용하는 정보이고, 열 이름은 열을 지정할 때 사용하는 정보입니다."
   ]
  },
  {
   "cell_type": "markdown",
   "metadata": {
    "id": "zYkod1OZ-KDD"
   },
   "source": [
    "<img src='https://raw.githubusercontent.com/Jangrae/img/master/dataframe05.png' width=450 align=\"left\"/>"
   ]
  },
  {
   "cell_type": "markdown",
   "metadata": {
    "id": "o3tnJLJn_E0R"
   },
   "source": [
    "**1) 인덱스와 열 이름이 없는 형태**\n",
    "\n",
    "- 우선 인덱스와 열 이름이 없는 데이터프레임 형태입니다.\n",
    "- 열 이름이 없는 데이터프레임은 실무에서는 자주 볼 수 없을 것입니다."
   ]
  },
  {
   "cell_type": "markdown",
   "metadata": {
    "id": "y0YXQ9HX-pQe"
   },
   "source": [
    "<img src='https://raw.githubusercontent.com/Jangrae/img/master/dataframe01.png' width=380 align=\"left\"/>"
   ]
  },
  {
   "cell_type": "markdown",
   "metadata": {
    "id": "IeTHxeOH_Lmy"
   },
   "source": [
    "**2) 열 이름을 지정한 형태**\n",
    "\n",
    "- 열 이름만 지정한 데이터프레임 형태입니다.\n",
    "- 특별히 인덱스를 지정할 필요가 없는 경우가 많으므로 자주 보게 되는 형태입니다."
   ]
  },
  {
   "cell_type": "markdown",
   "metadata": {
    "id": "mgNuAxJT-wGE"
   },
   "source": [
    "<img src='https://raw.githubusercontent.com/Jangrae/img/master/dataframe02.png' width=380 align=\"left\"/>"
   ]
  },
  {
   "cell_type": "markdown",
   "metadata": {
    "id": "hOCC_U1w_Qnc"
   },
   "source": [
    "**3) 인덱스와 열 이름을 지정한 형태**\n",
    "\n",
    "- 인덱스와 열 이름 모두를 지정한 데이터프레임 형태입니다.\n",
    "- 대부분 주식 시세와 같은 날짜가 인덱스로 지정되는 경우입니다."
   ]
  },
  {
   "cell_type": "markdown",
   "metadata": {
    "id": "uq7TmduU-x5i"
   },
   "source": [
    "<img src='https://raw.githubusercontent.com/Jangrae/img/master/dataframe03.png' width=350 align=\"left\"/>"
   ]
  },
  {
   "cell_type": "markdown",
   "metadata": {
    "id": "ETVUejBgIJNL"
   },
   "source": [
    "## 14.2.데이터프레임 직접 만들기\n",
    "\n",
    "- **pd.DataFrame()** 함수를 사용해 데이터프레임을 직접 만들 수 있습니다.\n",
    "- 대부분 리스트, 딕셔너리, Numpy 배열로부터 데이터프레임을 만듭니다.\n",
    "- 데이터프레임을 만들기 위해서는 다음 세 가지를 위한 데이터가 필요합니다.\n",
    "    - 데이터\n",
    "    - 열 이름\n",
    "    - 인덱스 이름\n",
    "- 열 이름을 지정하지 않으면 **열 번호**에 기반한 정수(0, 1, 2...)가 열 이름이 됩니다.\n",
    "- 인덱스 이름을 지정하지 않으면 **행 번호**에 기반한 정수(0, 1, 2...)가 인덱스 이름이 됩니다."
   ]
  },
  {
   "cell_type": "markdown",
   "metadata": {
    "id": "U9WxY1vaGooz"
   },
   "source": [
    "### 14.2.1.라이브러리 불러오기\n",
    "\n",
    "- 데이터프레임을 사용하기 위해서 pandas 라이브러리를 pd 별칭을 주어 불러옵니다."
   ]
  },
  {
   "cell_type": "code",
   "execution_count": null,
   "metadata": {
    "id": "iyOaNXcnOW6J"
   },
   "outputs": [],
   "source": [
    "# 라이브러리 불러오기\n",
    "import pandas as pd"
   ]
  },
  {
   "cell_type": "markdown",
   "metadata": {
    "id": "r04u5zL5IJNM"
   },
   "source": [
    "### 14.2.2.리스트로  만들기\n",
    "\n",
    "- 인덱스를 지정하지 않으면 행 번호가 인덱스, 열 번호가 열 이름이 됩니다."
   ]
  },
  {
   "cell_type": "code",
   "execution_count": null,
   "metadata": {
    "colab": {
     "base_uri": "https://localhost:8080/"
    },
    "executionInfo": {
     "elapsed": 11,
     "status": "ok",
     "timestamp": 1639841101850,
     "user": {
      "displayName": "Jangrae Lee",
      "photoUrl": "https://lh3.googleusercontent.com/a-/AOh14Gh1Pd8OuWJU2cv7uTt-fURrgvty7atx_Wtarmx0-A=s64",
      "userId": "08475661575434032088"
     },
     "user_tz": -540
    },
    "id": "5dF7MDMy789A",
    "outputId": "6408a8d2-0872-4fc0-cefe-10f94147f17f"
   },
   "outputs": [],
   "source": [
    "# 1차원 리스트 만들기\n",
    "stock = [94500, 92100, 92200, 92300]\n",
    "\n",
    "# 데이터프레임 만들기\n",
    "df = \n",
    "\n",
    "# 확인\n"
   ]
  },
  {
   "cell_type": "code",
   "execution_count": null,
   "metadata": {
    "colab": {
     "base_uri": "https://localhost:8080/"
    },
    "executionInfo": {
     "elapsed": 9,
     "status": "ok",
     "timestamp": 1639841101850,
     "user": {
      "displayName": "Jangrae Lee",
      "photoUrl": "https://lh3.googleusercontent.com/a-/AOh14Gh1Pd8OuWJU2cv7uTt-fURrgvty7atx_Wtarmx0-A=s64",
      "userId": "08475661575434032088"
     },
     "user_tz": -540
    },
    "id": "Bp8Njd58oDUB",
    "outputId": "c1453b82-bff5-496c-d850-cca150a61488"
   },
   "outputs": [],
   "source": [
    "# 2차원 리스트 만들기\n",
    "stock = [[94500, 92100, 92200, 92300],\n",
    "         [96500, 93200, 95900, 94300],\n",
    "         [93400, 91900, 93400, 92100],\n",
    "         [94200, 92100, 94100, 92400],\n",
    "         [94500, 92500, 94300, 92600]]\n",
    "\n",
    "# 데이터프레임 만들기\n",
    "df = \n",
    "\n",
    "# 확인\n"
   ]
  },
  {
   "cell_type": "markdown",
   "metadata": {
    "id": "yvPx1jl2IJNT"
   },
   "source": [
    "- 필요하면 인덱스와 열 이름을 별도로 지정할 수 있습니다."
   ]
  },
  {
   "cell_type": "code",
   "execution_count": null,
   "metadata": {
    "colab": {
     "base_uri": "https://localhost:8080/"
    },
    "executionInfo": {
     "elapsed": 8,
     "status": "ok",
     "timestamp": 1639841101850,
     "user": {
      "displayName": "Jangrae Lee",
      "photoUrl": "https://lh3.googleusercontent.com/a-/AOh14Gh1Pd8OuWJU2cv7uTt-fURrgvty7atx_Wtarmx0-A=s64",
      "userId": "08475661575434032088"
     },
     "user_tz": -540
    },
    "id": "_C8hqRoUAMUe",
    "outputId": "3ca0d076-9d11-4198-f4e7-7756a0d7e0c0"
   },
   "outputs": [],
   "source": [
    "# 리스트 만들기\n",
    "stock = [[94500, 92100, 92200, 92300],\n",
    "         [96500, 93200, 95900, 94300],\n",
    "         [93400, 91900, 93400, 92100],\n",
    "         [94200, 92100, 94100, 92400],\n",
    "         [94500, 92500, 94300, 92600]]\n",
    "dates = ['2019-02-15', '2019-02-16', '2019-02-17', '2019-02-18', '2019-02-19']\n",
    "names = ['High', 'Low', 'Open', 'Close']\n",
    "\n",
    "# 데이터프레임 만들기\n",
    "df = \n",
    "\n",
    "# 확인\n"
   ]
  },
  {
   "cell_type": "markdown",
   "metadata": {
    "id": "OAikNLPcIJNm"
   },
   "source": [
    "### 14.2.3.딕셔너리로 만들기\n",
    "\n",
    "- 딕셔너리로 데이터프레임을 만들면 딕셔너리의 **키**가 **열 이름**이 됩니다.\n",
    "- 인덱스를 지정하지 않으면 행 번호가 인덱스가 됩니다."
   ]
  },
  {
   "cell_type": "code",
   "execution_count": null,
   "metadata": {
    "colab": {
     "base_uri": "https://localhost:8080/"
    },
    "executionInfo": {
     "elapsed": 7,
     "status": "ok",
     "timestamp": 1639841101851,
     "user": {
      "displayName": "Jangrae Lee",
      "photoUrl": "https://lh3.googleusercontent.com/a-/AOh14Gh1Pd8OuWJU2cv7uTt-fURrgvty7atx_Wtarmx0-A=s64",
      "userId": "08475661575434032088"
     },
     "user_tz": -540
    },
    "id": "6LkPm72OYnVU",
    "outputId": "a9578887-122b-4f0e-d860-69e7a770b8a5"
   },
   "outputs": [],
   "source": [
    "# 딕셔너리 만들기\n",
    "dict = {'Name': ['Gildong', 'Sarang', 'Jiemae', 'Yeoin'],\n",
    "        'Level': ['Gold', 'Bronze', 'Silver', 'Gold'],\n",
    "        'Score': [56000, 23000, 44000, 52000]}\n",
    "\n",
    "# 확인\n",
    "dict"
   ]
  },
  {
   "cell_type": "code",
   "execution_count": null,
   "metadata": {
    "colab": {
     "base_uri": "https://localhost:8080/"
    },
    "executionInfo": {
     "elapsed": 6,
     "status": "ok",
     "timestamp": 1639841101851,
     "user": {
      "displayName": "Jangrae Lee",
      "photoUrl": "https://lh3.googleusercontent.com/a-/AOh14Gh1Pd8OuWJU2cv7uTt-fURrgvty7atx_Wtarmx0-A=s64",
      "userId": "08475661575434032088"
     },
     "user_tz": -540
    },
    "id": "zxpku5yMOW6u",
    "outputId": "6cc0679b-fe70-4048-99f3-9c3abf767c74",
    "scrolled": true
   },
   "outputs": [],
   "source": [
    "# 데이터프레임 만들기\n",
    "df = \n",
    "\n",
    "# 확인\n"
   ]
  },
  {
   "cell_type": "markdown",
   "metadata": {
    "id": "cQv7wUpVIJNu"
   },
   "source": [
    "- 필요하면 인덱스를 별도로 지정할 수 있습니다."
   ]
  },
  {
   "cell_type": "code",
   "execution_count": null,
   "metadata": {
    "colab": {
     "base_uri": "https://localhost:8080/"
    },
    "executionInfo": {
     "elapsed": 573,
     "status": "ok",
     "timestamp": 1639841102420,
     "user": {
      "displayName": "Jangrae Lee",
      "photoUrl": "https://lh3.googleusercontent.com/a-/AOh14Gh1Pd8OuWJU2cv7uTt-fURrgvty7atx_Wtarmx0-A=s64",
      "userId": "08475661575434032088"
     },
     "user_tz": -540
    },
    "id": "tVcRYGYbIJNu",
    "outputId": "9cf493f4-20f7-440d-f3b9-a0bedcb402e4",
    "scrolled": true
   },
   "outputs": [],
   "source": [
    "# 딕셔너리 만들기\n",
    "dict = {'Name': ['Gildong', 'Sarang', 'Jiemae', 'Yeoin'],\n",
    "        'Level': ['Gold', 'Bronze', 'Silver', 'Gold'],\n",
    "        'Score': [56000, 23000, 44000, 52000]}\n",
    "\n",
    "# 데이터프레임 만들기(인덱스 지정함)\n",
    "df = \n",
    "\n",
    "# 확인\n"
   ]
  },
  {
   "cell_type": "markdown",
   "metadata": {
    "id": "mHrKYYWip4Es"
   },
   "source": [
    "<img src='https://raw.githubusercontent.com/jangrae/img/master/practice_01.png' width=120 align=\"left\"/>"
   ]
  },
  {
   "cell_type": "markdown",
   "metadata": {
    "id": "zOc0Cz-C89nI"
   },
   "source": [
    "[문1] 아래 주어진 리스트들을 사용해 score 데이터프레임을 만들고 확인하세요."
   ]
  },
  {
   "cell_type": "code",
   "execution_count": null,
   "metadata": {
    "colab": {
     "base_uri": "https://localhost:8080/"
    },
    "executionInfo": {
     "elapsed": 21,
     "status": "ok",
     "timestamp": 1639841102420,
     "user": {
      "displayName": "Jangrae Lee",
      "photoUrl": "https://lh3.googleusercontent.com/a-/AOh14Gh1Pd8OuWJU2cv7uTt-fURrgvty7atx_Wtarmx0-A=s64",
      "userId": "08475661575434032088"
     },
     "user_tz": -540
    },
    "id": "dwA8ygir89nL",
    "outputId": "e1d6bede-96ca-4746-e497-0e497d1d6b2a"
   },
   "outputs": [],
   "source": [
    "# 리스트 만들기\n",
    "list_score = [[80, 75, 100, 90, 80],\n",
    "              [85, 70,  80, 95, 90],\n",
    "              [75, 80,  85, 90, 90],\n",
    "              [85, 65,  85, 75, 70],\n",
    "              [70, 85,  90, 85, 95]]\n",
    "              \n",
    "# 인덱스: ['Gildong', 'Sarang', 'Jiemae', 'Yeoin', 'Woodong']\n",
    "list_index = ['Gildong', 'Sarang', 'Jiemae', 'Yeoin', 'Woodong']\n",
    "\n",
    "# 열이름: ['Korean', 'English', 'Math', 'Science', 'History']\n",
    "list_col = ['Korean', 'English', 'Math', 'Science', 'History']\n",
    "\n",
    "# 데이터프레임 만들기\n",
    "\n",
    "\n",
    "# 확인\n"
   ]
  },
  {
   "cell_type": "markdown",
   "metadata": {
    "id": "zGDF1AkjIJOX"
   },
   "source": [
    "## 14.3.CSV파일 읽어오기\n",
    "\n",
    "- 분석용 데이터는 대부분 파일에서 읽어 가져오니 잘 익혀야 할 기능입니다.\n",
    "- **read_csv()** 함수를 사용해서 CSV 파일에서 데이터를 읽어옵니다."
   ]
  },
  {
   "cell_type": "markdown",
   "metadata": {
    "id": "bB26vSfGLJwX"
   },
   "source": [
    "**[주요옵션]**\n",
    "- sep: 구분자 지정(기본값 = 콤마)\n",
    "- header: 헤더가 될 행 번호 지정(기본값 = 0)\n",
    "- index_col: 인덱스 열 지정(기본값 = False)\n",
    "- names: 열 이름으로 사용할 문자열 리스트\n",
    "- skiprows: 처음 몇 줄을 무시할 것인지 지정, 리스트로 지정 가능"
   ]
  },
  {
   "cell_type": "markdown",
   "metadata": {
    "id": "tBiPJrpmJ7Ys"
   },
   "source": [
    "**[pop_simple 데이터 셋 정보]**\n",
    "\n",
    "- year: 연도\n",
    "- household: 가구 수\n",
    "- k_male: 한국인 남자\n",
    "- k_female: 한국인 여자\n",
    "- f_male: 외국인 남자\n",
    "- f_female: 외국인 여자"
   ]
  },
  {
   "cell_type": "code",
   "execution_count": null,
   "metadata": {
    "colab": {
     "base_uri": "https://localhost:8080/"
    },
    "executionInfo": {
     "elapsed": 20,
     "status": "ok",
     "timestamp": 1639841102421,
     "user": {
      "displayName": "Jangrae Lee",
      "photoUrl": "https://lh3.googleusercontent.com/a-/AOh14Gh1Pd8OuWJU2cv7uTt-fURrgvty7atx_Wtarmx0-A=s64",
      "userId": "08475661575434032088"
     },
     "user_tz": -540
    },
    "id": "DIY8NYXGIJOZ",
    "outputId": "8ec9eac3-b771-4318-f480-2be1633f73b3",
    "scrolled": false
   },
   "outputs": [],
   "source": [
    "# 데이터 읽어오기\n",
    "path = 'https://raw.githubusercontent.com/Jangrae/csv/master/pop_simple.csv'\n",
    "pop =  \n",
    "\n",
    "# 상위 10행만 확인\n"
   ]
  },
  {
   "cell_type": "markdown",
   "metadata": {
    "id": "xSWBmU_Yeu5A"
   },
   "source": [
    "<img src='https://raw.githubusercontent.com/jangrae/img/master/practice_01.png' width=120 align=\"left\"/>"
   ]
  },
  {
   "cell_type": "markdown",
   "metadata": {
    "id": "5eXsOBxDqcoP"
   },
   "source": [
    "[문1] 아래 주어진 경로의 파일에서 데이터를 읽어와 데이터프레임 temp 만들어 보세요.\n",
    "\n",
    "- 파일 경로: 'https://raw.githubusercontent.com/Jangrae/csv/master/weather_simple.csv'"
   ]
  },
  {
   "cell_type": "markdown",
   "metadata": {
    "id": "155flcV-LNEC"
   },
   "source": [
    "**[weather_simple 데이터 셋 정보]**\n",
    "\n",
    "- month: 년월\n",
    "- temp: 평균 기온\n",
    "- max_temp: 평균 최고 기온\n",
    "- ext_max_temp: 극점 최고 기온\n",
    "- min_temp: 평균 최저 기온\n",
    "- ext_min_temp: 극점 최저 기온"
   ]
  },
  {
   "cell_type": "code",
   "execution_count": null,
   "metadata": {
    "colab": {
     "base_uri": "https://localhost:8080/"
    },
    "executionInfo": {
     "elapsed": 18,
     "status": "ok",
     "timestamp": 1639841102421,
     "user": {
      "displayName": "Jangrae Lee",
      "photoUrl": "https://lh3.googleusercontent.com/a-/AOh14Gh1Pd8OuWJU2cv7uTt-fURrgvty7atx_Wtarmx0-A=s64",
      "userId": "08475661575434032088"
     },
     "user_tz": -540
    },
    "id": "Oa9sLGQ8IJOb",
    "outputId": "e3c819e6-0ede-4732-e370-e78cb636ac80",
    "scrolled": false
   },
   "outputs": [],
   "source": [
    "# 데이터 읽어오기\n",
    "\n",
    "\n",
    "\n",
    "# 상위 5개 확인\n"
   ]
  },
  {
   "cell_type": "markdown",
   "metadata": {
    "id": "taC_061cIJOx"
   },
   "source": [
    "## 14.4.인덱스 다시 설정\n",
    "\n",
    "- 일반 열을 인덱스 열로 설정하거나, 위치 인덱스로 초기화 할 수 있습니다."
   ]
  },
  {
   "cell_type": "markdown",
   "metadata": {
    "id": "atOZO4zakLOc"
   },
   "source": [
    "**1) 일반 열을 인덱스로 지정**\n",
    "\n",
    "- 파일을 불러올 때 **index_col** 옵션을 사용해 인덱스가 될 열을 선택할 수 있습니다.\n",
    "- 파일을 불러온 후에 **set_index()** 메소드를 사용해 인덱스가 될 열을 설정할 수 있습니다."
   ]
  },
  {
   "cell_type": "code",
   "execution_count": null,
   "metadata": {
    "colab": {
     "base_uri": "https://localhost:8080/"
    },
    "executionInfo": {
     "elapsed": 17,
     "status": "ok",
     "timestamp": 1639841102422,
     "user": {
      "displayName": "Jangrae Lee",
      "photoUrl": "https://lh3.googleusercontent.com/a-/AOh14Gh1Pd8OuWJU2cv7uTt-fURrgvty7atx_Wtarmx0-A=s64",
      "userId": "08475661575434032088"
     },
     "user_tz": -540
    },
    "id": "lZPICPMAmvxD",
    "outputId": "70fde575-7e11-4f55-96fc-1e71f0793f24"
   },
   "outputs": [],
   "source": [
    "# 기존 열 중에서 인덱스가 될 열 선택\n",
    "\n",
    "\n",
    "# 확인\n"
   ]
  },
  {
   "cell_type": "markdown",
   "metadata": {
    "id": "2rdGVeQ-QK_e"
   },
   "source": [
    "**2) 인덱스 이름 삭제**"
   ]
  },
  {
   "cell_type": "code",
   "execution_count": null,
   "metadata": {
    "colab": {
     "base_uri": "https://localhost:8080/"
    },
    "executionInfo": {
     "elapsed": 15,
     "status": "ok",
     "timestamp": 1639841102422,
     "user": {
      "displayName": "Jangrae Lee",
      "photoUrl": "https://lh3.googleusercontent.com/a-/AOh14Gh1Pd8OuWJU2cv7uTt-fURrgvty7atx_Wtarmx0-A=s64",
      "userId": "08475661575434032088"
     },
     "user_tz": -540
    },
    "id": "_6a3Z_YtPwED",
    "outputId": "1af46d06-753b-4342-fa90-f010dd60b36d"
   },
   "outputs": [],
   "source": [
    "# 인덱스 이름 삭제\n",
    "\n",
    "\n",
    "# 확인\n"
   ]
  },
  {
   "cell_type": "markdown",
   "metadata": {
    "id": "6YBSTyDhlGnS"
   },
   "source": [
    "**3) 인덱스 초기화**\n",
    "\n",
    "- **reset_index()** 메소드를 사용해 행 번호에 기반한 정수 값으로 인덱스를 초기화 할 수 있습니다.\n",
    "- **drop=True**를 설정하면 기존 인덱스 열을 일반 열로 가져오지 않고 버립니다.(기본값=False)"
   ]
  },
  {
   "cell_type": "code",
   "execution_count": null,
   "metadata": {
    "colab": {
     "base_uri": "https://localhost:8080/"
    },
    "executionInfo": {
     "elapsed": 14,
     "status": "ok",
     "timestamp": 1639841102423,
     "user": {
      "displayName": "Jangrae Lee",
      "photoUrl": "https://lh3.googleusercontent.com/a-/AOh14Gh1Pd8OuWJU2cv7uTt-fURrgvty7atx_Wtarmx0-A=s64",
      "userId": "08475661575434032088"
     },
     "user_tz": -540
    },
    "id": "cmHauKBZnFNS",
    "outputId": "e709e39f-d507-4170-b33d-bd9af2325ffe"
   },
   "outputs": [],
   "source": [
    "# 인덱스 초기화\n",
    "\n",
    "\n",
    "# 확인\n"
   ]
  },
  {
   "cell_type": "markdown",
   "metadata": {
    "id": "0HIv2VMIQnYb"
   },
   "source": [
    "- 열 이름 변경"
   ]
  },
  {
   "cell_type": "code",
   "execution_count": null,
   "metadata": {
    "colab": {
     "base_uri": "https://localhost:8080/"
    },
    "executionInfo": {
     "elapsed": 12,
     "status": "ok",
     "timestamp": 1639841102423,
     "user": {
      "displayName": "Jangrae Lee",
      "photoUrl": "https://lh3.googleusercontent.com/a-/AOh14Gh1Pd8OuWJU2cv7uTt-fURrgvty7atx_Wtarmx0-A=s64",
      "userId": "08475661575434032088"
     },
     "user_tz": -540
    },
    "id": "zfWeMsPvQSRw",
    "outputId": "1ba8449a-e7e6-4709-8838-cb4550e6d697"
   },
   "outputs": [],
   "source": [
    "# 열 이름 변경\n",
    "\n",
    "\n",
    "# 확인\n"
   ]
  },
  {
   "cell_type": "markdown",
   "metadata": {
    "id": "yohTkqw2ex7e"
   },
   "source": [
    "<img src='https://raw.githubusercontent.com/jangrae/img/master/practice_01.png' width=120 align=\"left\"/>"
   ]
  },
  {
   "cell_type": "markdown",
   "metadata": {
    "id": "wDFbeEe2JAjJ"
   },
   "source": [
    "[문1] 아래 주어진 경로의 파일에서 데이터를 읽어와 데이터프레임 temp 만들어 보세요.\n",
    "\n",
    "- 파일 경로: 'https://raw.githubusercontent.com/Jangrae/csv/master/weather_simple.csv'"
   ]
  },
  {
   "cell_type": "code",
   "execution_count": null,
   "metadata": {
    "colab": {
     "base_uri": "https://localhost:8080/"
    },
    "executionInfo": {
     "elapsed": 11,
     "status": "ok",
     "timestamp": 1639841102424,
     "user": {
      "displayName": "Jangrae Lee",
      "photoUrl": "https://lh3.googleusercontent.com/a-/AOh14Gh1Pd8OuWJU2cv7uTt-fURrgvty7atx_Wtarmx0-A=s64",
      "userId": "08475661575434032088"
     },
     "user_tz": -540
    },
    "id": "kDa2DoeWJAjQ",
    "outputId": "e11ff02a-1191-49ae-e03c-522850e063ff",
    "scrolled": false
   },
   "outputs": [],
   "source": [
    "# 데이터 읽어오기\n",
    "\n",
    "\n",
    "\n",
    "# 상위 5개 확인\n"
   ]
  },
  {
   "cell_type": "markdown",
   "metadata": {
    "id": "NqG5hTOrqjpi"
   },
   "source": [
    "[문2] temp 데이터프레임 month 열을 인덱스로 지정하세요."
   ]
  },
  {
   "cell_type": "code",
   "execution_count": null,
   "metadata": {
    "colab": {
     "base_uri": "https://localhost:8080/"
    },
    "executionInfo": {
     "elapsed": 10,
     "status": "ok",
     "timestamp": 1639841102424,
     "user": {
      "displayName": "Jangrae Lee",
      "photoUrl": "https://lh3.googleusercontent.com/a-/AOh14Gh1Pd8OuWJU2cv7uTt-fURrgvty7atx_Wtarmx0-A=s64",
      "userId": "08475661575434032088"
     },
     "user_tz": -540
    },
    "id": "D-X_tx_cYnfj",
    "outputId": "2fa8175f-8684-4421-c459-33ae0158f6f6"
   },
   "outputs": [],
   "source": [
    "# month를 인덱스로 지정\n",
    "\n",
    "\n",
    "# 확인\n"
   ]
  },
  {
   "cell_type": "markdown",
   "metadata": {
    "id": "iGprah6y6ak5"
   },
   "source": [
    "[문3] 인덱스 이름을 삭제하세요."
   ]
  },
  {
   "cell_type": "code",
   "execution_count": null,
   "metadata": {
    "colab": {
     "base_uri": "https://localhost:8080/"
    },
    "executionInfo": {
     "elapsed": 370,
     "status": "ok",
     "timestamp": 1639841102786,
     "user": {
      "displayName": "Jangrae Lee",
      "photoUrl": "https://lh3.googleusercontent.com/a-/AOh14Gh1Pd8OuWJU2cv7uTt-fURrgvty7atx_Wtarmx0-A=s64",
      "userId": "08475661575434032088"
     },
     "user_tz": -540
    },
    "id": "RnPMufha44kk",
    "outputId": "2a3168f3-a975-4250-c225-b349e6b54acf"
   },
   "outputs": [],
   "source": [
    "# 인덱스 이름 삭제\n",
    "\n",
    "\n",
    "# 확인\n"
   ]
  },
  {
   "cell_type": "markdown",
   "metadata": {
    "id": "utbp1T7NA5Ub"
   },
   "source": [
    "[문4] 기존 인덱스를 유지하고 인덱스를 초기화 하세요."
   ]
  },
  {
   "cell_type": "code",
   "execution_count": null,
   "metadata": {
    "colab": {
     "base_uri": "https://localhost:8080/"
    },
    "executionInfo": {
     "elapsed": 9,
     "status": "ok",
     "timestamp": 1639841102787,
     "user": {
      "displayName": "Jangrae Lee",
      "photoUrl": "https://lh3.googleusercontent.com/a-/AOh14Gh1Pd8OuWJU2cv7uTt-fURrgvty7atx_Wtarmx0-A=s64",
      "userId": "08475661575434032088"
     },
     "user_tz": -540
    },
    "id": "QdC8wQLEYr2w",
    "outputId": "57c89637-e364-404f-9454-54ca6d2bbcbc"
   },
   "outputs": [],
   "source": [
    "# 기존 인덱스 유지하고 인덱스 초기화\n",
    "\n",
    "\n",
    "# 확인\n"
   ]
  },
  {
   "cell_type": "markdown",
   "metadata": {
    "id": "F6Qpc3tJBAnl"
   },
   "source": [
    "[문5] 기존 인덱스 이름을 month로 변경하세요."
   ]
  },
  {
   "cell_type": "code",
   "execution_count": null,
   "metadata": {
    "colab": {
     "base_uri": "https://localhost:8080/"
    },
    "executionInfo": {
     "elapsed": 6,
     "status": "ok",
     "timestamp": 1639841102787,
     "user": {
      "displayName": "Jangrae Lee",
      "photoUrl": "https://lh3.googleusercontent.com/a-/AOh14Gh1Pd8OuWJU2cv7uTt-fURrgvty7atx_Wtarmx0-A=s64",
      "userId": "08475661575434032088"
     },
     "user_tz": -540
    },
    "id": "8ymSLbqjOW8K",
    "outputId": "aee8ed0b-7fbd-4ecb-af92-800de18173ed"
   },
   "outputs": [],
   "source": [
    "# 인덱스 이름 변경: index --> month\n",
    "\n",
    "\n",
    "# 확인\n"
   ]
  }
 ],
 "metadata": {
  "colab": {
   "collapsed_sections": [],
   "name": "14 - 판다스 데이터프레임 생성.ipynb",
   "provenance": [],
   "toc_visible": true
  },
  "kernelspec": {
   "display_name": "Python 3 (ipykernel)",
   "language": "python",
   "name": "python3"
  },
  "language_info": {
   "codemirror_mode": {
    "name": "ipython",
    "version": 3
   },
   "file_extension": ".py",
   "mimetype": "text/x-python",
   "name": "python",
   "nbconvert_exporter": "python",
   "pygments_lexer": "ipython3",
   "version": "3.9.7"
  }
 },
 "nbformat": 4,
 "nbformat_minor": 1
}
