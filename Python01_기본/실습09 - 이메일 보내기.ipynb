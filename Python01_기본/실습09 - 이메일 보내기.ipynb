{
 "cells": [
  {
   "cell_type": "markdown",
   "id": "ef7c9c2b",
   "metadata": {
    "id": "ef7c9c2b"
   },
   "source": [
    "<center><img src='https://raw.githubusercontent.com/Jangrae/img/master/title3.png' width=500/></center>"
   ]
  },
  {
   "cell_type": "markdown",
   "id": "65b306b2",
   "metadata": {},
   "source": [
    "<center><img src='https://raw.githubusercontent.com/Jangrae/img/master/practice.png' width=300/></center>"
   ]
  },
  {
   "cell_type": "code",
   "execution_count": null,
   "id": "f57f6785-e10e-4574-bacc-6b54d7e9a120",
   "metadata": {},
   "outputs": [],
   "source": [
    "# 라이브러리를 불러오기\n",
    "import smtplib   # send mail trasport protocol\n",
    "from email.mime.text import MIMEText\n",
    "\n",
    "# smtp 주소\n",
    "s = smtplib.SMTP('smtp.gmail.com', 587)\n",
    "\n",
    "# TLS 보안 시작\n",
    "s.starttls() \n",
    "\n",
    "# 로그인 인증\n",
    "s.login('neo.pdh99045@gmail.com', 'ctqwgobnvzjevubm') \n",
    "\n",
    "# 본문\n",
    "msg = MIMEText('''\n",
    "안녕하세요?\n",
    "지금은 이메일 보내는 연습을 하고있습니다.\n",
    "번거롭게 해드려 죄송합니다.\n",
    "그럼 숙오!\n",
    "''')\n",
    "\n",
    "# 제목\n",
    "msg['Subject'] = '연습용 ㅎㅎ'\n",
    "\n",
    "# 메일 보내기\n",
    "s.sendmail('neo.pdh99045@gmail.com', ['pdh99045@naver.com','pdh99045@naver.com'] , msg.as_string()) #발신,수신[]리스트 형태로 다중 발송 가능\n",
    "s.quit()     "
   ]
  },
  {
   "cell_type": "markdown",
   "id": "f68d189c",
   "metadata": {
    "id": "f68d189c"
   },
   "source": [
    "# 실습 #1: 이메일 보내기\n",
    "\n",
    "1) 이메일을 보내기 위해 필요한 라이브러리를 불러오세요."
   ]
  },
  {
   "cell_type": "code",
   "execution_count": 3,
   "id": "57350b76",
   "metadata": {
    "id": "57350b76",
    "outputId": "8e5a227b-7c98-40e6-972b-e6951a4a9b2b"
   },
   "outputs": [],
   "source": [
    "import smtplib   # send mail trasport protocol\n",
    "from email.mime.text import MIMEText"
   ]
  },
  {
   "cell_type": "markdown",
   "id": "5c3373b3",
   "metadata": {},
   "source": [
    "2) 아래코드에 gmail주소, 앱 비밀번호를 입력하세요."
   ]
  },
  {
   "cell_type": "code",
   "execution_count": 4,
   "id": "11013a40",
   "metadata": {},
   "outputs": [
    {
     "data": {
      "text/plain": [
       "(235, b'2.7.0 Accepted')"
      ]
     },
     "execution_count": 4,
     "metadata": {},
     "output_type": "execute_result"
    }
   ],
   "source": [
    "s = smtplib.SMTP('smtp.gmail.com', 587)      # 세션 생성\n",
    "s.starttls()                                 # TLS 보안 시작\n",
    "s.login('neo.pdh99045@gmail.com', 'ctqwgobnvzjevubm')           # 로그인 인증"
   ]
  },
  {
   "cell_type": "markdown",
   "id": "c2120533",
   "metadata": {},
   "source": [
    "3) 이메일 본문(최소 2줄 이상), 이메일 제목을 자유롭게 구성해 보세요."
   ]
  },
  {
   "cell_type": "code",
   "execution_count": 5,
   "id": "d83596e7",
   "metadata": {},
   "outputs": [],
   "source": [
    "msg = MIMEText('나에게 필요한건 취업\\n 그리고 돈')\n",
    "msg['Subject'] = 'still practicing'"
   ]
  },
  {
   "cell_type": "markdown",
   "id": "7e98a6af",
   "metadata": {},
   "source": [
    "4) 발신 주소와 수신 주소를 입력하고 메일을 보내세요."
   ]
  },
  {
   "cell_type": "code",
   "execution_count": 6,
   "id": "cab4a7d8",
   "metadata": {},
   "outputs": [
    {
     "data": {
      "text/plain": [
       "(221,\n",
       " b'2.0.0 closing connection e10-20020a170902784a00b0016bea26bb2asm744299pln.245 - gsmtp')"
      ]
     },
     "execution_count": 6,
     "metadata": {},
     "output_type": "execute_result"
    }
   ],
   "source": [
    "s.sendmail('neo.pdh99045@gmail.com', 'pdh99045@naver.com', msg.as_string())\n",
    "s.quit()    "
   ]
  },
  {
   "cell_type": "markdown",
   "id": "405bbec3",
   "metadata": {
    "id": "f68d189c"
   },
   "source": [
    "# 실습 #2: [심화] 마감일 통보 이메일 보내기\n",
    "\n",
    "- 다음은 현재 시스템 날짜와 시간을 조회하는 코드입니다."
   ]
  },
  {
   "cell_type": "code",
   "execution_count": 7,
   "id": "3634a23a",
   "metadata": {
    "id": "57350b76",
    "outputId": "8e5a227b-7c98-40e6-972b-e6951a4a9b2b"
   },
   "outputs": [
    {
     "name": "stdout",
     "output_type": "stream",
     "text": [
      "현재 날짜 시간: 2022-08-03 14:45:19.599632\n",
      "현재 연도: 2022\n",
      "현재 월: 8\n",
      "현재 일: 3\n",
      "현재 요일: 2\n",
      "내일: 2022-08-04 14:45:19.601627\n"
     ]
    }
   ],
   "source": [
    "# 현재 시스템 날짜와 시간을 조회\n",
    "from datetime import datetime, timedelta\n",
    "\n",
    "print('현재 날짜 시간:', datetime.today())\n",
    "print('현재 연도:', datetime.today().year)\n",
    "print('현재 월:', datetime.today().month)\n",
    "print('현재 일:', datetime.today().day)\n",
    "print('현재 요일:', datetime.today().weekday())   # 0: 월요일 ~ 6: 일요일\n",
    "print('내일:', datetime.today() + timedelta(1)) #timedelta datetime class 형식에서 1일을 더한 날"
   ]
  },
  {
   "cell_type": "markdown",
   "id": "b9ed3bb1",
   "metadata": {
    "id": "b9ed3bb1"
   },
   "source": [
    "1) 위 코드를 참조하여 이메일 내용을 아래와 같이 구성하여 메일을 보내세요.\n",
    "- 내용에 포함된 날짜는 시스템으로 오늘 날짜를 받아와서 5일을 더하여 내용에 포함되게 하세요. \n",
    "- 힌트: f'''문자열{변수}...''' 형태를 활용해 봅니다.\n",
    "        제목: 제출 마감이 5일 남았습니다.\n",
    "        내용: \n",
    "        안녕하세요?\n",
    "        과제 제출 마감이 5일 남았습니다. \n",
    "        0000년 00월 00일까지 반드시 제출바랍니다.\n",
    "        감사합니다!"
   ]
  },
  {
   "cell_type": "code",
   "execution_count": 18,
   "id": "e9a66c46",
   "metadata": {
    "id": "e9a66c46",
    "outputId": "4366444d-037c-4f34-da0b-0cff8c1e0acc"
   },
   "outputs": [
    {
     "data": {
      "text/plain": [
       "(221,\n",
       " b'2.0.0 closing connection j1-20020a170902c3c100b0016cf3f124e5sm852521plj.131 - gsmtp')"
      ]
     },
     "execution_count": 18,
     "metadata": {},
     "output_type": "execute_result"
    }
   ],
   "source": [
    "# 라이브러리를 불러오기\n",
    "import smtplib   # send mail trasport protocol\n",
    "from email.mime.text import MIMEText\n",
    "\n",
    "# 현재 시스템 날짜와 시간을 조회\n",
    "from datetime import datetime, timedelta\n",
    "\n",
    "#현재 날짜 시간 datetime.today() --> 2022-08-03 14:45:19.599632\n",
    "now = datetime.today()\n",
    "s = smtplib.SMTP('smtp.gmail.com', 587)\n",
    "s.starttls() \n",
    "s.login('neo.pdh99045@gmail.com', 'ctqwgobnvzjevubm') \n",
    "\n",
    "#기한일\n",
    "\n",
    "deadline_day = now + timedelta(days = 5)  # 5일 후\n",
    "#내용\n",
    "msg = MIMEText(f'''\n",
    "  안녕하세요?\n",
    "  과제 제출 마감이 5일 남았습니다. \n",
    "  {deadline_day.year}년 {deadline_day.month}월 {deadline_day.day}일까지 반드시 제출바랍니다.\n",
    "  감사합니다! ''')\n",
    "               \n",
    "#제목\n",
    "msg['Subject'] = '제출 마감이 5일 남았습니다.'\n",
    "\n",
    "# 메일 보내기\n",
    "s.sendmail('neo.pdh99045@gmail.com', 'pdh99045@naver.com' , msg.as_string()) #발신,수신[]리스트 형태로 다중 발송 가능\n",
    "s.quit()     \n",
    "\n"
   ]
  },
  {
   "cell_type": "markdown",
   "id": "c51effb7",
   "metadata": {
    "id": "c51effb7"
   },
   "source": [
    "# 실습 #3: [심화] 오늘의 과일 안내 이메일 보내기\n",
    "\n",
    "2) 엑셀 파일 마지막 실습 결과인 Fruit6.xlsx 파일을 읽어서 다음의 내용으로 이메일을 보내세요.\n",
    "\n",
    "- Fruit6.xlsx의 세번째 열의 0~6 사이의 숫자가 요일을 의미합니다. \n",
    "- 오늘의 요일에 해당되는 과일 이름을 읽어서 아래 메일 내용을 구성하세요.\n",
    "        제목: 오늘의 과일은 OOO 입니다.\n",
    "        내용: \n",
    "        안녕하세요?\n",
    "        오늘의 과일은 OOO입니다. \n",
    "        건강을 위해 오전에 꼭 챙겨 드시기 바랍니다.\n",
    "        감사합니다!\n",
    "- 힌트\n",
    "    - datetime.today().weekday()를 통해 오늘의 요일을 얻을 수 있습니다.\n",
    "    - if 조건문을 사용하여 오늘의 요일과 Fruit6.xlsx의 세 번째 열의 값을 비교해 보세요.\n",
    "    - 값이 일치할 경우 해당하는 행의 첫 번째 열의 값이 오늘의 요일에 해당하는 과일이 됩니다."
   ]
  },
  {
   "cell_type": "code",
   "execution_count": null,
   "id": "487fe05b",
   "metadata": {
    "id": "487fe05b",
    "outputId": "3b7d79a2-9282-44bc-bec1-8adeef68db50"
   },
   "outputs": [],
   "source": [
    "\n",
    "\n",
    "\n"
   ]
  }
 ],
 "metadata": {
  "colab": {
   "collapsed_sections": [],
   "name": "실습12 - 이메일 보내기.ipynb",
   "provenance": [],
   "toc_visible": true
  },
  "kernelspec": {
   "display_name": "Python 3",
   "language": "python",
   "name": "python3"
  },
  "language_info": {
   "codemirror_mode": {
    "name": "ipython",
    "version": 3
   },
   "file_extension": ".py",
   "mimetype": "text/x-python",
   "name": "python",
   "nbconvert_exporter": "python",
   "pygments_lexer": "ipython3",
   "version": "3.8.8"
  }
 },
 "nbformat": 4,
 "nbformat_minor": 5
}
