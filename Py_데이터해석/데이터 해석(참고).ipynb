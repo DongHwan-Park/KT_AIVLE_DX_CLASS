{
 "cells": [
  {
   "cell_type": "markdown",
   "metadata": {
    "id": "y1J78TFSRrSA"
   },
   "source": [
    "<center><img src='https://raw.githubusercontent.com/Jangrae/img/master/ml_python.png' width=600/></center>"
   ]
  },
  {
   "cell_type": "markdown",
   "metadata": {
    "id": "8DiMth6PVBx1"
   },
   "source": [
    "# 1.환경 준비\n",
    "\n",
    "- 기본 라이브러리와 대상 데이터를 가져와 이후 과정을 준비합니다."
   ]
  },
  {
   "cell_type": "code",
   "execution_count": null,
   "metadata": {
    "executionInfo": {
     "elapsed": 281,
     "status": "ok",
     "timestamp": 1644809584556,
     "user": {
      "displayName": "Jangrae Lee",
      "photoUrl": "https://lh3.googleusercontent.com/a-/AOh14Gh1Pd8OuWJU2cv7uTt-fURrgvty7atx_Wtarmx0-A=s64",
      "userId": "08475661575434032088"
     },
     "user_tz": -540
    },
    "id": "GVvCef6A8uv6",
    "scrolled": true
   },
   "outputs": [],
   "source": [
    "# 라이브러리 불러오기\n",
    "import numpy as np\n",
    "import pandas as pd\n",
    "import matplotlib.pyplot as plt\n",
    "import seaborn as sns\n",
    "\n",
    "%config InlineBackend.figure_format='retina'"
   ]
  },
  {
   "cell_type": "markdown",
   "metadata": {},
   "source": [
    "# 2.데이터베이스 연결\n",
    "### (대상 서버 종료, 실행 불가, 구문만 참조)\n",
    "\n",
    "- 다양한 데이터베이스 관리 시스템(DBMS)가 있지만 MS SQL Server 연결을 예로 듭니다."
   ]
  },
  {
   "cell_type": "markdown",
   "metadata": {},
   "source": [
    "**1) 라이브러리 설치**\n",
    "\n",
    "- 구글 코랩에서 기본으로 제공되지 않는 pymssql 라이브러리를 설치합니다."
   ]
  },
  {
   "cell_type": "code",
   "execution_count": null,
   "metadata": {},
   "outputs": [],
   "source": [
    "# 라이브러리 설치\n",
    "# !pip install pymssql"
   ]
  },
  {
   "cell_type": "markdown",
   "metadata": {},
   "source": [
    "**2) 라이브러리 불러오기**\n",
    "\n",
    "- 사용할 라이브러리를 불러옵니다."
   ]
  },
  {
   "cell_type": "code",
   "execution_count": null,
   "metadata": {},
   "outputs": [],
   "source": [
    "# 라이브러리 불러오기\n",
    "import pymssql\n",
    "import pandas as pd"
   ]
  },
  {
   "cell_type": "markdown",
   "metadata": {},
   "source": [
    "**3) SQL Server 연결**\n",
    "\n",
    "- 연결 관련 정보를 지정하여 SQL Server에 연결합니다.\n",
    "- 관련 정보와 권한을 얻기 위해서 서버 관리자의 협조가 필요할 수 있습니다."
   ]
  },
  {
   "cell_type": "code",
   "execution_count": null,
   "metadata": {},
   "outputs": [],
   "source": [
    "# SQL Server 연결\n",
    "mssql = pymssql.connect(host='20.194.2.187',\n",
    "                        port='4331', \n",
    "                        user='Student', \n",
    "                        password='Pa$$w0rd', \n",
    "                        database='myshop2019')"
   ]
  },
  {
   "cell_type": "markdown",
   "metadata": {},
   "source": [
    "**4) 데이터 읽어오기**\n",
    "\n",
    "- 데이터를 조회할 쿼리문을 작성합니다.(쿼리문 학습 필요)\n",
    "- read_sql 함수를 사용해서 쿼리를 실행해 그 결과를 가져옵니다.\n",
    "- 가져온 결과는 자동으로 데이터프레임이 됩니다."
   ]
  },
  {
   "cell_type": "code",
   "execution_count": null,
   "metadata": {},
   "outputs": [],
   "source": [
    "# 쿼리문\n",
    "sql = \"\"\"\n",
    "SELECT * \n",
    "    FROM 주문\n",
    "\"\"\"\n",
    "# 데이터프레임 만들기\n",
    "data = pd.read_sql(sql, con=mssql) \n",
    "\n",
    "# 확인\n",
    "data.head()"
   ]
  },
  {
   "cell_type": "markdown",
   "metadata": {},
   "source": [
    "**5) SQL Server 연결 닫기**\n",
    "\n",
    "- 더 이상 사용할 필요가 없는 경우 연결을 닫습니다."
   ]
  },
  {
   "cell_type": "code",
   "execution_count": null,
   "metadata": {},
   "outputs": [],
   "source": [
    "# 연결 닫기\n",
    "pymssql.Connection.close(mssql)"
   ]
  },
  {
   "cell_type": "markdown",
   "metadata": {
    "id": "ZJOddHq2zfcU"
   },
   "source": [
    "# 3.데이터 탐색"
   ]
  },
  {
   "cell_type": "markdown",
   "metadata": {},
   "source": [
    "**1) 데이터 읽어오기**\n",
    "\n",
    "- 분석 대상 데이터를 읽어옵니다."
   ]
  },
  {
   "cell_type": "code",
   "execution_count": null,
   "metadata": {
    "executionInfo": {
     "elapsed": 3,
     "status": "ok",
     "timestamp": 1644809584556,
     "user": {
      "displayName": "Jangrae Lee",
      "photoUrl": "https://lh3.googleusercontent.com/a-/AOh14Gh1Pd8OuWJU2cv7uTt-fURrgvty7atx_Wtarmx0-A=s64",
      "userId": "08475661575434032088"
     },
     "user_tz": -540
    },
    "id": "3GgFpOB4zQ7h"
   },
   "outputs": [],
   "source": [
    "# 데이터 읽어오기\n",
    "path = 'https://raw.githubusercontent.com/jangrae/csv/master/tips.csv'\n",
    "tips = pd.read_csv(path)"
   ]
  },
  {
   "cell_type": "code",
   "execution_count": null,
   "metadata": {
    "colab": {
     "base_uri": "https://localhost:8080/",
     "height": 206
    },
    "executionInfo": {
     "elapsed": 408,
     "status": "ok",
     "timestamp": 1644809584962,
     "user": {
      "displayName": "Jangrae Lee",
      "photoUrl": "https://lh3.googleusercontent.com/a-/AOh14Gh1Pd8OuWJU2cv7uTt-fURrgvty7atx_Wtarmx0-A=s64",
      "userId": "08475661575434032088"
     },
     "user_tz": -540
    },
    "id": "Wzs1nS348uwE",
    "outputId": "8dee0969-dcec-4014-bdaf-a0fcfef722d0"
   },
   "outputs": [],
   "source": [
    "# 상위 몇 개 행 확인\n",
    "tips.head()"
   ]
  },
  {
   "cell_type": "markdown",
   "metadata": {},
   "source": [
    "**2) 열 정보 확인**\n",
    "\n",
    "- 열 이름, 데이터 형식 등을 확인합니다."
   ]
  },
  {
   "cell_type": "code",
   "execution_count": null,
   "metadata": {},
   "outputs": [],
   "source": [
    "# 열 정보 확인\n",
    "tips.info()"
   ]
  },
  {
   "cell_type": "markdown",
   "metadata": {},
   "source": [
    "**3) 기초 통계 정보 확인**\n",
    "\n",
    "- 개수, 평균, 최솟값, 최댓값, 표준편차, 사분위 값을 확인합니다."
   ]
  },
  {
   "cell_type": "code",
   "execution_count": null,
   "metadata": {
    "colab": {
     "base_uri": "https://localhost:8080/",
     "height": 300
    },
    "executionInfo": {
     "elapsed": 14,
     "status": "ok",
     "timestamp": 1644809584963,
     "user": {
      "displayName": "Jangrae Lee",
      "photoUrl": "https://lh3.googleusercontent.com/a-/AOh14Gh1Pd8OuWJU2cv7uTt-fURrgvty7atx_Wtarmx0-A=s64",
      "userId": "08475661575434032088"
     },
     "user_tz": -540
    },
    "id": "LhAk04Uy4Occ",
    "outputId": "3468c9aa-785e-4e5c-da1a-803d61f5b015"
   },
   "outputs": [],
   "source": [
    "# 기초통계정보 확인\n",
    "tips.describe()"
   ]
  },
  {
   "cell_type": "markdown",
   "metadata": {},
   "source": [
    "**4) 범주값 확인**\n",
    "\n",
    "- 범주형 열에 대한 범주값 개수를 확인합니다."
   ]
  },
  {
   "cell_type": "code",
   "execution_count": null,
   "metadata": {
    "colab": {
     "base_uri": "https://localhost:8080/"
    },
    "executionInfo": {
     "elapsed": 12,
     "status": "ok",
     "timestamp": 1644809584963,
     "user": {
      "displayName": "Jangrae Lee",
      "photoUrl": "https://lh3.googleusercontent.com/a-/AOh14Gh1Pd8OuWJU2cv7uTt-fURrgvty7atx_Wtarmx0-A=s64",
      "userId": "08475661575434032088"
     },
     "user_tz": -540
    },
    "id": "5LnH1OR20h1d",
    "outputId": "3ebd288e-458d-4db2-ecce-ed48d1d1eadb"
   },
   "outputs": [],
   "source": [
    "# sex 확인\n",
    "tips['sex'].value_counts()"
   ]
  },
  {
   "cell_type": "code",
   "execution_count": null,
   "metadata": {
    "colab": {
     "base_uri": "https://localhost:8080/"
    },
    "executionInfo": {
     "elapsed": 12,
     "status": "ok",
     "timestamp": 1644809584963,
     "user": {
      "displayName": "Jangrae Lee",
      "photoUrl": "https://lh3.googleusercontent.com/a-/AOh14Gh1Pd8OuWJU2cv7uTt-fURrgvty7atx_Wtarmx0-A=s64",
      "userId": "08475661575434032088"
     },
     "user_tz": -540
    },
    "id": "5LnH1OR20h1d",
    "outputId": "3ebd288e-458d-4db2-ecce-ed48d1d1eadb"
   },
   "outputs": [],
   "source": [
    "# smoker 확인\n",
    "tips['smoker'].value_counts()"
   ]
  },
  {
   "cell_type": "code",
   "execution_count": null,
   "metadata": {
    "colab": {
     "base_uri": "https://localhost:8080/"
    },
    "executionInfo": {
     "elapsed": 12,
     "status": "ok",
     "timestamp": 1644809584963,
     "user": {
      "displayName": "Jangrae Lee",
      "photoUrl": "https://lh3.googleusercontent.com/a-/AOh14Gh1Pd8OuWJU2cv7uTt-fURrgvty7atx_Wtarmx0-A=s64",
      "userId": "08475661575434032088"
     },
     "user_tz": -540
    },
    "id": "5LnH1OR20h1d",
    "outputId": "3ebd288e-458d-4db2-ecce-ed48d1d1eadb"
   },
   "outputs": [],
   "source": [
    "# time 확인\n",
    "tips['time'].value_counts()"
   ]
  },
  {
   "cell_type": "code",
   "execution_count": null,
   "metadata": {
    "colab": {
     "base_uri": "https://localhost:8080/"
    },
    "executionInfo": {
     "elapsed": 12,
     "status": "ok",
     "timestamp": 1644809584963,
     "user": {
      "displayName": "Jangrae Lee",
      "photoUrl": "https://lh3.googleusercontent.com/a-/AOh14Gh1Pd8OuWJU2cv7uTt-fURrgvty7atx_Wtarmx0-A=s64",
      "userId": "08475661575434032088"
     },
     "user_tz": -540
    },
    "id": "5LnH1OR20h1d",
    "outputId": "3ebd288e-458d-4db2-ecce-ed48d1d1eadb"
   },
   "outputs": [],
   "source": [
    "# day 확인\n",
    "tips['day'].value_counts()"
   ]
  },
  {
   "cell_type": "markdown",
   "metadata": {},
   "source": [
    "**5) 결측치 확인**\n",
    "\n",
    "- 결측치 존재 여부를 확인합니다."
   ]
  },
  {
   "cell_type": "code",
   "execution_count": null,
   "metadata": {
    "colab": {
     "base_uri": "https://localhost:8080/"
    },
    "executionInfo": {
     "elapsed": 11,
     "status": "ok",
     "timestamp": 1644809584964,
     "user": {
      "displayName": "Jangrae Lee",
      "photoUrl": "https://lh3.googleusercontent.com/a-/AOh14Gh1Pd8OuWJU2cv7uTt-fURrgvty7atx_Wtarmx0-A=s64",
      "userId": "08475661575434032088"
     },
     "user_tz": -540
    },
    "id": "nRYIgZxT0pXk",
    "outputId": "54ea85c7-7303-4d42-982b-824c4a41b97b"
   },
   "outputs": [],
   "source": [
    "# NaN 값 확인\n",
    "tips.isnull().sum()"
   ]
  },
  {
   "cell_type": "markdown",
   "metadata": {},
   "source": [
    "**6) 상관관계 확인**\n",
    "\n",
    "- 열 간의 상관관계를 확인합니다."
   ]
  },
  {
   "cell_type": "code",
   "execution_count": null,
   "metadata": {
    "colab": {
     "base_uri": "https://localhost:8080/",
     "height": 269
    },
    "executionInfo": {
     "elapsed": 9,
     "status": "ok",
     "timestamp": 1644809584964,
     "user": {
      "displayName": "Jangrae Lee",
      "photoUrl": "https://lh3.googleusercontent.com/a-/AOh14Gh1Pd8OuWJU2cv7uTt-fURrgvty7atx_Wtarmx0-A=s64",
      "userId": "08475661575434032088"
     },
     "user_tz": -540
    },
    "id": "CIMKiD7FK5VN",
    "outputId": "071c537e-2f64-4d1f-c626-8aef25c5f915"
   },
   "outputs": [],
   "source": [
    "# 상관관계 확인\n",
    "tips.corr()"
   ]
  },
  {
   "cell_type": "code",
   "execution_count": null,
   "metadata": {
    "colab": {
     "base_uri": "https://localhost:8080/"
    },
    "executionInfo": {
     "elapsed": 12,
     "status": "ok",
     "timestamp": 1644809584963,
     "user": {
      "displayName": "Jangrae Lee",
      "photoUrl": "https://lh3.googleusercontent.com/a-/AOh14Gh1Pd8OuWJU2cv7uTt-fURrgvty7atx_Wtarmx0-A=s64",
      "userId": "08475661575434032088"
     },
     "user_tz": -540
    },
    "id": "5LnH1OR20h1d",
    "outputId": "3ebd288e-458d-4db2-ecce-ed48d1d1eadb"
   },
   "outputs": [],
   "source": [
    "#  상관관계 시각화\n",
    "plt.figure(figsize=(8, 6))\n",
    "sns.heatmap(tips.corr(), annot=True, cmap='Blues')\n",
    "plt.show()"
   ]
  },
  {
   "cell_type": "markdown",
   "metadata": {},
   "source": [
    "# 4.데이터 시각화"
   ]
  },
  {
   "cell_type": "markdown",
   "metadata": {},
   "source": [
    "**1) 막대 그래프**\n",
    "\n",
    "- 막대 그래프는 범주값 간의 비교 시 사용하면 좋습니다."
   ]
  },
  {
   "cell_type": "code",
   "execution_count": null,
   "metadata": {},
   "outputs": [],
   "source": [
    "# 막대그래프 #1\n",
    "tmp = tips.groupby(by='day', as_index=False)[['tip']].mean()\n",
    "plt.bar(tmp['day'], tmp['tip'])\n",
    "plt.show()"
   ]
  },
  {
   "cell_type": "code",
   "execution_count": null,
   "metadata": {},
   "outputs": [],
   "source": [
    "# 막대그래프 #2\n",
    "tmp = tips.groupby(by='day', as_index=False)[['tip']].count()\n",
    "plt.bar(tmp['day'], tmp['tip'])\n",
    "plt.show()"
   ]
  },
  {
   "cell_type": "code",
   "execution_count": null,
   "metadata": {},
   "outputs": [],
   "source": [
    "# 막대그래프 #3\n",
    "sns.countplot(x=tips['day'])\n",
    "plt.show()"
   ]
  },
  {
   "cell_type": "code",
   "execution_count": null,
   "metadata": {},
   "outputs": [],
   "source": [
    "# 막대그래프 #4: 이름으로 정렬\n",
    "sns.countplot(x=tips['day'], order=['Thur', 'Fri', 'Sat', 'Sun'])\n",
    "plt.show()"
   ]
  },
  {
   "cell_type": "code",
   "execution_count": null,
   "metadata": {},
   "outputs": [],
   "source": [
    "# 막대그래프 #5: 크기로 정렬\n",
    "sns.countplot(x=tips['day'], order=tips['day'].value_counts().index)\n",
    "plt.show()"
   ]
  },
  {
   "cell_type": "markdown",
   "metadata": {},
   "source": [
    "**2) 히스토그램**\n",
    "\n",
    "- 히스토그램은 값 분포 확인 시 사용하면 좋습니다."
   ]
  },
  {
   "cell_type": "code",
   "execution_count": null,
   "metadata": {},
   "outputs": [],
   "source": [
    "# 히스토그램\n",
    "plt.hist(tips['tip'], bins=30, alpha=0.7, edgecolor='black')\n",
    "plt.show()"
   ]
  },
  {
   "cell_type": "markdown",
   "metadata": {},
   "source": [
    "**3) 박스 그래프**\n",
    "\n",
    "- 박스 그래프는 값 분포 확인 시 사용하면 좋습니다."
   ]
  },
  {
   "cell_type": "code",
   "execution_count": null,
   "metadata": {},
   "outputs": [],
   "source": [
    "# 박스 그래프\n",
    "plt.boxplot(tips['tip'])\n",
    "\n",
    "plt.show()"
   ]
  },
  {
   "cell_type": "code",
   "execution_count": null,
   "metadata": {},
   "outputs": [],
   "source": [
    "# 박스 그래프: 여러 열 한 번에 그리기\n",
    "tips.plot(kind='box')\n",
    "plt.show()"
   ]
  },
  {
   "cell_type": "markdown",
   "metadata": {},
   "source": [
    "- 박스 그래프에 대해 좀 더 이해합니다."
   ]
  },
  {
   "cell_type": "code",
   "execution_count": null,
   "metadata": {},
   "outputs": [],
   "source": [
    "# 데이터 \n",
    "a = [-3, -1, 1, 1, 2, 4, 6, 6, 7, 7, 7, 8, 8, 8, 8, 8, 8, 9, 9, 9, 9, 9, 11, 11, 13, 14, 16, 21]\n",
    "\n",
    "# 배열 만들기\n",
    "data = np.array(a) \n",
    "\n",
    "# 시각화\n",
    "plt.boxplot(data, vert=False)\n",
    "plt.show()"
   ]
  },
  {
   "cell_type": "code",
   "execution_count": null,
   "metadata": {},
   "outputs": [],
   "source": [
    "# 데이터프레임 만들기\n",
    "df = pd.DataFrame(data, columns=['val'])\n",
    "\n",
    "# 기초통계정보 확인\n",
    "df.describe()"
   ]
  },
  {
   "cell_type": "code",
   "execution_count": null,
   "metadata": {},
   "outputs": [],
   "source": [
    "# 박스 그래프 수염\n",
    "b = plt.boxplot(data)\n",
    "plt.show()\n",
    "\n",
    "# 확인\n",
    "print(b['whiskers'][0].get_ydata())\n",
    "print(b['whiskers'][1].get_ydata())"
   ]
  },
  {
   "cell_type": "markdown",
   "metadata": {},
   "source": [
    "**4) 산점도**\n",
    "\n",
    "- 산점도는 상관관계 확인 시 사용하면 좋습니다."
   ]
  },
  {
   "cell_type": "code",
   "execution_count": null,
   "metadata": {},
   "outputs": [],
   "source": [
    "# 산점도\n",
    "plt.scatter(tips['total_bill'], tips['tip'])\n",
    "plt.show()"
   ]
  },
  {
   "cell_type": "code",
   "execution_count": null,
   "metadata": {},
   "outputs": [],
   "source": [
    "# 산점도: 집단 구분 #1\n",
    "sns.scatterplot(x=tips['total_bill'], y=tips['tip'], hue=tips['smoker'])\n",
    "plt.show()"
   ]
  },
  {
   "cell_type": "code",
   "execution_count": null,
   "metadata": {},
   "outputs": [],
   "source": [
    "# 데이터 읽어오기\n",
    "path = 'https://bit.ly/IrisFile'\n",
    "iris = pd.read_csv(path)\n",
    "\n",
    "# 확인\n",
    "iris.head()"
   ]
  },
  {
   "cell_type": "code",
   "execution_count": null,
   "metadata": {},
   "outputs": [],
   "source": [
    "# 산점도: 집단 구분 #2\n",
    "sns.scatterplot(x=iris['Petal.Length'], y=iris['Petal.Width'], hue=iris['Species'])\n",
    "plt.show()"
   ]
  },
  {
   "cell_type": "markdown",
   "metadata": {},
   "source": [
    "**5) 선 그래프**\n",
    "\n",
    "- 선 그래프는 값 변경 추이 확인 시 사용하면 좋습니다."
   ]
  },
  {
   "cell_type": "code",
   "execution_count": null,
   "metadata": {},
   "outputs": [],
   "source": [
    "# 선 그래프\n",
    "plt.plot(tips['tip'])\n",
    "plt.show()"
   ]
  },
  {
   "cell_type": "markdown",
   "metadata": {},
   "source": [
    "- 선 그래프를 좀 더 살펴봅니다."
   ]
  },
  {
   "cell_type": "code",
   "execution_count": null,
   "metadata": {},
   "outputs": [],
   "source": [
    "# 데이터 읽어오기\n",
    "path = 'https://bit.ly/StocksFile'\n",
    "stock = pd.read_csv(path)\n",
    "\n",
    "# 확인\n",
    "stock.head()"
   ]
  },
  {
   "cell_type": "code",
   "execution_count": null,
   "metadata": {},
   "outputs": [],
   "source": [
    "# Close 변동 현황\n",
    "plt.plot(stock['Close'])\n",
    "plt.show()"
   ]
  },
  {
   "cell_type": "code",
   "execution_count": null,
   "metadata": {},
   "outputs": [],
   "source": [
    "# Close 변동 현황: 특정 구간 살펴보기\n",
    "plt.plot(stock['Close'][:1000])\n",
    "plt.show()"
   ]
  },
  {
   "cell_type": "code",
   "execution_count": null,
   "metadata": {},
   "outputs": [],
   "source": [
    "# Close 변동 현황: 짧은 구간 마커 사용\n",
    "plt.plot(stock['Close'][5000:5025], marker='s', linestyle='--')\n",
    "plt.show()"
   ]
  },
  {
   "cell_type": "markdown",
   "metadata": {
    "id": "wW0d0eGmCYJM",
    "tags": []
   },
   "source": [
    "# 5.데이터 변경 및 요약\n",
    "\n",
    "- 전처리 과정을 통해 머신러닝 알고리즘에 사용할 수 있는 형태의 데이터를 준비합니다."
   ]
  },
  {
   "cell_type": "markdown",
   "metadata": {},
   "source": [
    "**1) 데이터 읽어오기**\n",
    "\n",
    "- 분석 대상 데이터를 읽어옵니다."
   ]
  },
  {
   "cell_type": "code",
   "execution_count": null,
   "metadata": {
    "executionInfo": {
     "elapsed": 3,
     "status": "ok",
     "timestamp": 1644809584556,
     "user": {
      "displayName": "Jangrae Lee",
      "photoUrl": "https://lh3.googleusercontent.com/a-/AOh14Gh1Pd8OuWJU2cv7uTt-fURrgvty7atx_Wtarmx0-A=s64",
      "userId": "08475661575434032088"
     },
     "user_tz": -540
    },
    "id": "3GgFpOB4zQ7h"
   },
   "outputs": [],
   "source": [
    "# 데이터 읽어오기\n",
    "path = 'https://raw.githubusercontent.com/jangrae/csv/master/titanic.csv'\n",
    "titanic = pd.read_csv(path)\n",
    "\n",
    "# 상위 몇 개 행 확인\n",
    "titanic.head()"
   ]
  },
  {
   "cell_type": "markdown",
   "metadata": {
    "id": "ZHAm-eoFse1_"
   },
   "source": [
    "**2) Title 열 추가**\n",
    "\n",
    "- 호칭을 갖는 Title 열을 추가합니다."
   ]
  },
  {
   "cell_type": "code",
   "execution_count": null,
   "metadata": {
    "executionInfo": {
     "elapsed": 9,
     "status": "ok",
     "timestamp": 1644809584965,
     "user": {
      "displayName": "Jangrae Lee",
      "photoUrl": "https://lh3.googleusercontent.com/a-/AOh14Gh1Pd8OuWJU2cv7uTt-fURrgvty7atx_Wtarmx0-A=s64",
      "userId": "08475661575434032088"
     },
     "user_tz": -540
    },
    "id": "lgmZKwlsY54S"
   },
   "outputs": [],
   "source": [
    "# 호칭 추출: 알파벳 다음에 이어서 점(.)이 오는 문자열 부분\n",
    "titanic['Title'] = titanic['Name'].str.extract('([A-Za-z]+)\\.', expand=False)\n",
    "\n",
    "# 확인\n",
    "titanic['Title'].value_counts()"
   ]
  },
  {
   "cell_type": "code",
   "execution_count": null,
   "metadata": {},
   "outputs": [],
   "source": [
    "# 대표 호칭 이외는 Others로 변경\n",
    "main_tit_list = ['Mr', 'Miss', 'Mrs']\n",
    "titanic.loc[titanic['Title'].isin(main_tit_list)==False, 'Title'] = 'Others'\n",
    "\n",
    "# 확인\n",
    "titanic['Title'].value_counts()"
   ]
  },
  {
   "cell_type": "markdown",
   "metadata": {
    "id": "mIxcFuf0CoxF"
   },
   "source": [
    "**3) 결측치 처리**\n",
    "\n",
    "- 결측치를 적절한 값으로 채웁니다."
   ]
  },
  {
   "cell_type": "code",
   "execution_count": null,
   "metadata": {},
   "outputs": [],
   "source": [
    "# 결측치 확인\n",
    "titanic.isna().sum()"
   ]
  },
  {
   "cell_type": "code",
   "execution_count": null,
   "metadata": {},
   "outputs": [],
   "source": [
    "#  Age 중앙값\n",
    "titanic['Age'].median()"
   ]
  },
  {
   "cell_type": "code",
   "execution_count": null,
   "metadata": {},
   "outputs": [],
   "source": [
    "# Title 별 Age 중앙값\n",
    "titanic.groupby('Title')['Age'].median()"
   ]
  },
  {
   "cell_type": "code",
   "execution_count": null,
   "metadata": {},
   "outputs": [],
   "source": [
    "# Title 별 Age 중앙값을 각 행 별로 표시\n",
    "titanic.groupby('Title')['Age'].transform('median')"
   ]
  },
  {
   "cell_type": "code",
   "execution_count": null,
   "metadata": {
    "executionInfo": {
     "elapsed": 299,
     "status": "ok",
     "timestamp": 1644809585256,
     "user": {
      "displayName": "Jangrae Lee",
      "photoUrl": "https://lh3.googleusercontent.com/a-/AOh14Gh1Pd8OuWJU2cv7uTt-fURrgvty7atx_Wtarmx0-A=s64",
      "userId": "08475661575434032088"
     },
     "user_tz": -540
    },
    "id": "TBr9jcvWPJmi"
   },
   "outputs": [],
   "source": [
    "# Age 결측치를 Title 별 중앙값으로 채우기\n",
    "titanic['Age'].fillna(titanic.groupby('Title')['Age'].transform('median'), inplace=True)\n",
    "\n",
    "# Embarked 최빈값으로 채우기\n",
    "titanic['Embarked'].fillna('S', inplace=True)\n",
    "\n",
    "# 확인\n",
    "titanic.isna().sum()"
   ]
  },
  {
   "cell_type": "markdown",
   "metadata": {
    "id": "CJjbn2YUQug8"
   },
   "source": [
    "**4) AgeGroup 열 추가**\n",
    "\n",
    "- 나이를 그룹핑한 AgeGroup 열을 추가합니다."
   ]
  },
  {
   "cell_type": "code",
   "execution_count": null,
   "metadata": {
    "executionInfo": {
     "elapsed": 8,
     "status": "ok",
     "timestamp": 1644809585257,
     "user": {
      "displayName": "Jangrae Lee",
      "photoUrl": "https://lh3.googleusercontent.com/a-/AOh14Gh1Pd8OuWJU2cv7uTt-fURrgvty7atx_Wtarmx0-A=s64",
      "userId": "08475661575434032088"
     },
     "user_tz": -540
    },
    "id": "YHv6AA2ah0_6"
   },
   "outputs": [],
   "source": [
    "# AgeGroup 추가\n",
    "my_bin = [0, 16, 25, 35, 60, 100]\n",
    "my_label = ['0_16', '17_25', '26_35', '36_60', '61_100']\n",
    "titanic['AgeGroup'] = pd.cut(titanic['Age'], bins=my_bin, labels=my_label)\n",
    "\n",
    "# 확인\n",
    "titanic['AgeGroup'].value_counts()"
   ]
  },
  {
   "cell_type": "markdown",
   "metadata": {},
   "source": [
    "**5) Family 열 추가**\n",
    "\n",
    "- 가족 수를 갖는 Family 열을 추가합니다."
   ]
  },
  {
   "cell_type": "code",
   "execution_count": null,
   "metadata": {},
   "outputs": [],
   "source": [
    "# Family 추가\n",
    "titanic['Family'] = titanic['SibSp']  + titanic['Parch'] \n",
    "\n",
    "# 확인\n",
    "titanic['Family'].value_counts()"
   ]
  },
  {
   "cell_type": "markdown",
   "metadata": {},
   "source": [
    "**6) Alone 열 추가**\n",
    "\n",
    "- 혼자 탑승했는 지 여부를 갖는 Alone 열을 추가합니다."
   ]
  },
  {
   "cell_type": "code",
   "execution_count": null,
   "metadata": {},
   "outputs": [],
   "source": [
    "# Alone 추가\n",
    "titanic['Alone'] = 'No'\n",
    "titanic.loc[titanic['Family'] == 0, 'Alone'] = 'Yes'\n",
    "\n",
    "# 확인\n",
    "titanic['Alone'].value_counts()"
   ]
  },
  {
   "cell_type": "markdown",
   "metadata": {
    "id": "TfOiIj7lCfiG"
   },
   "source": [
    "**7) 불필요한 열 제거**\n",
    "\n",
    "- 불필요한 열을 제거합니다."
   ]
  },
  {
   "cell_type": "code",
   "execution_count": null,
   "metadata": {
    "colab": {
     "base_uri": "https://localhost:8080/",
     "height": 270
    },
    "executionInfo": {
     "elapsed": 8,
     "status": "ok",
     "timestamp": 1644809585258,
     "user": {
      "displayName": "Jangrae Lee",
      "photoUrl": "https://lh3.googleusercontent.com/a-/AOh14Gh1Pd8OuWJU2cv7uTt-fURrgvty7atx_Wtarmx0-A=s64",
      "userId": "08475661575434032088"
     },
     "user_tz": -540
    },
    "id": "oLG_6OZVCfsc",
    "outputId": "52f7dff1-9ac1-4e9e-e151-3b74419ba826"
   },
   "outputs": [],
   "source": [
    "# 불필요한 열 제거\n",
    "drop_cols = ['PassengerId', 'Name', 'Age', 'Ticket', 'Cabin']\n",
    "titanic.drop(drop_cols, axis=1, inplace=True)\n",
    "\n",
    "# 확인\n",
    "titanic.head()"
   ]
  },
  {
   "cell_type": "markdown",
   "metadata": {},
   "source": [
    "# 6.이상치 제거\n",
    "\n",
    "- 주어진 데이터 분포 중심에서 심하게 멀리 떨어진 데이터를 이상치라고 합니다.\n",
    "- 즉, 정상 데이터라기 보다는 비정상 데이터라고 할 수 있습니다.\n",
    "- 이상치는 제대로 된 데이터 분석을 방해할 수 있으므로 적절히 처리해야 합니다."
   ]
  },
  {
   "cell_type": "markdown",
   "metadata": {},
   "source": [
    "**1) 데이터 읽어오기**\n",
    "\n",
    "- 분석 대상 데이터를 읽어옵니다."
   ]
  },
  {
   "cell_type": "code",
   "execution_count": null,
   "metadata": {
    "executionInfo": {
     "elapsed": 3,
     "status": "ok",
     "timestamp": 1644809584556,
     "user": {
      "displayName": "Jangrae Lee",
      "photoUrl": "https://lh3.googleusercontent.com/a-/AOh14Gh1Pd8OuWJU2cv7uTt-fURrgvty7atx_Wtarmx0-A=s64",
      "userId": "08475661575434032088"
     },
     "user_tz": -540
    },
    "id": "3GgFpOB4zQ7h"
   },
   "outputs": [],
   "source": [
    "# 데이터 읽어오기\n",
    "path = 'https://raw.githubusercontent.com/jangrae/csv/master/airquality.csv'\n",
    "air = pd.read_csv(path)\n",
    "\n",
    "# 상위 몇 개 행 확인\n",
    "air.head()"
   ]
  },
  {
   "cell_type": "code",
   "execution_count": null,
   "metadata": {},
   "outputs": [],
   "source": [
    "# 선형보간법으로 채우기\n",
    "air['Ozone'].interpolate(method='linear', inplace=True)\n",
    "air['Solar.R'].interpolate(method='linear', inplace=True)\n",
    "\n",
    "# 확인\n",
    "air.isna().sum()"
   ]
  },
  {
   "cell_type": "markdown",
   "metadata": {},
   "source": [
    "**2) 이상치 확인**\n",
    "\n",
    "- 박스 플롯을 사용하면 가장 쉽게 이상치 존재 여부를 알 수 있습니다.\n",
    "- Wind 열 데이터 분포를 확인합니다."
   ]
  },
  {
   "cell_type": "code",
   "execution_count": null,
   "metadata": {},
   "outputs": [],
   "source": [
    "# 박스 플롯으로 확인\n",
    "plt.boxplot(air['Wind'], vert=False)\n",
    "plt.yticks([1], ['Wind'])\n",
    "plt.show()"
   ]
  },
  {
   "cell_type": "markdown",
   "metadata": {},
   "source": [
    "**박스플롯**\n",
    "\n",
    "<img src='https://raw.githubusercontent.com/jangrae/img/master/boxplot02.png' align = \"left\" width=500/>"
   ]
  },
  {
   "cell_type": "markdown",
   "metadata": {},
   "source": [
    "- describe() 메소드 결과의 25%, 75% 값을 사용해 이상치를 구분할 수 있습니다."
   ]
  },
  {
   "cell_type": "code",
   "execution_count": null,
   "metadata": {},
   "outputs": [],
   "source": [
    "# 이상치 경계 찾기\n",
    "q1 = air.describe().loc['25%', 'Wind']\n",
    "q3 = air.describe().loc['75%', 'Wind']\n",
    "iqr = q3 - q1\n",
    "l_bound = q1 - iqr * 1.5\n",
    "u_bound = q3 + iqr * 1.5\n",
    "\n",
    "# 확인\n",
    "print('이상치 하한 경계:', l_bound)\n",
    "print('이상치 상한 경계:', u_bound)"
   ]
  },
  {
   "cell_type": "markdown",
   "metadata": {},
   "source": [
    "- 앞에서 확인한 박스 플롯에 이상치 경계를 시각화하면 이해하기 쉽습니다."
   ]
  },
  {
   "cell_type": "code",
   "execution_count": null,
   "metadata": {},
   "outputs": [],
   "source": [
    "# 이상치 경계 시각화\n",
    "plt.boxplot(air['Wind'], vert=False)\n",
    "plt.yticks([1], ['Wind'])\n",
    "plt.axvline(l_bound, color='r', linestyle='--')\n",
    "plt.axvline(u_bound, color='r', linestyle='--')\n",
    "plt.show()"
   ]
  },
  {
   "cell_type": "markdown",
   "metadata": {},
   "source": [
    "- 이상치 하한 경계값보다 작은 행, 상한 경계값 보다 큰 행을 조회하면 이상치 데이터를 확인할 수 있습니다."
   ]
  },
  {
   "cell_type": "code",
   "execution_count": null,
   "metadata": {},
   "outputs": [],
   "source": [
    "# 이상치 조건\n",
    "cond01 = air['Wind'] < l_bound\n",
    "cond02 = air['Wind'] > u_bound\n",
    "\n",
    "# 결과 확인\n",
    "air.loc[cond01 | cond02, :]"
   ]
  },
  {
   "cell_type": "markdown",
   "metadata": {},
   "source": [
    "**3) 이상치 행 제거**\n",
    "\n",
    "- 필요에 따라 이상치가 있는 행을 제거할 수 있습니다."
   ]
  },
  {
   "cell_type": "code",
   "execution_count": null,
   "metadata": {},
   "outputs": [],
   "source": [
    "# 이상치 조건\n",
    "cond01 = air['Wind'] < l_bound\n",
    "cond02 = air['Wind'] > u_bound\n",
    "\n",
    "# 이상치 인덱스 확인\n",
    "outlier = air[cond01 | cond02].index   # 8, 17, 47\n",
    "\n",
    "# 이상치 행 제거\n",
    "air_test = air.drop(outlier, axis=0)"
   ]
  },
  {
   "cell_type": "code",
   "execution_count": null,
   "metadata": {},
   "outputs": [],
   "source": [
    "# 처리 후(air_test)\n",
    "plt.boxplot(air_test['Wind'], vert=False)\n",
    "plt.yticks([1], ['Wind'])\n",
    "plt.show()"
   ]
  },
  {
   "cell_type": "markdown",
   "metadata": {},
   "source": [
    "**4) 이상치 값 변경**\n",
    "\n",
    "- 필요에 따라 이상치를 다른 값으로 변경할 수 있습니다.\n",
    "- 예를 들어 이상치를 판단하는 경계값으로 변경할 수 있습니다."
   ]
  },
  {
   "cell_type": "code",
   "execution_count": null,
   "metadata": {},
   "outputs": [],
   "source": [
    "# 데이터프레임 복사\n",
    "air_test = air.copy()\n",
    "\n",
    "# 처리 후(air_test)\n",
    "plt.boxplot(air_test['Wind'], vert=False)\n",
    "plt.yticks([1], ['Wind'])\n",
    "plt.show()"
   ]
  },
  {
   "cell_type": "code",
   "execution_count": null,
   "metadata": {},
   "outputs": [],
   "source": [
    "# 이상치 경계 찾기(앞에서 이미 구한 값)\n",
    "q1 = air.describe().loc['25%', 'Wind']\n",
    "q3 = air.describe().loc['75%', 'Wind']\n",
    "iqr = q3 - q1\n",
    "l_bound = q1 - iqr * 1.5\n",
    "u_bound = q3 + iqr * 1.5\n",
    "\n",
    "# 이상치 조건\n",
    "cond01 = air_test['Wind'] < l_bound\n",
    "cond02 = air_test['Wind'] > u_bound\n",
    "\n",
    "# 이상치 값 변경\n",
    "air_test.loc[cond01, 'Wind'] = l_bound\n",
    "air_test.loc[cond02, 'Wind'] = u_bound"
   ]
  },
  {
   "cell_type": "code",
   "execution_count": null,
   "metadata": {},
   "outputs": [],
   "source": [
    "# 처리 후(air_test)\n",
    "plt.boxplot(air_test['Wind'], vert=0)\n",
    "plt.yticks([1], ['Wind'])\n",
    "plt.show()"
   ]
  }
 ],
 "metadata": {
  "colab": {
   "collapsed_sections": [],
   "name": "ML02_03_결정트리(Titanic).ipynb",
   "provenance": []
  },
  "kernelspec": {
   "display_name": "Python 3 (ipykernel)",
   "language": "python",
   "name": "python3"
  },
  "language_info": {
   "codemirror_mode": {
    "name": "ipython",
    "version": 3
   },
   "file_extension": ".py",
   "mimetype": "text/x-python",
   "name": "python",
   "nbconvert_exporter": "python",
   "pygments_lexer": "ipython3",
   "version": "3.9.7"
  }
 },
 "nbformat": 4,
 "nbformat_minor": 4
}
